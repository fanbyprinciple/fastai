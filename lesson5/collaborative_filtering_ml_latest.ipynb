{
  "nbformat": 4,
  "nbformat_minor": 0,
  "metadata": {
    "colab": {
      "name": "collaborative filtering ml_latest.ipynb",
      "provenance": []
    },
    "kernelspec": {
      "name": "python3",
      "display_name": "Python 3"
    },
    "accelerator": "GPU"
  },
  "cells": [
    {
      "cell_type": "code",
      "metadata": {
        "id": "Aqm0duNrh-B1",
        "colab_type": "code",
        "colab": {}
      },
      "source": [
        "from fastai.collab import *\n",
        "from fastai.tabular import *"
      ],
      "execution_count": 3,
      "outputs": []
    },
    {
      "cell_type": "markdown",
      "metadata": {
        "id": "OFIN-dUSi76u",
        "colab_type": "text"
      },
      "source": [
        "### Getting the data"
      ]
    },
    {
      "cell_type": "code",
      "metadata": {
        "id": "8jdBU-AVi1Ph",
        "colab_type": "code",
        "colab": {
          "base_uri": "https://localhost:8080/",
          "height": 850
        },
        "outputId": "2605f1ec-48f5-441d-e09a-166c2d92158f"
      },
      "source": [
        "!wget http://files.grouplens.org/datasets/movielens/ml-latest.zip -d {Config.data_path()}"
      ],
      "execution_count": 4,
      "outputs": [
        {
          "output_type": "stream",
          "text": [
            "DEBUG output created by Wget 1.19.4 on linux-gnu.\n",
            "\n",
            "Reading HSTS entries from /root/.wget-hsts\n",
            "URI encoding = ‘UTF-8’\n",
            "Converted file name 'ml-latest.zip' (UTF-8) -> 'ml-latest.zip' (UTF-8)\n",
            "--2020-08-31 13:41:59--  http://files.grouplens.org/datasets/movielens/ml-latest.zip\n",
            "Resolving files.grouplens.org (files.grouplens.org)... 128.101.65.152\n",
            "Caching files.grouplens.org => 128.101.65.152\n",
            "Connecting to files.grouplens.org (files.grouplens.org)|128.101.65.152|:80... connected.\n",
            "Created socket 3.\n",
            "Releasing 0x000055cab07023a0 (new refcount 1).\n",
            "\n",
            "---request begin---\n",
            "GET /datasets/movielens/ml-latest.zip HTTP/1.1\r\n",
            "User-Agent: Wget/1.19.4 (linux-gnu)\r\n",
            "Accept: */*\r\n",
            "Accept-Encoding: identity\r\n",
            "Host: files.grouplens.org\r\n",
            "Connection: Keep-Alive\r\n",
            "\r\n",
            "---request end---\n",
            "HTTP request sent, awaiting response... \n",
            "---response begin---\n",
            "HTTP/1.1 200 OK\r\n",
            "Date: Mon, 31 Aug 2020 13:41:59 GMT\r\n",
            "Server: Apache/2.4.6 (Red Hat Enterprise Linux) OpenSSL/1.0.2k-fips\r\n",
            "Last-Modified: Tue, 03 Dec 2019 17:15:37 GMT\r\n",
            "ETag: \"10846a59-598cfd8426696\"\r\n",
            "Accept-Ranges: bytes\r\n",
            "Content-Length: 277113433\r\n",
            "Keep-Alive: timeout=5, max=100\r\n",
            "Connection: Keep-Alive\r\n",
            "Content-Type: application/zip\r\n",
            "\r\n",
            "---response end---\n",
            "200 OK\n",
            "Registered socket 3 for persistent reuse.\n",
            "Length: 277113433 (264M) [application/zip]\n",
            "Saving to: ‘ml-latest.zip’\n",
            "\n",
            "ml-latest.zip       100%[===================>] 264.28M   116MB/s    in 2.3s    \n",
            "\n",
            "2020-08-31 13:42:01 (116 MB/s) - ‘ml-latest.zip’ saved [277113433/277113433]\n",
            "\n",
            "URI encoding = ‘UTF-8’\n",
            "/root/.fastai/data: Scheme missing.\n",
            "FINISHED --2020-08-31 13:42:01--\n",
            "Total wall clock time: 2.4s\n",
            "Downloaded: 1 files, 264M in 2.3s (116 MB/s)\n"
          ],
          "name": "stdout"
        }
      ]
    },
    {
      "cell_type": "code",
      "metadata": {
        "id": "M_bKzzSLjhf4",
        "colab_type": "code",
        "colab": {
          "base_uri": "https://localhost:8080/",
          "height": 170
        },
        "outputId": "a412c2c2-9029-43a0-e44f-e28703a81841"
      },
      "source": [
        "!unzip /content/ml-latest.zip -d {Config.data_path()}"
      ],
      "execution_count": 5,
      "outputs": [
        {
          "output_type": "stream",
          "text": [
            "Archive:  /content/ml-latest.zip\n",
            "   creating: /root/.fastai/data/ml-latest/\n",
            "  inflating: /root/.fastai/data/ml-latest/links.csv  \n",
            "  inflating: /root/.fastai/data/ml-latest/tags.csv  \n",
            "  inflating: /root/.fastai/data/ml-latest/genome-tags.csv  \n",
            "  inflating: /root/.fastai/data/ml-latest/ratings.csv  \n",
            "  inflating: /root/.fastai/data/ml-latest/README.txt  \n",
            "  inflating: /root/.fastai/data/ml-latest/genome-scores.csv  \n",
            "  inflating: /root/.fastai/data/ml-latest/movies.csv  \n"
          ],
          "name": "stdout"
        }
      ]
    },
    {
      "cell_type": "code",
      "metadata": {
        "id": "brJYc-T0jVHI",
        "colab_type": "code",
        "colab": {
          "base_uri": "https://localhost:8080/",
          "height": 51
        },
        "outputId": "b49cdbe1-c751-4085-c777-fb2de95943af"
      },
      "source": [
        "path = Config.data_path()/'ml-latest'\n",
        "!dir {path}"
      ],
      "execution_count": 6,
      "outputs": [
        {
          "output_type": "stream",
          "text": [
            "genome-scores.csv  links.csv   ratings.csv  tags.csv\n",
            "genome-tags.csv    movies.csv  README.txt\n"
          ],
          "name": "stdout"
        }
      ]
    },
    {
      "cell_type": "code",
      "metadata": {
        "id": "_B1I2Io0kJLF",
        "colab_type": "code",
        "colab": {}
      },
      "source": [
        "ratings = pd.read_csv(path/'ratings.csv')"
      ],
      "execution_count": 7,
      "outputs": []
    },
    {
      "cell_type": "code",
      "metadata": {
        "id": "Z_RHUXMxkwaR",
        "colab_type": "code",
        "colab": {
          "base_uri": "https://localhost:8080/",
          "height": 204
        },
        "outputId": "4827fd65-9978-45bf-9713-f8ab8209069c"
      },
      "source": [
        "ratings.head()"
      ],
      "execution_count": 8,
      "outputs": [
        {
          "output_type": "execute_result",
          "data": {
            "text/html": [
              "<div>\n",
              "<style scoped>\n",
              "    .dataframe tbody tr th:only-of-type {\n",
              "        vertical-align: middle;\n",
              "    }\n",
              "\n",
              "    .dataframe tbody tr th {\n",
              "        vertical-align: top;\n",
              "    }\n",
              "\n",
              "    .dataframe thead th {\n",
              "        text-align: right;\n",
              "    }\n",
              "</style>\n",
              "<table border=\"1\" class=\"dataframe\">\n",
              "  <thead>\n",
              "    <tr style=\"text-align: right;\">\n",
              "      <th></th>\n",
              "      <th>userId</th>\n",
              "      <th>movieId</th>\n",
              "      <th>rating</th>\n",
              "      <th>timestamp</th>\n",
              "    </tr>\n",
              "  </thead>\n",
              "  <tbody>\n",
              "    <tr>\n",
              "      <th>0</th>\n",
              "      <td>1</td>\n",
              "      <td>307</td>\n",
              "      <td>3.5</td>\n",
              "      <td>1256677221</td>\n",
              "    </tr>\n",
              "    <tr>\n",
              "      <th>1</th>\n",
              "      <td>1</td>\n",
              "      <td>481</td>\n",
              "      <td>3.5</td>\n",
              "      <td>1256677456</td>\n",
              "    </tr>\n",
              "    <tr>\n",
              "      <th>2</th>\n",
              "      <td>1</td>\n",
              "      <td>1091</td>\n",
              "      <td>1.5</td>\n",
              "      <td>1256677471</td>\n",
              "    </tr>\n",
              "    <tr>\n",
              "      <th>3</th>\n",
              "      <td>1</td>\n",
              "      <td>1257</td>\n",
              "      <td>4.5</td>\n",
              "      <td>1256677460</td>\n",
              "    </tr>\n",
              "    <tr>\n",
              "      <th>4</th>\n",
              "      <td>1</td>\n",
              "      <td>1449</td>\n",
              "      <td>4.5</td>\n",
              "      <td>1256677264</td>\n",
              "    </tr>\n",
              "  </tbody>\n",
              "</table>\n",
              "</div>"
            ],
            "text/plain": [
              "   userId  movieId  rating   timestamp\n",
              "0       1      307     3.5  1256677221\n",
              "1       1      481     3.5  1256677456\n",
              "2       1     1091     1.5  1256677471\n",
              "3       1     1257     4.5  1256677460\n",
              "4       1     1449     4.5  1256677264"
            ]
          },
          "metadata": {
            "tags": []
          },
          "execution_count": 8
        }
      ]
    },
    {
      "cell_type": "code",
      "metadata": {
        "id": "twJB2DPFk8eG",
        "colab_type": "code",
        "colab": {}
      },
      "source": [
        "movies = pd.read_csv(path/'movies.csv')"
      ],
      "execution_count": 9,
      "outputs": []
    },
    {
      "cell_type": "code",
      "metadata": {
        "id": "CyAK5xtjlIfp",
        "colab_type": "code",
        "colab": {
          "base_uri": "https://localhost:8080/",
          "height": 204
        },
        "outputId": "06ed99dd-85a8-4729-c1db-ca70393a9b8a"
      },
      "source": [
        "movies.head()"
      ],
      "execution_count": 10,
      "outputs": [
        {
          "output_type": "execute_result",
          "data": {
            "text/html": [
              "<div>\n",
              "<style scoped>\n",
              "    .dataframe tbody tr th:only-of-type {\n",
              "        vertical-align: middle;\n",
              "    }\n",
              "\n",
              "    .dataframe tbody tr th {\n",
              "        vertical-align: top;\n",
              "    }\n",
              "\n",
              "    .dataframe thead th {\n",
              "        text-align: right;\n",
              "    }\n",
              "</style>\n",
              "<table border=\"1\" class=\"dataframe\">\n",
              "  <thead>\n",
              "    <tr style=\"text-align: right;\">\n",
              "      <th></th>\n",
              "      <th>movieId</th>\n",
              "      <th>title</th>\n",
              "      <th>genres</th>\n",
              "    </tr>\n",
              "  </thead>\n",
              "  <tbody>\n",
              "    <tr>\n",
              "      <th>0</th>\n",
              "      <td>1</td>\n",
              "      <td>Toy Story (1995)</td>\n",
              "      <td>Adventure|Animation|Children|Comedy|Fantasy</td>\n",
              "    </tr>\n",
              "    <tr>\n",
              "      <th>1</th>\n",
              "      <td>2</td>\n",
              "      <td>Jumanji (1995)</td>\n",
              "      <td>Adventure|Children|Fantasy</td>\n",
              "    </tr>\n",
              "    <tr>\n",
              "      <th>2</th>\n",
              "      <td>3</td>\n",
              "      <td>Grumpier Old Men (1995)</td>\n",
              "      <td>Comedy|Romance</td>\n",
              "    </tr>\n",
              "    <tr>\n",
              "      <th>3</th>\n",
              "      <td>4</td>\n",
              "      <td>Waiting to Exhale (1995)</td>\n",
              "      <td>Comedy|Drama|Romance</td>\n",
              "    </tr>\n",
              "    <tr>\n",
              "      <th>4</th>\n",
              "      <td>5</td>\n",
              "      <td>Father of the Bride Part II (1995)</td>\n",
              "      <td>Comedy</td>\n",
              "    </tr>\n",
              "  </tbody>\n",
              "</table>\n",
              "</div>"
            ],
            "text/plain": [
              "   movieId  ...                                       genres\n",
              "0        1  ...  Adventure|Animation|Children|Comedy|Fantasy\n",
              "1        2  ...                   Adventure|Children|Fantasy\n",
              "2        3  ...                               Comedy|Romance\n",
              "3        4  ...                         Comedy|Drama|Romance\n",
              "4        5  ...                                       Comedy\n",
              "\n",
              "[5 rows x 3 columns]"
            ]
          },
          "metadata": {
            "tags": []
          },
          "execution_count": 10
        }
      ]
    },
    {
      "cell_type": "code",
      "metadata": {
        "id": "PShMwtXYlKGo",
        "colab_type": "code",
        "colab": {}
      },
      "source": [
        "rating_movie = ratings.merge(movies[['movieId','title']])\n",
        "## we were required to give movieId because that will be the foreign key for merge"
      ],
      "execution_count": 11,
      "outputs": []
    },
    {
      "cell_type": "code",
      "metadata": {
        "id": "0SFr5-eYla1o",
        "colab_type": "code",
        "colab": {
          "base_uri": "https://localhost:8080/",
          "height": 204
        },
        "outputId": "93becd33-254f-423d-e254-d72abb585d25"
      },
      "source": [
        "rating_movie.head()"
      ],
      "execution_count": 12,
      "outputs": [
        {
          "output_type": "execute_result",
          "data": {
            "text/html": [
              "<div>\n",
              "<style scoped>\n",
              "    .dataframe tbody tr th:only-of-type {\n",
              "        vertical-align: middle;\n",
              "    }\n",
              "\n",
              "    .dataframe tbody tr th {\n",
              "        vertical-align: top;\n",
              "    }\n",
              "\n",
              "    .dataframe thead th {\n",
              "        text-align: right;\n",
              "    }\n",
              "</style>\n",
              "<table border=\"1\" class=\"dataframe\">\n",
              "  <thead>\n",
              "    <tr style=\"text-align: right;\">\n",
              "      <th></th>\n",
              "      <th>userId</th>\n",
              "      <th>movieId</th>\n",
              "      <th>rating</th>\n",
              "      <th>timestamp</th>\n",
              "      <th>title</th>\n",
              "    </tr>\n",
              "  </thead>\n",
              "  <tbody>\n",
              "    <tr>\n",
              "      <th>0</th>\n",
              "      <td>1</td>\n",
              "      <td>307</td>\n",
              "      <td>3.5</td>\n",
              "      <td>1256677221</td>\n",
              "      <td>Three Colors: Blue (Trois couleurs: Bleu) (1993)</td>\n",
              "    </tr>\n",
              "    <tr>\n",
              "      <th>1</th>\n",
              "      <td>6</td>\n",
              "      <td>307</td>\n",
              "      <td>4.0</td>\n",
              "      <td>832059248</td>\n",
              "      <td>Three Colors: Blue (Trois couleurs: Bleu) (1993)</td>\n",
              "    </tr>\n",
              "    <tr>\n",
              "      <th>2</th>\n",
              "      <td>56</td>\n",
              "      <td>307</td>\n",
              "      <td>4.0</td>\n",
              "      <td>1383625728</td>\n",
              "      <td>Three Colors: Blue (Trois couleurs: Bleu) (1993)</td>\n",
              "    </tr>\n",
              "    <tr>\n",
              "      <th>3</th>\n",
              "      <td>71</td>\n",
              "      <td>307</td>\n",
              "      <td>5.0</td>\n",
              "      <td>1257795414</td>\n",
              "      <td>Three Colors: Blue (Trois couleurs: Bleu) (1993)</td>\n",
              "    </tr>\n",
              "    <tr>\n",
              "      <th>4</th>\n",
              "      <td>84</td>\n",
              "      <td>307</td>\n",
              "      <td>3.0</td>\n",
              "      <td>999055519</td>\n",
              "      <td>Three Colors: Blue (Trois couleurs: Bleu) (1993)</td>\n",
              "    </tr>\n",
              "  </tbody>\n",
              "</table>\n",
              "</div>"
            ],
            "text/plain": [
              "   userId  ...                                             title\n",
              "0       1  ...  Three Colors: Blue (Trois couleurs: Bleu) (1993)\n",
              "1       6  ...  Three Colors: Blue (Trois couleurs: Bleu) (1993)\n",
              "2      56  ...  Three Colors: Blue (Trois couleurs: Bleu) (1993)\n",
              "3      71  ...  Three Colors: Blue (Trois couleurs: Bleu) (1993)\n",
              "4      84  ...  Three Colors: Blue (Trois couleurs: Bleu) (1993)\n",
              "\n",
              "[5 rows x 5 columns]"
            ]
          },
          "metadata": {
            "tags": []
          },
          "execution_count": 12
        }
      ]
    },
    {
      "cell_type": "code",
      "metadata": {
        "id": "uz9vs_o2mOoz",
        "colab_type": "code",
        "colab": {
          "base_uri": "https://localhost:8080/",
          "height": 204
        },
        "outputId": "483aaf5f-bf21-4142-c1ad-5f22a72a0fb8"
      },
      "source": [
        "rating_movie.tail()"
      ],
      "execution_count": 13,
      "outputs": [
        {
          "output_type": "execute_result",
          "data": {
            "text/html": [
              "<div>\n",
              "<style scoped>\n",
              "    .dataframe tbody tr th:only-of-type {\n",
              "        vertical-align: middle;\n",
              "    }\n",
              "\n",
              "    .dataframe tbody tr th {\n",
              "        vertical-align: top;\n",
              "    }\n",
              "\n",
              "    .dataframe thead th {\n",
              "        text-align: right;\n",
              "    }\n",
              "</style>\n",
              "<table border=\"1\" class=\"dataframe\">\n",
              "  <thead>\n",
              "    <tr style=\"text-align: right;\">\n",
              "      <th></th>\n",
              "      <th>userId</th>\n",
              "      <th>movieId</th>\n",
              "      <th>rating</th>\n",
              "      <th>timestamp</th>\n",
              "      <th>title</th>\n",
              "    </tr>\n",
              "  </thead>\n",
              "  <tbody>\n",
              "    <tr>\n",
              "      <th>27753439</th>\n",
              "      <td>282403</td>\n",
              "      <td>167894</td>\n",
              "      <td>1.0</td>\n",
              "      <td>1524243885</td>\n",
              "      <td>Stranglehold (1994)</td>\n",
              "    </tr>\n",
              "    <tr>\n",
              "      <th>27753440</th>\n",
              "      <td>282732</td>\n",
              "      <td>161572</td>\n",
              "      <td>3.5</td>\n",
              "      <td>1504408070</td>\n",
              "      <td>The Great Houdini (1976)</td>\n",
              "    </tr>\n",
              "    <tr>\n",
              "      <th>27753441</th>\n",
              "      <td>283000</td>\n",
              "      <td>117857</td>\n",
              "      <td>3.5</td>\n",
              "      <td>1417317969</td>\n",
              "      <td>Hotline (2014)</td>\n",
              "    </tr>\n",
              "    <tr>\n",
              "      <th>27753442</th>\n",
              "      <td>283000</td>\n",
              "      <td>133409</td>\n",
              "      <td>3.5</td>\n",
              "      <td>1431539331</td>\n",
              "      <td>Barnum! (1986)</td>\n",
              "    </tr>\n",
              "    <tr>\n",
              "      <th>27753443</th>\n",
              "      <td>283000</td>\n",
              "      <td>142855</td>\n",
              "      <td>3.5</td>\n",
              "      <td>1442889934</td>\n",
              "      <td>Paul Taylor Creative Domain (2014)</td>\n",
              "    </tr>\n",
              "  </tbody>\n",
              "</table>\n",
              "</div>"
            ],
            "text/plain": [
              "          userId  movieId  ...   timestamp                               title\n",
              "27753439  282403   167894  ...  1524243885                 Stranglehold (1994)\n",
              "27753440  282732   161572  ...  1504408070            The Great Houdini (1976)\n",
              "27753441  283000   117857  ...  1417317969                      Hotline (2014)\n",
              "27753442  283000   133409  ...  1431539331                      Barnum! (1986)\n",
              "27753443  283000   142855  ...  1442889934  Paul Taylor Creative Domain (2014)\n",
              "\n",
              "[5 rows x 5 columns]"
            ]
          },
          "metadata": {
            "tags": []
          },
          "execution_count": 13
        }
      ]
    },
    {
      "cell_type": "markdown",
      "metadata": {
        "id": "KrHIxji8me1v",
        "colab_type": "text"
      },
      "source": [
        "### Creating Databunch object"
      ]
    },
    {
      "cell_type": "code",
      "metadata": {
        "id": "3mT1LD45mXki",
        "colab_type": "code",
        "colab": {}
      },
      "source": [
        "data = CollabDataBunch.from_df(rating_movie, seed=42, valid_pct=0.1, item_name='title')\n",
        "# in original notebook everywhere title was usedwithout quotes\n",
        "# doesnt work here whats the deal"
      ],
      "execution_count": 14,
      "outputs": []
    },
    {
      "cell_type": "code",
      "metadata": {
        "id": "w-3FxqN8nQEG",
        "colab_type": "code",
        "colab": {
          "base_uri": "https://localhost:8080/",
          "height": 204
        },
        "outputId": "883a33ec-2a75-45d0-d947-138d1b86db0d"
      },
      "source": [
        "data.show_batch()"
      ],
      "execution_count": 15,
      "outputs": [
        {
          "output_type": "display_data",
          "data": {
            "text/html": [
              "<table border=\"1\" class=\"dataframe\">\n",
              "  <thead>\n",
              "    <tr style=\"text-align: right;\">\n",
              "      <th>userId</th>\n",
              "      <th>title</th>\n",
              "      <th>target</th>\n",
              "    </tr>\n",
              "  </thead>\n",
              "  <tbody>\n",
              "    <tr>\n",
              "      <td>234157</td>\n",
              "      <td>My Best Friend's Wedding (1997)</td>\n",
              "      <td>3.0</td>\n",
              "    </tr>\n",
              "    <tr>\n",
              "      <td>256458</td>\n",
              "      <td>Tomorrow Never Dies (1997)</td>\n",
              "      <td>2.0</td>\n",
              "    </tr>\n",
              "    <tr>\n",
              "      <td>47840</td>\n",
              "      <td>Big Nothing (2006)</td>\n",
              "      <td>4.0</td>\n",
              "    </tr>\n",
              "    <tr>\n",
              "      <td>96771</td>\n",
              "      <td>Joe Versus the Volcano (1990)</td>\n",
              "      <td>2.0</td>\n",
              "    </tr>\n",
              "    <tr>\n",
              "      <td>49878</td>\n",
              "      <td>View to a Kill, A (1985)</td>\n",
              "      <td>4.5</td>\n",
              "    </tr>\n",
              "  </tbody>\n",
              "</table>"
            ],
            "text/plain": [
              "<IPython.core.display.HTML object>"
            ]
          },
          "metadata": {
            "tags": []
          }
        }
      ]
    },
    {
      "cell_type": "markdown",
      "metadata": {
        "id": "cp53VUqLndA3",
        "colab_type": "text"
      },
      "source": [
        "### Colab learner"
      ]
    },
    {
      "cell_type": "code",
      "metadata": {
        "id": "6zT_JtCWnS5L",
        "colab_type": "code",
        "colab": {}
      },
      "source": [
        "y_range = [0,5.5] # jeremy tactics for the win!"
      ],
      "execution_count": 16,
      "outputs": []
    },
    {
      "cell_type": "code",
      "metadata": {
        "id": "NghPEr5YnhxP",
        "colab_type": "code",
        "colab": {}
      },
      "source": [
        "learn = collab_learner(data, n_factors=40, y_range=y_range, wd=1e-1)"
      ],
      "execution_count": 17,
      "outputs": []
    },
    {
      "cell_type": "markdown",
      "metadata": {
        "id": "-hJiAC2On-wn",
        "colab_type": "text"
      },
      "source": [
        "### finding the learning rate"
      ]
    },
    {
      "cell_type": "code",
      "metadata": {
        "id": "JlG8dUZon7yH",
        "colab_type": "code",
        "colab": {
          "base_uri": "https://localhost:8080/",
          "height": 112
        },
        "outputId": "0d970df5-734b-4bb9-fe68-e6b70cc985b5"
      },
      "source": [
        "learn.lr_find()"
      ],
      "execution_count": 18,
      "outputs": [
        {
          "output_type": "display_data",
          "data": {
            "text/html": [
              "\n",
              "    <div>\n",
              "        <style>\n",
              "            /* Turns off some styling */\n",
              "            progress {\n",
              "                /* gets rid of default border in Firefox and Opera. */\n",
              "                border: none;\n",
              "                /* Needs to be in here for Safari polyfill so background images work as expected. */\n",
              "                background-size: auto;\n",
              "            }\n",
              "            .progress-bar-interrupted, .progress-bar-interrupted::-webkit-progress-bar {\n",
              "                background: #F44336;\n",
              "            }\n",
              "        </style>\n",
              "      <progress value='0' class='' max='1' style='width:300px; height:20px; vertical-align: middle;'></progress>\n",
              "      0.00% [0/1 00:00<00:00]\n",
              "    </div>\n",
              "    \n",
              "<table border=\"1\" class=\"dataframe\">\n",
              "  <thead>\n",
              "    <tr style=\"text-align: left;\">\n",
              "      <th>epoch</th>\n",
              "      <th>train_loss</th>\n",
              "      <th>valid_loss</th>\n",
              "      <th>time</th>\n",
              "    </tr>\n",
              "  </thead>\n",
              "  <tbody>\n",
              "  </tbody>\n",
              "</table><p>\n",
              "\n",
              "    <div>\n",
              "        <style>\n",
              "            /* Turns off some styling */\n",
              "            progress {\n",
              "                /* gets rid of default border in Firefox and Opera. */\n",
              "                border: none;\n",
              "                /* Needs to be in here for Safari polyfill so background images work as expected. */\n",
              "                background-size: auto;\n",
              "            }\n",
              "            .progress-bar-interrupted, .progress-bar-interrupted::-webkit-progress-bar {\n",
              "                background: #F44336;\n",
              "            }\n",
              "        </style>\n",
              "      <progress value='98' class='' max='390282' style='width:300px; height:20px; vertical-align: middle;'></progress>\n",
              "      0.03% [98/390282 00:04<5:00:49 1.7414]\n",
              "    </div>\n",
              "    "
            ],
            "text/plain": [
              "<IPython.core.display.HTML object>"
            ]
          },
          "metadata": {
            "tags": []
          }
        },
        {
          "output_type": "stream",
          "text": [
            "LR Finder is complete, type {learner_name}.recorder.plot() to see the graph.\n"
          ],
          "name": "stdout"
        }
      ]
    },
    {
      "cell_type": "code",
      "metadata": {
        "id": "H1ngtbWcrREh",
        "colab_type": "code",
        "colab": {
          "base_uri": "https://localhost:8080/",
          "height": 279
        },
        "outputId": "c327778f-955c-4c23-ab3a-7933c9d75792"
      },
      "source": [
        "learn.recorder.plot(skip_end=15)"
      ],
      "execution_count": 19,
      "outputs": [
        {
          "output_type": "display_data",
          "data": {
            "image/png": "[encoded data removed]",
            "text/plain": [
              "<Figure size 432x288 with 1 Axes>"
            ]
          },
          "metadata": {
            "tags": [],
            "needs_background": "light"
          }
        }
      ]
    },
    {
      "cell_type": "code",
      "metadata": {
        "id": "-dXbXc2-rXSi",
        "colab_type": "code",
        "colab": {
          "base_uri": "https://localhost:8080/",
          "height": 95
        },
        "outputId": "ebb91f5b-e0fd-47a7-acb1-4cb1c0f154f7"
      },
      "source": [
        "learn.fit_one_cycle(5, 5e-3)"
      ],
      "execution_count": null,
      "outputs": [
        {
          "output_type": "display_data",
          "data": {
            "text/html": [
              "\n",
              "    <div>\n",
              "        <style>\n",
              "            /* Turns off some styling */\n",
              "            progress {\n",
              "                /* gets rid of default border in Firefox and Opera. */\n",
              "                border: none;\n",
              "                /* Needs to be in here for Safari polyfill so background images work as expected. */\n",
              "                background-size: auto;\n",
              "            }\n",
              "            .progress-bar-interrupted, .progress-bar-interrupted::-webkit-progress-bar {\n",
              "                background: #F44336;\n",
              "            }\n",
              "        </style>\n",
              "      <progress value='0' class='' max='5' style='width:300px; height:20px; vertical-align: middle;'></progress>\n",
              "      0.00% [0/5 00:00<00:00]\n",
              "    </div>\n",
              "    \n",
              "<table border=\"1\" class=\"dataframe\">\n",
              "  <thead>\n",
              "    <tr style=\"text-align: left;\">\n",
              "      <th>epoch</th>\n",
              "      <th>train_loss</th>\n",
              "      <th>valid_loss</th>\n",
              "      <th>time</th>\n",
              "    </tr>\n",
              "  </thead>\n",
              "  <tbody>\n",
              "  </tbody>\n",
              "</table><p>\n",
              "\n",
              "    <div>\n",
              "        <style>\n",
              "            /* Turns off some styling */\n",
              "            progress {\n",
              "                /* gets rid of default border in Firefox and Opera. */\n",
              "                border: none;\n",
              "                /* Needs to be in here for Safari polyfill so background images work as expected. */\n",
              "                background-size: auto;\n",
              "            }\n",
              "            .progress-bar-interrupted, .progress-bar-interrupted::-webkit-progress-bar {\n",
              "                background: #F44336;\n",
              "            }\n",
              "        </style>\n",
              "      <progress value='140998' class='' max='390282' style='width:300px; height:20px; vertical-align: middle;'></progress>\n",
              "      36.13% [140998/390282 32:43<57:51 0.9781]\n",
              "    </div>\n",
              "    "
            ],
            "text/plain": [
              "<IPython.core.display.HTML object>"
            ]
          },
          "metadata": {
            "tags": []
          }
        }
      ]
    },
    {
      "cell_type": "code",
      "metadata": {
        "id": "lP-fIvAyroMx",
        "colab_type": "code",
        "colab": {}
      },
      "source": [
        "learn.save('dotprod')"
      ],
      "execution_count": null,
      "outputs": []
    },
    {
      "cell_type": "code",
      "metadata": {
        "id": "_s-Ii7drzP45",
        "colab_type": "code",
        "colab": {}
      },
      "source": [
        "learn.export('movielens.pkl')"
      ],
      "execution_count": null,
      "outputs": []
    },
    {
      "cell_type": "markdown",
      "metadata": {
        "id": "y1DlXFqYwWPs",
        "colab_type": "text"
      },
      "source": [
        "### Interpretation"
      ]
    },
    {
      "cell_type": "code",
      "metadata": {
        "id": "q8MYl9StruJL",
        "colab_type": "code",
        "colab": {}
      },
      "source": [
        "g = rating_movie.groupby(title)['rating'].count()\n",
        "top_movies = g.sort_values(ascending=False).index.values[:1000]\n",
        "top_movies[:10]"
      ],
      "execution_count": null,
      "outputs": []
    },
    {
      "cell_type": "markdown",
      "metadata": {
        "id": "EF0C-k66zkn2",
        "colab_type": "text"
      },
      "source": [
        "### Movie bias"
      ]
    },
    {
      "cell_type": "code",
      "metadata": {
        "id": "huA5GCOHwYy7",
        "colab_type": "code",
        "colab": {}
      },
      "source": [
        "movie_bias = learn.bias(top_movies, is_item=True)\n",
        "movie_bias.shape"
      ],
      "execution_count": null,
      "outputs": []
    },
    {
      "cell_type": "code",
      "metadata": {
        "id": "GHi7rzmrzwPP",
        "colab_type": "code",
        "colab": {}
      },
      "source": [
        "mean_ratings = rating_movie.groupby('title')['rating'].mean()"
      ],
      "execution_count": null,
      "outputs": []
    },
    {
      "cell_type": "code",
      "metadata": {
        "id": "-UFi-Qrx0GWH",
        "colab_type": "code",
        "colab": {}
      },
      "source": [
        "movie_ratings = [(b, i, mean_ratings.loc[i]) for i,b in zip(top_movies, movie_bias)]"
      ],
      "execution_count": null,
      "outputs": []
    },
    {
      "cell_type": "code",
      "metadata": {
        "id": "peIQdCXy0Yw7",
        "colab_type": "code",
        "colab": {}
      },
      "source": [
        "item0= lambda o:o[0]"
      ],
      "execution_count": null,
      "outputs": []
    },
    {
      "cell_type": "code",
      "metadata": {
        "id": "xm_MKi4E0dz_",
        "colab_type": "code",
        "colab": {}
      },
      "source": [
        "sorted(movie_ratings, key=item0)[:15]"
      ],
      "execution_count": null,
      "outputs": []
    },
    {
      "cell_type": "code",
      "metadata": {
        "id": "qyWkxj7n0nUe",
        "colab_type": "code",
        "colab": {}
      },
      "source": [
        "sorted(movie_ratings,key=item0, reverse=True)"
      ],
      "execution_count": null,
      "outputs": []
    },
    {
      "cell_type": "markdown",
      "metadata": {
        "id": "cbUdMP8c04ML",
        "colab_type": "text"
      },
      "source": [
        "### Movie weights"
      ]
    },
    {
      "cell_type": "code",
      "metadata": {
        "id": "vjovMqyn00Zk",
        "colab_type": "code",
        "colab": {}
      },
      "source": [
        "movie_w = learn.weight(top_movies, is_item=True)\n",
        "movie_w.shape"
      ],
      "execution_count": null,
      "outputs": []
    },
    {
      "cell_type": "code",
      "metadata": {
        "id": "xPpBdlBv1Do0",
        "colab_type": "code",
        "colab": {}
      },
      "source": [
        "movie_pca = movie_w.pca(4)\n",
        "movie_pca.shape"
      ],
      "execution_count": null,
      "outputs": []
    },
    {
      "cell_type": "code",
      "metadata": {
        "id": "WhPjKsTu1YAk",
        "colab_type": "code",
        "colab": {}
      },
      "source": [
        "fa0, fa1, fa2, fa3 = movie_pca.t()\n"
      ],
      "execution_count": null,
      "outputs": []
    },
    {
      "cell_type": "code",
      "metadata": {
        "id": "lAa8-ZV619Qz",
        "colab_type": "code",
        "colab": {}
      },
      "source": [
        "movie_comp_0 = [(f, i) for f, i in zip(fa0, top_movies)]\n",
        "movie_comp_1 = [(f, i) for f, i in zip(fa1, top_movies)]\n",
        "movie_comp_2 = [(f, i) for f, i in zip(fa2, top_movies)]\n",
        "movie_comp_3 = [(f, i) for f, i in zip(fa3, top_movies)]\n"
      ],
      "execution_count": null,
      "outputs": []
    },
    {
      "cell_type": "code",
      "metadata": {
        "id": "3QSRYVHS2WTR",
        "colab_type": "code",
        "colab": {}
      },
      "source": [
        "sorted(movie_comp_0, key=itemgetter(0))[:10]"
      ],
      "execution_count": null,
      "outputs": []
    },
    {
      "cell_type": "code",
      "metadata": {
        "id": "_Wkzn0zo2mma",
        "colab_type": "code",
        "colab": {}
      },
      "source": [
        "sorted(movie_comp_1, key=itemgetter(0))[:10]\n"
      ],
      "execution_count": null,
      "outputs": []
    },
    {
      "cell_type": "code",
      "metadata": {
        "id": "epvUp-mc2rEK",
        "colab_type": "code",
        "colab": {}
      },
      "source": [
        "sorted(movie_comp_2, key=itemgetter(0))[:10]\n"
      ],
      "execution_count": null,
      "outputs": []
    },
    {
      "cell_type": "code",
      "metadata": {
        "id": "oGoTI33c2t2h",
        "colab_type": "code",
        "colab": {}
      },
      "source": [
        "sorted(movie_comp_3, key=itemgetter(0))[:10]\n"
      ],
      "execution_count": null,
      "outputs": []
    },
    {
      "cell_type": "code",
      "metadata": {
        "id": "daYmdwXM2v2z",
        "colab_type": "code",
        "colab": {}
      },
      "source": [
        "sorted(movie_comp_0, key=itemgetter(0), reverse=True)[:10]\n"
      ],
      "execution_count": null,
      "outputs": []
    },
    {
      "cell_type": "code",
      "metadata": {
        "id": "71LTdc9L2zI9",
        "colab_type": "code",
        "colab": {}
      },
      "source": [
        "sorted(movie_comp_1, key=itemgetter(0), reverse=True)[:10]\n"
      ],
      "execution_count": null,
      "outputs": []
    },
    {
      "cell_type": "code",
      "metadata": {
        "id": "H-EB4_oE2167",
        "colab_type": "code",
        "colab": {}
      },
      "source": [
        "sorted(movie_comp_2, key=itemgetter(0), reverse=True)[:10]\n"
      ],
      "execution_count": null,
      "outputs": []
    },
    {
      "cell_type": "code",
      "metadata": {
        "id": "nK3jyogA22kL",
        "colab_type": "code",
        "colab": {}
      },
      "source": [
        "sorted(movie_comp_3, key=itemgetter(0), reverse=True)[:10]\n"
      ],
      "execution_count": null,
      "outputs": []
    },
    {
      "cell_type": "code",
      "metadata": {
        "id": "lSMOBfeV28SX",
        "colab_type": "code",
        "colab": {}
      },
      "source": [
        "idxs = np.random.choice(len(top_movies), 50, replace=False)\n",
        "idxs = list(range(50))\n",
        "X = fa3[idxs]\n",
        "Y = fa4[idxs]\n",
        "plt.figure(figsize=(15,15))\n",
        "plt.scatter(X,Y)\n",
        "\n",
        "for i, x, y in zip(top_movies[idxs], X, Y):\n",
        "  plt.text(x,y,i,color=np.random.rand(3)*0.7, fontsize=11)\n",
        "plt.show()\n"
      ],
      "execution_count": null,
      "outputs": []
    }
  ]
}