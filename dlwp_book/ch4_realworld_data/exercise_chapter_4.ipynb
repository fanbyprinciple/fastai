{
  "nbformat": 4,
  "nbformat_minor": 0,
  "metadata": {
    "colab": {
      "name": "exercise chapter 4",
      "provenance": []
    },
    "kernelspec": {
      "name": "python3",
      "display_name": "Python 3"
    }
  },
  "cells": [
    {
      "cell_type": "markdown",
      "metadata": {
        "id": "5k4H9TLzpldq"
      },
      "source": [
        "## Exercise 1"
      ]
    },
    {
      "cell_type": "markdown",
      "metadata": {
        "id": "-X4bq-NeiX_d"
      },
      "source": [
        "Take several pictures of red, blue, and green items with your phone or other digital camera (or download some from the internet, if a camera isn’t available)."
      ]
    },
    {
      "cell_type": "code",
      "metadata": {
        "colab": {
          "base_uri": "https://localhost:8080/"
        },
        "id": "z7qziu67hTYu",
        "outputId": "b77decb8-db36-40ad-f272-f7ee87609964"
      },
      "source": [
        "import imageio\r\n",
        "\r\n",
        "im = imageio.imread('biege.jpeg')\r\n",
        "print(im.shape)\r\n"
      ],
      "execution_count": 8,
      "outputs": [
        {
          "output_type": "stream",
          "text": [
            "(1156, 867, 3)\n"
          ],
          "name": "stdout"
        }
      ]
    },
    {
      "cell_type": "code",
      "metadata": {
        "colab": {
          "base_uri": "https://localhost:8080/"
        },
        "id": "QLNEBPG6hoXn",
        "outputId": "24856d95-719c-4e60-996c-4cfb27739fa8"
      },
      "source": [
        "im"
      ],
      "execution_count": 9,
      "outputs": [
        {
          "output_type": "execute_result",
          "data": {
            "text/plain": [
              "Array([[[133, 133, 131],\n",
              "        [133, 133, 131],\n",
              "        [133, 133, 131],\n",
              "        ...,\n",
              "        [140, 140, 138],\n",
              "        [140, 140, 138],\n",
              "        [140, 140, 138]],\n",
              "\n",
              "       [[133, 133, 131],\n",
              "        [133, 133, 131],\n",
              "        [133, 133, 131],\n",
              "        ...,\n",
              "        [140, 140, 138],\n",
              "        [140, 140, 138],\n",
              "        [140, 140, 138]],\n",
              "\n",
              "       [[133, 133, 131],\n",
              "        [133, 133, 131],\n",
              "        [133, 133, 131],\n",
              "        ...,\n",
              "        [141, 141, 139],\n",
              "        [141, 141, 139],\n",
              "        [141, 141, 139]],\n",
              "\n",
              "       ...,\n",
              "\n",
              "       [[105, 111, 109],\n",
              "        [113, 119, 117],\n",
              "        [113, 117, 116],\n",
              "        ...,\n",
              "        [109, 110, 105],\n",
              "        [109, 110, 105],\n",
              "        [109, 110, 105]],\n",
              "\n",
              "       [[105, 111, 109],\n",
              "        [114, 120, 118],\n",
              "        [113, 117, 116],\n",
              "        ...,\n",
              "        [108, 109, 104],\n",
              "        [108, 109, 104],\n",
              "        [108, 109, 104]],\n",
              "\n",
              "       [[106, 112, 110],\n",
              "        [115, 121, 119],\n",
              "        [114, 118, 117],\n",
              "        ...,\n",
              "        [107, 108, 103],\n",
              "        [107, 108, 103],\n",
              "        [107, 108, 103]]], dtype=uint8)"
            ]
          },
          "metadata": {
            "tags": []
          },
          "execution_count": 9
        }
      ]
    },
    {
      "cell_type": "markdown",
      "metadata": {
        "id": "kvQn9a2Vie-j"
      },
      "source": [
        "Load each image, and convert it to a tensor."
      ]
    },
    {
      "cell_type": "code",
      "metadata": {
        "id": "W1m3eczniE7U"
      },
      "source": [
        "import torch\r\n",
        "im_tensor = torch.from_numpy(im)"
      ],
      "execution_count": 10,
      "outputs": []
    },
    {
      "cell_type": "code",
      "metadata": {
        "colab": {
          "base_uri": "https://localhost:8080/"
        },
        "id": "Dd2rwu-iiOy4",
        "outputId": "f2e5d267-4088-46e3-a5eb-ca8105d5bd3d"
      },
      "source": [
        "type(im_tensor)"
      ],
      "execution_count": 11,
      "outputs": [
        {
          "output_type": "execute_result",
          "data": {
            "text/plain": [
              "torch.Tensor"
            ]
          },
          "metadata": {
            "tags": []
          },
          "execution_count": 11
        }
      ]
    },
    {
      "cell_type": "code",
      "metadata": {
        "colab": {
          "base_uri": "https://localhost:8080/"
        },
        "id": "-zIzBWK3iRv1",
        "outputId": "0e02e754-4685-42bc-c653-9b045e61afa9"
      },
      "source": [
        "im_tensor"
      ],
      "execution_count": 12,
      "outputs": [
        {
          "output_type": "execute_result",
          "data": {
            "text/plain": [
              "tensor([[[133, 133, 131],\n",
              "         [133, 133, 131],\n",
              "         [133, 133, 131],\n",
              "         ...,\n",
              "         [140, 140, 138],\n",
              "         [140, 140, 138],\n",
              "         [140, 140, 138]],\n",
              "\n",
              "        [[133, 133, 131],\n",
              "         [133, 133, 131],\n",
              "         [133, 133, 131],\n",
              "         ...,\n",
              "         [140, 140, 138],\n",
              "         [140, 140, 138],\n",
              "         [140, 140, 138]],\n",
              "\n",
              "        [[133, 133, 131],\n",
              "         [133, 133, 131],\n",
              "         [133, 133, 131],\n",
              "         ...,\n",
              "         [141, 141, 139],\n",
              "         [141, 141, 139],\n",
              "         [141, 141, 139]],\n",
              "\n",
              "        ...,\n",
              "\n",
              "        [[105, 111, 109],\n",
              "         [113, 119, 117],\n",
              "         [113, 117, 116],\n",
              "         ...,\n",
              "         [109, 110, 105],\n",
              "         [109, 110, 105],\n",
              "         [109, 110, 105]],\n",
              "\n",
              "        [[105, 111, 109],\n",
              "         [114, 120, 118],\n",
              "         [113, 117, 116],\n",
              "         ...,\n",
              "         [108, 109, 104],\n",
              "         [108, 109, 104],\n",
              "         [108, 109, 104]],\n",
              "\n",
              "        [[106, 112, 110],\n",
              "         [115, 121, 119],\n",
              "         [114, 118, 117],\n",
              "         ...,\n",
              "         [107, 108, 103],\n",
              "         [107, 108, 103],\n",
              "         [107, 108, 103]]], dtype=torch.uint8)"
            ]
          },
          "metadata": {
            "tags": []
          },
          "execution_count": 12
        }
      ]
    },
    {
      "cell_type": "markdown",
      "metadata": {
        "id": "BUEtVK3Wigv9"
      },
      "source": [
        "For each image tensor, use the .mean() method to get a sense of how bright\r\n",
        "the image is."
      ]
    },
    {
      "cell_type": "code",
      "metadata": {
        "id": "0nx2SboDiWN4"
      },
      "source": [
        "im_tensor = im_tensor.float()"
      ],
      "execution_count": 14,
      "outputs": []
    },
    {
      "cell_type": "code",
      "metadata": {
        "colab": {
          "base_uri": "https://localhost:8080/"
        },
        "id": "XouWj-R8jTn8",
        "outputId": "9be6bd53-39d9-4088-e5b2-f06ee2290154"
      },
      "source": [
        "im_tensor.mean()"
      ],
      "execution_count": 15,
      "outputs": [
        {
          "output_type": "execute_result",
          "data": {
            "text/plain": [
              "tensor(123.6675)"
            ]
          },
          "metadata": {
            "tags": []
          },
          "execution_count": 15
        }
      ]
    },
    {
      "cell_type": "markdown",
      "metadata": {
        "id": "ucnE6f-Nm7fG"
      },
      "source": [
        "Take the mean of each channel of your images. Can you identify the red,\r\n",
        "green, and blue items from only the channel averages?"
      ]
    },
    {
      "cell_type": "code",
      "metadata": {
        "colab": {
          "base_uri": "https://localhost:8080/"
        },
        "id": "wHIR7GxIm8cm",
        "outputId": "2c2e8864-e39f-4177-a13a-c548a9a8087c"
      },
      "source": [
        "im_tensor.shape"
      ],
      "execution_count": 16,
      "outputs": [
        {
          "output_type": "execute_result",
          "data": {
            "text/plain": [
              "torch.Size([1156, 867, 3])"
            ]
          },
          "metadata": {
            "tags": []
          },
          "execution_count": 16
        }
      ]
    },
    {
      "cell_type": "code",
      "metadata": {
        "id": "6dWnzku9nVAe"
      },
      "source": [
        "n_channels = im_tensor.shape[2]"
      ],
      "execution_count": 21,
      "outputs": []
    },
    {
      "cell_type": "code",
      "metadata": {
        "colab": {
          "base_uri": "https://localhost:8080/"
        },
        "id": "tI2FbmezndE8",
        "outputId": "cd50cfa4-f8c2-42c5-909b-25e531f680e3"
      },
      "source": [
        "n_channels"
      ],
      "execution_count": 22,
      "outputs": [
        {
          "output_type": "execute_result",
          "data": {
            "text/plain": [
              "3"
            ]
          },
          "metadata": {
            "tags": []
          },
          "execution_count": 22
        }
      ]
    },
    {
      "cell_type": "code",
      "metadata": {
        "colab": {
          "base_uri": "https://localhost:8080/"
        },
        "id": "wcNXo3caoKI7",
        "outputId": "dd2339a3-70d0-4cfa-a7b5-7f17c487611b"
      },
      "source": [
        "im_tensor[:,:,0]"
      ],
      "execution_count": 24,
      "outputs": [
        {
          "output_type": "execute_result",
          "data": {
            "text/plain": [
              "tensor([[133., 133., 133.,  ..., 140., 140., 140.],\n",
              "        [133., 133., 133.,  ..., 140., 140., 140.],\n",
              "        [133., 133., 133.,  ..., 141., 141., 141.],\n",
              "        ...,\n",
              "        [105., 113., 113.,  ..., 109., 109., 109.],\n",
              "        [105., 114., 113.,  ..., 108., 108., 108.],\n",
              "        [106., 115., 114.,  ..., 107., 107., 107.]])"
            ]
          },
          "metadata": {
            "tags": []
          },
          "execution_count": 24
        }
      ]
    },
    {
      "cell_type": "code",
      "metadata": {
        "colab": {
          "base_uri": "https://localhost:8080/"
        },
        "id": "P00bfeZZnukp",
        "outputId": "6921a17a-b9a2-41d1-b568-2c0beb822e9b"
      },
      "source": [
        "for i in range(3):\r\n",
        "  print(i,\" : \", im_tensor[:,:,i].mean())\r\n"
      ],
      "execution_count": 26,
      "outputs": [
        {
          "output_type": "stream",
          "text": [
            "0  :  tensor(124.6178)\n",
            "1  :  tensor(124.0964)\n",
            "2  :  tensor(122.2884)\n"
          ],
          "name": "stdout"
        }
      ]
    },
    {
      "cell_type": "code",
      "metadata": {
        "id": "vNzYYl2PoJVy"
      },
      "source": [
        "red = imageio.imread('red.jpeg')\r\n",
        "red_tensor = torch.from_numpy(red)"
      ],
      "execution_count": 27,
      "outputs": []
    },
    {
      "cell_type": "code",
      "metadata": {
        "colab": {
          "base_uri": "https://localhost:8080/"
        },
        "id": "Y2U1pWoTpOKA",
        "outputId": "ec6a01d0-012a-4989-b578-49c58b608fa9"
      },
      "source": [
        "red_tensor = red_tensor.float()\r\n",
        "\r\n",
        "for i in range(3):\r\n",
        "  print(i, \" : \", red_tensor[:,:,i].mean())\r\n",
        "\r\n",
        "# thereis definitely a differnece in the red component"
      ],
      "execution_count": 28,
      "outputs": [
        {
          "output_type": "stream",
          "text": [
            "0  :  tensor(188.9327)\n",
            "1  :  tensor(58.0965)\n",
            "2  :  tensor(97.3570)\n"
          ],
          "name": "stdout"
        }
      ]
    },
    {
      "cell_type": "markdown",
      "metadata": {
        "id": "IHnw6ZVzpkOw"
      },
      "source": [
        "## Exercise 2"
      ]
    },
    {
      "cell_type": "markdown",
      "metadata": {
        "id": "ocylZ0WCrJAf"
      },
      "source": [
        "Select a relatively large file containing Python source code."
      ]
    },
    {
      "cell_type": "code",
      "metadata": {
        "id": "y4WKj91hrIAa"
      },
      "source": [
        "f1 = open('mandel.py', 'r+')"
      ],
      "execution_count": 40,
      "outputs": []
    },
    {
      "cell_type": "code",
      "metadata": {
        "id": "Yfq1RSrIsOX-"
      },
      "source": [
        "text = f1.read()"
      ],
      "execution_count": 41,
      "outputs": []
    },
    {
      "cell_type": "code",
      "metadata": {
        "colab": {
          "base_uri": "https://localhost:8080/"
        },
        "id": "1Lren2YUrf1h",
        "outputId": "4beb9c00-507b-41b0-9a7a-6db5ef055df0"
      },
      "source": [
        "f1.readlines()"
      ],
      "execution_count": 35,
      "outputs": [
        {
          "output_type": "execute_result",
          "data": {
            "text/plain": [
              "['from pylab import * \\n',\n",
              " 'from numpy import NaN \\n',\n",
              " '  \\n',\n",
              " 'def m(a): \\n',\n",
              " '\\tz = 0 \\n',\n",
              " '\\tfor n in range(1, 100): \\n',\n",
              " '\\t\\tz = z**2 + a \\n',\n",
              " '\\t\\tif abs(z) > 2: \\n',\n",
              " '\\t\\t\\treturn n \\n',\n",
              " '\\treturn NaN \\n',\n",
              " '  \\n',\n",
              " 'X = arange(-2, .5, .002) \\n',\n",
              " 'Y = arange(-1,  1, .002) \\n',\n",
              " 'Z = zeros((len(Y), len(X))) \\n',\n",
              " '  \\n',\n",
              " 'for iy, y in enumerate(Y): \\n',\n",
              " '\\tprint (iy, \"of\", len(Y)) \\n',\n",
              " '\\tfor ix, x in enumerate(X): \\n',\n",
              " '\\t\\tZ[iy,ix] = m(x + 1j * y) \\n',\n",
              " '  \\n',\n",
              " \"imshow(Z, cmap = plt.cm.prism, interpolation = 'none', extent = (X.min(), X.max(), Y.min(), Y.max())) \\n\",\n",
              " 'xlabel(\"Re(c)\") \\n',\n",
              " 'ylabel(\"Im(c)\") \\n',\n",
              " 'savefig(\"mandelbrot_python.jpeg\") \\n',\n",
              " 'show() ']"
            ]
          },
          "metadata": {
            "tags": []
          },
          "execution_count": 35
        }
      ]
    },
    {
      "cell_type": "markdown",
      "metadata": {
        "id": "TvhkHiZur3lF"
      },
      "source": [
        "Build an index of all the words in the source file (feel free to make your tokenization as simple or as complex as you like; we suggest starting with replacing r\"[^a-zA-Z0-9_]+\" with spaces)"
      ]
    },
    {
      "cell_type": "code",
      "metadata": {
        "colab": {
          "base_uri": "https://localhost:8080/",
          "height": 152
        },
        "id": "C8h_OhaRrxSm",
        "outputId": "c2910bec-5c6c-4f48-a17b-f039590b78cc"
      },
      "source": [
        "text"
      ],
      "execution_count": 42,
      "outputs": [
        {
          "output_type": "execute_result",
          "data": {
            "application/vnd.google.colaboratory.intrinsic+json": {
              "type": "string"
            },
            "text/plain": [
              "'from pylab import * \\nfrom numpy import NaN \\n  \\ndef m(a): \\n\\tz = 0 \\n\\tfor n in range(1, 100): \\n\\t\\tz = z**2 + a \\n\\t\\tif abs(z) > 2: \\n\\t\\t\\treturn n \\n\\treturn NaN \\n  \\nX = arange(-2, .5, .002) \\nY = arange(-1,  1, .002) \\nZ = zeros((len(Y), len(X))) \\n  \\nfor iy, y in enumerate(Y): \\n\\tprint (iy, \"of\", len(Y)) \\n\\tfor ix, x in enumerate(X): \\n\\t\\tZ[iy,ix] = m(x + 1j * y) \\n  \\nimshow(Z, cmap = plt.cm.prism, interpolation = \\'none\\', extent = (X.min(), X.max(), Y.min(), Y.max())) \\nxlabel(\"Re(c)\") \\nylabel(\"Im(c)\") \\nsavefig(\"mandelbrot_python.jpeg\") \\nshow() '"
            ]
          },
          "metadata": {
            "tags": []
          },
          "execution_count": 42
        }
      ]
    },
    {
      "cell_type": "code",
      "metadata": {
        "colab": {
          "base_uri": "https://localhost:8080/",
          "height": 35
        },
        "id": "sjF4Y9CGsZ5Q",
        "outputId": "b2c2e690-33c1-4575-8809-350247f6c3e0"
      },
      "source": [
        "lines = text.split('\\n')\r\n",
        "lines[4]"
      ],
      "execution_count": 44,
      "outputs": [
        {
          "output_type": "execute_result",
          "data": {
            "application/vnd.google.colaboratory.intrinsic+json": {
              "type": "string"
            },
            "text/plain": [
              "'\\tz = 0 '"
            ]
          },
          "metadata": {
            "tags": []
          },
          "execution_count": 44
        }
      ]
    },
    {
      "cell_type": "code",
      "metadata": {
        "id": "cIu3waMfsxRn"
      },
      "source": [
        "clean_lines = []\r\n",
        "for line in lines:\r\n",
        "  punctuation = r\"[^a-zA-Z0-9_]+\"\r\n",
        "  wordlist = line.lower().replace('\\n', ' ').split()\r\n",
        "  wordlist = [word.strip(punctuation) for word in wordlist]\r\n",
        "  clean_lines.append(wordlist) "
      ],
      "execution_count": 54,
      "outputs": []
    },
    {
      "cell_type": "code",
      "metadata": {
        "colab": {
          "base_uri": "https://localhost:8080/"
        },
        "id": "gqCOzdbltlXE",
        "outputId": "dd75c5c1-52cb-4fd3-c457-a716d9d2ef36"
      },
      "source": [
        "clean_lines[4]"
      ],
      "execution_count": 55,
      "outputs": [
        {
          "output_type": "execute_result",
          "data": {
            "text/plain": [
              "['', '=', '']"
            ]
          },
          "metadata": {
            "tags": []
          },
          "execution_count": 55
        }
      ]
    },
    {
      "cell_type": "code",
      "metadata": {
        "colab": {
          "base_uri": "https://localhost:8080/"
        },
        "id": "uhtdWufMttbY",
        "outputId": "9ffa20bb-83ed-4e8f-d564-f6f4224a74d6"
      },
      "source": [
        "clean_lines"
      ],
      "execution_count": 56,
      "outputs": [
        {
          "output_type": "execute_result",
          "data": {
            "text/plain": [
              "[['from', 'pylab', 'import', '*'],\n",
              " ['from', 'numpy', 'import', 'nan'],\n",
              " [],\n",
              " ['def', 'm(a):'],\n",
              " ['', '=', ''],\n",
              " ['for', 'n', 'in', 'range(1,', '100):'],\n",
              " ['', '=', '**2', '', ''],\n",
              " ['if', 'bs(z)', '>', '2:'],\n",
              " ['return', 'n'],\n",
              " ['return', 'nan'],\n",
              " [],\n",
              " ['x', '=', 'range(-2,', '.5,', '.002)'],\n",
              " ['y', '=', 'range(-1,', '1,', '.002)'],\n",
              " ['', '=', 'eros((len(y),', 'len(x)))'],\n",
              " [],\n",
              " ['for', 'iy,', 'y', 'in', 'enumerate(y):'],\n",
              " ['print', '(iy,', '\"of\",', 'len(y))'],\n",
              " ['for', 'ix,', 'x', 'in', 'enumerate(x):'],\n",
              " ['iy,ix', '=', 'm(x', '', '1j', '*', 'y)'],\n",
              " [],\n",
              " ['imshow(z,',\n",
              "  'cmap',\n",
              "  '=',\n",
              "  'plt.cm.prism,',\n",
              "  'interpolation',\n",
              "  '=',\n",
              "  \"'none',\",\n",
              "  'extent',\n",
              "  '=',\n",
              "  '(x.min(),',\n",
              "  'x.max(),',\n",
              "  'y.min(),',\n",
              "  'y.max()))'],\n",
              " ['xlabel(\"re(c)\")'],\n",
              " ['ylabel(\"im(c)\")'],\n",
              " ['savefig(\"mandelbrot_python.jpeg\")'],\n",
              " ['show()']]"
            ]
          },
          "metadata": {
            "tags": []
          },
          "execution_count": 56
        }
      ]
    },
    {
      "cell_type": "code",
      "metadata": {
        "colab": {
          "base_uri": "https://localhost:8080/"
        },
        "id": "zkbfC4oGt_2v",
        "outputId": "f4d52d47-2c9d-46f4-8fd9-e57f345c8449"
      },
      "source": [
        "wordlist = text.lower().replace('\\n', ' ').split()\r\n",
        "wordlist = [word.strip(punctuation) for word in wordlist]\r\n",
        "wordlist = sorted(set(wordlist))\r\n",
        "wordlist"
      ],
      "execution_count": 57,
      "outputs": [
        {
          "output_type": "execute_result",
          "data": {
            "text/plain": [
              "['',\n",
              " '\"of\",',\n",
              " \"'none',\",\n",
              " '(iy,',\n",
              " '(x.min(),',\n",
              " '*',\n",
              " '**2',\n",
              " '.002)',\n",
              " '.5,',\n",
              " '1,',\n",
              " '100):',\n",
              " '1j',\n",
              " '2:',\n",
              " '=',\n",
              " '>',\n",
              " 'bs(z)',\n",
              " 'cmap',\n",
              " 'def',\n",
              " 'enumerate(x):',\n",
              " 'enumerate(y):',\n",
              " 'eros((len(y),',\n",
              " 'extent',\n",
              " 'for',\n",
              " 'from',\n",
              " 'if',\n",
              " 'import',\n",
              " 'imshow(z,',\n",
              " 'in',\n",
              " 'interpolation',\n",
              " 'ix,',\n",
              " 'iy,',\n",
              " 'iy,ix',\n",
              " 'len(x)))',\n",
              " 'len(y))',\n",
              " 'm(a):',\n",
              " 'm(x',\n",
              " 'n',\n",
              " 'nan',\n",
              " 'numpy',\n",
              " 'plt.cm.prism,',\n",
              " 'print',\n",
              " 'pylab',\n",
              " 'range(-1,',\n",
              " 'range(-2,',\n",
              " 'range(1,',\n",
              " 'return',\n",
              " 'savefig(\"mandelbrot_python.jpeg\")',\n",
              " 'show()',\n",
              " 'x',\n",
              " 'x.max(),',\n",
              " 'xlabel(\"re(c)\")',\n",
              " 'y',\n",
              " 'y)',\n",
              " 'y.max()))',\n",
              " 'y.min(),',\n",
              " 'ylabel(\"im(c)\")']"
            ]
          },
          "metadata": {
            "tags": []
          },
          "execution_count": 57
        }
      ]
    },
    {
      "cell_type": "markdown",
      "metadata": {
        "id": "jnpMjkZUt62U"
      },
      "source": [
        "Compare your index with the one we made for Pride and Prejudice. Which is\r\n",
        "larger?"
      ]
    },
    {
      "cell_type": "code",
      "metadata": {
        "id": "tYRshB64ugPG"
      },
      "source": [
        "word2index_dict = {word : i for (i, word) in enumerate(wordlist)}"
      ],
      "execution_count": 58,
      "outputs": []
    },
    {
      "cell_type": "code",
      "metadata": {
        "colab": {
          "base_uri": "https://localhost:8080/"
        },
        "id": "mMFYe2ytuo3f",
        "outputId": "94d07501-de72-4ff7-ff9d-164433a5d2c0"
      },
      "source": [
        "len(word2index_dict)\r\n",
        "\r\n",
        "# the length of pride and prejudice was 8430"
      ],
      "execution_count": 59,
      "outputs": [
        {
          "output_type": "execute_result",
          "data": {
            "text/plain": [
              "56"
            ]
          },
          "metadata": {
            "tags": []
          },
          "execution_count": 59
        }
      ]
    },
    {
      "cell_type": "markdown",
      "metadata": {
        "id": "aI4eMuhfvLLQ"
      },
      "source": [
        "Create the one-hot encoding for the source code file."
      ]
    },
    {
      "cell_type": "code",
      "metadata": {
        "colab": {
          "base_uri": "https://localhost:8080/"
        },
        "id": "xJEPlIpBvKyw",
        "outputId": "cf1a4614-f6dc-4955-930f-611c3b04caaf"
      },
      "source": [
        "one_hot = torch.zeros(len(text), 128)\r\n",
        "one_hot.shape"
      ],
      "execution_count": 60,
      "outputs": [
        {
          "output_type": "execute_result",
          "data": {
            "text/plain": [
              "torch.Size([533, 128])"
            ]
          },
          "metadata": {
            "tags": []
          },
          "execution_count": 60
        }
      ]
    },
    {
      "cell_type": "code",
      "metadata": {
        "id": "GdplOQi8uykb"
      },
      "source": [
        "for i , letter in enumerate(text.lower().strip()):\r\n",
        "  letter_index = ord(letter) if ord(letter) < 128 else 0\r\n",
        "  one_hot[i][letter_index] = 1"
      ],
      "execution_count": 61,
      "outputs": []
    },
    {
      "cell_type": "code",
      "metadata": {
        "colab": {
          "base_uri": "https://localhost:8080/"
        },
        "id": "ouSUaHF3v-Pp",
        "outputId": "b8dada44-03f3-4441-e864-3dd72b333ab5"
      },
      "source": [
        "one_hot[18], text[18]"
      ],
      "execution_count": 69,
      "outputs": [
        {
          "output_type": "execute_result",
          "data": {
            "text/plain": [
              "(tensor([0., 0., 0., 0., 0., 0., 0., 0., 0., 0., 0., 0., 0., 0., 0., 0., 0., 0.,\n",
              "         0., 0., 0., 0., 0., 0., 0., 0., 0., 0., 0., 0., 0., 0., 0., 0., 0., 0.,\n",
              "         0., 0., 0., 0., 0., 0., 1., 0., 0., 0., 0., 0., 0., 0., 0., 0., 0., 0.,\n",
              "         0., 0., 0., 0., 0., 0., 0., 0., 0., 0., 0., 0., 0., 0., 0., 0., 0., 0.,\n",
              "         0., 0., 0., 0., 0., 0., 0., 0., 0., 0., 0., 0., 0., 0., 0., 0., 0., 0.,\n",
              "         0., 0., 0., 0., 0., 0., 0., 0., 0., 0., 0., 0., 0., 0., 0., 0., 0., 0.,\n",
              "         0., 0., 0., 0., 0., 0., 0., 0., 0., 0., 0., 0., 0., 0., 0., 0., 0., 0.,\n",
              "         0., 0.]), '*')"
            ]
          },
          "metadata": {
            "tags": []
          },
          "execution_count": 69
        }
      ]
    },
    {
      "cell_type": "markdown",
      "metadata": {
        "id": "rwseANFzwNwT"
      },
      "source": [
        "What information is lost with this encoding? How does that information\r\n",
        "compare to what’s lost in the Pride and Prejudice encoding?"
      ]
    },
    {
      "cell_type": "markdown",
      "metadata": {
        "id": "jh41lB1pwSxB"
      },
      "source": [
        "semantic information is lost"
      ]
    }
  ]
}