{
 "cells": [
  {
   "cell_type": "code",
   "execution_count": 1,
   "id": "ruled-delicious",
   "metadata": {
    "_cell_guid": "b1076dfc-b9ad-4769-8c92-a6c4dae69d19",
    "_uuid": "8f2839f25d086af736a60e9eeb907d3b93b6e0e5",
    "execution": {
     "iopub.execute_input": "2021-05-31T10:04:03.281758Z",
     "iopub.status.busy": "2021-05-31T10:04:03.281123Z",
     "iopub.status.idle": "2021-05-31T10:04:04.589242Z",
     "shell.execute_reply": "2021-05-31T10:04:04.588667Z",
     "shell.execute_reply.started": "2021-05-31T05:47:19.845268Z"
    },
    "papermill": {
     "duration": 1.338417,
     "end_time": "2021-05-31T10:04:04.589388",
     "exception": false,
     "start_time": "2021-05-31T10:04:03.250971",
     "status": "completed"
    },
    "tags": []
   },
   "outputs": [],
   "source": [
    "import torch\n",
    "import torch.nn as nn\n",
    "import torchvision.transforms as transforms\n",
    "import torch.nn.functional as F\n",
    "import torch.optim as optim\n",
    "from torch.utils.data import Dataset, DataLoader\n",
    "from PIL import Image\n",
    "import numpy as np"
   ]
  },
  {
   "cell_type": "markdown",
   "id": "armed-father",
   "metadata": {
    "papermill": {
     "duration": 0.01888,
     "end_time": "2021-05-31T10:04:04.627729",
     "exception": false,
     "start_time": "2021-05-31T10:04:04.608849",
     "status": "completed"
    },
    "tags": []
   },
   "source": [
    "### Creating model"
   ]
  },
  {
   "cell_type": "code",
   "execution_count": 2,
   "id": "cellular-transcript",
   "metadata": {
    "execution": {
     "iopub.execute_input": "2021-05-31T10:04:04.670523Z",
     "iopub.status.busy": "2021-05-31T10:04:04.669824Z",
     "iopub.status.idle": "2021-05-31T10:04:04.672593Z",
     "shell.execute_reply": "2021-05-31T10:04:04.672186Z",
     "shell.execute_reply.started": "2021-05-31T05:47:21.079784Z"
    },
    "papermill": {
     "duration": 0.025952,
     "end_time": "2021-05-31T10:04:04.672698",
     "exception": false,
     "start_time": "2021-05-31T10:04:04.646746",
     "status": "completed"
    },
    "tags": []
   },
   "outputs": [],
   "source": [
    "#intialising hyperparameters\n",
    "in_channels = 3\n",
    "num_classes = 2\n",
    "\n",
    "batch_size = 64\n",
    "learning_rate = 0.01\n",
    "\n",
    "linear_first_dimension = 2048\n",
    "num_epochs = 3"
   ]
  },
  {
   "cell_type": "code",
   "execution_count": 3,
   "id": "bibliographic-microwave",
   "metadata": {
    "execution": {
     "iopub.execute_input": "2021-05-31T10:04:04.725701Z",
     "iopub.status.busy": "2021-05-31T10:04:04.724711Z",
     "iopub.status.idle": "2021-05-31T10:04:04.733332Z",
     "shell.execute_reply": "2021-05-31T10:04:04.733783Z",
     "shell.execute_reply.started": "2021-05-31T05:47:21.087989Z"
    },
    "papermill": {
     "duration": 0.042299,
     "end_time": "2021-05-31T10:04:04.733913",
     "exception": false,
     "start_time": "2021-05-31T10:04:04.691614",
     "status": "completed"
    },
    "tags": []
   },
   "outputs": [],
   "source": [
    "class CNN(nn.Module):\n",
    "    def __init__(self, in_channels=in_channels, num_classes=num_classes):\n",
    "        super(CNN, self).__init__()\n",
    "        self.cnn1 = nn.Conv2d(in_channels, 8, kernel_size=(3,3), padding=(1,1), stride=(1,1))\n",
    "        self.pool = nn.MaxPool2d(kernel_size=(2,2),stride=(2,2))\n",
    "        self.cnn2 = nn.Conv2d(8, 16, kernel_size=(3,3), padding=(1,1), stride=(1,1))\n",
    "#         self.pool2 = nn.MaxPool2d(kernel_size=(2,2), stride=(2,2))\n",
    "        self.cnn3 = nn.Conv2d(16,32, kernel_size=(3,3), padding=(1,1),stride=(1,1))\n",
    "        self.fc1 = nn.Linear(linear_first_dimension,num_classes)\n",
    "    \n",
    "    def forward(self, x):\n",
    "        out = self.pool(self.cnn1(x))\n",
    "        out = self.pool(self.cnn2(out))\n",
    "        out = self.pool(self.cnn3(out))\n",
    "        out = out.reshape(out.size(0), -1)\n",
    "#         print(out.shape)\n",
    "        out = self.fc1(out)\n",
    "        return out"
   ]
  },
  {
   "cell_type": "code",
   "execution_count": 4,
   "id": "willing-european",
   "metadata": {
    "execution": {
     "iopub.execute_input": "2021-05-31T10:04:04.825499Z",
     "iopub.status.busy": "2021-05-31T10:04:04.824851Z",
     "iopub.status.idle": "2021-05-31T10:04:04.827439Z",
     "shell.execute_reply": "2021-05-31T10:04:04.827812Z",
     "shell.execute_reply.started": "2021-05-31T05:47:21.100234Z"
    },
    "papermill": {
     "duration": 0.074996,
     "end_time": "2021-05-31T10:04:04.827950",
     "exception": false,
     "start_time": "2021-05-31T10:04:04.752954",
     "status": "completed"
    },
    "tags": []
   },
   "outputs": [],
   "source": [
    "device = torch.device('cuda' if torch.cuda.is_available() else 'cpu')"
   ]
  },
  {
   "cell_type": "code",
   "execution_count": 5,
   "id": "suitable-serum",
   "metadata": {
    "execution": {
     "iopub.execute_input": "2021-05-31T10:04:04.871105Z",
     "iopub.status.busy": "2021-05-31T10:04:04.870531Z",
     "iopub.status.idle": "2021-05-31T10:04:09.984921Z",
     "shell.execute_reply": "2021-05-31T10:04:09.984074Z",
     "shell.execute_reply.started": "2021-05-31T05:47:21.16491Z"
    },
    "papermill": {
     "duration": 5.137872,
     "end_time": "2021-05-31T10:04:09.985052",
     "exception": false,
     "start_time": "2021-05-31T10:04:04.847180",
     "status": "completed"
    },
    "tags": []
   },
   "outputs": [
    {
     "data": {
      "text/plain": [
       "torch.Size([64, 2])"
      ]
     },
     "execution_count": 5,
     "metadata": {},
     "output_type": "execute_result"
    }
   ],
   "source": [
    "model = CNN().to(device=device)\n",
    "\n",
    "#testing\n",
    "x = torch.randn(64,3,64,64).to(device=device)\n",
    "y = model(x)\n",
    "y.shape"
   ]
  },
  {
   "cell_type": "markdown",
   "id": "joined-burning",
   "metadata": {
    "papermill": {
     "duration": 0.019614,
     "end_time": "2021-05-31T10:04:10.026123",
     "exception": false,
     "start_time": "2021-05-31T10:04:10.006509",
     "status": "completed"
    },
    "tags": []
   },
   "source": [
    "### Working with Dataset"
   ]
  },
  {
   "cell_type": "code",
   "execution_count": 6,
   "id": "excellent-archives",
   "metadata": {
    "execution": {
     "iopub.execute_input": "2021-05-31T10:04:10.070048Z",
     "iopub.status.busy": "2021-05-31T10:04:10.069476Z",
     "iopub.status.idle": "2021-05-31T10:04:10.258350Z",
     "shell.execute_reply": "2021-05-31T10:04:10.257959Z",
     "shell.execute_reply.started": "2021-05-31T05:47:26.200336Z"
    },
    "papermill": {
     "duration": 0.212391,
     "end_time": "2021-05-31T10:04:10.258475",
     "exception": false,
     "start_time": "2021-05-31T10:04:10.046084",
     "status": "completed"
    },
    "tags": []
   },
   "outputs": [
    {
     "data": {
      "text/plain": [
       "<matplotlib.image.AxesImage at 0x7f8424767bd0>"
      ]
     },
     "execution_count": 6,
     "metadata": {},
     "output_type": "execute_result"
    },
    {
     "data": {
      "image/png": "[encoded data removed]",
      "text/plain": [
       "<Figure size 432x288 with 1 Axes>"
      ]
     },
     "metadata": {
      "needs_background": "light"
     },
     "output_type": "display_data"
    }
   ],
   "source": [
    "import matplotlib.pyplot as plt\n",
    "img = Image.open('../input/celeba-dataset/img_align_celeba/img_align_celeba/000022.jpg')\n",
    "plt.imshow(img)"
   ]
  },
  {
   "cell_type": "code",
   "execution_count": 7,
   "id": "impressed-purple",
   "metadata": {
    "execution": {
     "iopub.execute_input": "2021-05-31T10:04:10.305127Z",
     "iopub.status.busy": "2021-05-31T10:04:10.304386Z",
     "iopub.status.idle": "2021-05-31T10:04:10.307843Z",
     "shell.execute_reply": "2021-05-31T10:04:10.307422Z",
     "shell.execute_reply.started": "2021-05-31T05:47:26.372812Z"
    },
    "papermill": {
     "duration": 0.028044,
     "end_time": "2021-05-31T10:04:10.307942",
     "exception": false,
     "start_time": "2021-05-31T10:04:10.279898",
     "status": "completed"
    },
    "tags": []
   },
   "outputs": [
    {
     "data": {
      "text/plain": [
       "(178, 218)"
      ]
     },
     "execution_count": 7,
     "metadata": {},
     "output_type": "execute_result"
    }
   ],
   "source": [
    "img._size"
   ]
  },
  {
   "cell_type": "code",
   "execution_count": 8,
   "id": "danish-alpha",
   "metadata": {
    "execution": {
     "iopub.execute_input": "2021-05-31T10:04:10.356349Z",
     "iopub.status.busy": "2021-05-31T10:04:10.355873Z",
     "iopub.status.idle": "2021-05-31T10:04:11.319785Z",
     "shell.execute_reply": "2021-05-31T10:04:11.320191Z",
     "shell.execute_reply.started": "2021-05-31T05:47:26.382797Z"
    },
    "papermill": {
     "duration": 0.990894,
     "end_time": "2021-05-31T10:04:11.320348",
     "exception": false,
     "start_time": "2021-05-31T10:04:10.329454",
     "status": "completed"
    },
    "tags": []
   },
   "outputs": [
    {
     "data": {
      "text/html": [
       "<div>\n",
       "<style scoped>\n",
       "    .dataframe tbody tr th:only-of-type {\n",
       "        vertical-align: middle;\n",
       "    }\n",
       "\n",
       "    .dataframe tbody tr th {\n",
       "        vertical-align: top;\n",
       "    }\n",
       "\n",
       "    .dataframe thead th {\n",
       "        text-align: right;\n",
       "    }\n",
       "</style>\n",
       "<table border=\"1\" class=\"dataframe\">\n",
       "  <thead>\n",
       "    <tr style=\"text-align: right;\">\n",
       "      <th></th>\n",
       "      <th>image_id</th>\n",
       "      <th>5_o_Clock_Shadow</th>\n",
       "      <th>Arched_Eyebrows</th>\n",
       "      <th>Attractive</th>\n",
       "      <th>Bags_Under_Eyes</th>\n",
       "      <th>Bald</th>\n",
       "      <th>Bangs</th>\n",
       "      <th>Big_Lips</th>\n",
       "      <th>Big_Nose</th>\n",
       "      <th>Black_Hair</th>\n",
       "      <th>...</th>\n",
       "      <th>Sideburns</th>\n",
       "      <th>Smiling</th>\n",
       "      <th>Straight_Hair</th>\n",
       "      <th>Wavy_Hair</th>\n",
       "      <th>Wearing_Earrings</th>\n",
       "      <th>Wearing_Hat</th>\n",
       "      <th>Wearing_Lipstick</th>\n",
       "      <th>Wearing_Necklace</th>\n",
       "      <th>Wearing_Necktie</th>\n",
       "      <th>Young</th>\n",
       "    </tr>\n",
       "  </thead>\n",
       "  <tbody>\n",
       "    <tr>\n",
       "      <th>0</th>\n",
       "      <td>000001.jpg</td>\n",
       "      <td>-1</td>\n",
       "      <td>1</td>\n",
       "      <td>1</td>\n",
       "      <td>-1</td>\n",
       "      <td>-1</td>\n",
       "      <td>-1</td>\n",
       "      <td>-1</td>\n",
       "      <td>-1</td>\n",
       "      <td>-1</td>\n",
       "      <td>...</td>\n",
       "      <td>-1</td>\n",
       "      <td>1</td>\n",
       "      <td>1</td>\n",
       "      <td>-1</td>\n",
       "      <td>1</td>\n",
       "      <td>-1</td>\n",
       "      <td>1</td>\n",
       "      <td>-1</td>\n",
       "      <td>-1</td>\n",
       "      <td>1</td>\n",
       "    </tr>\n",
       "    <tr>\n",
       "      <th>1</th>\n",
       "      <td>000002.jpg</td>\n",
       "      <td>-1</td>\n",
       "      <td>-1</td>\n",
       "      <td>-1</td>\n",
       "      <td>1</td>\n",
       "      <td>-1</td>\n",
       "      <td>-1</td>\n",
       "      <td>-1</td>\n",
       "      <td>1</td>\n",
       "      <td>-1</td>\n",
       "      <td>...</td>\n",
       "      <td>-1</td>\n",
       "      <td>1</td>\n",
       "      <td>-1</td>\n",
       "      <td>-1</td>\n",
       "      <td>-1</td>\n",
       "      <td>-1</td>\n",
       "      <td>-1</td>\n",
       "      <td>-1</td>\n",
       "      <td>-1</td>\n",
       "      <td>1</td>\n",
       "    </tr>\n",
       "    <tr>\n",
       "      <th>2</th>\n",
       "      <td>000003.jpg</td>\n",
       "      <td>-1</td>\n",
       "      <td>-1</td>\n",
       "      <td>-1</td>\n",
       "      <td>-1</td>\n",
       "      <td>-1</td>\n",
       "      <td>-1</td>\n",
       "      <td>1</td>\n",
       "      <td>-1</td>\n",
       "      <td>-1</td>\n",
       "      <td>...</td>\n",
       "      <td>-1</td>\n",
       "      <td>-1</td>\n",
       "      <td>-1</td>\n",
       "      <td>1</td>\n",
       "      <td>-1</td>\n",
       "      <td>-1</td>\n",
       "      <td>-1</td>\n",
       "      <td>-1</td>\n",
       "      <td>-1</td>\n",
       "      <td>1</td>\n",
       "    </tr>\n",
       "    <tr>\n",
       "      <th>3</th>\n",
       "      <td>000004.jpg</td>\n",
       "      <td>-1</td>\n",
       "      <td>-1</td>\n",
       "      <td>1</td>\n",
       "      <td>-1</td>\n",
       "      <td>-1</td>\n",
       "      <td>-1</td>\n",
       "      <td>-1</td>\n",
       "      <td>-1</td>\n",
       "      <td>-1</td>\n",
       "      <td>...</td>\n",
       "      <td>-1</td>\n",
       "      <td>-1</td>\n",
       "      <td>1</td>\n",
       "      <td>-1</td>\n",
       "      <td>1</td>\n",
       "      <td>-1</td>\n",
       "      <td>1</td>\n",
       "      <td>1</td>\n",
       "      <td>-1</td>\n",
       "      <td>1</td>\n",
       "    </tr>\n",
       "    <tr>\n",
       "      <th>4</th>\n",
       "      <td>000005.jpg</td>\n",
       "      <td>-1</td>\n",
       "      <td>1</td>\n",
       "      <td>1</td>\n",
       "      <td>-1</td>\n",
       "      <td>-1</td>\n",
       "      <td>-1</td>\n",
       "      <td>1</td>\n",
       "      <td>-1</td>\n",
       "      <td>-1</td>\n",
       "      <td>...</td>\n",
       "      <td>-1</td>\n",
       "      <td>-1</td>\n",
       "      <td>-1</td>\n",
       "      <td>-1</td>\n",
       "      <td>-1</td>\n",
       "      <td>-1</td>\n",
       "      <td>1</td>\n",
       "      <td>-1</td>\n",
       "      <td>-1</td>\n",
       "      <td>1</td>\n",
       "    </tr>\n",
       "  </tbody>\n",
       "</table>\n",
       "<p>5 rows × 41 columns</p>\n",
       "</div>"
      ],
      "text/plain": [
       "     image_id  5_o_Clock_Shadow  Arched_Eyebrows  Attractive  Bags_Under_Eyes  \\\n",
       "0  000001.jpg                -1                1           1               -1   \n",
       "1  000002.jpg                -1               -1          -1                1   \n",
       "2  000003.jpg                -1               -1          -1               -1   \n",
       "3  000004.jpg                -1               -1           1               -1   \n",
       "4  000005.jpg                -1                1           1               -1   \n",
       "\n",
       "   Bald  Bangs  Big_Lips  Big_Nose  Black_Hair  ...  Sideburns  Smiling  \\\n",
       "0    -1     -1        -1        -1          -1  ...         -1        1   \n",
       "1    -1     -1        -1         1          -1  ...         -1        1   \n",
       "2    -1     -1         1        -1          -1  ...         -1       -1   \n",
       "3    -1     -1        -1        -1          -1  ...         -1       -1   \n",
       "4    -1     -1         1        -1          -1  ...         -1       -1   \n",
       "\n",
       "   Straight_Hair  Wavy_Hair  Wearing_Earrings  Wearing_Hat  Wearing_Lipstick  \\\n",
       "0              1         -1                 1           -1                 1   \n",
       "1             -1         -1                -1           -1                -1   \n",
       "2             -1          1                -1           -1                -1   \n",
       "3              1         -1                 1           -1                 1   \n",
       "4             -1         -1                -1           -1                 1   \n",
       "\n",
       "   Wearing_Necklace  Wearing_Necktie  Young  \n",
       "0                -1               -1      1  \n",
       "1                -1               -1      1  \n",
       "2                -1               -1      1  \n",
       "3                 1               -1      1  \n",
       "4                -1               -1      1  \n",
       "\n",
       "[5 rows x 41 columns]"
      ]
     },
     "execution_count": 8,
     "metadata": {},
     "output_type": "execute_result"
    }
   ],
   "source": [
    "import pandas as pd\n",
    "df = pd.read_csv('../input/celeba-dataset/list_attr_celeba.csv')\n",
    "df.head()"
   ]
  },
  {
   "cell_type": "code",
   "execution_count": 9,
   "id": "clear-configuration",
   "metadata": {
    "execution": {
     "iopub.execute_input": "2021-05-31T10:04:11.370523Z",
     "iopub.status.busy": "2021-05-31T10:04:11.369745Z",
     "iopub.status.idle": "2021-05-31T10:04:11.378478Z",
     "shell.execute_reply": "2021-05-31T10:04:11.378840Z",
     "shell.execute_reply.started": "2021-05-31T05:47:27.173014Z"
    },
    "papermill": {
     "duration": 0.036063,
     "end_time": "2021-05-31T10:04:11.378976",
     "exception": false,
     "start_time": "2021-05-31T10:04:11.342913",
     "status": "completed"
    },
    "tags": []
   },
   "outputs": [
    {
     "data": {
      "text/html": [
       "<div>\n",
       "<style scoped>\n",
       "    .dataframe tbody tr th:only-of-type {\n",
       "        vertical-align: middle;\n",
       "    }\n",
       "\n",
       "    .dataframe tbody tr th {\n",
       "        vertical-align: top;\n",
       "    }\n",
       "\n",
       "    .dataframe thead th {\n",
       "        text-align: right;\n",
       "    }\n",
       "</style>\n",
       "<table border=\"1\" class=\"dataframe\">\n",
       "  <thead>\n",
       "    <tr style=\"text-align: right;\">\n",
       "      <th></th>\n",
       "      <th>Attractive</th>\n",
       "      <th>image_id</th>\n",
       "    </tr>\n",
       "  </thead>\n",
       "  <tbody>\n",
       "    <tr>\n",
       "      <th>0</th>\n",
       "      <td>1</td>\n",
       "      <td>000001.jpg</td>\n",
       "    </tr>\n",
       "    <tr>\n",
       "      <th>1</th>\n",
       "      <td>-1</td>\n",
       "      <td>000002.jpg</td>\n",
       "    </tr>\n",
       "    <tr>\n",
       "      <th>2</th>\n",
       "      <td>-1</td>\n",
       "      <td>000003.jpg</td>\n",
       "    </tr>\n",
       "    <tr>\n",
       "      <th>3</th>\n",
       "      <td>1</td>\n",
       "      <td>000004.jpg</td>\n",
       "    </tr>\n",
       "    <tr>\n",
       "      <th>4</th>\n",
       "      <td>1</td>\n",
       "      <td>000005.jpg</td>\n",
       "    </tr>\n",
       "  </tbody>\n",
       "</table>\n",
       "</div>"
      ],
      "text/plain": [
       "   Attractive    image_id\n",
       "0           1  000001.jpg\n",
       "1          -1  000002.jpg\n",
       "2          -1  000003.jpg\n",
       "3           1  000004.jpg\n",
       "4           1  000005.jpg"
      ]
     },
     "execution_count": 9,
     "metadata": {},
     "output_type": "execute_result"
    }
   ],
   "source": [
    "a = df[['Attractive','image_id']]\n",
    "a.head()"
   ]
  },
  {
   "cell_type": "code",
   "execution_count": 10,
   "id": "strategic-generator",
   "metadata": {
    "execution": {
     "iopub.execute_input": "2021-05-31T10:04:11.428708Z",
     "iopub.status.busy": "2021-05-31T10:04:11.428197Z",
     "iopub.status.idle": "2021-05-31T10:04:11.433844Z",
     "shell.execute_reply": "2021-05-31T10:04:11.433426Z",
     "shell.execute_reply.started": "2021-05-31T05:47:27.186701Z"
    },
    "papermill": {
     "duration": 0.032487,
     "end_time": "2021-05-31T10:04:11.433946",
     "exception": false,
     "start_time": "2021-05-31T10:04:11.401459",
     "status": "completed"
    },
    "tags": []
   },
   "outputs": [
    {
     "data": {
      "text/plain": [
       "0         1\n",
       "1        -1\n",
       "2        -1\n",
       "3         1\n",
       "4         1\n",
       "         ..\n",
       "202594    1\n",
       "202595   -1\n",
       "202596   -1\n",
       "202597    1\n",
       "202598    1\n",
       "Name: Attractive, Length: 202599, dtype: int64"
      ]
     },
     "execution_count": 10,
     "metadata": {},
     "output_type": "execute_result"
    }
   ],
   "source": [
    "a.iloc[:,0]"
   ]
  },
  {
   "cell_type": "code",
   "execution_count": 11,
   "id": "gross-thesis",
   "metadata": {
    "execution": {
     "iopub.execute_input": "2021-05-31T10:04:11.507044Z",
     "iopub.status.busy": "2021-05-31T10:04:11.491700Z",
     "iopub.status.idle": "2021-05-31T10:04:11.592204Z",
     "shell.execute_reply": "2021-05-31T10:04:11.591516Z",
     "shell.execute_reply.started": "2021-05-31T05:47:27.197888Z"
    },
    "papermill": {
     "duration": 0.135735,
     "end_time": "2021-05-31T10:04:11.592364",
     "exception": false,
     "start_time": "2021-05-31T10:04:11.456629",
     "status": "completed"
    },
    "tags": []
   },
   "outputs": [
    {
     "name": "stderr",
     "output_type": "stream",
     "text": [
      "/opt/conda/lib/python3.7/site-packages/ipykernel_launcher.py:1: SettingWithCopyWarning: \n",
      "A value is trying to be set on a copy of a slice from a DataFrame.\n",
      "Try using .loc[row_indexer,col_indexer] = value instead\n",
      "\n",
      "See the caveats in the documentation: https://pandas.pydata.org/pandas-docs/stable/user_guide/indexing.html#returning-a-view-versus-a-copy\n",
      "  \"\"\"Entry point for launching an IPython kernel.\n"
     ]
    }
   ],
   "source": [
    "a['target'] = [0 if x==-1 else 1 for x in a.iloc[:,0]]"
   ]
  },
  {
   "cell_type": "code",
   "execution_count": 12,
   "id": "mounted-yukon",
   "metadata": {
    "execution": {
     "iopub.execute_input": "2021-05-31T10:04:11.647034Z",
     "iopub.status.busy": "2021-05-31T10:04:11.646494Z",
     "iopub.status.idle": "2021-05-31T10:04:11.652247Z",
     "shell.execute_reply": "2021-05-31T10:04:11.651858Z",
     "shell.execute_reply.started": "2021-05-31T05:47:27.312509Z"
    },
    "papermill": {
     "duration": 0.035709,
     "end_time": "2021-05-31T10:04:11.652370",
     "exception": false,
     "start_time": "2021-05-31T10:04:11.616661",
     "status": "completed"
    },
    "tags": []
   },
   "outputs": [
    {
     "data": {
      "text/html": [
       "<div>\n",
       "<style scoped>\n",
       "    .dataframe tbody tr th:only-of-type {\n",
       "        vertical-align: middle;\n",
       "    }\n",
       "\n",
       "    .dataframe tbody tr th {\n",
       "        vertical-align: top;\n",
       "    }\n",
       "\n",
       "    .dataframe thead th {\n",
       "        text-align: right;\n",
       "    }\n",
       "</style>\n",
       "<table border=\"1\" class=\"dataframe\">\n",
       "  <thead>\n",
       "    <tr style=\"text-align: right;\">\n",
       "      <th></th>\n",
       "      <th>Attractive</th>\n",
       "      <th>image_id</th>\n",
       "      <th>target</th>\n",
       "    </tr>\n",
       "  </thead>\n",
       "  <tbody>\n",
       "    <tr>\n",
       "      <th>0</th>\n",
       "      <td>1</td>\n",
       "      <td>000001.jpg</td>\n",
       "      <td>1</td>\n",
       "    </tr>\n",
       "    <tr>\n",
       "      <th>1</th>\n",
       "      <td>-1</td>\n",
       "      <td>000002.jpg</td>\n",
       "      <td>0</td>\n",
       "    </tr>\n",
       "    <tr>\n",
       "      <th>2</th>\n",
       "      <td>-1</td>\n",
       "      <td>000003.jpg</td>\n",
       "      <td>0</td>\n",
       "    </tr>\n",
       "    <tr>\n",
       "      <th>3</th>\n",
       "      <td>1</td>\n",
       "      <td>000004.jpg</td>\n",
       "      <td>1</td>\n",
       "    </tr>\n",
       "    <tr>\n",
       "      <th>4</th>\n",
       "      <td>1</td>\n",
       "      <td>000005.jpg</td>\n",
       "      <td>1</td>\n",
       "    </tr>\n",
       "  </tbody>\n",
       "</table>\n",
       "</div>"
      ],
      "text/plain": [
       "   Attractive    image_id  target\n",
       "0           1  000001.jpg       1\n",
       "1          -1  000002.jpg       0\n",
       "2          -1  000003.jpg       0\n",
       "3           1  000004.jpg       1\n",
       "4           1  000005.jpg       1"
      ]
     },
     "execution_count": 12,
     "metadata": {},
     "output_type": "execute_result"
    }
   ],
   "source": [
    "a.head()"
   ]
  },
  {
   "cell_type": "code",
   "execution_count": 13,
   "id": "daily-vehicle",
   "metadata": {
    "execution": {
     "iopub.execute_input": "2021-05-31T10:04:11.702624Z",
     "iopub.status.busy": "2021-05-31T10:04:11.702101Z",
     "iopub.status.idle": "2021-05-31T10:04:11.705864Z",
     "shell.execute_reply": "2021-05-31T10:04:11.705464Z",
     "shell.execute_reply.started": "2021-05-31T05:47:27.323391Z"
    },
    "papermill": {
     "duration": 0.030096,
     "end_time": "2021-05-31T10:04:11.705970",
     "exception": false,
     "start_time": "2021-05-31T10:04:11.675874",
     "status": "completed"
    },
    "tags": []
   },
   "outputs": [],
   "source": [
    "imagepath = \"../input/celeba-dataset/img_align_celeba/img_align_celeba\"\n",
    "csvpath = \"../input/celeba-dataset/list_attr_celeba.csv\""
   ]
  },
  {
   "cell_type": "code",
   "execution_count": 14,
   "id": "million-division",
   "metadata": {
    "execution": {
     "iopub.execute_input": "2021-05-31T10:04:11.755773Z",
     "iopub.status.busy": "2021-05-31T10:04:11.755245Z",
     "iopub.status.idle": "2021-05-31T10:04:11.758607Z",
     "shell.execute_reply": "2021-05-31T10:04:11.759012Z",
     "shell.execute_reply.started": "2021-05-31T05:47:27.331725Z"
    },
    "papermill": {
     "duration": 0.02991,
     "end_time": "2021-05-31T10:04:11.759130",
     "exception": false,
     "start_time": "2021-05-31T10:04:11.729220",
     "status": "completed"
    },
    "tags": []
   },
   "outputs": [],
   "source": [
    "import os"
   ]
  },
  {
   "cell_type": "code",
   "execution_count": 15,
   "id": "french-gibson",
   "metadata": {
    "execution": {
     "iopub.execute_input": "2021-05-31T10:04:11.809921Z",
     "iopub.status.busy": "2021-05-31T10:04:11.809425Z",
     "iopub.status.idle": "2021-05-31T10:04:11.814140Z",
     "shell.execute_reply": "2021-05-31T10:04:11.814513Z",
     "shell.execute_reply.started": "2021-05-31T05:47:27.339453Z"
    },
    "papermill": {
     "duration": 0.032185,
     "end_time": "2021-05-31T10:04:11.814633",
     "exception": false,
     "start_time": "2021-05-31T10:04:11.782448",
     "status": "completed"
    },
    "tags": []
   },
   "outputs": [
    {
     "data": {
      "text/plain": [
       "'../input/celeba-dataset/img_align_celeba/img_align_celeba/000001.jpg'"
      ]
     },
     "execution_count": 15,
     "metadata": {},
     "output_type": "execute_result"
    }
   ],
   "source": [
    "os.path.join(imagepath,a['image_id'][0])"
   ]
  },
  {
   "cell_type": "code",
   "execution_count": 16,
   "id": "banner-harvey",
   "metadata": {
    "execution": {
     "iopub.execute_input": "2021-05-31T10:04:11.865705Z",
     "iopub.status.busy": "2021-05-31T10:04:11.865195Z",
     "iopub.status.idle": "2021-05-31T10:04:11.868511Z",
     "shell.execute_reply": "2021-05-31T10:04:11.868908Z",
     "shell.execute_reply.started": "2021-05-31T05:47:27.351587Z"
    },
    "papermill": {
     "duration": 0.030731,
     "end_time": "2021-05-31T10:04:11.869022",
     "exception": false,
     "start_time": "2021-05-31T10:04:11.838291",
     "status": "completed"
    },
    "tags": []
   },
   "outputs": [],
   "source": [
    "my_transforms = transforms.Compose([\n",
    "    transforms.RandomHorizontalFlip(0.5),\n",
    "    transforms.Resize((64,64)),\n",
    "])"
   ]
  },
  {
   "cell_type": "code",
   "execution_count": 17,
   "id": "exposed-cisco",
   "metadata": {
    "execution": {
     "iopub.execute_input": "2021-05-31T10:04:11.928775Z",
     "iopub.status.busy": "2021-05-31T10:04:11.926925Z",
     "iopub.status.idle": "2021-05-31T10:04:11.942441Z",
     "shell.execute_reply": "2021-05-31T10:04:11.941836Z",
     "shell.execute_reply.started": "2021-05-31T05:47:27.359751Z"
    },
    "papermill": {
     "duration": 0.046646,
     "end_time": "2021-05-31T10:04:11.942559",
     "exception": false,
     "start_time": "2021-05-31T10:04:11.895913",
     "status": "completed"
    },
    "tags": []
   },
   "outputs": [
    {
     "data": {
      "text/plain": [
       "(64, 64)"
      ]
     },
     "execution_count": 17,
     "metadata": {},
     "output_type": "execute_result"
    }
   ],
   "source": [
    "img = my_transforms(img)\n",
    "img.size"
   ]
  },
  {
   "cell_type": "code",
   "execution_count": 18,
   "id": "relative-victoria",
   "metadata": {
    "execution": {
     "iopub.execute_input": "2021-05-31T10:04:12.015612Z",
     "iopub.status.busy": "2021-05-31T10:04:12.014846Z",
     "iopub.status.idle": "2021-05-31T10:04:12.117633Z",
     "shell.execute_reply": "2021-05-31T10:04:12.117185Z",
     "shell.execute_reply.started": "2021-05-31T05:47:27.382551Z"
    },
    "papermill": {
     "duration": 0.150853,
     "end_time": "2021-05-31T10:04:12.117742",
     "exception": false,
     "start_time": "2021-05-31T10:04:11.966889",
     "status": "completed"
    },
    "tags": []
   },
   "outputs": [
    {
     "data": {
      "text/plain": [
       "<matplotlib.image.AxesImage at 0x7f8420138dd0>"
      ]
     },
     "execution_count": 18,
     "metadata": {},
     "output_type": "execute_result"
    },
    {
     "data": {
      "image/png": "[encoded data removed]",
      "text/plain": [
       "<Figure size 432x288 with 1 Axes>"
      ]
     },
     "metadata": {
      "needs_background": "light"
     },
     "output_type": "display_data"
    }
   ],
   "source": [
    "plt.imshow(img)"
   ]
  },
  {
   "cell_type": "markdown",
   "id": "confident-measure",
   "metadata": {
    "papermill": {
     "duration": 0.024933,
     "end_time": "2021-05-31T10:04:12.167894",
     "exception": false,
     "start_time": "2021-05-31T10:04:12.142961",
     "status": "completed"
    },
    "tags": []
   },
   "source": [
    "### Creating pytorch Dataset class"
   ]
  },
  {
   "cell_type": "code",
   "execution_count": 19,
   "id": "corrected-relationship",
   "metadata": {
    "execution": {
     "iopub.execute_input": "2021-05-31T10:04:12.225442Z",
     "iopub.status.busy": "2021-05-31T10:04:12.224664Z",
     "iopub.status.idle": "2021-05-31T10:04:12.227280Z",
     "shell.execute_reply": "2021-05-31T10:04:12.226869Z",
     "shell.execute_reply.started": "2021-05-31T05:47:27.504438Z"
    },
    "papermill": {
     "duration": 0.034257,
     "end_time": "2021-05-31T10:04:12.227379",
     "exception": false,
     "start_time": "2021-05-31T10:04:12.193122",
     "status": "completed"
    },
    "tags": []
   },
   "outputs": [],
   "source": [
    "class CelebAttractivenessDataset(Dataset):\n",
    "    def __init__(self, imagepath=imagepath, csvpath=csvpath, transform=None):\n",
    "        df = pd.read_csv(csvpath)\n",
    "        a = df[['Attractive','image_id']]\n",
    "        a['target'] = [0 if x==-1 else 1 for x in a.iloc[:,0]]\n",
    "        self.y = a['target']\n",
    "        self.x = a['image_id']\n",
    "        self.n_samples = len(a)\n",
    "        self.transform = transform\n",
    "        \n",
    "    def __getitem__(self,index):\n",
    "        img = Image.open(os.path.join(imagepath, self.x[index])).convert('RGB')\n",
    "        if self.transform:\n",
    "            img = self.transform(img)\n",
    "            \n",
    "#         img_tensor = np.array(img)\n",
    "        return transforms.functional.to_tensor(img), self.y[index]\n",
    "    \n",
    "    def __len__(self):\n",
    "        return self.n_samples"
   ]
  },
  {
   "cell_type": "code",
   "execution_count": 20,
   "id": "assumed-transcript",
   "metadata": {
    "execution": {
     "iopub.execute_input": "2021-05-31T10:04:12.282644Z",
     "iopub.status.busy": "2021-05-31T10:04:12.281902Z",
     "iopub.status.idle": "2021-05-31T10:04:13.032572Z",
     "shell.execute_reply": "2021-05-31T10:04:13.033096Z",
     "shell.execute_reply.started": "2021-05-31T05:47:27.513705Z"
    },
    "papermill": {
     "duration": 0.780477,
     "end_time": "2021-05-31T10:04:13.033256",
     "exception": false,
     "start_time": "2021-05-31T10:04:12.252779",
     "status": "completed"
    },
    "tags": []
   },
   "outputs": [
    {
     "name": "stdout",
     "output_type": "stream",
     "text": [
      "1\n"
     ]
    },
    {
     "name": "stderr",
     "output_type": "stream",
     "text": [
      "/opt/conda/lib/python3.7/site-packages/ipykernel_launcher.py:5: SettingWithCopyWarning: \n",
      "A value is trying to be set on a copy of a slice from a DataFrame.\n",
      "Try using .loc[row_indexer,col_indexer] = value instead\n",
      "\n",
      "See the caveats in the documentation: https://pandas.pydata.org/pandas-docs/stable/user_guide/indexing.html#returning-a-view-versus-a-copy\n",
      "  \"\"\"\n"
     ]
    },
    {
     "data": {
      "image/png": "[encoded data removed]",
      "text/plain": [
       "<Figure size 432x288 with 1 Axes>"
      ]
     },
     "metadata": {
      "needs_background": "light"
     },
     "output_type": "display_data"
    }
   ],
   "source": [
    "train_dataset = CelebAttractivenessDataset(transform=my_transforms)\n",
    "img, y = train_dataset[0]\n",
    "\n",
    "plt.imshow(img.permute(1,2,0))\n",
    "print(y)"
   ]
  },
  {
   "cell_type": "code",
   "execution_count": 21,
   "id": "horizontal-thesaurus",
   "metadata": {
    "execution": {
     "iopub.execute_input": "2021-05-31T10:04:13.091484Z",
     "iopub.status.busy": "2021-05-31T10:04:13.090760Z",
     "iopub.status.idle": "2021-05-31T10:04:13.094415Z",
     "shell.execute_reply": "2021-05-31T10:04:13.094004Z",
     "shell.execute_reply.started": "2021-05-31T05:47:28.252559Z"
    },
    "papermill": {
     "duration": 0.034436,
     "end_time": "2021-05-31T10:04:13.094526",
     "exception": false,
     "start_time": "2021-05-31T10:04:13.060090",
     "status": "completed"
    },
    "tags": []
   },
   "outputs": [
    {
     "data": {
      "text/plain": [
       "torch.Size([3, 64, 64])"
      ]
     },
     "execution_count": 21,
     "metadata": {},
     "output_type": "execute_result"
    }
   ],
   "source": [
    "img.shape"
   ]
  },
  {
   "cell_type": "markdown",
   "id": "objective-chester",
   "metadata": {
    "papermill": {
     "duration": 0.026938,
     "end_time": "2021-05-31T10:04:13.148468",
     "exception": false,
     "start_time": "2021-05-31T10:04:13.121530",
     "status": "completed"
    },
    "tags": []
   },
   "source": [
    "### Creating a DataLoader"
   ]
  },
  {
   "cell_type": "code",
   "execution_count": 22,
   "id": "shaped-channel",
   "metadata": {
    "execution": {
     "iopub.execute_input": "2021-05-31T10:04:13.206501Z",
     "iopub.status.busy": "2021-05-31T10:04:13.205773Z",
     "iopub.status.idle": "2021-05-31T10:04:13.208354Z",
     "shell.execute_reply": "2021-05-31T10:04:13.207960Z",
     "shell.execute_reply.started": "2021-05-31T05:47:28.260606Z"
    },
    "papermill": {
     "duration": 0.032698,
     "end_time": "2021-05-31T10:04:13.208479",
     "exception": false,
     "start_time": "2021-05-31T10:04:13.175781",
     "status": "completed"
    },
    "tags": []
   },
   "outputs": [],
   "source": [
    "train_dataloader = DataLoader(dataset=train_dataset, shuffle=True, batch_size=batch_size)"
   ]
  },
  {
   "cell_type": "code",
   "execution_count": 23,
   "id": "silent-closing",
   "metadata": {
    "execution": {
     "iopub.execute_input": "2021-05-31T10:04:13.266050Z",
     "iopub.status.busy": "2021-05-31T10:04:13.265351Z",
     "iopub.status.idle": "2021-05-31T10:04:13.267573Z",
     "shell.execute_reply": "2021-05-31T10:04:13.268065Z",
     "shell.execute_reply.started": "2021-05-31T05:47:28.271358Z"
    },
    "papermill": {
     "duration": 0.033109,
     "end_time": "2021-05-31T10:04:13.268189",
     "exception": false,
     "start_time": "2021-05-31T10:04:13.235080",
     "status": "completed"
    },
    "tags": []
   },
   "outputs": [],
   "source": [
    "loss_criterion = nn.CrossEntropyLoss()\n",
    "optimizer = optim.Adam(model.parameters(), lr = learning_rate)"
   ]
  },
  {
   "cell_type": "code",
   "execution_count": 24,
   "id": "certain-shell",
   "metadata": {
    "execution": {
     "iopub.execute_input": "2021-05-31T10:04:13.328684Z",
     "iopub.status.busy": "2021-05-31T10:04:13.328020Z",
     "iopub.status.idle": "2021-05-31T11:01:18.188549Z",
     "shell.execute_reply": "2021-05-31T11:01:18.189186Z",
     "shell.execute_reply.started": "2021-05-31T05:47:28.279212Z"
    },
    "papermill": {
     "duration": 3424.894268,
     "end_time": "2021-05-31T11:01:18.189430",
     "exception": false,
     "start_time": "2021-05-31T10:04:13.295162",
     "status": "completed"
    },
    "tags": []
   },
   "outputs": [
    {
     "name": "stdout",
     "output_type": "stream",
     "text": [
      "For epoch : 0 loss: 0.5663887858390808\n",
      "For epoch : 1 loss: 0.47619423270225525\n",
      "For epoch : 2 loss: 0.3340552747249603\n"
     ]
    }
   ],
   "source": [
    "# training\n",
    "for epoch in range(num_epochs):\n",
    "    for data, target in train_dataloader:\n",
    "        data = data.to(device=device)\n",
    "#         data = data.permute(0,3,1,2)\n",
    "        target = target.to(device=device)\n",
    "        \n",
    "        score = model(data)\n",
    "        loss = loss_criterion(score, target)\n",
    "        \n",
    "        optimizer.zero_grad()\n",
    "        \n",
    "        loss.backward()\n",
    "        \n",
    "        optimizer.step()\n",
    "    print(f\"For epoch : {epoch} loss: {loss}\")"
   ]
  },
  {
   "cell_type": "code",
   "execution_count": 25,
   "id": "hybrid-leisure",
   "metadata": {
    "execution": {
     "iopub.execute_input": "2021-05-31T11:01:18.287007Z",
     "iopub.status.busy": "2021-05-31T11:01:18.286247Z",
     "iopub.status.idle": "2021-05-31T11:01:18.289579Z",
     "shell.execute_reply": "2021-05-31T11:01:18.290122Z",
     "shell.execute_reply.started": "2021-05-31T06:37:02.136691Z"
    },
    "papermill": {
     "duration": 0.056397,
     "end_time": "2021-05-31T11:01:18.290310",
     "exception": false,
     "start_time": "2021-05-31T11:01:18.233913",
     "status": "completed"
    },
    "tags": []
   },
   "outputs": [],
   "source": [
    "#checking accuracy helper function\n",
    "def check_accuracy(model, loader):\n",
    "    total_correct = 0\n",
    "    total_predictions = 0\n",
    "    \n",
    "    model.eval()\n",
    "    \n",
    "    with torch.no_grad():\n",
    "        for x,y in loader:\n",
    "            x= x.to(device=device)\n",
    "            y= y.to(device=device)\n",
    "            y_pred = model(x)\n",
    "            _, prediction = y_pred.max(1)\n",
    "        \n",
    "            total_correct +=  (y==prediction).sum()\n",
    "            total_predictions += prediction.shape[0]\n",
    "    \n",
    "    print(f\" the accuracy: {(total_correct/total_predictions)*100}\")\n",
    "    model.train()\n",
    "        "
   ]
  },
  {
   "cell_type": "code",
   "execution_count": 26,
   "id": "suspended-recording",
   "metadata": {
    "execution": {
     "iopub.execute_input": "2021-05-31T11:01:18.366043Z",
     "iopub.status.busy": "2021-05-31T11:01:18.365337Z",
     "iopub.status.idle": "2021-05-31T11:08:37.294860Z",
     "shell.execute_reply": "2021-05-31T11:08:37.294218Z",
     "shell.execute_reply.started": "2021-05-31T06:37:04.514365Z"
    },
    "papermill": {
     "duration": 438.96117,
     "end_time": "2021-05-31T11:08:37.295026",
     "exception": false,
     "start_time": "2021-05-31T11:01:18.333856",
     "status": "completed"
    },
    "tags": []
   },
   "outputs": [
    {
     "name": "stdout",
     "output_type": "stream",
     "text": [
      " the accuracy: 79.0073013305664\n"
     ]
    },
    {
     "ename": "NameError",
     "evalue": "name 'test_dataloader' is not defined",
     "output_type": "error",
     "traceback": [
      "\u001b[0;31m---------------------------------------------------------------------------\u001b[0m",
      "\u001b[0;31mNameError\u001b[0m                                 Traceback (most recent call last)",
      "\u001b[0;32m<ipython-input-26-6775ed27392a>\u001b[0m in \u001b[0;36m<module>\u001b[0;34m\u001b[0m\n\u001b[1;32m      1\u001b[0m \u001b[0mcheck_accuracy\u001b[0m\u001b[0;34m(\u001b[0m\u001b[0mmodel\u001b[0m\u001b[0;34m,\u001b[0m \u001b[0mtrain_dataloader\u001b[0m\u001b[0;34m)\u001b[0m\u001b[0;34m\u001b[0m\u001b[0;34m\u001b[0m\u001b[0m\n\u001b[0;32m----> 2\u001b[0;31m \u001b[0mcheck_accuracy\u001b[0m\u001b[0;34m(\u001b[0m\u001b[0mmodel\u001b[0m\u001b[0;34m,\u001b[0m \u001b[0mtest_dataloader\u001b[0m\u001b[0;34m)\u001b[0m\u001b[0;34m\u001b[0m\u001b[0;34m\u001b[0m\u001b[0m\n\u001b[0m",
      "\u001b[0;31mNameError\u001b[0m: name 'test_dataloader' is not defined"
     ]
    }
   ],
   "source": [
    "check_accuracy(model, train_dataloader)\n",
    "check_accuracy(model, test_dataloader)"
   ]
  }
 ],
 "metadata": {
  "kernelspec": {
   "display_name": "Python 3",
   "language": "python",
   "name": "python3"
  },
  "language_info": {
   "codemirror_mode": {
    "name": "ipython",
    "version": 3
   },
   "file_extension": ".py",
   "mimetype": "text/x-python",
   "name": "python",
   "nbconvert_exporter": "python",
   "pygments_lexer": "ipython3",
   "version": "3.7.10"
  },
  "papermill": {
   "default_parameters": {},
   "duration": 3882.51754,
   "end_time": "2021-05-31T11:08:39.217132",
   "environment_variables": {},
   "exception": null,
   "input_path": "__notebook__.ipynb",
   "output_path": "__notebook__.ipynb",
   "parameters": {},
   "start_time": "2021-05-31T10:03:56.699592",
   "version": "2.3.3"
  }
 },
 "nbformat": 4,
 "nbformat_minor": 5
}