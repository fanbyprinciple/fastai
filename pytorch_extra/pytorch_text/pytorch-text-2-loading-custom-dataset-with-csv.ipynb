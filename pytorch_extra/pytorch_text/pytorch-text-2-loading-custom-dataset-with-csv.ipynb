{
 "cells": [
  {
   "cell_type": "code",
   "execution_count": 1,
   "id": "funky-lounge",
   "metadata": {
    "_cell_guid": "b1076dfc-b9ad-4769-8c92-a6c4dae69d19",
    "_uuid": "8f2839f25d086af736a60e9eeb907d3b93b6e0e5",
    "execution": {
     "iopub.execute_input": "2021-06-24T00:56:19.864792Z",
     "iopub.status.busy": "2021-06-24T00:56:19.863648Z",
     "iopub.status.idle": "2021-06-24T00:56:22.582610Z",
     "shell.execute_reply": "2021-06-24T00:56:22.581961Z",
     "shell.execute_reply.started": "2021-06-24T00:03:49.399145Z"
    },
    "papermill": {
     "duration": 2.761886,
     "end_time": "2021-06-24T00:56:22.582799",
     "exception": false,
     "start_time": "2021-06-24T00:56:19.820913",
     "status": "completed"
    },
    "tags": []
   },
   "outputs": [
    {
     "name": "stdout",
     "output_type": "stream",
     "text": [
      "--2021-06-24 00:56:20--  https://raw.githubusercontent.com/aladdinpersson/Machine-Learning-Collection/master/ML/Pytorch/more_advanced/torchtext/mydata/train.csv\r\n",
      "Resolving raw.githubusercontent.com (raw.githubusercontent.com)... 185.199.111.133, 185.199.110.133, 185.199.109.133, ...\r\n",
      "Connecting to raw.githubusercontent.com (raw.githubusercontent.com)|185.199.111.133|:443... connected.\r\n",
      "HTTP request sent, awaiting response... 200 OK\r\n",
      "Length: 239 [text/plain]\r\n",
      "Saving to: ‘train.csv’\r\n",
      "\r\n",
      "train.csv           100%[===================>]     239  --.-KB/s    in 0s      \r\n",
      "\r\n",
      "2021-06-24 00:56:21 (11.7 MB/s) - ‘train.csv’ saved [239/239]\r\n",
      "\r\n",
      "--2021-06-24 00:56:21--  https://raw.githubusercontent.com/aladdinpersson/Machine-Learning-Collection/master/ML/Pytorch/more_advanced/torchtext/mydata/test.csv\r\n",
      "Resolving raw.githubusercontent.com (raw.githubusercontent.com)... 185.199.109.133, 185.199.110.133, 185.199.111.133, ...\r\n",
      "Connecting to raw.githubusercontent.com (raw.githubusercontent.com)|185.199.109.133|:443... connected.\r\n",
      "HTTP request sent, awaiting response... 200 OK\r\n",
      "Length: 239 [text/plain]\r\n",
      "Saving to: ‘test.csv’\r\n",
      "\r\n",
      "test.csv            100%[===================>]     239  --.-KB/s    in 0s      \r\n",
      "\r\n",
      "2021-06-24 00:56:22 (13.6 MB/s) - ‘test.csv’ saved [239/239]\r\n",
      "\r\n"
     ]
    }
   ],
   "source": [
    "!wget \"https://raw.githubusercontent.com/aladdinpersson/Machine-Learning-Collection/master/ML/Pytorch/more_advanced/torchtext/mydata/train.csv\"\n",
    "!wget \"https://raw.githubusercontent.com/aladdinpersson/Machine-Learning-Collection/master/ML/Pytorch/more_advanced/torchtext/mydata/test.csv\""
   ]
  },
  {
   "cell_type": "markdown",
   "id": "lasting-speaker",
   "metadata": {
    "papermill": {
     "duration": 0.016872,
     "end_time": "2021-06-24T00:56:22.617515",
     "exception": false,
     "start_time": "2021-06-24T00:56:22.600643",
     "status": "completed"
    },
    "tags": []
   },
   "source": [
    "Taken from : wonderful tutorial by Alladin perrson: https://www.youtube.com/watch?v=KRgq4VnCr7I&list=PLhhyoLH6IjfxeoooqP9rhU3HJIAVAJ3Vz&index=34"
   ]
  },
  {
   "cell_type": "code",
   "execution_count": 2,
   "id": "speaking-ethernet",
   "metadata": {
    "execution": {
     "iopub.execute_input": "2021-06-24T00:56:22.657527Z",
     "iopub.status.busy": "2021-06-24T00:56:22.656892Z",
     "iopub.status.idle": "2021-06-24T00:56:24.349199Z",
     "shell.execute_reply": "2021-06-24T00:56:24.348564Z",
     "shell.execute_reply.started": "2021-06-24T00:03:51.452319Z"
    },
    "papermill": {
     "duration": 1.714502,
     "end_time": "2021-06-24T00:56:24.349352",
     "exception": false,
     "start_time": "2021-06-24T00:56:22.634850",
     "status": "completed"
    },
    "tags": []
   },
   "outputs": [],
   "source": [
    "import torch\n",
    "import torch.optim as optim\n",
    "import torch.nn as nn\n",
    "import spacy\n",
    "from torchtext.data import Field, TabularDataset, BucketIterator"
   ]
  },
  {
   "cell_type": "code",
   "execution_count": 3,
   "id": "defensive-cambodia",
   "metadata": {
    "execution": {
     "iopub.execute_input": "2021-06-24T00:56:24.389287Z",
     "iopub.status.busy": "2021-06-24T00:56:24.388595Z",
     "iopub.status.idle": "2021-06-24T00:56:25.675049Z",
     "shell.execute_reply": "2021-06-24T00:56:25.674382Z",
     "shell.execute_reply.started": "2021-06-24T00:03:53.600087Z"
    },
    "papermill": {
     "duration": 1.308385,
     "end_time": "2021-06-24T00:56:25.675197",
     "exception": false,
     "start_time": "2021-06-24T00:56:24.366812",
     "status": "completed"
    },
    "tags": []
   },
   "outputs": [],
   "source": [
    "# steps\n",
    "\n",
    "# using preprocessing on the data > field\n",
    "# load dataset -> TabularDataset\n",
    "# iterator for batching and padding > BucketIterator\n",
    "\n",
    "device = torch.device('cuda' if torch.cuda.is_available() else 'cpu')\n",
    "\n",
    "spacy_en = spacy.load(\"en\")"
   ]
  },
  {
   "cell_type": "code",
   "execution_count": 4,
   "id": "humanitarian-thought",
   "metadata": {
    "execution": {
     "iopub.execute_input": "2021-06-24T00:56:25.715316Z",
     "iopub.status.busy": "2021-06-24T00:56:25.714280Z",
     "iopub.status.idle": "2021-06-24T00:56:25.717877Z",
     "shell.execute_reply": "2021-06-24T00:56:25.717240Z",
     "shell.execute_reply.started": "2021-06-24T00:03:55.001967Z"
    },
    "papermill": {
     "duration": 0.025377,
     "end_time": "2021-06-24T00:56:25.718017",
     "exception": false,
     "start_time": "2021-06-24T00:56:25.692640",
     "status": "completed"
    },
    "tags": []
   },
   "outputs": [],
   "source": [
    "def tokenize(text):\n",
    "    return [tok.text for tok in spacy_en.tokenizer(text)]"
   ]
  },
  {
   "cell_type": "code",
   "execution_count": 5,
   "id": "institutional-winter",
   "metadata": {
    "execution": {
     "iopub.execute_input": "2021-06-24T00:56:25.758197Z",
     "iopub.status.busy": "2021-06-24T00:56:25.757368Z",
     "iopub.status.idle": "2021-06-24T00:56:25.764532Z",
     "shell.execute_reply": "2021-06-24T00:56:25.764050Z",
     "shell.execute_reply.started": "2021-06-24T00:03:55.010439Z"
    },
    "papermill": {
     "duration": 0.029292,
     "end_time": "2021-06-24T00:56:25.764700",
     "exception": false,
     "start_time": "2021-06-24T00:56:25.735408",
     "status": "completed"
    },
    "tags": []
   },
   "outputs": [
    {
     "name": "stderr",
     "output_type": "stream",
     "text": [
      "/opt/conda/lib/python3.7/site-packages/torchtext/data/field.py:150: UserWarning: Field class will be retired soon and moved to torchtext.legacy. Please see the most recent release notes for further information.\n",
      "  warnings.warn('{} class will be retired soon and moved to torchtext.legacy. Please see the most recent release notes for further information.'.format(self.__class__.__name__), UserWarning)\n"
     ]
    }
   ],
   "source": [
    "quote = Field(sequential=True, use_vocab=True, tokenize=tokenize, lower=True)\n",
    "score = Field(sequential=False, use_vocab=False)\n",
    "\n",
    "fields = {\"quote\": (\"q\", quote),\"score\": (\"s\",score)}"
   ]
  },
  {
   "cell_type": "code",
   "execution_count": 6,
   "id": "green-personality",
   "metadata": {
    "execution": {
     "iopub.execute_input": "2021-06-24T00:56:25.805836Z",
     "iopub.status.busy": "2021-06-24T00:56:25.805176Z",
     "iopub.status.idle": "2021-06-24T00:56:25.812239Z",
     "shell.execute_reply": "2021-06-24T00:56:25.812820Z",
     "shell.execute_reply.started": "2021-06-24T00:03:55.029869Z"
    },
    "papermill": {
     "duration": 0.029993,
     "end_time": "2021-06-24T00:56:25.812986",
     "exception": false,
     "start_time": "2021-06-24T00:56:25.782993",
     "status": "completed"
    },
    "tags": []
   },
   "outputs": [
    {
     "name": "stderr",
     "output_type": "stream",
     "text": [
      "/opt/conda/lib/python3.7/site-packages/torchtext/data/example.py:68: UserWarning: Example class will be retired soon and moved to torchtext.legacy. Please see the most recent release notes for further information.\n",
      "  warnings.warn('Example class will be retired soon and moved to torchtext.legacy. Please see the most recent release notes for further information.', UserWarning)\n",
      "/opt/conda/lib/python3.7/site-packages/torchtext/data/example.py:52: UserWarning: Example class will be retired soon and moved to torchtext.legacy. Please see the most recent release notes for further information.\n",
      "  warnings.warn('Example class will be retired soon and moved to torchtext.legacy. Please see the most recent release notes for further information.', UserWarning)\n"
     ]
    }
   ],
   "source": [
    "train_data, test_data = TabularDataset.splits(path=\"./\", train=\"train.csv\", test=\"test.csv\", format=\"csv\", fields=fields)"
   ]
  },
  {
   "cell_type": "code",
   "execution_count": 7,
   "id": "demonstrated-saying",
   "metadata": {
    "execution": {
     "iopub.execute_input": "2021-06-24T00:56:25.853511Z",
     "iopub.status.busy": "2021-06-24T00:56:25.852847Z",
     "iopub.status.idle": "2021-06-24T00:56:25.856994Z",
     "shell.execute_reply": "2021-06-24T00:56:25.856168Z",
     "shell.execute_reply.started": "2021-06-24T00:03:55.049244Z"
    },
    "papermill": {
     "duration": 0.026327,
     "end_time": "2021-06-24T00:56:25.857166",
     "exception": false,
     "start_time": "2021-06-24T00:56:25.830839",
     "status": "completed"
    },
    "tags": []
   },
   "outputs": [
    {
     "name": "stdout",
     "output_type": "stream",
     "text": [
      "['you', 'must', 'own', 'everything', 'in', 'your', 'world', '.', 'there', 'is', 'no', 'one', 'else', 'to', 'blame', '.']\n",
      "1\n",
      "['do', 'not', 'pray', 'for', 'an', 'easy', 'life', ',', 'pray', 'for', 'the', 'strength', 'to', 'endure', 'a', 'difficult', 'one', '.']\n",
      "1\n",
      "['stand', 'tall', ',', 'and', 'rice', 'like', 'a', 'potato', '!']\n",
      "0\n"
     ]
    }
   ],
   "source": [
    "for batch in train_data:\n",
    "    print(batch.q)\n",
    "    print(batch.s)"
   ]
  },
  {
   "cell_type": "code",
   "execution_count": 8,
   "id": "wanted-albert",
   "metadata": {
    "execution": {
     "iopub.execute_input": "2021-06-24T00:56:25.900499Z",
     "iopub.status.busy": "2021-06-24T00:56:25.899785Z",
     "iopub.status.idle": "2021-06-24T00:59:52.369587Z",
     "shell.execute_reply": "2021-06-24T00:59:52.368935Z",
     "shell.execute_reply.started": "2021-06-24T00:03:55.060374Z"
    },
    "papermill": {
     "duration": 206.493505,
     "end_time": "2021-06-24T00:59:52.369771",
     "exception": false,
     "start_time": "2021-06-24T00:56:25.876266",
     "status": "completed"
    },
    "tags": []
   },
   "outputs": [
    {
     "name": "stderr",
     "output_type": "stream",
     "text": [
      ".vector_cache/glove.6B.zip: 862MB [02:42, 5.29MB/s]                           \n",
      "100%|█████████▉| 399999/400000 [00:22<00:00, 18027.90it/s]\n",
      "/opt/conda/lib/python3.7/site-packages/torchtext/data/iterator.py:48: UserWarning: BucketIterator class will be retired soon and moved to torchtext.legacy. Please see the most recent release notes for further information.\n",
      "  warnings.warn('{} class will be retired soon and moved to torchtext.legacy. Please see the most recent release notes for further information.'.format(self.__class__.__name__), UserWarning)\n"
     ]
    }
   ],
   "source": [
    "quote.build_vocab(train_data, max_size=10000, min_freq=1, vectors=\"glove.6B.100d\")\n",
    "\n",
    "train_iterator, test_iterator = BucketIterator.splits((train_data, test_data), batch_size=2, device=device)"
   ]
  },
  {
   "cell_type": "code",
   "execution_count": 9,
   "id": "listed-consciousness",
   "metadata": {
    "execution": {
     "iopub.execute_input": "2021-06-24T00:59:52.793435Z",
     "iopub.status.busy": "2021-06-24T00:59:52.792766Z",
     "iopub.status.idle": "2021-06-24T00:59:52.812953Z",
     "shell.execute_reply": "2021-06-24T00:59:52.813469Z",
     "shell.execute_reply.started": "2021-06-24T00:07:20.684738Z"
    },
    "papermill": {
     "duration": 0.235846,
     "end_time": "2021-06-24T00:59:52.813638",
     "exception": false,
     "start_time": "2021-06-24T00:59:52.577792",
     "status": "completed"
    },
    "tags": []
   },
   "outputs": [
    {
     "name": "stdout",
     "output_type": "stream",
     "text": [
      "tensor([[14, 29],\n",
      "        [25, 31],\n",
      "        [ 7,  3],\n",
      "        [ 5, 11],\n",
      "        [10, 28],\n",
      "        [15, 22],\n",
      "        [21,  4],\n",
      "        [ 3, 27],\n",
      "        [ 7,  9],\n",
      "        [ 5,  1],\n",
      "        [32,  1],\n",
      "        [30,  1],\n",
      "        [ 8,  1],\n",
      "        [17,  1],\n",
      "        [ 4,  1],\n",
      "        [13,  1],\n",
      "        [ 6,  1],\n",
      "        [ 2,  1]])\n",
      "tensor([1, 0])\n"
     ]
    },
    {
     "name": "stderr",
     "output_type": "stream",
     "text": [
      "/opt/conda/lib/python3.7/site-packages/torchtext/data/batch.py:23: UserWarning: Batch class will be retired soon and moved to torchtext.legacy. Please see the most recent release notes for further information.\n",
      "  warnings.warn('{} class will be retired soon and moved to torchtext.legacy. Please see the most recent release notes for further information.'.format(self.__class__.__name__), UserWarning)\n"
     ]
    }
   ],
   "source": [
    "for batch in train_iterator:\n",
    "    print(batch.q)\n",
    "    print(batch.s)\n",
    "    break"
   ]
  },
  {
   "cell_type": "code",
   "execution_count": 10,
   "id": "related-catalog",
   "metadata": {
    "execution": {
     "iopub.execute_input": "2021-06-24T00:59:53.243174Z",
     "iopub.status.busy": "2021-06-24T00:59:53.242428Z",
     "iopub.status.idle": "2021-06-24T00:59:53.245962Z",
     "shell.execute_reply": "2021-06-24T00:59:53.245369Z",
     "shell.execute_reply.started": "2021-06-24T00:21:08.028209Z"
    },
    "papermill": {
     "duration": 0.222362,
     "end_time": "2021-06-24T00:59:53.246109",
     "exception": false,
     "start_time": "2021-06-24T00:59:53.023747",
     "status": "completed"
    },
    "tags": []
   },
   "outputs": [],
   "source": [
    "class simpleLSTM(nn.Module):\n",
    "    def __init__(self,input_size,embed_size, hidden_size, num_layers):\n",
    "        super(simpleLSTM, self).__init__()\n",
    "        self.hidden_size = hidden_size\n",
    "        self.num_layers = num_layers\n",
    "        \n",
    "        self.embedding = nn.Embedding(input_size, embed_size)\n",
    "        self.lstm = nn.LSTM(embed_size, hidden_size, num_layers)\n",
    "        self.fc1 = nn.Linear(hidden_size,1)\n",
    "        \n",
    "    def forward(self, x):\n",
    "        \n",
    "        h0 = torch.zeros(self.num_layers, x.size(1), self.hidden_size).to(device=device)\n",
    "        c0 = torch.zeros(self.num_layers, x.size(1), self.hidden_size).to(device=device)\n",
    "        \n",
    "        out = self.embedding(x)\n",
    "        out, _ = self.lstm(out, (h0, c0))\n",
    "        out = self.fc1(out[-1,:,:])\n",
    "        \n",
    "        return out"
   ]
  },
  {
   "cell_type": "code",
   "execution_count": 11,
   "id": "based-avenue",
   "metadata": {
    "execution": {
     "iopub.execute_input": "2021-06-24T00:59:53.671112Z",
     "iopub.status.busy": "2021-06-24T00:59:53.670379Z",
     "iopub.status.idle": "2021-06-24T00:59:53.673564Z",
     "shell.execute_reply": "2021-06-24T00:59:53.673050Z",
     "shell.execute_reply.started": "2021-06-24T00:28:45.65902Z"
    },
    "papermill": {
     "duration": 0.217762,
     "end_time": "2021-06-24T00:59:53.673725",
     "exception": false,
     "start_time": "2021-06-24T00:59:53.455963",
     "status": "completed"
    },
    "tags": []
   },
   "outputs": [],
   "source": [
    "num_epochs = 5\n",
    "learning_rate = 0.005\n",
    "input_size = len(quote.vocab)\n",
    "hidden_size = 256\n",
    "num_layers = 2\n",
    "embed_size = 100"
   ]
  },
  {
   "cell_type": "code",
   "execution_count": 12,
   "id": "indie-nelson",
   "metadata": {
    "execution": {
     "iopub.execute_input": "2021-06-24T00:59:54.101886Z",
     "iopub.status.busy": "2021-06-24T00:59:54.101189Z",
     "iopub.status.idle": "2021-06-24T00:59:54.121738Z",
     "shell.execute_reply": "2021-06-24T00:59:54.121186Z",
     "shell.execute_reply.started": "2021-06-24T00:29:40.777231Z"
    },
    "papermill": {
     "duration": 0.237961,
     "end_time": "2021-06-24T00:59:54.121881",
     "exception": false,
     "start_time": "2021-06-24T00:59:53.883920",
     "status": "completed"
    },
    "tags": []
   },
   "outputs": [],
   "source": [
    "model = simpleLSTM(input_size,embed_size,hidden_size,num_layers).to(device=device)"
   ]
  },
  {
   "cell_type": "code",
   "execution_count": 13,
   "id": "guilty-efficiency",
   "metadata": {
    "execution": {
     "iopub.execute_input": "2021-06-24T00:59:54.546261Z",
     "iopub.status.busy": "2021-06-24T00:59:54.545538Z",
     "iopub.status.idle": "2021-06-24T00:59:54.588328Z",
     "shell.execute_reply": "2021-06-24T00:59:54.587705Z",
     "shell.execute_reply.started": "2021-06-24T00:30:50.537156Z"
    },
    "papermill": {
     "duration": 0.258651,
     "end_time": "2021-06-24T00:59:54.588466",
     "exception": false,
     "start_time": "2021-06-24T00:59:54.329815",
     "status": "completed"
    },
    "tags": []
   },
   "outputs": [
    {
     "data": {
      "text/plain": [
       "tensor([[ 0.0000,  0.0000,  0.0000,  ...,  0.0000,  0.0000,  0.0000],\n",
       "        [ 0.0000,  0.0000,  0.0000,  ...,  0.0000,  0.0000,  0.0000],\n",
       "        [-0.3398,  0.2094,  0.4635,  ..., -0.2339,  0.4730, -0.0288],\n",
       "        ...,\n",
       "        [ 0.4918,  1.1164,  1.1424,  ..., -0.5088,  0.6256,  0.4392],\n",
       "        [-0.4989,  0.7660,  0.8975,  ..., -0.4118,  0.4054,  0.7850],\n",
       "        [-0.5718,  0.0463,  0.8673,  ..., -0.3566,  0.9293,  0.8995]])"
      ]
     },
     "execution_count": 13,
     "metadata": {},
     "output_type": "execute_result"
    }
   ],
   "source": [
    "pretrained_embedding = quote.vocab.vectors\n",
    "model.embedding.weight.data.copy_(pretrained_embedding)"
   ]
  },
  {
   "cell_type": "code",
   "execution_count": 14,
   "id": "beautiful-acoustic",
   "metadata": {
    "execution": {
     "iopub.execute_input": "2021-06-24T00:59:55.018839Z",
     "iopub.status.busy": "2021-06-24T00:59:55.017859Z",
     "iopub.status.idle": "2021-06-24T00:59:55.021116Z",
     "shell.execute_reply": "2021-06-24T00:59:55.020534Z",
     "shell.execute_reply.started": "2021-06-24T00:33:44.438315Z"
    },
    "papermill": {
     "duration": 0.219856,
     "end_time": "2021-06-24T00:59:55.021254",
     "exception": false,
     "start_time": "2021-06-24T00:59:54.801398",
     "status": "completed"
    },
    "tags": []
   },
   "outputs": [],
   "source": [
    "optimizer = optim.Adam(model.parameters(),lr=learning_rate)\n",
    "loss_criterion = nn.BCEWithLogitsLoss()"
   ]
  },
  {
   "cell_type": "code",
   "execution_count": 15,
   "id": "nervous-roller",
   "metadata": {
    "execution": {
     "iopub.execute_input": "2021-06-24T00:59:55.444390Z",
     "iopub.status.busy": "2021-06-24T00:59:55.443744Z",
     "iopub.status.idle": "2021-06-24T00:59:55.759051Z",
     "shell.execute_reply": "2021-06-24T00:59:55.759659Z",
     "shell.execute_reply.started": "2021-06-24T00:39:24.632746Z"
    },
    "papermill": {
     "duration": 0.528811,
     "end_time": "2021-06-24T00:59:55.759877",
     "exception": false,
     "start_time": "2021-06-24T00:59:55.231066",
     "status": "completed"
    },
    "tags": []
   },
   "outputs": [
    {
     "name": "stdout",
     "output_type": "stream",
     "text": [
      "For epoch: 0, loss : 1.2036941051483154\n",
      "For epoch: 1, loss : 0.9098322987556458\n",
      "For epoch: 2, loss : 0.6328436732292175\n",
      "For epoch: 3, loss : 0.5629074573516846\n",
      "For epoch: 4, loss : 0.32545188069343567\n"
     ]
    }
   ],
   "source": [
    "for epoch in range(num_epochs):\n",
    "    \n",
    "    for batch_idx, batch in enumerate(train_iterator):\n",
    "        \n",
    "        data = batch.q.to(device=device)\n",
    "        target = batch.s.to(device=device)\n",
    "        \n",
    "        preds = model(data)\n",
    "        loss = loss_criterion(preds.squeeze(1), target.type_as(preds))\n",
    "        \n",
    "        optimizer.zero_grad()\n",
    "        \n",
    "        loss.backward()\n",
    "        \n",
    "        optimizer.step()\n",
    "        \n",
    "    print(f\"For epoch: {epoch}, loss : {loss}\")"
   ]
  },
  {
   "cell_type": "code",
   "execution_count": 16,
   "id": "characteristic-vanilla",
   "metadata": {
    "execution": {
     "iopub.execute_input": "2021-06-24T00:59:56.188905Z",
     "iopub.status.busy": "2021-06-24T00:59:56.187741Z",
     "iopub.status.idle": "2021-06-24T00:59:56.204955Z",
     "shell.execute_reply": "2021-06-24T00:59:56.205566Z",
     "shell.execute_reply.started": "2021-06-24T00:45:47.554618Z"
    },
    "papermill": {
     "duration": 0.23394,
     "end_time": "2021-06-24T00:59:56.205755",
     "exception": false,
     "start_time": "2021-06-24T00:59:55.971815",
     "status": "completed"
    },
    "tags": []
   },
   "outputs": [
    {
     "name": "stdout",
     "output_type": "stream",
     "text": [
      "For input tensor([[29],\n",
      "        [31],\n",
      "        [ 3],\n",
      "        [11],\n",
      "        [28],\n",
      "        [22],\n",
      "        [ 4],\n",
      "        [27],\n",
      "        [ 9]])\n",
      "0\n",
      "Output tensor([[-0.1909]], grad_fn=<AddmmBackward>)\n",
      "For input tensor([[14, 35],\n",
      "        [25, 23],\n",
      "        [ 7, 26],\n",
      "        [ 5, 18],\n",
      "        [10, 19],\n",
      "        [15, 36],\n",
      "        [21, 34],\n",
      "        [ 3,  2],\n",
      "        [ 7, 33],\n",
      "        [ 5, 20],\n",
      "        [32, 24],\n",
      "        [30,  6],\n",
      "        [ 8, 16],\n",
      "        [17,  8],\n",
      "        [ 4, 12],\n",
      "        [13,  2],\n",
      "        [ 6,  1],\n",
      "        [ 2,  1]])\n",
      "0\n",
      "0\n",
      "Output tensor([[2.0407],\n",
      "        [1.5301]], grad_fn=<AddmmBackward>)\n"
     ]
    }
   ],
   "source": [
    "for batch in train_iterator:\n",
    "    print(f\"For input {batch.q}\")\n",
    "    preds = model(batch.q.to(device=device))\n",
    "    \n",
    "    for p in preds.squeeze(0):\n",
    "        print(quote.vocab[p])\n",
    "        \n",
    "    print(f\"Output {preds}\")"
   ]
  },
  {
   "cell_type": "code",
   "execution_count": null,
   "id": "isolated-breast",
   "metadata": {
    "execution": {
     "iopub.execute_input": "2021-06-24T00:55:04.766537Z",
     "iopub.status.busy": "2021-06-24T00:55:04.765934Z",
     "iopub.status.idle": "2021-06-24T00:55:04.78714Z",
     "shell.execute_reply": "2021-06-24T00:55:04.785945Z",
     "shell.execute_reply.started": "2021-06-24T00:55:04.766497Z"
    },
    "papermill": {
     "duration": 0.209147,
     "end_time": "2021-06-24T00:59:56.626809",
     "exception": false,
     "start_time": "2021-06-24T00:59:56.417662",
     "status": "completed"
    },
    "tags": []
   },
   "outputs": [],
   "source": []
  }
 ],
 "metadata": {
  "kernelspec": {
   "display_name": "Python 3",
   "language": "python",
   "name": "python3"
  },
  "language_info": {
   "codemirror_mode": {
    "name": "ipython",
    "version": 3
   },
   "file_extension": ".py",
   "mimetype": "text/x-python",
   "name": "python",
   "nbconvert_exporter": "python",
   "pygments_lexer": "ipython3",
   "version": "3.7.10"
  },
  "papermill": {
   "default_parameters": {},
   "duration": 226.986253,
   "end_time": "2021-06-24T00:59:58.639005",
   "environment_variables": {},
   "exception": null,
   "input_path": "__notebook__.ipynb",
   "output_path": "__notebook__.ipynb",
   "parameters": {},
   "start_time": "2021-06-24T00:56:11.652752",
   "version": "2.3.3"
  }
 },
 "nbformat": 4,
 "nbformat_minor": 5
}
