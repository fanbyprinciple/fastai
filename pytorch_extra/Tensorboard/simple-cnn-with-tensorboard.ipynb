{
 "cells": [
  {
   "cell_type": "markdown",
   "id": "precise-spare",
   "metadata": {
    "papermill": {
     "duration": 0.018716,
     "end_time": "2021-06-30T01:10:29.123972",
     "exception": false,
     "start_time": "2021-06-30T01:10:29.105256",
     "status": "completed"
    },
    "tags": []
   },
   "source": [
    "### Imports"
   ]
  },
  {
   "cell_type": "code",
   "execution_count": 1,
   "id": "universal-galaxy",
   "metadata": {
    "execution": {
     "iopub.execute_input": "2021-06-30T01:10:29.165496Z",
     "iopub.status.busy": "2021-06-30T01:10:29.164273Z",
     "iopub.status.idle": "2021-06-30T01:10:37.725060Z",
     "shell.execute_reply": "2021-06-30T01:10:37.725810Z",
     "shell.execute_reply.started": "2021-06-30T00:55:43.000461Z"
    },
    "papermill": {
     "duration": 8.584559,
     "end_time": "2021-06-30T01:10:37.726128",
     "exception": false,
     "start_time": "2021-06-30T01:10:29.141569",
     "status": "completed"
    },
    "tags": []
   },
   "outputs": [
    {
     "data": {
      "text/html": [
       "\n",
       "      <iframe id=\"tensorboard-frame-fd15e0a4a99b6e24\" width=\"100%\" height=\"800\" frameborder=\"0\">\n",
       "      </iframe>\n",
       "      <script>\n",
       "        (function() {\n",
       "          const frame = document.getElementById(\"tensorboard-frame-fd15e0a4a99b6e24\");\n",
       "          const url = new URL(\"/\", window.location);\n",
       "          const port = 6006;\n",
       "          if (port) {\n",
       "            url.port = port;\n",
       "          }\n",
       "          frame.src = url;\n",
       "        })();\n",
       "      </script>\n",
       "    "
      ],
      "text/plain": [
       "<IPython.core.display.HTML object>"
      ]
     },
     "metadata": {},
     "output_type": "display_data"
    }
   ],
   "source": [
    "# Load the extension and start TensorBoard\n",
    "\n",
    "%load_ext tensorboard\n",
    "%tensorboard --logdir logs"
   ]
  },
  {
   "cell_type": "code",
   "execution_count": 2,
   "id": "incredible-supply",
   "metadata": {
    "_cell_guid": "b1076dfc-b9ad-4769-8c92-a6c4dae69d19",
    "_uuid": "8f2839f25d086af736a60e9eeb907d3b93b6e0e5",
    "execution": {
     "iopub.execute_input": "2021-06-30T01:10:37.774361Z",
     "iopub.status.busy": "2021-06-30T01:10:37.773522Z",
     "iopub.status.idle": "2021-06-30T01:10:39.036916Z",
     "shell.execute_reply": "2021-06-30T01:10:39.036197Z",
     "shell.execute_reply.started": "2021-06-30T00:55:51.575938Z"
    },
    "papermill": {
     "duration": 1.288168,
     "end_time": "2021-06-30T01:10:39.037063",
     "exception": false,
     "start_time": "2021-06-30T01:10:37.748895",
     "status": "completed"
    },
    "tags": []
   },
   "outputs": [],
   "source": [
    "import torch\n",
    "import torch.nn as nn\n",
    "import torch.optim as optim\n",
    "import torchvision\n",
    "import torchvision.datasets as datasets\n",
    "import torchvision.transforms as transforms\n",
    "import torch.nn.functional as F\n",
    "from torch.utils.data import DataLoader,Dataset\n",
    "from tqdm import tqdm\n",
    "\n",
    "from torch.utils.tensorboard import SummaryWriter"
   ]
  },
  {
   "cell_type": "markdown",
   "id": "likely-saying",
   "metadata": {
    "papermill": {
     "duration": 0.01731,
     "end_time": "2021-06-30T01:10:39.072206",
     "exception": false,
     "start_time": "2021-06-30T01:10:39.054896",
     "status": "completed"
    },
    "tags": []
   },
   "source": [
    "### Defining the model"
   ]
  },
  {
   "cell_type": "code",
   "execution_count": 3,
   "id": "tested-rapid",
   "metadata": {
    "execution": {
     "iopub.execute_input": "2021-06-30T01:10:39.118913Z",
     "iopub.status.busy": "2021-06-30T01:10:39.117937Z",
     "iopub.status.idle": "2021-06-30T01:10:39.120960Z",
     "shell.execute_reply": "2021-06-30T01:10:39.120460Z",
     "shell.execute_reply.started": "2021-06-30T00:55:52.797066Z"
    },
    "papermill": {
     "duration": 0.031163,
     "end_time": "2021-06-30T01:10:39.121100",
     "exception": false,
     "start_time": "2021-06-30T01:10:39.089937",
     "status": "completed"
    },
    "tags": []
   },
   "outputs": [],
   "source": [
    "class CNN(nn.Module):\n",
    "    def __init__(self, input_channels=1, num_size=10):\n",
    "        super(CNN, self).__init__()\n",
    "        self.conv1 = nn.Conv2d( in_channels=in_channels, out_channels=8, kernel_size=(3,3), padding=(1,1), stride=(1,1))\n",
    "        self.pool = nn.MaxPool2d(kernel_size=(2,2), stride=(2,2))\n",
    "        self.conv2 = nn.Conv2d(in_channels=8, out_channels=16, kernel_size=(3,3), stride=(1,1), padding=(1,1))\n",
    "        self.fc1 = nn.Linear(16 * 7 * 7, num_size)\n",
    "    \n",
    "    def forward(self, x):\n",
    "        x = F.relu(self.conv1(x))\n",
    "        x = self.pool(x)\n",
    "        x = F.relu(self.conv2(x))\n",
    "        x = self.pool(x)\n",
    "        x = x.reshape(x.shape[0], -1)\n",
    "        x = self.fc1(x)\n",
    "        return x"
   ]
  },
  {
   "cell_type": "markdown",
   "id": "objective-treatment",
   "metadata": {
    "papermill": {
     "duration": 0.017404,
     "end_time": "2021-06-30T01:10:39.156248",
     "exception": false,
     "start_time": "2021-06-30T01:10:39.138844",
     "status": "completed"
    },
    "tags": []
   },
   "source": [
    "### Hyperparameters"
   ]
  },
  {
   "cell_type": "code",
   "execution_count": 4,
   "id": "intermediate-campbell",
   "metadata": {
    "execution": {
     "iopub.execute_input": "2021-06-30T01:10:39.197772Z",
     "iopub.status.busy": "2021-06-30T01:10:39.197117Z",
     "iopub.status.idle": "2021-06-30T01:10:39.199005Z",
     "shell.execute_reply": "2021-06-30T01:10:39.199433Z",
     "shell.execute_reply.started": "2021-06-30T00:55:52.808939Z"
    },
    "papermill": {
     "duration": 0.025585,
     "end_time": "2021-06-30T01:10:39.199606",
     "exception": false,
     "start_time": "2021-06-30T01:10:39.174021",
     "status": "completed"
    },
    "tags": []
   },
   "outputs": [],
   "source": [
    "device = torch.device('cuda' if torch.cuda.is_available() else 'cpu')\n",
    "\n",
    "in_channels =1\n",
    "num_classes = 10\n",
    "num_epochs = 3\n",
    "learning_rate = 0.001\n",
    "batch_size = 64"
   ]
  },
  {
   "cell_type": "markdown",
   "id": "acquired-doctor",
   "metadata": {
    "papermill": {
     "duration": 0.01742,
     "end_time": "2021-06-30T01:10:39.234872",
     "exception": false,
     "start_time": "2021-06-30T01:10:39.217452",
     "status": "completed"
    },
    "tags": []
   },
   "source": [
    "### Getting the dataset"
   ]
  },
  {
   "cell_type": "code",
   "execution_count": 5,
   "id": "beneficial-terrorism",
   "metadata": {
    "execution": {
     "iopub.execute_input": "2021-06-30T01:10:39.274098Z",
     "iopub.status.busy": "2021-06-30T01:10:39.273436Z",
     "iopub.status.idle": "2021-06-30T01:10:43.079686Z",
     "shell.execute_reply": "2021-06-30T01:10:43.080163Z",
     "shell.execute_reply.started": "2021-06-30T00:55:52.822677Z"
    },
    "papermill": {
     "duration": 3.827592,
     "end_time": "2021-06-30T01:10:43.080341",
     "exception": false,
     "start_time": "2021-06-30T01:10:39.252749",
     "status": "completed"
    },
    "tags": []
   },
   "outputs": [
    {
     "data": {
      "text/html": [
       "<div>\n",
       "<style scoped>\n",
       "    .dataframe tbody tr th:only-of-type {\n",
       "        vertical-align: middle;\n",
       "    }\n",
       "\n",
       "    .dataframe tbody tr th {\n",
       "        vertical-align: top;\n",
       "    }\n",
       "\n",
       "    .dataframe thead th {\n",
       "        text-align: right;\n",
       "    }\n",
       "</style>\n",
       "<table border=\"1\" class=\"dataframe\">\n",
       "  <thead>\n",
       "    <tr style=\"text-align: right;\">\n",
       "      <th></th>\n",
       "      <th>label</th>\n",
       "      <th>pixel0</th>\n",
       "      <th>pixel1</th>\n",
       "      <th>pixel2</th>\n",
       "      <th>pixel3</th>\n",
       "      <th>pixel4</th>\n",
       "      <th>pixel5</th>\n",
       "      <th>pixel6</th>\n",
       "      <th>pixel7</th>\n",
       "      <th>pixel8</th>\n",
       "      <th>...</th>\n",
       "      <th>pixel774</th>\n",
       "      <th>pixel775</th>\n",
       "      <th>pixel776</th>\n",
       "      <th>pixel777</th>\n",
       "      <th>pixel778</th>\n",
       "      <th>pixel779</th>\n",
       "      <th>pixel780</th>\n",
       "      <th>pixel781</th>\n",
       "      <th>pixel782</th>\n",
       "      <th>pixel783</th>\n",
       "    </tr>\n",
       "  </thead>\n",
       "  <tbody>\n",
       "    <tr>\n",
       "      <th>0</th>\n",
       "      <td>1</td>\n",
       "      <td>0</td>\n",
       "      <td>0</td>\n",
       "      <td>0</td>\n",
       "      <td>0</td>\n",
       "      <td>0</td>\n",
       "      <td>0</td>\n",
       "      <td>0</td>\n",
       "      <td>0</td>\n",
       "      <td>0</td>\n",
       "      <td>...</td>\n",
       "      <td>0</td>\n",
       "      <td>0</td>\n",
       "      <td>0</td>\n",
       "      <td>0</td>\n",
       "      <td>0</td>\n",
       "      <td>0</td>\n",
       "      <td>0</td>\n",
       "      <td>0</td>\n",
       "      <td>0</td>\n",
       "      <td>0</td>\n",
       "    </tr>\n",
       "    <tr>\n",
       "      <th>1</th>\n",
       "      <td>0</td>\n",
       "      <td>0</td>\n",
       "      <td>0</td>\n",
       "      <td>0</td>\n",
       "      <td>0</td>\n",
       "      <td>0</td>\n",
       "      <td>0</td>\n",
       "      <td>0</td>\n",
       "      <td>0</td>\n",
       "      <td>0</td>\n",
       "      <td>...</td>\n",
       "      <td>0</td>\n",
       "      <td>0</td>\n",
       "      <td>0</td>\n",
       "      <td>0</td>\n",
       "      <td>0</td>\n",
       "      <td>0</td>\n",
       "      <td>0</td>\n",
       "      <td>0</td>\n",
       "      <td>0</td>\n",
       "      <td>0</td>\n",
       "    </tr>\n",
       "    <tr>\n",
       "      <th>2</th>\n",
       "      <td>1</td>\n",
       "      <td>0</td>\n",
       "      <td>0</td>\n",
       "      <td>0</td>\n",
       "      <td>0</td>\n",
       "      <td>0</td>\n",
       "      <td>0</td>\n",
       "      <td>0</td>\n",
       "      <td>0</td>\n",
       "      <td>0</td>\n",
       "      <td>...</td>\n",
       "      <td>0</td>\n",
       "      <td>0</td>\n",
       "      <td>0</td>\n",
       "      <td>0</td>\n",
       "      <td>0</td>\n",
       "      <td>0</td>\n",
       "      <td>0</td>\n",
       "      <td>0</td>\n",
       "      <td>0</td>\n",
       "      <td>0</td>\n",
       "    </tr>\n",
       "    <tr>\n",
       "      <th>3</th>\n",
       "      <td>4</td>\n",
       "      <td>0</td>\n",
       "      <td>0</td>\n",
       "      <td>0</td>\n",
       "      <td>0</td>\n",
       "      <td>0</td>\n",
       "      <td>0</td>\n",
       "      <td>0</td>\n",
       "      <td>0</td>\n",
       "      <td>0</td>\n",
       "      <td>...</td>\n",
       "      <td>0</td>\n",
       "      <td>0</td>\n",
       "      <td>0</td>\n",
       "      <td>0</td>\n",
       "      <td>0</td>\n",
       "      <td>0</td>\n",
       "      <td>0</td>\n",
       "      <td>0</td>\n",
       "      <td>0</td>\n",
       "      <td>0</td>\n",
       "    </tr>\n",
       "    <tr>\n",
       "      <th>4</th>\n",
       "      <td>0</td>\n",
       "      <td>0</td>\n",
       "      <td>0</td>\n",
       "      <td>0</td>\n",
       "      <td>0</td>\n",
       "      <td>0</td>\n",
       "      <td>0</td>\n",
       "      <td>0</td>\n",
       "      <td>0</td>\n",
       "      <td>0</td>\n",
       "      <td>...</td>\n",
       "      <td>0</td>\n",
       "      <td>0</td>\n",
       "      <td>0</td>\n",
       "      <td>0</td>\n",
       "      <td>0</td>\n",
       "      <td>0</td>\n",
       "      <td>0</td>\n",
       "      <td>0</td>\n",
       "      <td>0</td>\n",
       "      <td>0</td>\n",
       "    </tr>\n",
       "  </tbody>\n",
       "</table>\n",
       "<p>5 rows × 785 columns</p>\n",
       "</div>"
      ],
      "text/plain": [
       "   label  pixel0  pixel1  pixel2  pixel3  pixel4  pixel5  pixel6  pixel7  \\\n",
       "0      1       0       0       0       0       0       0       0       0   \n",
       "1      0       0       0       0       0       0       0       0       0   \n",
       "2      1       0       0       0       0       0       0       0       0   \n",
       "3      4       0       0       0       0       0       0       0       0   \n",
       "4      0       0       0       0       0       0       0       0       0   \n",
       "\n",
       "   pixel8  ...  pixel774  pixel775  pixel776  pixel777  pixel778  pixel779  \\\n",
       "0       0  ...         0         0         0         0         0         0   \n",
       "1       0  ...         0         0         0         0         0         0   \n",
       "2       0  ...         0         0         0         0         0         0   \n",
       "3       0  ...         0         0         0         0         0         0   \n",
       "4       0  ...         0         0         0         0         0         0   \n",
       "\n",
       "   pixel780  pixel781  pixel782  pixel783  \n",
       "0         0         0         0         0  \n",
       "1         0         0         0         0  \n",
       "2         0         0         0         0  \n",
       "3         0         0         0         0  \n",
       "4         0         0         0         0  \n",
       "\n",
       "[5 rows x 785 columns]"
      ]
     },
     "execution_count": 5,
     "metadata": {},
     "output_type": "execute_result"
    }
   ],
   "source": [
    "import pandas as pd\n",
    "\n",
    "df = pd.read_csv('../input/digit-recognizer/train.csv')\n",
    "df.head()"
   ]
  },
  {
   "cell_type": "code",
   "execution_count": 6,
   "id": "circular-asthma",
   "metadata": {
    "execution": {
     "iopub.execute_input": "2021-06-30T01:10:43.125991Z",
     "iopub.status.busy": "2021-06-30T01:10:43.125153Z",
     "iopub.status.idle": "2021-06-30T01:10:43.129325Z",
     "shell.execute_reply": "2021-06-30T01:10:43.128842Z",
     "shell.execute_reply.started": "2021-06-30T00:55:56.575349Z"
    },
    "papermill": {
     "duration": 0.030638,
     "end_time": "2021-06-30T01:10:43.129466",
     "exception": false,
     "start_time": "2021-06-30T01:10:43.098828",
     "status": "completed"
    },
    "tags": []
   },
   "outputs": [
    {
     "data": {
      "text/plain": [
       "array([1, 0, 1, ..., 7, 6, 9])"
      ]
     },
     "execution_count": 6,
     "metadata": {},
     "output_type": "execute_result"
    }
   ],
   "source": [
    "df['label'].values"
   ]
  },
  {
   "cell_type": "code",
   "execution_count": 7,
   "id": "dimensional-tolerance",
   "metadata": {
    "execution": {
     "iopub.execute_input": "2021-06-30T01:10:43.172910Z",
     "iopub.status.busy": "2021-06-30T01:10:43.172001Z",
     "iopub.status.idle": "2021-06-30T01:10:43.176087Z",
     "shell.execute_reply": "2021-06-30T01:10:43.175572Z",
     "shell.execute_reply.started": "2021-06-30T00:55:56.584793Z"
    },
    "papermill": {
     "duration": 0.028068,
     "end_time": "2021-06-30T01:10:43.176221",
     "exception": false,
     "start_time": "2021-06-30T01:10:43.148153",
     "status": "completed"
    },
    "tags": []
   },
   "outputs": [
    {
     "data": {
      "text/plain": [
       "array([[0, 0, 0, ..., 0, 0, 0],\n",
       "       [0, 0, 0, ..., 0, 0, 0],\n",
       "       [0, 0, 0, ..., 0, 0, 0],\n",
       "       ...,\n",
       "       [0, 0, 0, ..., 0, 0, 0],\n",
       "       [0, 0, 0, ..., 0, 0, 0],\n",
       "       [0, 0, 0, ..., 0, 0, 0]])"
      ]
     },
     "execution_count": 7,
     "metadata": {},
     "output_type": "execute_result"
    }
   ],
   "source": [
    " df.iloc[:,1:].values"
   ]
  },
  {
   "cell_type": "code",
   "execution_count": 8,
   "id": "running-fifth",
   "metadata": {
    "execution": {
     "iopub.execute_input": "2021-06-30T01:10:43.221421Z",
     "iopub.status.busy": "2021-06-30T01:10:43.220761Z",
     "iopub.status.idle": "2021-06-30T01:10:43.223615Z",
     "shell.execute_reply": "2021-06-30T01:10:43.224098Z",
     "shell.execute_reply.started": "2021-06-30T00:55:56.598555Z"
    },
    "papermill": {
     "duration": 0.028943,
     "end_time": "2021-06-30T01:10:43.224274",
     "exception": false,
     "start_time": "2021-06-30T01:10:43.195331",
     "status": "completed"
    },
    "tags": []
   },
   "outputs": [],
   "source": [
    "class getTrainDataset(Dataset):\n",
    "    def __init__(self,csv_path='../input/digit-recognizer/train.csv'):\n",
    "        \n",
    "        df = pd.read_csv(csv_path)\n",
    "        \n",
    "        self.y = torch.from_numpy(df.iloc[:,0].values)\n",
    "        self.x = torch.from_numpy(df.iloc[:, 1:].values)\n",
    "    \n",
    "    def __len__(self):\n",
    "        return len(self.y)\n",
    "    \n",
    "    def __getitem__(self, index):\n",
    "        return self.x[index], self.y[index]"
   ]
  },
  {
   "cell_type": "code",
   "execution_count": 9,
   "id": "blind-trainer",
   "metadata": {
    "execution": {
     "iopub.execute_input": "2021-06-30T01:10:43.266850Z",
     "iopub.status.busy": "2021-06-30T01:10:43.266224Z",
     "iopub.status.idle": "2021-06-30T01:10:46.202055Z",
     "shell.execute_reply": "2021-06-30T01:10:46.201467Z",
     "shell.execute_reply.started": "2021-06-30T00:55:56.610278Z"
    },
    "papermill": {
     "duration": 2.958772,
     "end_time": "2021-06-30T01:10:46.202205",
     "exception": false,
     "start_time": "2021-06-30T01:10:43.243433",
     "status": "completed"
    },
    "tags": []
   },
   "outputs": [],
   "source": [
    "train_dataset = getTrainDataset()"
   ]
  },
  {
   "cell_type": "code",
   "execution_count": 10,
   "id": "organic-auction",
   "metadata": {
    "execution": {
     "iopub.execute_input": "2021-06-30T01:10:46.254803Z",
     "iopub.status.busy": "2021-06-30T01:10:46.253933Z",
     "iopub.status.idle": "2021-06-30T01:10:46.263756Z",
     "shell.execute_reply": "2021-06-30T01:10:46.264191Z",
     "shell.execute_reply.started": "2021-06-30T00:55:59.514503Z"
    },
    "papermill": {
     "duration": 0.043624,
     "end_time": "2021-06-30T01:10:46.264364",
     "exception": false,
     "start_time": "2021-06-30T01:10:46.220740",
     "status": "completed"
    },
    "tags": []
   },
   "outputs": [
    {
     "data": {
      "text/plain": [
       "(tensor(9), torch.Size([784]))"
      ]
     },
     "execution_count": 10,
     "metadata": {},
     "output_type": "execute_result"
    }
   ],
   "source": [
    "x, y = train_dataset[100]\n",
    "\n",
    "y, x.shape"
   ]
  },
  {
   "cell_type": "code",
   "execution_count": 11,
   "id": "fundamental-rabbit",
   "metadata": {
    "execution": {
     "iopub.execute_input": "2021-06-30T01:10:46.305913Z",
     "iopub.status.busy": "2021-06-30T01:10:46.305285Z",
     "iopub.status.idle": "2021-06-30T01:10:46.465903Z",
     "shell.execute_reply": "2021-06-30T01:10:46.466416Z",
     "shell.execute_reply.started": "2021-06-30T00:55:59.538626Z"
    },
    "papermill": {
     "duration": 0.182921,
     "end_time": "2021-06-30T01:10:46.466592",
     "exception": false,
     "start_time": "2021-06-30T01:10:46.283671",
     "status": "completed"
    },
    "tags": []
   },
   "outputs": [
    {
     "data": {
      "text/plain": [
       "<matplotlib.image.AxesImage at 0x7fc32db99790>"
      ]
     },
     "execution_count": 11,
     "metadata": {},
     "output_type": "execute_result"
    },
    {
     "data": {
      "image/png": "[encoded data removed]",
      "text/plain": [
       "<Figure size 432x288 with 1 Axes>"
      ]
     },
     "metadata": {
      "needs_background": "light"
     },
     "output_type": "display_data"
    }
   ],
   "source": [
    "x = x.reshape(1, 28, 28)\n",
    "\n",
    "import matplotlib.pyplot as plt\n",
    "\n",
    "plt.imshow(x.permute(1,2,0))"
   ]
  },
  {
   "cell_type": "code",
   "execution_count": 12,
   "id": "attempted-steam",
   "metadata": {
    "execution": {
     "iopub.execute_input": "2021-06-30T01:10:46.511989Z",
     "iopub.status.busy": "2021-06-30T01:10:46.511137Z",
     "iopub.status.idle": "2021-06-30T01:10:46.514406Z",
     "shell.execute_reply": "2021-06-30T01:10:46.514983Z",
     "shell.execute_reply.started": "2021-06-30T00:55:59.706841Z"
    },
    "papermill": {
     "duration": 0.028881,
     "end_time": "2021-06-30T01:10:46.515161",
     "exception": false,
     "start_time": "2021-06-30T01:10:46.486280",
     "status": "completed"
    },
    "tags": []
   },
   "outputs": [
    {
     "data": {
      "text/plain": [
       "42000"
      ]
     },
     "execution_count": 12,
     "metadata": {},
     "output_type": "execute_result"
    }
   ],
   "source": [
    "train_dataset.__len__()"
   ]
  },
  {
   "cell_type": "code",
   "execution_count": 13,
   "id": "surprising-museum",
   "metadata": {
    "execution": {
     "iopub.execute_input": "2021-06-30T01:10:46.559437Z",
     "iopub.status.busy": "2021-06-30T01:10:46.558472Z",
     "iopub.status.idle": "2021-06-30T01:10:46.563166Z",
     "shell.execute_reply": "2021-06-30T01:10:46.563667Z",
     "shell.execute_reply.started": "2021-06-30T00:55:59.714539Z"
    },
    "papermill": {
     "duration": 0.02845,
     "end_time": "2021-06-30T01:10:46.563856",
     "exception": false,
     "start_time": "2021-06-30T01:10:46.535406",
     "status": "completed"
    },
    "tags": []
   },
   "outputs": [],
   "source": [
    "train_dataloader = DataLoader(dataset=train_dataset, shuffle=True, batch_size=batch_size)"
   ]
  },
  {
   "cell_type": "code",
   "execution_count": 14,
   "id": "coordinated-trade",
   "metadata": {
    "execution": {
     "iopub.execute_input": "2021-06-30T01:10:46.613309Z",
     "iopub.status.busy": "2021-06-30T01:10:46.612622Z",
     "iopub.status.idle": "2021-06-30T01:10:46.628877Z",
     "shell.execute_reply": "2021-06-30T01:10:46.628312Z",
     "shell.execute_reply.started": "2021-06-30T00:55:59.730873Z"
    },
    "papermill": {
     "duration": 0.044017,
     "end_time": "2021-06-30T01:10:46.629053",
     "exception": false,
     "start_time": "2021-06-30T01:10:46.585036",
     "status": "completed"
    },
    "tags": []
   },
   "outputs": [],
   "source": [
    "model = CNN().to(device=device)"
   ]
  },
  {
   "cell_type": "code",
   "execution_count": 15,
   "id": "secret-italy",
   "metadata": {
    "execution": {
     "iopub.execute_input": "2021-06-30T01:10:46.676725Z",
     "iopub.status.busy": "2021-06-30T01:10:46.675733Z",
     "iopub.status.idle": "2021-06-30T01:10:48.707023Z",
     "shell.execute_reply": "2021-06-30T01:10:48.706112Z",
     "shell.execute_reply.started": "2021-06-30T00:55:59.758352Z"
    },
    "papermill": {
     "duration": 2.057366,
     "end_time": "2021-06-30T01:10:48.707188",
     "exception": false,
     "start_time": "2021-06-30T01:10:46.649822",
     "status": "completed"
    },
    "tags": []
   },
   "outputs": [],
   "source": [
    "optimizer = optim.Adam(model.parameters(), lr=learning_rate)\n",
    "loss_criterion = nn.CrossEntropyLoss()\n",
    "\n",
    "writer = SummaryWriter(f'runs/MNIST/trying_out_tensorboard')\n"
   ]
  },
  {
   "cell_type": "code",
   "execution_count": 16,
   "id": "thick-anderson",
   "metadata": {
    "execution": {
     "iopub.execute_input": "2021-06-30T01:10:48.752954Z",
     "iopub.status.busy": "2021-06-30T01:10:48.751996Z",
     "iopub.status.idle": "2021-06-30T01:11:09.080193Z",
     "shell.execute_reply": "2021-06-30T01:11:09.079446Z",
     "shell.execute_reply.started": "2021-06-30T00:56:01.671894Z"
    },
    "papermill": {
     "duration": 20.351694,
     "end_time": "2021-06-30T01:11:09.080371",
     "exception": false,
     "start_time": "2021-06-30T01:10:48.728677",
     "status": "completed"
    },
    "tags": []
   },
   "outputs": [
    {
     "name": "stderr",
     "output_type": "stream",
     "text": [
      "100%|██████████| 657/657 [00:06<00:00, 99.59it/s] \n",
      "100%|██████████| 657/657 [00:06<00:00, 95.54it/s]\n",
      "100%|██████████| 657/657 [00:06<00:00, 96.21it/s]\n"
     ]
    }
   ],
   "source": [
    "step = 0\n",
    "for epoch in range(num_epochs):\n",
    "    total_correct = 0\n",
    "    for data, target in tqdm(train_dataloader):\n",
    "        data = data.reshape(data.shape[0],1,28,28).float()\n",
    "        target = target.long()\n",
    "        data = data.to(device=device)\n",
    "        target = target.to(device=device)\n",
    "        \n",
    "        scores = model(data)\n",
    "        loss = loss_criterion(scores, target)\n",
    "        \n",
    "        optimizer.zero_grad()\n",
    "        loss.backward()\n",
    "        optimizer.step()\n",
    "        \n",
    "        _, predictions = scores.max(1)\n",
    "        total_correct += (target==predictions).sum()\n",
    "        accuracy = float(total_correct/target.shape[0])\n",
    "        \n",
    "        writer.add_scalar('training loss', loss, global_step=step)\n",
    "        writer.add_scalar('training accuracy',accuracy, global_step=step )\n",
    "        step += 1"
   ]
  },
  {
   "cell_type": "code",
   "execution_count": 17,
   "id": "primary-whale",
   "metadata": {
    "execution": {
     "iopub.execute_input": "2021-06-30T01:11:09.253225Z",
     "iopub.status.busy": "2021-06-30T01:11:09.252492Z",
     "iopub.status.idle": "2021-06-30T01:11:09.256403Z",
     "shell.execute_reply": "2021-06-30T01:11:09.255753Z",
     "shell.execute_reply.started": "2021-06-30T00:56:20.818368Z"
    },
    "papermill": {
     "duration": 0.091576,
     "end_time": "2021-06-30T01:11:09.256550",
     "exception": false,
     "start_time": "2021-06-30T01:11:09.164974",
     "status": "completed"
    },
    "tags": []
   },
   "outputs": [],
   "source": [
    "def check_accuracy(model, loader):\n",
    "    \n",
    "    model.eval()\n",
    "    \n",
    "    total_correct = 0\n",
    "    total_cases = 0\n",
    "    \n",
    "    for x,y in tqdm(loader):\n",
    "        x = x.reshape(x.shape[0],1,28,28).float()\n",
    "        y = y.long()\n",
    "        x = x.to(device=device)\n",
    "        y = y.to(device=device)\n",
    "        \n",
    "        scores = model(x)\n",
    "        \n",
    "        _, predictions = scores.max(1)\n",
    "        total_correct += (y==predictions).sum()\n",
    "        total_cases += y.shape[0]\n",
    "        \n",
    "    model.train()\n",
    "    \n",
    "    print(f\"total correct: {total_correct} out of {total_cases} with an accuracy of {float(total_correct/total_cases)}\")"
   ]
  },
  {
   "cell_type": "code",
   "execution_count": 18,
   "id": "interior-spain",
   "metadata": {
    "execution": {
     "iopub.execute_input": "2021-06-30T01:11:09.424777Z",
     "iopub.status.busy": "2021-06-30T01:11:09.423867Z",
     "iopub.status.idle": "2021-06-30T01:11:12.743973Z",
     "shell.execute_reply": "2021-06-30T01:11:12.744465Z",
     "shell.execute_reply.started": "2021-06-30T00:56:20.827685Z"
    },
    "papermill": {
     "duration": 3.40756,
     "end_time": "2021-06-30T01:11:12.744645",
     "exception": false,
     "start_time": "2021-06-30T01:11:09.337085",
     "status": "completed"
    },
    "tags": []
   },
   "outputs": [
    {
     "name": "stderr",
     "output_type": "stream",
     "text": [
      "100%|██████████| 657/657 [00:03<00:00, 198.29it/s]"
     ]
    },
    {
     "name": "stdout",
     "output_type": "stream",
     "text": [
      "total correct: 41349 out of 42000 with an accuracy of 0.984499990940094\n"
     ]
    },
    {
     "name": "stderr",
     "output_type": "stream",
     "text": [
      "\n"
     ]
    }
   ],
   "source": [
    "check_accuracy(model, train_dataloader)"
   ]
  }
 ],
 "metadata": {
  "kernelspec": {
   "display_name": "Python 3",
   "language": "python",
   "name": "python3"
  },
  "language_info": {
   "codemirror_mode": {
    "name": "ipython",
    "version": 3
   },
   "file_extension": ".py",
   "mimetype": "text/x-python",
   "name": "python",
   "nbconvert_exporter": "python",
   "pygments_lexer": "ipython3",
   "version": "3.7.10"
  },
  "papermill": {
   "default_parameters": {},
   "duration": 53.867519,
   "end_time": "2021-06-30T01:11:15.132418",
   "environment_variables": {},
   "exception": null,
   "input_path": "__notebook__.ipynb",
   "output_path": "__notebook__.ipynb",
   "parameters": {},
   "start_time": "2021-06-30T01:10:21.264899",
   "version": "2.3.3"
  }
 },
 "nbformat": 4,
 "nbformat_minor": 5
}
