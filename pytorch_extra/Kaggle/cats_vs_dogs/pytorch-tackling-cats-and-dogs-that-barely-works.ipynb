{
 "cells": [
  {
   "cell_type": "markdown",
   "id": "second-alexandria",
   "metadata": {
    "papermill": {
     "duration": 0.030253,
     "end_time": "2021-06-12T06:43:31.547941",
     "exception": false,
     "start_time": "2021-06-12T06:43:31.517688",
     "status": "completed"
    },
    "tags": []
   },
   "source": [
    "Lets import some of the libraries immediately required."
   ]
  },
  {
   "cell_type": "code",
   "execution_count": 1,
   "id": "distinguished-confidence",
   "metadata": {
    "_cell_guid": "b1076dfc-b9ad-4769-8c92-a6c4dae69d19",
    "_uuid": "8f2839f25d086af736a60e9eeb907d3b93b6e0e5",
    "execution": {
     "iopub.execute_input": "2021-06-12T06:43:31.615249Z",
     "iopub.status.busy": "2021-06-12T06:43:31.614593Z",
     "iopub.status.idle": "2021-06-12T06:43:32.828698Z",
     "shell.execute_reply": "2021-06-12T06:43:32.828138Z",
     "shell.execute_reply.started": "2021-06-12T06:41:35.424704Z"
    },
    "papermill": {
     "duration": 1.252192,
     "end_time": "2021-06-12T06:43:32.828873",
     "exception": false,
     "start_time": "2021-06-12T06:43:31.576681",
     "status": "completed"
    },
    "tags": []
   },
   "outputs": [],
   "source": [
    "import torch\n",
    "import os\n",
    "import re\n",
    "\n",
    "import numpy as np\n",
    "from torch.utils.data import Dataset, DataLoader\n",
    "from PIL import Image\n",
    "\n",
    "import torchvision\n"
   ]
  },
  {
   "cell_type": "markdown",
   "id": "round-assumption",
   "metadata": {
    "papermill": {
     "duration": 0.028457,
     "end_time": "2021-06-12T06:43:32.886393",
     "exception": false,
     "start_time": "2021-06-12T06:43:32.857936",
     "status": "completed"
    },
    "tags": []
   },
   "source": [
    "https://www.youtube.com/watch?v=2zptQGC-pHY&list=PLhhyoLH6IjfxkVb3Yx4mjLdwMWP5S_Hct&index=2"
   ]
  },
  {
   "cell_type": "markdown",
   "id": "induced-thickness",
   "metadata": {
    "papermill": {
     "duration": 0.028727,
     "end_time": "2021-06-12T06:43:32.944098",
     "exception": false,
     "start_time": "2021-06-12T06:43:32.915371",
     "status": "completed"
    },
    "tags": []
   },
   "source": [
    "# Is data accessible ?"
   ]
  },
  {
   "cell_type": "markdown",
   "id": "eleven-hudson",
   "metadata": {
    "papermill": {
     "duration": 0.029578,
     "end_time": "2021-06-12T06:43:33.002732",
     "exception": false,
     "start_time": "2021-06-12T06:43:32.973154",
     "status": "completed"
    },
    "tags": []
   },
   "source": [
    "Since the dataset provided is zippped, lets unzip it first."
   ]
  },
  {
   "cell_type": "code",
   "execution_count": 2,
   "id": "important-network",
   "metadata": {
    "execution": {
     "iopub.execute_input": "2021-06-12T06:43:33.067256Z",
     "iopub.status.busy": "2021-06-12T06:43:33.066287Z",
     "iopub.status.idle": "2021-06-12T06:43:48.759532Z",
     "shell.execute_reply": "2021-06-12T06:43:48.759057Z",
     "shell.execute_reply.started": "2021-06-12T06:41:37.651362Z"
    },
    "papermill": {
     "duration": 15.728042,
     "end_time": "2021-06-12T06:43:48.759673",
     "exception": false,
     "start_time": "2021-06-12T06:43:33.031631",
     "status": "completed"
    },
    "tags": []
   },
   "outputs": [],
   "source": [
    "!unzip -qo ../input/dogs-vs-cats-redux-kernels-edition/test.zip\n",
    "!unzip -qo ../input/dogs-vs-cats-redux-kernels-edition/train.zip"
   ]
  },
  {
   "cell_type": "markdown",
   "id": "subtle-certificate",
   "metadata": {
    "papermill": {
     "duration": 0.02892,
     "end_time": "2021-06-12T06:43:48.818291",
     "exception": false,
     "start_time": "2021-06-12T06:43:48.789371",
     "status": "completed"
    },
    "tags": []
   },
   "source": [
    "Enumerating the directory we see that it has unzipped"
   ]
  },
  {
   "cell_type": "code",
   "execution_count": 3,
   "id": "upper-ozone",
   "metadata": {
    "execution": {
     "iopub.execute_input": "2021-06-12T06:43:48.881315Z",
     "iopub.status.busy": "2021-06-12T06:43:48.880597Z",
     "iopub.status.idle": "2021-06-12T06:43:49.513428Z",
     "shell.execute_reply": "2021-06-12T06:43:49.512998Z",
     "shell.execute_reply.started": "2021-06-12T06:41:48.349139Z"
    },
    "papermill": {
     "duration": 0.666266,
     "end_time": "2021-06-12T06:43:49.513554",
     "exception": false,
     "start_time": "2021-06-12T06:43:48.847288",
     "status": "completed"
    },
    "tags": []
   },
   "outputs": [
    {
     "name": "stdout",
     "output_type": "stream",
     "text": [
      "__notebook__.ipynb  test  train\r\n"
     ]
    }
   ],
   "source": [
    "!ls"
   ]
  },
  {
   "cell_type": "markdown",
   "id": "veterinary-painting",
   "metadata": {
    "papermill": {
     "duration": 0.029033,
     "end_time": "2021-06-12T06:43:49.572200",
     "exception": false,
     "start_time": "2021-06-12T06:43:49.543167",
     "status": "completed"
    },
    "tags": []
   },
   "source": [
    "# Prepping the data for the model"
   ]
  },
  {
   "cell_type": "markdown",
   "id": "educated-channel",
   "metadata": {
    "papermill": {
     "duration": 0.028947,
     "end_time": "2021-06-12T06:43:49.630198",
     "exception": false,
     "start_time": "2021-06-12T06:43:49.601251",
     "status": "completed"
    },
    "tags": []
   },
   "source": [
    "lets create a transform. A transform does exactly as it sounds it transforms the image to a form, in this case since we want the images to be of uniform size we resize it, then convert it into a tensor followed by normalise. The values I copied from other kernel. Its basically something you do."
   ]
  },
  {
   "cell_type": "code",
   "execution_count": 4,
   "id": "bigger-dutch",
   "metadata": {
    "execution": {
     "iopub.execute_input": "2021-06-12T06:43:49.695152Z",
     "iopub.status.busy": "2021-06-12T06:43:49.694412Z",
     "iopub.status.idle": "2021-06-12T06:43:49.697000Z",
     "shell.execute_reply": "2021-06-12T06:43:49.696595Z",
     "shell.execute_reply.started": "2021-06-12T06:41:49.048737Z"
    },
    "papermill": {
     "duration": 0.036942,
     "end_time": "2021-06-12T06:43:49.697117",
     "exception": false,
     "start_time": "2021-06-12T06:43:49.660175",
     "status": "completed"
    },
    "tags": []
   },
   "outputs": [],
   "source": [
    "import torchvision.transforms as transforms\n",
    "\n",
    "my_transform = transforms.Compose([\n",
    "    transforms.Resize((224,224)),\n",
    "    transforms.ToTensor(),\n",
    "    transforms.Normalize(\n",
    "        mean=[0.485, 0.456, 0.406],\n",
    "        std=[0.229,0.224,0.225],\n",
    "    ),\n",
    "   \n",
    "])"
   ]
  },
  {
   "cell_type": "markdown",
   "id": "capital-subject",
   "metadata": {
    "papermill": {
     "duration": 0.028958,
     "end_time": "2021-06-12T06:43:49.755434",
     "exception": false,
     "start_time": "2021-06-12T06:43:49.726476",
     "status": "completed"
    },
    "tags": []
   },
   "source": [
    "lets look at what is actually in the train directory, the file names have their labels in the name itself. here are 5 of the files in train directory"
   ]
  },
  {
   "cell_type": "code",
   "execution_count": 5,
   "id": "anticipated-victorian",
   "metadata": {
    "execution": {
     "iopub.execute_input": "2021-06-12T06:43:49.817909Z",
     "iopub.status.busy": "2021-06-12T06:43:49.817196Z",
     "iopub.status.idle": "2021-06-12T06:43:49.836523Z",
     "shell.execute_reply": "2021-06-12T06:43:49.836032Z",
     "shell.execute_reply.started": "2021-06-12T06:41:49.069097Z"
    },
    "papermill": {
     "duration": 0.05198,
     "end_time": "2021-06-12T06:43:49.836624",
     "exception": false,
     "start_time": "2021-06-12T06:43:49.784644",
     "status": "completed"
    },
    "tags": []
   },
   "outputs": [
    {
     "data": {
      "text/plain": [
       "['dog.12168.jpg',\n",
       " 'cat.3425.jpg',\n",
       " 'dog.7164.jpg',\n",
       " 'cat.2183.jpg',\n",
       " 'cat.1968.jpg']"
      ]
     },
     "execution_count": 5,
     "metadata": {},
     "output_type": "execute_result"
    }
   ],
   "source": [
    "os.listdir(\"./train\")[:5]"
   ]
  },
  {
   "cell_type": "markdown",
   "id": "pregnant-provider",
   "metadata": {
    "papermill": {
     "duration": 0.029648,
     "end_time": "2021-06-12T06:43:49.895807",
     "exception": false,
     "start_time": "2021-06-12T06:43:49.866159",
     "status": "completed"
    },
    "tags": []
   },
   "source": [
    "Lets just check whether our transform works on individual images"
   ]
  },
  {
   "cell_type": "code",
   "execution_count": 6,
   "id": "corresponding-composition",
   "metadata": {
    "execution": {
     "iopub.execute_input": "2021-06-12T06:43:49.959956Z",
     "iopub.status.busy": "2021-06-12T06:43:49.959285Z",
     "iopub.status.idle": "2021-06-12T06:43:50.020406Z",
     "shell.execute_reply": "2021-06-12T06:43:50.019978Z",
     "shell.execute_reply.started": "2021-06-12T06:41:49.148508Z"
    },
    "papermill": {
     "duration": 0.093869,
     "end_time": "2021-06-12T06:43:50.020521",
     "exception": false,
     "start_time": "2021-06-12T06:43:49.926652",
     "status": "completed"
    },
    "tags": []
   },
   "outputs": [],
   "source": [
    "img = Image.open(\"./train/cat.10366.jpg\")\n",
    "img = my_transform(img)"
   ]
  },
  {
   "cell_type": "markdown",
   "id": "identified-california",
   "metadata": {
    "papermill": {
     "duration": 0.029465,
     "end_time": "2021-06-12T06:43:50.079920",
     "exception": false,
     "start_time": "2021-06-12T06:43:50.050455",
     "status": "completed"
    },
    "tags": []
   },
   "source": [
    "## The pytorch dataset and dataloader"
   ]
  },
  {
   "cell_type": "markdown",
   "id": "impaired-customs",
   "metadata": {
    "papermill": {
     "duration": 0.029144,
     "end_time": "2021-06-12T06:43:50.138882",
     "exception": false,
     "start_time": "2021-06-12T06:43:50.109738",
     "status": "completed"
    },
    "tags": []
   },
   "source": [
    "Okay now we create the dataset class. All dataset classes are supposed to have three functions, __init__ (initialiser) , __len__ (returns length of dataset) and __getitem__ (to get individual items), basically if you implement Dataset from pytorch with these three functions, you hava a pytorch Dataset."
   ]
  },
  {
   "cell_type": "code",
   "execution_count": 7,
   "id": "cloudy-respondent",
   "metadata": {
    "execution": {
     "iopub.execute_input": "2021-06-12T06:43:50.205413Z",
     "iopub.status.busy": "2021-06-12T06:43:50.204662Z",
     "iopub.status.idle": "2021-06-12T06:43:50.207394Z",
     "shell.execute_reply": "2021-06-12T06:43:50.206999Z",
     "shell.execute_reply.started": "2021-06-12T06:41:49.183432Z"
    },
    "papermill": {
     "duration": 0.039145,
     "end_time": "2021-06-12T06:43:50.207498",
     "exception": false,
     "start_time": "2021-06-12T06:43:50.168353",
     "status": "completed"
    },
    "tags": []
   },
   "outputs": [],
   "source": [
    "class CatsDogsDataset(Dataset):\n",
    "    def __init__(self, rootdir, transform=my_transform, partial_data=None):\n",
    "        self.rootdir = rootdir\n",
    "        self.transform = transform\n",
    "        if partial_data is not None:\n",
    "            self.images = os.listdir(rootdir)[:partial_data]\n",
    "        else :\n",
    "            self.images = os.listdir(rootdir)\n",
    "        \n",
    "    def __len__(self):\n",
    "        return len(self.images)\n",
    "    \n",
    "    def __getitem__(self, index):\n",
    "        \n",
    "#         print(os.path.join(self.rootdir,self.images[index]))\n",
    "        img = Image.open(os.path.join(self.rootdir,self.images[index])).convert(\"RGB\")\n",
    "        \n",
    "#         image = np.array(img)\n",
    "        \n",
    "        if self.transform:\n",
    "            img = self.transform(img)\n",
    "        \n",
    "        if \"cat\" in self.images[index]:\n",
    "            label = 0\n",
    "            \n",
    "        elif \"dog\" in self.images[index]:\n",
    "            label = 1\n",
    "        else :\n",
    "            label = -1\n",
    "            \n",
    "        return img, label"
   ]
  },
  {
   "cell_type": "markdown",
   "id": "armed-hypothesis",
   "metadata": {
    "papermill": {
     "duration": 0.028966,
     "end_time": "2021-06-12T06:43:50.265448",
     "exception": false,
     "start_time": "2021-06-12T06:43:50.236482",
     "status": "completed"
    },
    "tags": []
   },
   "source": [
    "lets intiatiate our dataset class."
   ]
  },
  {
   "cell_type": "code",
   "execution_count": 8,
   "id": "general-domain",
   "metadata": {
    "execution": {
     "iopub.execute_input": "2021-06-12T06:43:50.328054Z",
     "iopub.status.busy": "2021-06-12T06:43:50.327196Z",
     "iopub.status.idle": "2021-06-12T06:43:50.342673Z",
     "shell.execute_reply": "2021-06-12T06:43:50.342285Z",
     "shell.execute_reply.started": "2021-06-12T06:41:49.198905Z"
    },
    "papermill": {
     "duration": 0.047778,
     "end_time": "2021-06-12T06:43:50.342774",
     "exception": false,
     "start_time": "2021-06-12T06:43:50.294996",
     "status": "completed"
    },
    "tags": []
   },
   "outputs": [],
   "source": [
    "train_dataset = CatsDogsDataset(rootdir=\"./train\", partial_data=5000) \n",
    "# train_dataset = CatsDogsDataset(rootdir=\"./train\")"
   ]
  },
  {
   "cell_type": "code",
   "execution_count": 9,
   "id": "imposed-dressing",
   "metadata": {
    "execution": {
     "iopub.execute_input": "2021-06-12T06:43:50.405006Z",
     "iopub.status.busy": "2021-06-12T06:43:50.404257Z",
     "iopub.status.idle": "2021-06-12T06:43:50.407960Z",
     "shell.execute_reply": "2021-06-12T06:43:50.407509Z",
     "shell.execute_reply.started": "2021-06-12T06:41:49.257564Z"
    },
    "papermill": {
     "duration": 0.036115,
     "end_time": "2021-06-12T06:43:50.408074",
     "exception": false,
     "start_time": "2021-06-12T06:43:50.371959",
     "status": "completed"
    },
    "tags": []
   },
   "outputs": [
    {
     "data": {
      "text/plain": [
       "5000"
      ]
     },
     "execution_count": 9,
     "metadata": {},
     "output_type": "execute_result"
    }
   ],
   "source": [
    "train_dataset.__len__()"
   ]
  },
  {
   "cell_type": "markdown",
   "id": "empty-ethernet",
   "metadata": {
    "papermill": {
     "duration": 0.029247,
     "end_time": "2021-06-12T06:43:50.466613",
     "exception": false,
     "start_time": "2021-06-12T06:43:50.437366",
     "status": "completed"
    },
    "tags": []
   },
   "source": [
    "is it working?"
   ]
  },
  {
   "cell_type": "code",
   "execution_count": 10,
   "id": "southeast-clarity",
   "metadata": {
    "execution": {
     "iopub.execute_input": "2021-06-12T06:43:50.529298Z",
     "iopub.status.busy": "2021-06-12T06:43:50.528591Z",
     "iopub.status.idle": "2021-06-12T06:43:50.537295Z",
     "shell.execute_reply": "2021-06-12T06:43:50.536754Z",
     "shell.execute_reply.started": "2021-06-12T06:42:50.956531Z"
    },
    "papermill": {
     "duration": 0.04119,
     "end_time": "2021-06-12T06:43:50.537397",
     "exception": false,
     "start_time": "2021-06-12T06:43:50.496207",
     "status": "completed"
    },
    "tags": []
   },
   "outputs": [
    {
     "data": {
      "text/plain": [
       "(torch.Size([3, 224, 224]), 1)"
      ]
     },
     "execution_count": 10,
     "metadata": {},
     "output_type": "execute_result"
    }
   ],
   "source": [
    "x, y = train_dataset[100]\n",
    "x.shape, y"
   ]
  },
  {
   "cell_type": "code",
   "execution_count": 11,
   "id": "organized-saturday",
   "metadata": {
    "execution": {
     "iopub.execute_input": "2021-06-12T06:43:50.616660Z",
     "iopub.status.busy": "2021-06-12T06:43:50.616139Z",
     "iopub.status.idle": "2021-06-12T06:43:50.759206Z",
     "shell.execute_reply": "2021-06-12T06:43:50.758763Z",
     "shell.execute_reply.started": "2021-06-12T06:42:53.040524Z"
    },
    "papermill": {
     "duration": 0.192304,
     "end_time": "2021-06-12T06:43:50.759327",
     "exception": false,
     "start_time": "2021-06-12T06:43:50.567023",
     "status": "completed"
    },
    "tags": []
   },
   "outputs": [
    {
     "data": {
      "text/plain": [
       "<matplotlib.image.AxesImage at 0x7ff576c25ad0>"
      ]
     },
     "execution_count": 11,
     "metadata": {},
     "output_type": "execute_result"
    },
    {
     "data": {
      "image/png": "[encoded data removed]",
      "text/plain": [
       "<Figure size 432x288 with 1 Axes>"
      ]
     },
     "metadata": {
      "needs_background": "light"
     },
     "output_type": "display_data"
    }
   ],
   "source": [
    "import matplotlib.pyplot as plt\n",
    "\n",
    "plt.imshow(x.permute(1,2,0))"
   ]
  },
  {
   "cell_type": "markdown",
   "id": "after-legislature",
   "metadata": {
    "papermill": {
     "duration": 0.031515,
     "end_time": "2021-06-12T06:43:50.822888",
     "exception": false,
     "start_time": "2021-06-12T06:43:50.791373",
     "status": "completed"
    },
    "tags": []
   },
   "source": [
    "batch size decides how many of your data items are taken together in a single batch, while you apply the back propagation."
   ]
  },
  {
   "cell_type": "markdown",
   "id": "satisfactory-homeless",
   "metadata": {
    "papermill": {
     "duration": 0.031228,
     "end_time": "2021-06-12T06:43:50.885428",
     "exception": false,
     "start_time": "2021-06-12T06:43:50.854200",
     "status": "completed"
    },
    "tags": []
   },
   "source": [
    "### Hyperparameters"
   ]
  },
  {
   "cell_type": "code",
   "execution_count": 12,
   "id": "former-birth",
   "metadata": {
    "execution": {
     "iopub.execute_input": "2021-06-12T06:43:50.953977Z",
     "iopub.status.busy": "2021-06-12T06:43:50.953276Z",
     "iopub.status.idle": "2021-06-12T06:43:50.955869Z",
     "shell.execute_reply": "2021-06-12T06:43:50.955469Z"
    },
    "papermill": {
     "duration": 0.038814,
     "end_time": "2021-06-12T06:43:50.955976",
     "exception": false,
     "start_time": "2021-06-12T06:43:50.917162",
     "status": "completed"
    },
    "tags": []
   },
   "outputs": [],
   "source": [
    "batch_size = 20\n",
    "learning_rate = 1e-4 #0.001\n",
    "num_epochs = 1\n",
    "num_workers = 4\n",
    "pin_memory =True\n",
    "checkpoint_file = \"checkpoint.tar\"\n",
    "weight_decay = 1e-4\n"
   ]
  },
  {
   "cell_type": "markdown",
   "id": "ambient-brazilian",
   "metadata": {
    "papermill": {
     "duration": 0.031413,
     "end_time": "2021-06-12T06:43:51.019195",
     "exception": false,
     "start_time": "2021-06-12T06:43:50.987782",
     "status": "completed"
    },
    "tags": []
   },
   "source": [
    "Lets get the dataloader"
   ]
  },
  {
   "cell_type": "code",
   "execution_count": 13,
   "id": "partial-nebraska",
   "metadata": {
    "execution": {
     "iopub.execute_input": "2021-06-12T06:43:51.087997Z",
     "iopub.status.busy": "2021-06-12T06:43:51.087286Z",
     "iopub.status.idle": "2021-06-12T06:43:51.089492Z",
     "shell.execute_reply": "2021-06-12T06:43:51.089941Z",
     "shell.execute_reply.started": "2021-06-12T06:41:58.431417Z"
    },
    "papermill": {
     "duration": 0.03808,
     "end_time": "2021-06-12T06:43:51.090071",
     "exception": false,
     "start_time": "2021-06-12T06:43:51.051991",
     "status": "completed"
    },
    "tags": []
   },
   "outputs": [],
   "source": [
    "train_dataloader = DataLoader(dataset=train_dataset, shuffle=True, batch_size=batch_size)"
   ]
  },
  {
   "cell_type": "markdown",
   "id": "growing-repeat",
   "metadata": {
    "papermill": {
     "duration": 0.031435,
     "end_time": "2021-06-12T06:43:51.152824",
     "exception": false,
     "start_time": "2021-06-12T06:43:51.121389",
     "status": "completed"
    },
    "tags": []
   },
   "source": [
    "# Okay. Now onto the model,"
   ]
  },
  {
   "cell_type": "code",
   "execution_count": 14,
   "id": "spatial-dancing",
   "metadata": {
    "execution": {
     "iopub.execute_input": "2021-06-12T06:43:51.219352Z",
     "iopub.status.busy": "2021-06-12T06:43:51.218681Z",
     "iopub.status.idle": "2021-06-12T06:43:51.221414Z",
     "shell.execute_reply": "2021-06-12T06:43:51.221020Z",
     "shell.execute_reply.started": "2021-06-12T06:42:01.423204Z"
    },
    "papermill": {
     "duration": 0.037182,
     "end_time": "2021-06-12T06:43:51.221517",
     "exception": false,
     "start_time": "2021-06-12T06:43:51.184335",
     "status": "completed"
    },
    "tags": []
   },
   "outputs": [],
   "source": [
    "from torchvision.models import resnet18"
   ]
  },
  {
   "cell_type": "code",
   "execution_count": 15,
   "id": "wrapped-psychology",
   "metadata": {
    "execution": {
     "iopub.execute_input": "2021-06-12T06:43:51.288178Z",
     "iopub.status.busy": "2021-06-12T06:43:51.287664Z",
     "iopub.status.idle": "2021-06-12T06:43:52.144372Z",
     "shell.execute_reply": "2021-06-12T06:43:52.143866Z",
     "shell.execute_reply.started": "2021-06-12T06:42:01.429440Z"
    },
    "papermill": {
     "duration": 0.891357,
     "end_time": "2021-06-12T06:43:52.144496",
     "exception": false,
     "start_time": "2021-06-12T06:43:51.253139",
     "status": "completed"
    },
    "tags": []
   },
   "outputs": [
    {
     "name": "stderr",
     "output_type": "stream",
     "text": [
      "Downloading: \"https://download.pytorch.org/models/resnet18-5c106cde.pth\" to /root/.cache/torch/hub/checkpoints/resnet18-5c106cde.pth\n"
     ]
    },
    {
     "data": {
      "application/vnd.jupyter.widget-view+json": {
       "model_id": "fb502c7a482c4c21b287e211c981e441",
       "version_major": 2,
       "version_minor": 0
      },
      "text/plain": [
       "  0%|          | 0.00/44.7M [00:00<?, ?B/s]"
      ]
     },
     "metadata": {},
     "output_type": "display_data"
    }
   ],
   "source": [
    "model = resnet18(pretrained=True)"
   ]
  },
  {
   "cell_type": "code",
   "execution_count": 16,
   "id": "abroad-portrait",
   "metadata": {
    "execution": {
     "iopub.execute_input": "2021-06-12T06:43:52.226917Z",
     "iopub.status.busy": "2021-06-12T06:43:52.226188Z",
     "iopub.status.idle": "2021-06-12T06:43:52.228600Z",
     "shell.execute_reply": "2021-06-12T06:43:52.229094Z",
     "shell.execute_reply.started": "2021-06-12T06:42:01.746956Z"
    },
    "papermill": {
     "duration": 0.047372,
     "end_time": "2021-06-12T06:43:52.229243",
     "exception": false,
     "start_time": "2021-06-12T06:43:52.181871",
     "status": "completed"
    },
    "tags": []
   },
   "outputs": [],
   "source": [
    "for param in model.parameters():\n",
    "    param.requires_grad = False"
   ]
  },
  {
   "cell_type": "code",
   "execution_count": 17,
   "id": "random-regular",
   "metadata": {
    "execution": {
     "iopub.execute_input": "2021-06-12T06:43:52.421643Z",
     "iopub.status.busy": "2021-06-12T06:43:52.420865Z",
     "iopub.status.idle": "2021-06-12T06:43:52.423569Z",
     "shell.execute_reply": "2021-06-12T06:43:52.423145Z",
     "shell.execute_reply.started": "2021-06-12T06:42:01.754583Z"
    },
    "papermill": {
     "duration": 0.039025,
     "end_time": "2021-06-12T06:43:52.423680",
     "exception": false,
     "start_time": "2021-06-12T06:43:52.384655",
     "status": "completed"
    },
    "tags": []
   },
   "outputs": [],
   "source": [
    "import torch.nn as nn"
   ]
  },
  {
   "cell_type": "code",
   "execution_count": 18,
   "id": "korean-instrumentation",
   "metadata": {
    "execution": {
     "iopub.execute_input": "2021-06-12T06:43:52.492197Z",
     "iopub.status.busy": "2021-06-12T06:43:52.491655Z",
     "iopub.status.idle": "2021-06-12T06:43:52.494114Z",
     "shell.execute_reply": "2021-06-12T06:43:52.494471Z",
     "shell.execute_reply.started": "2021-06-12T06:42:01.764578Z"
    },
    "papermill": {
     "duration": 0.038426,
     "end_time": "2021-06-12T06:43:52.494592",
     "exception": false,
     "start_time": "2021-06-12T06:43:52.456166",
     "status": "completed"
    },
    "tags": []
   },
   "outputs": [],
   "source": [
    "model.fc = nn.Linear(in_features=512, out_features=2, bias=True)"
   ]
  },
  {
   "cell_type": "code",
   "execution_count": 19,
   "id": "chinese-sunday",
   "metadata": {
    "execution": {
     "iopub.execute_input": "2021-06-12T06:43:52.599082Z",
     "iopub.status.busy": "2021-06-12T06:43:52.598463Z",
     "iopub.status.idle": "2021-06-12T06:43:52.602342Z",
     "shell.execute_reply": "2021-06-12T06:43:52.601609Z",
     "shell.execute_reply.started": "2021-06-12T06:42:01.774182Z"
    },
    "papermill": {
     "duration": 0.075817,
     "end_time": "2021-06-12T06:43:52.602454",
     "exception": false,
     "start_time": "2021-06-12T06:43:52.526637",
     "status": "completed"
    },
    "tags": []
   },
   "outputs": [],
   "source": [
    "device = torch.device('cuda' if torch.cuda.is_available() else 'cpu')"
   ]
  },
  {
   "cell_type": "code",
   "execution_count": 20,
   "id": "unique-tractor",
   "metadata": {
    "execution": {
     "iopub.execute_input": "2021-06-12T06:43:52.711324Z",
     "iopub.status.busy": "2021-06-12T06:43:52.710317Z",
     "iopub.status.idle": "2021-06-12T06:43:57.567560Z",
     "shell.execute_reply": "2021-06-12T06:43:57.567051Z",
     "shell.execute_reply.started": "2021-06-12T06:42:01.783178Z"
    },
    "papermill": {
     "duration": 4.933151,
     "end_time": "2021-06-12T06:43:57.567684",
     "exception": false,
     "start_time": "2021-06-12T06:43:52.634533",
     "status": "completed"
    },
    "tags": []
   },
   "outputs": [],
   "source": [
    "model = model.to(device=device)"
   ]
  },
  {
   "cell_type": "code",
   "execution_count": 21,
   "id": "nearby-blanket",
   "metadata": {
    "execution": {
     "iopub.execute_input": "2021-06-12T06:43:57.653100Z",
     "iopub.status.busy": "2021-06-12T06:43:57.652355Z",
     "iopub.status.idle": "2021-06-12T06:43:57.657340Z",
     "shell.execute_reply": "2021-06-12T06:43:57.657962Z",
     "shell.execute_reply.started": "2021-06-12T06:42:04.346490Z"
    },
    "papermill": {
     "duration": 0.054705,
     "end_time": "2021-06-12T06:43:57.658094",
     "exception": false,
     "start_time": "2021-06-12T06:43:57.603389",
     "status": "completed"
    },
    "tags": []
   },
   "outputs": [
    {
     "data": {
      "text/plain": [
       "ResNet(\n",
       "  (conv1): Conv2d(3, 64, kernel_size=(7, 7), stride=(2, 2), padding=(3, 3), bias=False)\n",
       "  (bn1): BatchNorm2d(64, eps=1e-05, momentum=0.1, affine=True, track_running_stats=True)\n",
       "  (relu): ReLU(inplace=True)\n",
       "  (maxpool): MaxPool2d(kernel_size=3, stride=2, padding=1, dilation=1, ceil_mode=False)\n",
       "  (layer1): Sequential(\n",
       "    (0): BasicBlock(\n",
       "      (conv1): Conv2d(64, 64, kernel_size=(3, 3), stride=(1, 1), padding=(1, 1), bias=False)\n",
       "      (bn1): BatchNorm2d(64, eps=1e-05, momentum=0.1, affine=True, track_running_stats=True)\n",
       "      (relu): ReLU(inplace=True)\n",
       "      (conv2): Conv2d(64, 64, kernel_size=(3, 3), stride=(1, 1), padding=(1, 1), bias=False)\n",
       "      (bn2): BatchNorm2d(64, eps=1e-05, momentum=0.1, affine=True, track_running_stats=True)\n",
       "    )\n",
       "    (1): BasicBlock(\n",
       "      (conv1): Conv2d(64, 64, kernel_size=(3, 3), stride=(1, 1), padding=(1, 1), bias=False)\n",
       "      (bn1): BatchNorm2d(64, eps=1e-05, momentum=0.1, affine=True, track_running_stats=True)\n",
       "      (relu): ReLU(inplace=True)\n",
       "      (conv2): Conv2d(64, 64, kernel_size=(3, 3), stride=(1, 1), padding=(1, 1), bias=False)\n",
       "      (bn2): BatchNorm2d(64, eps=1e-05, momentum=0.1, affine=True, track_running_stats=True)\n",
       "    )\n",
       "  )\n",
       "  (layer2): Sequential(\n",
       "    (0): BasicBlock(\n",
       "      (conv1): Conv2d(64, 128, kernel_size=(3, 3), stride=(2, 2), padding=(1, 1), bias=False)\n",
       "      (bn1): BatchNorm2d(128, eps=1e-05, momentum=0.1, affine=True, track_running_stats=True)\n",
       "      (relu): ReLU(inplace=True)\n",
       "      (conv2): Conv2d(128, 128, kernel_size=(3, 3), stride=(1, 1), padding=(1, 1), bias=False)\n",
       "      (bn2): BatchNorm2d(128, eps=1e-05, momentum=0.1, affine=True, track_running_stats=True)\n",
       "      (downsample): Sequential(\n",
       "        (0): Conv2d(64, 128, kernel_size=(1, 1), stride=(2, 2), bias=False)\n",
       "        (1): BatchNorm2d(128, eps=1e-05, momentum=0.1, affine=True, track_running_stats=True)\n",
       "      )\n",
       "    )\n",
       "    (1): BasicBlock(\n",
       "      (conv1): Conv2d(128, 128, kernel_size=(3, 3), stride=(1, 1), padding=(1, 1), bias=False)\n",
       "      (bn1): BatchNorm2d(128, eps=1e-05, momentum=0.1, affine=True, track_running_stats=True)\n",
       "      (relu): ReLU(inplace=True)\n",
       "      (conv2): Conv2d(128, 128, kernel_size=(3, 3), stride=(1, 1), padding=(1, 1), bias=False)\n",
       "      (bn2): BatchNorm2d(128, eps=1e-05, momentum=0.1, affine=True, track_running_stats=True)\n",
       "    )\n",
       "  )\n",
       "  (layer3): Sequential(\n",
       "    (0): BasicBlock(\n",
       "      (conv1): Conv2d(128, 256, kernel_size=(3, 3), stride=(2, 2), padding=(1, 1), bias=False)\n",
       "      (bn1): BatchNorm2d(256, eps=1e-05, momentum=0.1, affine=True, track_running_stats=True)\n",
       "      (relu): ReLU(inplace=True)\n",
       "      (conv2): Conv2d(256, 256, kernel_size=(3, 3), stride=(1, 1), padding=(1, 1), bias=False)\n",
       "      (bn2): BatchNorm2d(256, eps=1e-05, momentum=0.1, affine=True, track_running_stats=True)\n",
       "      (downsample): Sequential(\n",
       "        (0): Conv2d(128, 256, kernel_size=(1, 1), stride=(2, 2), bias=False)\n",
       "        (1): BatchNorm2d(256, eps=1e-05, momentum=0.1, affine=True, track_running_stats=True)\n",
       "      )\n",
       "    )\n",
       "    (1): BasicBlock(\n",
       "      (conv1): Conv2d(256, 256, kernel_size=(3, 3), stride=(1, 1), padding=(1, 1), bias=False)\n",
       "      (bn1): BatchNorm2d(256, eps=1e-05, momentum=0.1, affine=True, track_running_stats=True)\n",
       "      (relu): ReLU(inplace=True)\n",
       "      (conv2): Conv2d(256, 256, kernel_size=(3, 3), stride=(1, 1), padding=(1, 1), bias=False)\n",
       "      (bn2): BatchNorm2d(256, eps=1e-05, momentum=0.1, affine=True, track_running_stats=True)\n",
       "    )\n",
       "  )\n",
       "  (layer4): Sequential(\n",
       "    (0): BasicBlock(\n",
       "      (conv1): Conv2d(256, 512, kernel_size=(3, 3), stride=(2, 2), padding=(1, 1), bias=False)\n",
       "      (bn1): BatchNorm2d(512, eps=1e-05, momentum=0.1, affine=True, track_running_stats=True)\n",
       "      (relu): ReLU(inplace=True)\n",
       "      (conv2): Conv2d(512, 512, kernel_size=(3, 3), stride=(1, 1), padding=(1, 1), bias=False)\n",
       "      (bn2): BatchNorm2d(512, eps=1e-05, momentum=0.1, affine=True, track_running_stats=True)\n",
       "      (downsample): Sequential(\n",
       "        (0): Conv2d(256, 512, kernel_size=(1, 1), stride=(2, 2), bias=False)\n",
       "        (1): BatchNorm2d(512, eps=1e-05, momentum=0.1, affine=True, track_running_stats=True)\n",
       "      )\n",
       "    )\n",
       "    (1): BasicBlock(\n",
       "      (conv1): Conv2d(512, 512, kernel_size=(3, 3), stride=(1, 1), padding=(1, 1), bias=False)\n",
       "      (bn1): BatchNorm2d(512, eps=1e-05, momentum=0.1, affine=True, track_running_stats=True)\n",
       "      (relu): ReLU(inplace=True)\n",
       "      (conv2): Conv2d(512, 512, kernel_size=(3, 3), stride=(1, 1), padding=(1, 1), bias=False)\n",
       "      (bn2): BatchNorm2d(512, eps=1e-05, momentum=0.1, affine=True, track_running_stats=True)\n",
       "    )\n",
       "  )\n",
       "  (avgpool): AdaptiveAvgPool2d(output_size=(1, 1))\n",
       "  (fc): Linear(in_features=512, out_features=2, bias=True)\n",
       ")"
      ]
     },
     "execution_count": 21,
     "metadata": {},
     "output_type": "execute_result"
    }
   ],
   "source": [
    "model"
   ]
  },
  {
   "cell_type": "code",
   "execution_count": 22,
   "id": "juvenile-darkness",
   "metadata": {
    "execution": {
     "iopub.execute_input": "2021-06-12T06:43:59.426194Z",
     "iopub.status.busy": "2021-06-12T06:43:59.424711Z",
     "iopub.status.idle": "2021-06-12T06:43:59.427004Z",
     "shell.execute_reply": "2021-06-12T06:43:59.427433Z",
     "shell.execute_reply.started": "2021-06-12T06:42:04.354806Z"
    },
    "papermill": {
     "duration": 0.042887,
     "end_time": "2021-06-12T06:43:59.427562",
     "exception": false,
     "start_time": "2021-06-12T06:43:59.384675",
     "status": "completed"
    },
    "tags": []
   },
   "outputs": [],
   "source": [
    "loss_criterion = torch.nn.CrossEntropyLoss()\n",
    "optimizer = torch.optim.Adam(model.parameters(), lr= learning_rate)"
   ]
  },
  {
   "cell_type": "code",
   "execution_count": 23,
   "id": "graduate-offense",
   "metadata": {
    "execution": {
     "iopub.execute_input": "2021-06-12T06:43:59.498085Z",
     "iopub.status.busy": "2021-06-12T06:43:59.497322Z",
     "iopub.status.idle": "2021-06-12T06:44:23.727618Z",
     "shell.execute_reply": "2021-06-12T06:44:23.726993Z",
     "shell.execute_reply.started": "2021-06-12T06:42:04.368120Z"
    },
    "papermill": {
     "duration": 24.267706,
     "end_time": "2021-06-12T06:44:23.727778",
     "exception": false,
     "start_time": "2021-06-12T06:43:59.460072",
     "status": "completed"
    },
    "tags": []
   },
   "outputs": [
    {
     "name": "stderr",
     "output_type": "stream",
     "text": [
      "100%|██████████| 250/250 [00:24<00:00, 10.32it/s]"
     ]
    },
    {
     "name": "stdout",
     "output_type": "stream",
     "text": [
      "For epoch: 0 loss: 0.37587207555770874\n"
     ]
    },
    {
     "name": "stderr",
     "output_type": "stream",
     "text": [
      "\n"
     ]
    }
   ],
   "source": [
    "from tqdm import tqdm\n",
    "\n",
    "for epoch in range(num_epochs):\n",
    "    for data, target in tqdm(train_dataloader):\n",
    "        data = data.to(device=device)\n",
    "        target = target.to(device=device)\n",
    "        \n",
    "        score = model(data)\n",
    "        \n",
    "        loss = loss_criterion(score, target)\n",
    "        optimizer.zero_grad()\n",
    "        \n",
    "        loss.backward()\n",
    "        \n",
    "        optimizer.step()\n",
    "    \n",
    "    print(f\"For epoch: {epoch} loss: {loss}\")\n",
    "        "
   ]
  },
  {
   "cell_type": "code",
   "execution_count": 24,
   "id": "isolated-cotton",
   "metadata": {
    "execution": {
     "iopub.execute_input": "2021-06-12T06:44:23.866765Z",
     "iopub.status.busy": "2021-06-12T06:44:23.865535Z",
     "iopub.status.idle": "2021-06-12T06:44:23.867817Z",
     "shell.execute_reply": "2021-06-12T06:44:23.868278Z"
    },
    "papermill": {
     "duration": 0.073794,
     "end_time": "2021-06-12T06:44:23.868405",
     "exception": false,
     "start_time": "2021-06-12T06:44:23.794611",
     "status": "completed"
    },
    "tags": []
   },
   "outputs": [],
   "source": [
    "def check_accuracy(model, loader):\n",
    "    model.train()\n",
    "    \n",
    "    total_correct = 0\n",
    "    total_predictions = 0\n",
    "    \n",
    "    for x, y in tqdm(loader):\n",
    "        x = x.to(device=device)\n",
    "        y = y.to(device=device)\n",
    "        \n",
    "        \n",
    "        score = model(x)\n",
    "        z, predictions = score.max(1)\n",
    "        \n",
    "#         print(f\"score shape : {score.shape} , z: {z}, predictions: {predictions}, predictions shape: {predictions.shape}\")\n",
    "        \n",
    "        total_correct = (y==predictions).sum()\n",
    "        total_predictions += predictions.shape[0]\n",
    "    \n",
    "    print(f\"Out of {total_predictions}, total correct: {total_correct} with an accuracy of {float(total_correct/total_predictions)* 100}\")"
   ]
  },
  {
   "cell_type": "code",
   "execution_count": 25,
   "id": "meaningful-value",
   "metadata": {
    "execution": {
     "iopub.execute_input": "2021-06-12T06:44:24.009308Z",
     "iopub.status.busy": "2021-06-12T06:44:24.008481Z",
     "iopub.status.idle": "2021-06-12T06:44:47.317336Z",
     "shell.execute_reply": "2021-06-12T06:44:47.317940Z"
    },
    "papermill": {
     "duration": 23.383906,
     "end_time": "2021-06-12T06:44:47.318146",
     "exception": false,
     "start_time": "2021-06-12T06:44:23.934240",
     "status": "completed"
    },
    "tags": []
   },
   "outputs": [
    {
     "name": "stderr",
     "output_type": "stream",
     "text": [
      "100%|██████████| 250/250 [00:23<00:00, 10.73it/s]"
     ]
    },
    {
     "name": "stdout",
     "output_type": "stream",
     "text": [
      "Out of 5000, total correct: 18 with an accuracy of 0.3599999938160181\n"
     ]
    },
    {
     "name": "stderr",
     "output_type": "stream",
     "text": [
      "\n"
     ]
    }
   ],
   "source": [
    "check_accuracy(model, train_dataloader)"
   ]
  },
  {
   "cell_type": "markdown",
   "id": "norwegian-flashing",
   "metadata": {
    "papermill": {
     "duration": 0.098972,
     "end_time": "2021-06-12T06:44:47.517459",
     "exception": false,
     "start_time": "2021-06-12T06:44:47.418487",
     "status": "completed"
    },
    "tags": []
   },
   "source": [
    "That is bad performance , but at least it was quick, lets work on inference.\n",
    "\n",
    "# Inference!"
   ]
  },
  {
   "cell_type": "code",
   "execution_count": 26,
   "id": "applied-secondary",
   "metadata": {
    "execution": {
     "iopub.execute_input": "2021-06-12T06:44:47.720870Z",
     "iopub.status.busy": "2021-06-12T06:44:47.720369Z",
     "iopub.status.idle": "2021-06-12T06:44:47.754240Z",
     "shell.execute_reply": "2021-06-12T06:44:47.753817Z"
    },
    "papermill": {
     "duration": 0.138907,
     "end_time": "2021-06-12T06:44:47.754353",
     "exception": false,
     "start_time": "2021-06-12T06:44:47.615446",
     "status": "completed"
    },
    "tags": []
   },
   "outputs": [
    {
     "data": {
      "text/html": [
       "<div>\n",
       "<style scoped>\n",
       "    .dataframe tbody tr th:only-of-type {\n",
       "        vertical-align: middle;\n",
       "    }\n",
       "\n",
       "    .dataframe tbody tr th {\n",
       "        vertical-align: top;\n",
       "    }\n",
       "\n",
       "    .dataframe thead th {\n",
       "        text-align: right;\n",
       "    }\n",
       "</style>\n",
       "<table border=\"1\" class=\"dataframe\">\n",
       "  <thead>\n",
       "    <tr style=\"text-align: right;\">\n",
       "      <th></th>\n",
       "      <th>id</th>\n",
       "      <th>label</th>\n",
       "    </tr>\n",
       "  </thead>\n",
       "  <tbody>\n",
       "    <tr>\n",
       "      <th>0</th>\n",
       "      <td>1</td>\n",
       "      <td>0.5</td>\n",
       "    </tr>\n",
       "    <tr>\n",
       "      <th>1</th>\n",
       "      <td>2</td>\n",
       "      <td>0.5</td>\n",
       "    </tr>\n",
       "    <tr>\n",
       "      <th>2</th>\n",
       "      <td>3</td>\n",
       "      <td>0.5</td>\n",
       "    </tr>\n",
       "    <tr>\n",
       "      <th>3</th>\n",
       "      <td>4</td>\n",
       "      <td>0.5</td>\n",
       "    </tr>\n",
       "    <tr>\n",
       "      <th>4</th>\n",
       "      <td>5</td>\n",
       "      <td>0.5</td>\n",
       "    </tr>\n",
       "  </tbody>\n",
       "</table>\n",
       "</div>"
      ],
      "text/plain": [
       "   id  label\n",
       "0   1    0.5\n",
       "1   2    0.5\n",
       "2   3    0.5\n",
       "3   4    0.5\n",
       "4   5    0.5"
      ]
     },
     "execution_count": 26,
     "metadata": {},
     "output_type": "execute_result"
    }
   ],
   "source": [
    "import pandas as pd\n",
    "\n",
    "submission = pd.read_csv('../input/dogs-vs-cats-redux-kernels-edition/sample_submission.csv')\n",
    "submission.head()"
   ]
  },
  {
   "cell_type": "code",
   "execution_count": 27,
   "id": "usual-benchmark",
   "metadata": {
    "execution": {
     "iopub.execute_input": "2021-06-12T06:44:47.959527Z",
     "iopub.status.busy": "2021-06-12T06:44:47.958791Z",
     "iopub.status.idle": "2021-06-12T06:44:47.961557Z",
     "shell.execute_reply": "2021-06-12T06:44:47.961169Z"
    },
    "papermill": {
     "duration": 0.108321,
     "end_time": "2021-06-12T06:44:47.961665",
     "exception": false,
     "start_time": "2021-06-12T06:44:47.853344",
     "status": "completed"
    },
    "tags": []
   },
   "outputs": [],
   "source": [
    "class testDataset(Dataset):\n",
    "    def __init__(self, rootdir, transform=my_transform, partial_data=None):\n",
    "        self.rootdir = rootdir\n",
    "        self.transform = transform\n",
    "        if partial_data is not None:\n",
    "            self.images = os.listdir(rootdir)[:partial_data]\n",
    "        else :\n",
    "            self.images = os.listdir(rootdir)\n",
    "        \n",
    "    def __len__(self):\n",
    "        return len(self.images)\n",
    "    \n",
    "    def __getitem__(self, index):\n",
    "        \n",
    "#         print(os.path.join(self.rootdir,self.images[index]))\n",
    "        img = Image.open(os.path.join(self.rootdir,self.images[index])).convert(\"RGB\")\n",
    "        \n",
    "#         image = np.array(img)\n",
    "        \n",
    "        if self.transform:\n",
    "            img = self.transform(img)\n",
    "        \n",
    "#         if \"cat\" in self.images[index]:\n",
    "#             label = 0\n",
    "            \n",
    "#         elif \"dog\" in self.images[index]:\n",
    "#             label = 1\n",
    "#         else :\n",
    "#             label = -1\n",
    "            \n",
    "        return img"
   ]
  },
  {
   "cell_type": "code",
   "execution_count": 28,
   "id": "manufactured-password",
   "metadata": {
    "execution": {
     "iopub.execute_input": "2021-06-12T06:44:48.163749Z",
     "iopub.status.busy": "2021-06-12T06:44:48.163012Z",
     "iopub.status.idle": "2021-06-12T06:44:48.172179Z",
     "shell.execute_reply": "2021-06-12T06:44:48.171748Z"
    },
    "papermill": {
     "duration": 0.111714,
     "end_time": "2021-06-12T06:44:48.172290",
     "exception": false,
     "start_time": "2021-06-12T06:44:48.060576",
     "status": "completed"
    },
    "tags": []
   },
   "outputs": [],
   "source": [
    "test_dataset = testDataset(\"./test\")"
   ]
  },
  {
   "cell_type": "code",
   "execution_count": 29,
   "id": "hawaiian-policy",
   "metadata": {
    "execution": {
     "iopub.execute_input": "2021-06-12T06:44:48.374878Z",
     "iopub.status.busy": "2021-06-12T06:44:48.374302Z",
     "iopub.status.idle": "2021-06-12T06:44:48.377278Z",
     "shell.execute_reply": "2021-06-12T06:44:48.377665Z"
    },
    "papermill": {
     "duration": 0.106496,
     "end_time": "2021-06-12T06:44:48.377784",
     "exception": false,
     "start_time": "2021-06-12T06:44:48.271288",
     "status": "completed"
    },
    "tags": []
   },
   "outputs": [
    {
     "data": {
      "text/plain": [
       "(12500, 12500)"
      ]
     },
     "execution_count": 29,
     "metadata": {},
     "output_type": "execute_result"
    }
   ],
   "source": [
    "len(submission), test_dataset.__len__()"
   ]
  },
  {
   "cell_type": "code",
   "execution_count": 30,
   "id": "basic-statistics",
   "metadata": {
    "execution": {
     "iopub.execute_input": "2021-06-12T06:44:48.580293Z",
     "iopub.status.busy": "2021-06-12T06:44:48.579103Z",
     "iopub.status.idle": "2021-06-12T06:44:48.581317Z",
     "shell.execute_reply": "2021-06-12T06:44:48.581760Z"
    },
    "papermill": {
     "duration": 0.105097,
     "end_time": "2021-06-12T06:44:48.581911",
     "exception": false,
     "start_time": "2021-06-12T06:44:48.476814",
     "status": "completed"
    },
    "tags": []
   },
   "outputs": [],
   "source": [
    "test_dataloader = DataLoader(dataset=test_dataset, batch_size=1, shuffle=False)"
   ]
  },
  {
   "cell_type": "code",
   "execution_count": 31,
   "id": "varying-event",
   "metadata": {
    "execution": {
     "iopub.execute_input": "2021-06-12T06:44:48.784182Z",
     "iopub.status.busy": "2021-06-12T06:44:48.783408Z",
     "iopub.status.idle": "2021-06-12T06:47:17.570776Z",
     "shell.execute_reply": "2021-06-12T06:47:17.571407Z"
    },
    "papermill": {
     "duration": 148.891146,
     "end_time": "2021-06-12T06:47:17.571622",
     "exception": false,
     "start_time": "2021-06-12T06:44:48.680476",
     "status": "completed"
    },
    "tags": []
   },
   "outputs": [
    {
     "name": "stderr",
     "output_type": "stream",
     "text": [
      "100%|██████████| 12500/12500 [02:28<00:00, 84.02it/s]\n"
     ]
    }
   ],
   "source": [
    "\n",
    "\n",
    "predictions = []\n",
    "for x in tqdm(test_dataloader):\n",
    "    x = x.to(device=device)\n",
    "    \n",
    "    score = model(x)\n",
    "    _, prediction = score.max(1)\n",
    "    \n",
    "    predictions.append(prediction)\n",
    "    "
   ]
  },
  {
   "cell_type": "code",
   "execution_count": 32,
   "id": "altered-hostel",
   "metadata": {
    "execution": {
     "iopub.execute_input": "2021-06-12T06:47:18.504536Z",
     "iopub.status.busy": "2021-06-12T06:47:18.503856Z",
     "iopub.status.idle": "2021-06-12T06:47:18.507367Z",
     "shell.execute_reply": "2021-06-12T06:47:18.506964Z"
    },
    "papermill": {
     "duration": 0.454914,
     "end_time": "2021-06-12T06:47:18.507480",
     "exception": false,
     "start_time": "2021-06-12T06:47:18.052566",
     "status": "completed"
    },
    "tags": []
   },
   "outputs": [
    {
     "data": {
      "text/plain": [
       "12500"
      ]
     },
     "execution_count": 32,
     "metadata": {},
     "output_type": "execute_result"
    }
   ],
   "source": [
    "len(predictions)"
   ]
  },
  {
   "cell_type": "code",
   "execution_count": 33,
   "id": "environmental-indonesian",
   "metadata": {
    "execution": {
     "iopub.execute_input": "2021-06-12T06:47:19.399996Z",
     "iopub.status.busy": "2021-06-12T06:47:19.399211Z",
     "iopub.status.idle": "2021-06-12T06:47:19.576269Z",
     "shell.execute_reply": "2021-06-12T06:47:19.575687Z"
    },
    "papermill": {
     "duration": 0.623529,
     "end_time": "2021-06-12T06:47:19.576410",
     "exception": false,
     "start_time": "2021-06-12T06:47:18.952881",
     "status": "completed"
    },
    "tags": []
   },
   "outputs": [
    {
     "data": {
      "text/html": [
       "<div>\n",
       "<style scoped>\n",
       "    .dataframe tbody tr th:only-of-type {\n",
       "        vertical-align: middle;\n",
       "    }\n",
       "\n",
       "    .dataframe tbody tr th {\n",
       "        vertical-align: top;\n",
       "    }\n",
       "\n",
       "    .dataframe thead th {\n",
       "        text-align: right;\n",
       "    }\n",
       "</style>\n",
       "<table border=\"1\" class=\"dataframe\">\n",
       "  <thead>\n",
       "    <tr style=\"text-align: right;\">\n",
       "      <th></th>\n",
       "      <th>id</th>\n",
       "      <th>label</th>\n",
       "    </tr>\n",
       "  </thead>\n",
       "  <tbody>\n",
       "    <tr>\n",
       "      <th>0</th>\n",
       "      <td>1</td>\n",
       "      <td>1</td>\n",
       "    </tr>\n",
       "    <tr>\n",
       "      <th>1</th>\n",
       "      <td>2</td>\n",
       "      <td>1</td>\n",
       "    </tr>\n",
       "    <tr>\n",
       "      <th>2</th>\n",
       "      <td>3</td>\n",
       "      <td>1</td>\n",
       "    </tr>\n",
       "    <tr>\n",
       "      <th>3</th>\n",
       "      <td>4</td>\n",
       "      <td>1</td>\n",
       "    </tr>\n",
       "    <tr>\n",
       "      <th>4</th>\n",
       "      <td>5</td>\n",
       "      <td>1</td>\n",
       "    </tr>\n",
       "  </tbody>\n",
       "</table>\n",
       "</div>"
      ],
      "text/plain": [
       "   id  label\n",
       "0   1      1\n",
       "1   2      1\n",
       "2   3      1\n",
       "3   4      1\n",
       "4   5      1"
      ]
     },
     "execution_count": 33,
     "metadata": {},
     "output_type": "execute_result"
    }
   ],
   "source": [
    "submission[\"label\"] = [int(x) for x in predictions]\n",
    "submission.head()"
   ]
  },
  {
   "cell_type": "code",
   "execution_count": 34,
   "id": "expensive-culture",
   "metadata": {
    "execution": {
     "iopub.execute_input": "2021-06-12T06:47:20.474260Z",
     "iopub.status.busy": "2021-06-12T06:47:20.473356Z",
     "iopub.status.idle": "2021-06-12T06:47:20.712735Z",
     "shell.execute_reply": "2021-06-12T06:47:20.712247Z"
    },
    "papermill": {
     "duration": 0.695197,
     "end_time": "2021-06-12T06:47:20.712883",
     "exception": false,
     "start_time": "2021-06-12T06:47:20.017686",
     "status": "completed"
    },
    "tags": []
   },
   "outputs": [],
   "source": [
    "submission.to_csv(\"my_submission.csv\", index=False)"
   ]
  },
  {
   "cell_type": "code",
   "execution_count": null,
   "id": "criminal-arabic",
   "metadata": {
    "papermill": {
     "duration": 0.442832,
     "end_time": "2021-06-12T06:47:21.602723",
     "exception": false,
     "start_time": "2021-06-12T06:47:21.159891",
     "status": "completed"
    },
    "tags": []
   },
   "outputs": [],
   "source": []
  }
 ],
 "metadata": {
  "kernelspec": {
   "display_name": "Python 3",
   "language": "python",
   "name": "python3"
  },
  "language_info": {
   "codemirror_mode": {
    "name": "ipython",
    "version": 3
   },
   "file_extension": ".py",
   "mimetype": "text/x-python",
   "name": "python",
   "nbconvert_exporter": "python",
   "pygments_lexer": "ipython3",
   "version": "3.7.10"
  },
  "papermill": {
   "default_parameters": {},
   "duration": 238.805804,
   "end_time": "2021-06-12T06:47:23.757279",
   "environment_variables": {},
   "exception": null,
   "input_path": "__notebook__.ipynb",
   "output_path": "__notebook__.ipynb",
   "parameters": {},
   "start_time": "2021-06-12T06:43:24.951475",
   "version": "2.3.3"
  },
  "widgets": {
   "application/vnd.jupyter.widget-state+json": {
    "state": {
     "30cbda3c662d45f2b6aea916fcc769ca": {
      "model_module": "@jupyter-widgets/base",
      "model_module_version": "1.2.0",
      "model_name": "LayoutModel",
      "state": {
       "_model_module": "@jupyter-widgets/base",
       "_model_module_version": "1.2.0",
       "_model_name": "LayoutModel",
       "_view_count": null,
       "_view_module": "@jupyter-widgets/base",
       "_view_module_version": "1.2.0",
       "_view_name": "LayoutView",
       "align_content": null,
       "align_items": null,
       "align_self": null,
       "border": null,
       "bottom": null,
       "display": null,
       "flex": null,
       "flex_flow": null,
       "grid_area": null,
       "grid_auto_columns": null,
       "grid_auto_flow": null,
       "grid_auto_rows": null,
       "grid_column": null,
       "grid_gap": null,
       "grid_row": null,
       "grid_template_areas": null,
       "grid_template_columns": null,
       "grid_template_rows": null,
       "height": null,
       "justify_content": null,
       "justify_items": null,
       "left": null,
       "margin": null,
       "max_height": null,
       "max_width": null,
       "min_height": null,
       "min_width": null,
       "object_fit": null,
       "object_position": null,
       "order": null,
       "overflow": null,
       "overflow_x": null,
       "overflow_y": null,
       "padding": null,
       "right": null,
       "top": null,
       "visibility": null,
       "width": null
      }
     },
     "4c535a9ccc6a4a848b42625b66c42e79": {
      "model_module": "@jupyter-widgets/controls",
      "model_module_version": "1.5.0",
      "model_name": "FloatProgressModel",
      "state": {
       "_dom_classes": [],
       "_model_module": "@jupyter-widgets/controls",
       "_model_module_version": "1.5.0",
       "_model_name": "FloatProgressModel",
       "_view_count": null,
       "_view_module": "@jupyter-widgets/controls",
       "_view_module_version": "1.5.0",
       "_view_name": "ProgressView",
       "bar_style": "success",
       "description": "",
       "description_tooltip": null,
       "layout": "IPY_MODEL_b8ef7d224db94417ae1177ce5e413072",
       "max": 46827520.0,
       "min": 0.0,
       "orientation": "horizontal",
       "style": "IPY_MODEL_8656619f71c14b209ad7600a720f725b",
       "value": 46827520.0
      }
     },
     "6075c8fe7c834d229a1044f87ddecc59": {
      "model_module": "@jupyter-widgets/base",
      "model_module_version": "1.2.0",
      "model_name": "LayoutModel",
      "state": {
       "_model_module": "@jupyter-widgets/base",
       "_model_module_version": "1.2.0",
       "_model_name": "LayoutModel",
       "_view_count": null,
       "_view_module": "@jupyter-widgets/base",
       "_view_module_version": "1.2.0",
       "_view_name": "LayoutView",
       "align_content": null,
       "align_items": null,
       "align_self": null,
       "border": null,
       "bottom": null,
       "display": null,
       "flex": null,
       "flex_flow": null,
       "grid_area": null,
       "grid_auto_columns": null,
       "grid_auto_flow": null,
       "grid_auto_rows": null,
       "grid_column": null,
       "grid_gap": null,
       "grid_row": null,
       "grid_template_areas": null,
       "grid_template_columns": null,
       "grid_template_rows": null,
       "height": null,
       "justify_content": null,
       "justify_items": null,
       "left": null,
       "margin": null,
       "max_height": null,
       "max_width": null,
       "min_height": null,
       "min_width": null,
       "object_fit": null,
       "object_position": null,
       "order": null,
       "overflow": null,
       "overflow_x": null,
       "overflow_y": null,
       "padding": null,
       "right": null,
       "top": null,
       "visibility": null,
       "width": null
      }
     },
     "67dc933964024b48b2e0af6066d65cfc": {
      "model_module": "@jupyter-widgets/controls",
      "model_module_version": "1.5.0",
      "model_name": "HTMLModel",
      "state": {
       "_dom_classes": [],
       "_model_module": "@jupyter-widgets/controls",
       "_model_module_version": "1.5.0",
       "_model_name": "HTMLModel",
       "_view_count": null,
       "_view_module": "@jupyter-widgets/controls",
       "_view_module_version": "1.5.0",
       "_view_name": "HTMLView",
       "description": "",
       "description_tooltip": null,
       "layout": "IPY_MODEL_6075c8fe7c834d229a1044f87ddecc59",
       "placeholder": "​",
       "style": "IPY_MODEL_80257ebe37a74123b923b0c070af1353",
       "value": "100%"
      }
     },
     "71e75b66836f4842b984f5f1ff303e03": {
      "model_module": "@jupyter-widgets/controls",
      "model_module_version": "1.5.0",
      "model_name": "DescriptionStyleModel",
      "state": {
       "_model_module": "@jupyter-widgets/controls",
       "_model_module_version": "1.5.0",
       "_model_name": "DescriptionStyleModel",
       "_view_count": null,
       "_view_module": "@jupyter-widgets/base",
       "_view_module_version": "1.2.0",
       "_view_name": "StyleView",
       "description_width": ""
      }
     },
     "80257ebe37a74123b923b0c070af1353": {
      "model_module": "@jupyter-widgets/controls",
      "model_module_version": "1.5.0",
      "model_name": "DescriptionStyleModel",
      "state": {
       "_model_module": "@jupyter-widgets/controls",
       "_model_module_version": "1.5.0",
       "_model_name": "DescriptionStyleModel",
       "_view_count": null,
       "_view_module": "@jupyter-widgets/base",
       "_view_module_version": "1.2.0",
       "_view_name": "StyleView",
       "description_width": ""
      }
     },
     "8656619f71c14b209ad7600a720f725b": {
      "model_module": "@jupyter-widgets/controls",
      "model_module_version": "1.5.0",
      "model_name": "ProgressStyleModel",
      "state": {
       "_model_module": "@jupyter-widgets/controls",
       "_model_module_version": "1.5.0",
       "_model_name": "ProgressStyleModel",
       "_view_count": null,
       "_view_module": "@jupyter-widgets/base",
       "_view_module_version": "1.2.0",
       "_view_name": "StyleView",
       "bar_color": null,
       "description_width": ""
      }
     },
     "b8ef7d224db94417ae1177ce5e413072": {
      "model_module": "@jupyter-widgets/base",
      "model_module_version": "1.2.0",
      "model_name": "LayoutModel",
      "state": {
       "_model_module": "@jupyter-widgets/base",
       "_model_module_version": "1.2.0",
       "_model_name": "LayoutModel",
       "_view_count": null,
       "_view_module": "@jupyter-widgets/base",
       "_view_module_version": "1.2.0",
       "_view_name": "LayoutView",
       "align_content": null,
       "align_items": null,
       "align_self": null,
       "border": null,
       "bottom": null,
       "display": null,
       "flex": null,
       "flex_flow": null,
       "grid_area": null,
       "grid_auto_columns": null,
       "grid_auto_flow": null,
       "grid_auto_rows": null,
       "grid_column": null,
       "grid_gap": null,
       "grid_row": null,
       "grid_template_areas": null,
       "grid_template_columns": null,
       "grid_template_rows": null,
       "height": null,
       "justify_content": null,
       "justify_items": null,
       "left": null,
       "margin": null,
       "max_height": null,
       "max_width": null,
       "min_height": null,
       "min_width": null,
       "object_fit": null,
       "object_position": null,
       "order": null,
       "overflow": null,
       "overflow_x": null,
       "overflow_y": null,
       "padding": null,
       "right": null,
       "top": null,
       "visibility": null,
       "width": null
      }
     },
     "bf6e275c4f3449f393e2eb22a01b5484": {
      "model_module": "@jupyter-widgets/controls",
      "model_module_version": "1.5.0",
      "model_name": "HTMLModel",
      "state": {
       "_dom_classes": [],
       "_model_module": "@jupyter-widgets/controls",
       "_model_module_version": "1.5.0",
       "_model_name": "HTMLModel",
       "_view_count": null,
       "_view_module": "@jupyter-widgets/controls",
       "_view_module_version": "1.5.0",
       "_view_name": "HTMLView",
       "description": "",
       "description_tooltip": null,
       "layout": "IPY_MODEL_f2c5dc6a870f4bfda5ac88aa09fd10af",
       "placeholder": "​",
       "style": "IPY_MODEL_71e75b66836f4842b984f5f1ff303e03",
       "value": " 44.7M/44.7M [00:00&lt;00:00, 111MB/s]"
      }
     },
     "f2c5dc6a870f4bfda5ac88aa09fd10af": {
      "model_module": "@jupyter-widgets/base",
      "model_module_version": "1.2.0",
      "model_name": "LayoutModel",
      "state": {
       "_model_module": "@jupyter-widgets/base",
       "_model_module_version": "1.2.0",
       "_model_name": "LayoutModel",
       "_view_count": null,
       "_view_module": "@jupyter-widgets/base",
       "_view_module_version": "1.2.0",
       "_view_name": "LayoutView",
       "align_content": null,
       "align_items": null,
       "align_self": null,
       "border": null,
       "bottom": null,
       "display": null,
       "flex": null,
       "flex_flow": null,
       "grid_area": null,
       "grid_auto_columns": null,
       "grid_auto_flow": null,
       "grid_auto_rows": null,
       "grid_column": null,
       "grid_gap": null,
       "grid_row": null,
       "grid_template_areas": null,
       "grid_template_columns": null,
       "grid_template_rows": null,
       "height": null,
       "justify_content": null,
       "justify_items": null,
       "left": null,
       "margin": null,
       "max_height": null,
       "max_width": null,
       "min_height": null,
       "min_width": null,
       "object_fit": null,
       "object_position": null,
       "order": null,
       "overflow": null,
       "overflow_x": null,
       "overflow_y": null,
       "padding": null,
       "right": null,
       "top": null,
       "visibility": null,
       "width": null
      }
     },
     "fb502c7a482c4c21b287e211c981e441": {
      "model_module": "@jupyter-widgets/controls",
      "model_module_version": "1.5.0",
      "model_name": "HBoxModel",
      "state": {
       "_dom_classes": [],
       "_model_module": "@jupyter-widgets/controls",
       "_model_module_version": "1.5.0",
       "_model_name": "HBoxModel",
       "_view_count": null,
       "_view_module": "@jupyter-widgets/controls",
       "_view_module_version": "1.5.0",
       "_view_name": "HBoxView",
       "box_style": "",
       "children": [
        "IPY_MODEL_67dc933964024b48b2e0af6066d65cfc",
        "IPY_MODEL_4c535a9ccc6a4a848b42625b66c42e79",
        "IPY_MODEL_bf6e275c4f3449f393e2eb22a01b5484"
       ],
       "layout": "IPY_MODEL_30cbda3c662d45f2b6aea916fcc769ca"
      }
     }
    },
    "version_major": 2,
    "version_minor": 0
   }
  }
 },
 "nbformat": 4,
 "nbformat_minor": 5
}
