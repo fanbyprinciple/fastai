{
  "nbformat": 4,
  "nbformat_minor": 0,
  "metadata": {
    "kernelspec": {
      "display_name": "Python 3",
      "language": "python",
      "name": "python3"
    },
    "colab": {
      "name": "Copy of lesson5-sgd-mnist.ipynb",
      "provenance": []
    },
    "accelerator": "GPU"
  },
  "cells": [
    {
      "cell_type": "code",
      "metadata": {
        "id": "LoXC6Prkf6tH",
        "colab_type": "code",
        "colab": {}
      },
      "source": [
        "%matplotlib inline\n",
        "from fastai.basics import *"
      ],
      "execution_count": null,
      "outputs": []
    },
    {
      "cell_type": "markdown",
      "metadata": {
        "id": "cZgsD5Esf6ta",
        "colab_type": "text"
      },
      "source": [
        "## MNIST SGD"
      ]
    },
    {
      "cell_type": "markdown",
      "metadata": {
        "id": "ZYUOprnef6td",
        "colab_type": "text"
      },
      "source": [
        "Get the 'pickled' MNIST dataset from http://deeplearning.net/data/mnist/mnist.pkl.gz. We're going to treat it as a standard flat dataset with fully connected layers, rather than using a CNN."
      ]
    },
    {
      "cell_type": "code",
      "metadata": {
        "id": "po5VG_fQgee6",
        "colab_type": "code",
        "colab": {
          "base_uri": "https://localhost:8080/",
          "height": 955
        },
        "outputId": "f36360cd-9a01-45e7-b52a-93d34c5998b4"
      },
      "source": [
        "!mkdir {Config().data_path()}/'mnist'\n",
        "!wget -r http://deeplearning.net/data/mnist/mnist.pkl.gz -d {Config().data_path()}/'mnist'"
      ],
      "execution_count": null,
      "outputs": [
        {
          "output_type": "stream",
          "text": [
            "DEBUG output created by Wget 1.19.4 on linux-gnu.\n",
            "\n",
            "Reading HSTS entries from /root/.wget-hsts\n",
            "URI encoding = ‘UTF-8’\n",
            "URI encoding = ‘UTF-8’\n",
            "Enqueuing http://deeplearning.net/data/mnist/mnist.pkl.gz at depth 0\n",
            "Queue count 1, maxcount 1.\n",
            "[IRI Enqueuing ‘http://deeplearning.net/data/mnist/mnist.pkl.gz’ with ‘UTF-8’\n",
            "Dequeuing http://deeplearning.net/data/mnist/mnist.pkl.gz at depth 0\n",
            "Queue count 0, maxcount 1.\n",
            "Converted file name 'deeplearning.net/data/mnist/mnist.pkl.gz' (UTF-8) -> 'deeplearning.net/data/mnist/mnist.pkl.gz' (UTF-8)\n",
            "--2020-09-01 07:12:47--  http://deeplearning.net/data/mnist/mnist.pkl.gz\n",
            "Resolving deeplearning.net (deeplearning.net)... 132.204.26.28\n",
            "Caching deeplearning.net => 132.204.26.28\n",
            "Connecting to deeplearning.net (deeplearning.net)|132.204.26.28|:80... connected.\n",
            "Created socket 3.\n",
            "Releasing 0x0000564a1f2b8460 (new refcount 1).\n",
            "\n",
            "---request begin---\n",
            "GET /data/mnist/mnist.pkl.gz HTTP/1.1\r\n",
            "User-Agent: Wget/1.19.4 (linux-gnu)\r\n",
            "Accept: */*\r\n",
            "Accept-Encoding: identity\r\n",
            "Host: deeplearning.net\r\n",
            "Connection: Keep-Alive\r\n",
            "\r\n",
            "---request end---\n",
            "HTTP request sent, awaiting response... \n",
            "---response begin---\n",
            "HTTP/1.1 200 OK\n",
            "Date: Tue, 01 Sep 2020 07:12:48 GMT\n",
            "Server: Apache/2.2.15 (Oracle)\n",
            "Last-Modified: Thu, 14 Jan 2010 21:45:58 GMT\n",
            "ETag: \"316446-f6b76d-47d26cff4d180\"\n",
            "Accept-Ranges: bytes\n",
            "Content-Length: 16168813\n",
            "Connection: close\n",
            "Content-Type: application/x-gzip\n",
            "\n",
            "---response end---\n",
            "200 OK\n",
            "Length: 16168813 (15M) [application/x-gzip]\n",
            "Saving to: ‘deeplearning.net/data/mnist/mnist.pkl.gz’\n",
            "\n",
            "deeplearning.net/da 100%[===================>]  15.42M  16.5MB/s    in 0.9s    \n",
            "\n",
            "Closed fd 3\n",
            "2020-09-01 07:12:49 (16.5 MB/s) - ‘deeplearning.net/data/mnist/mnist.pkl.gz’ saved [16168813/16168813]\n",
            "\n",
            "URI encoding = ‘UTF-8’\n",
            "/root/.fastai/data/mnist: Scheme missing.\n",
            "FINISHED --2020-09-01 07:12:49--\n",
            "Total wall clock time: 1.1s\n",
            "Downloaded: 1 files, 15M in 0.9s (16.5 MB/s)\n"
          ],
          "name": "stdout"
        }
      ]
    },
    {
      "cell_type": "code",
      "metadata": {
        "id": "pkmH-pAWf6tf",
        "colab_type": "code",
        "colab": {}
      },
      "source": [
        "path = Config().data_path()\n",
        "#path = '/content/deeplearning.net/data/mnist/mnist.pkl.gz'"
      ],
      "execution_count": null,
      "outputs": []
    },
    {
      "cell_type": "code",
      "metadata": {
        "id": "aFyx6vEjf6ts",
        "colab_type": "code",
        "colab": {
          "base_uri": "https://localhost:8080/",
          "height": 34
        },
        "outputId": "f456cc3d-7cd5-44f5-c383-2f7b037c1b6a"
      },
      "source": [
        "path.ls()"
      ],
      "execution_count": null,
      "outputs": [
        {
          "output_type": "execute_result",
          "data": {
            "text/plain": [
              "[PosixPath('/root/.fastai/data/mnist')]"
            ]
          },
          "metadata": {
            "tags": []
          },
          "execution_count": 4
        }
      ]
    },
    {
      "cell_type": "code",
      "metadata": {
        "id": "iwIxStSvRzQI",
        "colab_type": "code",
        "colab": {
          "base_uri": "https://localhost:8080/",
          "height": 34
        },
        "outputId": "c6070a32-01d0-42c8-b868-8daf99a36fc0"
      },
      "source": [
        "!dir {path}/'mnist/deeplearning.net/data/mnist'"
      ],
      "execution_count": null,
      "outputs": [
        {
          "output_type": "stream",
          "text": [
            "mnist.pkl.gz\n"
          ],
          "name": "stdout"
        }
      ]
    },
    {
      "cell_type": "code",
      "metadata": {
        "id": "zO7rl9Zlf6t-",
        "colab_type": "code",
        "colab": {}
      },
      "source": [
        "# loading pickled gzip directly into an array\n",
        "\n",
        "with gzip.open(path/'mnist/deeplearning.net/data/mnist/mnist.pkl.gz', 'rb') as f:\n",
        "    ((x_train, y_train), (x_valid, y_valid), _) = pickle.load(f, encoding='latin-1')"
      ],
      "execution_count": null,
      "outputs": []
    },
    {
      "cell_type": "code",
      "metadata": {
        "id": "UwJEOoP6f6uL",
        "colab_type": "code",
        "colab": {
          "base_uri": "https://localhost:8080/",
          "height": 282
        },
        "outputId": "54d3caac-bf5b-4399-fac3-d7a668cde19f"
      },
      "source": [
        "plt.imshow(x_train[0].reshape((28,28)), cmap=\"gray\")\n",
        "x_train.shape"
      ],
      "execution_count": null,
      "outputs": [
        {
          "output_type": "execute_result",
          "data": {
            "text/plain": [
              "(50000, 784)"
            ]
          },
          "metadata": {
            "tags": []
          },
          "execution_count": 16
        },
        {
          "output_type": "display_data",
          "data": {
            "image/png": "[encoded data removed]",
            "text/plain": [
              "<Figure size 432x288 with 1 Axes>"
            ]
          },
          "metadata": {
            "tags": [],
            "needs_background": "light"
          }
        }
      ]
    },
    {
      "cell_type": "code",
      "metadata": {
        "id": "9fsymUclf6uZ",
        "colab_type": "code",
        "colab": {
          "base_uri": "https://localhost:8080/",
          "height": 34
        },
        "outputId": "3e35a88f-3424-426b-dca3-7d10eadc0996"
      },
      "source": [
        "x_train,y_train,x_valid,y_valid = map(torch.tensor, (x_train,y_train,x_valid,y_valid))\n",
        "n,c = x_train.shape\n",
        "x_train.shape, y_train.min(), y_train.max()\n",
        "\n",
        "#I may as well create a variable with the number of things I have which we normally call n. Here, we use c to mean the number of columns (that's not a great name for it sorry). So there we are. Then the y not surprisingly the minimum value is 0 and the maximum value is 9 because that's the actual number we're gonna predict."
      ],
      "execution_count": null,
      "outputs": [
        {
          "output_type": "execute_result",
          "data": {
            "text/plain": [
              "(torch.Size([50000, 784]), tensor(0), tensor(9))"
            ]
          },
          "metadata": {
            "tags": []
          },
          "execution_count": 18
        }
      ]
    },
    {
      "cell_type": "markdown",
      "metadata": {
        "id": "cPoPWZPaf6un",
        "colab_type": "text"
      },
      "source": [
        "In lesson2-sgd we did these things ourselves:\n",
        "\n",
        "```python\n",
        "x = torch.ones(n,2) # creating bias\n",
        "def mse(y_hat, y): return ((y_hat-y)**2).mean() # mse function\n",
        "y_hat = x@a\n",
        "```\n",
        "\n",
        "Now instead we'll use PyTorch's functions to do it for us, and also to handle mini-batches (which we didn't do last time, since our dataset was so small)."
      ]
    },
    {
      "cell_type": "code",
      "metadata": {
        "id": "mUCrLHHRf6ut",
        "colab_type": "code",
        "colab": {}
      },
      "source": [
        "bs=64\n",
        "train_ds = TensorDataset(x_train, y_train)\n",
        "valid_ds = TensorDataset(x_valid, y_valid)\n",
        "data = DataBunch.create(train_ds, valid_ds, bs=bs)"
      ],
      "execution_count": null,
      "outputs": []
    },
    {
      "cell_type": "code",
      "metadata": {
        "id": "FKYhHUbBf6u9",
        "colab_type": "code",
        "colab": {
          "base_uri": "https://localhost:8080/",
          "height": 34
        },
        "outputId": "428822c7-1b32-40b8-c7ad-eb096374976e"
      },
      "source": [
        "x,y = next(iter(data.train_dl))\n",
        "x.shape,y.shape\n",
        "\n",
        "# it will give you mini batches\n",
        "\n",
        "#Once you have a dataset, \n",
        "#then you can use a little bit of convenience by calling DataBunch.\n",
        "#create and what that is going to do is it's going to create data loaders for you. \n",
        "#A data loader is something which you don't say I want the first thing or the fifth thing, you just say I want the \"next\" thing, and it will give you a mini batch of whatever size you asked for. Specifically it'll give you the X and the y of a mini batch. So if I just grab the next of the iterator (this is just standard Python). Here's my training data loader (data.train_dl) that DataBunch.create creates for you. You can check that as you would expect the X is 64 by 784 because there's 784 pixels flattened out, 64 in a mini batch and the Y is just 64 numbers -\n",
        "# they are things we're trying to predict."
      ],
      "execution_count": null,
      "outputs": [
        {
          "output_type": "execute_result",
          "data": {
            "text/plain": [
              "(torch.Size([64, 784]), torch.Size([64]))"
            ]
          },
          "metadata": {
            "tags": []
          },
          "execution_count": 20
        }
      ]
    },
    {
      "cell_type": "code",
      "metadata": {
        "id": "Z18cogvSf6vK",
        "colab_type": "code",
        "colab": {}
      },
      "source": [
        "class Mnist_Logistic(nn.Module):\n",
        "    def __init__(self):\n",
        "        super().__init__()\n",
        "        self.lin = nn.Linear(784, 10, bias=True)\n",
        "\n",
        "    def forward(self, xb): return self.lin(xb)"
      ],
      "execution_count": null,
      "outputs": []
    },
    {
      "cell_type": "code",
      "metadata": {
        "id": "Wj1wi1ntf6vV",
        "colab_type": "code",
        "colab": {}
      },
      "source": [
        "model = Mnist_Logistic().cuda()\n",
        "\n",
        "# Because we're doing stuff ourself a little bit \n",
        "#we have to put the weight matrices (i.e. the parameters) \n",
        "#onto the GPU manually. So just type .cuda() to do that."
      ],
      "execution_count": null,
      "outputs": []
    },
    {
      "cell_type": "code",
      "metadata": {
        "id": "h03O9B7Bf6vg",
        "colab_type": "code",
        "colab": {
          "base_uri": "https://localhost:8080/",
          "height": 68
        },
        "outputId": "45c86e9d-a183-41b7-d586-0b676329aff1"
      },
      "source": [
        "model"
      ],
      "execution_count": null,
      "outputs": [
        {
          "output_type": "execute_result",
          "data": {
            "text/plain": [
              "Mnist_Logistic(\n",
              "  (lin): Linear(in_features=784, out_features=10, bias=True)\n",
              ")"
            ]
          },
          "metadata": {
            "tags": []
          },
          "execution_count": 23
        }
      ]
    },
    {
      "cell_type": "code",
      "metadata": {
        "id": "19uk2VMlf6vt",
        "colab_type": "code",
        "colab": {
          "base_uri": "https://localhost:8080/",
          "height": 34
        },
        "outputId": "1ec4cf0b-8f38-445f-f284-f09ad9239654"
      },
      "source": [
        "model.lin"
      ],
      "execution_count": null,
      "outputs": [
        {
          "output_type": "execute_result",
          "data": {
            "text/plain": [
              "Linear(in_features=784, out_features=10, bias=True)"
            ]
          },
          "metadata": {
            "tags": []
          },
          "execution_count": 24
        }
      ]
    },
    {
      "cell_type": "code",
      "metadata": {
        "id": "bdi84xf4f6v4",
        "colab_type": "code",
        "colab": {
          "base_uri": "https://localhost:8080/",
          "height": 34
        },
        "outputId": "c9644c85-226d-4b5d-ba33-06934739fd65"
      },
      "source": [
        "model(x).shape"
      ],
      "execution_count": null,
      "outputs": [
        {
          "output_type": "execute_result",
          "data": {
            "text/plain": [
              "torch.Size([64, 10])"
            ]
          },
          "metadata": {
            "tags": []
          },
          "execution_count": 25
        }
      ]
    },
    {
      "cell_type": "code",
      "metadata": {
        "id": "tTdm29Fxf6wD",
        "colab_type": "code",
        "colab": {
          "base_uri": "https://localhost:8080/",
          "height": 34
        },
        "outputId": "7b9937a8-856b-4629-e26b-1ce186d58926"
      },
      "source": [
        "[p.shape for p in model.parameters()]"
      ],
      "execution_count": null,
      "outputs": [
        {
          "output_type": "execute_result",
          "data": {
            "text/plain": [
              "[torch.Size([10, 784]), torch.Size([10])]"
            ]
          },
          "metadata": {
            "tags": []
          },
          "execution_count": 26
        }
      ]
    },
    {
      "cell_type": "code",
      "metadata": {
        "id": "S96I3O3Cf6wQ",
        "colab_type": "code",
        "colab": {}
      },
      "source": [
        "lr=2e-2"
      ],
      "execution_count": null,
      "outputs": []
    },
    {
      "cell_type": "code",
      "metadata": {
        "id": "xkUylF3xf6wa",
        "colab_type": "code",
        "colab": {}
      },
      "source": [
        "loss_func = nn.CrossEntropyLoss()"
      ],
      "execution_count": null,
      "outputs": []
    },
    {
      "cell_type": "code",
      "metadata": {
        "id": "MaT-ILLvf6wi",
        "colab_type": "code",
        "colab": {}
      },
      "source": [
        "# . We're going to come back to this loss function in a moment but we can't really use MSE for this because we're not trying to see \"how close are you\". \n",
        "# Did you predict 3 and actually it was 4, gosh you were really close. \n",
        "# No, 3 is just as far away from 4 as 0 is away from 4 when you're trying to predict what number did somebody draw. \n",
        "# So we're not going to use MSE, we're going to use cross-entropy loss\n",
        "\n",
        "def update(x,y,lr):\n",
        "    wd = 1e-5\n",
        "    y_hat = model(x)\n",
        "    # weight decay\n",
        "    w2 = 0.\n",
        "    for p in model.parameters(): w2 += (p**2).sum()\n",
        "    # add to regular loss\n",
        "    loss = loss_func(y_hat, y) + w2*wd\n",
        "    loss.backward()\n",
        "    with torch.no_grad():\n",
        "        for p in model.parameters():\n",
        "            p.sub_(lr * p.grad)\n",
        "            p.grad.zero_()\n",
        "    return loss.item()"
      ],
      "execution_count": null,
      "outputs": []
    },
    {
      "cell_type": "code",
      "metadata": {
        "id": "8vOAa1vpf6wt",
        "colab_type": "code",
        "colab": {}
      },
      "source": [
        "losses = [update(x,y,lr) for x,y in data.train_dl]"
      ],
      "execution_count": null,
      "outputs": []
    },
    {
      "cell_type": "code",
      "metadata": {
        "id": "qAMmHaA7f6w1",
        "colab_type": "code",
        "colab": {
          "base_uri": "https://localhost:8080/",
          "height": 268
        },
        "outputId": "de4e8270-f984-4a1b-d765-2d9338a0feb2"
      },
      "source": [
        "plt.plot(losses);"
      ],
      "execution_count": null,
      "outputs": [
        {
          "output_type": "display_data",
          "data": {
            "image/png": "[encoded data removed]",
            "text/plain": [
              "<Figure size 432x288 with 1 Axes>"
            ]
          },
          "metadata": {
            "tags": [],
            "needs_background": "light"
          }
        }
      ]
    },
    {
      "cell_type": "code",
      "metadata": {
        "id": "FLReodDlf6xA",
        "colab_type": "code",
        "colab": {
          "base_uri": "https://localhost:8080/",
          "height": 171
        },
        "outputId": "a5a56d05-8b73-4e33-b62f-f804bcf88f11"
      },
      "source": [
        "'''\n",
        "Now that we've got this update function, \n",
        "we could replace this Mnist_Logistic \n",
        "with MNIST neural networketwork \n",
        "and build a neural network from scratch.\n",
        "'''\n",
        "\n",
        "class Mnist_NN(nn.Module):\n",
        "    def __init__(self):\n",
        "        super().__init__()\n",
        "        self.lin1 = nn.Linear(784, 50, bias=True)\n",
        "        self.lin2 = nn.Linear(50, 10, bias=True)\n",
        "\n",
        "    def forward(self, xb):\n",
        "        x = self.lin1(xb)\n",
        "        x = F.relu(x)\n",
        "        return self.lin2(x)\n",
        "\n",
        "\n",
        "\"\"\"\n",
        "Now we just need two linear layers.\n",
        " In the first one, we could use a weight matrix of size 50. \n",
        " We need to make sure that the second linear layer has an input\n",
        "  of size 50 so it matches. \n",
        "  The final layer has to have an output of size 10 because \n",
        "  that's the number of classes we're predicting. \n",
        "So now our forward just goes:\n",
        "\n",
        "do a linear layer\n",
        "calculate ReLU\n",
        "do a second linear layer\n",
        "Now we've actually created a neural net from scratch. I mean we didn't write nn.Linear but you can write it yourself or you could do the matrices directly - you know how to.\n",
        "\n",
        "Again we can go model dot CUDA, and then we can calculate losses for the exact same update function, there it goes\n",
        "\"\"\""
      ],
      "execution_count": null,
      "outputs": [
        {
          "output_type": "execute_result",
          "data": {
            "application/vnd.google.colaboratory.intrinsic+json": {
              "type": "string"
            },
            "text/plain": [
              "\"\\nNow we just need two linear layers.\\n In the first one, we could use a weight matrix of size 50. \\n We need to make sure that the second linear layer has an input\\n  of size 50 so it matches. \\n  The final layer has to have an output of size 10 because \\n  that's the number of classes we're predicting. \\nSo now our forward just goes:\\n\\ndo a linear layer\\ncalculate ReLU\\ndo a second linear layer\\nNow we've actually created a neural net from scratch. I mean we didn't write nn.Linear but you can write it yourself or you could do the matrices directly - you know how to.\\n\\nAgain we can go model dot CUDA, and then we can calculate losses for the exact same update function, there it goes\\n\""
            ]
          },
          "metadata": {
            "tags": []
          },
          "execution_count": 35
        }
      ]
    },
    {
      "cell_type": "code",
      "metadata": {
        "id": "zkkAddORf6xJ",
        "colab_type": "code",
        "colab": {}
      },
      "source": [
        "model = Mnist_NN().cuda()"
      ],
      "execution_count": null,
      "outputs": []
    },
    {
      "cell_type": "code",
      "metadata": {
        "id": "29UBez5vf6xR",
        "colab_type": "code",
        "colab": {}
      },
      "source": [
        "losses = [update(x,y,lr) for x,y in data.train_dl]"
      ],
      "execution_count": null,
      "outputs": []
    },
    {
      "cell_type": "code",
      "metadata": {
        "id": "_SQvXYmJf6xZ",
        "colab_type": "code",
        "colab": {
          "base_uri": "https://localhost:8080/",
          "height": 265
        },
        "outputId": "e1f6270a-1c45-4fe4-aec4-a5b80be46a07"
      },
      "source": [
        "plt.plot(losses);"
      ],
      "execution_count": null,
      "outputs": [
        {
          "output_type": "display_data",
          "data": {
            "image/png": "[encoded data removed]",
            "text/plain": [
              "<Figure size 432x288 with 1 Axes>"
            ]
          },
          "metadata": {
            "tags": [],
            "needs_background": "light"
          }
        }
      ]
    },
    {
      "cell_type": "code",
      "metadata": {
        "id": "72sstWlVf6xi",
        "colab_type": "code",
        "colab": {}
      },
      "source": [
        "model = Mnist_NN().cuda()"
      ],
      "execution_count": null,
      "outputs": []
    },
    {
      "cell_type": "code",
      "metadata": {
        "id": "VgYP2fqmf6xq",
        "colab_type": "code",
        "colab": {}
      },
      "source": [
        "# changing update function with something other than SGD\n",
        "\n",
        "def update(x,y,lr):\n",
        "    opt = optim.Adam(model.parameters(), lr)\n",
        "    y_hat = model(x)\n",
        "    loss = loss_func(y_hat, y)\n",
        "    loss.backward()\n",
        "    opt.step()\n",
        "    opt.zero_grad()\n",
        "    return loss.item()"
      ],
      "execution_count": null,
      "outputs": []
    },
    {
      "cell_type": "code",
      "metadata": {
        "id": "GBmZhWlbf6x1",
        "colab_type": "code",
        "colab": {}
      },
      "source": [
        "losses = [update(x,y,1e-3) for x,y in data.train_dl]\n",
        "# correct value = 1e-3"
      ],
      "execution_count": 51,
      "outputs": []
    },
    {
      "cell_type": "code",
      "metadata": {
        "id": "K_I7I7Fkf6x-",
        "colab_type": "code",
        "colab": {
          "base_uri": "https://localhost:8080/",
          "height": 265
        },
        "outputId": "3a266ac7-ed6c-4ac0-d845-9daa44c30cf0"
      },
      "source": [
        "plt.plot(losses);"
      ],
      "execution_count": 52,
      "outputs": [
        {
          "output_type": "display_data",
          "data": {
            "image/png": "[encoded data removed]",
            "text/plain": [
              "<Figure size 432x288 with 1 Axes>"
            ]
          },
          "metadata": {
            "tags": [],
            "needs_background": "light"
          }
        }
      ]
    },
    {
      "cell_type": "code",
      "metadata": {
        "id": "6eOhqDM-f6yF",
        "colab_type": "code",
        "colab": {}
      },
      "source": [
        "learn = Learner(data, Mnist_NN(), loss_func=loss_func, metrics=accuracy)\n",
        "# learner dows whatever we did for you automatically"
      ],
      "execution_count": null,
      "outputs": []
    },
    {
      "cell_type": "code",
      "metadata": {
        "id": "FI4o_rhbf6yM",
        "colab_type": "code",
        "colab": {
          "base_uri": "https://localhost:8080/",
          "height": 243
        },
        "outputId": "368c4d54-761b-4a04-d9f6-5ef2ab7bc261"
      },
      "source": [
        "%debug"
      ],
      "execution_count": null,
      "outputs": [
        {
          "output_type": "stream",
          "text": [
            "> \u001b[0;32m/usr/lib/python3.6/gzip.py\u001b[0m(163)\u001b[0;36m__init__\u001b[0;34m()\u001b[0m\n",
            "\u001b[0;32m    161 \u001b[0;31m            \u001b[0mmode\u001b[0m \u001b[0;34m+=\u001b[0m \u001b[0;34m'b'\u001b[0m\u001b[0;34m\u001b[0m\u001b[0;34m\u001b[0m\u001b[0m\n",
            "\u001b[0m\u001b[0;32m    162 \u001b[0;31m        \u001b[0;32mif\u001b[0m \u001b[0mfileobj\u001b[0m \u001b[0;32mis\u001b[0m \u001b[0;32mNone\u001b[0m\u001b[0;34m:\u001b[0m\u001b[0;34m\u001b[0m\u001b[0;34m\u001b[0m\u001b[0m\n",
            "\u001b[0m\u001b[0;32m--> 163 \u001b[0;31m            \u001b[0mfileobj\u001b[0m \u001b[0;34m=\u001b[0m \u001b[0mself\u001b[0m\u001b[0;34m.\u001b[0m\u001b[0mmyfileobj\u001b[0m \u001b[0;34m=\u001b[0m \u001b[0mbuiltins\u001b[0m\u001b[0;34m.\u001b[0m\u001b[0mopen\u001b[0m\u001b[0;34m(\u001b[0m\u001b[0mfilename\u001b[0m\u001b[0;34m,\u001b[0m \u001b[0mmode\u001b[0m \u001b[0;32mor\u001b[0m \u001b[0;34m'rb'\u001b[0m\u001b[0;34m)\u001b[0m\u001b[0;34m\u001b[0m\u001b[0;34m\u001b[0m\u001b[0m\n",
            "\u001b[0m\u001b[0;32m    164 \u001b[0;31m        \u001b[0;32mif\u001b[0m \u001b[0mfilename\u001b[0m \u001b[0;32mis\u001b[0m \u001b[0;32mNone\u001b[0m\u001b[0;34m:\u001b[0m\u001b[0;34m\u001b[0m\u001b[0;34m\u001b[0m\u001b[0m\n",
            "\u001b[0m\u001b[0;32m    165 \u001b[0;31m            \u001b[0mfilename\u001b[0m \u001b[0;34m=\u001b[0m \u001b[0mgetattr\u001b[0m\u001b[0;34m(\u001b[0m\u001b[0mfileobj\u001b[0m\u001b[0;34m,\u001b[0m \u001b[0;34m'name'\u001b[0m\u001b[0;34m,\u001b[0m \u001b[0;34m''\u001b[0m\u001b[0;34m)\u001b[0m\u001b[0;34m\u001b[0m\u001b[0;34m\u001b[0m\u001b[0m\n",
            "\u001b[0m\n",
            "ipdb> dir\n",
            "<built-in function dir>\n",
            "--KeyboardInterrupt--\n",
            "ipdb> exit\n"
          ],
          "name": "stdout"
        }
      ]
    },
    {
      "cell_type": "code",
      "metadata": {
        "id": "HsPJYnywf6yT",
        "colab_type": "code",
        "colab": {
          "base_uri": "https://localhost:8080/",
          "height": 374
        },
        "outputId": "e236eb85-518e-4642-f1c3-9590e23142e2"
      },
      "source": [
        "learn.lr_find()\n",
        "learn.recorder.plot()\n",
        "\n",
        "# lr_find actually finds you learning rate to the batch"
      ],
      "execution_count": 53,
      "outputs": [
        {
          "output_type": "display_data",
          "data": {
            "text/html": [
              "\n",
              "    <div>\n",
              "        <style>\n",
              "            /* Turns off some styling */\n",
              "            progress {\n",
              "                /* gets rid of default border in Firefox and Opera. */\n",
              "                border: none;\n",
              "                /* Needs to be in here for Safari polyfill so background images work as expected. */\n",
              "                background-size: auto;\n",
              "            }\n",
              "            .progress-bar-interrupted, .progress-bar-interrupted::-webkit-progress-bar {\n",
              "                background: #F44336;\n",
              "            }\n",
              "        </style>\n",
              "      <progress value='0' class='' max='1' style='width:300px; height:20px; vertical-align: middle;'></progress>\n",
              "      0.00% [0/1 00:00<00:00]\n",
              "    </div>\n",
              "    \n",
              "<table border=\"1\" class=\"dataframe\">\n",
              "  <thead>\n",
              "    <tr style=\"text-align: left;\">\n",
              "      <th>epoch</th>\n",
              "      <th>train_loss</th>\n",
              "      <th>valid_loss</th>\n",
              "      <th>accuracy</th>\n",
              "      <th>time</th>\n",
              "    </tr>\n",
              "  </thead>\n",
              "  <tbody>\n",
              "  </tbody>\n",
              "</table><p>\n",
              "\n",
              "    <div>\n",
              "        <style>\n",
              "            /* Turns off some styling */\n",
              "            progress {\n",
              "                /* gets rid of default border in Firefox and Opera. */\n",
              "                border: none;\n",
              "                /* Needs to be in here for Safari polyfill so background images work as expected. */\n",
              "                background-size: auto;\n",
              "            }\n",
              "            .progress-bar-interrupted, .progress-bar-interrupted::-webkit-progress-bar {\n",
              "                background: #F44336;\n",
              "            }\n",
              "        </style>\n",
              "      <progress value='92' class='' max='781' style='width:300px; height:20px; vertical-align: middle;'></progress>\n",
              "      11.78% [92/781 00:00<00:04 2.1744]\n",
              "    </div>\n",
              "    "
            ],
            "text/plain": [
              "<IPython.core.display.HTML object>"
            ]
          },
          "metadata": {
            "tags": []
          }
        },
        {
          "output_type": "stream",
          "text": [
            "LR Finder is complete, type {learner_name}.recorder.plot() to see the graph.\n"
          ],
          "name": "stdout"
        },
        {
          "output_type": "display_data",
          "data": {
            "image/png": "[encoded data removed]",
            "text/plain": [
              "<Figure size 432x288 with 1 Axes>"
            ]
          },
          "metadata": {
            "tags": [],
            "needs_background": "light"
          }
        }
      ]
    },
    {
      "cell_type": "code",
      "metadata": {
        "id": "NH0NDi2lf6yd",
        "colab_type": "code",
        "colab": {
          "base_uri": "https://localhost:8080/",
          "height": 80
        },
        "outputId": "48b6985a-da54-4ffa-a9ab-318150403b7a"
      },
      "source": [
        "learn.fit_one_cycle(1, 1e-2)"
      ],
      "execution_count": 54,
      "outputs": [
        {
          "output_type": "display_data",
          "data": {
            "text/html": [
              "<table border=\"1\" class=\"dataframe\">\n",
              "  <thead>\n",
              "    <tr style=\"text-align: left;\">\n",
              "      <th>epoch</th>\n",
              "      <th>train_loss</th>\n",
              "      <th>valid_loss</th>\n",
              "      <th>accuracy</th>\n",
              "      <th>time</th>\n",
              "    </tr>\n",
              "  </thead>\n",
              "  <tbody>\n",
              "    <tr>\n",
              "      <td>0</td>\n",
              "      <td>0.171251</td>\n",
              "      <td>0.134421</td>\n",
              "      <td>0.961000</td>\n",
              "      <td>00:05</td>\n",
              "    </tr>\n",
              "  </tbody>\n",
              "</table>"
            ],
            "text/plain": [
              "<IPython.core.display.HTML object>"
            ]
          },
          "metadata": {
            "tags": []
          }
        }
      ]
    },
    {
      "cell_type": "code",
      "metadata": {
        "id": "FlS6Eyy3f6yj",
        "colab_type": "code",
        "colab": {
          "base_uri": "https://localhost:8080/",
          "height": 241
        },
        "outputId": "87b16695-4c75-4549-9f6c-71c3a8fee43c"
      },
      "source": [
        "learn.recorder.plot_lr(show_moms=True)\n",
        "\n",
        "# we need to anneal te=he learning rate at later iterations\n",
        "# the momentum is more when learning rate is high\n",
        "\n",
        "# this is what it does when we call fit_one_cycle function"
      ],
      "execution_count": 55,
      "outputs": [
        {
          "output_type": "display_data",
          "data": {
            "image/png": "[encoded data removed]",
            "text/plain": [
              "<Figure size 864x288 with 2 Axes>"
            ]
          },
          "metadata": {
            "tags": [],
            "needs_background": "light"
          }
        }
      ]
    },
    {
      "cell_type": "code",
      "metadata": {
        "id": "jqj5lXxef6ys",
        "colab_type": "code",
        "colab": {
          "base_uri": "https://localhost:8080/",
          "height": 279
        },
        "outputId": "2cdad1c0-af9c-47cd-998a-fde732ce1c65"
      },
      "source": [
        "learn.recorder.plot_losses()"
      ],
      "execution_count": 56,
      "outputs": [
        {
          "output_type": "display_data",
          "data": {
            "image/png": "[encoded data removed]",
            "text/plain": [
              "<Figure size 432x288 with 1 Axes>"
            ]
          },
          "metadata": {
            "tags": [],
            "needs_background": "light"
          }
        }
      ]
    },
    {
      "cell_type": "markdown",
      "metadata": {
        "id": "fKazEY3Gf6yy",
        "colab_type": "text"
      },
      "source": [
        "## fin"
      ]
    },
    {
      "cell_type": "code",
      "metadata": {
        "id": "LRaH-DH8f6y0",
        "colab_type": "code",
        "colab": {}
      },
      "source": [
        ""
      ],
      "execution_count": null,
      "outputs": []
    }
  ]
}