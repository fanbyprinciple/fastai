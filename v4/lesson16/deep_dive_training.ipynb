{
  "nbformat": 4,
  "nbformat_minor": 0,
  "metadata": {
    "colab": {
      "name": "deep_dive_training",
      "provenance": []
    },
    "kernelspec": {
      "name": "python3",
      "display_name": "Python 3"
    },
    "accelerator": "GPU"
  },
  "cells": [
    {
      "cell_type": "code",
      "metadata": {
        "id": "fy1Dzxdw9gUj",
        "outputId": "6b86a793-445b-4029-a252-2e50b4c6ecae",
        "colab": {
          "base_uri": "https://localhost:8080/"
        }
      },
      "source": [
        "!pip install -Uqq fastbook\n",
        "import fastbook\n",
        "fastbook.setup_book()"
      ],
      "execution_count": 1,
      "outputs": [
        {
          "output_type": "stream",
          "text": [
            "\u001b[K     |████████████████████████████████| 727kB 11.5MB/s \n",
            "\u001b[K     |████████████████████████████████| 51kB 9.1MB/s \n",
            "\u001b[K     |████████████████████████████████| 51kB 8.8MB/s \n",
            "\u001b[K     |████████████████████████████████| 1.1MB 52.8MB/s \n",
            "\u001b[K     |████████████████████████████████| 194kB 54.1MB/s \n",
            "\u001b[K     |████████████████████████████████| 40kB 7.3MB/s \n",
            "\u001b[K     |████████████████████████████████| 92kB 13.6MB/s \n",
            "\u001b[K     |████████████████████████████████| 51kB 8.6MB/s \n",
            "\u001b[K     |████████████████████████████████| 61kB 10.4MB/s \n",
            "\u001b[K     |████████████████████████████████| 51kB 8.7MB/s \n",
            "\u001b[K     |████████████████████████████████| 2.6MB 46.1MB/s \n",
            "\u001b[?25hMounted at /content/gdrive\n"
          ],
          "name": "stdout"
        }
      ]
    },
    {
      "cell_type": "code",
      "metadata": {
        "id": "lI8YkwJL9tdG"
      },
      "source": [
        "from fastbook import *"
      ],
      "execution_count": 2,
      "outputs": []
    },
    {
      "cell_type": "markdown",
      "metadata": {
        "id": "LuxWX7FV_TY5"
      },
      "source": [
        "THe aimis to create state of art architechture and exploring the training process.\n",
        "\n",
        "lets us first creat a baseline"
      ]
    },
    {
      "cell_type": "code",
      "metadata": {
        "id": "0Y3Jc5A_936e"
      },
      "source": [
        "def get_data(url, presize, resize):\n",
        "  path = untar_data(url)\n",
        "  return DataBlock(\n",
        "      blocks=(ImageBlock, CategoryBlock), get_items=get_image_files,\n",
        "      splitter=GrandparentSplitter(valid_name='val'),\n",
        "      get_y = parent_label, item_tfms=Resize(presize),\n",
        "      batch_tfms=[*aug_transforms(min_scale=0.5, size=resize), Normalize.from_stats(*imagenet_stats)]\n",
        "  ).dataloaders(path, bs=128)"
      ],
      "execution_count": 6,
      "outputs": []
    },
    {
      "cell_type": "code",
      "metadata": {
        "id": "aC2wPPgbAWng"
      },
      "source": [
        "dls = get_data(URLs.IMAGENETTE_160, 160, 128)"
      ],
      "execution_count": 7,
      "outputs": []
    },
    {
      "cell_type": "code",
      "metadata": {
        "id": "hFYWEP80Ad7W"
      },
      "source": [
        "def get_learner(**kwargs):\n",
        "  return cnn_learner(dls, resnet34, pretrained=False,\n",
        "                     metrics=accuracy, **kwargs).to_fp16()"
      ],
      "execution_count": 8,
      "outputs": []
    },
    {
      "cell_type": "code",
      "metadata": {
        "id": "6vqnhO6XAwQj",
        "outputId": "5009da01-68df-46db-c73b-520a717ec648",
        "colab": {
          "base_uri": "https://localhost:8080/",
          "height": 137
        }
      },
      "source": [
        "learn = get_learner()\n",
        "learn.fit_one_cycle(3,0.003)"
      ],
      "execution_count": 9,
      "outputs": [
        {
          "output_type": "display_data",
          "data": {
            "text/html": [
              "<table border=\"1\" class=\"dataframe\">\n",
              "  <thead>\n",
              "    <tr style=\"text-align: left;\">\n",
              "      <th>epoch</th>\n",
              "      <th>train_loss</th>\n",
              "      <th>valid_loss</th>\n",
              "      <th>accuracy</th>\n",
              "      <th>time</th>\n",
              "    </tr>\n",
              "  </thead>\n",
              "  <tbody>\n",
              "    <tr>\n",
              "      <td>0</td>\n",
              "      <td>2.651525</td>\n",
              "      <td>3.584093</td>\n",
              "      <td>0.231592</td>\n",
              "      <td>00:29</td>\n",
              "    </tr>\n",
              "    <tr>\n",
              "      <td>1</td>\n",
              "      <td>2.050042</td>\n",
              "      <td>1.840070</td>\n",
              "      <td>0.452994</td>\n",
              "      <td>00:30</td>\n",
              "    </tr>\n",
              "    <tr>\n",
              "      <td>2</td>\n",
              "      <td>1.664023</td>\n",
              "      <td>1.568036</td>\n",
              "      <td>0.536815</td>\n",
              "      <td>00:30</td>\n",
              "    </tr>\n",
              "  </tbody>\n",
              "</table>"
            ],
            "text/plain": [
              "<IPython.core.display.HTML object>"
            ]
          },
          "metadata": {
            "tags": []
          }
        }
      ]
    },
    {
      "cell_type": "code",
      "metadata": {
        "id": "-Xo1N45QA0c5"
      },
      "source": [
        "learn = get_learner(opt_func=SGD)"
      ],
      "execution_count": 10,
      "outputs": []
    },
    {
      "cell_type": "code",
      "metadata": {
        "id": "uX1U9A88A5NN",
        "outputId": "7a35e1ac-cba4-4231-aa06-1dd752e9e582",
        "colab": {
          "base_uri": "https://localhost:8080/",
          "height": 300
        }
      },
      "source": [
        "learn.lr_find()"
      ],
      "execution_count": 11,
      "outputs": [
        {
          "output_type": "display_data",
          "data": {
            "text/html": [
              ""
            ],
            "text/plain": [
              "<IPython.core.display.HTML object>"
            ]
          },
          "metadata": {
            "tags": []
          }
        },
        {
          "output_type": "execute_result",
          "data": {
            "text/plain": [
              "SuggestedLRs(lr_min=0.00831763744354248, lr_steep=4.786300905834651e-06)"
            ]
          },
          "metadata": {
            "tags": []
          },
          "execution_count": 11
        },
        {
          "output_type": "display_data",
          "data": {
            "image/png": "[encoded data removed]",
            "text/plain": [
              "<Figure size 432x288 with 1 Axes>"
            ]
          },
          "metadata": {
            "tags": [],
            "needs_background": "light"
          }
        }
      ]
    },
    {
      "cell_type": "code",
      "metadata": {
        "id": "PRIKFiOZA7pm",
        "outputId": "9b3d0ce4-8699-4c6a-9a92-ecfb24d84754",
        "colab": {
          "base_uri": "https://localhost:8080/",
          "height": 137
        }
      },
      "source": [
        "learn.fit_one_cycle(3,0.03, moms=(0,0,0))"
      ],
      "execution_count": 12,
      "outputs": [
        {
          "output_type": "display_data",
          "data": {
            "text/html": [
              "<table border=\"1\" class=\"dataframe\">\n",
              "  <thead>\n",
              "    <tr style=\"text-align: left;\">\n",
              "      <th>epoch</th>\n",
              "      <th>train_loss</th>\n",
              "      <th>valid_loss</th>\n",
              "      <th>accuracy</th>\n",
              "      <th>time</th>\n",
              "    </tr>\n",
              "  </thead>\n",
              "  <tbody>\n",
              "    <tr>\n",
              "      <td>0</td>\n",
              "      <td>2.948718</td>\n",
              "      <td>2.049491</td>\n",
              "      <td>0.271847</td>\n",
              "      <td>00:29</td>\n",
              "    </tr>\n",
              "    <tr>\n",
              "      <td>1</td>\n",
              "      <td>2.396746</td>\n",
              "      <td>1.816615</td>\n",
              "      <td>0.374522</td>\n",
              "      <td>00:29</td>\n",
              "    </tr>\n",
              "    <tr>\n",
              "      <td>2</td>\n",
              "      <td>2.112732</td>\n",
              "      <td>1.706839</td>\n",
              "      <td>0.414268</td>\n",
              "      <td>00:29</td>\n",
              "    </tr>\n",
              "  </tbody>\n",
              "</table>"
            ],
            "text/plain": [
              "<IPython.core.display.HTML object>"
            ]
          },
          "metadata": {
            "tags": []
          }
        }
      ]
    },
    {
      "cell_type": "markdown",
      "metadata": {
        "id": "wQVw8_63BEYv"
      },
      "source": [
        "lets add some tricks to accelerate the sgd training"
      ]
    },
    {
      "cell_type": "markdown",
      "metadata": {
        "id": "OtfxoLs4BKX0"
      },
      "source": [
        "### a generic optimiser\n",
        "\n",
        "fastai lightweight optimiser class"
      ]
    },
    {
      "cell_type": "code",
      "metadata": {
        "id": "BWwGnRbhBDgM"
      },
      "source": [
        "def sgd_cb(p, lr, **kwargs):\n",
        "  p.data.add_(-lr, p.grad.data)"
      ],
      "execution_count": 13,
      "outputs": []
    },
    {
      "cell_type": "code",
      "metadata": {
        "id": "ERgD3WD8CWDP"
      },
      "source": [
        "opt_func = partial(Optimizer, cbs=[sgd_cb])"
      ],
      "execution_count": 14,
      "outputs": []
    },
    {
      "cell_type": "code",
      "metadata": {
        "id": "O8BTlyd1Cbkg",
        "outputId": "68b07985-e072-40c2-d818-a0bef7301994",
        "colab": {
          "base_uri": "https://localhost:8080/",
          "height": 137
        }
      },
      "source": [
        "learn = get_learner(opt_func=opt_func)\n",
        "learn.fit(3,0.03)"
      ],
      "execution_count": 15,
      "outputs": [
        {
          "output_type": "display_data",
          "data": {
            "text/html": [
              "<table border=\"1\" class=\"dataframe\">\n",
              "  <thead>\n",
              "    <tr style=\"text-align: left;\">\n",
              "      <th>epoch</th>\n",
              "      <th>train_loss</th>\n",
              "      <th>valid_loss</th>\n",
              "      <th>accuracy</th>\n",
              "      <th>time</th>\n",
              "    </tr>\n",
              "  </thead>\n",
              "  <tbody>\n",
              "    <tr>\n",
              "      <td>0</td>\n",
              "      <td>2.699505</td>\n",
              "      <td>2.005118</td>\n",
              "      <td>0.295287</td>\n",
              "      <td>00:28</td>\n",
              "    </tr>\n",
              "    <tr>\n",
              "      <td>1</td>\n",
              "      <td>2.158759</td>\n",
              "      <td>1.804188</td>\n",
              "      <td>0.422420</td>\n",
              "      <td>00:29</td>\n",
              "    </tr>\n",
              "    <tr>\n",
              "      <td>2</td>\n",
              "      <td>1.902303</td>\n",
              "      <td>1.611248</td>\n",
              "      <td>0.462675</td>\n",
              "      <td>00:29</td>\n",
              "    </tr>\n",
              "  </tbody>\n",
              "</table>"
            ],
            "text/plain": [
              "<IPython.core.display.HTML object>"
            ]
          },
          "metadata": {
            "tags": []
          }
        }
      ]
    },
    {
      "cell_type": "markdown",
      "metadata": {
        "id": "g3YlgQTkChzi"
      },
      "source": [
        "### Momentum\n",
        "\n",
        "so that we dont get caught in local optima"
      ]
    },
    {
      "cell_type": "code",
      "metadata": {
        "id": "nK3Awz1FChKI",
        "outputId": "9c8f9d05-e7a2-49f2-a257-c7822e33cb4c",
        "colab": {
          "base_uri": "https://localhost:8080/",
          "height": 281
        }
      },
      "source": [
        "x = np.linspace(-4,4,100)\n",
        "y = 1 - (x/3) ** 2\n",
        "x1 = x + np.random.randn(100) * 0.1\n",
        "y1 = y + np.random.randn(100) * 0.1\n",
        "plt.scatter(x1, y1)\n",
        "idx = x1.argsort()\n",
        "beta, avg, res = 0.7, 0, []\n",
        "for i in idx:\n",
        "  avg = beta * avg + (1-beta) * y1[i]\n",
        "  res.append(avg/(1-beta**(i+1)))\n",
        "plt.plot(x1[idx], np.array(res), color='red')"
      ],
      "execution_count": 16,
      "outputs": [
        {
          "output_type": "execute_result",
          "data": {
            "text/plain": [
              "[<matplotlib.lines.Line2D at 0x7f0c039c8080>]"
            ]
          },
          "metadata": {
            "tags": []
          },
          "execution_count": 16
        },
        {
          "output_type": "display_data",
          "data": {
            "image/png": "[encoded data removed]",
            "text/plain": [
              "<Figure size 432x288 with 1 Axes>"
            ]
          },
          "metadata": {
            "tags": [],
            "needs_background": "light"
          }
        }
      ]
    },
    {
      "cell_type": "code",
      "metadata": {
        "id": "KxcnSIIBDYz_",
        "outputId": "511c3a27-08af-4f5e-c117-ce23942581bb",
        "colab": {
          "base_uri": "https://localhost:8080/",
          "height": 438
        }
      },
      "source": [
        "x = np.linspace(-4,4,100)\n",
        "y = 1 - (x/3) **2\n",
        "x1 = x + np.random.randn(100) * 0.1\n",
        "y1 = y + np.random.randn(100) * 0.1\n",
        "_,axs = plt.subplots(2,2,figsize=(12,8))\n",
        "betas = [0.5,0.7, 0.9,0.99]\n",
        "idx = x1.argsort()\n",
        "for beta, ax in zip(betas, axs.flatten()):\n",
        "  ax.scatter(x1, y1)\n",
        "  avg, res = 0, []\n",
        "  for i in idx:\n",
        "    avg = beta * avg + (1-beta) * y1[i]\n",
        "    res.append(avg)\n",
        "  \n",
        "  ax.plot(x1[idx], np.array(res), color='red')\n",
        "  ax.set_title(f'beta={beta}')"
      ],
      "execution_count": 17,
      "outputs": [
        {
          "output_type": "display_data",
          "data": {
            "image/png": "[encoded data removed]",
            "text/plain": [
              "<Figure size 864x576 with 4 Axes>"
            ]
          },
          "metadata": {
            "tags": [],
            "needs_background": "light"
          }
        }
      ]
    },
    {
      "cell_type": "code",
      "metadata": {
        "id": "j2_yaO9ZFC_d"
      },
      "source": [
        "# so that we dont add extra gradient so we need to use another callbak\n",
        "\n",
        "def average_grad(p,mom, grad_avg=None, **kwargs):\n",
        "  if grad_avg is None:\n",
        "    grad_avg = torch.zeros_like(p.grad.data)\n",
        "  return {'grad_avg': grad_avg*mom + p.grad.data}"
      ],
      "execution_count": 18,
      "outputs": []
    },
    {
      "cell_type": "code",
      "metadata": {
        "id": "tcwG3RVSIT5X"
      },
      "source": [
        "def momentum_step(p, lr, grad_avg, **kwargs):\n",
        "  p.data.add_(-lr, grad_avg)"
      ],
      "execution_count": 19,
      "outputs": []
    },
    {
      "cell_type": "code",
      "metadata": {
        "id": "6mETkq4JIfOO"
      },
      "source": [
        "opt_func = partial(Optimizer, cbs=[average_grad, momentum_step], mom=0.9)"
      ],
      "execution_count": 20,
      "outputs": []
    },
    {
      "cell_type": "code",
      "metadata": {
        "id": "scG_NbAfInSd",
        "outputId": "0ee8d195-6041-4a9d-d6d7-511783d09a05",
        "colab": {
          "base_uri": "https://localhost:8080/",
          "height": 137
        }
      },
      "source": [
        "learn = get_learner(opt_func=opt_func)\n",
        "learn.fit_one_cycle(3,0.03)"
      ],
      "execution_count": 21,
      "outputs": [
        {
          "output_type": "display_data",
          "data": {
            "text/html": [
              "<table border=\"1\" class=\"dataframe\">\n",
              "  <thead>\n",
              "    <tr style=\"text-align: left;\">\n",
              "      <th>epoch</th>\n",
              "      <th>train_loss</th>\n",
              "      <th>valid_loss</th>\n",
              "      <th>accuracy</th>\n",
              "      <th>time</th>\n",
              "    </tr>\n",
              "  </thead>\n",
              "  <tbody>\n",
              "    <tr>\n",
              "      <td>0</td>\n",
              "      <td>2.833867</td>\n",
              "      <td>2.043198</td>\n",
              "      <td>0.306497</td>\n",
              "      <td>00:29</td>\n",
              "    </tr>\n",
              "    <tr>\n",
              "      <td>1</td>\n",
              "      <td>2.440737</td>\n",
              "      <td>1.866800</td>\n",
              "      <td>0.390064</td>\n",
              "      <td>00:29</td>\n",
              "    </tr>\n",
              "    <tr>\n",
              "      <td>2</td>\n",
              "      <td>2.114511</td>\n",
              "      <td>1.664708</td>\n",
              "      <td>0.447643</td>\n",
              "      <td>00:29</td>\n",
              "    </tr>\n",
              "  </tbody>\n",
              "</table>"
            ],
            "text/plain": [
              "<IPython.core.display.HTML object>"
            ]
          },
          "metadata": {
            "tags": []
          }
        }
      ]
    },
    {
      "cell_type": "code",
      "metadata": {
        "id": "UpXBa1RyIvxI",
        "outputId": "4a32a4aa-315d-4bd2-9023-de5233748ec7",
        "colab": {
          "base_uri": "https://localhost:8080/",
          "height": 230
        }
      },
      "source": [
        "learn.recorder.plot_sched()"
      ],
      "execution_count": 23,
      "outputs": [
        {
          "output_type": "display_data",
          "data": {
            "image/png": "[encoded data removed]",
            "text/plain": [
              "<Figure size 864x288 with 2 Axes>"
            ]
          },
          "metadata": {
            "tags": [],
            "needs_background": "light"
          }
        }
      ]
    },
    {
      "cell_type": "markdown",
      "metadata": {
        "id": "5rfJIU1-I1kL"
      },
      "source": [
        "### RMS prop\n",
        "\n",
        "another variant of SGD by Geoffrey Hinton , it uses adaptive learning rate"
      ]
    },
    {
      "cell_type": "code",
      "metadata": {
        "id": "0NaqZIboIzld"
      },
      "source": [
        "def average_sqr_grad(p, sqr_mom, sqr_avg=None, **kwargs):\n",
        "  if sqr_avg is None:\n",
        "    sqr_avg = torch.zeros_like(p.grad.data)\n",
        "  return {'sqr_avg': sqr_avg*sqr_mom + p.grad.data ** 2}\n"
      ],
      "execution_count": 24,
      "outputs": []
    },
    {
      "cell_type": "code",
      "metadata": {
        "id": "7qLtWjWSKm88"
      },
      "source": [
        "def rms_prop_step(p, lr, sqr_avg, eps, grad_avg=None, **kwargs):\n",
        "  denom = sqr_avg.sqrt().add_(eps)\n",
        "  p.data.addcdiv_(-lr, p.grad, denom)\n",
        "opt_func = partial(Optimizer, cbs=[average_sqr_grad, rms_prop_step], sqr_mom=0.99, eps=1e-7)"
      ],
      "execution_count": 26,
      "outputs": []
    },
    {
      "cell_type": "code",
      "metadata": {
        "id": "6yYtl7IKLHN6",
        "outputId": "2543f88e-713c-48a7-d5a2-537ef2f0bb20",
        "colab": {
          "base_uri": "https://localhost:8080/",
          "height": 137
        }
      },
      "source": [
        "learn = get_learner(opt_func=opt_func)\n",
        "learn.fit_one_cycle(3,0.003)"
      ],
      "execution_count": 28,
      "outputs": [
        {
          "output_type": "display_data",
          "data": {
            "text/html": [
              "<table border=\"1\" class=\"dataframe\">\n",
              "  <thead>\n",
              "    <tr style=\"text-align: left;\">\n",
              "      <th>epoch</th>\n",
              "      <th>train_loss</th>\n",
              "      <th>valid_loss</th>\n",
              "      <th>accuracy</th>\n",
              "      <th>time</th>\n",
              "    </tr>\n",
              "  </thead>\n",
              "  <tbody>\n",
              "    <tr>\n",
              "      <td>0</td>\n",
              "      <td>2.791251</td>\n",
              "      <td>2.505056</td>\n",
              "      <td>0.311847</td>\n",
              "      <td>00:29</td>\n",
              "    </tr>\n",
              "    <tr>\n",
              "      <td>1</td>\n",
              "      <td>2.148765</td>\n",
              "      <td>2.043657</td>\n",
              "      <td>0.441019</td>\n",
              "      <td>00:30</td>\n",
              "    </tr>\n",
              "    <tr>\n",
              "      <td>2</td>\n",
              "      <td>1.798612</td>\n",
              "      <td>1.512300</td>\n",
              "      <td>0.520764</td>\n",
              "      <td>00:29</td>\n",
              "    </tr>\n",
              "  </tbody>\n",
              "</table>"
            ],
            "text/plain": [
              "<IPython.core.display.HTML object>"
            ]
          },
          "metadata": {
            "tags": []
          }
        }
      ]
    },
    {
      "cell_type": "markdown",
      "metadata": {
        "id": "lgEmBLZ4LmVx"
      },
      "source": [
        "### Adam\n",
        "\n",
        "Adam mixes the ideas of SGD with momentum and RMSProp together  this is used in fastai\n",
        "\n",
        "### USed with weight decay\n",
        "L2 regularisation\n",
        "\n",
        "## creating a Callback"
      ]
    },
    {
      "cell_type": "code",
      "metadata": {
        "id": "W1eZHdDgLVPA"
      },
      "source": [
        "class ModelResetter(Callback):\n",
        "  def begin_train(self):\n",
        "    self.model.reset()\n",
        "  \n",
        "  def begin_validate(self):\n",
        "    self.model.reset()\n",
        "  "
      ],
      "execution_count": 29,
      "outputs": []
    },
    {
      "cell_type": "code",
      "metadata": {
        "id": "HIeg_DznQJ-d"
      },
      "source": [
        "class RNNRegularizer(Callback):\n",
        "  def __init__(self, alpha=0., beta=0.):\n",
        "    self.alpha, self.beta = alpha, beta\n",
        "  \n",
        "  def after_pred(self):\n",
        "    self.raw_out, self.out = self.pred[1], self.pred[2]\n",
        "    self.learn.pred = self.pred[0]\n",
        "  \n",
        "  def after_loss(self):\n",
        "    if not self.training:\n",
        "      return\n",
        "    \n",
        "    if self.alpha != 0.:\n",
        "      self.learn.loss += self.alpha * self.out[-1].float().pow(2).mean()\n",
        "    if self.beta != 0.:\n",
        "      h = self.raw_out[-1]\n",
        "      if len(h)>1:\n",
        "        self.learn.loss += self.beta * (h[:,1:] - h[:,:-1]).float().pow(2).mean()\n"
      ],
      "execution_count": 30,
      "outputs": []
    },
    {
      "cell_type": "markdown",
      "metadata": {
        "id": "Xbev0IT_RhbE"
      },
      "source": [
        "### Callback to skip over a back"
      ]
    },
    {
      "cell_type": "code",
      "metadata": {
        "id": "3oHIUKdpRc-9"
      },
      "source": [
        "class TerminateOnNaNCallback(Callback):\n",
        "  run_before = Recorder\n",
        "  def after_batch(self):\n",
        "    if torch.isinf(self.loss) or torch.isnan(self.loss):\n",
        "      raise CancelFitException"
      ],
      "execution_count": 31,
      "outputs": []
    },
    {
      "cell_type": "code",
      "metadata": {
        "id": "VPPLQRmsR_Yh"
      },
      "source": [
        ""
      ],
      "execution_count": null,
      "outputs": []
    }
  ]
}