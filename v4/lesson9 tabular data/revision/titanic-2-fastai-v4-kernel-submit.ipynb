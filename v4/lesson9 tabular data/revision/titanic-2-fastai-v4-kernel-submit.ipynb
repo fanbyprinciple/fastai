{
 "cells": [
  {
   "cell_type": "markdown",
   "metadata": {
    "papermill": {
     "duration": 0.019109,
     "end_time": "2020-12-31T02:42:17.661038",
     "exception": false,
     "start_time": "2020-12-31T02:42:17.641929",
     "status": "completed"
    },
    "tags": []
   },
   "source": [
    "adapting codefrom : https://www.kaggle.com/hitesh1724/titanic-1-fastai-beginner-tutorial"
   ]
  },
  {
   "cell_type": "code",
   "execution_count": 1,
   "metadata": {
    "_cell_guid": "b1076dfc-b9ad-4769-8c92-a6c4dae69d19",
    "_uuid": "8f2839f25d086af736a60e9eeb907d3b93b6e0e5",
    "execution": {
     "iopub.execute_input": "2020-12-31T02:42:17.701879Z",
     "iopub.status.busy": "2020-12-31T02:42:17.700789Z",
     "iopub.status.idle": "2020-12-31T02:42:17.709124Z",
     "shell.execute_reply": "2020-12-31T02:42:17.709683Z"
    },
    "papermill": {
     "duration": 0.030345,
     "end_time": "2020-12-31T02:42:17.709866",
     "exception": false,
     "start_time": "2020-12-31T02:42:17.679521",
     "status": "completed"
    },
    "tags": []
   },
   "outputs": [
    {
     "name": "stdout",
     "output_type": "stream",
     "text": [
      "/kaggle/input/titanic/train.csv\n",
      "/kaggle/input/titanic/test.csv\n",
      "/kaggle/input/titanic/gender_submission.csv\n"
     ]
    }
   ],
   "source": [
    "# This Python 3 environment comes with many helpful analytics libraries installed\n",
    "# It is defined by the kaggle/python Docker image: https://github.com/kaggle/docker-python\n",
    "# For example, here's several helpful packages to load\n",
    "\n",
    "import numpy as np # linear algebra\n",
    "import pandas as pd # data processing, CSV file I/O (e.g. pd.read_csv)\n",
    "\n",
    "# Input data files are available in the read-only \"../input/\" directory\n",
    "# For example, running this (by clicking run or pressing Shift+Enter) will list all files under the input directory\n",
    "\n",
    "import os\n",
    "for dirname, _, filenames in os.walk('/kaggle/input'):\n",
    "    for filename in filenames:\n",
    "        print(os.path.join(dirname, filename))\n",
    "\n",
    "# You can write up to 20GB to the current directory (/kaggle/working/) that gets preserved as output when you create a version using \"Save & Run All\" \n",
    "# You can also write temporary files to /kaggle/temp/, but they won't be saved outside of the current session"
   ]
  },
  {
   "cell_type": "code",
   "execution_count": 2,
   "metadata": {
    "execution": {
     "iopub.execute_input": "2020-12-31T02:42:17.751280Z",
     "iopub.status.busy": "2020-12-31T02:42:17.750564Z",
     "iopub.status.idle": "2020-12-31T02:42:17.764698Z",
     "shell.execute_reply": "2020-12-31T02:42:17.763970Z"
    },
    "papermill": {
     "duration": 0.035739,
     "end_time": "2020-12-31T02:42:17.764827",
     "exception": false,
     "start_time": "2020-12-31T02:42:17.729088",
     "status": "completed"
    },
    "tags": []
   },
   "outputs": [
    {
     "data": {
      "text/plain": [
       "('1.3.10', '2.1.8')"
      ]
     },
     "execution_count": 2,
     "metadata": {},
     "output_type": "execute_result"
    }
   ],
   "source": [
    "import fastcore, fastai\n",
    "fastcore.__version__, fastai.__version__"
   ]
  },
  {
   "cell_type": "code",
   "execution_count": 3,
   "metadata": {
    "execution": {
     "iopub.execute_input": "2020-12-31T02:42:17.810146Z",
     "iopub.status.busy": "2020-12-31T02:42:17.809463Z",
     "iopub.status.idle": "2020-12-31T02:42:17.864943Z",
     "shell.execute_reply": "2020-12-31T02:42:17.865462Z"
    },
    "papermill": {
     "duration": 0.078591,
     "end_time": "2020-12-31T02:42:17.865621",
     "exception": false,
     "start_time": "2020-12-31T02:42:17.787030",
     "status": "completed"
    },
    "tags": []
   },
   "outputs": [
    {
     "data": {
      "text/html": [
       "<div>\n",
       "<style scoped>\n",
       "    .dataframe tbody tr th:only-of-type {\n",
       "        vertical-align: middle;\n",
       "    }\n",
       "\n",
       "    .dataframe tbody tr th {\n",
       "        vertical-align: top;\n",
       "    }\n",
       "\n",
       "    .dataframe thead th {\n",
       "        text-align: right;\n",
       "    }\n",
       "</style>\n",
       "<table border=\"1\" class=\"dataframe\">\n",
       "  <thead>\n",
       "    <tr style=\"text-align: right;\">\n",
       "      <th></th>\n",
       "      <th>PassengerId</th>\n",
       "      <th>Survived</th>\n",
       "      <th>Pclass</th>\n",
       "      <th>Name</th>\n",
       "      <th>Sex</th>\n",
       "      <th>Age</th>\n",
       "      <th>SibSp</th>\n",
       "      <th>Parch</th>\n",
       "      <th>Ticket</th>\n",
       "      <th>Fare</th>\n",
       "      <th>Cabin</th>\n",
       "      <th>Embarked</th>\n",
       "    </tr>\n",
       "  </thead>\n",
       "  <tbody>\n",
       "    <tr>\n",
       "      <th>0</th>\n",
       "      <td>1</td>\n",
       "      <td>0</td>\n",
       "      <td>3</td>\n",
       "      <td>Braund, Mr. Owen Harris</td>\n",
       "      <td>male</td>\n",
       "      <td>22.0</td>\n",
       "      <td>1</td>\n",
       "      <td>0</td>\n",
       "      <td>A/5 21171</td>\n",
       "      <td>7.2500</td>\n",
       "      <td>NaN</td>\n",
       "      <td>S</td>\n",
       "    </tr>\n",
       "    <tr>\n",
       "      <th>1</th>\n",
       "      <td>2</td>\n",
       "      <td>1</td>\n",
       "      <td>1</td>\n",
       "      <td>Cumings, Mrs. John Bradley (Florence Briggs Th...</td>\n",
       "      <td>female</td>\n",
       "      <td>38.0</td>\n",
       "      <td>1</td>\n",
       "      <td>0</td>\n",
       "      <td>PC 17599</td>\n",
       "      <td>71.2833</td>\n",
       "      <td>C85</td>\n",
       "      <td>C</td>\n",
       "    </tr>\n",
       "    <tr>\n",
       "      <th>2</th>\n",
       "      <td>3</td>\n",
       "      <td>1</td>\n",
       "      <td>3</td>\n",
       "      <td>Heikkinen, Miss. Laina</td>\n",
       "      <td>female</td>\n",
       "      <td>26.0</td>\n",
       "      <td>0</td>\n",
       "      <td>0</td>\n",
       "      <td>STON/O2. 3101282</td>\n",
       "      <td>7.9250</td>\n",
       "      <td>NaN</td>\n",
       "      <td>S</td>\n",
       "    </tr>\n",
       "    <tr>\n",
       "      <th>3</th>\n",
       "      <td>4</td>\n",
       "      <td>1</td>\n",
       "      <td>1</td>\n",
       "      <td>Futrelle, Mrs. Jacques Heath (Lily May Peel)</td>\n",
       "      <td>female</td>\n",
       "      <td>35.0</td>\n",
       "      <td>1</td>\n",
       "      <td>0</td>\n",
       "      <td>113803</td>\n",
       "      <td>53.1000</td>\n",
       "      <td>C123</td>\n",
       "      <td>S</td>\n",
       "    </tr>\n",
       "    <tr>\n",
       "      <th>4</th>\n",
       "      <td>5</td>\n",
       "      <td>0</td>\n",
       "      <td>3</td>\n",
       "      <td>Allen, Mr. William Henry</td>\n",
       "      <td>male</td>\n",
       "      <td>35.0</td>\n",
       "      <td>0</td>\n",
       "      <td>0</td>\n",
       "      <td>373450</td>\n",
       "      <td>8.0500</td>\n",
       "      <td>NaN</td>\n",
       "      <td>S</td>\n",
       "    </tr>\n",
       "  </tbody>\n",
       "</table>\n",
       "</div>"
      ],
      "text/plain": [
       "   PassengerId  Survived  Pclass  \\\n",
       "0            1         0       3   \n",
       "1            2         1       1   \n",
       "2            3         1       3   \n",
       "3            4         1       1   \n",
       "4            5         0       3   \n",
       "\n",
       "                                                Name     Sex   Age  SibSp  \\\n",
       "0                            Braund, Mr. Owen Harris    male  22.0      1   \n",
       "1  Cumings, Mrs. John Bradley (Florence Briggs Th...  female  38.0      1   \n",
       "2                             Heikkinen, Miss. Laina  female  26.0      0   \n",
       "3       Futrelle, Mrs. Jacques Heath (Lily May Peel)  female  35.0      1   \n",
       "4                           Allen, Mr. William Henry    male  35.0      0   \n",
       "\n",
       "   Parch            Ticket     Fare Cabin Embarked  \n",
       "0      0         A/5 21171   7.2500   NaN        S  \n",
       "1      0          PC 17599  71.2833   C85        C  \n",
       "2      0  STON/O2. 3101282   7.9250   NaN        S  \n",
       "3      0            113803  53.1000  C123        S  \n",
       "4      0            373450   8.0500   NaN        S  "
      ]
     },
     "execution_count": 3,
     "metadata": {},
     "output_type": "execute_result"
    }
   ],
   "source": [
    "df_test = pd.read_csv('../input/titanic/test.csv')\n",
    "df_train = pd.read_csv('../input/titanic/train.csv')\n",
    "\n",
    "df_train.head()"
   ]
  },
  {
   "cell_type": "code",
   "execution_count": 4,
   "metadata": {
    "execution": {
     "iopub.execute_input": "2020-12-31T02:42:17.915236Z",
     "iopub.status.busy": "2020-12-31T02:42:17.914510Z",
     "iopub.status.idle": "2020-12-31T02:42:17.947586Z",
     "shell.execute_reply": "2020-12-31T02:42:17.948163Z"
    },
    "papermill": {
     "duration": 0.062614,
     "end_time": "2020-12-31T02:42:17.948349",
     "exception": false,
     "start_time": "2020-12-31T02:42:17.885735",
     "status": "completed"
    },
    "tags": []
   },
   "outputs": [
    {
     "data": {
      "text/html": [
       "<div>\n",
       "<style scoped>\n",
       "    .dataframe tbody tr th:only-of-type {\n",
       "        vertical-align: middle;\n",
       "    }\n",
       "\n",
       "    .dataframe tbody tr th {\n",
       "        vertical-align: top;\n",
       "    }\n",
       "\n",
       "    .dataframe thead th {\n",
       "        text-align: right;\n",
       "    }\n",
       "</style>\n",
       "<table border=\"1\" class=\"dataframe\">\n",
       "  <thead>\n",
       "    <tr style=\"text-align: right;\">\n",
       "      <th></th>\n",
       "      <th>PassengerId</th>\n",
       "      <th>Survived</th>\n",
       "      <th>Pclass</th>\n",
       "      <th>Age</th>\n",
       "      <th>SibSp</th>\n",
       "      <th>Parch</th>\n",
       "      <th>Fare</th>\n",
       "    </tr>\n",
       "  </thead>\n",
       "  <tbody>\n",
       "    <tr>\n",
       "      <th>count</th>\n",
       "      <td>891.000000</td>\n",
       "      <td>891.000000</td>\n",
       "      <td>891.000000</td>\n",
       "      <td>714.000000</td>\n",
       "      <td>891.000000</td>\n",
       "      <td>891.000000</td>\n",
       "      <td>891.000000</td>\n",
       "    </tr>\n",
       "    <tr>\n",
       "      <th>mean</th>\n",
       "      <td>446.000000</td>\n",
       "      <td>0.383838</td>\n",
       "      <td>2.308642</td>\n",
       "      <td>29.699118</td>\n",
       "      <td>0.523008</td>\n",
       "      <td>0.381594</td>\n",
       "      <td>32.204208</td>\n",
       "    </tr>\n",
       "    <tr>\n",
       "      <th>std</th>\n",
       "      <td>257.353842</td>\n",
       "      <td>0.486592</td>\n",
       "      <td>0.836071</td>\n",
       "      <td>14.526497</td>\n",
       "      <td>1.102743</td>\n",
       "      <td>0.806057</td>\n",
       "      <td>49.693429</td>\n",
       "    </tr>\n",
       "    <tr>\n",
       "      <th>min</th>\n",
       "      <td>1.000000</td>\n",
       "      <td>0.000000</td>\n",
       "      <td>1.000000</td>\n",
       "      <td>0.420000</td>\n",
       "      <td>0.000000</td>\n",
       "      <td>0.000000</td>\n",
       "      <td>0.000000</td>\n",
       "    </tr>\n",
       "    <tr>\n",
       "      <th>25%</th>\n",
       "      <td>223.500000</td>\n",
       "      <td>0.000000</td>\n",
       "      <td>2.000000</td>\n",
       "      <td>20.125000</td>\n",
       "      <td>0.000000</td>\n",
       "      <td>0.000000</td>\n",
       "      <td>7.910400</td>\n",
       "    </tr>\n",
       "    <tr>\n",
       "      <th>50%</th>\n",
       "      <td>446.000000</td>\n",
       "      <td>0.000000</td>\n",
       "      <td>3.000000</td>\n",
       "      <td>28.000000</td>\n",
       "      <td>0.000000</td>\n",
       "      <td>0.000000</td>\n",
       "      <td>14.454200</td>\n",
       "    </tr>\n",
       "    <tr>\n",
       "      <th>75%</th>\n",
       "      <td>668.500000</td>\n",
       "      <td>1.000000</td>\n",
       "      <td>3.000000</td>\n",
       "      <td>38.000000</td>\n",
       "      <td>1.000000</td>\n",
       "      <td>0.000000</td>\n",
       "      <td>31.000000</td>\n",
       "    </tr>\n",
       "    <tr>\n",
       "      <th>max</th>\n",
       "      <td>891.000000</td>\n",
       "      <td>1.000000</td>\n",
       "      <td>3.000000</td>\n",
       "      <td>80.000000</td>\n",
       "      <td>8.000000</td>\n",
       "      <td>6.000000</td>\n",
       "      <td>512.329200</td>\n",
       "    </tr>\n",
       "  </tbody>\n",
       "</table>\n",
       "</div>"
      ],
      "text/plain": [
       "       PassengerId    Survived      Pclass         Age       SibSp  \\\n",
       "count   891.000000  891.000000  891.000000  714.000000  891.000000   \n",
       "mean    446.000000    0.383838    2.308642   29.699118    0.523008   \n",
       "std     257.353842    0.486592    0.836071   14.526497    1.102743   \n",
       "min       1.000000    0.000000    1.000000    0.420000    0.000000   \n",
       "25%     223.500000    0.000000    2.000000   20.125000    0.000000   \n",
       "50%     446.000000    0.000000    3.000000   28.000000    0.000000   \n",
       "75%     668.500000    1.000000    3.000000   38.000000    1.000000   \n",
       "max     891.000000    1.000000    3.000000   80.000000    8.000000   \n",
       "\n",
       "            Parch        Fare  \n",
       "count  891.000000  891.000000  \n",
       "mean     0.381594   32.204208  \n",
       "std      0.806057   49.693429  \n",
       "min      0.000000    0.000000  \n",
       "25%      0.000000    7.910400  \n",
       "50%      0.000000   14.454200  \n",
       "75%      0.000000   31.000000  \n",
       "max      6.000000  512.329200  "
      ]
     },
     "execution_count": 4,
     "metadata": {},
     "output_type": "execute_result"
    }
   ],
   "source": [
    "df_train.describe()"
   ]
  },
  {
   "cell_type": "code",
   "execution_count": 5,
   "metadata": {
    "execution": {
     "iopub.execute_input": "2020-12-31T02:42:17.999497Z",
     "iopub.status.busy": "2020-12-31T02:42:17.998703Z",
     "iopub.status.idle": "2020-12-31T02:42:18.031763Z",
     "shell.execute_reply": "2020-12-31T02:42:18.030510Z"
    },
    "papermill": {
     "duration": 0.059739,
     "end_time": "2020-12-31T02:42:18.031893",
     "exception": false,
     "start_time": "2020-12-31T02:42:17.972154",
     "status": "completed"
    },
    "tags": []
   },
   "outputs": [
    {
     "data": {
      "text/plain": [
       "Age            0.198653\n",
       "Cabin          0.771044\n",
       "Embarked       0.002245\n",
       "Fare           0.000000\n",
       "Name           0.000000\n",
       "Parch          0.000000\n",
       "PassengerId    0.000000\n",
       "Pclass         0.000000\n",
       "Sex            0.000000\n",
       "SibSp          0.000000\n",
       "Survived       0.000000\n",
       "Ticket         0.000000\n",
       "dtype: float64"
      ]
     },
     "execution_count": 5,
     "metadata": {},
     "output_type": "execute_result"
    }
   ],
   "source": [
    "# looking at null values in our data\n",
    "df_train.isnull().sum().sort_index()/len(df_train)"
   ]
  },
  {
   "cell_type": "code",
   "execution_count": 6,
   "metadata": {
    "execution": {
     "iopub.execute_input": "2020-12-31T02:42:18.083223Z",
     "iopub.status.busy": "2020-12-31T02:42:18.082491Z",
     "iopub.status.idle": "2020-12-31T02:42:18.095223Z",
     "shell.execute_reply": "2020-12-31T02:42:18.094552Z"
    },
    "papermill": {
     "duration": 0.042282,
     "end_time": "2020-12-31T02:42:18.095360",
     "exception": false,
     "start_time": "2020-12-31T02:42:18.053078",
     "status": "completed"
    },
    "tags": []
   },
   "outputs": [
    {
     "data": {
      "text/plain": [
       "{int64: ['PassengerId', 'Survived', 'Pclass', 'SibSp', 'Parch'], float64: ['Age', 'Fare'], object: ['Name', 'Sex', 'Ticket', 'Cabin', 'Embarked']}"
      ]
     },
     "execution_count": 6,
     "metadata": {},
     "output_type": "execute_result"
    }
   ],
   "source": [
    "df_train.dtypes\n",
    "g_train =df_train.columns.to_series().groupby(df_train.dtypes).groups\n",
    "g_train"
   ]
  },
  {
   "cell_type": "code",
   "execution_count": 7,
   "metadata": {
    "execution": {
     "iopub.execute_input": "2020-12-31T02:42:18.152149Z",
     "iopub.status.busy": "2020-12-31T02:42:18.151431Z",
     "iopub.status.idle": "2020-12-31T02:42:18.153621Z",
     "shell.execute_reply": "2020-12-31T02:42:18.154174Z"
    },
    "papermill": {
     "duration": 0.033109,
     "end_time": "2020-12-31T02:42:18.154338",
     "exception": false,
     "start_time": "2020-12-31T02:42:18.121229",
     "status": "completed"
    },
    "tags": []
   },
   "outputs": [],
   "source": [
    "cat_names= [\n",
    "        'Name', 'Sex', 'Ticket', 'Cabin', \n",
    "        'Embarked'\n",
    "]\n",
    "\n",
    "cont_names = [ \n",
    "    'PassengerId', 'Pclass', 'SibSp', 'Parch', \n",
    "    'Age', 'Fare'\n",
    " ]"
   ]
  },
  {
   "cell_type": "code",
   "execution_count": 8,
   "metadata": {
    "execution": {
     "iopub.execute_input": "2020-12-31T02:42:18.204719Z",
     "iopub.status.busy": "2020-12-31T02:42:18.203944Z",
     "iopub.status.idle": "2020-12-31T02:42:21.171386Z",
     "shell.execute_reply": "2020-12-31T02:42:21.170296Z"
    },
    "papermill": {
     "duration": 2.995132,
     "end_time": "2020-12-31T02:42:21.171583",
     "exception": false,
     "start_time": "2020-12-31T02:42:18.176451",
     "status": "completed"
    },
    "tags": []
   },
   "outputs": [],
   "source": [
    "from fastai.tabular.all import *"
   ]
  },
  {
   "cell_type": "code",
   "execution_count": 9,
   "metadata": {
    "execution": {
     "iopub.execute_input": "2020-12-31T02:42:21.232153Z",
     "iopub.status.busy": "2020-12-31T02:42:21.230447Z",
     "iopub.status.idle": "2020-12-31T02:42:21.323993Z",
     "shell.execute_reply": "2020-12-31T02:42:21.324842Z"
    },
    "papermill": {
     "duration": 0.124937,
     "end_time": "2020-12-31T02:42:21.325128",
     "exception": false,
     "start_time": "2020-12-31T02:42:21.200191",
     "status": "completed"
    },
    "tags": []
   },
   "outputs": [],
   "source": [
    "splits = RandomSplitter(valid_pct=0.2)(range_of(df_train))\n",
    "\n",
    "to = TabularPandas(df_train, procs=[Categorify, FillMissing, Normalize],\n",
    "                   cat_names = cat_names,\n",
    "                   cont_names = cont_names,\n",
    "                   y_names = 'Survived',\n",
    "                   splits = splits\n",
    "                   )"
   ]
  },
  {
   "cell_type": "code",
   "execution_count": 10,
   "metadata": {
    "execution": {
     "iopub.execute_input": "2020-12-31T02:42:21.378874Z",
     "iopub.status.busy": "2020-12-31T02:42:21.378169Z",
     "iopub.status.idle": "2020-12-31T02:42:21.390731Z",
     "shell.execute_reply": "2020-12-31T02:42:21.389975Z"
    },
    "papermill": {
     "duration": 0.038114,
     "end_time": "2020-12-31T02:42:21.390851",
     "exception": false,
     "start_time": "2020-12-31T02:42:21.352737",
     "status": "completed"
    },
    "tags": []
   },
   "outputs": [],
   "source": [
    "g_train = to.train.xs.columns.to_series().groupby(to.train.xs.dtypes).groups"
   ]
  },
  {
   "cell_type": "code",
   "execution_count": 11,
   "metadata": {
    "execution": {
     "iopub.execute_input": "2020-12-31T02:42:21.443938Z",
     "iopub.status.busy": "2020-12-31T02:42:21.443029Z",
     "iopub.status.idle": "2020-12-31T02:42:21.446631Z",
     "shell.execute_reply": "2020-12-31T02:42:21.447184Z"
    },
    "papermill": {
     "duration": 0.033799,
     "end_time": "2020-12-31T02:42:21.447337",
     "exception": false,
     "start_time": "2020-12-31T02:42:21.413538",
     "status": "completed"
    },
    "tags": []
   },
   "outputs": [
    {
     "data": {
      "text/plain": [
       "{int8: ['Sex', 'Embarked', 'Age_na'], int16: ['Name', 'Ticket', 'Cabin'], float64: ['PassengerId', 'Pclass', 'SibSp', 'Parch', 'Age', 'Fare']}"
      ]
     },
     "execution_count": 11,
     "metadata": {},
     "output_type": "execute_result"
    }
   ],
   "source": [
    "g_train"
   ]
  },
  {
   "cell_type": "code",
   "execution_count": 12,
   "metadata": {
    "execution": {
     "iopub.execute_input": "2020-12-31T02:42:21.497223Z",
     "iopub.status.busy": "2020-12-31T02:42:21.496196Z",
     "iopub.status.idle": "2020-12-31T02:42:21.515364Z",
     "shell.execute_reply": "2020-12-31T02:42:21.515911Z"
    },
    "papermill": {
     "duration": 0.045777,
     "end_time": "2020-12-31T02:42:21.516080",
     "exception": false,
     "start_time": "2020-12-31T02:42:21.470303",
     "status": "completed"
    },
    "tags": []
   },
   "outputs": [
    {
     "data": {
      "text/plain": [
       "     PassengerId  Survived    Pclass  Name  Sex       Age     SibSp     Parch  \\\n",
       "85     -1.393272         1  0.837609    53    1  0.268604  2.248820 -0.472399   \n",
       "401    -0.171212         0  0.837609     7    2 -0.272924 -0.473436 -0.472399   \n",
       "364    -0.314302         0  0.837609   600    2 -0.118202  0.433983 -0.472399   \n",
       "117    -1.269519         0 -0.359215   827    2 -0.040841  0.433983 -0.472399   \n",
       "645     0.772403         1 -1.556039   333    2  1.429021  0.433983 -0.472399   \n",
       "..           ...       ...       ...   ...  ...       ...       ...       ...   \n",
       "121    -1.254050         0  0.837609   552    2 -0.118202 -0.473436 -0.472399   \n",
       "32     -1.598237         1  0.837609   290    1 -0.118202 -0.473436 -0.472399   \n",
       "201    -0.944668         0  0.837609   722    2 -0.118202  6.785912  1.924900   \n",
       "492     0.180710         0 -1.556039   548    2  1.970550 -0.473436 -0.472399   \n",
       "521     0.292861         0  0.837609   842    2 -0.582369 -0.473436 -0.472399   \n",
       "\n",
       "     Ticket      Fare  Cabin  Embarked  Age_na  \n",
       "85      248 -0.340344      0         3       1  \n",
       "401     293 -0.502501      0         3       1  \n",
       "364     460 -0.347621      0         2       2  \n",
       "117      54 -0.233280      0         3       1  \n",
       "645     588  0.925291    102         1       1  \n",
       "..      ...       ...    ...       ...     ...  \n",
       "121     541 -0.502501      0         3       2  \n",
       "32      289 -0.508738      0         2       2  \n",
       "201     569  0.776040      0         3       2  \n",
       "492      42 -0.035781     65         3       1  \n",
       "521     391 -0.505706      0         3       1  \n",
       "\n",
       "[713 rows x 13 columns]"
      ]
     },
     "execution_count": 12,
     "metadata": {},
     "output_type": "execute_result"
    }
   ],
   "source": [
    "to.train"
   ]
  },
  {
   "cell_type": "code",
   "execution_count": 13,
   "metadata": {
    "execution": {
     "iopub.execute_input": "2020-12-31T02:42:21.573267Z",
     "iopub.status.busy": "2020-12-31T02:42:21.572222Z",
     "iopub.status.idle": "2020-12-31T02:42:21.600033Z",
     "shell.execute_reply": "2020-12-31T02:42:21.600602Z"
    },
    "papermill": {
     "duration": 0.058441,
     "end_time": "2020-12-31T02:42:21.600786",
     "exception": false,
     "start_time": "2020-12-31T02:42:21.542345",
     "status": "completed"
    },
    "tags": []
   },
   "outputs": [
    {
     "data": {
      "text/html": [
       "<div>\n",
       "<style scoped>\n",
       "    .dataframe tbody tr th:only-of-type {\n",
       "        vertical-align: middle;\n",
       "    }\n",
       "\n",
       "    .dataframe tbody tr th {\n",
       "        vertical-align: top;\n",
       "    }\n",
       "\n",
       "    .dataframe thead th {\n",
       "        text-align: right;\n",
       "    }\n",
       "</style>\n",
       "<table border=\"1\" class=\"dataframe\">\n",
       "  <thead>\n",
       "    <tr style=\"text-align: right;\">\n",
       "      <th></th>\n",
       "      <th>Name</th>\n",
       "      <th>Sex</th>\n",
       "      <th>Ticket</th>\n",
       "      <th>Cabin</th>\n",
       "      <th>Embarked</th>\n",
       "      <th>Age_na</th>\n",
       "      <th>PassengerId</th>\n",
       "      <th>Pclass</th>\n",
       "      <th>SibSp</th>\n",
       "      <th>Parch</th>\n",
       "      <th>Age</th>\n",
       "      <th>Fare</th>\n",
       "    </tr>\n",
       "  </thead>\n",
       "  <tbody>\n",
       "    <tr>\n",
       "      <th>85</th>\n",
       "      <td>53</td>\n",
       "      <td>1</td>\n",
       "      <td>248</td>\n",
       "      <td>0</td>\n",
       "      <td>3</td>\n",
       "      <td>1</td>\n",
       "      <td>-1.393272</td>\n",
       "      <td>0.837609</td>\n",
       "      <td>2.248820</td>\n",
       "      <td>-0.472399</td>\n",
       "      <td>0.268604</td>\n",
       "      <td>-0.340344</td>\n",
       "    </tr>\n",
       "    <tr>\n",
       "      <th>401</th>\n",
       "      <td>7</td>\n",
       "      <td>2</td>\n",
       "      <td>293</td>\n",
       "      <td>0</td>\n",
       "      <td>3</td>\n",
       "      <td>1</td>\n",
       "      <td>-0.171212</td>\n",
       "      <td>0.837609</td>\n",
       "      <td>-0.473436</td>\n",
       "      <td>-0.472399</td>\n",
       "      <td>-0.272924</td>\n",
       "      <td>-0.502501</td>\n",
       "    </tr>\n",
       "    <tr>\n",
       "      <th>364</th>\n",
       "      <td>600</td>\n",
       "      <td>2</td>\n",
       "      <td>460</td>\n",
       "      <td>0</td>\n",
       "      <td>2</td>\n",
       "      <td>2</td>\n",
       "      <td>-0.314302</td>\n",
       "      <td>0.837609</td>\n",
       "      <td>0.433983</td>\n",
       "      <td>-0.472399</td>\n",
       "      <td>-0.118202</td>\n",
       "      <td>-0.347621</td>\n",
       "    </tr>\n",
       "    <tr>\n",
       "      <th>117</th>\n",
       "      <td>827</td>\n",
       "      <td>2</td>\n",
       "      <td>54</td>\n",
       "      <td>0</td>\n",
       "      <td>3</td>\n",
       "      <td>1</td>\n",
       "      <td>-1.269519</td>\n",
       "      <td>-0.359215</td>\n",
       "      <td>0.433983</td>\n",
       "      <td>-0.472399</td>\n",
       "      <td>-0.040841</td>\n",
       "      <td>-0.233280</td>\n",
       "    </tr>\n",
       "    <tr>\n",
       "      <th>645</th>\n",
       "      <td>333</td>\n",
       "      <td>2</td>\n",
       "      <td>588</td>\n",
       "      <td>102</td>\n",
       "      <td>1</td>\n",
       "      <td>1</td>\n",
       "      <td>0.772403</td>\n",
       "      <td>-1.556039</td>\n",
       "      <td>0.433983</td>\n",
       "      <td>-0.472399</td>\n",
       "      <td>1.429021</td>\n",
       "      <td>0.925291</td>\n",
       "    </tr>\n",
       "    <tr>\n",
       "      <th>...</th>\n",
       "      <td>...</td>\n",
       "      <td>...</td>\n",
       "      <td>...</td>\n",
       "      <td>...</td>\n",
       "      <td>...</td>\n",
       "      <td>...</td>\n",
       "      <td>...</td>\n",
       "      <td>...</td>\n",
       "      <td>...</td>\n",
       "      <td>...</td>\n",
       "      <td>...</td>\n",
       "      <td>...</td>\n",
       "    </tr>\n",
       "    <tr>\n",
       "      <th>121</th>\n",
       "      <td>552</td>\n",
       "      <td>2</td>\n",
       "      <td>541</td>\n",
       "      <td>0</td>\n",
       "      <td>3</td>\n",
       "      <td>2</td>\n",
       "      <td>-1.254050</td>\n",
       "      <td>0.837609</td>\n",
       "      <td>-0.473436</td>\n",
       "      <td>-0.472399</td>\n",
       "      <td>-0.118202</td>\n",
       "      <td>-0.502501</td>\n",
       "    </tr>\n",
       "    <tr>\n",
       "      <th>32</th>\n",
       "      <td>290</td>\n",
       "      <td>1</td>\n",
       "      <td>289</td>\n",
       "      <td>0</td>\n",
       "      <td>2</td>\n",
       "      <td>2</td>\n",
       "      <td>-1.598237</td>\n",
       "      <td>0.837609</td>\n",
       "      <td>-0.473436</td>\n",
       "      <td>-0.472399</td>\n",
       "      <td>-0.118202</td>\n",
       "      <td>-0.508738</td>\n",
       "    </tr>\n",
       "    <tr>\n",
       "      <th>201</th>\n",
       "      <td>722</td>\n",
       "      <td>2</td>\n",
       "      <td>569</td>\n",
       "      <td>0</td>\n",
       "      <td>3</td>\n",
       "      <td>2</td>\n",
       "      <td>-0.944668</td>\n",
       "      <td>0.837609</td>\n",
       "      <td>6.785912</td>\n",
       "      <td>1.924900</td>\n",
       "      <td>-0.118202</td>\n",
       "      <td>0.776040</td>\n",
       "    </tr>\n",
       "    <tr>\n",
       "      <th>492</th>\n",
       "      <td>548</td>\n",
       "      <td>2</td>\n",
       "      <td>42</td>\n",
       "      <td>65</td>\n",
       "      <td>3</td>\n",
       "      <td>1</td>\n",
       "      <td>0.180710</td>\n",
       "      <td>-1.556039</td>\n",
       "      <td>-0.473436</td>\n",
       "      <td>-0.472399</td>\n",
       "      <td>1.970550</td>\n",
       "      <td>-0.035781</td>\n",
       "    </tr>\n",
       "    <tr>\n",
       "      <th>521</th>\n",
       "      <td>842</td>\n",
       "      <td>2</td>\n",
       "      <td>391</td>\n",
       "      <td>0</td>\n",
       "      <td>3</td>\n",
       "      <td>1</td>\n",
       "      <td>0.292861</td>\n",
       "      <td>0.837609</td>\n",
       "      <td>-0.473436</td>\n",
       "      <td>-0.472399</td>\n",
       "      <td>-0.582369</td>\n",
       "      <td>-0.505706</td>\n",
       "    </tr>\n",
       "  </tbody>\n",
       "</table>\n",
       "<p>713 rows × 12 columns</p>\n",
       "</div>"
      ],
      "text/plain": [
       "     Name  Sex  Ticket  Cabin  Embarked  Age_na  PassengerId    Pclass  \\\n",
       "85     53    1     248      0         3       1    -1.393272  0.837609   \n",
       "401     7    2     293      0         3       1    -0.171212  0.837609   \n",
       "364   600    2     460      0         2       2    -0.314302  0.837609   \n",
       "117   827    2      54      0         3       1    -1.269519 -0.359215   \n",
       "645   333    2     588    102         1       1     0.772403 -1.556039   \n",
       "..    ...  ...     ...    ...       ...     ...          ...       ...   \n",
       "121   552    2     541      0         3       2    -1.254050  0.837609   \n",
       "32    290    1     289      0         2       2    -1.598237  0.837609   \n",
       "201   722    2     569      0         3       2    -0.944668  0.837609   \n",
       "492   548    2      42     65         3       1     0.180710 -1.556039   \n",
       "521   842    2     391      0         3       1     0.292861  0.837609   \n",
       "\n",
       "        SibSp     Parch       Age      Fare  \n",
       "85   2.248820 -0.472399  0.268604 -0.340344  \n",
       "401 -0.473436 -0.472399 -0.272924 -0.502501  \n",
       "364  0.433983 -0.472399 -0.118202 -0.347621  \n",
       "117  0.433983 -0.472399 -0.040841 -0.233280  \n",
       "645  0.433983 -0.472399  1.429021  0.925291  \n",
       "..        ...       ...       ...       ...  \n",
       "121 -0.473436 -0.472399 -0.118202 -0.502501  \n",
       "32  -0.473436 -0.472399 -0.118202 -0.508738  \n",
       "201  6.785912  1.924900 -0.118202  0.776040  \n",
       "492 -0.473436 -0.472399  1.970550 -0.035781  \n",
       "521 -0.473436 -0.472399 -0.582369 -0.505706  \n",
       "\n",
       "[713 rows x 12 columns]"
      ]
     },
     "execution_count": 13,
     "metadata": {},
     "output_type": "execute_result"
    }
   ],
   "source": [
    "to.train.xs"
   ]
  },
  {
   "cell_type": "code",
   "execution_count": 14,
   "metadata": {
    "execution": {
     "iopub.execute_input": "2020-12-31T02:42:21.659899Z",
     "iopub.status.busy": "2020-12-31T02:42:21.658813Z",
     "iopub.status.idle": "2020-12-31T02:42:21.670389Z",
     "shell.execute_reply": "2020-12-31T02:42:21.669825Z"
    },
    "papermill": {
     "duration": 0.042482,
     "end_time": "2020-12-31T02:42:21.670519",
     "exception": false,
     "start_time": "2020-12-31T02:42:21.628037",
     "status": "completed"
    },
    "tags": []
   },
   "outputs": [
    {
     "data": {
      "text/plain": [
       "array([1, 0, 0, 0, 1, 0, 0, 0, 1, 0, 1, 0, 1, 0, 1, 0, 0, 1, 1, 1, 1, 1,\n",
       "       1, 0, 0, 0, 1, 1, 0, 0, 0, 0, 1, 0, 1, 1, 0, 0, 0, 0, 0, 1, 1, 1,\n",
       "       0, 1, 0, 0, 0, 0, 0, 0, 0, 0, 1, 0, 0, 0, 0, 1, 0, 0, 0, 0, 0, 0,\n",
       "       1, 1, 0, 0, 1, 1, 1, 0, 0, 1, 0, 1, 0, 1, 1, 0, 0, 0, 0, 0, 0, 0,\n",
       "       0, 1, 1, 1, 1, 1, 0, 1, 0, 1, 0, 0, 1, 0, 1, 0, 0, 1, 0, 1, 0, 0,\n",
       "       1, 0, 1, 0, 0, 1, 0, 0, 0, 1, 1, 1, 0, 1, 0, 1, 1, 1, 0, 1, 0, 1,\n",
       "       0, 1, 1, 1, 1, 1, 0, 0, 0, 1, 1, 1, 1, 1, 0, 1, 1, 0, 0, 0, 1, 1,\n",
       "       1, 0, 0, 1, 1, 1, 0, 1, 0, 0, 0, 0, 1, 1, 0, 1, 1, 0, 0, 1, 1, 1,\n",
       "       0, 0, 0, 0, 1, 1, 0, 0, 0, 0, 0, 0, 0, 1, 0, 1, 0, 1, 0, 0, 0, 0,\n",
       "       1, 0, 0, 0, 0, 1, 0, 1, 0, 1, 0, 0, 0, 1, 0, 1, 0, 1, 0, 0, 1, 0,\n",
       "       1, 1, 0, 1, 0, 0, 0, 0, 1, 0, 0, 1, 1, 1, 1, 0, 0, 1, 1, 0, 0, 0,\n",
       "       0, 1, 1, 0, 0, 1, 0, 0, 0, 1, 0, 0, 0, 1, 0, 0, 0, 0, 1, 0, 0, 0,\n",
       "       0, 0, 0, 0, 0, 0, 1, 1, 1, 0, 0, 0, 0, 0, 1, 1, 1, 1, 0, 1, 0, 0,\n",
       "       1, 0, 1, 0, 1, 0, 0, 0, 0, 0, 0, 0, 0, 0, 1, 0, 1, 1, 0, 0, 1, 0,\n",
       "       0, 1, 0, 0, 0, 1, 0, 0, 0, 1, 0, 0, 0, 0, 1, 0, 1, 0, 0, 1, 0, 1,\n",
       "       0, 1, 0, 1, 0, 1, 1, 0, 1, 0, 1, 1, 0, 1, 0, 1, 1, 0, 0, 0, 0, 0,\n",
       "       1, 1, 1, 0, 0, 1, 1, 0, 0, 1, 1, 1, 0, 0, 0, 0, 0, 0, 1, 1, 0, 0,\n",
       "       0, 0, 0, 0, 0, 1, 1, 1, 0, 1, 0, 0, 0, 0, 0, 0, 0, 0, 0, 1, 1, 0,\n",
       "       0, 1, 0, 0, 0, 0, 1, 0, 0, 1, 1, 0, 1, 1, 0, 0, 0, 0, 1, 0, 1, 0,\n",
       "       0, 0, 1, 1, 1, 0, 0, 1, 0, 1, 0, 0, 0, 0, 0, 0, 0, 1, 0, 0, 0, 0,\n",
       "       0, 0, 0, 1, 0, 1, 0, 1, 0, 0, 1, 0, 0, 0, 0, 1, 0, 0, 1, 0, 1, 1,\n",
       "       0, 0, 1, 0, 0, 1, 0, 0, 1, 1, 0, 0, 0, 0, 0, 0, 0, 1, 0, 0, 0, 0,\n",
       "       1, 1, 0, 1, 0, 1, 0, 0, 0, 1, 1, 0, 1, 0, 0, 0, 0, 0, 0, 0, 1, 1,\n",
       "       0, 0, 1, 0, 0, 1, 1, 0, 1, 0, 0, 1, 0, 0, 0, 0, 0, 0, 0, 1, 1, 0,\n",
       "       1, 1, 0, 0, 0, 0, 1, 0, 1, 1, 0, 0, 0, 1, 1, 1, 1, 0, 1, 1, 0, 1,\n",
       "       0, 1, 0, 0, 0, 0, 1, 1, 1, 0, 1, 0, 0, 0, 0, 0, 1, 1, 0, 1, 0, 0,\n",
       "       0, 0, 0, 0, 1, 1, 1, 0, 1, 0, 0, 0, 0, 0, 1, 1, 0, 1, 0, 0, 1, 1,\n",
       "       0, 0, 1, 0, 0, 1, 0, 0, 0, 1, 1, 0, 1, 0, 1, 0, 1, 0, 0, 1, 0, 0,\n",
       "       1, 0, 0, 0, 1, 0, 0, 1, 1, 0, 0, 0, 1, 0, 0, 0, 0, 0, 0, 0, 0, 0,\n",
       "       1, 0, 1, 0, 0, 0, 0, 0, 0, 1, 0, 0, 0, 0, 1, 0, 1, 0, 0, 1, 1, 0,\n",
       "       0, 1, 0, 1, 0, 0, 0, 1, 0, 1, 1, 0, 0, 0, 0, 0, 0, 1, 0, 1, 0, 0,\n",
       "       0, 0, 0, 0, 0, 1, 1, 1, 0, 0, 1, 1, 0, 0, 0, 1, 1, 1, 0, 1, 0, 1,\n",
       "       0, 0, 1, 1, 0, 1, 0, 0, 0], dtype=int8)"
      ]
     },
     "execution_count": 14,
     "metadata": {},
     "output_type": "execute_result"
    }
   ],
   "source": [
    "# looking at target values\n",
    "to.train.ys.values.ravel()"
   ]
  },
  {
   "cell_type": "code",
   "execution_count": 15,
   "metadata": {
    "execution": {
     "iopub.execute_input": "2020-12-31T02:42:21.728410Z",
     "iopub.status.busy": "2020-12-31T02:42:21.727615Z",
     "iopub.status.idle": "2020-12-31T02:42:21.995862Z",
     "shell.execute_reply": "2020-12-31T02:42:21.995235Z"
    },
    "papermill": {
     "duration": 0.298836,
     "end_time": "2020-12-31T02:42:21.995981",
     "exception": false,
     "start_time": "2020-12-31T02:42:21.697145",
     "status": "completed"
    },
    "tags": []
   },
   "outputs": [],
   "source": [
    "from sklearn.ensemble import RandomForestClassifier\n",
    "\n",
    "X_train, y_train = to.train.xs, to.train.ys.values.ravel()\n",
    "X_valid, y_valid = to.valid.xs, to.valid.ys.values.ravel()"
   ]
  },
  {
   "cell_type": "code",
   "execution_count": 16,
   "metadata": {
    "execution": {
     "iopub.execute_input": "2020-12-31T02:42:22.057989Z",
     "iopub.status.busy": "2020-12-31T02:42:22.057241Z",
     "iopub.status.idle": "2020-12-31T02:42:22.441377Z",
     "shell.execute_reply": "2020-12-31T02:42:22.440733Z"
    },
    "papermill": {
     "duration": 0.419425,
     "end_time": "2020-12-31T02:42:22.441503",
     "exception": false,
     "start_time": "2020-12-31T02:42:22.022078",
     "status": "completed"
    },
    "tags": []
   },
   "outputs": [
    {
     "data": {
      "text/plain": [
       "RandomForestClassifier(n_jobs=-1)"
      ]
     },
     "execution_count": 16,
     "metadata": {},
     "output_type": "execute_result"
    }
   ],
   "source": [
    "rnf_classifier = RandomForestClassifier(n_estimators=100, n_jobs=-1)\n",
    "rnf_classifier.fit(X_train, y_train)"
   ]
  },
  {
   "cell_type": "code",
   "execution_count": 17,
   "metadata": {
    "execution": {
     "iopub.execute_input": "2020-12-31T02:42:22.495539Z",
     "iopub.status.busy": "2020-12-31T02:42:22.494841Z",
     "iopub.status.idle": "2020-12-31T02:42:22.607684Z",
     "shell.execute_reply": "2020-12-31T02:42:22.608271Z"
    },
    "papermill": {
     "duration": 0.141647,
     "end_time": "2020-12-31T02:42:22.608429",
     "exception": false,
     "start_time": "2020-12-31T02:42:22.466782",
     "status": "completed"
    },
    "tags": []
   },
   "outputs": [
    {
     "data": {
      "text/plain": [
       "0.8202247191011236"
      ]
     },
     "execution_count": 17,
     "metadata": {},
     "output_type": "execute_result"
    }
   ],
   "source": [
    "y_pred = rnf_classifier.predict(X_valid)\n",
    "\n",
    "from sklearn.metrics import accuracy_score\n",
    "\n",
    "accuracy_score(y_pred, y_valid)"
   ]
  },
  {
   "cell_type": "markdown",
   "metadata": {
    "papermill": {
     "duration": 0.025667,
     "end_time": "2020-12-31T02:42:22.660816",
     "exception": false,
     "start_time": "2020-12-31T02:42:22.635149",
     "status": "completed"
    },
    "tags": []
   },
   "source": [
    "### getting to test data"
   ]
  },
  {
   "cell_type": "code",
   "execution_count": 18,
   "metadata": {
    "execution": {
     "iopub.execute_input": "2020-12-31T02:42:22.731071Z",
     "iopub.status.busy": "2020-12-31T02:42:22.723993Z",
     "iopub.status.idle": "2020-12-31T02:42:22.736460Z",
     "shell.execute_reply": "2020-12-31T02:42:22.735863Z"
    },
    "papermill": {
     "duration": 0.049078,
     "end_time": "2020-12-31T02:42:22.736595",
     "exception": false,
     "start_time": "2020-12-31T02:42:22.687517",
     "status": "completed"
    },
    "tags": []
   },
   "outputs": [
    {
     "data": {
      "text/html": [
       "<div>\n",
       "<style scoped>\n",
       "    .dataframe tbody tr th:only-of-type {\n",
       "        vertical-align: middle;\n",
       "    }\n",
       "\n",
       "    .dataframe tbody tr th {\n",
       "        vertical-align: top;\n",
       "    }\n",
       "\n",
       "    .dataframe thead th {\n",
       "        text-align: right;\n",
       "    }\n",
       "</style>\n",
       "<table border=\"1\" class=\"dataframe\">\n",
       "  <thead>\n",
       "    <tr style=\"text-align: right;\">\n",
       "      <th></th>\n",
       "      <th>PassengerId</th>\n",
       "      <th>Pclass</th>\n",
       "      <th>Name</th>\n",
       "      <th>Sex</th>\n",
       "      <th>Age</th>\n",
       "      <th>SibSp</th>\n",
       "      <th>Parch</th>\n",
       "      <th>Ticket</th>\n",
       "      <th>Fare</th>\n",
       "      <th>Cabin</th>\n",
       "      <th>Embarked</th>\n",
       "    </tr>\n",
       "  </thead>\n",
       "  <tbody>\n",
       "    <tr>\n",
       "      <th>0</th>\n",
       "      <td>892</td>\n",
       "      <td>3</td>\n",
       "      <td>Kelly, Mr. James</td>\n",
       "      <td>male</td>\n",
       "      <td>34.5</td>\n",
       "      <td>0</td>\n",
       "      <td>0</td>\n",
       "      <td>330911</td>\n",
       "      <td>7.8292</td>\n",
       "      <td>NaN</td>\n",
       "      <td>Q</td>\n",
       "    </tr>\n",
       "    <tr>\n",
       "      <th>1</th>\n",
       "      <td>893</td>\n",
       "      <td>3</td>\n",
       "      <td>Wilkes, Mrs. James (Ellen Needs)</td>\n",
       "      <td>female</td>\n",
       "      <td>47.0</td>\n",
       "      <td>1</td>\n",
       "      <td>0</td>\n",
       "      <td>363272</td>\n",
       "      <td>7.0000</td>\n",
       "      <td>NaN</td>\n",
       "      <td>S</td>\n",
       "    </tr>\n",
       "    <tr>\n",
       "      <th>2</th>\n",
       "      <td>894</td>\n",
       "      <td>2</td>\n",
       "      <td>Myles, Mr. Thomas Francis</td>\n",
       "      <td>male</td>\n",
       "      <td>62.0</td>\n",
       "      <td>0</td>\n",
       "      <td>0</td>\n",
       "      <td>240276</td>\n",
       "      <td>9.6875</td>\n",
       "      <td>NaN</td>\n",
       "      <td>Q</td>\n",
       "    </tr>\n",
       "    <tr>\n",
       "      <th>3</th>\n",
       "      <td>895</td>\n",
       "      <td>3</td>\n",
       "      <td>Wirz, Mr. Albert</td>\n",
       "      <td>male</td>\n",
       "      <td>27.0</td>\n",
       "      <td>0</td>\n",
       "      <td>0</td>\n",
       "      <td>315154</td>\n",
       "      <td>8.6625</td>\n",
       "      <td>NaN</td>\n",
       "      <td>S</td>\n",
       "    </tr>\n",
       "    <tr>\n",
       "      <th>4</th>\n",
       "      <td>896</td>\n",
       "      <td>3</td>\n",
       "      <td>Hirvonen, Mrs. Alexander (Helga E Lindqvist)</td>\n",
       "      <td>female</td>\n",
       "      <td>22.0</td>\n",
       "      <td>1</td>\n",
       "      <td>1</td>\n",
       "      <td>3101298</td>\n",
       "      <td>12.2875</td>\n",
       "      <td>NaN</td>\n",
       "      <td>S</td>\n",
       "    </tr>\n",
       "  </tbody>\n",
       "</table>\n",
       "</div>"
      ],
      "text/plain": [
       "   PassengerId  Pclass                                          Name     Sex  \\\n",
       "0          892       3                              Kelly, Mr. James    male   \n",
       "1          893       3              Wilkes, Mrs. James (Ellen Needs)  female   \n",
       "2          894       2                     Myles, Mr. Thomas Francis    male   \n",
       "3          895       3                              Wirz, Mr. Albert    male   \n",
       "4          896       3  Hirvonen, Mrs. Alexander (Helga E Lindqvist)  female   \n",
       "\n",
       "    Age  SibSp  Parch   Ticket     Fare Cabin Embarked  \n",
       "0  34.5      0      0   330911   7.8292   NaN        Q  \n",
       "1  47.0      1      0   363272   7.0000   NaN        S  \n",
       "2  62.0      0      0   240276   9.6875   NaN        Q  \n",
       "3  27.0      0      0   315154   8.6625   NaN        S  \n",
       "4  22.0      1      1  3101298  12.2875   NaN        S  "
      ]
     },
     "execution_count": 18,
     "metadata": {},
     "output_type": "execute_result"
    }
   ],
   "source": [
    "df_test.head()"
   ]
  },
  {
   "cell_type": "code",
   "execution_count": 19,
   "metadata": {
    "execution": {
     "iopub.execute_input": "2020-12-31T02:42:22.794973Z",
     "iopub.status.busy": "2020-12-31T02:42:22.793872Z",
     "iopub.status.idle": "2020-12-31T02:42:22.848777Z",
     "shell.execute_reply": "2020-12-31T02:42:22.848063Z"
    },
    "papermill": {
     "duration": 0.085726,
     "end_time": "2020-12-31T02:42:22.848921",
     "exception": false,
     "start_time": "2020-12-31T02:42:22.763195",
     "status": "completed"
    },
    "tags": []
   },
   "outputs": [],
   "source": [
    "test = TabularPandas(df_test, procs=[Categorify, FillMissing, Normalize],\n",
    "                     cat_names=cat_names,\n",
    "                     cont_names=cont_names)"
   ]
  },
  {
   "cell_type": "code",
   "execution_count": 20,
   "metadata": {
    "execution": {
     "iopub.execute_input": "2020-12-31T02:42:22.909443Z",
     "iopub.status.busy": "2020-12-31T02:42:22.908361Z",
     "iopub.status.idle": "2020-12-31T02:42:22.912586Z",
     "shell.execute_reply": "2020-12-31T02:42:22.913339Z"
    },
    "papermill": {
     "duration": 0.037954,
     "end_time": "2020-12-31T02:42:22.913495",
     "exception": false,
     "start_time": "2020-12-31T02:42:22.875541",
     "status": "completed"
    },
    "tags": []
   },
   "outputs": [],
   "source": [
    "X_test = test.train.xs"
   ]
  },
  {
   "cell_type": "code",
   "execution_count": 21,
   "metadata": {
    "execution": {
     "iopub.execute_input": "2020-12-31T02:42:22.971232Z",
     "iopub.status.busy": "2020-12-31T02:42:22.970180Z",
     "iopub.status.idle": "2020-12-31T02:42:22.988428Z",
     "shell.execute_reply": "2020-12-31T02:42:22.988955Z"
    },
    "papermill": {
     "duration": 0.04879,
     "end_time": "2020-12-31T02:42:22.989141",
     "exception": false,
     "start_time": "2020-12-31T02:42:22.940351",
     "status": "completed"
    },
    "tags": []
   },
   "outputs": [
    {
     "data": {
      "text/html": [
       "<div>\n",
       "<style scoped>\n",
       "    .dataframe tbody tr th:only-of-type {\n",
       "        vertical-align: middle;\n",
       "    }\n",
       "\n",
       "    .dataframe tbody tr th {\n",
       "        vertical-align: top;\n",
       "    }\n",
       "\n",
       "    .dataframe thead th {\n",
       "        text-align: right;\n",
       "    }\n",
       "</style>\n",
       "<table border=\"1\" class=\"dataframe\">\n",
       "  <thead>\n",
       "    <tr style=\"text-align: right;\">\n",
       "      <th></th>\n",
       "      <th>Name</th>\n",
       "      <th>Sex</th>\n",
       "      <th>Ticket</th>\n",
       "      <th>Cabin</th>\n",
       "      <th>Embarked</th>\n",
       "      <th>Age_na</th>\n",
       "      <th>Fare_na</th>\n",
       "      <th>PassengerId</th>\n",
       "      <th>Pclass</th>\n",
       "      <th>SibSp</th>\n",
       "      <th>Parch</th>\n",
       "      <th>Age</th>\n",
       "      <th>Fare</th>\n",
       "    </tr>\n",
       "  </thead>\n",
       "  <tbody>\n",
       "    <tr>\n",
       "      <th>0</th>\n",
       "      <td>207</td>\n",
       "      <td>2</td>\n",
       "      <td>153</td>\n",
       "      <td>0</td>\n",
       "      <td>2</td>\n",
       "      <td>1</td>\n",
       "      <td>1</td>\n",
       "      <td>-1.727912</td>\n",
       "      <td>0.873482</td>\n",
       "      <td>-0.499470</td>\n",
       "      <td>-0.400248</td>\n",
       "      <td>0.386231</td>\n",
       "      <td>-0.497413</td>\n",
       "    </tr>\n",
       "    <tr>\n",
       "      <th>1</th>\n",
       "      <td>404</td>\n",
       "      <td>1</td>\n",
       "      <td>222</td>\n",
       "      <td>0</td>\n",
       "      <td>3</td>\n",
       "      <td>1</td>\n",
       "      <td>1</td>\n",
       "      <td>-1.719625</td>\n",
       "      <td>0.873482</td>\n",
       "      <td>0.616992</td>\n",
       "      <td>-0.400248</td>\n",
       "      <td>1.371369</td>\n",
       "      <td>-0.512278</td>\n",
       "    </tr>\n",
       "    <tr>\n",
       "      <th>2</th>\n",
       "      <td>270</td>\n",
       "      <td>2</td>\n",
       "      <td>74</td>\n",
       "      <td>0</td>\n",
       "      <td>2</td>\n",
       "      <td>1</td>\n",
       "      <td>1</td>\n",
       "      <td>-1.711337</td>\n",
       "      <td>-0.315819</td>\n",
       "      <td>-0.499470</td>\n",
       "      <td>-0.400248</td>\n",
       "      <td>2.553536</td>\n",
       "      <td>-0.464100</td>\n",
       "    </tr>\n",
       "    <tr>\n",
       "      <th>3</th>\n",
       "      <td>409</td>\n",
       "      <td>2</td>\n",
       "      <td>148</td>\n",
       "      <td>0</td>\n",
       "      <td>3</td>\n",
       "      <td>1</td>\n",
       "      <td>1</td>\n",
       "      <td>-1.703050</td>\n",
       "      <td>0.873482</td>\n",
       "      <td>-0.499470</td>\n",
       "      <td>-0.400248</td>\n",
       "      <td>-0.204852</td>\n",
       "      <td>-0.482475</td>\n",
       "    </tr>\n",
       "    <tr>\n",
       "      <th>4</th>\n",
       "      <td>179</td>\n",
       "      <td>1</td>\n",
       "      <td>139</td>\n",
       "      <td>0</td>\n",
       "      <td>3</td>\n",
       "      <td>1</td>\n",
       "      <td>1</td>\n",
       "      <td>-1.694763</td>\n",
       "      <td>0.873482</td>\n",
       "      <td>0.616992</td>\n",
       "      <td>0.619896</td>\n",
       "      <td>-0.598908</td>\n",
       "      <td>-0.417491</td>\n",
       "    </tr>\n",
       "  </tbody>\n",
       "</table>\n",
       "</div>"
      ],
      "text/plain": [
       "   Name  Sex  Ticket  Cabin  Embarked  Age_na  Fare_na  PassengerId    Pclass  \\\n",
       "0   207    2     153      0         2       1        1    -1.727912  0.873482   \n",
       "1   404    1     222      0         3       1        1    -1.719625  0.873482   \n",
       "2   270    2      74      0         2       1        1    -1.711337 -0.315819   \n",
       "3   409    2     148      0         3       1        1    -1.703050  0.873482   \n",
       "4   179    1     139      0         3       1        1    -1.694763  0.873482   \n",
       "\n",
       "      SibSp     Parch       Age      Fare  \n",
       "0 -0.499470 -0.400248  0.386231 -0.497413  \n",
       "1  0.616992 -0.400248  1.371369 -0.512278  \n",
       "2 -0.499470 -0.400248  2.553536 -0.464100  \n",
       "3 -0.499470 -0.400248 -0.204852 -0.482475  \n",
       "4  0.616992  0.619896 -0.598908 -0.417491  "
      ]
     },
     "execution_count": 21,
     "metadata": {},
     "output_type": "execute_result"
    }
   ],
   "source": [
    "X_test.head()"
   ]
  },
  {
   "cell_type": "code",
   "execution_count": 22,
   "metadata": {
    "execution": {
     "iopub.execute_input": "2020-12-31T02:42:23.052930Z",
     "iopub.status.busy": "2020-12-31T02:42:23.051823Z",
     "iopub.status.idle": "2020-12-31T02:42:23.059866Z",
     "shell.execute_reply": "2020-12-31T02:42:23.060365Z"
    },
    "papermill": {
     "duration": 0.040627,
     "end_time": "2020-12-31T02:42:23.060522",
     "exception": false,
     "start_time": "2020-12-31T02:42:23.019895",
     "status": "completed"
    },
    "tags": []
   },
   "outputs": [
    {
     "data": {
      "text/plain": [
       "(Name             int16\n",
       " Sex               int8\n",
       " Ticket           int16\n",
       " Cabin             int8\n",
       " Embarked          int8\n",
       " Age_na            int8\n",
       " Fare_na           int8\n",
       " PassengerId    float64\n",
       " Pclass         float64\n",
       " SibSp          float64\n",
       " Parch          float64\n",
       " Age            float64\n",
       " Fare           float64\n",
       " dtype: object,\n",
       " 13)"
      ]
     },
     "execution_count": 22,
     "metadata": {},
     "output_type": "execute_result"
    }
   ],
   "source": [
    "X_test.dtypes, len(X_test.dtypes)"
   ]
  },
  {
   "cell_type": "markdown",
   "metadata": {
    "papermill": {
     "duration": 0.027381,
     "end_time": "2020-12-31T02:42:23.115629",
     "exception": false,
     "start_time": "2020-12-31T02:42:23.088248",
     "status": "completed"
    },
    "tags": []
   },
   "source": [
    "we drop Fare_na , because then our model will match with original 12 features in dataset"
   ]
  },
  {
   "cell_type": "code",
   "execution_count": 23,
   "metadata": {
    "execution": {
     "iopub.execute_input": "2020-12-31T02:42:23.177344Z",
     "iopub.status.busy": "2020-12-31T02:42:23.176269Z",
     "iopub.status.idle": "2020-12-31T02:42:23.182577Z",
     "shell.execute_reply": "2020-12-31T02:42:23.183130Z"
    },
    "papermill": {
     "duration": 0.038335,
     "end_time": "2020-12-31T02:42:23.183291",
     "exception": false,
     "start_time": "2020-12-31T02:42:23.144956",
     "status": "completed"
    },
    "tags": []
   },
   "outputs": [],
   "source": [
    "X_test = X_test.drop('Fare_na', axis=1)"
   ]
  },
  {
   "cell_type": "code",
   "execution_count": 24,
   "metadata": {
    "execution": {
     "iopub.execute_input": "2020-12-31T02:42:23.247464Z",
     "iopub.status.busy": "2020-12-31T02:42:23.246753Z",
     "iopub.status.idle": "2020-12-31T02:42:23.354407Z",
     "shell.execute_reply": "2020-12-31T02:42:23.353674Z"
    },
    "papermill": {
     "duration": 0.142936,
     "end_time": "2020-12-31T02:42:23.354547",
     "exception": false,
     "start_time": "2020-12-31T02:42:23.211611",
     "status": "completed"
    },
    "tags": []
   },
   "outputs": [],
   "source": [
    "y_pred = rnf_classifier.predict(X_test)"
   ]
  },
  {
   "cell_type": "code",
   "execution_count": 25,
   "metadata": {
    "execution": {
     "iopub.execute_input": "2020-12-31T02:42:23.418814Z",
     "iopub.status.busy": "2020-12-31T02:42:23.418044Z",
     "iopub.status.idle": "2020-12-31T02:42:23.421252Z",
     "shell.execute_reply": "2020-12-31T02:42:23.420621Z"
    },
    "papermill": {
     "duration": 0.037344,
     "end_time": "2020-12-31T02:42:23.421374",
     "exception": false,
     "start_time": "2020-12-31T02:42:23.384030",
     "status": "completed"
    },
    "tags": []
   },
   "outputs": [],
   "source": [
    "y_pred = y_pred.astype(int)"
   ]
  },
  {
   "cell_type": "code",
   "execution_count": 26,
   "metadata": {
    "execution": {
     "iopub.execute_input": "2020-12-31T02:42:23.486244Z",
     "iopub.status.busy": "2020-12-31T02:42:23.485165Z",
     "iopub.status.idle": "2020-12-31T02:42:23.805580Z",
     "shell.execute_reply": "2020-12-31T02:42:23.806302Z"
    },
    "papermill": {
     "duration": 0.35648,
     "end_time": "2020-12-31T02:42:23.806534",
     "exception": false,
     "start_time": "2020-12-31T02:42:23.450054",
     "status": "completed"
    },
    "tags": []
   },
   "outputs": [
    {
     "data": {
      "text/html": [
       "<div>\n",
       "<style scoped>\n",
       "    .dataframe tbody tr th:only-of-type {\n",
       "        vertical-align: middle;\n",
       "    }\n",
       "\n",
       "    .dataframe tbody tr th {\n",
       "        vertical-align: top;\n",
       "    }\n",
       "\n",
       "    .dataframe thead th {\n",
       "        text-align: right;\n",
       "    }\n",
       "</style>\n",
       "<table border=\"1\" class=\"dataframe\">\n",
       "  <thead>\n",
       "    <tr style=\"text-align: right;\">\n",
       "      <th></th>\n",
       "      <th>PassengerId</th>\n",
       "      <th>Survived</th>\n",
       "    </tr>\n",
       "  </thead>\n",
       "  <tbody>\n",
       "    <tr>\n",
       "      <th>0</th>\n",
       "      <td>892</td>\n",
       "      <td>0</td>\n",
       "    </tr>\n",
       "    <tr>\n",
       "      <th>1</th>\n",
       "      <td>893</td>\n",
       "      <td>0</td>\n",
       "    </tr>\n",
       "    <tr>\n",
       "      <th>2</th>\n",
       "      <td>894</td>\n",
       "      <td>0</td>\n",
       "    </tr>\n",
       "    <tr>\n",
       "      <th>3</th>\n",
       "      <td>895</td>\n",
       "      <td>0</td>\n",
       "    </tr>\n",
       "    <tr>\n",
       "      <th>4</th>\n",
       "      <td>896</td>\n",
       "      <td>1</td>\n",
       "    </tr>\n",
       "  </tbody>\n",
       "</table>\n",
       "</div>"
      ],
      "text/plain": [
       "   PassengerId  Survived\n",
       "0          892         0\n",
       "1          893         0\n",
       "2          894         0\n",
       "3          895         0\n",
       "4          896         1"
      ]
     },
     "execution_count": 26,
     "metadata": {},
     "output_type": "execute_result"
    }
   ],
   "source": [
    "output = pd.DataFrame({'PassengerId': df_test.PassengerId, 'Survived': y_pred})\n",
    "output.to_csv('my_submission_titanic.csv', index=False)\n",
    "output.head()"
   ]
  }
 ],
 "metadata": {
  "kernelspec": {
   "display_name": "Python 3",
   "language": "python",
   "name": "python3"
  },
  "language_info": {
   "codemirror_mode": {
    "name": "ipython",
    "version": 3
   },
   "file_extension": ".py",
   "mimetype": "text/x-python",
   "name": "python",
   "nbconvert_exporter": "python",
   "pygments_lexer": "ipython3",
   "version": "3.7.6"
  },
  "papermill": {
   "duration": 11.801522,
   "end_time": "2020-12-31T02:42:23.946766",
   "environment_variables": {},
   "exception": null,
   "input_path": "__notebook__.ipynb",
   "output_path": "__notebook__.ipynb",
   "parameters": {},
   "start_time": "2020-12-31T02:42:12.145244",
   "version": "2.1.0"
  }
 },
 "nbformat": 4,
 "nbformat_minor": 4
}
