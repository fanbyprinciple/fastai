{
 "cells": [
  {
   "cell_type": "markdown",
   "metadata": {
    "papermill": {
     "duration": 0.011047,
     "end_time": "2020-12-02T11:10:12.832812",
     "exception": false,
     "start_time": "2020-12-02T11:10:12.821765",
     "status": "completed"
    },
    "tags": []
   },
   "source": [
    "adaptation from https://www.kaggle.com/raghuramr/mnist-by-beginner-with-fastai-resnet34\n",
    "\n",
    "this notebook shows how we can adapt dataframe to images so that it can used as vision dataset"
   ]
  },
  {
   "cell_type": "code",
   "execution_count": 1,
   "metadata": {
    "_cell_guid": "b1076dfc-b9ad-4769-8c92-a6c4dae69d19",
    "_uuid": "8f2839f25d086af736a60e9eeb907d3b93b6e0e5",
    "execution": {
     "iopub.execute_input": "2020-12-02T11:10:12.857615Z",
     "iopub.status.busy": "2020-12-02T11:10:12.856849Z",
     "iopub.status.idle": "2020-12-02T11:10:15.802630Z",
     "shell.execute_reply": "2020-12-02T11:10:15.801202Z"
    },
    "papermill": {
     "duration": 2.959857,
     "end_time": "2020-12-02T11:10:15.802757",
     "exception": false,
     "start_time": "2020-12-02T11:10:12.842900",
     "status": "completed"
    },
    "tags": []
   },
   "outputs": [],
   "source": [
    "from fastai.vision.all import *"
   ]
  },
  {
   "cell_type": "markdown",
   "metadata": {
    "papermill": {
     "duration": 0.009629,
     "end_time": "2020-12-02T11:10:15.823603",
     "exception": false,
     "start_time": "2020-12-02T11:10:15.813974",
     "status": "completed"
    },
    "tags": []
   },
   "source": [
    "### loading csv and converting it into img\n",
    "https://www.kaggle.com/raghuramr/mnist-by-beginner-with-fastai-resnet34"
   ]
  },
  {
   "cell_type": "code",
   "execution_count": 2,
   "metadata": {
    "_cell_guid": "79c7e3d0-c299-4dcb-8224-4455121ee9b0",
    "_uuid": "d629ff2d2480ee46fbb7e2d37f6b5fab8052498a",
    "execution": {
     "iopub.execute_input": "2020-12-02T11:10:15.852026Z",
     "iopub.status.busy": "2020-12-02T11:10:15.850162Z",
     "iopub.status.idle": "2020-12-02T11:10:15.852744Z",
     "shell.execute_reply": "2020-12-02T11:10:15.853230Z"
    },
    "papermill": {
     "duration": 0.019941,
     "end_time": "2020-12-02T11:10:15.853359",
     "exception": false,
     "start_time": "2020-12-02T11:10:15.833418",
     "status": "completed"
    },
    "tags": []
   },
   "outputs": [],
   "source": [
    "def get_images(df):\n",
    "    IMG_WIDTH =28\n",
    "    IMG_HEIGHT=28\n",
    "    \n",
    "    df['img'] = df[df.columns[df.columns.str.startswith('pixel')]].apply(\n",
    "        lambda x: PILImage(Image.fromarray(np.array(x.values).reshape((IMG_WIDTH,IMG_HEIGHT)).astype(np.uint8))),\n",
    "        axis=1\n",
    "    )\n",
    "    \n",
    "    return df[df.columns[[not x for x in df.columns.str.startswith('pixel')]]]"
   ]
  },
  {
   "cell_type": "code",
   "execution_count": 3,
   "metadata": {
    "execution": {
     "iopub.execute_input": "2020-12-02T11:10:15.877829Z",
     "iopub.status.busy": "2020-12-02T11:10:15.876423Z",
     "iopub.status.idle": "2020-12-02T11:10:15.878950Z",
     "shell.execute_reply": "2020-12-02T11:10:15.879409Z"
    },
    "papermill": {
     "duration": 0.016566,
     "end_time": "2020-12-02T11:10:15.879523",
     "exception": false,
     "start_time": "2020-12-02T11:10:15.862957",
     "status": "completed"
    },
    "tags": []
   },
   "outputs": [],
   "source": [
    "path = Path(\"../input/sign-language-mnist\")"
   ]
  },
  {
   "cell_type": "code",
   "execution_count": 4,
   "metadata": {
    "execution": {
     "iopub.execute_input": "2020-12-02T11:10:15.907700Z",
     "iopub.status.busy": "2020-12-02T11:10:15.906650Z",
     "iopub.status.idle": "2020-12-02T11:10:19.314224Z",
     "shell.execute_reply": "2020-12-02T11:10:19.313579Z"
    },
    "papermill": {
     "duration": 3.425121,
     "end_time": "2020-12-02T11:10:19.314335",
     "exception": false,
     "start_time": "2020-12-02T11:10:15.889214",
     "status": "completed"
    },
    "tags": []
   },
   "outputs": [],
   "source": [
    "train_df = pd.read_csv(path/\"sign_mnist_train\"/\"sign_mnist_train.csv\")"
   ]
  },
  {
   "cell_type": "code",
   "execution_count": 5,
   "metadata": {
    "execution": {
     "iopub.execute_input": "2020-12-02T11:10:19.344739Z",
     "iopub.status.busy": "2020-12-02T11:10:19.344098Z",
     "iopub.status.idle": "2020-12-02T11:10:20.473383Z",
     "shell.execute_reply": "2020-12-02T11:10:20.473929Z"
    },
    "papermill": {
     "duration": 1.149244,
     "end_time": "2020-12-02T11:10:20.474093",
     "exception": false,
     "start_time": "2020-12-02T11:10:19.324849",
     "status": "completed"
    },
    "tags": []
   },
   "outputs": [],
   "source": [
    "train_df = get_images(train_df)"
   ]
  },
  {
   "cell_type": "code",
   "execution_count": 6,
   "metadata": {
    "execution": {
     "iopub.execute_input": "2020-12-02T11:10:20.503298Z",
     "iopub.status.busy": "2020-12-02T11:10:20.502464Z",
     "iopub.status.idle": "2020-12-02T11:10:20.510726Z",
     "shell.execute_reply": "2020-12-02T11:10:20.511196Z"
    },
    "papermill": {
     "duration": 0.026611,
     "end_time": "2020-12-02T11:10:20.511312",
     "exception": false,
     "start_time": "2020-12-02T11:10:20.484701",
     "status": "completed"
    },
    "tags": []
   },
   "outputs": [
    {
     "data": {
      "text/html": [
       "<div>\n",
       "<style scoped>\n",
       "    .dataframe tbody tr th:only-of-type {\n",
       "        vertical-align: middle;\n",
       "    }\n",
       "\n",
       "    .dataframe tbody tr th {\n",
       "        vertical-align: top;\n",
       "    }\n",
       "\n",
       "    .dataframe thead th {\n",
       "        text-align: right;\n",
       "    }\n",
       "</style>\n",
       "<table border=\"1\" class=\"dataframe\">\n",
       "  <thead>\n",
       "    <tr style=\"text-align: right;\">\n",
       "      <th></th>\n",
       "      <th>label</th>\n",
       "      <th>img</th>\n",
       "    </tr>\n",
       "  </thead>\n",
       "  <tbody>\n",
       "    <tr>\n",
       "      <th>0</th>\n",
       "      <td>3</td>\n",
       "      <td>PILImage mode=L size=28x28</td>\n",
       "    </tr>\n",
       "    <tr>\n",
       "      <th>1</th>\n",
       "      <td>6</td>\n",
       "      <td>PILImage mode=L size=28x28</td>\n",
       "    </tr>\n",
       "    <tr>\n",
       "      <th>2</th>\n",
       "      <td>2</td>\n",
       "      <td>PILImage mode=L size=28x28</td>\n",
       "    </tr>\n",
       "    <tr>\n",
       "      <th>3</th>\n",
       "      <td>2</td>\n",
       "      <td>PILImage mode=L size=28x28</td>\n",
       "    </tr>\n",
       "    <tr>\n",
       "      <th>4</th>\n",
       "      <td>13</td>\n",
       "      <td>PILImage mode=L size=28x28</td>\n",
       "    </tr>\n",
       "  </tbody>\n",
       "</table>\n",
       "</div>"
      ],
      "text/plain": [
       "   label                         img\n",
       "0      3  PILImage mode=L size=28x28\n",
       "1      6  PILImage mode=L size=28x28\n",
       "2      2  PILImage mode=L size=28x28\n",
       "3      2  PILImage mode=L size=28x28\n",
       "4     13  PILImage mode=L size=28x28"
      ]
     },
     "execution_count": 6,
     "metadata": {},
     "output_type": "execute_result"
    }
   ],
   "source": [
    "train_df.head()"
   ]
  },
  {
   "cell_type": "markdown",
   "metadata": {
    "papermill": {
     "duration": 0.010551,
     "end_time": "2020-12-02T11:10:20.533263",
     "exception": false,
     "start_time": "2020-12-02T11:10:20.522712",
     "status": "completed"
    },
    "tags": []
   },
   "source": [
    "the datablock"
   ]
  },
  {
   "cell_type": "code",
   "execution_count": 7,
   "metadata": {
    "execution": {
     "iopub.execute_input": "2020-12-02T11:10:20.566034Z",
     "iopub.status.busy": "2020-12-02T11:10:20.565422Z",
     "iopub.status.idle": "2020-12-02T11:10:30.889227Z",
     "shell.execute_reply": "2020-12-02T11:10:30.888549Z"
    },
    "papermill": {
     "duration": 10.345293,
     "end_time": "2020-12-02T11:10:30.889369",
     "exception": false,
     "start_time": "2020-12-02T11:10:20.544076",
     "status": "completed"
    },
    "tags": []
   },
   "outputs": [],
   "source": [
    "def get_x(r): return r['img']\n",
    "def get_y(r): return r['label']\n",
    "dblock = DataBlock(blocks=(ImageBlock, CategoryBlock), get_x = get_x, get_y=get_y)\n",
    "dls = dblock.dataloaders(train_df)"
   ]
  },
  {
   "cell_type": "code",
   "execution_count": 8,
   "metadata": {
    "execution": {
     "iopub.execute_input": "2020-12-02T11:10:30.917329Z",
     "iopub.status.busy": "2020-12-02T11:10:30.916742Z",
     "iopub.status.idle": "2020-12-02T11:25:44.159314Z",
     "shell.execute_reply": "2020-12-02T11:25:44.158805Z"
    },
    "papermill": {
     "duration": 913.258539,
     "end_time": "2020-12-02T11:25:44.159421",
     "exception": false,
     "start_time": "2020-12-02T11:10:30.900882",
     "status": "completed"
    },
    "tags": []
   },
   "outputs": [
    {
     "name": "stderr",
     "output_type": "stream",
     "text": [
      "Downloading: \"https://download.pytorch.org/models/resnet34-333f7ec4.pth\" to /root/.cache/torch/hub/checkpoints/resnet34-333f7ec4.pth\n"
     ]
    },
    {
     "data": {
      "application/vnd.jupyter.widget-view+json": {
       "model_id": "ed4b33a8c8664deaafd2754d70b4f7c2",
       "version_major": 2,
       "version_minor": 0
      },
      "text/plain": [
       "HBox(children=(FloatProgress(value=0.0, max=87306240.0), HTML(value='')))"
      ]
     },
     "metadata": {},
     "output_type": "display_data"
    },
    {
     "name": "stdout",
     "output_type": "stream",
     "text": [
      "\n"
     ]
    },
    {
     "data": {
      "text/html": [
       "<table border=\"1\" class=\"dataframe\">\n",
       "  <thead>\n",
       "    <tr style=\"text-align: left;\">\n",
       "      <th>epoch</th>\n",
       "      <th>train_loss</th>\n",
       "      <th>valid_loss</th>\n",
       "      <th>error_rate</th>\n",
       "      <th>time</th>\n",
       "    </tr>\n",
       "  </thead>\n",
       "  <tbody>\n",
       "    <tr>\n",
       "      <td>0</td>\n",
       "      <td>1.318907</td>\n",
       "      <td>0.597981</td>\n",
       "      <td>0.177745</td>\n",
       "      <td>00:38</td>\n",
       "    </tr>\n",
       "  </tbody>\n",
       "</table>"
      ],
      "text/plain": [
       "<IPython.core.display.HTML object>"
      ]
     },
     "metadata": {},
     "output_type": "display_data"
    },
    {
     "data": {
      "text/html": [
       "<table border=\"1\" class=\"dataframe\">\n",
       "  <thead>\n",
       "    <tr style=\"text-align: left;\">\n",
       "      <th>epoch</th>\n",
       "      <th>train_loss</th>\n",
       "      <th>valid_loss</th>\n",
       "      <th>error_rate</th>\n",
       "      <th>time</th>\n",
       "    </tr>\n",
       "  </thead>\n",
       "  <tbody>\n",
       "    <tr>\n",
       "      <td>0</td>\n",
       "      <td>0.270260</td>\n",
       "      <td>0.072130</td>\n",
       "      <td>0.017301</td>\n",
       "      <td>00:42</td>\n",
       "    </tr>\n",
       "    <tr>\n",
       "      <td>1</td>\n",
       "      <td>0.065743</td>\n",
       "      <td>0.009739</td>\n",
       "      <td>0.001639</td>\n",
       "      <td>00:43</td>\n",
       "    </tr>\n",
       "    <tr>\n",
       "      <td>2</td>\n",
       "      <td>0.045328</td>\n",
       "      <td>0.009960</td>\n",
       "      <td>0.003096</td>\n",
       "      <td>00:43</td>\n",
       "    </tr>\n",
       "    <tr>\n",
       "      <td>3</td>\n",
       "      <td>0.034280</td>\n",
       "      <td>0.013231</td>\n",
       "      <td>0.003096</td>\n",
       "      <td>00:44</td>\n",
       "    </tr>\n",
       "    <tr>\n",
       "      <td>4</td>\n",
       "      <td>0.034213</td>\n",
       "      <td>0.002255</td>\n",
       "      <td>0.000911</td>\n",
       "      <td>00:44</td>\n",
       "    </tr>\n",
       "    <tr>\n",
       "      <td>5</td>\n",
       "      <td>0.033113</td>\n",
       "      <td>0.007597</td>\n",
       "      <td>0.002003</td>\n",
       "      <td>00:44</td>\n",
       "    </tr>\n",
       "    <tr>\n",
       "      <td>6</td>\n",
       "      <td>0.025078</td>\n",
       "      <td>0.001404</td>\n",
       "      <td>0.000364</td>\n",
       "      <td>00:43</td>\n",
       "    </tr>\n",
       "    <tr>\n",
       "      <td>7</td>\n",
       "      <td>0.015515</td>\n",
       "      <td>0.019457</td>\n",
       "      <td>0.006192</td>\n",
       "      <td>00:45</td>\n",
       "    </tr>\n",
       "    <tr>\n",
       "      <td>8</td>\n",
       "      <td>0.011969</td>\n",
       "      <td>0.001623</td>\n",
       "      <td>0.000911</td>\n",
       "      <td>00:44</td>\n",
       "    </tr>\n",
       "    <tr>\n",
       "      <td>9</td>\n",
       "      <td>0.012710</td>\n",
       "      <td>0.000479</td>\n",
       "      <td>0.000000</td>\n",
       "      <td>00:44</td>\n",
       "    </tr>\n",
       "    <tr>\n",
       "      <td>10</td>\n",
       "      <td>0.005676</td>\n",
       "      <td>0.000134</td>\n",
       "      <td>0.000000</td>\n",
       "      <td>00:42</td>\n",
       "    </tr>\n",
       "    <tr>\n",
       "      <td>11</td>\n",
       "      <td>0.004517</td>\n",
       "      <td>0.000196</td>\n",
       "      <td>0.000182</td>\n",
       "      <td>00:43</td>\n",
       "    </tr>\n",
       "    <tr>\n",
       "      <td>12</td>\n",
       "      <td>0.002422</td>\n",
       "      <td>0.000016</td>\n",
       "      <td>0.000000</td>\n",
       "      <td>00:43</td>\n",
       "    </tr>\n",
       "    <tr>\n",
       "      <td>13</td>\n",
       "      <td>0.002141</td>\n",
       "      <td>0.000177</td>\n",
       "      <td>0.000182</td>\n",
       "      <td>00:42</td>\n",
       "    </tr>\n",
       "    <tr>\n",
       "      <td>14</td>\n",
       "      <td>0.002758</td>\n",
       "      <td>0.000001</td>\n",
       "      <td>0.000000</td>\n",
       "      <td>00:43</td>\n",
       "    </tr>\n",
       "    <tr>\n",
       "      <td>15</td>\n",
       "      <td>0.000084</td>\n",
       "      <td>0.000000</td>\n",
       "      <td>0.000000</td>\n",
       "      <td>00:43</td>\n",
       "    </tr>\n",
       "    <tr>\n",
       "      <td>16</td>\n",
       "      <td>0.000263</td>\n",
       "      <td>0.000000</td>\n",
       "      <td>0.000000</td>\n",
       "      <td>00:43</td>\n",
       "    </tr>\n",
       "    <tr>\n",
       "      <td>17</td>\n",
       "      <td>0.000332</td>\n",
       "      <td>0.000000</td>\n",
       "      <td>0.000000</td>\n",
       "      <td>00:42</td>\n",
       "    </tr>\n",
       "    <tr>\n",
       "      <td>18</td>\n",
       "      <td>0.000199</td>\n",
       "      <td>0.000000</td>\n",
       "      <td>0.000000</td>\n",
       "      <td>00:43</td>\n",
       "    </tr>\n",
       "    <tr>\n",
       "      <td>19</td>\n",
       "      <td>0.000038</td>\n",
       "      <td>0.000000</td>\n",
       "      <td>0.000000</td>\n",
       "      <td>00:44</td>\n",
       "    </tr>\n",
       "  </tbody>\n",
       "</table>"
      ],
      "text/plain": [
       "<IPython.core.display.HTML object>"
      ]
     },
     "metadata": {},
     "output_type": "display_data"
    }
   ],
   "source": [
    "learn = cnn_learner(dls, resnet34, metrics=error_rate).to_fp16()\n",
    "learn.fine_tune(20)"
   ]
  },
  {
   "cell_type": "markdown",
   "metadata": {
    "papermill": {
     "duration": 0.013426,
     "end_time": "2020-12-02T11:25:44.186701",
     "exception": false,
     "start_time": "2020-12-02T11:25:44.173275",
     "status": "completed"
    },
    "tags": []
   },
   "source": [
    "inference"
   ]
  },
  {
   "cell_type": "code",
   "execution_count": 9,
   "metadata": {
    "execution": {
     "iopub.execute_input": "2020-12-02T11:25:44.221894Z",
     "iopub.status.busy": "2020-12-02T11:25:44.220977Z",
     "iopub.status.idle": "2020-12-02T11:25:45.415087Z",
     "shell.execute_reply": "2020-12-02T11:25:45.415545Z"
    },
    "papermill": {
     "duration": 1.215576,
     "end_time": "2020-12-02T11:25:45.415715",
     "exception": false,
     "start_time": "2020-12-02T11:25:44.200139",
     "status": "completed"
    },
    "tags": []
   },
   "outputs": [
    {
     "data": {
      "text/html": [
       "<div>\n",
       "<style scoped>\n",
       "    .dataframe tbody tr th:only-of-type {\n",
       "        vertical-align: middle;\n",
       "    }\n",
       "\n",
       "    .dataframe tbody tr th {\n",
       "        vertical-align: top;\n",
       "    }\n",
       "\n",
       "    .dataframe thead th {\n",
       "        text-align: right;\n",
       "    }\n",
       "</style>\n",
       "<table border=\"1\" class=\"dataframe\">\n",
       "  <thead>\n",
       "    <tr style=\"text-align: right;\">\n",
       "      <th></th>\n",
       "      <th>label</th>\n",
       "      <th>ImageId</th>\n",
       "      <th>img</th>\n",
       "    </tr>\n",
       "  </thead>\n",
       "  <tbody>\n",
       "    <tr>\n",
       "      <th>0</th>\n",
       "      <td>6</td>\n",
       "      <td>1</td>\n",
       "      <td>PILImage mode=L size=28x28</td>\n",
       "    </tr>\n",
       "    <tr>\n",
       "      <th>1</th>\n",
       "      <td>5</td>\n",
       "      <td>2</td>\n",
       "      <td>PILImage mode=L size=28x28</td>\n",
       "    </tr>\n",
       "    <tr>\n",
       "      <th>2</th>\n",
       "      <td>10</td>\n",
       "      <td>3</td>\n",
       "      <td>PILImage mode=L size=28x28</td>\n",
       "    </tr>\n",
       "    <tr>\n",
       "      <th>3</th>\n",
       "      <td>0</td>\n",
       "      <td>4</td>\n",
       "      <td>PILImage mode=L size=28x28</td>\n",
       "    </tr>\n",
       "    <tr>\n",
       "      <th>4</th>\n",
       "      <td>3</td>\n",
       "      <td>5</td>\n",
       "      <td>PILImage mode=L size=28x28</td>\n",
       "    </tr>\n",
       "  </tbody>\n",
       "</table>\n",
       "</div>"
      ],
      "text/plain": [
       "   label  ImageId                         img\n",
       "0      6        1  PILImage mode=L size=28x28\n",
       "1      5        2  PILImage mode=L size=28x28\n",
       "2     10        3  PILImage mode=L size=28x28\n",
       "3      0        4  PILImage mode=L size=28x28\n",
       "4      3        5  PILImage mode=L size=28x28"
      ]
     },
     "execution_count": 9,
     "metadata": {},
     "output_type": "execute_result"
    }
   ],
   "source": [
    "test_df = pd.read_csv(\"../input/sign-language-mnist/sign_mnist_test.csv\")\n",
    "test_df['ImageId'] = test_df.index + 1\n",
    "test_df = get_images(test_df)\n",
    "test_df.head()"
   ]
  },
  {
   "cell_type": "code",
   "execution_count": 10,
   "metadata": {
    "execution": {
     "iopub.execute_input": "2020-12-02T11:25:45.461426Z",
     "iopub.status.busy": "2020-12-02T11:25:45.460527Z",
     "iopub.status.idle": "2020-12-02T11:25:48.064120Z",
     "shell.execute_reply": "2020-12-02T11:25:48.064610Z"
    },
    "papermill": {
     "duration": 2.634099,
     "end_time": "2020-12-02T11:25:48.064764",
     "exception": false,
     "start_time": "2020-12-02T11:25:45.430665",
     "status": "completed"
    },
    "tags": []
   },
   "outputs": [
    {
     "data": {
      "text/html": [],
      "text/plain": [
       "<IPython.core.display.HTML object>"
      ]
     },
     "metadata": {},
     "output_type": "display_data"
    }
   ],
   "source": [
    "dl = learn.dls.test_dl(list(test_df['img']))\n",
    "inp, preds, _, dec_preds = learn.get_preds(dl=dl, with_input=True,with_decoded=True)\n",
    "test_df['Label'] = dec_preds"
   ]
  },
  {
   "cell_type": "code",
   "execution_count": 11,
   "metadata": {
    "execution": {
     "iopub.execute_input": "2020-12-02T11:25:48.101524Z",
     "iopub.status.busy": "2020-12-02T11:25:48.100149Z",
     "iopub.status.idle": "2020-12-02T11:25:48.492526Z",
     "shell.execute_reply": "2020-12-02T11:25:48.491432Z"
    },
    "papermill": {
     "duration": 0.41244,
     "end_time": "2020-12-02T11:25:48.492666",
     "exception": false,
     "start_time": "2020-12-02T11:25:48.080226",
     "status": "completed"
    },
    "tags": []
   },
   "outputs": [],
   "source": [
    "submission = test_df[['ImageId', 'Label']]\n",
    "submission.to_csv(\"submission.csv\", index=False)"
   ]
  }
 ],
 "metadata": {
  "kernelspec": {
   "display_name": "Python 3",
   "language": "python",
   "name": "python3"
  },
  "language_info": {
   "codemirror_mode": {
    "name": "ipython",
    "version": 3
   },
   "file_extension": ".py",
   "mimetype": "text/x-python",
   "name": "python",
   "nbconvert_exporter": "python",
   "pygments_lexer": "ipython3",
   "version": "3.7.6"
  },
  "papermill": {
   "duration": 941.171716,
   "end_time": "2020-12-02T11:25:49.767195",
   "environment_variables": {},
   "exception": null,
   "input_path": "__notebook__.ipynb",
   "output_path": "__notebook__.ipynb",
   "parameters": {},
   "start_time": "2020-12-02T11:10:08.595479",
   "version": "2.1.0"
  },
  "widgets": {
   "application/vnd.jupyter.widget-state+json": {
    "state": {
     "40a00bdc9a7c438882206e93e3796fd4": {
      "model_module": "@jupyter-widgets/base",
      "model_module_version": "1.2.0",
      "model_name": "LayoutModel",
      "state": {
       "_model_module": "@jupyter-widgets/base",
       "_model_module_version": "1.2.0",
       "_model_name": "LayoutModel",
       "_view_count": null,
       "_view_module": "@jupyter-widgets/base",
       "_view_module_version": "1.2.0",
       "_view_name": "LayoutView",
       "align_content": null,
       "align_items": null,
       "align_self": null,
       "border": null,
       "bottom": null,
       "display": null,
       "flex": null,
       "flex_flow": null,
       "grid_area": null,
       "grid_auto_columns": null,
       "grid_auto_flow": null,
       "grid_auto_rows": null,
       "grid_column": null,
       "grid_gap": null,
       "grid_row": null,
       "grid_template_areas": null,
       "grid_template_columns": null,
       "grid_template_rows": null,
       "height": null,
       "justify_content": null,
       "justify_items": null,
       "left": null,
       "margin": null,
       "max_height": null,
       "max_width": null,
       "min_height": null,
       "min_width": null,
       "object_fit": null,
       "object_position": null,
       "order": null,
       "overflow": null,
       "overflow_x": null,
       "overflow_y": null,
       "padding": null,
       "right": null,
       "top": null,
       "visibility": null,
       "width": null
      }
     },
     "9872018bf1d4411e92d26bdaa652d553": {
      "model_module": "@jupyter-widgets/controls",
      "model_module_version": "1.5.0",
      "model_name": "ProgressStyleModel",
      "state": {
       "_model_module": "@jupyter-widgets/controls",
       "_model_module_version": "1.5.0",
       "_model_name": "ProgressStyleModel",
       "_view_count": null,
       "_view_module": "@jupyter-widgets/base",
       "_view_module_version": "1.2.0",
       "_view_name": "StyleView",
       "bar_color": null,
       "description_width": "initial"
      }
     },
     "a2f29ed8f47b4449b6be3c1a4b95f9bc": {
      "model_module": "@jupyter-widgets/controls",
      "model_module_version": "1.5.0",
      "model_name": "FloatProgressModel",
      "state": {
       "_dom_classes": [],
       "_model_module": "@jupyter-widgets/controls",
       "_model_module_version": "1.5.0",
       "_model_name": "FloatProgressModel",
       "_view_count": null,
       "_view_module": "@jupyter-widgets/controls",
       "_view_module_version": "1.5.0",
       "_view_name": "ProgressView",
       "bar_style": "success",
       "description": "100%",
       "description_tooltip": null,
       "layout": "IPY_MODEL_a43e3bc92f67411ca18c37eb1b90a9e5",
       "max": 87306240.0,
       "min": 0.0,
       "orientation": "horizontal",
       "style": "IPY_MODEL_9872018bf1d4411e92d26bdaa652d553",
       "value": 87306240.0
      }
     },
     "a43e3bc92f67411ca18c37eb1b90a9e5": {
      "model_module": "@jupyter-widgets/base",
      "model_module_version": "1.2.0",
      "model_name": "LayoutModel",
      "state": {
       "_model_module": "@jupyter-widgets/base",
       "_model_module_version": "1.2.0",
       "_model_name": "LayoutModel",
       "_view_count": null,
       "_view_module": "@jupyter-widgets/base",
       "_view_module_version": "1.2.0",
       "_view_name": "LayoutView",
       "align_content": null,
       "align_items": null,
       "align_self": null,
       "border": null,
       "bottom": null,
       "display": null,
       "flex": null,
       "flex_flow": null,
       "grid_area": null,
       "grid_auto_columns": null,
       "grid_auto_flow": null,
       "grid_auto_rows": null,
       "grid_column": null,
       "grid_gap": null,
       "grid_row": null,
       "grid_template_areas": null,
       "grid_template_columns": null,
       "grid_template_rows": null,
       "height": null,
       "justify_content": null,
       "justify_items": null,
       "left": null,
       "margin": null,
       "max_height": null,
       "max_width": null,
       "min_height": null,
       "min_width": null,
       "object_fit": null,
       "object_position": null,
       "order": null,
       "overflow": null,
       "overflow_x": null,
       "overflow_y": null,
       "padding": null,
       "right": null,
       "top": null,
       "visibility": null,
       "width": null
      }
     },
     "ba48557f58494d519aaafdf3f28299a1": {
      "model_module": "@jupyter-widgets/controls",
      "model_module_version": "1.5.0",
      "model_name": "DescriptionStyleModel",
      "state": {
       "_model_module": "@jupyter-widgets/controls",
       "_model_module_version": "1.5.0",
       "_model_name": "DescriptionStyleModel",
       "_view_count": null,
       "_view_module": "@jupyter-widgets/base",
       "_view_module_version": "1.2.0",
       "_view_name": "StyleView",
       "description_width": ""
      }
     },
     "d8038e6a12134ba6bb1b03a52107d1db": {
      "model_module": "@jupyter-widgets/base",
      "model_module_version": "1.2.0",
      "model_name": "LayoutModel",
      "state": {
       "_model_module": "@jupyter-widgets/base",
       "_model_module_version": "1.2.0",
       "_model_name": "LayoutModel",
       "_view_count": null,
       "_view_module": "@jupyter-widgets/base",
       "_view_module_version": "1.2.0",
       "_view_name": "LayoutView",
       "align_content": null,
       "align_items": null,
       "align_self": null,
       "border": null,
       "bottom": null,
       "display": null,
       "flex": null,
       "flex_flow": null,
       "grid_area": null,
       "grid_auto_columns": null,
       "grid_auto_flow": null,
       "grid_auto_rows": null,
       "grid_column": null,
       "grid_gap": null,
       "grid_row": null,
       "grid_template_areas": null,
       "grid_template_columns": null,
       "grid_template_rows": null,
       "height": null,
       "justify_content": null,
       "justify_items": null,
       "left": null,
       "margin": null,
       "max_height": null,
       "max_width": null,
       "min_height": null,
       "min_width": null,
       "object_fit": null,
       "object_position": null,
       "order": null,
       "overflow": null,
       "overflow_x": null,
       "overflow_y": null,
       "padding": null,
       "right": null,
       "top": null,
       "visibility": null,
       "width": null
      }
     },
     "ed4b33a8c8664deaafd2754d70b4f7c2": {
      "model_module": "@jupyter-widgets/controls",
      "model_module_version": "1.5.0",
      "model_name": "HBoxModel",
      "state": {
       "_dom_classes": [],
       "_model_module": "@jupyter-widgets/controls",
       "_model_module_version": "1.5.0",
       "_model_name": "HBoxModel",
       "_view_count": null,
       "_view_module": "@jupyter-widgets/controls",
       "_view_module_version": "1.5.0",
       "_view_name": "HBoxView",
       "box_style": "",
       "children": [
        "IPY_MODEL_a2f29ed8f47b4449b6be3c1a4b95f9bc",
        "IPY_MODEL_ff4c2b5133ad47b089807d1f62dbec3a"
       ],
       "layout": "IPY_MODEL_40a00bdc9a7c438882206e93e3796fd4"
      }
     },
     "ff4c2b5133ad47b089807d1f62dbec3a": {
      "model_module": "@jupyter-widgets/controls",
      "model_module_version": "1.5.0",
      "model_name": "HTMLModel",
      "state": {
       "_dom_classes": [],
       "_model_module": "@jupyter-widgets/controls",
       "_model_module_version": "1.5.0",
       "_model_name": "HTMLModel",
       "_view_count": null,
       "_view_module": "@jupyter-widgets/controls",
       "_view_module_version": "1.5.0",
       "_view_name": "HTMLView",
       "description": "",
       "description_tooltip": null,
       "layout": "IPY_MODEL_d8038e6a12134ba6bb1b03a52107d1db",
       "placeholder": "​",
       "style": "IPY_MODEL_ba48557f58494d519aaafdf3f28299a1",
       "value": " 83.3M/83.3M [00:02&lt;00:00, 29.5MB/s]"
      }
     }
    },
    "version_major": 2,
    "version_minor": 0
   }
  }
 },
 "nbformat": 4,
 "nbformat_minor": 4
}
