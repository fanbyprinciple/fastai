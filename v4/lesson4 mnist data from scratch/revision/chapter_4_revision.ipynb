{
  "nbformat": 4,
  "nbformat_minor": 0,
  "metadata": {
    "colab": {
      "name": "chapter_4_revision.ipynb",
      "provenance": [],
      "collapsed_sections": []
    },
    "kernelspec": {
      "name": "python3",
      "display_name": "Python 3"
    },
    "accelerator": "GPU",
    "widgets": {
      "application/vnd.jupyter.widget-state+json": {
        "000191eb0f624552b445f19c059cbe9c": {
          "model_module": "@jupyter-widgets/controls",
          "model_name": "HBoxModel",
          "state": {
            "_view_name": "HBoxView",
            "_dom_classes": [],
            "_model_name": "HBoxModel",
            "_view_module": "@jupyter-widgets/controls",
            "_model_module_version": "1.5.0",
            "_view_count": null,
            "_view_module_version": "1.5.0",
            "box_style": "",
            "layout": "IPY_MODEL_faf5a9322d6b4b73b0a90bfe08496ada",
            "_model_module": "@jupyter-widgets/controls",
            "children": [
              "IPY_MODEL_32d10157c5654585bf2d4c105c0f7fbd",
              "IPY_MODEL_6baa2822cab34425912b3bcec18ae1d1"
            ]
          }
        },
        "faf5a9322d6b4b73b0a90bfe08496ada": {
          "model_module": "@jupyter-widgets/base",
          "model_name": "LayoutModel",
          "state": {
            "_view_name": "LayoutView",
            "grid_template_rows": null,
            "right": null,
            "justify_content": null,
            "_view_module": "@jupyter-widgets/base",
            "overflow": null,
            "_model_module_version": "1.2.0",
            "_view_count": null,
            "flex_flow": null,
            "width": null,
            "min_width": null,
            "border": null,
            "align_items": null,
            "bottom": null,
            "_model_module": "@jupyter-widgets/base",
            "top": null,
            "grid_column": null,
            "overflow_y": null,
            "overflow_x": null,
            "grid_auto_flow": null,
            "grid_area": null,
            "grid_template_columns": null,
            "flex": null,
            "_model_name": "LayoutModel",
            "justify_items": null,
            "grid_row": null,
            "max_height": null,
            "align_content": null,
            "visibility": null,
            "align_self": null,
            "height": null,
            "min_height": null,
            "padding": null,
            "grid_auto_rows": null,
            "grid_gap": null,
            "max_width": null,
            "order": null,
            "_view_module_version": "1.2.0",
            "grid_template_areas": null,
            "object_position": null,
            "object_fit": null,
            "grid_auto_columns": null,
            "margin": null,
            "display": null,
            "left": null
          }
        },
        "32d10157c5654585bf2d4c105c0f7fbd": {
          "model_module": "@jupyter-widgets/controls",
          "model_name": "FloatProgressModel",
          "state": {
            "_view_name": "ProgressView",
            "style": "IPY_MODEL_4642803258944bae92c72b9c3acb7032",
            "_dom_classes": [],
            "description": "100%",
            "_model_name": "FloatProgressModel",
            "bar_style": "success",
            "max": 46827520,
            "_view_module": "@jupyter-widgets/controls",
            "_model_module_version": "1.5.0",
            "value": 46827520,
            "_view_count": null,
            "_view_module_version": "1.5.0",
            "orientation": "horizontal",
            "min": 0,
            "description_tooltip": null,
            "_model_module": "@jupyter-widgets/controls",
            "layout": "IPY_MODEL_de14af54690d4037a28f56760b4e1b31"
          }
        },
        "6baa2822cab34425912b3bcec18ae1d1": {
          "model_module": "@jupyter-widgets/controls",
          "model_name": "HTMLModel",
          "state": {
            "_view_name": "HTMLView",
            "style": "IPY_MODEL_e7701faee98542cea86df82d5af29fe4",
            "_dom_classes": [],
            "description": "",
            "_model_name": "HTMLModel",
            "placeholder": "​",
            "_view_module": "@jupyter-widgets/controls",
            "_model_module_version": "1.5.0",
            "value": " 44.7M/44.7M [00:02&lt;00:00, 20.1MB/s]",
            "_view_count": null,
            "_view_module_version": "1.5.0",
            "description_tooltip": null,
            "_model_module": "@jupyter-widgets/controls",
            "layout": "IPY_MODEL_4afa1aa236484176a73e1b2bfe6e7dbd"
          }
        },
        "4642803258944bae92c72b9c3acb7032": {
          "model_module": "@jupyter-widgets/controls",
          "model_name": "ProgressStyleModel",
          "state": {
            "_view_name": "StyleView",
            "_model_name": "ProgressStyleModel",
            "description_width": "initial",
            "_view_module": "@jupyter-widgets/base",
            "_model_module_version": "1.5.0",
            "_view_count": null,
            "_view_module_version": "1.2.0",
            "bar_color": null,
            "_model_module": "@jupyter-widgets/controls"
          }
        },
        "de14af54690d4037a28f56760b4e1b31": {
          "model_module": "@jupyter-widgets/base",
          "model_name": "LayoutModel",
          "state": {
            "_view_name": "LayoutView",
            "grid_template_rows": null,
            "right": null,
            "justify_content": null,
            "_view_module": "@jupyter-widgets/base",
            "overflow": null,
            "_model_module_version": "1.2.0",
            "_view_count": null,
            "flex_flow": null,
            "width": null,
            "min_width": null,
            "border": null,
            "align_items": null,
            "bottom": null,
            "_model_module": "@jupyter-widgets/base",
            "top": null,
            "grid_column": null,
            "overflow_y": null,
            "overflow_x": null,
            "grid_auto_flow": null,
            "grid_area": null,
            "grid_template_columns": null,
            "flex": null,
            "_model_name": "LayoutModel",
            "justify_items": null,
            "grid_row": null,
            "max_height": null,
            "align_content": null,
            "visibility": null,
            "align_self": null,
            "height": null,
            "min_height": null,
            "padding": null,
            "grid_auto_rows": null,
            "grid_gap": null,
            "max_width": null,
            "order": null,
            "_view_module_version": "1.2.0",
            "grid_template_areas": null,
            "object_position": null,
            "object_fit": null,
            "grid_auto_columns": null,
            "margin": null,
            "display": null,
            "left": null
          }
        },
        "e7701faee98542cea86df82d5af29fe4": {
          "model_module": "@jupyter-widgets/controls",
          "model_name": "DescriptionStyleModel",
          "state": {
            "_view_name": "StyleView",
            "_model_name": "DescriptionStyleModel",
            "description_width": "",
            "_view_module": "@jupyter-widgets/base",
            "_model_module_version": "1.5.0",
            "_view_count": null,
            "_view_module_version": "1.2.0",
            "_model_module": "@jupyter-widgets/controls"
          }
        },
        "4afa1aa236484176a73e1b2bfe6e7dbd": {
          "model_module": "@jupyter-widgets/base",
          "model_name": "LayoutModel",
          "state": {
            "_view_name": "LayoutView",
            "grid_template_rows": null,
            "right": null,
            "justify_content": null,
            "_view_module": "@jupyter-widgets/base",
            "overflow": null,
            "_model_module_version": "1.2.0",
            "_view_count": null,
            "flex_flow": null,
            "width": null,
            "min_width": null,
            "border": null,
            "align_items": null,
            "bottom": null,
            "_model_module": "@jupyter-widgets/base",
            "top": null,
            "grid_column": null,
            "overflow_y": null,
            "overflow_x": null,
            "grid_auto_flow": null,
            "grid_area": null,
            "grid_template_columns": null,
            "flex": null,
            "_model_name": "LayoutModel",
            "justify_items": null,
            "grid_row": null,
            "max_height": null,
            "align_content": null,
            "visibility": null,
            "align_self": null,
            "height": null,
            "min_height": null,
            "padding": null,
            "grid_auto_rows": null,
            "grid_gap": null,
            "max_width": null,
            "order": null,
            "_view_module_version": "1.2.0",
            "grid_template_areas": null,
            "object_position": null,
            "object_fit": null,
            "grid_auto_columns": null,
            "margin": null,
            "display": null,
            "left": null
          }
        }
      }
    }
  },
  "cells": [
    {
      "cell_type": "code",
      "metadata": {
        "colab": {
          "base_uri": "https://localhost:8080/"
        },
        "id": "jyngZPHutf94",
        "outputId": "7d70609f-a49d-4298-cbfb-60fdeeaa1638"
      },
      "source": [
        "!pip install -Uqq fastai"
      ],
      "execution_count": 1,
      "outputs": [
        {
          "output_type": "stream",
          "text": [
            "\u001b[K     |████████████████████████████████| 194kB 8.9MB/s \n",
            "\u001b[K     |████████████████████████████████| 61kB 6.6MB/s \n",
            "\u001b[?25h"
          ],
          "name": "stdout"
        }
      ]
    },
    {
      "cell_type": "code",
      "metadata": {
        "id": "HeYZB9tHyHTM"
      },
      "source": [
        "from fastai.vision.all import untar_data, URLs"
      ],
      "execution_count": 2,
      "outputs": []
    },
    {
      "cell_type": "code",
      "metadata": {
        "colab": {
          "base_uri": "https://localhost:8080/",
          "height": 17
        },
        "id": "zHJ73PS7tqz-",
        "outputId": "49866a2d-9d18-4b7c-d834-aa3fdbb7badc"
      },
      "source": [
        "path = untar_data(URLs.MNIST_SAMPLE)"
      ],
      "execution_count": 3,
      "outputs": [
        {
          "output_type": "display_data",
          "data": {
            "text/html": [
              ""
            ],
            "text/plain": [
              "<IPython.core.display.HTML object>"
            ]
          },
          "metadata": {
            "tags": []
          }
        }
      ]
    },
    {
      "cell_type": "code",
      "metadata": {
        "id": "FXhxRIHKyoIW"
      },
      "source": [
        "from fastai.vision.all import Path"
      ],
      "execution_count": 4,
      "outputs": []
    },
    {
      "cell_type": "code",
      "metadata": {
        "colab": {
          "base_uri": "https://localhost:8080/"
        },
        "id": "3WR3OwWxyDm_",
        "outputId": "e90f3a4a-f255-48c2-f2b2-12bbf10662a7"
      },
      "source": [
        "Path, path"
      ],
      "execution_count": 5,
      "outputs": [
        {
          "output_type": "execute_result",
          "data": {
            "text/plain": [
              "(pathlib.Path, Path('/root/.fastai/data/mnist_sample'))"
            ]
          },
          "metadata": {
            "tags": []
          },
          "execution_count": 5
        }
      ]
    },
    {
      "cell_type": "code",
      "metadata": {
        "id": "RaVfe5Gdy_Ev"
      },
      "source": [
        "Path.BASE_PATH = path"
      ],
      "execution_count": 6,
      "outputs": []
    },
    {
      "cell_type": "code",
      "metadata": {
        "colab": {
          "base_uri": "https://localhost:8080/"
        },
        "id": "GFMC5txbzGAk",
        "outputId": "8592d6eb-a550-4700-df40-6dc3a0dcedb4"
      },
      "source": [
        "path.ls()"
      ],
      "execution_count": 7,
      "outputs": [
        {
          "output_type": "execute_result",
          "data": {
            "text/plain": [
              "(#3) [Path('labels.csv'),Path('train'),Path('valid')]"
            ]
          },
          "metadata": {
            "tags": []
          },
          "execution_count": 7
        }
      ]
    },
    {
      "cell_type": "code",
      "metadata": {
        "colab": {
          "base_uri": "https://localhost:8080/"
        },
        "id": "t0uRtU0DzVXc",
        "outputId": "d746ee80-d7b6-435b-fc54-92e9064b795f"
      },
      "source": [
        "(path/'train').ls()"
      ],
      "execution_count": 8,
      "outputs": [
        {
          "output_type": "execute_result",
          "data": {
            "text/plain": [
              "(#2) [Path('train/7'),Path('train/3')]"
            ]
          },
          "metadata": {
            "tags": []
          },
          "execution_count": 8
        }
      ]
    },
    {
      "cell_type": "code",
      "metadata": {
        "colab": {
          "base_uri": "https://localhost:8080/"
        },
        "id": "T4RW2tLyzaH-",
        "outputId": "cf7ea02c-b484-4fb9-87dc-0c055b577e00"
      },
      "source": [
        "# getting the paths into variables\n",
        "\n",
        "threes = (path/'train'/'3').ls().sorted()\n",
        "sevens = (path/'train'/'7').ls().sorted()\n",
        "sevens"
      ],
      "execution_count": 9,
      "outputs": [
        {
          "output_type": "execute_result",
          "data": {
            "text/plain": [
              "(#6265) [Path('train/7/10002.png'),Path('train/7/1001.png'),Path('train/7/10014.png'),Path('train/7/10019.png'),Path('train/7/10039.png'),Path('train/7/10046.png'),Path('train/7/10050.png'),Path('train/7/10063.png'),Path('train/7/10077.png'),Path('train/7/10086.png')...]"
            ]
          },
          "metadata": {
            "tags": []
          },
          "execution_count": 9
        }
      ]
    },
    {
      "cell_type": "code",
      "metadata": {
        "id": "Y35M27APz2US"
      },
      "source": [
        "from fastai.vision.all import Image\n",
        "# image is from python imaging library (PIL)\n",
        "# this is how we load image from path"
      ],
      "execution_count": 10,
      "outputs": []
    },
    {
      "cell_type": "code",
      "metadata": {
        "colab": {
          "base_uri": "https://localhost:8080/",
          "height": 45
        },
        "id": "4euL0VFpzs1i",
        "outputId": "c15da4da-c94c-42a9-bb92-7dcd167c2882"
      },
      "source": [
        "im3_path = threes[1]\n",
        "im3 = Image.open(im3_path)\n",
        "im3"
      ],
      "execution_count": 11,
      "outputs": [
        {
          "output_type": "execute_result",
          "data": {
            "image/png": "[encoded data removed]",
            "text/plain": [
              "<PIL.PngImagePlugin.PngImageFile image mode=L size=28x28 at 0x7F0E9EDE3BA8>"
            ]
          },
          "metadata": {
            "tags": []
          },
          "execution_count": 11
        }
      ]
    },
    {
      "cell_type": "code",
      "metadata": {
        "id": "xfzBkCei0f55"
      },
      "source": [
        "from fastai.vision.all import array"
      ],
      "execution_count": 12,
      "outputs": []
    },
    {
      "cell_type": "code",
      "metadata": {
        "colab": {
          "base_uri": "https://localhost:8080/"
        },
        "id": "zqQtmZQ_z83E",
        "outputId": "76071a60-d1e2-4c12-a0a5-d3b012321a9d"
      },
      "source": [
        "# converted to a Numpy array\n",
        "\n",
        "array(im3)[4:10, 4:10]"
      ],
      "execution_count": 13,
      "outputs": [
        {
          "output_type": "execute_result",
          "data": {
            "text/plain": [
              "array([[  0,   0,   0,   0,   0,   0],\n",
              "       [  0,   0,   0,   0,   0,  29],\n",
              "       [  0,   0,   0,  48, 166, 224],\n",
              "       [  0,  93, 244, 249, 253, 187],\n",
              "       [  0, 107, 253, 253, 230,  48],\n",
              "       [  0,   3,  20,  20,  15,   0]], dtype=uint8)"
            ]
          },
          "metadata": {
            "tags": []
          },
          "execution_count": 13
        }
      ]
    },
    {
      "cell_type": "code",
      "metadata": {
        "id": "OD7WqrHp01Aa"
      },
      "source": [
        "from fastai.vision.all import tensor"
      ],
      "execution_count": 14,
      "outputs": []
    },
    {
      "cell_type": "code",
      "metadata": {
        "colab": {
          "base_uri": "https://localhost:8080/"
        },
        "id": "kwMUbmUF0n8D",
        "outputId": "c4f9d9da-781a-4042-a30d-4637adbca959"
      },
      "source": [
        "# converted to Pytorch tensor\n",
        "tensor(im3)[4:10,4:10]\n",
        "\n",
        "# same as before"
      ],
      "execution_count": 15,
      "outputs": [
        {
          "output_type": "execute_result",
          "data": {
            "text/plain": [
              "tensor([[  0,   0,   0,   0,   0,   0],\n",
              "        [  0,   0,   0,   0,   0,  29],\n",
              "        [  0,   0,   0,  48, 166, 224],\n",
              "        [  0,  93, 244, 249, 253, 187],\n",
              "        [  0, 107, 253, 253, 230,  48],\n",
              "        [  0,   3,  20,  20,  15,   0]], dtype=torch.uint8)"
            ]
          },
          "metadata": {
            "tags": []
          },
          "execution_count": 15
        }
      ]
    },
    {
      "cell_type": "code",
      "metadata": {
        "id": "RtwqeRrs1Jwg"
      },
      "source": [
        "import pandas as pd"
      ],
      "execution_count": 16,
      "outputs": []
    },
    {
      "cell_type": "code",
      "metadata": {
        "colab": {
          "base_uri": "https://localhost:8080/",
          "height": 258
        },
        "id": "d3euWOds09Ic",
        "outputId": "6fafed7e-a7cd-4662-db4c-52a0169367a2"
      },
      "source": [
        "im3_t = tensor(im3)\n",
        "df = pd.DataFrame(im3_t[4:15, 4:22])\n",
        "df.style.background_gradient('Greys')"
      ],
      "execution_count": 17,
      "outputs": [
        {
          "output_type": "execute_result",
          "data": {
            "text/html": [
              "<style  type=\"text/css\" >\n",
              "#T_1eba1454_32d1_11eb_92a3_0242ac1c0002row0_col0,#T_1eba1454_32d1_11eb_92a3_0242ac1c0002row0_col1,#T_1eba1454_32d1_11eb_92a3_0242ac1c0002row0_col2,#T_1eba1454_32d1_11eb_92a3_0242ac1c0002row0_col3,#T_1eba1454_32d1_11eb_92a3_0242ac1c0002row0_col4,#T_1eba1454_32d1_11eb_92a3_0242ac1c0002row0_col5,#T_1eba1454_32d1_11eb_92a3_0242ac1c0002row0_col6,#T_1eba1454_32d1_11eb_92a3_0242ac1c0002row0_col7,#T_1eba1454_32d1_11eb_92a3_0242ac1c0002row0_col8,#T_1eba1454_32d1_11eb_92a3_0242ac1c0002row0_col9,#T_1eba1454_32d1_11eb_92a3_0242ac1c0002row0_col10,#T_1eba1454_32d1_11eb_92a3_0242ac1c0002row0_col11,#T_1eba1454_32d1_11eb_92a3_0242ac1c0002row0_col12,#T_1eba1454_32d1_11eb_92a3_0242ac1c0002row0_col13,#T_1eba1454_32d1_11eb_92a3_0242ac1c0002row0_col14,#T_1eba1454_32d1_11eb_92a3_0242ac1c0002row0_col15,#T_1eba1454_32d1_11eb_92a3_0242ac1c0002row0_col16,#T_1eba1454_32d1_11eb_92a3_0242ac1c0002row0_col17,#T_1eba1454_32d1_11eb_92a3_0242ac1c0002row1_col0,#T_1eba1454_32d1_11eb_92a3_0242ac1c0002row1_col1,#T_1eba1454_32d1_11eb_92a3_0242ac1c0002row1_col2,#T_1eba1454_32d1_11eb_92a3_0242ac1c0002row1_col3,#T_1eba1454_32d1_11eb_92a3_0242ac1c0002row1_col4,#T_1eba1454_32d1_11eb_92a3_0242ac1c0002row1_col15,#T_1eba1454_32d1_11eb_92a3_0242ac1c0002row1_col16,#T_1eba1454_32d1_11eb_92a3_0242ac1c0002row1_col17,#T_1eba1454_32d1_11eb_92a3_0242ac1c0002row2_col0,#T_1eba1454_32d1_11eb_92a3_0242ac1c0002row2_col1,#T_1eba1454_32d1_11eb_92a3_0242ac1c0002row2_col2,#T_1eba1454_32d1_11eb_92a3_0242ac1c0002row2_col15,#T_1eba1454_32d1_11eb_92a3_0242ac1c0002row2_col16,#T_1eba1454_32d1_11eb_92a3_0242ac1c0002row2_col17,#T_1eba1454_32d1_11eb_92a3_0242ac1c0002row3_col0,#T_1eba1454_32d1_11eb_92a3_0242ac1c0002row3_col15,#T_1eba1454_32d1_11eb_92a3_0242ac1c0002row3_col16,#T_1eba1454_32d1_11eb_92a3_0242ac1c0002row3_col17,#T_1eba1454_32d1_11eb_92a3_0242ac1c0002row4_col0,#T_1eba1454_32d1_11eb_92a3_0242ac1c0002row4_col6,#T_1eba1454_32d1_11eb_92a3_0242ac1c0002row4_col7,#T_1eba1454_32d1_11eb_92a3_0242ac1c0002row4_col8,#T_1eba1454_32d1_11eb_92a3_0242ac1c0002row4_col9,#T_1eba1454_32d1_11eb_92a3_0242ac1c0002row4_col10,#T_1eba1454_32d1_11eb_92a3_0242ac1c0002row4_col15,#T_1eba1454_32d1_11eb_92a3_0242ac1c0002row4_col16,#T_1eba1454_32d1_11eb_92a3_0242ac1c0002row4_col17,#T_1eba1454_32d1_11eb_92a3_0242ac1c0002row5_col0,#T_1eba1454_32d1_11eb_92a3_0242ac1c0002row5_col5,#T_1eba1454_32d1_11eb_92a3_0242ac1c0002row5_col6,#T_1eba1454_32d1_11eb_92a3_0242ac1c0002row5_col7,#T_1eba1454_32d1_11eb_92a3_0242ac1c0002row5_col8,#T_1eba1454_32d1_11eb_92a3_0242ac1c0002row5_col9,#T_1eba1454_32d1_11eb_92a3_0242ac1c0002row5_col15,#T_1eba1454_32d1_11eb_92a3_0242ac1c0002row5_col16,#T_1eba1454_32d1_11eb_92a3_0242ac1c0002row5_col17,#T_1eba1454_32d1_11eb_92a3_0242ac1c0002row6_col0,#T_1eba1454_32d1_11eb_92a3_0242ac1c0002row6_col1,#T_1eba1454_32d1_11eb_92a3_0242ac1c0002row6_col2,#T_1eba1454_32d1_11eb_92a3_0242ac1c0002row6_col3,#T_1eba1454_32d1_11eb_92a3_0242ac1c0002row6_col4,#T_1eba1454_32d1_11eb_92a3_0242ac1c0002row6_col5,#T_1eba1454_32d1_11eb_92a3_0242ac1c0002row6_col6,#T_1eba1454_32d1_11eb_92a3_0242ac1c0002row6_col7,#T_1eba1454_32d1_11eb_92a3_0242ac1c0002row6_col8,#T_1eba1454_32d1_11eb_92a3_0242ac1c0002row6_col9,#T_1eba1454_32d1_11eb_92a3_0242ac1c0002row6_col14,#T_1eba1454_32d1_11eb_92a3_0242ac1c0002row6_col15,#T_1eba1454_32d1_11eb_92a3_0242ac1c0002row6_col16,#T_1eba1454_32d1_11eb_92a3_0242ac1c0002row6_col17,#T_1eba1454_32d1_11eb_92a3_0242ac1c0002row7_col0,#T_1eba1454_32d1_11eb_92a3_0242ac1c0002row7_col1,#T_1eba1454_32d1_11eb_92a3_0242ac1c0002row7_col2,#T_1eba1454_32d1_11eb_92a3_0242ac1c0002row7_col3,#T_1eba1454_32d1_11eb_92a3_0242ac1c0002row7_col4,#T_1eba1454_32d1_11eb_92a3_0242ac1c0002row7_col5,#T_1eba1454_32d1_11eb_92a3_0242ac1c0002row7_col6,#T_1eba1454_32d1_11eb_92a3_0242ac1c0002row7_col13,#T_1eba1454_32d1_11eb_92a3_0242ac1c0002row7_col14,#T_1eba1454_32d1_11eb_92a3_0242ac1c0002row7_col15,#T_1eba1454_32d1_11eb_92a3_0242ac1c0002row7_col16,#T_1eba1454_32d1_11eb_92a3_0242ac1c0002row7_col17,#T_1eba1454_32d1_11eb_92a3_0242ac1c0002row8_col0,#T_1eba1454_32d1_11eb_92a3_0242ac1c0002row8_col1,#T_1eba1454_32d1_11eb_92a3_0242ac1c0002row8_col2,#T_1eba1454_32d1_11eb_92a3_0242ac1c0002row8_col3,#T_1eba1454_32d1_11eb_92a3_0242ac1c0002row8_col4,#T_1eba1454_32d1_11eb_92a3_0242ac1c0002row8_col13,#T_1eba1454_32d1_11eb_92a3_0242ac1c0002row8_col14,#T_1eba1454_32d1_11eb_92a3_0242ac1c0002row8_col15,#T_1eba1454_32d1_11eb_92a3_0242ac1c0002row8_col16,#T_1eba1454_32d1_11eb_92a3_0242ac1c0002row8_col17,#T_1eba1454_32d1_11eb_92a3_0242ac1c0002row9_col0,#T_1eba1454_32d1_11eb_92a3_0242ac1c0002row9_col1,#T_1eba1454_32d1_11eb_92a3_0242ac1c0002row9_col2,#T_1eba1454_32d1_11eb_92a3_0242ac1c0002row9_col3,#T_1eba1454_32d1_11eb_92a3_0242ac1c0002row9_col4,#T_1eba1454_32d1_11eb_92a3_0242ac1c0002row9_col16,#T_1eba1454_32d1_11eb_92a3_0242ac1c0002row9_col17,#T_1eba1454_32d1_11eb_92a3_0242ac1c0002row10_col0,#T_1eba1454_32d1_11eb_92a3_0242ac1c0002row10_col1,#T_1eba1454_32d1_11eb_92a3_0242ac1c0002row10_col2,#T_1eba1454_32d1_11eb_92a3_0242ac1c0002row10_col3,#T_1eba1454_32d1_11eb_92a3_0242ac1c0002row10_col4,#T_1eba1454_32d1_11eb_92a3_0242ac1c0002row10_col5,#T_1eba1454_32d1_11eb_92a3_0242ac1c0002row10_col6,#T_1eba1454_32d1_11eb_92a3_0242ac1c0002row10_col17{\n",
              "            background-color:  #ffffff;\n",
              "            color:  #000000;\n",
              "        }#T_1eba1454_32d1_11eb_92a3_0242ac1c0002row1_col5{\n",
              "            background-color:  #efefef;\n",
              "            color:  #000000;\n",
              "        }#T_1eba1454_32d1_11eb_92a3_0242ac1c0002row1_col6,#T_1eba1454_32d1_11eb_92a3_0242ac1c0002row1_col13{\n",
              "            background-color:  #7c7c7c;\n",
              "            color:  #000000;\n",
              "        }#T_1eba1454_32d1_11eb_92a3_0242ac1c0002row1_col7{\n",
              "            background-color:  #4a4a4a;\n",
              "            color:  #f1f1f1;\n",
              "        }#T_1eba1454_32d1_11eb_92a3_0242ac1c0002row1_col8,#T_1eba1454_32d1_11eb_92a3_0242ac1c0002row1_col9,#T_1eba1454_32d1_11eb_92a3_0242ac1c0002row1_col10,#T_1eba1454_32d1_11eb_92a3_0242ac1c0002row2_col5,#T_1eba1454_32d1_11eb_92a3_0242ac1c0002row2_col6,#T_1eba1454_32d1_11eb_92a3_0242ac1c0002row2_col7,#T_1eba1454_32d1_11eb_92a3_0242ac1c0002row2_col11,#T_1eba1454_32d1_11eb_92a3_0242ac1c0002row2_col12,#T_1eba1454_32d1_11eb_92a3_0242ac1c0002row2_col13,#T_1eba1454_32d1_11eb_92a3_0242ac1c0002row3_col4,#T_1eba1454_32d1_11eb_92a3_0242ac1c0002row3_col12,#T_1eba1454_32d1_11eb_92a3_0242ac1c0002row3_col13,#T_1eba1454_32d1_11eb_92a3_0242ac1c0002row4_col1,#T_1eba1454_32d1_11eb_92a3_0242ac1c0002row4_col2,#T_1eba1454_32d1_11eb_92a3_0242ac1c0002row4_col3,#T_1eba1454_32d1_11eb_92a3_0242ac1c0002row4_col12,#T_1eba1454_32d1_11eb_92a3_0242ac1c0002row4_col13,#T_1eba1454_32d1_11eb_92a3_0242ac1c0002row5_col12,#T_1eba1454_32d1_11eb_92a3_0242ac1c0002row6_col11,#T_1eba1454_32d1_11eb_92a3_0242ac1c0002row9_col11,#T_1eba1454_32d1_11eb_92a3_0242ac1c0002row10_col11,#T_1eba1454_32d1_11eb_92a3_0242ac1c0002row10_col12,#T_1eba1454_32d1_11eb_92a3_0242ac1c0002row10_col13,#T_1eba1454_32d1_11eb_92a3_0242ac1c0002row10_col14,#T_1eba1454_32d1_11eb_92a3_0242ac1c0002row10_col15,#T_1eba1454_32d1_11eb_92a3_0242ac1c0002row10_col16{\n",
              "            background-color:  #000000;\n",
              "            color:  #f1f1f1;\n",
              "        }#T_1eba1454_32d1_11eb_92a3_0242ac1c0002row1_col11{\n",
              "            background-color:  #606060;\n",
              "            color:  #f1f1f1;\n",
              "        }#T_1eba1454_32d1_11eb_92a3_0242ac1c0002row1_col12{\n",
              "            background-color:  #4d4d4d;\n",
              "            color:  #f1f1f1;\n",
              "        }#T_1eba1454_32d1_11eb_92a3_0242ac1c0002row1_col14{\n",
              "            background-color:  #bbbbbb;\n",
              "            color:  #000000;\n",
              "        }#T_1eba1454_32d1_11eb_92a3_0242ac1c0002row2_col3{\n",
              "            background-color:  #e4e4e4;\n",
              "            color:  #000000;\n",
              "        }#T_1eba1454_32d1_11eb_92a3_0242ac1c0002row2_col4,#T_1eba1454_32d1_11eb_92a3_0242ac1c0002row8_col6{\n",
              "            background-color:  #6b6b6b;\n",
              "            color:  #000000;\n",
              "        }#T_1eba1454_32d1_11eb_92a3_0242ac1c0002row2_col8,#T_1eba1454_32d1_11eb_92a3_0242ac1c0002row2_col14,#T_1eba1454_32d1_11eb_92a3_0242ac1c0002row3_col14{\n",
              "            background-color:  #171717;\n",
              "            color:  #f1f1f1;\n",
              "        }#T_1eba1454_32d1_11eb_92a3_0242ac1c0002row2_col9,#T_1eba1454_32d1_11eb_92a3_0242ac1c0002row3_col11{\n",
              "            background-color:  #4b4b4b;\n",
              "            color:  #f1f1f1;\n",
              "        }#T_1eba1454_32d1_11eb_92a3_0242ac1c0002row2_col10,#T_1eba1454_32d1_11eb_92a3_0242ac1c0002row7_col10,#T_1eba1454_32d1_11eb_92a3_0242ac1c0002row8_col8,#T_1eba1454_32d1_11eb_92a3_0242ac1c0002row8_col10,#T_1eba1454_32d1_11eb_92a3_0242ac1c0002row9_col8,#T_1eba1454_32d1_11eb_92a3_0242ac1c0002row9_col10{\n",
              "            background-color:  #010101;\n",
              "            color:  #f1f1f1;\n",
              "        }#T_1eba1454_32d1_11eb_92a3_0242ac1c0002row3_col1{\n",
              "            background-color:  #272727;\n",
              "            color:  #f1f1f1;\n",
              "        }#T_1eba1454_32d1_11eb_92a3_0242ac1c0002row3_col2{\n",
              "            background-color:  #0a0a0a;\n",
              "            color:  #f1f1f1;\n",
              "        }#T_1eba1454_32d1_11eb_92a3_0242ac1c0002row3_col3{\n",
              "            background-color:  #050505;\n",
              "            color:  #f1f1f1;\n",
              "        }#T_1eba1454_32d1_11eb_92a3_0242ac1c0002row3_col5{\n",
              "            background-color:  #333333;\n",
              "            color:  #f1f1f1;\n",
              "        }#T_1eba1454_32d1_11eb_92a3_0242ac1c0002row3_col6{\n",
              "            background-color:  #e6e6e6;\n",
              "            color:  #000000;\n",
              "        }#T_1eba1454_32d1_11eb_92a3_0242ac1c0002row3_col7,#T_1eba1454_32d1_11eb_92a3_0242ac1c0002row3_col10{\n",
              "            background-color:  #fafafa;\n",
              "            color:  #000000;\n",
              "        }#T_1eba1454_32d1_11eb_92a3_0242ac1c0002row3_col8{\n",
              "            background-color:  #fbfbfb;\n",
              "            color:  #000000;\n",
              "        }#T_1eba1454_32d1_11eb_92a3_0242ac1c0002row3_col9{\n",
              "            background-color:  #fdfdfd;\n",
              "            color:  #000000;\n",
              "        }#T_1eba1454_32d1_11eb_92a3_0242ac1c0002row4_col4{\n",
              "            background-color:  #1b1b1b;\n",
              "            color:  #f1f1f1;\n",
              "        }#T_1eba1454_32d1_11eb_92a3_0242ac1c0002row4_col5{\n",
              "            background-color:  #e0e0e0;\n",
              "            color:  #000000;\n",
              "        }#T_1eba1454_32d1_11eb_92a3_0242ac1c0002row4_col11{\n",
              "            background-color:  #4e4e4e;\n",
              "            color:  #f1f1f1;\n",
              "        }#T_1eba1454_32d1_11eb_92a3_0242ac1c0002row4_col14{\n",
              "            background-color:  #767676;\n",
              "            color:  #000000;\n",
              "        }#T_1eba1454_32d1_11eb_92a3_0242ac1c0002row5_col1{\n",
              "            background-color:  #fcfcfc;\n",
              "            color:  #000000;\n",
              "        }#T_1eba1454_32d1_11eb_92a3_0242ac1c0002row5_col2,#T_1eba1454_32d1_11eb_92a3_0242ac1c0002row5_col3{\n",
              "            background-color:  #f6f6f6;\n",
              "            color:  #000000;\n",
              "        }#T_1eba1454_32d1_11eb_92a3_0242ac1c0002row5_col4,#T_1eba1454_32d1_11eb_92a3_0242ac1c0002row7_col7{\n",
              "            background-color:  #f8f8f8;\n",
              "            color:  #000000;\n",
              "        }#T_1eba1454_32d1_11eb_92a3_0242ac1c0002row5_col10,#T_1eba1454_32d1_11eb_92a3_0242ac1c0002row10_col7{\n",
              "            background-color:  #e8e8e8;\n",
              "            color:  #000000;\n",
              "        }#T_1eba1454_32d1_11eb_92a3_0242ac1c0002row5_col11{\n",
              "            background-color:  #222222;\n",
              "            color:  #f1f1f1;\n",
              "        }#T_1eba1454_32d1_11eb_92a3_0242ac1c0002row5_col13,#T_1eba1454_32d1_11eb_92a3_0242ac1c0002row6_col12{\n",
              "            background-color:  #090909;\n",
              "            color:  #f1f1f1;\n",
              "        }#T_1eba1454_32d1_11eb_92a3_0242ac1c0002row5_col14{\n",
              "            background-color:  #d0d0d0;\n",
              "            color:  #000000;\n",
              "        }#T_1eba1454_32d1_11eb_92a3_0242ac1c0002row6_col10,#T_1eba1454_32d1_11eb_92a3_0242ac1c0002row7_col11,#T_1eba1454_32d1_11eb_92a3_0242ac1c0002row9_col6{\n",
              "            background-color:  #060606;\n",
              "            color:  #f1f1f1;\n",
              "        }#T_1eba1454_32d1_11eb_92a3_0242ac1c0002row6_col13{\n",
              "            background-color:  #979797;\n",
              "            color:  #000000;\n",
              "        }#T_1eba1454_32d1_11eb_92a3_0242ac1c0002row7_col8{\n",
              "            background-color:  #b6b6b6;\n",
              "            color:  #000000;\n",
              "        }#T_1eba1454_32d1_11eb_92a3_0242ac1c0002row7_col9{\n",
              "            background-color:  #252525;\n",
              "            color:  #f1f1f1;\n",
              "        }#T_1eba1454_32d1_11eb_92a3_0242ac1c0002row7_col12{\n",
              "            background-color:  #999999;\n",
              "            color:  #000000;\n",
              "        }#T_1eba1454_32d1_11eb_92a3_0242ac1c0002row8_col5{\n",
              "            background-color:  #f9f9f9;\n",
              "            color:  #000000;\n",
              "        }#T_1eba1454_32d1_11eb_92a3_0242ac1c0002row8_col7{\n",
              "            background-color:  #101010;\n",
              "            color:  #f1f1f1;\n",
              "        }#T_1eba1454_32d1_11eb_92a3_0242ac1c0002row8_col9,#T_1eba1454_32d1_11eb_92a3_0242ac1c0002row9_col9{\n",
              "            background-color:  #020202;\n",
              "            color:  #f1f1f1;\n",
              "        }#T_1eba1454_32d1_11eb_92a3_0242ac1c0002row8_col11{\n",
              "            background-color:  #545454;\n",
              "            color:  #f1f1f1;\n",
              "        }#T_1eba1454_32d1_11eb_92a3_0242ac1c0002row8_col12{\n",
              "            background-color:  #f1f1f1;\n",
              "            color:  #000000;\n",
              "        }#T_1eba1454_32d1_11eb_92a3_0242ac1c0002row9_col5{\n",
              "            background-color:  #f7f7f7;\n",
              "            color:  #000000;\n",
              "        }#T_1eba1454_32d1_11eb_92a3_0242ac1c0002row9_col7{\n",
              "            background-color:  #030303;\n",
              "            color:  #f1f1f1;\n",
              "        }#T_1eba1454_32d1_11eb_92a3_0242ac1c0002row9_col12{\n",
              "            background-color:  #181818;\n",
              "            color:  #f1f1f1;\n",
              "        }#T_1eba1454_32d1_11eb_92a3_0242ac1c0002row9_col13{\n",
              "            background-color:  #303030;\n",
              "            color:  #f1f1f1;\n",
              "        }#T_1eba1454_32d1_11eb_92a3_0242ac1c0002row9_col14{\n",
              "            background-color:  #a9a9a9;\n",
              "            color:  #000000;\n",
              "        }#T_1eba1454_32d1_11eb_92a3_0242ac1c0002row9_col15{\n",
              "            background-color:  #fefefe;\n",
              "            color:  #000000;\n",
              "        }#T_1eba1454_32d1_11eb_92a3_0242ac1c0002row10_col8,#T_1eba1454_32d1_11eb_92a3_0242ac1c0002row10_col9{\n",
              "            background-color:  #bababa;\n",
              "            color:  #000000;\n",
              "        }#T_1eba1454_32d1_11eb_92a3_0242ac1c0002row10_col10{\n",
              "            background-color:  #393939;\n",
              "            color:  #f1f1f1;\n",
              "        }</style><table id=\"T_1eba1454_32d1_11eb_92a3_0242ac1c0002\" ><thead>    <tr>        <th class=\"blank level0\" ></th>        <th class=\"col_heading level0 col0\" >0</th>        <th class=\"col_heading level0 col1\" >1</th>        <th class=\"col_heading level0 col2\" >2</th>        <th class=\"col_heading level0 col3\" >3</th>        <th class=\"col_heading level0 col4\" >4</th>        <th class=\"col_heading level0 col5\" >5</th>        <th class=\"col_heading level0 col6\" >6</th>        <th class=\"col_heading level0 col7\" >7</th>        <th class=\"col_heading level0 col8\" >8</th>        <th class=\"col_heading level0 col9\" >9</th>        <th class=\"col_heading level0 col10\" >10</th>        <th class=\"col_heading level0 col11\" >11</th>        <th class=\"col_heading level0 col12\" >12</th>        <th class=\"col_heading level0 col13\" >13</th>        <th class=\"col_heading level0 col14\" >14</th>        <th class=\"col_heading level0 col15\" >15</th>        <th class=\"col_heading level0 col16\" >16</th>        <th class=\"col_heading level0 col17\" >17</th>    </tr></thead><tbody>\n",
              "                <tr>\n",
              "                        <th id=\"T_1eba1454_32d1_11eb_92a3_0242ac1c0002level0_row0\" class=\"row_heading level0 row0\" >0</th>\n",
              "                        <td id=\"T_1eba1454_32d1_11eb_92a3_0242ac1c0002row0_col0\" class=\"data row0 col0\" >0</td>\n",
              "                        <td id=\"T_1eba1454_32d1_11eb_92a3_0242ac1c0002row0_col1\" class=\"data row0 col1\" >0</td>\n",
              "                        <td id=\"T_1eba1454_32d1_11eb_92a3_0242ac1c0002row0_col2\" class=\"data row0 col2\" >0</td>\n",
              "                        <td id=\"T_1eba1454_32d1_11eb_92a3_0242ac1c0002row0_col3\" class=\"data row0 col3\" >0</td>\n",
              "                        <td id=\"T_1eba1454_32d1_11eb_92a3_0242ac1c0002row0_col4\" class=\"data row0 col4\" >0</td>\n",
              "                        <td id=\"T_1eba1454_32d1_11eb_92a3_0242ac1c0002row0_col5\" class=\"data row0 col5\" >0</td>\n",
              "                        <td id=\"T_1eba1454_32d1_11eb_92a3_0242ac1c0002row0_col6\" class=\"data row0 col6\" >0</td>\n",
              "                        <td id=\"T_1eba1454_32d1_11eb_92a3_0242ac1c0002row0_col7\" class=\"data row0 col7\" >0</td>\n",
              "                        <td id=\"T_1eba1454_32d1_11eb_92a3_0242ac1c0002row0_col8\" class=\"data row0 col8\" >0</td>\n",
              "                        <td id=\"T_1eba1454_32d1_11eb_92a3_0242ac1c0002row0_col9\" class=\"data row0 col9\" >0</td>\n",
              "                        <td id=\"T_1eba1454_32d1_11eb_92a3_0242ac1c0002row0_col10\" class=\"data row0 col10\" >0</td>\n",
              "                        <td id=\"T_1eba1454_32d1_11eb_92a3_0242ac1c0002row0_col11\" class=\"data row0 col11\" >0</td>\n",
              "                        <td id=\"T_1eba1454_32d1_11eb_92a3_0242ac1c0002row0_col12\" class=\"data row0 col12\" >0</td>\n",
              "                        <td id=\"T_1eba1454_32d1_11eb_92a3_0242ac1c0002row0_col13\" class=\"data row0 col13\" >0</td>\n",
              "                        <td id=\"T_1eba1454_32d1_11eb_92a3_0242ac1c0002row0_col14\" class=\"data row0 col14\" >0</td>\n",
              "                        <td id=\"T_1eba1454_32d1_11eb_92a3_0242ac1c0002row0_col15\" class=\"data row0 col15\" >0</td>\n",
              "                        <td id=\"T_1eba1454_32d1_11eb_92a3_0242ac1c0002row0_col16\" class=\"data row0 col16\" >0</td>\n",
              "                        <td id=\"T_1eba1454_32d1_11eb_92a3_0242ac1c0002row0_col17\" class=\"data row0 col17\" >0</td>\n",
              "            </tr>\n",
              "            <tr>\n",
              "                        <th id=\"T_1eba1454_32d1_11eb_92a3_0242ac1c0002level0_row1\" class=\"row_heading level0 row1\" >1</th>\n",
              "                        <td id=\"T_1eba1454_32d1_11eb_92a3_0242ac1c0002row1_col0\" class=\"data row1 col0\" >0</td>\n",
              "                        <td id=\"T_1eba1454_32d1_11eb_92a3_0242ac1c0002row1_col1\" class=\"data row1 col1\" >0</td>\n",
              "                        <td id=\"T_1eba1454_32d1_11eb_92a3_0242ac1c0002row1_col2\" class=\"data row1 col2\" >0</td>\n",
              "                        <td id=\"T_1eba1454_32d1_11eb_92a3_0242ac1c0002row1_col3\" class=\"data row1 col3\" >0</td>\n",
              "                        <td id=\"T_1eba1454_32d1_11eb_92a3_0242ac1c0002row1_col4\" class=\"data row1 col4\" >0</td>\n",
              "                        <td id=\"T_1eba1454_32d1_11eb_92a3_0242ac1c0002row1_col5\" class=\"data row1 col5\" >29</td>\n",
              "                        <td id=\"T_1eba1454_32d1_11eb_92a3_0242ac1c0002row1_col6\" class=\"data row1 col6\" >150</td>\n",
              "                        <td id=\"T_1eba1454_32d1_11eb_92a3_0242ac1c0002row1_col7\" class=\"data row1 col7\" >195</td>\n",
              "                        <td id=\"T_1eba1454_32d1_11eb_92a3_0242ac1c0002row1_col8\" class=\"data row1 col8\" >254</td>\n",
              "                        <td id=\"T_1eba1454_32d1_11eb_92a3_0242ac1c0002row1_col9\" class=\"data row1 col9\" >255</td>\n",
              "                        <td id=\"T_1eba1454_32d1_11eb_92a3_0242ac1c0002row1_col10\" class=\"data row1 col10\" >254</td>\n",
              "                        <td id=\"T_1eba1454_32d1_11eb_92a3_0242ac1c0002row1_col11\" class=\"data row1 col11\" >176</td>\n",
              "                        <td id=\"T_1eba1454_32d1_11eb_92a3_0242ac1c0002row1_col12\" class=\"data row1 col12\" >193</td>\n",
              "                        <td id=\"T_1eba1454_32d1_11eb_92a3_0242ac1c0002row1_col13\" class=\"data row1 col13\" >150</td>\n",
              "                        <td id=\"T_1eba1454_32d1_11eb_92a3_0242ac1c0002row1_col14\" class=\"data row1 col14\" >96</td>\n",
              "                        <td id=\"T_1eba1454_32d1_11eb_92a3_0242ac1c0002row1_col15\" class=\"data row1 col15\" >0</td>\n",
              "                        <td id=\"T_1eba1454_32d1_11eb_92a3_0242ac1c0002row1_col16\" class=\"data row1 col16\" >0</td>\n",
              "                        <td id=\"T_1eba1454_32d1_11eb_92a3_0242ac1c0002row1_col17\" class=\"data row1 col17\" >0</td>\n",
              "            </tr>\n",
              "            <tr>\n",
              "                        <th id=\"T_1eba1454_32d1_11eb_92a3_0242ac1c0002level0_row2\" class=\"row_heading level0 row2\" >2</th>\n",
              "                        <td id=\"T_1eba1454_32d1_11eb_92a3_0242ac1c0002row2_col0\" class=\"data row2 col0\" >0</td>\n",
              "                        <td id=\"T_1eba1454_32d1_11eb_92a3_0242ac1c0002row2_col1\" class=\"data row2 col1\" >0</td>\n",
              "                        <td id=\"T_1eba1454_32d1_11eb_92a3_0242ac1c0002row2_col2\" class=\"data row2 col2\" >0</td>\n",
              "                        <td id=\"T_1eba1454_32d1_11eb_92a3_0242ac1c0002row2_col3\" class=\"data row2 col3\" >48</td>\n",
              "                        <td id=\"T_1eba1454_32d1_11eb_92a3_0242ac1c0002row2_col4\" class=\"data row2 col4\" >166</td>\n",
              "                        <td id=\"T_1eba1454_32d1_11eb_92a3_0242ac1c0002row2_col5\" class=\"data row2 col5\" >224</td>\n",
              "                        <td id=\"T_1eba1454_32d1_11eb_92a3_0242ac1c0002row2_col6\" class=\"data row2 col6\" >253</td>\n",
              "                        <td id=\"T_1eba1454_32d1_11eb_92a3_0242ac1c0002row2_col7\" class=\"data row2 col7\" >253</td>\n",
              "                        <td id=\"T_1eba1454_32d1_11eb_92a3_0242ac1c0002row2_col8\" class=\"data row2 col8\" >234</td>\n",
              "                        <td id=\"T_1eba1454_32d1_11eb_92a3_0242ac1c0002row2_col9\" class=\"data row2 col9\" >196</td>\n",
              "                        <td id=\"T_1eba1454_32d1_11eb_92a3_0242ac1c0002row2_col10\" class=\"data row2 col10\" >253</td>\n",
              "                        <td id=\"T_1eba1454_32d1_11eb_92a3_0242ac1c0002row2_col11\" class=\"data row2 col11\" >253</td>\n",
              "                        <td id=\"T_1eba1454_32d1_11eb_92a3_0242ac1c0002row2_col12\" class=\"data row2 col12\" >253</td>\n",
              "                        <td id=\"T_1eba1454_32d1_11eb_92a3_0242ac1c0002row2_col13\" class=\"data row2 col13\" >253</td>\n",
              "                        <td id=\"T_1eba1454_32d1_11eb_92a3_0242ac1c0002row2_col14\" class=\"data row2 col14\" >233</td>\n",
              "                        <td id=\"T_1eba1454_32d1_11eb_92a3_0242ac1c0002row2_col15\" class=\"data row2 col15\" >0</td>\n",
              "                        <td id=\"T_1eba1454_32d1_11eb_92a3_0242ac1c0002row2_col16\" class=\"data row2 col16\" >0</td>\n",
              "                        <td id=\"T_1eba1454_32d1_11eb_92a3_0242ac1c0002row2_col17\" class=\"data row2 col17\" >0</td>\n",
              "            </tr>\n",
              "            <tr>\n",
              "                        <th id=\"T_1eba1454_32d1_11eb_92a3_0242ac1c0002level0_row3\" class=\"row_heading level0 row3\" >3</th>\n",
              "                        <td id=\"T_1eba1454_32d1_11eb_92a3_0242ac1c0002row3_col0\" class=\"data row3 col0\" >0</td>\n",
              "                        <td id=\"T_1eba1454_32d1_11eb_92a3_0242ac1c0002row3_col1\" class=\"data row3 col1\" >93</td>\n",
              "                        <td id=\"T_1eba1454_32d1_11eb_92a3_0242ac1c0002row3_col2\" class=\"data row3 col2\" >244</td>\n",
              "                        <td id=\"T_1eba1454_32d1_11eb_92a3_0242ac1c0002row3_col3\" class=\"data row3 col3\" >249</td>\n",
              "                        <td id=\"T_1eba1454_32d1_11eb_92a3_0242ac1c0002row3_col4\" class=\"data row3 col4\" >253</td>\n",
              "                        <td id=\"T_1eba1454_32d1_11eb_92a3_0242ac1c0002row3_col5\" class=\"data row3 col5\" >187</td>\n",
              "                        <td id=\"T_1eba1454_32d1_11eb_92a3_0242ac1c0002row3_col6\" class=\"data row3 col6\" >46</td>\n",
              "                        <td id=\"T_1eba1454_32d1_11eb_92a3_0242ac1c0002row3_col7\" class=\"data row3 col7\" >10</td>\n",
              "                        <td id=\"T_1eba1454_32d1_11eb_92a3_0242ac1c0002row3_col8\" class=\"data row3 col8\" >8</td>\n",
              "                        <td id=\"T_1eba1454_32d1_11eb_92a3_0242ac1c0002row3_col9\" class=\"data row3 col9\" >4</td>\n",
              "                        <td id=\"T_1eba1454_32d1_11eb_92a3_0242ac1c0002row3_col10\" class=\"data row3 col10\" >10</td>\n",
              "                        <td id=\"T_1eba1454_32d1_11eb_92a3_0242ac1c0002row3_col11\" class=\"data row3 col11\" >194</td>\n",
              "                        <td id=\"T_1eba1454_32d1_11eb_92a3_0242ac1c0002row3_col12\" class=\"data row3 col12\" >253</td>\n",
              "                        <td id=\"T_1eba1454_32d1_11eb_92a3_0242ac1c0002row3_col13\" class=\"data row3 col13\" >253</td>\n",
              "                        <td id=\"T_1eba1454_32d1_11eb_92a3_0242ac1c0002row3_col14\" class=\"data row3 col14\" >233</td>\n",
              "                        <td id=\"T_1eba1454_32d1_11eb_92a3_0242ac1c0002row3_col15\" class=\"data row3 col15\" >0</td>\n",
              "                        <td id=\"T_1eba1454_32d1_11eb_92a3_0242ac1c0002row3_col16\" class=\"data row3 col16\" >0</td>\n",
              "                        <td id=\"T_1eba1454_32d1_11eb_92a3_0242ac1c0002row3_col17\" class=\"data row3 col17\" >0</td>\n",
              "            </tr>\n",
              "            <tr>\n",
              "                        <th id=\"T_1eba1454_32d1_11eb_92a3_0242ac1c0002level0_row4\" class=\"row_heading level0 row4\" >4</th>\n",
              "                        <td id=\"T_1eba1454_32d1_11eb_92a3_0242ac1c0002row4_col0\" class=\"data row4 col0\" >0</td>\n",
              "                        <td id=\"T_1eba1454_32d1_11eb_92a3_0242ac1c0002row4_col1\" class=\"data row4 col1\" >107</td>\n",
              "                        <td id=\"T_1eba1454_32d1_11eb_92a3_0242ac1c0002row4_col2\" class=\"data row4 col2\" >253</td>\n",
              "                        <td id=\"T_1eba1454_32d1_11eb_92a3_0242ac1c0002row4_col3\" class=\"data row4 col3\" >253</td>\n",
              "                        <td id=\"T_1eba1454_32d1_11eb_92a3_0242ac1c0002row4_col4\" class=\"data row4 col4\" >230</td>\n",
              "                        <td id=\"T_1eba1454_32d1_11eb_92a3_0242ac1c0002row4_col5\" class=\"data row4 col5\" >48</td>\n",
              "                        <td id=\"T_1eba1454_32d1_11eb_92a3_0242ac1c0002row4_col6\" class=\"data row4 col6\" >0</td>\n",
              "                        <td id=\"T_1eba1454_32d1_11eb_92a3_0242ac1c0002row4_col7\" class=\"data row4 col7\" >0</td>\n",
              "                        <td id=\"T_1eba1454_32d1_11eb_92a3_0242ac1c0002row4_col8\" class=\"data row4 col8\" >0</td>\n",
              "                        <td id=\"T_1eba1454_32d1_11eb_92a3_0242ac1c0002row4_col9\" class=\"data row4 col9\" >0</td>\n",
              "                        <td id=\"T_1eba1454_32d1_11eb_92a3_0242ac1c0002row4_col10\" class=\"data row4 col10\" >0</td>\n",
              "                        <td id=\"T_1eba1454_32d1_11eb_92a3_0242ac1c0002row4_col11\" class=\"data row4 col11\" >192</td>\n",
              "                        <td id=\"T_1eba1454_32d1_11eb_92a3_0242ac1c0002row4_col12\" class=\"data row4 col12\" >253</td>\n",
              "                        <td id=\"T_1eba1454_32d1_11eb_92a3_0242ac1c0002row4_col13\" class=\"data row4 col13\" >253</td>\n",
              "                        <td id=\"T_1eba1454_32d1_11eb_92a3_0242ac1c0002row4_col14\" class=\"data row4 col14\" >156</td>\n",
              "                        <td id=\"T_1eba1454_32d1_11eb_92a3_0242ac1c0002row4_col15\" class=\"data row4 col15\" >0</td>\n",
              "                        <td id=\"T_1eba1454_32d1_11eb_92a3_0242ac1c0002row4_col16\" class=\"data row4 col16\" >0</td>\n",
              "                        <td id=\"T_1eba1454_32d1_11eb_92a3_0242ac1c0002row4_col17\" class=\"data row4 col17\" >0</td>\n",
              "            </tr>\n",
              "            <tr>\n",
              "                        <th id=\"T_1eba1454_32d1_11eb_92a3_0242ac1c0002level0_row5\" class=\"row_heading level0 row5\" >5</th>\n",
              "                        <td id=\"T_1eba1454_32d1_11eb_92a3_0242ac1c0002row5_col0\" class=\"data row5 col0\" >0</td>\n",
              "                        <td id=\"T_1eba1454_32d1_11eb_92a3_0242ac1c0002row5_col1\" class=\"data row5 col1\" >3</td>\n",
              "                        <td id=\"T_1eba1454_32d1_11eb_92a3_0242ac1c0002row5_col2\" class=\"data row5 col2\" >20</td>\n",
              "                        <td id=\"T_1eba1454_32d1_11eb_92a3_0242ac1c0002row5_col3\" class=\"data row5 col3\" >20</td>\n",
              "                        <td id=\"T_1eba1454_32d1_11eb_92a3_0242ac1c0002row5_col4\" class=\"data row5 col4\" >15</td>\n",
              "                        <td id=\"T_1eba1454_32d1_11eb_92a3_0242ac1c0002row5_col5\" class=\"data row5 col5\" >0</td>\n",
              "                        <td id=\"T_1eba1454_32d1_11eb_92a3_0242ac1c0002row5_col6\" class=\"data row5 col6\" >0</td>\n",
              "                        <td id=\"T_1eba1454_32d1_11eb_92a3_0242ac1c0002row5_col7\" class=\"data row5 col7\" >0</td>\n",
              "                        <td id=\"T_1eba1454_32d1_11eb_92a3_0242ac1c0002row5_col8\" class=\"data row5 col8\" >0</td>\n",
              "                        <td id=\"T_1eba1454_32d1_11eb_92a3_0242ac1c0002row5_col9\" class=\"data row5 col9\" >0</td>\n",
              "                        <td id=\"T_1eba1454_32d1_11eb_92a3_0242ac1c0002row5_col10\" class=\"data row5 col10\" >43</td>\n",
              "                        <td id=\"T_1eba1454_32d1_11eb_92a3_0242ac1c0002row5_col11\" class=\"data row5 col11\" >224</td>\n",
              "                        <td id=\"T_1eba1454_32d1_11eb_92a3_0242ac1c0002row5_col12\" class=\"data row5 col12\" >253</td>\n",
              "                        <td id=\"T_1eba1454_32d1_11eb_92a3_0242ac1c0002row5_col13\" class=\"data row5 col13\" >245</td>\n",
              "                        <td id=\"T_1eba1454_32d1_11eb_92a3_0242ac1c0002row5_col14\" class=\"data row5 col14\" >74</td>\n",
              "                        <td id=\"T_1eba1454_32d1_11eb_92a3_0242ac1c0002row5_col15\" class=\"data row5 col15\" >0</td>\n",
              "                        <td id=\"T_1eba1454_32d1_11eb_92a3_0242ac1c0002row5_col16\" class=\"data row5 col16\" >0</td>\n",
              "                        <td id=\"T_1eba1454_32d1_11eb_92a3_0242ac1c0002row5_col17\" class=\"data row5 col17\" >0</td>\n",
              "            </tr>\n",
              "            <tr>\n",
              "                        <th id=\"T_1eba1454_32d1_11eb_92a3_0242ac1c0002level0_row6\" class=\"row_heading level0 row6\" >6</th>\n",
              "                        <td id=\"T_1eba1454_32d1_11eb_92a3_0242ac1c0002row6_col0\" class=\"data row6 col0\" >0</td>\n",
              "                        <td id=\"T_1eba1454_32d1_11eb_92a3_0242ac1c0002row6_col1\" class=\"data row6 col1\" >0</td>\n",
              "                        <td id=\"T_1eba1454_32d1_11eb_92a3_0242ac1c0002row6_col2\" class=\"data row6 col2\" >0</td>\n",
              "                        <td id=\"T_1eba1454_32d1_11eb_92a3_0242ac1c0002row6_col3\" class=\"data row6 col3\" >0</td>\n",
              "                        <td id=\"T_1eba1454_32d1_11eb_92a3_0242ac1c0002row6_col4\" class=\"data row6 col4\" >0</td>\n",
              "                        <td id=\"T_1eba1454_32d1_11eb_92a3_0242ac1c0002row6_col5\" class=\"data row6 col5\" >0</td>\n",
              "                        <td id=\"T_1eba1454_32d1_11eb_92a3_0242ac1c0002row6_col6\" class=\"data row6 col6\" >0</td>\n",
              "                        <td id=\"T_1eba1454_32d1_11eb_92a3_0242ac1c0002row6_col7\" class=\"data row6 col7\" >0</td>\n",
              "                        <td id=\"T_1eba1454_32d1_11eb_92a3_0242ac1c0002row6_col8\" class=\"data row6 col8\" >0</td>\n",
              "                        <td id=\"T_1eba1454_32d1_11eb_92a3_0242ac1c0002row6_col9\" class=\"data row6 col9\" >0</td>\n",
              "                        <td id=\"T_1eba1454_32d1_11eb_92a3_0242ac1c0002row6_col10\" class=\"data row6 col10\" >249</td>\n",
              "                        <td id=\"T_1eba1454_32d1_11eb_92a3_0242ac1c0002row6_col11\" class=\"data row6 col11\" >253</td>\n",
              "                        <td id=\"T_1eba1454_32d1_11eb_92a3_0242ac1c0002row6_col12\" class=\"data row6 col12\" >245</td>\n",
              "                        <td id=\"T_1eba1454_32d1_11eb_92a3_0242ac1c0002row6_col13\" class=\"data row6 col13\" >126</td>\n",
              "                        <td id=\"T_1eba1454_32d1_11eb_92a3_0242ac1c0002row6_col14\" class=\"data row6 col14\" >0</td>\n",
              "                        <td id=\"T_1eba1454_32d1_11eb_92a3_0242ac1c0002row6_col15\" class=\"data row6 col15\" >0</td>\n",
              "                        <td id=\"T_1eba1454_32d1_11eb_92a3_0242ac1c0002row6_col16\" class=\"data row6 col16\" >0</td>\n",
              "                        <td id=\"T_1eba1454_32d1_11eb_92a3_0242ac1c0002row6_col17\" class=\"data row6 col17\" >0</td>\n",
              "            </tr>\n",
              "            <tr>\n",
              "                        <th id=\"T_1eba1454_32d1_11eb_92a3_0242ac1c0002level0_row7\" class=\"row_heading level0 row7\" >7</th>\n",
              "                        <td id=\"T_1eba1454_32d1_11eb_92a3_0242ac1c0002row7_col0\" class=\"data row7 col0\" >0</td>\n",
              "                        <td id=\"T_1eba1454_32d1_11eb_92a3_0242ac1c0002row7_col1\" class=\"data row7 col1\" >0</td>\n",
              "                        <td id=\"T_1eba1454_32d1_11eb_92a3_0242ac1c0002row7_col2\" class=\"data row7 col2\" >0</td>\n",
              "                        <td id=\"T_1eba1454_32d1_11eb_92a3_0242ac1c0002row7_col3\" class=\"data row7 col3\" >0</td>\n",
              "                        <td id=\"T_1eba1454_32d1_11eb_92a3_0242ac1c0002row7_col4\" class=\"data row7 col4\" >0</td>\n",
              "                        <td id=\"T_1eba1454_32d1_11eb_92a3_0242ac1c0002row7_col5\" class=\"data row7 col5\" >0</td>\n",
              "                        <td id=\"T_1eba1454_32d1_11eb_92a3_0242ac1c0002row7_col6\" class=\"data row7 col6\" >0</td>\n",
              "                        <td id=\"T_1eba1454_32d1_11eb_92a3_0242ac1c0002row7_col7\" class=\"data row7 col7\" >14</td>\n",
              "                        <td id=\"T_1eba1454_32d1_11eb_92a3_0242ac1c0002row7_col8\" class=\"data row7 col8\" >101</td>\n",
              "                        <td id=\"T_1eba1454_32d1_11eb_92a3_0242ac1c0002row7_col9\" class=\"data row7 col9\" >223</td>\n",
              "                        <td id=\"T_1eba1454_32d1_11eb_92a3_0242ac1c0002row7_col10\" class=\"data row7 col10\" >253</td>\n",
              "                        <td id=\"T_1eba1454_32d1_11eb_92a3_0242ac1c0002row7_col11\" class=\"data row7 col11\" >248</td>\n",
              "                        <td id=\"T_1eba1454_32d1_11eb_92a3_0242ac1c0002row7_col12\" class=\"data row7 col12\" >124</td>\n",
              "                        <td id=\"T_1eba1454_32d1_11eb_92a3_0242ac1c0002row7_col13\" class=\"data row7 col13\" >0</td>\n",
              "                        <td id=\"T_1eba1454_32d1_11eb_92a3_0242ac1c0002row7_col14\" class=\"data row7 col14\" >0</td>\n",
              "                        <td id=\"T_1eba1454_32d1_11eb_92a3_0242ac1c0002row7_col15\" class=\"data row7 col15\" >0</td>\n",
              "                        <td id=\"T_1eba1454_32d1_11eb_92a3_0242ac1c0002row7_col16\" class=\"data row7 col16\" >0</td>\n",
              "                        <td id=\"T_1eba1454_32d1_11eb_92a3_0242ac1c0002row7_col17\" class=\"data row7 col17\" >0</td>\n",
              "            </tr>\n",
              "            <tr>\n",
              "                        <th id=\"T_1eba1454_32d1_11eb_92a3_0242ac1c0002level0_row8\" class=\"row_heading level0 row8\" >8</th>\n",
              "                        <td id=\"T_1eba1454_32d1_11eb_92a3_0242ac1c0002row8_col0\" class=\"data row8 col0\" >0</td>\n",
              "                        <td id=\"T_1eba1454_32d1_11eb_92a3_0242ac1c0002row8_col1\" class=\"data row8 col1\" >0</td>\n",
              "                        <td id=\"T_1eba1454_32d1_11eb_92a3_0242ac1c0002row8_col2\" class=\"data row8 col2\" >0</td>\n",
              "                        <td id=\"T_1eba1454_32d1_11eb_92a3_0242ac1c0002row8_col3\" class=\"data row8 col3\" >0</td>\n",
              "                        <td id=\"T_1eba1454_32d1_11eb_92a3_0242ac1c0002row8_col4\" class=\"data row8 col4\" >0</td>\n",
              "                        <td id=\"T_1eba1454_32d1_11eb_92a3_0242ac1c0002row8_col5\" class=\"data row8 col5\" >11</td>\n",
              "                        <td id=\"T_1eba1454_32d1_11eb_92a3_0242ac1c0002row8_col6\" class=\"data row8 col6\" >166</td>\n",
              "                        <td id=\"T_1eba1454_32d1_11eb_92a3_0242ac1c0002row8_col7\" class=\"data row8 col7\" >239</td>\n",
              "                        <td id=\"T_1eba1454_32d1_11eb_92a3_0242ac1c0002row8_col8\" class=\"data row8 col8\" >253</td>\n",
              "                        <td id=\"T_1eba1454_32d1_11eb_92a3_0242ac1c0002row8_col9\" class=\"data row8 col9\" >253</td>\n",
              "                        <td id=\"T_1eba1454_32d1_11eb_92a3_0242ac1c0002row8_col10\" class=\"data row8 col10\" >253</td>\n",
              "                        <td id=\"T_1eba1454_32d1_11eb_92a3_0242ac1c0002row8_col11\" class=\"data row8 col11\" >187</td>\n",
              "                        <td id=\"T_1eba1454_32d1_11eb_92a3_0242ac1c0002row8_col12\" class=\"data row8 col12\" >30</td>\n",
              "                        <td id=\"T_1eba1454_32d1_11eb_92a3_0242ac1c0002row8_col13\" class=\"data row8 col13\" >0</td>\n",
              "                        <td id=\"T_1eba1454_32d1_11eb_92a3_0242ac1c0002row8_col14\" class=\"data row8 col14\" >0</td>\n",
              "                        <td id=\"T_1eba1454_32d1_11eb_92a3_0242ac1c0002row8_col15\" class=\"data row8 col15\" >0</td>\n",
              "                        <td id=\"T_1eba1454_32d1_11eb_92a3_0242ac1c0002row8_col16\" class=\"data row8 col16\" >0</td>\n",
              "                        <td id=\"T_1eba1454_32d1_11eb_92a3_0242ac1c0002row8_col17\" class=\"data row8 col17\" >0</td>\n",
              "            </tr>\n",
              "            <tr>\n",
              "                        <th id=\"T_1eba1454_32d1_11eb_92a3_0242ac1c0002level0_row9\" class=\"row_heading level0 row9\" >9</th>\n",
              "                        <td id=\"T_1eba1454_32d1_11eb_92a3_0242ac1c0002row9_col0\" class=\"data row9 col0\" >0</td>\n",
              "                        <td id=\"T_1eba1454_32d1_11eb_92a3_0242ac1c0002row9_col1\" class=\"data row9 col1\" >0</td>\n",
              "                        <td id=\"T_1eba1454_32d1_11eb_92a3_0242ac1c0002row9_col2\" class=\"data row9 col2\" >0</td>\n",
              "                        <td id=\"T_1eba1454_32d1_11eb_92a3_0242ac1c0002row9_col3\" class=\"data row9 col3\" >0</td>\n",
              "                        <td id=\"T_1eba1454_32d1_11eb_92a3_0242ac1c0002row9_col4\" class=\"data row9 col4\" >0</td>\n",
              "                        <td id=\"T_1eba1454_32d1_11eb_92a3_0242ac1c0002row9_col5\" class=\"data row9 col5\" >16</td>\n",
              "                        <td id=\"T_1eba1454_32d1_11eb_92a3_0242ac1c0002row9_col6\" class=\"data row9 col6\" >248</td>\n",
              "                        <td id=\"T_1eba1454_32d1_11eb_92a3_0242ac1c0002row9_col7\" class=\"data row9 col7\" >250</td>\n",
              "                        <td id=\"T_1eba1454_32d1_11eb_92a3_0242ac1c0002row9_col8\" class=\"data row9 col8\" >253</td>\n",
              "                        <td id=\"T_1eba1454_32d1_11eb_92a3_0242ac1c0002row9_col9\" class=\"data row9 col9\" >253</td>\n",
              "                        <td id=\"T_1eba1454_32d1_11eb_92a3_0242ac1c0002row9_col10\" class=\"data row9 col10\" >253</td>\n",
              "                        <td id=\"T_1eba1454_32d1_11eb_92a3_0242ac1c0002row9_col11\" class=\"data row9 col11\" >253</td>\n",
              "                        <td id=\"T_1eba1454_32d1_11eb_92a3_0242ac1c0002row9_col12\" class=\"data row9 col12\" >232</td>\n",
              "                        <td id=\"T_1eba1454_32d1_11eb_92a3_0242ac1c0002row9_col13\" class=\"data row9 col13\" >213</td>\n",
              "                        <td id=\"T_1eba1454_32d1_11eb_92a3_0242ac1c0002row9_col14\" class=\"data row9 col14\" >111</td>\n",
              "                        <td id=\"T_1eba1454_32d1_11eb_92a3_0242ac1c0002row9_col15\" class=\"data row9 col15\" >2</td>\n",
              "                        <td id=\"T_1eba1454_32d1_11eb_92a3_0242ac1c0002row9_col16\" class=\"data row9 col16\" >0</td>\n",
              "                        <td id=\"T_1eba1454_32d1_11eb_92a3_0242ac1c0002row9_col17\" class=\"data row9 col17\" >0</td>\n",
              "            </tr>\n",
              "            <tr>\n",
              "                        <th id=\"T_1eba1454_32d1_11eb_92a3_0242ac1c0002level0_row10\" class=\"row_heading level0 row10\" >10</th>\n",
              "                        <td id=\"T_1eba1454_32d1_11eb_92a3_0242ac1c0002row10_col0\" class=\"data row10 col0\" >0</td>\n",
              "                        <td id=\"T_1eba1454_32d1_11eb_92a3_0242ac1c0002row10_col1\" class=\"data row10 col1\" >0</td>\n",
              "                        <td id=\"T_1eba1454_32d1_11eb_92a3_0242ac1c0002row10_col2\" class=\"data row10 col2\" >0</td>\n",
              "                        <td id=\"T_1eba1454_32d1_11eb_92a3_0242ac1c0002row10_col3\" class=\"data row10 col3\" >0</td>\n",
              "                        <td id=\"T_1eba1454_32d1_11eb_92a3_0242ac1c0002row10_col4\" class=\"data row10 col4\" >0</td>\n",
              "                        <td id=\"T_1eba1454_32d1_11eb_92a3_0242ac1c0002row10_col5\" class=\"data row10 col5\" >0</td>\n",
              "                        <td id=\"T_1eba1454_32d1_11eb_92a3_0242ac1c0002row10_col6\" class=\"data row10 col6\" >0</td>\n",
              "                        <td id=\"T_1eba1454_32d1_11eb_92a3_0242ac1c0002row10_col7\" class=\"data row10 col7\" >43</td>\n",
              "                        <td id=\"T_1eba1454_32d1_11eb_92a3_0242ac1c0002row10_col8\" class=\"data row10 col8\" >98</td>\n",
              "                        <td id=\"T_1eba1454_32d1_11eb_92a3_0242ac1c0002row10_col9\" class=\"data row10 col9\" >98</td>\n",
              "                        <td id=\"T_1eba1454_32d1_11eb_92a3_0242ac1c0002row10_col10\" class=\"data row10 col10\" >208</td>\n",
              "                        <td id=\"T_1eba1454_32d1_11eb_92a3_0242ac1c0002row10_col11\" class=\"data row10 col11\" >253</td>\n",
              "                        <td id=\"T_1eba1454_32d1_11eb_92a3_0242ac1c0002row10_col12\" class=\"data row10 col12\" >253</td>\n",
              "                        <td id=\"T_1eba1454_32d1_11eb_92a3_0242ac1c0002row10_col13\" class=\"data row10 col13\" >253</td>\n",
              "                        <td id=\"T_1eba1454_32d1_11eb_92a3_0242ac1c0002row10_col14\" class=\"data row10 col14\" >253</td>\n",
              "                        <td id=\"T_1eba1454_32d1_11eb_92a3_0242ac1c0002row10_col15\" class=\"data row10 col15\" >187</td>\n",
              "                        <td id=\"T_1eba1454_32d1_11eb_92a3_0242ac1c0002row10_col16\" class=\"data row10 col16\" >22</td>\n",
              "                        <td id=\"T_1eba1454_32d1_11eb_92a3_0242ac1c0002row10_col17\" class=\"data row10 col17\" >0</td>\n",
              "            </tr>\n",
              "    </tbody></table>"
            ],
            "text/plain": [
              "<pandas.io.formats.style.Styler at 0x7f0e9e5c8cc0>"
            ]
          },
          "metadata": {
            "tags": []
          },
          "execution_count": 17
        }
      ]
    },
    {
      "cell_type": "code",
      "metadata": {
        "colab": {
          "base_uri": "https://localhost:8080/"
        },
        "id": "UdqeE9sWAa7q",
        "outputId": "06b66712-f437-461d-d92e-e66abea47d28"
      },
      "source": [
        "len(im3_t[0])\n",
        "\n",
        "# one row is 28"
      ],
      "execution_count": 18,
      "outputs": [
        {
          "output_type": "execute_result",
          "data": {
            "text/plain": [
              "28"
            ]
          },
          "metadata": {
            "tags": []
          },
          "execution_count": 18
        }
      ]
    },
    {
      "cell_type": "code",
      "metadata": {
        "colab": {
          "base_uri": "https://localhost:8080/"
        },
        "id": "5l-Omevl1ziD",
        "outputId": "c69194d6-a354-4b8d-e865-8839d47599b3"
      },
      "source": [
        "seven_tensors = [tensor(Image.open(o)) for o in sevens]\n",
        "three_tensors = [tensor(Image.open(o)) for o in threes]\n",
        "len(three_tensors), len(seven_tensors)"
      ],
      "execution_count": 19,
      "outputs": [
        {
          "output_type": "execute_result",
          "data": {
            "text/plain": [
              "(6131, 6265)"
            ]
          },
          "metadata": {
            "tags": []
          },
          "execution_count": 19
        }
      ]
    },
    {
      "cell_type": "code",
      "metadata": {
        "id": "lgN3fe9X7C4s"
      },
      "source": [
        "from fastai.vision.all import show_image"
      ],
      "execution_count": 20,
      "outputs": []
    },
    {
      "cell_type": "code",
      "metadata": {
        "colab": {
          "base_uri": "https://localhost:8080/",
          "height": 102
        },
        "id": "5h_K0HFw68hl",
        "outputId": "469e6cef-c194-4822-9b3a-c505af2382c8"
      },
      "source": [
        "show_image(three_tensors[1])"
      ],
      "execution_count": 21,
      "outputs": [
        {
          "output_type": "execute_result",
          "data": {
            "text/plain": [
              "<matplotlib.axes._subplots.AxesSubplot at 0x7f0e9e270470>"
            ]
          },
          "metadata": {
            "tags": []
          },
          "execution_count": 21
        },
        {
          "output_type": "display_data",
          "data": {
            "image/png": "[encoded data removed]",
            "text/plain": [
              "<Figure size 72x72 with 1 Axes>"
            ]
          },
          "metadata": {
            "tags": [],
            "needs_background": "light"
          }
        }
      ]
    },
    {
      "cell_type": "code",
      "metadata": {
        "id": "2OKxVnST8qHJ"
      },
      "source": [
        "import matplotlib"
      ],
      "execution_count": 22,
      "outputs": []
    },
    {
      "cell_type": "code",
      "metadata": {
        "id": "IICq5ZO28kUa"
      },
      "source": [
        "matplotlib.rc('image',cmap='Greys')"
      ],
      "execution_count": 23,
      "outputs": []
    },
    {
      "cell_type": "code",
      "metadata": {
        "colab": {
          "base_uri": "https://localhost:8080/",
          "height": 102
        },
        "id": "B_6uNVOA8suu",
        "outputId": "64689b3d-1952-47de-a850-061e27868918"
      },
      "source": [
        "show_image(three_tensors[1])"
      ],
      "execution_count": 24,
      "outputs": [
        {
          "output_type": "execute_result",
          "data": {
            "text/plain": [
              "<matplotlib.axes._subplots.AxesSubplot at 0x7f0e9de64438>"
            ]
          },
          "metadata": {
            "tags": []
          },
          "execution_count": 24
        },
        {
          "output_type": "display_data",
          "data": {
            "image/png": "[encoded data removed]",
            "text/plain": [
              "<Figure size 72x72 with 1 Axes>"
            ]
          },
          "metadata": {
            "tags": [],
            "needs_background": "light"
          }
        }
      ]
    },
    {
      "cell_type": "code",
      "metadata": {
        "id": "-aDQF4OL8YsH"
      },
      "source": [
        "import torch"
      ],
      "execution_count": 25,
      "outputs": []
    },
    {
      "cell_type": "code",
      "metadata": {
        "colab": {
          "base_uri": "https://localhost:8080/"
        },
        "id": "rb1vuPFg-45o",
        "outputId": "50e097a5-2bd3-43b3-815f-d72cf5e57a05"
      },
      "source": [
        "torch.stack(seven_tensors)[0][15]"
      ],
      "execution_count": 26,
      "outputs": [
        {
          "output_type": "execute_result",
          "data": {
            "text/plain": [
              "tensor([  0,   0,   0,   0,   0,   0,   0,   0,   0,   0,   0,   0,   0,  31,\n",
              "        213, 254, 252, 252,  49,   0,   0,   0,   0,   0,   0,   0,   0,   0],\n",
              "       dtype=torch.uint8)"
            ]
          },
          "metadata": {
            "tags": []
          },
          "execution_count": 26
        }
      ]
    },
    {
      "cell_type": "code",
      "metadata": {
        "colab": {
          "base_uri": "https://localhost:8080/"
        },
        "id": "KB0Z9Jqm_hd7",
        "outputId": "894e8f72-6f6c-4cbe-ad81-ec396b74d304"
      },
      "source": [
        "torch.stack(seven_tensors)[0][15]/255"
      ],
      "execution_count": 27,
      "outputs": [
        {
          "output_type": "execute_result",
          "data": {
            "text/plain": [
              "tensor([0.0000, 0.0000, 0.0000, 0.0000, 0.0000, 0.0000, 0.0000, 0.0000, 0.0000,\n",
              "        0.0000, 0.0000, 0.0000, 0.0000, 0.1216, 0.8353, 0.9961, 0.9882, 0.9882,\n",
              "        0.1922, 0.0000, 0.0000, 0.0000, 0.0000, 0.0000, 0.0000, 0.0000, 0.0000,\n",
              "        0.0000])"
            ]
          },
          "metadata": {
            "tags": []
          },
          "execution_count": 27
        }
      ]
    },
    {
      "cell_type": "code",
      "metadata": {
        "colab": {
          "base_uri": "https://localhost:8080/"
        },
        "id": "x9SMKKTb82wA",
        "outputId": "7d634e03-d4f1-4c22-b971-c6eee3abe33a"
      },
      "source": [
        "# combining all images into a single three dimensional tensor rank-3\n",
        "torch.stack(seven_tensors).float()[0][15]"
      ],
      "execution_count": 28,
      "outputs": [
        {
          "output_type": "execute_result",
          "data": {
            "text/plain": [
              "tensor([  0.,   0.,   0.,   0.,   0.,   0.,   0.,   0.,   0.,   0.,   0.,   0.,\n",
              "          0.,  31., 213., 254., 252., 252.,  49.,   0.,   0.,   0.,   0.,   0.,\n",
              "          0.,   0.,   0.,   0.])"
            ]
          },
          "metadata": {
            "tags": []
          },
          "execution_count": 28
        }
      ]
    },
    {
      "cell_type": "code",
      "metadata": {
        "colab": {
          "base_uri": "https://localhost:8080/"
        },
        "id": "qHDWi3wy9GXy",
        "outputId": "b871c808-b235-4d6c-dc21-425fa00e3b61"
      },
      "source": [
        "torch.stack(seven_tensors).float()[0][15]/255\n",
        "\n",
        "#so .float() is actually not required"
      ],
      "execution_count": 29,
      "outputs": [
        {
          "output_type": "execute_result",
          "data": {
            "text/plain": [
              "tensor([0.0000, 0.0000, 0.0000, 0.0000, 0.0000, 0.0000, 0.0000, 0.0000, 0.0000,\n",
              "        0.0000, 0.0000, 0.0000, 0.0000, 0.1216, 0.8353, 0.9961, 0.9882, 0.9882,\n",
              "        0.1922, 0.0000, 0.0000, 0.0000, 0.0000, 0.0000, 0.0000, 0.0000, 0.0000,\n",
              "        0.0000])"
            ]
          },
          "metadata": {
            "tags": []
          },
          "execution_count": 29
        }
      ]
    },
    {
      "cell_type": "code",
      "metadata": {
        "colab": {
          "base_uri": "https://localhost:8080/"
        },
        "id": "eUkD3CIy8J3V",
        "outputId": "14cc802d-518d-46a1-ffbd-42ef07b6e74c"
      },
      "source": [
        "stacked_sevens = torch.stack(seven_tensors)/255\n",
        "stacked_threes = torch.stack(three_tensors)/255\n",
        "stacked_threes.shape"
      ],
      "execution_count": 30,
      "outputs": [
        {
          "output_type": "execute_result",
          "data": {
            "text/plain": [
              "torch.Size([6131, 28, 28])"
            ]
          },
          "metadata": {
            "tags": []
          },
          "execution_count": 30
        }
      ]
    },
    {
      "cell_type": "code",
      "metadata": {
        "colab": {
          "base_uri": "https://localhost:8080/"
        },
        "id": "S90XdNja_gjq",
        "outputId": "74376e6c-1dd9-450a-cf31-1513394e5adb"
      },
      "source": [
        "stacked_threes.ndim, len(stacked_threes.shape)\n",
        "\n",
        "# both give you the rank"
      ],
      "execution_count": 31,
      "outputs": [
        {
          "output_type": "execute_result",
          "data": {
            "text/plain": [
              "(3, 3)"
            ]
          },
          "metadata": {
            "tags": []
          },
          "execution_count": 31
        }
      ]
    },
    {
      "cell_type": "code",
      "metadata": {
        "colab": {
          "base_uri": "https://localhost:8080/",
          "height": 102
        },
        "id": "8sibr3UqBhC-",
        "outputId": "6cfa385d-d0c1-4d17-9781-39813b3971b6"
      },
      "source": [
        "# we are calculating mean along the third dimension\n",
        "\n",
        "mean3 = stacked_threes.mean(0)\n",
        "show_image(mean3)"
      ],
      "execution_count": 32,
      "outputs": [
        {
          "output_type": "execute_result",
          "data": {
            "text/plain": [
              "<matplotlib.axes._subplots.AxesSubplot at 0x7f0e9de7c198>"
            ]
          },
          "metadata": {
            "tags": []
          },
          "execution_count": 32
        },
        {
          "output_type": "display_data",
          "data": {
            "image/png": "[encoded data removed]",
            "text/plain": [
              "<Figure size 72x72 with 1 Axes>"
            ]
          },
          "metadata": {
            "tags": [],
            "needs_background": "light"
          }
        }
      ]
    },
    {
      "cell_type": "code",
      "metadata": {
        "colab": {
          "base_uri": "https://localhost:8080/",
          "height": 102
        },
        "id": "0XZEcZY3CDkD",
        "outputId": "12d15704-689e-4967-a322-c3d293f17534"
      },
      "source": [
        "mean7 = stacked_sevens.mean(0)\n",
        "show_image(mean7)"
      ],
      "execution_count": 33,
      "outputs": [
        {
          "output_type": "execute_result",
          "data": {
            "text/plain": [
              "<matplotlib.axes._subplots.AxesSubplot at 0x7f0e9ddf4588>"
            ]
          },
          "metadata": {
            "tags": []
          },
          "execution_count": 33
        },
        {
          "output_type": "display_data",
          "data": {
            "image/png": "[encoded data removed]",
            "text/plain": [
              "<Figure size 72x72 with 1 Axes>"
            ]
          },
          "metadata": {
            "tags": [],
            "needs_background": "light"
          }
        }
      ]
    },
    {
      "cell_type": "code",
      "metadata": {
        "colab": {
          "base_uri": "https://localhost:8080/",
          "height": 102
        },
        "id": "0Dfp18lCDTFJ",
        "outputId": "f8d8f963-5f18-4505-e62f-dcc58579fa58"
      },
      "source": [
        "show_image(seven_tensors[0]/255)"
      ],
      "execution_count": 34,
      "outputs": [
        {
          "output_type": "execute_result",
          "data": {
            "text/plain": [
              "<matplotlib.axes._subplots.AxesSubplot at 0x7f0e9d8f1710>"
            ]
          },
          "metadata": {
            "tags": []
          },
          "execution_count": 34
        },
        {
          "output_type": "display_data",
          "data": {
            "image/png": "[encoded data removed]",
            "text/plain": [
              "<Figure size 72x72 with 1 Axes>"
            ]
          },
          "metadata": {
            "tags": [],
            "needs_background": "light"
          }
        }
      ]
    },
    {
      "cell_type": "code",
      "metadata": {
        "colab": {
          "base_uri": "https://localhost:8080/",
          "height": 102
        },
        "id": "zPItDZdBEKS5",
        "outputId": "9b6f0f2d-3170-44a5-fb75-23d33e5e7348"
      },
      "source": [
        "show_image(seven_tensors[0])"
      ],
      "execution_count": 35,
      "outputs": [
        {
          "output_type": "execute_result",
          "data": {
            "text/plain": [
              "<matplotlib.axes._subplots.AxesSubplot at 0x7f0e9d8b92e8>"
            ]
          },
          "metadata": {
            "tags": []
          },
          "execution_count": 35
        },
        {
          "output_type": "display_data",
          "data": {
            "image/png": "[encoded data removed]",
            "text/plain": [
              "<Figure size 72x72 with 1 Axes>"
            ]
          },
          "metadata": {
            "tags": [],
            "needs_background": "light"
          }
        }
      ]
    },
    {
      "cell_type": "code",
      "metadata": {
        "colab": {
          "base_uri": "https://localhost:8080/"
        },
        "id": "SQfxmFWzCiIm",
        "outputId": "7dd81204-c28c-4c35-806d-4795f6c6f541"
      },
      "source": [
        "# comparing mean and non mean individual tensor\n",
        "mean7[15], mean7[0]"
      ],
      "execution_count": 36,
      "outputs": [
        {
          "output_type": "execute_result",
          "data": {
            "text/plain": [
              "(tensor([4.3816e-06, 0.0000e+00, 5.6836e-04, 3.7300e-03, 1.2270e-02, 2.9221e-02,\n",
              "         5.1234e-02, 6.9077e-02, 7.5365e-02, 7.1040e-02, 6.0305e-02, 5.5971e-02,\n",
              "         6.1929e-02, 1.0186e-01, 2.4922e-01, 5.2006e-01, 7.1947e-01, 7.1291e-01,\n",
              "         5.1599e-01, 2.8805e-01, 1.3401e-01, 6.1220e-02, 2.9522e-02, 1.3213e-02,\n",
              "         4.8686e-03, 9.5833e-04, 0.0000e+00, 0.0000e+00]),\n",
              " tensor([0., 0., 0., 0., 0., 0., 0., 0., 0., 0., 0., 0., 0., 0., 0., 0., 0., 0., 0., 0., 0., 0., 0., 0.,\n",
              "         0., 0., 0., 0.]))"
            ]
          },
          "metadata": {
            "tags": []
          },
          "execution_count": 36
        }
      ]
    },
    {
      "cell_type": "code",
      "metadata": {
        "colab": {
          "base_uri": "https://localhost:8080/"
        },
        "id": "vs1QFqCTCxZ5",
        "outputId": "f8914cda-25be-4d84-82c5-f53770f2ad20"
      },
      "source": [
        "torch.stack(seven_tensors)[0][15]/255, torch.stack(seven_tensors)[0][15]"
      ],
      "execution_count": 37,
      "outputs": [
        {
          "output_type": "execute_result",
          "data": {
            "text/plain": [
              "(tensor([0.0000, 0.0000, 0.0000, 0.0000, 0.0000, 0.0000, 0.0000, 0.0000, 0.0000,\n",
              "         0.0000, 0.0000, 0.0000, 0.0000, 0.1216, 0.8353, 0.9961, 0.9882, 0.9882,\n",
              "         0.1922, 0.0000, 0.0000, 0.0000, 0.0000, 0.0000, 0.0000, 0.0000, 0.0000,\n",
              "         0.0000]),\n",
              " tensor([  0,   0,   0,   0,   0,   0,   0,   0,   0,   0,   0,   0,   0,  31,\n",
              "         213, 254, 252, 252,  49,   0,   0,   0,   0,   0,   0,   0,   0,   0],\n",
              "        dtype=torch.uint8))"
            ]
          },
          "metadata": {
            "tags": []
          },
          "execution_count": 37
        }
      ]
    },
    {
      "cell_type": "code",
      "metadata": {
        "colab": {
          "base_uri": "https://localhost:8080/",
          "height": 102
        },
        "id": "VM61USlpEntn",
        "outputId": "ec61e96a-ec0d-4e20-f6ac-38034a79658f"
      },
      "source": [
        "# determining the difference of ideal three to the three\n",
        "\n",
        "a_3 = stacked_threes[0]\n",
        "show_image(a_3)"
      ],
      "execution_count": 38,
      "outputs": [
        {
          "output_type": "execute_result",
          "data": {
            "text/plain": [
              "<matplotlib.axes._subplots.AxesSubplot at 0x7f0e9d87d7b8>"
            ]
          },
          "metadata": {
            "tags": []
          },
          "execution_count": 38
        },
        {
          "output_type": "display_data",
          "data": {
            "image/png": "[encoded data removed]",
            "text/plain": [
              "<Figure size 72x72 with 1 Axes>"
            ]
          },
          "metadata": {
            "tags": [],
            "needs_background": "light"
          }
        }
      ]
    },
    {
      "cell_type": "code",
      "metadata": {
        "colab": {
          "base_uri": "https://localhost:8080/"
        },
        "id": "02w8lIP6FGgd",
        "outputId": "1a51c15b-df05-4190-a8f2-f8466f2a823e"
      },
      "source": [
        "(a_3 - mean3)[15]"
      ],
      "execution_count": 39,
      "outputs": [
        {
          "output_type": "execute_result",
          "data": {
            "text/plain": [
              "tensor([ 0.0000e+00, -1.4456e-04, -7.1702e-04, -2.3385e-03, -6.0221e-03,\n",
              "        -1.1625e-02, -1.9489e-02, -4.1298e-02, -9.1916e-02, -1.7655e-01,\n",
              "        -2.7350e-01, -3.4554e-01, -9.1617e-02, -3.4511e-02, -3.9262e-02,\n",
              "        -4.8867e-02,  4.6845e-01,  4.4916e-01,  1.1364e-01, -4.6004e-01,\n",
              "        -2.9679e-01, -1.4911e-01, -6.0777e-02, -1.5610e-02, -1.8025e-03,\n",
              "        -3.1981e-06, -1.3368e-04,  0.0000e+00])"
            ]
          },
          "metadata": {
            "tags": []
          },
          "execution_count": 39
        }
      ]
    },
    {
      "cell_type": "code",
      "metadata": {
        "colab": {
          "base_uri": "https://localhost:8080/"
        },
        "id": "OMUZnfUnIBw_",
        "outputId": "0ae5ec2f-7d93-4e8a-89b9-c96dfc6585b0"
      },
      "source": [
        "((a_3 - mean3)**2)[15]"
      ],
      "execution_count": 40,
      "outputs": [
        {
          "output_type": "execute_result",
          "data": {
            "text/plain": [
              "tensor([0.0000e+00, 2.0897e-08, 5.1412e-07, 5.4685e-06, 3.6266e-05, 1.3515e-04,\n",
              "        3.7982e-04, 1.7055e-03, 8.4486e-03, 3.1171e-02, 7.4805e-02, 1.1940e-01,\n",
              "        8.3937e-03, 1.1910e-03, 1.5415e-03, 2.3880e-03, 2.1945e-01, 2.0174e-01,\n",
              "        1.2913e-02, 2.1163e-01, 8.8085e-02, 2.2235e-02, 3.6938e-03, 2.4368e-04,\n",
              "        3.2489e-06, 1.0228e-11, 1.7871e-08, 0.0000e+00])"
            ]
          },
          "metadata": {
            "tags": []
          },
          "execution_count": 40
        }
      ]
    },
    {
      "cell_type": "code",
      "metadata": {
        "colab": {
          "base_uri": "https://localhost:8080/"
        },
        "id": "RDOsIDE2INJb",
        "outputId": "6f9b2e98-01d1-4da1-b483-f0c98b3550ec"
      },
      "source": [
        "(a_3 - mean3).abs()[15]"
      ],
      "execution_count": 41,
      "outputs": [
        {
          "output_type": "execute_result",
          "data": {
            "text/plain": [
              "tensor([0.0000e+00, 1.4456e-04, 7.1702e-04, 2.3385e-03, 6.0221e-03, 1.1625e-02,\n",
              "        1.9489e-02, 4.1298e-02, 9.1916e-02, 1.7655e-01, 2.7350e-01, 3.4554e-01,\n",
              "        9.1617e-02, 3.4511e-02, 3.9262e-02, 4.8867e-02, 4.6845e-01, 4.4916e-01,\n",
              "        1.1364e-01, 4.6004e-01, 2.9679e-01, 1.4911e-01, 6.0777e-02, 1.5610e-02,\n",
              "        1.8025e-03, 3.1981e-06, 1.3368e-04, 0.0000e+00])"
            ]
          },
          "metadata": {
            "tags": []
          },
          "execution_count": 41
        }
      ]
    },
    {
      "cell_type": "code",
      "metadata": {
        "colab": {
          "base_uri": "https://localhost:8080/"
        },
        "id": "eZLOjIS3Ifpc",
        "outputId": "c4562f2f-194e-4f8e-c78c-04afed39c7eb"
      },
      "source": [
        "(a_3-mean3).abs().shape"
      ],
      "execution_count": 42,
      "outputs": [
        {
          "output_type": "execute_result",
          "data": {
            "text/plain": [
              "torch.Size([28, 28])"
            ]
          },
          "metadata": {
            "tags": []
          },
          "execution_count": 42
        }
      ]
    },
    {
      "cell_type": "code",
      "metadata": {
        "colab": {
          "base_uri": "https://localhost:8080/"
        },
        "id": "lPQuN75EI1Ki",
        "outputId": "d60093c0-32c5-4b05-955f-1f383c1f5866"
      },
      "source": [
        "(a_3-mean3).abs().mean(0)"
      ],
      "execution_count": 43,
      "outputs": [
        {
          "output_type": "execute_result",
          "data": {
            "text/plain": [
              "tensor([0.0000e+00, 9.1056e-05, 1.8667e-03, 9.9311e-03, 2.5490e-02, 4.6362e-02,\n",
              "        6.8136e-02, 1.2514e-01, 1.3793e-01, 1.5160e-01, 1.5512e-01, 1.5906e-01,\n",
              "        1.8649e-01, 2.1593e-01, 2.2719e-01, 2.5144e-01, 2.9355e-01, 2.7811e-01,\n",
              "        1.7514e-01, 2.3283e-01, 1.5041e-01, 7.7075e-02, 3.0496e-02, 7.6713e-03,\n",
              "        7.3203e-04, 1.9806e-05, 1.0074e-05, 0.0000e+00])"
            ]
          },
          "metadata": {
            "tags": []
          },
          "execution_count": 43
        }
      ]
    },
    {
      "cell_type": "code",
      "metadata": {
        "colab": {
          "base_uri": "https://localhost:8080/"
        },
        "id": "zgD4nMH2I92r",
        "outputId": "9472b0b6-72ff-46f5-c255-916305c9c6fc"
      },
      "source": [
        "(a_3-mean3).abs().mean(0).mean(0)"
      ],
      "execution_count": 44,
      "outputs": [
        {
          "output_type": "execute_result",
          "data": {
            "text/plain": [
              "tensor(0.1074)"
            ]
          },
          "metadata": {
            "tags": []
          },
          "execution_count": 44
        }
      ]
    },
    {
      "cell_type": "code",
      "metadata": {
        "colab": {
          "base_uri": "https://localhost:8080/",
          "height": 102
        },
        "id": "KOwOgsX6PJhc",
        "outputId": "0cf88a59-2082-4d63-fe81-d8de6004d14f"
      },
      "source": [
        "a_7 = stacked_sevens[0]\n",
        "show_image(a_7)"
      ],
      "execution_count": 45,
      "outputs": [
        {
          "output_type": "execute_result",
          "data": {
            "text/plain": [
              "<matplotlib.axes._subplots.AxesSubplot at 0x7f0e9d7c55c0>"
            ]
          },
          "metadata": {
            "tags": []
          },
          "execution_count": 45
        },
        {
          "output_type": "display_data",
          "data": {
            "image/png": "[encoded data removed]",
            "text/plain": [
              "<Figure size 72x72 with 1 Axes>"
            ]
          },
          "metadata": {
            "tags": [],
            "needs_background": "light"
          }
        }
      ]
    },
    {
      "cell_type": "code",
      "metadata": {
        "colab": {
          "base_uri": "https://localhost:8080/"
        },
        "id": "QOvehzGxTQTh",
        "outputId": "026f9619-78b9-4b36-d806-21dc546c9e28"
      },
      "source": [
        "dist_7_abs = (a_7 - mean7).abs().mean()\n",
        "dist_7_sqr = ((a_7- mean7)**2).mean().sqrt()\n",
        "dist_7_abs, dist_7_sqr"
      ],
      "execution_count": 46,
      "outputs": [
        {
          "output_type": "execute_result",
          "data": {
            "text/plain": [
              "(tensor(0.1095), tensor(0.2196))"
            ]
          },
          "metadata": {
            "tags": []
          },
          "execution_count": 46
        }
      ]
    },
    {
      "cell_type": "code",
      "metadata": {
        "colab": {
          "base_uri": "https://localhost:8080/"
        },
        "id": "dq2dgRSHTpOz",
        "outputId": "784fc05f-337b-4b14-8aba-c25f2e2a1f9e"
      },
      "source": [
        "dist_3_abs = (a_3 - mean7).abs().mean()\n",
        "dist_3_sqr = ((a_3- mean7)**2).mean().sqrt()\n",
        "dist_3_abs, dist_3_sqr"
      ],
      "execution_count": 47,
      "outputs": [
        {
          "output_type": "execute_result",
          "data": {
            "text/plain": [
              "(tensor(0.1441), tensor(0.2780))"
            ]
          },
          "metadata": {
            "tags": []
          },
          "execution_count": 47
        }
      ]
    },
    {
      "cell_type": "code",
      "metadata": {
        "id": "3DfXEAvYUeGo"
      },
      "source": [
        "from fastai.vision.all import F\n",
        "\n",
        "# it comes from torch.nn.functional"
      ],
      "execution_count": 48,
      "outputs": []
    },
    {
      "cell_type": "code",
      "metadata": {
        "colab": {
          "base_uri": "https://localhost:8080/"
        },
        "id": "zvQVMH0sUEri",
        "outputId": "dd97290e-e983-4684-c709-c7477c9bae32"
      },
      "source": [
        "# pytorch.loss functions\n",
        "F.l1_loss(a_7,mean7), F.mse_loss(a_7, mean7).sqrt()"
      ],
      "execution_count": 49,
      "outputs": [
        {
          "output_type": "execute_result",
          "data": {
            "text/plain": [
              "(tensor(0.1095), tensor(0.2196))"
            ]
          },
          "metadata": {
            "tags": []
          },
          "execution_count": 49
        }
      ]
    },
    {
      "cell_type": "markdown",
      "metadata": {
        "id": "yFf7xY9iU67s"
      },
      "source": [
        "why to use tensors than normal array because they are fast\n",
        "\n",
        "Numpy and pytorch tensor vaies that that pytorch tenorshoud have same basic type for all basic arrays.\n",
        "\n",
        "Pytorch structures aremade for GPU, and can automatically find derivatives.\n",
        "\n"
      ]
    },
    {
      "cell_type": "code",
      "metadata": {
        "id": "9GLtSBk6UwEa"
      },
      "source": [
        "data = [[1,2,3],[4,5,6]]\n",
        "arr = array(data)\n",
        "tns = tensor(data)\n"
      ],
      "execution_count": 50,
      "outputs": []
    },
    {
      "cell_type": "code",
      "metadata": {
        "colab": {
          "base_uri": "https://localhost:8080/"
        },
        "id": "SO6Ha0lKYVMx",
        "outputId": "282353c6-582f-4965-c84d-5c5ea744e220"
      },
      "source": [
        "arr"
      ],
      "execution_count": 51,
      "outputs": [
        {
          "output_type": "execute_result",
          "data": {
            "text/plain": [
              "array([[1, 2, 3],\n",
              "       [4, 5, 6]])"
            ]
          },
          "metadata": {
            "tags": []
          },
          "execution_count": 51
        }
      ]
    },
    {
      "cell_type": "code",
      "metadata": {
        "colab": {
          "base_uri": "https://localhost:8080/"
        },
        "id": "elF4O5mvYWEM",
        "outputId": "99cb3bca-b5a3-4941-c9a2-4f681a55564d"
      },
      "source": [
        "tns"
      ],
      "execution_count": 52,
      "outputs": [
        {
          "output_type": "execute_result",
          "data": {
            "text/plain": [
              "tensor([[1, 2, 3],\n",
              "        [4, 5, 6]])"
            ]
          },
          "metadata": {
            "tags": []
          },
          "execution_count": 52
        }
      ]
    },
    {
      "cell_type": "code",
      "metadata": {
        "colab": {
          "base_uri": "https://localhost:8080/"
        },
        "id": "Xq044U2pYXDO",
        "outputId": "02816612-5bbb-4afe-de91-9a022d35ff06"
      },
      "source": [
        "# creating a metric on validation set\n",
        "\n",
        "valid_3_tens = torch.stack([tensor(Image.open(o)) for o in (path/'valid'/'3').ls()])\n",
        "valid_3_tens = valid_3_tens/255\n",
        "valid_7_tens = torch.stack([tensor(Image.open(o)) for o in (path/'valid'/'7').ls()])\n",
        "valid_7_tens = valid_7_tens/255\n",
        "\n",
        "valid_3_tens.shape, valid_7_tens.shape"
      ],
      "execution_count": 53,
      "outputs": [
        {
          "output_type": "execute_result",
          "data": {
            "text/plain": [
              "(torch.Size([1010, 28, 28]), torch.Size([1028, 28, 28]))"
            ]
          },
          "metadata": {
            "tags": []
          },
          "execution_count": 53
        }
      ]
    },
    {
      "cell_type": "code",
      "metadata": {
        "id": "t4Q7TQbygZQF"
      },
      "source": [
        "# metric L1\n",
        "def mnist_distance(a,b):\n",
        "  return (a-b).abs().mean((-1,-2))"
      ],
      "execution_count": 54,
      "outputs": []
    },
    {
      "cell_type": "code",
      "metadata": {
        "colab": {
          "base_uri": "https://localhost:8080/"
        },
        "id": "6tj0z2_Jgrbg",
        "outputId": "41645f50-7295-48b2-a74a-0ad330323186"
      },
      "source": [
        "mnist_distance(a_7, mean7)"
      ],
      "execution_count": 55,
      "outputs": [
        {
          "output_type": "execute_result",
          "data": {
            "text/plain": [
              "tensor(0.1095)"
            ]
          },
          "metadata": {
            "tags": []
          },
          "execution_count": 55
        }
      ]
    },
    {
      "cell_type": "code",
      "metadata": {
        "colab": {
          "base_uri": "https://localhost:8080/"
        },
        "id": "jArHgTtUgvtM",
        "outputId": "0d940873-df84-4adc-8774-3332a316f250"
      },
      "source": [
        "valid_7_dist = mnist_distance(valid_7_tens, mean7)\n",
        "valid_7_dist, valid_7_dist.shape\n",
        "\n",
        "# it applied a-b through broadcasting\n"
      ],
      "execution_count": 56,
      "outputs": [
        {
          "output_type": "execute_result",
          "data": {
            "text/plain": [
              "(tensor([0.0973, 0.0863, 0.1322,  ..., 0.1357, 0.1373, 0.1113]),\n",
              " torch.Size([1028]))"
            ]
          },
          "metadata": {
            "tags": []
          },
          "execution_count": 56
        }
      ]
    },
    {
      "cell_type": "code",
      "metadata": {
        "id": "wwFEweaRhKIG"
      },
      "source": [
        "def is_7(x):\n",
        "  return mnist_distance(x, mean7) < mnist_distance(x, mean3)"
      ],
      "execution_count": 57,
      "outputs": []
    },
    {
      "cell_type": "code",
      "metadata": {
        "colab": {
          "base_uri": "https://localhost:8080/"
        },
        "id": "5iOwtbJFldZ_",
        "outputId": "c2d606b6-501e-4029-9713-eb36a0e767b8"
      },
      "source": [
        "is_7(valid_3_tens) # broadcasting on all"
      ],
      "execution_count": 58,
      "outputs": [
        {
          "output_type": "execute_result",
          "data": {
            "text/plain": [
              "tensor([False, False, False,  ..., False, False, False])"
            ]
          },
          "metadata": {
            "tags": []
          },
          "execution_count": 58
        }
      ]
    },
    {
      "cell_type": "code",
      "metadata": {
        "colab": {
          "base_uri": "https://localhost:8080/"
        },
        "id": "CSMIEVSGljZv",
        "outputId": "6c585782-804a-42cd-f986-698dbe775517"
      },
      "source": [
        "# Looking if any of the digits actually look like 3\n",
        "false_7 = []\n",
        "for i, isit in enumerate(is_7(valid_3_tens)):\n",
        "  if(isit):\n",
        "    false_7.append(i)\n",
        "\n",
        "false_7\n",
        "    \n",
        "# a lot hmm lets see them"
      ],
      "execution_count": 59,
      "outputs": [
        {
          "output_type": "execute_result",
          "data": {
            "text/plain": [
              "[11,\n",
              " 12,\n",
              " 29,\n",
              " 35,\n",
              " 56,\n",
              " 63,\n",
              " 69,\n",
              " 70,\n",
              " 108,\n",
              " 119,\n",
              " 136,\n",
              " 138,\n",
              " 148,\n",
              " 164,\n",
              " 166,\n",
              " 176,\n",
              " 182,\n",
              " 195,\n",
              " 197,\n",
              " 213,\n",
              " 219,\n",
              " 235,\n",
              " 249,\n",
              " 264,\n",
              " 293,\n",
              " 296,\n",
              " 299,\n",
              " 315,\n",
              " 327,\n",
              " 349,\n",
              " 355,\n",
              " 386,\n",
              " 387,\n",
              " 395,\n",
              " 423,\n",
              " 424,\n",
              " 425,\n",
              " 428,\n",
              " 429,\n",
              " 438,\n",
              " 443,\n",
              " 466,\n",
              " 475,\n",
              " 476,\n",
              " 507,\n",
              " 510,\n",
              " 531,\n",
              " 536,\n",
              " 548,\n",
              " 576,\n",
              " 592,\n",
              " 604,\n",
              " 609,\n",
              " 620,\n",
              " 645,\n",
              " 672,\n",
              " 706,\n",
              " 712,\n",
              " 732,\n",
              " 735,\n",
              " 738,\n",
              " 740,\n",
              " 749,\n",
              " 751,\n",
              " 771,\n",
              " 778,\n",
              " 794,\n",
              " 815,\n",
              " 833,\n",
              " 835,\n",
              " 845,\n",
              " 856,\n",
              " 876,\n",
              " 883,\n",
              " 884,\n",
              " 909,\n",
              " 910,\n",
              " 926,\n",
              " 938,\n",
              " 959,\n",
              " 967,\n",
              " 975,\n",
              " 989,\n",
              " 999]"
            ]
          },
          "metadata": {
            "tags": []
          },
          "execution_count": 59
        }
      ]
    },
    {
      "cell_type": "code",
      "metadata": {
        "colab": {
          "base_uri": "https://localhost:8080/",
          "height": 374
        },
        "id": "VFa7HgPtmePp",
        "outputId": "51c4eb92-425e-4588-a804-879e609b6443"
      },
      "source": [
        "for i in false_7[5:10]:\n",
        "  show_image(valid_3_tens[i])\n",
        "\n",
        "#These all were wrongly classified as 7\n",
        "# 84 out of 1010\n",
        "len(false_7), len(valid_3_tens)"
      ],
      "execution_count": 60,
      "outputs": [
        {
          "output_type": "execute_result",
          "data": {
            "text/plain": [
              "(84, 1010)"
            ]
          },
          "metadata": {
            "tags": []
          },
          "execution_count": 60
        },
        {
          "output_type": "display_data",
          "data": {
            "image/png": "[encoded data removed]",
            "text/plain": [
              "<Figure size 72x72 with 1 Axes>"
            ]
          },
          "metadata": {
            "tags": [],
            "needs_background": "light"
          }
        },
        {
          "output_type": "display_data",
          "data": {
            "image/png": "[encoded data removed]",
            "text/plain": [
              "<Figure size 72x72 with 1 Axes>"
            ]
          },
          "metadata": {
            "tags": [],
            "needs_background": "light"
          }
        },
        {
          "output_type": "display_data",
          "data": {
            "image/png": "[encoded data removed]",
            "text/plain": [
              "<Figure size 72x72 with 1 Axes>"
            ]
          },
          "metadata": {
            "tags": [],
            "needs_background": "light"
          }
        },
        {
          "output_type": "display_data",
          "data": {
            "image/png": "[encoded data removed]",
            "text/plain": [
              "<Figure size 72x72 with 1 Axes>"
            ]
          },
          "metadata": {
            "tags": [],
            "needs_background": "light"
          }
        },
        {
          "output_type": "display_data",
          "data": {
            "image/png": "[encoded data removed]",
            "text/plain": [
              "<Figure size 72x72 with 1 Axes>"
            ]
          },
          "metadata": {
            "tags": [],
            "needs_background": "light"
          }
        }
      ]
    },
    {
      "cell_type": "code",
      "metadata": {
        "colab": {
          "base_uri": "https://localhost:8080/"
        },
        "id": "ZN-npgVxnJJd",
        "outputId": "b13cbc2a-35b5-480b-aa33-66dae5ec6677"
      },
      "source": [
        "# mapping the accuracy\n",
        "accuracy_3s = 1- is_7(valid_3_tens).float().mean()\n",
        "accuracy_7s = is_7(valid_7_tens).float().mean()\n",
        "\n",
        "accuracy_3s, accuracy_7s, (accuracy_3s+ accuracy_7s)/2"
      ],
      "execution_count": 61,
      "outputs": [
        {
          "output_type": "execute_result",
          "data": {
            "text/plain": [
              "(tensor(0.9168), tensor(0.9854), tensor(0.9511))"
            ]
          },
          "metadata": {
            "tags": []
          },
          "execution_count": 61
        }
      ]
    },
    {
      "cell_type": "code",
      "metadata": {
        "id": "BdTTF8K_sAwS"
      },
      "source": [
        "# using machine learning on simple function \n",
        "\n",
        "def f(x):\n",
        "  return x**2"
      ],
      "execution_count": 62,
      "outputs": []
    },
    {
      "cell_type": "code",
      "metadata": {
        "id": "2oOGXVqHwUeF"
      },
      "source": [
        "from fastai.vision.all import plt"
      ],
      "execution_count": 63,
      "outputs": []
    },
    {
      "cell_type": "code",
      "metadata": {
        "id": "o5alAzQDwMlu"
      },
      "source": [
        "# https://github.com/fastai/fastbook/blob/master/utils.py\n",
        "# getting utils\n",
        "# so you need to install fastbook for utils.\n",
        "\n",
        "def plot_function(f, tx=None, ty=None, title=None, min=-2, max=2, figsize=(6,4)):\n",
        "    x = torch.linspace(min,max)\n",
        "    fig,ax = plt.subplots(figsize=figsize)\n",
        "    ax.plot(x,f(x))\n",
        "    if tx is not None: ax.set_xlabel(tx)\n",
        "    if ty is not None: ax.set_ylabel(ty)\n",
        "    if title is not None: ax.set_title(title)"
      ],
      "execution_count": 64,
      "outputs": []
    },
    {
      "cell_type": "code",
      "metadata": {
        "colab": {
          "base_uri": "https://localhost:8080/",
          "height": 333
        },
        "id": "tcmLL213tyZv",
        "outputId": "b0ead70b-a8a5-4e05-a900-708875ef5cca"
      },
      "source": [
        "plot_function(f, 'x', 'x**2')"
      ],
      "execution_count": 65,
      "outputs": [
        {
          "output_type": "stream",
          "text": [
            "/usr/local/lib/python3.6/dist-packages/ipykernel_launcher.py:6: UserWarning: Not providing a value for linspace's steps is deprecated and will throw a runtime error in a future release. This warning will appear only once per process. (Triggered internally at  /pytorch/aten/src/ATen/native/RangeFactories.cpp:23.)\n",
            "  \n"
          ],
          "name": "stderr"
        },
        {
          "output_type": "display_data",
          "data": {
            "image/png": "[encoded data removed]",
            "text/plain": [
              "<Figure size 432x288 with 1 Axes>"
            ]
          },
          "metadata": {
            "tags": [],
            "needs_background": "light"
          }
        }
      ]
    },
    {
      "cell_type": "code",
      "metadata": {
        "colab": {
          "base_uri": "https://localhost:8080/",
          "height": 296
        },
        "id": "NNmRjEBPS94b",
        "outputId": "7917e2bb-2d60-4f7d-abc0-f38e5d50385f"
      },
      "source": [
        "# we start by picking some random value for a parameter\n",
        "plot_function(f,'x','x**2')\n",
        "plt.scatter(1.3,f(1.3), color='red')"
      ],
      "execution_count": 66,
      "outputs": [
        {
          "output_type": "execute_result",
          "data": {
            "text/plain": [
              "<matplotlib.collections.PathCollection at 0x7f0e9d5b5320>"
            ]
          },
          "metadata": {
            "tags": []
          },
          "execution_count": 66
        },
        {
          "output_type": "display_data",
          "data": {
            "image/png": "[encoded data removed]",
            "text/plain": [
              "<Figure size 432x288 with 1 Axes>"
            ]
          },
          "metadata": {
            "tags": [],
            "needs_background": "light"
          }
        }
      ]
    },
    {
      "cell_type": "code",
      "metadata": {
        "colab": {
          "base_uri": "https://localhost:8080/"
        },
        "id": "7Pkee4JgU9IZ",
        "outputId": "e95a4d76-7c72-43d4-8435-48aaeee6a6dd"
      },
      "source": [
        "# we use requires_grad_() to tag a variable \n",
        "# with respect to which we need to find a derviatibe\n",
        "xt = tensor(3.).requires_grad_()\n",
        "yt = f(xt)\n",
        "yt"
      ],
      "execution_count": 67,
      "outputs": [
        {
          "output_type": "execute_result",
          "data": {
            "text/plain": [
              "tensor(9., grad_fn=<PowBackward0>)"
            ]
          },
          "metadata": {
            "tags": []
          },
          "execution_count": 67
        }
      ]
    },
    {
      "cell_type": "code",
      "metadata": {
        "id": "-CML7s1nVNbn"
      },
      "source": [
        "yt.backward()\n",
        "# to calculate the gradients"
      ],
      "execution_count": 68,
      "outputs": []
    },
    {
      "cell_type": "code",
      "metadata": {
        "colab": {
          "base_uri": "https://localhost:8080/"
        },
        "id": "yhY1JDCeWFJq",
        "outputId": "08697c81-9ed2-41d8-b161-757070948d74"
      },
      "source": [
        "xt.grad"
      ],
      "execution_count": 69,
      "outputs": [
        {
          "output_type": "execute_result",
          "data": {
            "text/plain": [
              "tensor(6.)"
            ]
          },
          "metadata": {
            "tags": []
          },
          "execution_count": 69
        }
      ]
    },
    {
      "cell_type": "code",
      "metadata": {
        "colab": {
          "base_uri": "https://localhost:8080/"
        },
        "id": "-dvbbl6NWUqo",
        "outputId": "35aee17f-0c3f-44ca-fd05-32abc03aad38"
      },
      "source": [
        "yt.grad"
      ],
      "execution_count": 70,
      "outputs": [
        {
          "output_type": "stream",
          "text": [
            "/usr/local/lib/python3.6/dist-packages/ipykernel_launcher.py:1: UserWarning: The .grad attribute of a Tensor that is not a leaf Tensor is being accessed. Its .grad attribute won't be populated during autograd.backward(). If you indeed want the gradient for a non-leaf Tensor, use .retain_grad() on the non-leaf Tensor. If you access the non-leaf Tensor by mistake, make sure you access the leaf Tensor instead. See github.com/pytorch/pytorch/pull/30531 for more informations.\n",
            "  \"\"\"Entry point for launching an IPython kernel.\n"
          ],
          "name": "stderr"
        }
      ]
    },
    {
      "cell_type": "code",
      "metadata": {
        "id": "t3cxqn9QW02l",
        "colab": {
          "base_uri": "https://localhost:8080/"
        },
        "outputId": "24070941-3b70-41ad-d069-ae61cb8a5446"
      },
      "source": [
        "xt = tensor(3.).requires_grad_()\n",
        "yt = f(xt)\n",
        "yt"
      ],
      "execution_count": 71,
      "outputs": [
        {
          "output_type": "execute_result",
          "data": {
            "text/plain": [
              "tensor(9., grad_fn=<PowBackward0>)"
            ]
          },
          "metadata": {
            "tags": []
          },
          "execution_count": 71
        }
      ]
    },
    {
      "cell_type": "code",
      "metadata": {
        "id": "9ro2AWzcWe3u"
      },
      "source": [
        "zt = f(yt)"
      ],
      "execution_count": 72,
      "outputs": []
    },
    {
      "cell_type": "code",
      "metadata": {
        "id": "wtU4QgViWj6H"
      },
      "source": [
        "zt.backward()"
      ],
      "execution_count": 73,
      "outputs": []
    },
    {
      "cell_type": "code",
      "metadata": {
        "colab": {
          "base_uri": "https://localhost:8080/"
        },
        "id": "tWfxfDTxWzPD",
        "outputId": "20693fb5-79b6-4ddc-8942-4eda16be53d3"
      },
      "source": [
        "xt.grad\n",
        "\n",
        "# zt = f(f(xt)) \n",
        "# ((x)**2)**2\n",
        "# x = 3.\n",
        "\n",
        "# so in order to make it work we need to tag the leaf tensor \n",
        "# call backwards on the function \n",
        "# and the use the leaf tensor .grad to find the derivatives"
      ],
      "execution_count": 74,
      "outputs": [
        {
          "output_type": "execute_result",
          "data": {
            "text/plain": [
              "tensor(108.)"
            ]
          },
          "metadata": {
            "tags": []
          },
          "execution_count": 74
        }
      ]
    },
    {
      "cell_type": "code",
      "metadata": {
        "colab": {
          "base_uri": "https://localhost:8080/"
        },
        "id": "7FEJNYyaXNWY",
        "outputId": "01bb34ce-5285-4fbb-e48a-bf42e8020912"
      },
      "source": [
        "xt = tensor([3.,4.,10.]).requires_grad_()\n",
        "xt\n"
      ],
      "execution_count": 75,
      "outputs": [
        {
          "output_type": "execute_result",
          "data": {
            "text/plain": [
              "tensor([ 3.,  4., 10.], requires_grad=True)"
            ]
          },
          "metadata": {
            "tags": []
          },
          "execution_count": 75
        }
      ]
    },
    {
      "cell_type": "code",
      "metadata": {
        "id": "s4ma2Q5WY61j"
      },
      "source": [
        "yt = f(xt)"
      ],
      "execution_count": 76,
      "outputs": []
    },
    {
      "cell_type": "code",
      "metadata": {
        "colab": {
          "base_uri": "https://localhost:8080/"
        },
        "id": "v_MDJcwsY_h5",
        "outputId": "f4cc09eb-bf17-4a62-caa1-33a447dc2e46"
      },
      "source": [
        "try:\n",
        "  yt.backward()\n",
        "except Exception as e:\n",
        "  print(e)"
      ],
      "execution_count": 77,
      "outputs": [
        {
          "output_type": "stream",
          "text": [
            "grad can be implicitly created only for scalar outputs\n"
          ],
          "name": "stdout"
        }
      ]
    },
    {
      "cell_type": "code",
      "metadata": {
        "id": "I4N0bkCPZI0_"
      },
      "source": [
        "def f(x): return (x**2).mean() # so that the function returns a scalar output"
      ],
      "execution_count": 78,
      "outputs": []
    },
    {
      "cell_type": "code",
      "metadata": {
        "id": "ryhqRMHuZPFC"
      },
      "source": [
        "yt = f(xt)"
      ],
      "execution_count": 79,
      "outputs": []
    },
    {
      "cell_type": "code",
      "metadata": {
        "id": "7A_xVG6tZXqr"
      },
      "source": [
        "yt.backward()"
      ],
      "execution_count": 80,
      "outputs": []
    },
    {
      "cell_type": "code",
      "metadata": {
        "colab": {
          "base_uri": "https://localhost:8080/"
        },
        "id": "ftIdvbOpZbAC",
        "outputId": "ea97b843-b4ef-4c67-f799-016a48feff1e"
      },
      "source": [
        "xt.grad\n",
        "\n",
        "# gradient helps us fund th slope of our function\n",
        "# not how far\n",
        "# but if slope is very large then that may suggest we have more adjustments to do"
      ],
      "execution_count": 81,
      "outputs": [
        {
          "output_type": "execute_result",
          "data": {
            "text/plain": [
              "tensor([2.0000, 2.6667, 6.6667])"
            ]
          },
          "metadata": {
            "tags": []
          },
          "execution_count": 81
        }
      ]
    },
    {
      "cell_type": "code",
      "metadata": {
        "colab": {
          "base_uri": "https://localhost:8080/"
        },
        "id": "MmVNCxEoZvLs",
        "outputId": "8249fe60-be47-403c-b377-25748f9cec86"
      },
      "source": [
        "# once we have the gradient then we pick a learning rate so at to adjust the weights beforeactual multiply\n",
        "# end to end example\n",
        "\n",
        "time = torch.arange(0,20).float()\n",
        "time"
      ],
      "execution_count": 82,
      "outputs": [
        {
          "output_type": "execute_result",
          "data": {
            "text/plain": [
              "tensor([ 0.,  1.,  2.,  3.,  4.,  5.,  6.,  7.,  8.,  9., 10., 11., 12., 13.,\n",
              "        14., 15., 16., 17., 18., 19.])"
            ]
          },
          "metadata": {
            "tags": []
          },
          "execution_count": 82
        }
      ]
    },
    {
      "cell_type": "code",
      "metadata": {
        "colab": {
          "base_uri": "https://localhost:8080/",
          "height": 282
        },
        "id": "m5TrO_pwfZMs",
        "outputId": "d969915f-6c67-4fbc-c1ed-e8e3ef9b01c3"
      },
      "source": [
        "speed = torch.randn(20)*3 + 0.75*(time-9.5)**2 + 1\n",
        "\n",
        "# these are the parameters we have to predict\n",
        "plt.scatter(time, speed)"
      ],
      "execution_count": 83,
      "outputs": [
        {
          "output_type": "execute_result",
          "data": {
            "text/plain": [
              "<matplotlib.collections.PathCollection at 0x7f0e9d5397b8>"
            ]
          },
          "metadata": {
            "tags": []
          },
          "execution_count": 83
        },
        {
          "output_type": "display_data",
          "data": {
            "image/png": "[encoded data removed]",
            "text/plain": [
              "<Figure size 432x288 with 1 Axes>"
            ]
          },
          "metadata": {
            "tags": [],
            "needs_background": "light"
          }
        }
      ]
    },
    {
      "cell_type": "code",
      "metadata": {
        "id": "3Dsd8bI8fsw-"
      },
      "source": [
        "def f(t,params):\n",
        "  a,b,c = params\n",
        "  return a*(t**2) + (b*t) + c\n",
        "\n",
        "# we assume a quadratic equation will fit the problem"
      ],
      "execution_count": 84,
      "outputs": []
    },
    {
      "cell_type": "code",
      "metadata": {
        "id": "TNUBLYX3gKmN"
      },
      "source": [
        "def mse(preds, targets):\n",
        "  return ((preds-targets)**2).mean()\n",
        "\n",
        "# our loss function"
      ],
      "execution_count": 85,
      "outputs": []
    },
    {
      "cell_type": "code",
      "metadata": {
        "id": "ZW74hWnrgLm4"
      },
      "source": [
        "# let us initialise the params \n",
        "# and tell Pytorch that we want to track them\n",
        "\n",
        "params = torch.randn(3).requires_grad_()"
      ],
      "execution_count": 86,
      "outputs": []
    },
    {
      "cell_type": "code",
      "metadata": {
        "id": "gmRyTBAViy2F"
      },
      "source": [
        "orig_params = params.clone()"
      ],
      "execution_count": 87,
      "outputs": []
    },
    {
      "cell_type": "code",
      "metadata": {
        "id": "F4NK08Uci3VU"
      },
      "source": [
        "preds = f(time, params)"
      ],
      "execution_count": 88,
      "outputs": []
    },
    {
      "cell_type": "code",
      "metadata": {
        "colab": {
          "base_uri": "https://localhost:8080/"
        },
        "id": "29JfeI92jTMJ",
        "outputId": "e5adb13a-4c9c-43a7-932a-550f704a6be5"
      },
      "source": [
        "preds"
      ],
      "execution_count": 89,
      "outputs": [
        {
          "output_type": "execute_result",
          "data": {
            "text/plain": [
              "tensor([-0.6685, -0.9565, -0.8711, -0.4121,  0.4202,  1.6261,  3.2054,  5.1582,\n",
              "         7.4845, 10.1843, 13.2575, 16.7041, 20.5243, 24.7179, 29.2850, 34.2255,\n",
              "        39.5395, 45.2270, 51.2879, 57.7223], grad_fn=<AddBackward0>)"
            ]
          },
          "metadata": {
            "tags": []
          },
          "execution_count": 89
        }
      ]
    },
    {
      "cell_type": "code",
      "metadata": {
        "id": "6QiRqDm3jx5E"
      },
      "source": [
        "from fastai.torch_core import to_np"
      ],
      "execution_count": 90,
      "outputs": []
    },
    {
      "cell_type": "code",
      "metadata": {
        "colab": {
          "base_uri": "https://localhost:8080/"
        },
        "id": "GHIVpIIkjtwA",
        "outputId": "b9dd5b0b-6e15-4040-c72d-ac7ac0ef9548"
      },
      "source": [
        "\n",
        "to_np(preds)"
      ],
      "execution_count": 91,
      "outputs": [
        {
          "output_type": "execute_result",
          "data": {
            "text/plain": [
              "array([-0.66853064, -0.95653725, -0.87107605, -0.412147  ,  0.42025   ,\n",
              "        1.6261148 ,  3.2054474 ,  5.158248  ,  7.484517  , 10.184253  ,\n",
              "       13.257457  , 16.704126  , 20.524267  , 24.717876  , 29.28495   ,\n",
              "       34.225494  , 39.53951   , 45.226986  , 51.287933  , 57.722347  ],\n",
              "      dtype=float32)"
            ]
          },
          "metadata": {
            "tags": []
          },
          "execution_count": 91
        }
      ]
    },
    {
      "cell_type": "code",
      "metadata": {
        "id": "AjD5yy87i7gq"
      },
      "source": [
        "def show_preds(preds, ax=None):\n",
        "  if ax is None: \n",
        "    ax= plt.subplots()[1]\n",
        "    ax.scatter(time,speed)\n",
        "    ax.scatter(time, to_np(preds), color='red')\n",
        "    ax.set_ylim(-300,100)\n"
      ],
      "execution_count": 92,
      "outputs": []
    },
    {
      "cell_type": "code",
      "metadata": {
        "colab": {
          "base_uri": "https://localhost:8080/",
          "height": 269
        },
        "id": "f0XWyx5Jjl6h",
        "outputId": "b3bf71bf-dd79-420f-8d86-138feb4b5df2"
      },
      "source": [
        "show_preds(preds)"
      ],
      "execution_count": 93,
      "outputs": [
        {
          "output_type": "display_data",
          "data": {
            "image/png": "[encoded data removed]",
            "text/plain": [
              "<Figure size 432x288 with 1 Axes>"
            ]
          },
          "metadata": {
            "tags": [],
            "needs_background": "light"
          }
        }
      ]
    },
    {
      "cell_type": "code",
      "metadata": {
        "colab": {
          "base_uri": "https://localhost:8080/"
        },
        "id": "c2RfacA6m6KD",
        "outputId": "b7aa99ee-b416-4ac9-8db8-fab4702ab4d2"
      },
      "source": [
        "loss = mse(preds, speed)\n",
        "loss"
      ],
      "execution_count": 94,
      "outputs": [
        {
          "output_type": "execute_result",
          "data": {
            "text/plain": [
              "tensor(661.6764, grad_fn=<MeanBackward0>)"
            ]
          },
          "metadata": {
            "tags": []
          },
          "execution_count": 94
        }
      ]
    },
    {
      "cell_type": "code",
      "metadata": {
        "colab": {
          "base_uri": "https://localhost:8080/"
        },
        "id": "V24VZPM0nDDl",
        "outputId": "9d7608aa-221e-41b4-c7d3-da68eb0b1476"
      },
      "source": [
        "loss.backward()\n",
        "params.grad"
      ],
      "execution_count": 95,
      "outputs": [
        {
          "output_type": "execute_result",
          "data": {
            "text/plain": [
              "tensor([588.4708,  25.8695, -18.5005])"
            ]
          },
          "metadata": {
            "tags": []
          },
          "execution_count": 95
        }
      ]
    },
    {
      "cell_type": "code",
      "metadata": {
        "colab": {
          "base_uri": "https://localhost:8080/"
        },
        "id": "SL2qePfenLjs",
        "outputId": "c90ed885-a264-4e9b-d7c3-8ec45b5883a1"
      },
      "source": [
        "params.grad * 1e-5"
      ],
      "execution_count": 96,
      "outputs": [
        {
          "output_type": "execute_result",
          "data": {
            "text/plain": [
              "tensor([ 0.0059,  0.0003, -0.0002])"
            ]
          },
          "metadata": {
            "tags": []
          },
          "execution_count": 96
        }
      ]
    },
    {
      "cell_type": "code",
      "metadata": {
        "colab": {
          "base_uri": "https://localhost:8080/"
        },
        "id": "O_AhFVIYnQm1",
        "outputId": "beb1f6e9-7440-4eba-9f2f-6ea89a0a2ff7"
      },
      "source": [
        "params"
      ],
      "execution_count": 97,
      "outputs": [
        {
          "output_type": "execute_result",
          "data": {
            "text/plain": [
              "tensor([ 0.1867, -0.4747, -0.6685], requires_grad=True)"
            ]
          },
          "metadata": {
            "tags": []
          },
          "execution_count": 97
        }
      ]
    },
    {
      "cell_type": "code",
      "metadata": {
        "colab": {
          "base_uri": "https://localhost:8080/"
        },
        "id": "Zf8QdlG5nTZg",
        "outputId": "ef65b151-837c-4161-f007-9940f0c5077e"
      },
      "source": [
        "orig_params"
      ],
      "execution_count": 98,
      "outputs": [
        {
          "output_type": "execute_result",
          "data": {
            "text/plain": [
              "tensor([ 0.1867, -0.4747, -0.6685], grad_fn=<CloneBackward>)"
            ]
          },
          "metadata": {
            "tags": []
          },
          "execution_count": 98
        }
      ]
    },
    {
      "cell_type": "code",
      "metadata": {
        "id": "cLcSJaqrnaTw"
      },
      "source": [
        "# changing the params\n",
        "lr = 1e-5\n",
        "params.data -= lr*params.grad.data\n",
        "params.grad = None"
      ],
      "execution_count": 99,
      "outputs": []
    },
    {
      "cell_type": "code",
      "metadata": {
        "colab": {
          "base_uri": "https://localhost:8080/"
        },
        "id": "JGqUOOIZnoZ8",
        "outputId": "8fda36d7-a22f-4c7d-d6f4-213a667329ff"
      },
      "source": [
        "params\n",
        "\n",
        "# params changed"
      ],
      "execution_count": 100,
      "outputs": [
        {
          "output_type": "execute_result",
          "data": {
            "text/plain": [
              "tensor([ 0.1808, -0.4750, -0.6683], requires_grad=True)"
            ]
          },
          "metadata": {
            "tags": []
          },
          "execution_count": 100
        }
      ]
    },
    {
      "cell_type": "code",
      "metadata": {
        "colab": {
          "base_uri": "https://localhost:8080/"
        },
        "id": "fb7fiFMpnzsc",
        "outputId": "14568200-d6be-4488-f47a-d335ebd4787a"
      },
      "source": [
        "preds = f(time, params)\n",
        "mse(preds, speed)"
      ],
      "execution_count": 101,
      "outputs": [
        {
          "output_type": "execute_result",
          "data": {
            "text/plain": [
              "tensor(659.1827, grad_fn=<MeanBackward0>)"
            ]
          },
          "metadata": {
            "tags": []
          },
          "execution_count": 101
        }
      ]
    },
    {
      "cell_type": "code",
      "metadata": {
        "colab": {
          "base_uri": "https://localhost:8080/",
          "height": 269
        },
        "id": "oP5a9aEFn5S4",
        "outputId": "1d958cad-4314-44d4-9fc6-2caccc66749d"
      },
      "source": [
        "# lets see if it has imporoved\n",
        "show_preds(preds)"
      ],
      "execution_count": 102,
      "outputs": [
        {
          "output_type": "display_data",
          "data": {
            "image/png": "[encoded data removed]",
            "text/plain": [
              "<Figure size 432x288 with 1 Axes>"
            ]
          },
          "metadata": {
            "tags": [],
            "needs_background": "light"
          }
        }
      ]
    },
    {
      "cell_type": "code",
      "metadata": {
        "id": "ErU54VOaoAZO"
      },
      "source": [
        "#lets apply one more time\n",
        "\n",
        "loss= mse(preds, speed)"
      ],
      "execution_count": 103,
      "outputs": []
    },
    {
      "cell_type": "code",
      "metadata": {
        "id": "vLm5FA7AosMJ"
      },
      "source": [
        "loss.backward()"
      ],
      "execution_count": 104,
      "outputs": []
    },
    {
      "cell_type": "code",
      "metadata": {
        "colab": {
          "base_uri": "https://localhost:8080/"
        },
        "id": "LRVHyx5IouSV",
        "outputId": "70823d6b-b225-42f7-bdc8-1370f3fdc1ef"
      },
      "source": [
        "params.grad"
      ],
      "execution_count": 105,
      "outputs": [
        {
          "output_type": "execute_result",
          "data": {
            "text/plain": [
              "tensor([256.4701,   4.5653, -19.9586])"
            ]
          },
          "metadata": {
            "tags": []
          },
          "execution_count": 105
        }
      ]
    },
    {
      "cell_type": "code",
      "metadata": {
        "id": "tFC3sLxfoxwm"
      },
      "source": [
        "lr = 1e-5\n",
        "params.data -= lr * params.grad.data \n",
        "params.grad = None"
      ],
      "execution_count": 106,
      "outputs": []
    },
    {
      "cell_type": "code",
      "metadata": {
        "colab": {
          "base_uri": "https://localhost:8080/"
        },
        "id": "d-E08JRSo_sT",
        "outputId": "6a9334d1-69b0-4d51-db5b-a88a1baca714"
      },
      "source": [
        "params"
      ],
      "execution_count": 107,
      "outputs": [
        {
          "output_type": "execute_result",
          "data": {
            "text/plain": [
              "tensor([ 0.1783, -0.4750, -0.6681], requires_grad=True)"
            ]
          },
          "metadata": {
            "tags": []
          },
          "execution_count": 107
        }
      ]
    },
    {
      "cell_type": "code",
      "metadata": {
        "id": "lN_U8lampCiD"
      },
      "source": [
        "preds = f(time, params)"
      ],
      "execution_count": 108,
      "outputs": []
    },
    {
      "cell_type": "code",
      "metadata": {
        "colab": {
          "base_uri": "https://localhost:8080/",
          "height": 269
        },
        "id": "pA_wWsXypIgy",
        "outputId": "0c745a7c-53fe-4e6e-c31f-3c2f827574be"
      },
      "source": [
        "show_preds(preds)"
      ],
      "execution_count": 109,
      "outputs": [
        {
          "output_type": "display_data",
          "data": {
            "image/png": "[encoded data removed]",
            "text/plain": [
              "<Figure size 432x288 with 1 Axes>"
            ]
          },
          "metadata": {
            "tags": [],
            "needs_background": "light"
          }
        }
      ]
    },
    {
      "cell_type": "code",
      "metadata": {
        "colab": {
          "base_uri": "https://localhost:8080/"
        },
        "id": "_8pCdu3WpN3h",
        "outputId": "c1d0b461-2da0-40a0-e9f2-9556cbc0bed7"
      },
      "source": [
        "lr =1e-5\n",
        "  \n",
        "for i in range(10):\n",
        "  preds = f(time, params)\n",
        "  loss = mse(preds, speed)\n",
        "  print(loss.item())\n",
        "  loss.backward()\n",
        "  params.data -= params.grad.data * lr\n",
        "  params.grad = None\n",
        "  \n",
        "print(\"preds : \", preds)"
      ],
      "execution_count": 110,
      "outputs": [
        {
          "output_type": "stream",
          "text": [
            "658.7061767578125\n",
            "658.6112060546875\n",
            "658.588623046875\n",
            "658.5794677734375\n",
            "658.5731201171875\n",
            "658.567138671875\n",
            "658.561279296875\n",
            "658.5552978515625\n",
            "658.5494995117188\n",
            "658.5436401367188\n",
            "preds :  tensor([-0.6663, -0.9641, -0.9095, -0.5024,  0.2572,  1.3692,  2.8338,  4.6508,\n",
            "         6.8203,  9.3423, 12.2168, 15.4437, 19.0231, 22.9551, 27.2395, 31.8763,\n",
            "        36.8657, 42.2075, 47.9019, 53.9487], grad_fn=<AddBackward0>)\n"
          ],
          "name": "stdout"
        }
      ]
    },
    {
      "cell_type": "code",
      "metadata": {
        "colab": {
          "base_uri": "https://localhost:8080/",
          "height": 269
        },
        "id": "5FoESXa4qGX7",
        "outputId": "ddd21d98-c970-4575-f130-c044a923c56d"
      },
      "source": [
        "show_preds(preds)\n",
        "\n",
        "# its close yer not much improvement has happend over time "
      ],
      "execution_count": 111,
      "outputs": [
        {
          "output_type": "display_data",
          "data": {
            "image/png": "[encoded data removed]",
            "text/plain": [
              "<Figure size 432x288 with 1 Axes>"
            ]
          },
          "metadata": {
            "tags": [],
            "needs_background": "light"
          }
        }
      ]
    },
    {
      "cell_type": "code",
      "metadata": {
        "colab": {
          "base_uri": "https://localhost:8080/",
          "height": 507
        },
        "id": "HN9p9j_-qMyd",
        "outputId": "44d762b7-a631-49ed-e758-d30f2b8a6c01"
      },
      "source": [
        "for i in range(10):\n",
        "  preds = f(time, params)\n",
        "  loss = mse(preds, speed)\n",
        "  print(loss.item())\n",
        "  loss.backward()\n",
        "  params.data -= params.grad.data * lr\n",
        "  params.grad = None\n",
        "  \n",
        "print(\"preds : \", preds)\n",
        "show_preds(preds)"
      ],
      "execution_count": 112,
      "outputs": [
        {
          "output_type": "stream",
          "text": [
            "658.5377807617188\n",
            "658.531982421875\n",
            "658.5261840820312\n",
            "658.5203247070312\n",
            "658.5144653320312\n",
            "658.5086669921875\n",
            "658.5028076171875\n",
            "658.4969482421875\n",
            "658.4911499023438\n",
            "658.4852294921875\n",
            "preds :  tensor([-0.6642, -0.9609, -0.9054, -0.4975,  0.2626,  1.3751,  2.8399,  4.6569,\n",
            "         6.8263,  9.3481, 12.2221, 15.4484, 19.0270, 22.9580, 27.2412, 31.8768,\n",
            "        36.8647, 42.2048, 47.8973, 53.9421], grad_fn=<AddBackward0>)\n"
          ],
          "name": "stdout"
        },
        {
          "output_type": "display_data",
          "data": {
            "image/png": "[encoded data removed]",
            "text/plain": [
              "<Figure size 432x288 with 1 Axes>"
            ]
          },
          "metadata": {
            "tags": [],
            "needs_background": "light"
          }
        }
      ]
    },
    {
      "cell_type": "code",
      "metadata": {
        "colab": {
          "base_uri": "https://localhost:8080/",
          "height": 507
        },
        "id": "VXALf3E-q8RD",
        "outputId": "60448d18-6ba4-4390-c85a-5abf654e9051"
      },
      "source": [
        "def run_ten(n, prn=True):\n",
        "  for i in range(n):\n",
        "    preds = f(time, params)\n",
        "    loss = mse(preds, speed)\n",
        "    if prn:\n",
        "      print(loss.item())\n",
        "    loss.backward()\n",
        "    params.data -= params.grad.data * lr\n",
        "    params.grad = None\n",
        "\n",
        "run_ten(10)\n",
        "print(\"preds : \", preds)\n",
        "show_preds(preds)"
      ],
      "execution_count": 113,
      "outputs": [
        {
          "output_type": "stream",
          "text": [
            "658.4794311523438\n",
            "658.4735717773438\n",
            "658.4678344726562\n",
            "658.4619750976562\n",
            "658.4559936523438\n",
            "658.4503173828125\n",
            "658.4444580078125\n",
            "658.4385986328125\n",
            "658.4328002929688\n",
            "658.4269409179688\n",
            "preds :  tensor([-0.6642, -0.9609, -0.9054, -0.4975,  0.2626,  1.3751,  2.8399,  4.6569,\n",
            "         6.8263,  9.3481, 12.2221, 15.4484, 19.0270, 22.9580, 27.2412, 31.8768,\n",
            "        36.8647, 42.2048, 47.8973, 53.9421], grad_fn=<AddBackward0>)\n"
          ],
          "name": "stdout"
        },
        {
          "output_type": "display_data",
          "data": {
            "image/png": "[encoded data removed]",
            "text/plain": [
              "<Figure size 432x288 with 1 Axes>"
            ]
          },
          "metadata": {
            "tags": [],
            "needs_background": "light"
          }
        }
      ]
    },
    {
      "cell_type": "code",
      "metadata": {
        "colab": {
          "base_uri": "https://localhost:8080/",
          "height": 1000
        },
        "id": "it4wWEB4rNQk",
        "outputId": "fc27a371-c1e1-448a-ea6c-02742782cbfd"
      },
      "source": [
        "run_ten(100)\n",
        "show_preds(preds)"
      ],
      "execution_count": 114,
      "outputs": [
        {
          "output_type": "stream",
          "text": [
            "658.421142578125\n",
            "658.415283203125\n",
            "658.4095458984375\n",
            "658.4036865234375\n",
            "658.3977661132812\n",
            "658.3919677734375\n",
            "658.38623046875\n",
            "658.38037109375\n",
            "658.3744506835938\n",
            "658.3687744140625\n",
            "658.3629150390625\n",
            "658.3570556640625\n",
            "658.3512573242188\n",
            "658.3453979492188\n",
            "658.3396606445312\n",
            "658.3338012695312\n",
            "658.3280029296875\n",
            "658.3221435546875\n",
            "658.3163452148438\n",
            "658.3104858398438\n",
            "658.3047485351562\n",
            "658.298828125\n",
            "658.2931518554688\n",
            "658.2872924804688\n",
            "658.2814331054688\n",
            "658.2756958007812\n",
            "658.2698974609375\n",
            "658.2640991210938\n",
            "658.2581787109375\n",
            "658.2523193359375\n",
            "658.2467041015625\n",
            "658.2408447265625\n",
            "658.2349853515625\n",
            "658.2291870117188\n",
            "658.2235107421875\n",
            "658.2176513671875\n",
            "658.2117309570312\n",
            "658.2060546875\n",
            "658.2002563476562\n",
            "658.1945190429688\n",
            "658.1886596679688\n",
            "658.182861328125\n",
            "658.1770629882812\n",
            "658.1712036132812\n",
            "658.1654052734375\n",
            "658.1596069335938\n",
            "658.1538696289062\n",
            "658.1481323242188\n",
            "658.142333984375\n",
            "658.1365356445312\n",
            "658.1307373046875\n",
            "658.125\n",
            "658.119140625\n",
            "658.1134033203125\n",
            "658.1075439453125\n",
            "658.101806640625\n",
            "658.0960083007812\n",
            "658.0902709960938\n",
            "658.0844116210938\n",
            "658.0786743164062\n",
            "658.0728759765625\n",
            "658.0672607421875\n",
            "658.0614013671875\n",
            "658.0555419921875\n",
            "658.0497436523438\n",
            "658.0440673828125\n",
            "658.0382080078125\n",
            "658.0325927734375\n",
            "658.0267333984375\n",
            "658.0208740234375\n",
            "658.01513671875\n",
            "658.0093383789062\n",
            "658.003662109375\n",
            "657.997802734375\n",
            "657.9920654296875\n",
            "657.9862670898438\n",
            "657.98046875\n",
            "657.9747314453125\n",
            "657.968994140625\n",
            "657.9633178710938\n",
            "657.9573974609375\n",
            "657.9517211914062\n",
            "657.9459228515625\n",
            "657.9403076171875\n",
            "657.9344482421875\n",
            "657.9286499023438\n",
            "657.9229736328125\n",
            "657.9171142578125\n",
            "657.9114379882812\n",
            "657.9055786132812\n",
            "657.8998413085938\n",
            "657.8941040039062\n",
            "657.888427734375\n",
            "657.8826904296875\n",
            "657.8768920898438\n",
            "657.87109375\n",
            "657.8652954101562\n",
            "657.859619140625\n",
            "657.8538818359375\n",
            "657.84814453125\n"
          ],
          "name": "stdout"
        },
        {
          "output_type": "display_data",
          "data": {
            "image/png": "[encoded data removed]",
            "text/plain": [
              "<Figure size 432x288 with 1 Axes>"
            ]
          },
          "metadata": {
            "tags": [],
            "needs_background": "light"
          }
        }
      ]
    },
    {
      "cell_type": "code",
      "metadata": {
        "colab": {
          "base_uri": "https://localhost:8080/",
          "height": 1000
        },
        "id": "PaW_YjK8rW2a",
        "outputId": "23709498-48cb-4280-ed75-64449b44a712"
      },
      "source": [
        "# over 100 iterations and we are not moving below the loss value of 634.\n",
        "\n",
        "run_ten(100000)\n",
        "show_preds(preds)"
      ],
      "execution_count": 115,
      "outputs": [
        {
          "output_type": "stream",
          "text": [
            "\u001b[1;30;43mStreaming output truncated to the last 5000 lines.\u001b[0m\n",
            "401.4014587402344\n",
            "401.3993835449219\n",
            "401.3973693847656\n",
            "401.3953552246094\n",
            "401.3932800292969\n",
            "401.39129638671875\n",
            "401.3892822265625\n",
            "401.3872375488281\n",
            "401.38519287109375\n",
            "401.3831787109375\n",
            "401.38116455078125\n",
            "401.379150390625\n",
            "401.37713623046875\n",
            "401.3750915527344\n",
            "401.373046875\n",
            "401.3710632324219\n",
            "401.36907958984375\n",
            "401.3669738769531\n",
            "401.364990234375\n",
            "401.36297607421875\n",
            "401.3609313964844\n",
            "401.3589172363281\n",
            "401.3568420410156\n",
            "401.3548583984375\n",
            "401.35284423828125\n",
            "401.35076904296875\n",
            "401.3487548828125\n",
            "401.34674072265625\n",
            "401.3446960449219\n",
            "401.3426818847656\n",
            "401.3406982421875\n",
            "401.3386535644531\n",
            "401.3366394042969\n",
            "401.3345642089844\n",
            "401.3325500488281\n",
            "401.33050537109375\n",
            "401.3285217285156\n",
            "401.32647705078125\n",
            "401.32440185546875\n",
            "401.3224182128906\n",
            "401.3204040527344\n",
            "401.318359375\n",
            "401.31634521484375\n",
            "401.3143310546875\n",
            "401.3122863769531\n",
            "401.3102722167969\n",
            "401.3081970214844\n",
            "401.30621337890625\n",
            "401.30426025390625\n",
            "401.30218505859375\n",
            "401.3001403808594\n",
            "401.29815673828125\n",
            "401.2961120605469\n",
            "401.2940979003906\n",
            "401.2920227050781\n",
            "401.2900085449219\n",
            "401.28802490234375\n",
            "401.2859191894531\n",
            "401.283935546875\n",
            "401.2818908691406\n",
            "401.2799072265625\n",
            "401.27789306640625\n",
            "401.2758483886719\n",
            "401.2738342285156\n",
            "401.27178955078125\n",
            "401.269775390625\n",
            "401.2677307128906\n",
            "401.2657165527344\n",
            "401.2636413574219\n",
            "401.26165771484375\n",
            "401.2596130371094\n",
            "401.25762939453125\n",
            "401.2555847167969\n",
            "401.2535705566406\n",
            "401.25152587890625\n",
            "401.24951171875\n",
            "401.2475280761719\n",
            "401.2454528808594\n",
            "401.24346923828125\n",
            "401.2414245605469\n",
            "401.2394104003906\n",
            "401.23736572265625\n",
            "401.23529052734375\n",
            "401.23333740234375\n",
            "401.23126220703125\n",
            "401.2292785644531\n",
            "401.22723388671875\n",
            "401.2252502441406\n",
            "401.22320556640625\n",
            "401.22113037109375\n",
            "401.2190856933594\n",
            "401.21710205078125\n",
            "401.21502685546875\n",
            "401.21307373046875\n",
            "401.2110595703125\n",
            "401.208984375\n",
            "401.2070007324219\n",
            "401.2049865722656\n",
            "401.20294189453125\n",
            "401.20086669921875\n",
            "401.19891357421875\n",
            "401.19683837890625\n",
            "401.19476318359375\n",
            "401.19281005859375\n",
            "401.1907958984375\n",
            "401.1887512207031\n",
            "401.18670654296875\n",
            "401.1847229003906\n",
            "401.18267822265625\n",
            "401.18072509765625\n",
            "401.17864990234375\n",
            "401.1766052246094\n",
            "401.174560546875\n",
            "401.17254638671875\n",
            "401.1705017089844\n",
            "401.1684875488281\n",
            "401.1664733886719\n",
            "401.16448974609375\n",
            "401.16241455078125\n",
            "401.160400390625\n",
            "401.15838623046875\n",
            "401.1563415527344\n",
            "401.1543273925781\n",
            "401.15228271484375\n",
            "401.1502685546875\n",
            "401.1482238769531\n",
            "401.1462707519531\n",
            "401.1441955566406\n",
            "401.1421813964844\n",
            "401.14013671875\n",
            "401.13812255859375\n",
            "401.1361083984375\n",
            "401.1340637207031\n",
            "401.1320495605469\n",
            "401.1300048828125\n",
            "401.12799072265625\n",
            "401.1260070800781\n",
            "401.1239013671875\n",
            "401.12188720703125\n",
            "401.1199035644531\n",
            "401.117919921875\n",
            "401.1158752441406\n",
            "401.11383056640625\n",
            "401.1117858886719\n",
            "401.10980224609375\n",
            "401.10772705078125\n",
            "401.1056823730469\n",
            "401.1037292480469\n",
            "401.1017150878906\n",
            "401.0996398925781\n",
            "401.09759521484375\n",
            "401.0955810546875\n",
            "401.09356689453125\n",
            "401.091552734375\n",
            "401.0895080566406\n",
            "401.0874938964844\n",
            "401.0854797363281\n",
            "401.08343505859375\n",
            "401.0814208984375\n",
            "401.0793762207031\n",
            "401.0773620605469\n",
            "401.0753479003906\n",
            "401.07330322265625\n",
            "401.0713195800781\n",
            "401.0693359375\n",
            "401.0672302246094\n",
            "401.0652160644531\n",
            "401.06317138671875\n",
            "401.0611877441406\n",
            "401.05914306640625\n",
            "401.0570983886719\n",
            "401.05511474609375\n",
            "401.0531005859375\n",
            "401.0510559082031\n",
            "401.0490417480469\n",
            "401.0469970703125\n",
            "401.04498291015625\n",
            "401.0429382324219\n",
            "401.0409240722656\n",
            "401.03887939453125\n",
            "401.0368957519531\n",
            "401.03485107421875\n",
            "401.0328063964844\n",
            "401.03082275390625\n",
            "401.02874755859375\n",
            "401.0267333984375\n",
            "401.0246887207031\n",
            "401.022705078125\n",
            "401.02069091796875\n",
            "401.0187072753906\n",
            "401.0166320800781\n",
            "401.01458740234375\n",
            "401.0126037597656\n",
            "401.0105285644531\n",
            "401.0085144042969\n",
            "401.00653076171875\n",
            "401.0045166015625\n",
            "401.00244140625\n",
            "401.00042724609375\n",
            "400.9984130859375\n",
            "400.9963684082031\n",
            "400.99432373046875\n",
            "400.9923095703125\n",
            "400.9903259277344\n",
            "400.9883117675781\n",
            "400.98626708984375\n",
            "400.98419189453125\n",
            "400.98223876953125\n",
            "400.9801940917969\n",
            "400.9781799316406\n",
            "400.9761047363281\n",
            "400.97412109375\n",
            "400.97210693359375\n",
            "400.9700622558594\n",
            "400.9680480957031\n",
            "400.96600341796875\n",
            "400.9640197753906\n",
            "400.9619445800781\n",
            "400.95989990234375\n",
            "400.9578857421875\n",
            "400.9559020996094\n",
            "400.953857421875\n",
            "400.95184326171875\n",
            "400.94976806640625\n",
            "400.94781494140625\n",
            "400.9457702636719\n",
            "400.9437255859375\n",
            "400.94171142578125\n",
            "400.9397277832031\n",
            "400.93768310546875\n",
            "400.93560791015625\n",
            "400.93359375\n",
            "400.9316101074219\n",
            "400.9295654296875\n",
            "400.9275207519531\n",
            "400.925537109375\n",
            "400.9234924316406\n",
            "400.9214782714844\n",
            "400.91943359375\n",
            "400.91741943359375\n",
            "400.9153747558594\n",
            "400.913330078125\n",
            "400.91131591796875\n",
            "400.9093017578125\n",
            "400.90728759765625\n",
            "400.9053039550781\n",
            "400.90325927734375\n",
            "400.9012451171875\n",
            "400.899169921875\n",
            "400.89715576171875\n",
            "400.8951416015625\n",
            "400.8930969238281\n",
            "400.8910827636719\n",
            "400.8890686035156\n",
            "400.8870544433594\n",
            "400.885009765625\n",
            "400.8830261230469\n",
            "400.8809509277344\n",
            "400.8789367675781\n",
            "400.876953125\n",
            "400.87493896484375\n",
            "400.87286376953125\n",
            "400.87078857421875\n",
            "400.86883544921875\n",
            "400.8667907714844\n",
            "400.86480712890625\n",
            "400.86273193359375\n",
            "400.8607482910156\n",
            "400.85870361328125\n",
            "400.856689453125\n",
            "400.8546447753906\n",
            "400.8526916503906\n",
            "400.85064697265625\n",
            "400.84857177734375\n",
            "400.8465270996094\n",
            "400.8445129394531\n",
            "400.8425598144531\n",
            "400.8404846191406\n",
            "400.83843994140625\n",
            "400.83642578125\n",
            "400.83441162109375\n",
            "400.8323974609375\n",
            "400.8303527832031\n",
            "400.82830810546875\n",
            "400.8263244628906\n",
            "400.82427978515625\n",
            "400.82220458984375\n",
            "400.8202209472656\n",
            "400.8182373046875\n",
            "400.81622314453125\n",
            "400.81414794921875\n",
            "400.8121643066406\n",
            "400.8101806640625\n",
            "400.8081359863281\n",
            "400.8060607910156\n",
            "400.8040466308594\n",
            "400.802001953125\n",
            "400.79998779296875\n",
            "400.7979431152344\n",
            "400.79595947265625\n",
            "400.7939758300781\n",
            "400.79193115234375\n",
            "400.7898864746094\n",
            "400.787841796875\n",
            "400.78582763671875\n",
            "400.7838134765625\n",
            "400.7817687988281\n",
            "400.77978515625\n",
            "400.7777099609375\n",
            "400.77569580078125\n",
            "400.7737121582031\n",
            "400.7716369628906\n",
            "400.7696533203125\n",
            "400.7676086425781\n",
            "400.7655944824219\n",
            "400.7635498046875\n",
            "400.76153564453125\n",
            "400.7594909667969\n",
            "400.7574768066406\n",
            "400.7554626464844\n",
            "400.75347900390625\n",
            "400.75140380859375\n",
            "400.7493591308594\n",
            "400.74737548828125\n",
            "400.745361328125\n",
            "400.74334716796875\n",
            "400.74127197265625\n",
            "400.7392883300781\n",
            "400.73724365234375\n",
            "400.7351989746094\n",
            "400.7331848144531\n",
            "400.7311706542969\n",
            "400.72918701171875\n",
            "400.72711181640625\n",
            "400.7251281738281\n",
            "400.72308349609375\n",
            "400.7210693359375\n",
            "400.7190246582031\n",
            "400.71697998046875\n",
            "400.71502685546875\n",
            "400.71295166015625\n",
            "400.7109069824219\n",
            "400.7088928222656\n",
            "400.70684814453125\n",
            "400.7048645019531\n",
            "400.7028503417969\n",
            "400.7008056640625\n",
            "400.69879150390625\n",
            "400.6967468261719\n",
            "400.69476318359375\n",
            "400.69268798828125\n",
            "400.690673828125\n",
            "400.6885986328125\n",
            "400.6866455078125\n",
            "400.68463134765625\n",
            "400.6826171875\n",
            "400.68060302734375\n",
            "400.6785888671875\n",
            "400.67657470703125\n",
            "400.67449951171875\n",
            "400.6725158691406\n",
            "400.67047119140625\n",
            "400.66839599609375\n",
            "400.6664123535156\n",
            "400.66436767578125\n",
            "400.6623840332031\n",
            "400.6603088378906\n",
            "400.6582946777344\n",
            "400.65631103515625\n",
            "400.654296875\n",
            "400.6522216796875\n",
            "400.65020751953125\n",
            "400.6481628417969\n",
            "400.64617919921875\n",
            "400.6441345214844\n",
            "400.64208984375\n",
            "400.64007568359375\n",
            "400.6380310058594\n",
            "400.63604736328125\n",
            "400.6340026855469\n",
            "400.63201904296875\n",
            "400.6299743652344\n",
            "400.6279296875\n",
            "400.6259460449219\n",
            "400.6239318847656\n",
            "400.62188720703125\n",
            "400.61981201171875\n",
            "400.6178283691406\n",
            "400.6158447265625\n",
            "400.61376953125\n",
            "400.6117858886719\n",
            "400.6097412109375\n",
            "400.60772705078125\n",
            "400.6056823730469\n",
            "400.6036682128906\n",
            "400.6016540527344\n",
            "400.599609375\n",
            "400.59759521484375\n",
            "400.5955505371094\n",
            "400.5935363769531\n",
            "400.5915222167969\n",
            "400.5895080566406\n",
            "400.58746337890625\n",
            "400.5854187011719\n",
            "400.58343505859375\n",
            "400.5814208984375\n",
            "400.579345703125\n",
            "400.57733154296875\n",
            "400.5753479003906\n",
            "400.57330322265625\n",
            "400.57122802734375\n",
            "400.56927490234375\n",
            "400.5672607421875\n",
            "400.5652160644531\n",
            "400.56317138671875\n",
            "400.5611877441406\n",
            "400.55914306640625\n",
            "400.55712890625\n",
            "400.55511474609375\n",
            "400.5530700683594\n",
            "400.55108642578125\n",
            "400.54901123046875\n",
            "400.5469665527344\n",
            "400.5449523925781\n",
            "400.54290771484375\n",
            "400.5409240722656\n",
            "400.5389099121094\n",
            "400.53692626953125\n",
            "400.53485107421875\n",
            "400.5328369140625\n",
            "400.53082275390625\n",
            "400.52874755859375\n",
            "400.5267639160156\n",
            "400.5248107910156\n",
            "400.5226745605469\n",
            "400.52069091796875\n",
            "400.5186462402344\n",
            "400.51666259765625\n",
            "400.5146179199219\n",
            "400.5125732421875\n",
            "400.51055908203125\n",
            "400.508544921875\n",
            "400.5065002441406\n",
            "400.5045471191406\n",
            "400.50250244140625\n",
            "400.50042724609375\n",
            "400.4984130859375\n",
            "400.4964294433594\n",
            "400.494384765625\n",
            "400.49237060546875\n",
            "400.4903259277344\n",
            "400.48834228515625\n",
            "400.4862976074219\n",
            "400.48431396484375\n",
            "400.48223876953125\n",
            "400.480224609375\n",
            "400.47821044921875\n",
            "400.47613525390625\n",
            "400.4741516113281\n",
            "400.47210693359375\n",
            "400.4700927734375\n",
            "400.46807861328125\n",
            "400.466064453125\n",
            "400.46405029296875\n",
            "400.4620056152344\n",
            "400.4599609375\n",
            "400.45794677734375\n",
            "400.4559326171875\n",
            "400.45391845703125\n",
            "400.4518737792969\n",
            "400.4498291015625\n",
            "400.44781494140625\n",
            "400.44586181640625\n",
            "400.44378662109375\n",
            "400.4417724609375\n",
            "400.43975830078125\n",
            "400.437744140625\n",
            "400.43572998046875\n",
            "400.43365478515625\n",
            "400.4316711425781\n",
            "400.4296569824219\n",
            "400.4275817871094\n",
            "400.42559814453125\n",
            "400.423583984375\n",
            "400.42156982421875\n",
            "400.4195556640625\n",
            "400.41748046875\n",
            "400.41546630859375\n",
            "400.4134216308594\n",
            "400.41143798828125\n",
            "400.409423828125\n",
            "400.40740966796875\n",
            "400.40533447265625\n",
            "400.40338134765625\n",
            "400.40130615234375\n",
            "400.3992919921875\n",
            "400.39727783203125\n",
            "400.3952331542969\n",
            "400.39324951171875\n",
            "400.39117431640625\n",
            "400.38916015625\n",
            "400.38714599609375\n",
            "400.38507080078125\n",
            "400.38311767578125\n",
            "400.3810729980469\n",
            "400.37908935546875\n",
            "400.3770446777344\n",
            "400.3750305175781\n",
            "400.3730163574219\n",
            "400.3709716796875\n",
            "400.368896484375\n",
            "400.3669128417969\n",
            "400.3648986816406\n",
            "400.3628845214844\n",
            "400.3608703613281\n",
            "400.35882568359375\n",
            "400.3568420410156\n",
            "400.35479736328125\n",
            "400.352783203125\n",
            "400.35076904296875\n",
            "400.34869384765625\n",
            "400.3466796875\n",
            "400.3446044921875\n",
            "400.34259033203125\n",
            "400.34063720703125\n",
            "400.3385925292969\n",
            "400.33660888671875\n",
            "400.33453369140625\n",
            "400.3324890136719\n",
            "400.33050537109375\n",
            "400.32843017578125\n",
            "400.32647705078125\n",
            "400.324462890625\n",
            "400.3223876953125\n",
            "400.3204040527344\n",
            "400.3183288574219\n",
            "400.31634521484375\n",
            "400.3143615722656\n",
            "400.3122863769531\n",
            "400.3102722167969\n",
            "400.30828857421875\n",
            "400.3062744140625\n",
            "400.30419921875\n",
            "400.3021545410156\n",
            "400.3002014160156\n",
            "400.2981262207031\n",
            "400.2961120605469\n",
            "400.2940673828125\n",
            "400.2920837402344\n",
            "400.2900695800781\n",
            "400.28802490234375\n",
            "400.2860107421875\n",
            "400.28399658203125\n",
            "400.28192138671875\n",
            "400.2799072265625\n",
            "400.27789306640625\n",
            "400.27593994140625\n",
            "400.27386474609375\n",
            "400.2718200683594\n",
            "400.2698059082031\n",
            "400.2677917480469\n",
            "400.2657775878906\n",
            "400.26373291015625\n",
            "400.26171875\n",
            "400.25970458984375\n",
            "400.2577209472656\n",
            "400.2556457519531\n",
            "400.2536315917969\n",
            "400.2516174316406\n",
            "400.2495422363281\n",
            "400.24755859375\n",
            "400.24554443359375\n",
            "400.2434997558594\n",
            "400.24151611328125\n",
            "400.2394714355469\n",
            "400.2374572753906\n",
            "400.23541259765625\n",
            "400.23333740234375\n",
            "400.23138427734375\n",
            "400.2293701171875\n",
            "400.2273254394531\n",
            "400.225341796875\n",
            "400.2232666015625\n",
            "400.2212829589844\n",
            "400.21923828125\n",
            "400.2171936035156\n",
            "400.21514892578125\n",
            "400.2131652832031\n",
            "400.2111511230469\n",
            "400.2091369628906\n",
            "400.2071533203125\n",
            "400.2051086425781\n",
            "400.20306396484375\n",
            "400.2010192871094\n",
            "400.198974609375\n",
            "400.1969909667969\n",
            "400.19500732421875\n",
            "400.19293212890625\n",
            "400.1908874511719\n",
            "400.18890380859375\n",
            "400.1868591308594\n",
            "400.1848449707031\n",
            "400.18280029296875\n",
            "400.1808166503906\n",
            "400.1788024902344\n",
            "400.1767883300781\n",
            "400.17474365234375\n",
            "400.17266845703125\n",
            "400.170654296875\n",
            "400.16864013671875\n",
            "400.1666259765625\n",
            "400.1646423339844\n",
            "400.16265869140625\n",
            "400.16058349609375\n",
            "400.1585693359375\n",
            "400.1565246582031\n",
            "400.1545715332031\n",
            "400.15252685546875\n",
            "400.1504211425781\n",
            "400.1484680175781\n",
            "400.14642333984375\n",
            "400.1443786621094\n",
            "400.14239501953125\n",
            "400.1403503417969\n",
            "400.13836669921875\n",
            "400.1363220214844\n",
            "400.1343078613281\n",
            "400.13226318359375\n",
            "400.1302795410156\n",
            "400.12823486328125\n",
            "400.12615966796875\n",
            "400.12420654296875\n",
            "400.12213134765625\n",
            "400.1201477050781\n",
            "400.11810302734375\n",
            "400.1160888671875\n",
            "400.1141052246094\n",
            "400.112060546875\n",
            "400.1100158691406\n",
            "400.10797119140625\n",
            "400.1059265136719\n",
            "400.10394287109375\n",
            "400.10186767578125\n",
            "400.09991455078125\n",
            "400.0978698730469\n",
            "400.09588623046875\n",
            "400.09381103515625\n",
            "400.0918273925781\n",
            "400.08978271484375\n",
            "400.0877990722656\n",
            "400.08575439453125\n",
            "400.0837097167969\n",
            "400.0816955566406\n",
            "400.0796813964844\n",
            "400.0776062011719\n",
            "400.0756530761719\n",
            "400.07366943359375\n",
            "400.07159423828125\n",
            "400.0695495605469\n",
            "400.06756591796875\n",
            "400.0655517578125\n",
            "400.0635070800781\n",
            "400.0614929199219\n",
            "400.0594787597656\n",
            "400.05743408203125\n",
            "400.0553894042969\n",
            "400.0533447265625\n",
            "400.0513916015625\n",
            "400.04937744140625\n",
            "400.04730224609375\n",
            "400.0452880859375\n",
            "400.04327392578125\n",
            "400.0412292480469\n",
            "400.03924560546875\n",
            "400.03717041015625\n",
            "400.03515625\n",
            "400.0331726074219\n",
            "400.0310974121094\n",
            "400.02911376953125\n",
            "400.027099609375\n",
            "400.02508544921875\n",
            "400.0230712890625\n",
            "400.02099609375\n",
            "400.0190124511719\n",
            "400.01702880859375\n",
            "400.01495361328125\n",
            "400.012939453125\n",
            "400.01092529296875\n",
            "400.0089111328125\n",
            "400.00689697265625\n",
            "400.0048522949219\n",
            "400.00286865234375\n",
            "400.0008239746094\n",
            "399.9988098144531\n",
            "399.99676513671875\n",
            "399.9947204589844\n",
            "399.99273681640625\n",
            "399.99066162109375\n",
            "399.9886474609375\n",
            "399.9866638183594\n",
            "399.9846496582031\n",
            "399.98260498046875\n",
            "399.9806213378906\n",
            "399.97857666015625\n",
            "399.9765625\n",
            "399.9744873046875\n",
            "399.97247314453125\n",
            "399.9704284667969\n",
            "399.96844482421875\n",
            "399.9664611816406\n",
            "399.96441650390625\n",
            "399.9624328613281\n",
            "399.96038818359375\n",
            "399.9583435058594\n",
            "399.9563293457031\n",
            "399.95428466796875\n",
            "399.9522705078125\n",
            "399.9502868652344\n",
            "399.9482116699219\n",
            "399.94622802734375\n",
            "399.9442138671875\n",
            "399.942138671875\n",
            "399.940185546875\n",
            "399.9381408691406\n",
            "399.9361267089844\n",
            "399.93408203125\n",
            "399.9320373535156\n",
            "399.9300231933594\n",
            "399.92803955078125\n",
            "399.92596435546875\n",
            "399.9239501953125\n",
            "399.92193603515625\n",
            "399.9199523925781\n",
            "399.9178771972656\n",
            "399.9158935546875\n",
            "399.91387939453125\n",
            "399.9118347167969\n",
            "399.9098205566406\n",
            "399.9077453613281\n",
            "399.9057312011719\n",
            "399.9037780761719\n",
            "399.90179443359375\n",
            "399.89971923828125\n",
            "399.89764404296875\n",
            "399.89569091796875\n",
            "399.8936462402344\n",
            "399.8916015625\n",
            "399.8896484375\n",
            "399.8875732421875\n",
            "399.88555908203125\n",
            "399.883544921875\n",
            "399.8815002441406\n",
            "399.8794860839844\n",
            "399.87744140625\n",
            "399.87542724609375\n",
            "399.8734436035156\n",
            "399.8714294433594\n",
            "399.8694152832031\n",
            "399.86737060546875\n",
            "399.86529541015625\n",
            "399.86334228515625\n",
            "399.86126708984375\n",
            "399.8592834472656\n",
            "399.8572692871094\n",
            "399.855224609375\n",
            "399.85321044921875\n",
            "399.8511657714844\n",
            "399.84918212890625\n",
            "399.84710693359375\n",
            "399.8451232910156\n",
            "399.84307861328125\n",
            "399.8410339355469\n",
            "399.83905029296875\n",
            "399.8370361328125\n",
            "399.83502197265625\n",
            "399.83294677734375\n",
            "399.83099365234375\n",
            "399.8289489746094\n",
            "399.8269348144531\n",
            "399.82489013671875\n",
            "399.8228454589844\n",
            "399.8208312988281\n",
            "399.81878662109375\n",
            "399.81683349609375\n",
            "399.8147888183594\n",
            "399.81280517578125\n",
            "399.81072998046875\n",
            "399.8087158203125\n",
            "399.8067321777344\n",
            "399.8046875\n",
            "399.80267333984375\n",
            "399.80059814453125\n",
            "399.7986145019531\n",
            "399.79656982421875\n",
            "399.7945861816406\n",
            "399.79254150390625\n",
            "399.79052734375\n",
            "399.78851318359375\n",
            "399.7864990234375\n",
            "399.78448486328125\n",
            "399.7825012207031\n",
            "399.7804260253906\n",
            "399.77838134765625\n",
            "399.7763671875\n",
            "399.7744140625\n",
            "399.7723693847656\n",
            "399.77032470703125\n",
            "399.768310546875\n",
            "399.76629638671875\n",
            "399.7642517089844\n",
            "399.76226806640625\n",
            "399.76019287109375\n",
            "399.7581787109375\n",
            "399.7561340332031\n",
            "399.754150390625\n",
            "399.7521057128906\n",
            "399.7501220703125\n",
            "399.7480773925781\n",
            "399.7460021972656\n",
            "399.7440490722656\n",
            "399.74200439453125\n",
            "399.7400207519531\n",
            "399.73797607421875\n",
            "399.7359619140625\n",
            "399.7339172363281\n",
            "399.73187255859375\n",
            "399.7298583984375\n",
            "399.7278137207031\n",
            "399.7258605957031\n",
            "399.7238464355469\n",
            "399.7217712402344\n",
            "399.7197570800781\n",
            "399.7177429199219\n",
            "399.7157287597656\n",
            "399.7137145996094\n",
            "399.7116394042969\n",
            "399.70965576171875\n",
            "399.7076416015625\n",
            "399.70562744140625\n",
            "399.70361328125\n",
            "399.70159912109375\n",
            "399.6995849609375\n",
            "399.6975402832031\n",
            "399.6955261230469\n",
            "399.6935119628906\n",
            "399.6914978027344\n",
            "399.6894226074219\n",
            "399.6874084472656\n",
            "399.68536376953125\n",
            "399.68341064453125\n",
            "399.6813659667969\n",
            "399.6792907714844\n",
            "399.6773376464844\n",
            "399.67529296875\n",
            "399.6733093261719\n",
            "399.6712646484375\n",
            "399.6692199707031\n",
            "399.66717529296875\n",
            "399.6651611328125\n",
            "399.6631774902344\n",
            "399.66119384765625\n",
            "399.6591796875\n",
            "399.6571044921875\n",
            "399.65509033203125\n",
            "399.6531066894531\n",
            "399.65106201171875\n",
            "399.6490173339844\n",
            "399.6470031738281\n",
            "399.6449890136719\n",
            "399.64300537109375\n",
            "399.6409606933594\n",
            "399.6389465332031\n",
            "399.63690185546875\n",
            "399.6348571777344\n",
            "399.63287353515625\n",
            "399.6308898925781\n",
            "399.6288146972656\n",
            "399.6268005371094\n",
            "399.6247863769531\n",
            "399.62274169921875\n",
            "399.6207275390625\n",
            "399.61871337890625\n",
            "399.61669921875\n",
            "399.6146545410156\n",
            "399.6126403808594\n",
            "399.6106262207031\n",
            "399.60858154296875\n",
            "399.6065979003906\n",
            "399.6046142578125\n",
            "399.6025085449219\n",
            "399.60052490234375\n",
            "399.5984802246094\n",
            "399.59649658203125\n",
            "399.5944519042969\n",
            "399.5924377441406\n",
            "399.5904541015625\n",
            "399.5884094238281\n",
            "399.58636474609375\n",
            "399.5843200683594\n",
            "399.5823059082031\n",
            "399.5803527832031\n",
            "399.5782775878906\n",
            "399.57623291015625\n",
            "399.5742492675781\n",
            "399.57220458984375\n",
            "399.5701904296875\n",
            "399.56817626953125\n",
            "399.5661315917969\n",
            "399.56414794921875\n",
            "399.5621032714844\n",
            "399.56011962890625\n",
            "399.55804443359375\n",
            "399.5560302734375\n",
            "399.5540466308594\n",
            "399.55194091796875\n",
            "399.54998779296875\n",
            "399.5479736328125\n",
            "399.54595947265625\n",
            "399.5439147949219\n",
            "399.5419006347656\n",
            "399.53997802734375\n",
            "399.53790283203125\n",
            "399.53582763671875\n",
            "399.5337829589844\n",
            "399.5318298339844\n",
            "399.52978515625\n",
            "399.52777099609375\n",
            "399.5257263183594\n",
            "399.5237121582031\n",
            "399.52166748046875\n",
            "399.5196838378906\n",
            "399.51763916015625\n",
            "399.5156555175781\n",
            "399.51361083984375\n",
            "399.5115661621094\n",
            "399.50958251953125\n",
            "399.5075378417969\n",
            "399.5055236816406\n",
            "399.50347900390625\n",
            "399.5014953613281\n",
            "399.49945068359375\n",
            "399.4974670410156\n",
            "399.49542236328125\n",
            "399.4933776855469\n",
            "399.4913635253906\n",
            "399.48931884765625\n",
            "399.4873046875\n",
            "399.48529052734375\n",
            "399.48333740234375\n",
            "399.48126220703125\n",
            "399.479248046875\n",
            "399.47723388671875\n",
            "399.4752197265625\n",
            "399.4732360839844\n",
            "399.47119140625\n",
            "399.4691467285156\n",
            "399.46710205078125\n",
            "399.465087890625\n",
            "399.4631042480469\n",
            "399.4610595703125\n",
            "399.45904541015625\n",
            "399.4570007324219\n",
            "399.4549865722656\n",
            "399.4530029296875\n",
            "399.45098876953125\n",
            "399.4489440917969\n",
            "399.4468994140625\n",
            "399.4449157714844\n",
            "399.44287109375\n",
            "399.4408264160156\n",
            "399.4388122558594\n",
            "399.43682861328125\n",
            "399.4348449707031\n",
            "399.43280029296875\n",
            "399.4307556152344\n",
            "399.42877197265625\n",
            "399.4267272949219\n",
            "399.4246520996094\n",
            "399.42266845703125\n",
            "399.420654296875\n",
            "399.41864013671875\n",
            "399.4166564941406\n",
            "399.41461181640625\n",
            "399.4125671386719\n",
            "399.41058349609375\n",
            "399.40850830078125\n",
            "399.4065246582031\n",
            "399.40447998046875\n",
            "399.4024963378906\n",
            "399.40045166015625\n",
            "399.39837646484375\n",
            "399.39642333984375\n",
            "399.3944091796875\n",
            "399.39239501953125\n",
            "399.3902893066406\n",
            "399.3883056640625\n",
            "399.3863525390625\n",
            "399.38427734375\n",
            "399.38226318359375\n",
            "399.38018798828125\n",
            "399.37823486328125\n",
            "399.3761901855469\n",
            "399.3741455078125\n",
            "399.3721618652344\n",
            "399.3701477050781\n",
            "399.36810302734375\n",
            "399.36614990234375\n",
            "399.3641052246094\n",
            "399.3620300292969\n",
            "399.36004638671875\n",
            "399.35797119140625\n",
            "399.3559875488281\n",
            "399.3539733886719\n",
            "399.35198974609375\n",
            "399.3499450683594\n",
            "399.3479309082031\n",
            "399.34588623046875\n",
            "399.3438720703125\n",
            "399.34185791015625\n",
            "399.33978271484375\n",
            "399.3377685546875\n",
            "399.3357849121094\n",
            "399.333740234375\n",
            "399.33172607421875\n",
            "399.3297119140625\n",
            "399.32769775390625\n",
            "399.3257141113281\n",
            "399.32366943359375\n",
            "399.3216552734375\n",
            "399.31964111328125\n",
            "399.31756591796875\n",
            "399.3155517578125\n",
            "399.31353759765625\n",
            "399.3115234375\n",
            "399.30950927734375\n",
            "399.3074951171875\n",
            "399.3055114746094\n",
            "399.3034973144531\n",
            "399.30145263671875\n",
            "399.2994384765625\n",
            "399.29742431640625\n",
            "399.29534912109375\n",
            "399.2933349609375\n",
            "399.29132080078125\n",
            "399.2893371582031\n",
            "399.28729248046875\n",
            "399.2852783203125\n",
            "399.28326416015625\n",
            "399.28125\n",
            "399.27923583984375\n",
            "399.27716064453125\n",
            "399.27520751953125\n",
            "399.27313232421875\n",
            "399.2711181640625\n",
            "399.26910400390625\n",
            "399.26708984375\n",
            "399.2651062011719\n",
            "399.26300048828125\n",
            "399.260986328125\n",
            "399.2590637207031\n",
            "399.2570495605469\n",
            "399.2549743652344\n",
            "399.2528991699219\n",
            "399.2509460449219\n",
            "399.2489013671875\n",
            "399.24688720703125\n",
            "399.2448425292969\n",
            "399.24285888671875\n",
            "399.2408142089844\n",
            "399.23883056640625\n",
            "399.23681640625\n",
            "399.2347412109375\n",
            "399.2327575683594\n",
            "399.230712890625\n",
            "399.22869873046875\n",
            "399.2266845703125\n",
            "399.22467041015625\n",
            "399.2226257324219\n",
            "399.2205810546875\n",
            "399.2186279296875\n",
            "399.21661376953125\n",
            "399.2145690917969\n",
            "399.2125244140625\n",
            "399.21051025390625\n",
            "399.20849609375\n",
            "399.20648193359375\n",
            "399.2044372558594\n",
            "399.20245361328125\n",
            "399.200439453125\n",
            "399.19842529296875\n",
            "399.1963806152344\n",
            "399.19439697265625\n",
            "399.1923522949219\n",
            "399.19036865234375\n",
            "399.1883239746094\n",
            "399.186279296875\n",
            "399.1842346191406\n",
            "399.1822204589844\n",
            "399.18023681640625\n",
            "399.1781921386719\n",
            "399.17620849609375\n",
            "399.1742248535156\n",
            "399.1721496582031\n",
            "399.17010498046875\n",
            "399.1681213378906\n",
            "399.16607666015625\n",
            "399.1640625\n",
            "399.1620178222656\n",
            "399.1600036621094\n",
            "399.15802001953125\n",
            "399.1559753417969\n",
            "399.15399169921875\n",
            "399.1519470214844\n",
            "399.14996337890625\n",
            "399.14788818359375\n",
            "399.1458435058594\n",
            "399.14385986328125\n",
            "399.1418151855469\n",
            "399.1398010253906\n",
            "399.1378479003906\n",
            "399.13580322265625\n",
            "399.1337585449219\n",
            "399.1317138671875\n",
            "399.1297302246094\n",
            "399.1277160644531\n",
            "399.1257019042969\n",
            "399.12371826171875\n",
            "399.12164306640625\n",
            "399.11962890625\n",
            "399.11761474609375\n",
            "399.1155700683594\n",
            "399.11358642578125\n",
            "399.111572265625\n",
            "399.1095275878906\n",
            "399.1075134277344\n",
            "399.10546875\n",
            "399.10345458984375\n",
            "399.1014099121094\n",
            "399.09942626953125\n",
            "399.0973815917969\n",
            "399.0954284667969\n",
            "399.0933532714844\n",
            "399.0913391113281\n",
            "399.0893249511719\n",
            "399.0872802734375\n",
            "399.08526611328125\n",
            "399.0832214355469\n",
            "399.081298828125\n",
            "399.07928466796875\n",
            "399.07720947265625\n",
            "399.0751953125\n",
            "399.07318115234375\n",
            "399.0711669921875\n",
            "399.06915283203125\n",
            "399.06707763671875\n",
            "399.0650939941406\n",
            "399.0630798339844\n",
            "399.0610656738281\n",
            "399.05902099609375\n",
            "399.05706787109375\n",
            "399.05499267578125\n",
            "399.0530090332031\n",
            "399.0509338378906\n",
            "399.0489501953125\n",
            "399.0469055175781\n",
            "399.0448913574219\n",
            "399.0428161621094\n",
            "399.0408630371094\n",
            "399.038818359375\n",
            "399.0368347167969\n",
            "399.0347595214844\n",
            "399.03277587890625\n",
            "399.03082275390625\n",
            "399.02874755859375\n",
            "399.0267028808594\n",
            "399.024658203125\n",
            "399.022705078125\n",
            "399.02069091796875\n",
            "399.0186462402344\n",
            "399.0166320800781\n",
            "399.0146484375\n",
            "399.0125732421875\n",
            "399.01055908203125\n",
            "399.008544921875\n",
            "399.00653076171875\n",
            "399.0045471191406\n",
            "399.0024719238281\n",
            "399.0004577636719\n",
            "398.99847412109375\n",
            "398.9964599609375\n",
            "398.994384765625\n",
            "398.99237060546875\n",
            "398.9903564453125\n",
            "398.98834228515625\n",
            "398.986328125\n",
            "398.98431396484375\n",
            "398.9822998046875\n",
            "398.98028564453125\n",
            "398.97833251953125\n",
            "398.97625732421875\n",
            "398.9742126464844\n",
            "398.97222900390625\n",
            "398.97021484375\n",
            "398.9681396484375\n",
            "398.9661865234375\n",
            "398.96417236328125\n",
            "398.96209716796875\n",
            "398.96014404296875\n",
            "398.95806884765625\n",
            "398.9560852050781\n",
            "398.95404052734375\n",
            "398.9519958496094\n",
            "398.95001220703125\n",
            "398.9479675292969\n",
            "398.9459533691406\n",
            "398.9439697265625\n",
            "398.94195556640625\n",
            "398.9399108886719\n",
            "398.9378662109375\n",
            "398.9358215332031\n",
            "398.933837890625\n",
            "398.93182373046875\n",
            "398.92974853515625\n",
            "398.92779541015625\n",
            "398.92578125\n",
            "398.92376708984375\n",
            "398.9217529296875\n",
            "398.91973876953125\n",
            "398.917724609375\n",
            "398.9156494140625\n",
            "398.91363525390625\n",
            "398.91162109375\n",
            "398.9096374511719\n",
            "398.9076232910156\n",
            "398.90557861328125\n",
            "398.90362548828125\n",
            "398.90155029296875\n",
            "398.8995056152344\n",
            "398.8974304199219\n",
            "398.8954772949219\n",
            "398.89349365234375\n",
            "398.8914489746094\n",
            "398.889404296875\n",
            "398.887451171875\n",
            "398.8854064941406\n",
            "398.8833923339844\n",
            "398.88128662109375\n",
            "398.87933349609375\n",
            "398.87738037109375\n",
            "398.87530517578125\n",
            "398.8732604980469\n",
            "398.87127685546875\n",
            "398.8692626953125\n",
            "398.86724853515625\n",
            "398.865234375\n",
            "398.86322021484375\n",
            "398.8612060546875\n",
            "398.8591613769531\n",
            "398.85711669921875\n",
            "398.8551025390625\n",
            "398.8531494140625\n",
            "398.8511047363281\n",
            "398.84906005859375\n",
            "398.8470458984375\n",
            "398.84503173828125\n",
            "398.843017578125\n",
            "398.8409729003906\n",
            "398.8389587402344\n",
            "398.83697509765625\n",
            "398.8349304199219\n",
            "398.8329162597656\n",
            "398.8309020996094\n",
            "398.82891845703125\n",
            "398.8268737792969\n",
            "398.82476806640625\n",
            "398.82281494140625\n",
            "398.82080078125\n",
            "398.81878662109375\n",
            "398.8167724609375\n",
            "398.81475830078125\n",
            "398.812744140625\n",
            "398.81072998046875\n",
            "398.8086853027344\n",
            "398.80670166015625\n",
            "398.8046875\n",
            "398.8026428222656\n",
            "398.80059814453125\n",
            "398.7986145019531\n",
            "398.7966003417969\n",
            "398.7945861816406\n",
            "398.79254150390625\n",
            "398.79052734375\n",
            "398.78851318359375\n",
            "398.78643798828125\n",
            "398.78448486328125\n",
            "398.7824401855469\n",
            "398.78045654296875\n",
            "398.7784118652344\n",
            "398.7763977050781\n",
            "398.77435302734375\n",
            "398.7723693847656\n",
            "398.77032470703125\n",
            "398.7683410644531\n",
            "398.76629638671875\n",
            "398.7642822265625\n",
            "398.7622985839844\n",
            "398.7602233886719\n",
            "398.75823974609375\n",
            "398.7562255859375\n",
            "398.75421142578125\n",
            "398.7522277832031\n",
            "398.75018310546875\n",
            "398.7481384277344\n",
            "398.7461242675781\n",
            "398.74407958984375\n",
            "398.7420654296875\n",
            "398.7401123046875\n",
            "398.738037109375\n",
            "398.7360534667969\n",
            "398.7340393066406\n",
            "398.7320251464844\n",
            "398.72998046875\n",
            "398.7279052734375\n",
            "398.7259521484375\n",
            "398.72393798828125\n",
            "398.72186279296875\n",
            "398.7198486328125\n",
            "398.7178955078125\n",
            "398.71588134765625\n",
            "398.7138366699219\n",
            "398.7117614746094\n",
            "398.70977783203125\n",
            "398.70782470703125\n",
            "398.70574951171875\n",
            "398.7037353515625\n",
            "398.70172119140625\n",
            "398.6997375488281\n",
            "398.69769287109375\n",
            "398.6956481933594\n",
            "398.69366455078125\n",
            "398.691650390625\n",
            "398.68963623046875\n",
            "398.6875915527344\n",
            "398.6855773925781\n",
            "398.68353271484375\n",
            "398.68157958984375\n",
            "398.67950439453125\n",
            "398.6775207519531\n",
            "398.67547607421875\n",
            "398.6734619140625\n",
            "398.67144775390625\n",
            "398.66943359375\n",
            "398.66741943359375\n",
            "398.6654052734375\n",
            "398.66339111328125\n",
            "398.661376953125\n",
            "398.65936279296875\n",
            "398.6573181152344\n",
            "398.65533447265625\n",
            "398.6532897949219\n",
            "398.65130615234375\n",
            "398.6492614746094\n",
            "398.6472473144531\n",
            "398.64520263671875\n",
            "398.64324951171875\n",
            "398.6412048339844\n",
            "398.6391906738281\n",
            "398.63714599609375\n",
            "398.6351318359375\n",
            "398.63311767578125\n",
            "398.6310729980469\n",
            "398.62908935546875\n",
            "398.6270446777344\n",
            "398.6250305175781\n",
            "398.6230163574219\n",
            "398.6210021972656\n",
            "398.61895751953125\n",
            "398.6169128417969\n",
            "398.61492919921875\n",
            "398.6129455566406\n",
            "398.6108703613281\n",
            "398.60888671875\n",
            "398.60687255859375\n",
            "398.6048583984375\n",
            "398.60284423828125\n",
            "398.6008605957031\n",
            "398.59881591796875\n",
            "398.5968017578125\n",
            "398.59478759765625\n",
            "398.5927429199219\n",
            "398.59075927734375\n",
            "398.5887145996094\n",
            "398.58673095703125\n",
            "398.58465576171875\n",
            "398.5826721191406\n",
            "398.5806579589844\n",
            "398.5786437988281\n",
            "398.57659912109375\n",
            "398.5745849609375\n",
            "398.57257080078125\n",
            "398.570556640625\n",
            "398.56854248046875\n",
            "398.5664978027344\n",
            "398.56451416015625\n",
            "398.5625\n",
            "398.5603942871094\n",
            "398.55841064453125\n",
            "398.55645751953125\n",
            "398.554443359375\n",
            "398.5523681640625\n",
            "398.55035400390625\n",
            "398.5483703613281\n",
            "398.54638671875\n",
            "398.54437255859375\n",
            "398.5422668457031\n",
            "398.5403137207031\n",
            "398.53826904296875\n",
            "398.5362854003906\n",
            "398.5342102050781\n",
            "398.5322265625\n",
            "398.5302429199219\n",
            "398.5282287597656\n",
            "398.5261535644531\n",
            "398.5241394042969\n",
            "398.5221862792969\n",
            "398.52008056640625\n",
            "398.51806640625\n",
            "398.5160827636719\n",
            "398.5140686035156\n",
            "398.51202392578125\n",
            "398.510009765625\n",
            "398.50799560546875\n",
            "398.5060119628906\n",
            "398.50396728515625\n",
            "398.50189208984375\n",
            "398.49993896484375\n",
            "398.4979248046875\n",
            "398.49591064453125\n",
            "398.4939270019531\n",
            "398.4918518066406\n",
            "398.4898681640625\n",
            "398.48785400390625\n",
            "398.48583984375\n",
            "398.48382568359375\n",
            "398.4818115234375\n",
            "398.47979736328125\n",
            "398.47772216796875\n",
            "398.4756774902344\n",
            "398.47369384765625\n",
            "398.47174072265625\n",
            "398.46966552734375\n",
            "398.4676818847656\n",
            "398.46563720703125\n",
            "398.4636535644531\n",
            "398.46160888671875\n",
            "398.4595642089844\n",
            "398.45758056640625\n",
            "398.45550537109375\n",
            "398.4535217285156\n",
            "398.4515686035156\n",
            "398.44952392578125\n",
            "398.44744873046875\n",
            "398.44549560546875\n",
            "398.44342041015625\n",
            "398.44146728515625\n",
            "398.4394226074219\n",
            "398.4373779296875\n",
            "398.4353942871094\n",
            "398.4333801269531\n",
            "398.4313659667969\n",
            "398.4292907714844\n",
            "398.42730712890625\n",
            "398.4252624511719\n",
            "398.4232482910156\n",
            "398.4212341308594\n",
            "398.41925048828125\n",
            "398.417236328125\n",
            "398.41522216796875\n",
            "398.41314697265625\n",
            "398.4111633300781\n",
            "398.4091491699219\n",
            "398.4070739746094\n",
            "398.4051513671875\n",
            "398.403076171875\n",
            "398.40106201171875\n",
            "398.3990478515625\n",
            "398.39703369140625\n",
            "398.39501953125\n",
            "398.39306640625\n",
            "398.3910217285156\n",
            "398.3889465332031\n",
            "398.38702392578125\n",
            "398.38494873046875\n",
            "398.3829040527344\n",
            "398.38092041015625\n",
            "398.3789367675781\n",
            "398.37689208984375\n",
            "398.3748779296875\n",
            "398.3728332519531\n",
            "398.37078857421875\n",
            "398.36883544921875\n",
            "398.36676025390625\n",
            "398.36474609375\n",
            "398.3627624511719\n",
            "398.3607482910156\n",
            "398.35870361328125\n",
            "398.356689453125\n",
            "398.35467529296875\n",
            "398.3526611328125\n",
            "398.35064697265625\n",
            "398.3486022949219\n",
            "398.34661865234375\n",
            "398.3446044921875\n",
            "398.3425598144531\n",
            "398.3405456542969\n",
            "398.33856201171875\n",
            "398.3365783691406\n",
            "398.3345031738281\n",
            "398.33245849609375\n",
            "398.33050537109375\n",
            "398.3284912109375\n",
            "398.32647705078125\n",
            "398.32440185546875\n",
            "398.3223876953125\n",
            "398.3204040527344\n",
            "398.31842041015625\n",
            "398.31634521484375\n",
            "398.3143615722656\n",
            "398.31231689453125\n",
            "398.310302734375\n",
            "398.30828857421875\n",
            "398.3062438964844\n",
            "398.30426025390625\n",
            "398.30224609375\n",
            "398.30023193359375\n",
            "398.2981872558594\n",
            "398.296142578125\n",
            "398.2941589355469\n",
            "398.2921142578125\n",
            "398.29010009765625\n",
            "398.28814697265625\n",
            "398.2861022949219\n",
            "398.28411865234375\n",
            "398.28204345703125\n",
            "398.28009033203125\n",
            "398.27801513671875\n",
            "398.2760009765625\n",
            "398.27398681640625\n",
            "398.27197265625\n",
            "398.26995849609375\n",
            "398.2679748535156\n",
            "398.26593017578125\n",
            "398.2638854980469\n",
            "398.26190185546875\n",
            "398.2598876953125\n",
            "398.2578125\n",
            "398.2558288574219\n",
            "398.2538146972656\n",
            "398.2518005371094\n",
            "398.24981689453125\n",
            "398.24774169921875\n",
            "398.2457275390625\n",
            "398.2437438964844\n",
            "398.24169921875\n",
            "398.23968505859375\n",
            "398.2377014160156\n",
            "398.23565673828125\n",
            "398.2336730957031\n",
            "398.23162841796875\n",
            "398.2296142578125\n",
            "398.22760009765625\n",
            "398.22564697265625\n",
            "398.2236022949219\n",
            "398.2215270996094\n",
            "398.21954345703125\n",
            "398.217529296875\n",
            "398.21551513671875\n",
            "398.2134704589844\n",
            "398.21148681640625\n",
            "398.2094421386719\n",
            "398.20745849609375\n",
            "398.2054138183594\n",
            "398.2033386230469\n",
            "398.2013854980469\n",
            "398.1993713378906\n",
            "398.19732666015625\n",
            "398.19525146484375\n",
            "398.193359375\n",
            "398.1912841796875\n",
            "398.18927001953125\n",
            "398.187255859375\n",
            "398.18524169921875\n",
            "398.1832580566406\n",
            "398.18121337890625\n",
            "398.17913818359375\n",
            "398.17718505859375\n",
            "398.1751708984375\n",
            "398.1731262207031\n",
            "398.171142578125\n",
            "398.16912841796875\n",
            "398.1671447753906\n",
            "398.1650695800781\n",
            "398.16302490234375\n",
            "398.16107177734375\n",
            "398.1590270996094\n",
            "398.1570129394531\n",
            "398.1549987792969\n",
            "398.1529541015625\n",
            "398.1510009765625\n",
            "398.1489562988281\n",
            "398.1469421386719\n",
            "398.1448974609375\n",
            "398.14288330078125\n",
            "398.1408996582031\n",
            "398.13885498046875\n",
            "398.1368408203125\n",
            "398.13482666015625\n",
            "398.1328125\n",
            "398.13079833984375\n",
            "398.1288146972656\n",
            "398.1267395019531\n",
            "398.1247253417969\n",
            "398.12274169921875\n",
            "398.1206970214844\n",
            "398.11871337890625\n",
            "398.11669921875\n",
            "398.1146545410156\n",
            "398.1126708984375\n",
            "398.1106262207031\n",
            "398.1086120605469\n",
            "398.1065979003906\n",
            "398.10455322265625\n",
            "398.1025390625\n",
            "398.1005554199219\n",
            "398.0985107421875\n",
            "398.09649658203125\n",
            "398.094482421875\n",
            "398.09246826171875\n",
            "398.0904846191406\n",
            "398.08843994140625\n",
            "398.0863952636719\n",
            "398.08441162109375\n",
            "398.0823974609375\n",
            "398.08038330078125\n",
            "398.0783386230469\n",
            "398.07635498046875\n",
            "398.0743103027344\n",
            "398.07232666015625\n",
            "398.0703430175781\n",
            "398.06829833984375\n",
            "398.0662536621094\n",
            "398.06427001953125\n",
            "398.062255859375\n",
            "398.0602111816406\n",
            "398.05816650390625\n",
            "398.0561828613281\n",
            "398.05413818359375\n",
            "398.05218505859375\n",
            "398.05010986328125\n",
            "398.048095703125\n",
            "398.04608154296875\n",
            "398.0440673828125\n",
            "398.04205322265625\n",
            "398.0400695800781\n",
            "398.03802490234375\n",
            "398.0360107421875\n",
            "398.03399658203125\n",
            "398.0320129394531\n",
            "398.02996826171875\n",
            "398.0279541015625\n",
            "398.0259094238281\n",
            "398.0239562988281\n",
            "398.02191162109375\n",
            "398.0199279785156\n",
            "398.01788330078125\n",
            "398.0158996582031\n",
            "398.01385498046875\n",
            "398.01177978515625\n",
            "398.0097961425781\n",
            "398.0077819824219\n",
            "398.00579833984375\n",
            "398.0037536621094\n",
            "398.00177001953125\n",
            "397.9997253417969\n",
            "397.99774169921875\n",
            "397.99566650390625\n",
            "397.99365234375\n",
            "397.99169921875\n",
            "397.9896240234375\n",
            "397.98760986328125\n",
            "397.985595703125\n",
            "397.98358154296875\n",
            "397.9815979003906\n",
            "397.97955322265625\n",
            "397.97760009765625\n",
            "397.9755554199219\n",
            "397.97357177734375\n",
            "397.97149658203125\n",
            "397.9694519042969\n",
            "397.9674987792969\n",
            "397.9654541015625\n",
            "397.96343994140625\n",
            "397.9614562988281\n",
            "397.95941162109375\n",
            "397.95733642578125\n",
            "397.9553527832031\n",
            "397.9533386230469\n",
            "397.9513244628906\n",
            "397.9493408203125\n",
            "397.94732666015625\n",
            "397.9452819824219\n",
            "397.9432678222656\n",
            "397.9412841796875\n",
            "397.93927001953125\n",
            "397.9372253417969\n",
            "397.9351806640625\n",
            "397.9331970214844\n",
            "397.93115234375\n",
            "397.92913818359375\n",
            "397.9271240234375\n",
            "397.9251403808594\n",
            "397.9231262207031\n",
            "397.92108154296875\n",
            "397.9190979003906\n",
            "397.91705322265625\n",
            "397.9150695800781\n",
            "397.91302490234375\n",
            "397.9110107421875\n",
            "397.90899658203125\n",
            "397.9069519042969\n",
            "397.90496826171875\n",
            "397.9029541015625\n",
            "397.90093994140625\n",
            "397.89892578125\n",
            "397.89691162109375\n",
            "397.89483642578125\n",
            "397.89288330078125\n",
            "397.8908386230469\n",
            "397.8888244628906\n",
            "397.88677978515625\n",
            "397.8847961425781\n",
            "397.8828430175781\n",
            "397.8807373046875\n",
            "397.87872314453125\n",
            "397.87677001953125\n",
            "397.87469482421875\n",
            "397.87274169921875\n",
            "397.87066650390625\n",
            "397.8686828613281\n",
            "397.86663818359375\n",
            "397.8646545410156\n",
            "397.8626403808594\n",
            "397.86065673828125\n",
            "397.8586120605469\n",
            "397.8565673828125\n",
            "397.85455322265625\n",
            "397.8525695800781\n",
            "397.85052490234375\n",
            "397.8485412597656\n",
            "397.8465270996094\n",
            "397.8445129394531\n",
            "397.84246826171875\n",
            "397.8404541015625\n",
            "397.8384094238281\n",
            "397.8364562988281\n",
            "397.8343811035156\n",
            "397.8323974609375\n",
            "397.83038330078125\n",
            "397.828369140625\n",
            "397.8263854980469\n",
            "397.8243103027344\n",
            "397.82232666015625\n",
            "397.8202819824219\n",
            "397.81829833984375\n",
            "397.81622314453125\n",
            "397.8142395019531\n",
            "397.81219482421875\n",
            "397.81024169921875\n",
            "397.80816650390625\n",
            "397.80621337890625\n",
            "397.80419921875\n",
            "397.8021545410156\n",
            "397.80010986328125\n",
            "397.798095703125\n",
            "397.7961120605469\n",
            "397.7940673828125\n",
            "397.7920227050781\n",
            "397.79010009765625\n",
            "397.7880554199219\n",
            "397.7860107421875\n",
            "397.78399658203125\n",
            "397.781982421875\n",
            "397.77996826171875\n",
            "397.7779541015625\n",
            "397.7759094238281\n",
            "397.77392578125\n",
            "397.77191162109375\n",
            "397.7698974609375\n",
            "397.76788330078125\n",
            "397.76580810546875\n",
            "397.76385498046875\n",
            "397.7618103027344\n",
            "397.759765625\n",
            "397.7578125\n",
            "397.75579833984375\n",
            "397.7537536621094\n",
            "397.75177001953125\n",
            "397.7497863769531\n",
            "397.74774169921875\n",
            "397.7456970214844\n",
            "397.74365234375\n",
            "397.74169921875\n",
            "397.73968505859375\n",
            "397.7377014160156\n",
            "397.7356872558594\n",
            "397.7336730957031\n",
            "397.731689453125\n",
            "397.7297058105469\n",
            "397.72760009765625\n",
            "397.72564697265625\n",
            "397.7236328125\n",
            "397.7216796875\n",
            "397.71966552734375\n",
            "397.7176513671875\n",
            "397.7156982421875\n",
            "397.7136535644531\n",
            "397.7116394042969\n",
            "397.7096862792969\n",
            "397.7076721191406\n",
            "397.70562744140625\n",
            "397.7036437988281\n",
            "397.70166015625\n",
            "397.6996154785156\n",
            "397.6976013183594\n",
            "397.69561767578125\n",
            "397.69366455078125\n",
            "397.691650390625\n",
            "397.68963623046875\n",
            "397.6876220703125\n",
            "397.68560791015625\n",
            "397.68359375\n",
            "397.6816101074219\n",
            "397.6795959472656\n",
            "397.6776123046875\n",
            "397.6756286621094\n",
            "397.6736145019531\n",
            "397.6716003417969\n",
            "397.66961669921875\n",
            "397.6676025390625\n",
            "397.6656494140625\n",
            "397.6636047363281\n",
            "397.6615905761719\n",
            "397.65960693359375\n",
            "397.6576232910156\n",
            "397.6556091308594\n",
            "397.65362548828125\n",
            "397.65155029296875\n",
            "397.64959716796875\n",
            "397.6475830078125\n",
            "397.64556884765625\n",
            "397.64361572265625\n",
            "397.64154052734375\n",
            "397.6395568847656\n",
            "397.6375427246094\n",
            "397.63555908203125\n",
            "397.6335754394531\n",
            "397.63153076171875\n",
            "397.6295471191406\n",
            "397.6275634765625\n",
            "397.62554931640625\n",
            "397.62359619140625\n",
            "397.6215515136719\n",
            "397.61956787109375\n",
            "397.6175842285156\n",
            "397.61553955078125\n",
            "397.613525390625\n",
            "397.6115417480469\n",
            "397.6095275878906\n",
            "397.60760498046875\n",
            "397.60552978515625\n",
            "397.6035461425781\n",
            "397.60150146484375\n",
            "397.5995178222656\n",
            "397.59747314453125\n",
            "397.5954895019531\n",
            "397.593505859375\n",
            "397.5915222167969\n",
            "397.58953857421875\n",
            "397.5875244140625\n",
            "397.58551025390625\n",
            "397.58349609375\n",
            "397.5815124511719\n",
            "397.57952880859375\n",
            "397.5775146484375\n",
            "397.57550048828125\n",
            "397.573486328125\n",
            "397.5715026855469\n",
            "397.56951904296875\n",
            "397.5674743652344\n",
            "397.56549072265625\n",
            "397.5635070800781\n",
            "397.5615234375\n",
            "397.55950927734375\n",
            "397.5574951171875\n",
            "397.55548095703125\n",
            "397.55340576171875\n",
            "397.55145263671875\n",
            "397.54949951171875\n",
            "397.5474548339844\n",
            "397.54547119140625\n",
            "397.5434875488281\n",
            "397.54144287109375\n",
            "397.5394287109375\n",
            "397.5374755859375\n",
            "397.53546142578125\n",
            "397.533447265625\n",
            "397.5314636230469\n",
            "397.5294494628906\n",
            "397.5274963378906\n",
            "397.52545166015625\n",
            "397.5234375\n",
            "397.521484375\n",
            "397.51947021484375\n",
            "397.5174560546875\n",
            "397.5154724121094\n",
            "397.5134582519531\n",
            "397.5114440917969\n",
            "397.50946044921875\n",
            "397.5074462890625\n",
            "397.50543212890625\n",
            "397.5034484863281\n",
            "397.5013732910156\n",
            "397.4994201660156\n",
            "397.4974060058594\n",
            "397.4954528808594\n",
            "397.49346923828125\n",
            "397.49139404296875\n",
            "397.48944091796875\n",
            "397.4873962402344\n",
            "397.48541259765625\n",
            "397.4834289550781\n",
            "397.4814147949219\n",
            "397.47943115234375\n",
            "397.4774169921875\n",
            "397.47540283203125\n",
            "397.47344970703125\n",
            "397.47137451171875\n",
            "397.4694519042969\n",
            "397.4673767089844\n",
            "397.46539306640625\n",
            "397.4634094238281\n",
            "397.4614562988281\n",
            "397.45941162109375\n",
            "397.4574279785156\n",
            "397.4553527832031\n",
            "397.45343017578125\n",
            "397.4513854980469\n",
            "397.4493713378906\n",
            "397.4473876953125\n",
            "397.44537353515625\n",
            "397.4433898925781\n",
            "397.4413757324219\n",
            "397.4393615722656\n",
            "397.4373779296875\n",
            "397.43536376953125\n",
            "397.43341064453125\n",
            "397.4313659667969\n",
            "397.42938232421875\n",
            "397.42730712890625\n",
            "397.42535400390625\n",
            "397.42333984375\n",
            "397.42138671875\n",
            "397.41937255859375\n",
            "397.4173889160156\n",
            "397.41534423828125\n",
            "397.4133605957031\n",
            "397.41131591796875\n",
            "397.40936279296875\n",
            "397.4073486328125\n",
            "397.40533447265625\n",
            "397.4033203125\n",
            "397.4013671875\n",
            "397.3993225097656\n",
            "397.3973388671875\n",
            "397.39532470703125\n",
            "397.3933410644531\n",
            "397.391357421875\n",
            "397.38934326171875\n",
            "397.3873596191406\n",
            "397.3853759765625\n",
            "397.38336181640625\n",
            "397.38134765625\n",
            "397.3793029785156\n",
            "397.3773498535156\n",
            "397.3753356933594\n",
            "397.37335205078125\n",
            "397.3713073730469\n",
            "397.36932373046875\n",
            "397.3673400878906\n",
            "397.3653259277344\n",
            "397.36334228515625\n",
            "397.3612976074219\n",
            "397.35931396484375\n",
            "397.3572998046875\n",
            "397.35528564453125\n",
            "397.3533020019531\n",
            "397.3513488769531\n",
            "397.34930419921875\n",
            "397.34735107421875\n",
            "397.3453063964844\n",
            "397.34332275390625\n",
            "397.34130859375\n",
            "397.33929443359375\n",
            "397.3372802734375\n",
            "397.3353271484375\n",
            "397.3332824707031\n",
            "397.331298828125\n",
            "397.3293151855469\n",
            "397.3272705078125\n",
            "397.3253173828125\n",
            "397.32330322265625\n",
            "397.32135009765625\n",
            "397.31927490234375\n",
            "397.3172607421875\n",
            "397.31524658203125\n",
            "397.31329345703125\n",
            "397.3112487792969\n",
            "397.3092346191406\n",
            "397.3072814941406\n",
            "397.3052978515625\n",
            "397.30328369140625\n",
            "397.3013000488281\n",
            "397.29925537109375\n",
            "397.2972717285156\n",
            "397.29522705078125\n",
            "397.29327392578125\n",
            "397.2912902832031\n",
            "397.2892761230469\n",
            "397.2872619628906\n",
            "397.28521728515625\n",
            "397.28326416015625\n",
            "397.28125\n",
            "397.27923583984375\n",
            "397.27728271484375\n",
            "397.27520751953125\n",
            "397.27325439453125\n",
            "397.2712097167969\n",
            "397.2692565917969\n",
            "397.2672424316406\n",
            "397.2652893066406\n",
            "397.26324462890625\n",
            "397.2612609863281\n",
            "397.2592468261719\n",
            "397.25726318359375\n",
            "397.2552490234375\n",
            "397.25323486328125\n",
            "397.25128173828125\n",
            "397.2492370605469\n",
            "397.24725341796875\n",
            "397.2452392578125\n",
            "397.24322509765625\n",
            "397.24127197265625\n",
            "397.2392883300781\n",
            "397.23724365234375\n",
            "397.2352600097656\n",
            "397.23321533203125\n",
            "397.2311706542969\n",
            "397.2292175292969\n",
            "397.22723388671875\n",
            "397.2251892089844\n",
            "397.2232971191406\n",
            "397.2212219238281\n",
            "397.2192077636719\n",
            "397.2172546386719\n",
            "397.2152099609375\n",
            "397.2132568359375\n",
            "397.2112121582031\n",
            "397.2092590332031\n",
            "397.2072448730469\n",
            "397.2052307128906\n",
            "397.2032165527344\n",
            "397.20123291015625\n",
            "397.1991882324219\n",
            "397.1972351074219\n",
            "397.19525146484375\n",
            "397.1932067871094\n",
            "397.19122314453125\n",
            "397.189208984375\n",
            "397.18719482421875\n",
            "397.18524169921875\n",
            "397.18316650390625\n",
            "397.18121337890625\n",
            "397.1792297363281\n",
            "397.17718505859375\n",
            "397.17523193359375\n",
            "397.1732482910156\n",
            "397.17120361328125\n",
            "397.169189453125\n",
            "397.1672058105469\n",
            "397.16522216796875\n",
            "397.1632080078125\n",
            "397.1612243652344\n",
            "397.15924072265625\n",
            "397.1571960449219\n",
            "397.1551818847656\n",
            "397.1531982421875\n",
            "397.1512145996094\n",
            "397.14923095703125\n",
            "397.14715576171875\n",
            "397.1451721191406\n",
            "397.14324951171875\n",
            "397.14117431640625\n",
            "397.1391906738281\n",
            "397.1371765136719\n",
            "397.13519287109375\n",
            "397.1332092285156\n",
            "397.13116455078125\n",
            "397.1291809082031\n",
            "397.127197265625\n",
            "397.12518310546875\n",
            "397.12322998046875\n",
            "397.1212463378906\n",
            "397.119140625\n",
            "397.1171875\n",
            "397.11517333984375\n",
            "397.1131896972656\n",
            "397.1112060546875\n",
            "397.10919189453125\n",
            "397.1072082519531\n",
            "397.1051940917969\n",
            "397.1031799316406\n",
            "397.1011657714844\n",
            "397.0991516113281\n",
            "397.0971984863281\n",
            "397.09521484375\n",
            "397.0931701660156\n",
            "397.09112548828125\n",
            "397.08917236328125\n",
            "397.08709716796875\n",
            "397.0851745605469\n",
            "397.0831604003906\n",
            "397.08111572265625\n",
            "397.07916259765625\n",
            "397.07720947265625\n",
            "397.0751647949219\n",
            "397.0731506347656\n",
            "397.0711669921875\n",
            "397.0691833496094\n",
            "397.0671691894531\n",
            "397.0652160644531\n",
            "397.06317138671875\n",
            "397.0611267089844\n",
            "397.05914306640625\n",
            "397.0571594238281\n",
            "397.05517578125\n",
            "397.0531311035156\n",
            "397.0511779785156\n",
            "397.0491638183594\n",
            "397.04718017578125\n",
            "397.04510498046875\n",
            "397.04315185546875\n",
            "397.0411376953125\n",
            "397.0391540527344\n",
            "397.037109375\n",
            "397.03509521484375\n",
            "397.03314208984375\n",
            "397.0311584472656\n",
            "397.0291442871094\n",
            "397.02716064453125\n",
            "397.0251770019531\n",
            "397.0231628417969\n",
            "397.02117919921875\n",
            "397.0191650390625\n",
            "397.01715087890625\n",
            "397.01513671875\n",
            "397.0131530761719\n",
            "397.0111389160156\n",
            "397.0091247558594\n",
            "397.0071105957031\n",
            "397.0050964355469\n",
            "397.0031433105469\n",
            "397.00115966796875\n",
            "396.9991455078125\n",
            "396.99713134765625\n",
            "396.9951477050781\n",
            "396.9931335449219\n",
            "396.9911193847656\n",
            "396.98907470703125\n",
            "396.98712158203125\n",
            "396.9851379394531\n",
            "396.9831237792969\n",
            "396.98114013671875\n",
            "396.97918701171875\n",
            "396.9771423339844\n",
            "396.97515869140625\n",
            "396.97314453125\n",
            "396.97113037109375\n",
            "396.9691467285156\n",
            "396.96710205078125\n",
            "396.96514892578125\n",
            "396.9631042480469\n",
            "396.96112060546875\n",
            "396.9590759277344\n",
            "396.9571228027344\n",
            "396.95513916015625\n",
            "396.9531555175781\n",
            "396.9510803222656\n",
            "396.9490966796875\n",
            "396.9471435546875\n",
            "396.94512939453125\n",
            "396.9430847167969\n",
            "396.94110107421875\n",
            "396.93914794921875\n",
            "396.9371337890625\n",
            "396.9351501464844\n",
            "396.93310546875\n",
            "396.9311218261719\n",
            "396.92913818359375\n",
            "396.9270935058594\n",
            "396.92510986328125\n",
            "396.92315673828125\n",
            "396.921142578125\n",
            "396.91912841796875\n",
            "396.9171447753906\n",
            "396.9151306152344\n",
            "396.91314697265625\n",
            "396.91107177734375\n",
            "396.90911865234375\n",
            "396.90704345703125\n",
            "396.90509033203125\n",
            "396.9031066894531\n",
            "396.90118408203125\n",
            "396.89910888671875\n",
            "396.89715576171875\n",
            "396.89508056640625\n",
            "396.89312744140625\n",
            "396.8910827636719\n",
            "396.88909912109375\n",
            "396.88714599609375\n",
            "396.8851013183594\n",
            "396.88311767578125\n",
            "396.88116455078125\n",
            "396.87908935546875\n",
            "396.87713623046875\n",
            "396.8751220703125\n",
            "396.8731384277344\n",
            "396.87115478515625\n",
            "396.8691101074219\n",
            "396.86712646484375\n",
            "396.8650817871094\n",
            "396.8630676269531\n",
            "396.861083984375\n",
            "396.859130859375\n",
            "396.85711669921875\n",
            "396.8551330566406\n",
            "396.8531494140625\n",
            "396.85113525390625\n",
            "396.8490905761719\n",
            "396.84710693359375\n",
            "396.8451232910156\n",
            "396.8431091308594\n",
            "396.84112548828125\n",
            "396.839111328125\n",
            "396.83709716796875\n",
            "396.83514404296875\n",
            "396.8331604003906\n",
            "396.83111572265625\n",
            "396.82916259765625\n",
            "396.8271179199219\n",
            "396.8251037597656\n",
            "396.8230895996094\n",
            "396.8210754394531\n",
            "396.8191223144531\n",
            "396.8171081542969\n",
            "396.8150939941406\n",
            "396.8130798339844\n",
            "396.81109619140625\n",
            "396.8091125488281\n",
            "396.8071594238281\n",
            "396.8051452636719\n",
            "396.8031005859375\n",
            "396.8011169433594\n",
            "396.79913330078125\n",
            "396.797119140625\n",
            "396.79510498046875\n",
            "396.7930603027344\n",
            "396.7911376953125\n",
            "396.78912353515625\n",
            "396.7870788574219\n",
            "396.78515625\n",
            "396.7831115722656\n",
            "396.7811279296875\n",
            "396.77911376953125\n",
            "396.7771301269531\n",
            "396.7751159667969\n",
            "396.7731018066406\n",
            "396.7710876464844\n",
            "396.76910400390625\n",
            "396.76708984375\n",
            "396.7651062011719\n",
            "396.7630920410156\n",
            "396.7611389160156\n",
            "396.7591247558594\n",
            "396.75714111328125\n",
            "396.7550964355469\n",
            "396.7530517578125\n",
            "396.7511291503906\n",
            "396.7491149902344\n",
            "396.74713134765625\n",
            "396.7451171875\n",
            "396.7431335449219\n",
            "396.7411193847656\n",
            "396.7391662597656\n",
            "396.7370910644531\n",
            "396.7351379394531\n",
            "396.73309326171875\n",
            "396.73114013671875\n",
            "396.7291259765625\n",
            "396.7271423339844\n",
            "396.72509765625\n",
            "396.72314453125\n",
            "396.7210998535156\n",
            "396.71917724609375\n",
            "396.71710205078125\n",
            "396.7151184082031\n",
            "396.713134765625\n",
            "396.71112060546875\n",
            "396.7091064453125\n",
            "396.7071228027344\n",
            "396.7051696777344\n",
            "396.70306396484375\n",
            "396.70111083984375\n",
            "396.6991271972656\n",
            "396.6971435546875\n",
            "396.69512939453125\n",
            "396.693115234375\n",
            "396.69110107421875\n",
            "396.6891174316406\n",
            "396.68707275390625\n",
            "396.6851501464844\n",
            "396.6831359863281\n",
            "396.68115234375\n",
            "396.67913818359375\n",
            "396.6771240234375\n",
            "396.6751403808594\n",
            "396.6731262207031\n",
            "396.67108154296875\n",
            "396.6691589355469\n",
            "396.66717529296875\n",
            "396.66510009765625\n",
            "396.66314697265625\n",
            "396.6611328125\n",
            "396.65911865234375\n",
            "396.65716552734375\n",
            "396.6551208496094\n",
            "396.65313720703125\n",
            "396.651123046875\n",
            "396.6491394042969\n",
            "396.64715576171875\n",
            "396.6451110839844\n",
            "396.64312744140625\n",
            "396.64117431640625\n",
            "396.63909912109375\n",
            "396.63714599609375\n",
            "396.6351623535156\n",
            "396.6331481933594\n",
            "396.63116455078125\n",
            "396.6291198730469\n",
            "396.62713623046875\n",
            "396.6251525878906\n",
            "396.62310791015625\n",
            "396.6211242675781\n",
            "396.619140625\n",
            "396.61712646484375\n",
            "396.6151428222656\n",
            "396.6131591796875\n",
            "396.61114501953125\n",
            "396.6091613769531\n",
            "396.60711669921875\n",
            "396.6051330566406\n",
            "396.6031188964844\n",
            "396.6011047363281\n",
            "396.5991516113281\n",
            "396.59716796875\n",
            "396.59515380859375\n",
            "396.5931701660156\n",
            "396.59112548828125\n",
            "396.58917236328125\n",
            "396.58709716796875\n",
            "396.58514404296875\n",
            "396.58319091796875\n",
            "396.5811462402344\n",
            "396.5791015625\n",
            "396.5771789550781\n",
            "396.5751037597656\n",
            "396.57318115234375\n",
            "396.5711364746094\n",
            "396.56915283203125\n",
            "396.5671691894531\n",
            "396.5651550292969\n",
            "396.5631103515625\n",
            "396.5611877441406\n",
            "396.55914306640625\n",
            "396.5571594238281\n",
            "396.55517578125\n",
            "396.55316162109375\n",
            "396.5511474609375\n",
            "396.54913330078125\n",
            "396.54718017578125\n",
            "396.5451354980469\n",
            "396.5431213378906\n",
            "396.5411682128906\n",
            "396.53912353515625\n",
            "396.53717041015625\n",
            "396.5351867675781\n",
            "396.5331726074219\n",
            "396.53118896484375\n",
            "396.5291442871094\n",
            "396.5271911621094\n",
            "396.52520751953125\n",
            "396.52313232421875\n",
            "396.5211486816406\n",
            "396.5191955566406\n",
            "396.51715087890625\n",
            "396.51519775390625\n",
            "396.5132141113281\n",
            "396.5111389160156\n",
            "396.5091857910156\n",
            "396.50714111328125\n",
            "396.50518798828125\n",
            "396.503173828125\n",
            "396.50115966796875\n",
            "396.4991455078125\n",
            "396.4971923828125\n",
            "396.4951477050781\n",
            "396.4931640625\n",
            "396.4911804199219\n",
            "396.48919677734375\n",
            "396.4872131347656\n",
            "396.48516845703125\n",
            "396.4831848144531\n",
            "396.481201171875\n",
            "396.4791259765625\n",
            "396.4772033691406\n",
            "396.4751892089844\n",
            "396.4731750488281\n",
            "396.4712219238281\n",
            "396.4691467285156\n",
            "396.46722412109375\n",
            "396.4651794433594\n",
            "396.46319580078125\n",
            "396.461181640625\n",
            "396.459228515625\n",
            "396.45721435546875\n",
            "396.4552307128906\n",
            "396.45318603515625\n",
            "396.4511413574219\n",
            "396.44915771484375\n",
            "396.44720458984375\n",
            "396.4451904296875\n",
            "396.4432373046875\n",
            "396.44122314453125\n",
            "396.4392395019531\n",
            "396.43719482421875\n",
            "396.4352111816406\n",
            "396.43316650390625\n",
            "396.43121337890625\n",
            "396.4291687011719\n",
            "396.4272155761719\n",
            "396.42523193359375\n",
            "396.4232482910156\n",
            "396.42120361328125\n",
            "396.419189453125\n",
            "396.4172668457031\n",
            "396.4151916503906\n",
            "396.4132080078125\n",
            "396.41119384765625\n",
            "396.4092102050781\n",
            "396.4072265625\n",
            "396.40521240234375\n",
            "396.40325927734375\n",
            "396.4012145996094\n",
            "396.39923095703125\n",
            "396.3972473144531\n",
            "396.395263671875\n",
            "396.3932189941406\n",
            "396.3912048339844\n",
            "396.38922119140625\n",
            "396.3872375488281\n",
            "396.38519287109375\n",
            "396.3831787109375\n",
            "396.3811950683594\n",
            "396.3792724609375\n",
            "396.37725830078125\n",
            "396.375244140625\n",
            "396.37322998046875\n",
            "396.3712158203125\n",
            "396.36920166015625\n",
            "396.3672180175781\n",
            "396.3652648925781\n",
            "396.3632507324219\n",
            "396.36126708984375\n",
            "396.3592529296875\n",
            "396.3572692871094\n",
            "396.355224609375\n",
            "396.3532409667969\n",
            "396.35125732421875\n",
            "396.3492431640625\n",
            "396.34722900390625\n",
            "396.3452453613281\n",
            "396.34320068359375\n",
            "396.34124755859375\n",
            "396.3392639160156\n",
            "396.3372497558594\n",
            "396.3352355957031\n",
            "396.333251953125\n",
            "396.3312683105469\n",
            "396.3292541503906\n",
            "396.3272399902344\n",
            "396.32525634765625\n",
            "396.3232727050781\n",
            "396.32122802734375\n",
            "396.3192138671875\n",
            "396.3172302246094\n",
            "396.3152770996094\n",
            "396.31329345703125\n",
            "396.3113098144531\n",
            "396.3092956542969\n",
            "396.3072814941406\n",
            "396.3052673339844\n",
            "396.3032531738281\n",
            "396.30126953125\n",
            "396.29925537109375\n",
            "396.2972717285156\n",
            "396.2952880859375\n",
            "396.29327392578125\n",
            "396.2912902832031\n",
            "396.2892761230469\n",
            "396.2872314453125\n",
            "396.28533935546875\n",
            "396.28326416015625\n",
            "396.28131103515625\n",
            "396.2792663574219\n",
            "396.2773132324219\n",
            "396.27532958984375\n",
            "396.27325439453125\n",
            "396.27130126953125\n",
            "396.2693176269531\n",
            "396.2673034667969\n",
            "396.26531982421875\n",
            "396.2633056640625\n",
            "396.26129150390625\n",
            "396.2592468261719\n",
            "396.2573547363281\n",
            "396.2552795410156\n",
            "396.2532958984375\n",
            "396.25128173828125\n",
            "396.24932861328125\n",
            "396.24737548828125\n",
            "396.24530029296875\n",
            "396.2433166503906\n",
            "396.2413635253906\n",
            "396.2392883300781\n",
            "396.2373046875\n",
            "396.23529052734375\n",
            "396.23333740234375\n",
            "396.23138427734375\n",
            "396.22930908203125\n",
            "396.2273254394531\n",
            "396.2253112792969\n",
            "396.22332763671875\n",
            "396.2213134765625\n",
            "396.2193603515625\n",
            "396.21734619140625\n",
            "396.2153625488281\n",
            "396.21331787109375\n",
            "396.21136474609375\n",
            "396.2093505859375\n",
            "396.20733642578125\n",
            "396.20538330078125\n",
            "396.2033386230469\n",
            "396.20135498046875\n",
            "396.1993713378906\n",
            "396.19732666015625\n",
            "396.1953430175781\n",
            "396.193359375\n",
            "396.1913146972656\n",
            "396.18939208984375\n",
            "396.1873474121094\n",
            "396.18536376953125\n",
            "396.18341064453125\n",
            "396.1813659667969\n",
            "396.17938232421875\n",
            "396.1773681640625\n",
            "396.17535400390625\n",
            "396.17333984375\n",
            "396.1713562011719\n",
            "396.16937255859375\n",
            "396.1673583984375\n",
            "396.16534423828125\n",
            "396.16339111328125\n",
            "396.1614074707031\n",
            "396.15936279296875\n",
            "396.1573486328125\n",
            "396.1553649902344\n",
            "396.1533508300781\n",
            "396.15142822265625\n",
            "396.1493835449219\n",
            "396.14739990234375\n",
            "396.1453857421875\n",
            "396.14337158203125\n",
            "396.14141845703125\n",
            "396.139404296875\n",
            "396.13739013671875\n",
            "396.13543701171875\n",
            "396.1334228515625\n",
            "396.13140869140625\n",
            "396.12939453125\n",
            "396.12738037109375\n",
            "396.12542724609375\n",
            "396.1234436035156\n",
            "396.12139892578125\n",
            "396.11944580078125\n",
            "396.117431640625\n",
            "396.11541748046875\n",
            "396.1133728027344\n",
            "396.1113586425781\n",
            "396.10943603515625\n",
            "396.107421875\n",
            "396.10540771484375\n",
            "396.1033935546875\n",
            "396.1014099121094\n",
            "396.09942626953125\n",
            "396.0974426269531\n",
            "396.0954284667969\n",
            "396.0934753417969\n",
            "396.0914611816406\n",
            "396.0894470214844\n",
            "396.08746337890625\n",
            "396.0854187011719\n",
            "396.08343505859375\n",
            "396.08148193359375\n",
            "396.0794372558594\n",
            "396.0774841308594\n",
            "396.0754699707031\n",
            "396.07342529296875\n",
            "396.0715026855469\n",
            "396.0694580078125\n",
            "396.06744384765625\n",
            "396.0654602050781\n",
            "396.0634460449219\n",
            "396.06146240234375\n",
            "396.0594787597656\n",
            "396.05743408203125\n",
            "396.05548095703125\n",
            "396.0534973144531\n",
            "396.05145263671875\n",
            "396.04949951171875\n",
            "396.0474548339844\n",
            "396.04547119140625\n",
            "396.04351806640625\n",
            "396.04150390625\n",
            "396.03948974609375\n",
            "396.0374755859375\n",
            "396.0355224609375\n",
            "396.03350830078125\n",
            "396.031494140625\n",
            "396.0295104980469\n",
            "396.0274963378906\n",
            "396.0255126953125\n",
            "396.02349853515625\n",
            "396.0215148925781\n",
            "396.01947021484375\n",
            "396.01751708984375\n",
            "396.01544189453125\n",
            "396.01348876953125\n",
            "396.01153564453125\n",
            "396.00958251953125\n",
            "396.0075378417969\n",
            "396.00555419921875\n",
            "396.0035095214844\n",
            "396.0015563964844\n",
            "395.99951171875\n",
            "395.99755859375\n",
            "395.9955139160156\n",
            "395.9935607910156\n",
            "395.9915466308594\n",
            "395.98956298828125\n",
            "395.9875183105469\n",
            "395.985595703125\n",
            "395.9835205078125\n",
            "395.98150634765625\n",
            "395.97955322265625\n",
            "395.9775695800781\n",
            "395.9755859375\n",
            "395.9735412597656\n",
            "395.9715576171875\n",
            "395.9695739746094\n",
            "395.967529296875\n",
            "395.9655456542969\n",
            "395.96356201171875\n",
            "395.9615783691406\n",
            "395.9595947265625\n",
            "395.95758056640625\n",
            "395.9555969238281\n",
            "395.9535827636719\n",
            "395.9515686035156\n",
            "395.94964599609375\n",
            "395.94757080078125\n",
            "395.94561767578125\n",
            "395.943603515625\n",
            "395.94158935546875\n",
            "395.9395751953125\n",
            "395.93756103515625\n",
            "395.935546875\n",
            "395.93359375\n",
            "395.9316101074219\n",
            "395.92962646484375\n",
            "395.9275817871094\n",
            "395.92559814453125\n",
            "395.9236145019531\n",
            "395.9216613769531\n",
            "395.91961669921875\n",
            "395.9176330566406\n",
            "395.9156188964844\n",
            "395.91363525390625\n",
            "395.91162109375\n",
            "395.9096374511719\n",
            "395.9076232910156\n",
            "395.9056396484375\n",
            "395.90362548828125\n",
            "395.9016418457031\n",
            "395.8996276855469\n",
            "395.8976135253906\n",
            "395.8956604003906\n",
            "395.8936767578125\n",
            "395.89166259765625\n",
            "395.8896179199219\n",
            "395.88763427734375\n",
            "395.8856506347656\n",
            "395.8836364746094\n",
            "395.88165283203125\n",
            "395.87969970703125\n",
            "395.8776550292969\n",
            "395.87567138671875\n",
            "395.8736572265625\n",
            "395.87164306640625\n",
            "395.86968994140625\n",
            "395.86767578125\n",
            "395.86566162109375\n",
            "395.8636779785156\n",
            "395.8616638183594\n",
            "395.85968017578125\n",
            "395.8576965332031\n",
            "395.8556823730469\n",
            "395.85369873046875\n",
            "395.8516540527344\n",
            "395.84967041015625\n",
            "395.84771728515625\n",
            "395.8456726074219\n",
            "395.84368896484375\n",
            "395.8417053222656\n",
            "395.8396911621094\n",
            "395.83770751953125\n",
            "395.835693359375\n",
            "395.8337097167969\n",
            "395.8316955566406\n",
            "395.8297424316406\n",
            "395.82769775390625\n",
            "395.8257141113281\n",
            "395.82373046875\n",
            "395.82177734375\n",
            "395.8197326660156\n",
            "395.8177185058594\n",
            "395.81573486328125\n",
            "395.8137512207031\n",
            "395.811767578125\n",
            "395.80975341796875\n",
            "395.8077392578125\n",
            "395.8057556152344\n",
            "395.80377197265625\n",
            "395.8017272949219\n",
            "395.79974365234375\n",
            "395.7977294921875\n",
            "395.7957458496094\n",
            "395.79376220703125\n",
            "395.7917785644531\n",
            "395.7897644042969\n",
            "395.78778076171875\n",
            "395.78582763671875\n",
            "395.7837829589844\n",
            "395.78173828125\n",
            "395.77978515625\n",
            "395.7778015136719\n",
            "395.77581787109375\n",
            "395.7738037109375\n",
            "395.77178955078125\n",
            "395.76983642578125\n",
            "395.7677917480469\n",
            "395.7657775878906\n",
            "395.7638244628906\n",
            "395.76177978515625\n",
            "395.75982666015625\n",
            "395.7578430175781\n",
            "395.7558288574219\n",
            "395.75384521484375\n",
            "395.7518310546875\n",
            "395.74981689453125\n",
            "395.7478332519531\n",
            "395.745849609375\n",
            "395.7438049316406\n",
            "395.7418212890625\n",
            "395.7398376464844\n",
            "395.73785400390625\n",
            "395.7358703613281\n",
            "395.73382568359375\n",
            "395.73187255859375\n",
            "395.7298583984375\n",
            "395.72784423828125\n",
            "395.7258605957031\n",
            "395.72381591796875\n",
            "395.72186279296875\n",
            "395.7198181152344\n",
            "395.71783447265625\n",
            "395.7158508300781\n",
            "395.7138977050781\n",
            "395.71185302734375\n",
            "395.7098693847656\n",
            "395.7078552246094\n",
            "395.70587158203125\n",
            "395.70391845703125\n",
            "395.7018737792969\n",
            "395.69989013671875\n",
            "395.6979064941406\n",
            "395.69586181640625\n",
            "395.69390869140625\n",
            "395.6919250488281\n",
            "395.6899108886719\n",
            "395.68792724609375\n",
            "395.6859436035156\n",
            "395.68389892578125\n",
            "395.68194580078125\n",
            "395.67987060546875\n",
            "395.67791748046875\n",
            "395.6759033203125\n",
            "395.67388916015625\n",
            "395.67193603515625\n",
            "395.6698913574219\n",
            "395.6679382324219\n",
            "395.66595458984375\n",
            "395.6639099121094\n",
            "395.6619567871094\n",
            "395.659912109375\n",
            "395.6579284667969\n",
            "395.656005859375\n",
            "395.65399169921875\n",
            "395.6519470214844\n",
            "395.64996337890625\n",
            "395.6479187011719\n",
            "395.64593505859375\n",
            "395.64398193359375\n",
            "395.6419677734375\n",
            "395.6400146484375\n",
            "395.63800048828125\n",
            "395.635986328125\n",
            "395.63397216796875\n",
            "395.6319885253906\n",
            "395.6300048828125\n",
            "395.62799072265625\n",
            "395.6260070800781\n",
            "395.6240539550781\n",
            "395.6220397949219\n",
            "395.6199951171875\n",
            "395.6180114746094\n",
            "395.61602783203125\n",
            "395.61395263671875\n",
            "395.61199951171875\n",
            "395.6100158691406\n",
            "395.6080627441406\n",
            "395.6060485839844\n",
            "395.6040344238281\n",
            "395.60205078125\n",
            "395.60003662109375\n",
            "395.5980529785156\n",
            "395.5960693359375\n",
            "395.5940246582031\n",
            "395.59210205078125\n",
            "395.59002685546875\n",
            "395.58807373046875\n",
            "395.5860290527344\n",
            "395.58404541015625\n",
            "395.58203125\n",
            "395.5800476074219\n",
            "395.57806396484375\n",
            "395.57611083984375\n",
            "395.5740661621094\n",
            "395.57208251953125\n",
            "395.5700988769531\n",
            "395.5680847167969\n",
            "395.56610107421875\n",
            "395.5640869140625\n",
            "395.5621032714844\n",
            "395.5601501464844\n",
            "395.55810546875\n",
            "395.55609130859375\n",
            "395.55413818359375\n",
            "395.5520935058594\n",
            "395.5500793457031\n",
            "395.5481262207031\n",
            "395.546142578125\n",
            "395.54412841796875\n",
            "395.5421142578125\n",
            "395.54010009765625\n",
            "395.53814697265625\n",
            "395.5361328125\n",
            "395.5341491699219\n",
            "395.53216552734375\n",
            "395.5301208496094\n",
            "395.52813720703125\n",
            "395.52618408203125\n",
            "395.524169921875\n",
            "395.52215576171875\n",
            "395.5201721191406\n",
            "395.5181579589844\n",
            "395.51617431640625\n",
            "395.51422119140625\n",
            "395.5122375488281\n",
            "395.51019287109375\n",
            "395.5081787109375\n",
            "395.5062255859375\n",
            "395.5041809082031\n",
            "395.5021667480469\n",
            "395.5002136230469\n",
            "395.4981994628906\n",
            "395.4962463378906\n",
            "395.49420166015625\n",
            "395.49224853515625\n",
            "395.490234375\n",
            "395.48822021484375\n",
            "395.4862060546875\n",
            "395.48419189453125\n",
            "395.4822082519531\n",
            "395.480224609375\n",
            "395.4782409667969\n",
            "395.47625732421875\n",
            "395.4742431640625\n",
            "395.4722595214844\n",
            "395.47027587890625\n",
            "395.46832275390625\n",
            "395.46630859375\n",
            "395.46429443359375\n",
            "395.4622802734375\n",
            "395.4602355957031\n",
            "395.458251953125\n",
            "395.4563293457031\n",
            "395.45428466796875\n",
            "395.4522705078125\n",
            "395.45025634765625\n",
            "395.44830322265625\n",
            "395.4462585449219\n",
            "395.44427490234375\n",
            "395.4422912597656\n",
            "395.4403381347656\n",
            "395.43829345703125\n",
            "395.436279296875\n",
            "395.4342956542969\n",
            "395.43231201171875\n",
            "395.43035888671875\n",
            "395.4283142089844\n",
            "395.42633056640625\n",
            "395.4242858886719\n",
            "395.42236328125\n",
            "395.4203186035156\n",
            "395.4183349609375\n",
            "395.41632080078125\n",
            "395.41436767578125\n",
            "395.41229248046875\n",
            "395.4103698730469\n",
            "395.4083557128906\n",
            "395.4063720703125\n",
            "395.40435791015625\n",
            "395.4024658203125\n",
            "395.400390625\n",
            "395.3984069824219\n",
            "395.3963623046875\n",
            "395.3943786621094\n",
            "395.39239501953125\n",
            "395.3904113769531\n",
            "395.3883972167969\n",
            "395.38641357421875\n",
            "395.3844299316406\n",
            "395.3824157714844\n",
            "395.38043212890625\n",
            "395.3783874511719\n",
            "395.37640380859375\n",
            "395.3743896484375\n",
            "395.37237548828125\n",
            "395.3704528808594\n",
            "395.36846923828125\n",
            "395.3664245605469\n",
            "395.36444091796875\n",
            "395.36248779296875\n",
            "395.36041259765625\n",
            "395.3584289550781\n",
            "395.35650634765625\n",
            "395.35443115234375\n",
            "395.35247802734375\n",
            "395.3504333496094\n",
            "395.3485107421875\n",
            "395.34649658203125\n",
            "395.3444519042969\n",
            "395.3424987792969\n",
            "395.34051513671875\n",
            "395.3385314941406\n",
            "395.3365173339844\n",
            "395.33453369140625\n",
            "395.3324890136719\n",
            "395.33050537109375\n",
            "395.3284606933594\n",
            "395.3265075683594\n",
            "395.3244934082031\n",
            "395.3225402832031\n",
            "395.32049560546875\n",
            "395.31854248046875\n",
            "395.3165283203125\n",
            "395.3145446777344\n",
            "395.3125\n",
            "395.3105163574219\n",
            "395.30853271484375\n",
            "395.30657958984375\n",
            "395.3045654296875\n",
            "395.30255126953125\n",
            "395.3005676269531\n",
            "395.29864501953125\n",
            "395.29656982421875\n",
            "395.29461669921875\n",
            "395.2926025390625\n",
            "395.29058837890625\n",
            "395.2886047363281\n",
            "395.2865905761719\n",
            "395.28460693359375\n",
            "395.2826232910156\n",
            "395.28057861328125\n",
            "395.27862548828125\n",
            "395.276611328125\n",
            "395.27459716796875\n",
            "395.2726745605469\n",
            "395.2706298828125\n",
            "395.26861572265625\n",
            "395.2666015625\n",
            "395.2646179199219\n",
            "395.2626037597656\n",
            "395.26068115234375\n",
            "395.2586669921875\n",
            "395.25665283203125\n",
            "395.254638671875\n",
            "395.252685546875\n",
            "395.25067138671875\n",
            "395.24871826171875\n",
            "395.24664306640625\n",
            "395.24468994140625\n",
            "395.2426452636719\n",
            "395.24072265625\n",
            "395.2386779785156\n",
            "395.2366943359375\n",
            "395.2347106933594\n",
            "395.2326965332031\n",
            "395.23065185546875\n",
            "395.22869873046875\n",
            "395.2266540527344\n",
            "395.2247619628906\n",
            "395.22271728515625\n",
            "395.22076416015625\n",
            "395.21875\n",
            "395.21673583984375\n",
            "395.2147521972656\n",
            "395.21270751953125\n",
            "395.21075439453125\n",
            "395.208740234375\n",
            "395.20672607421875\n",
            "395.2047424316406\n",
            "395.2027893066406\n",
            "395.20074462890625\n",
            "395.19879150390625\n",
            "395.1967468261719\n",
            "395.19476318359375\n",
            "395.1927795410156\n",
            "395.19073486328125\n",
            "395.18878173828125\n",
            "395.18682861328125\n",
            "395.184814453125\n",
            "395.18280029296875\n",
            "395.1807861328125\n",
            "395.1788635253906\n",
            "395.17681884765625\n",
            "395.1748046875\n",
            "395.1728210449219\n",
            "395.17083740234375\n",
            "395.1687927246094\n",
            "395.16680908203125\n",
            "395.16485595703125\n",
            "395.1628723144531\n",
            "395.16082763671875\n",
            "395.1588439941406\n",
            "395.1568298339844\n",
            "395.1548767089844\n",
            "395.1528625488281\n",
            "395.1509094238281\n",
            "395.1488952636719\n",
            "395.1468505859375\n",
            "395.1448669433594\n",
            "395.1429138183594\n",
            "395.1408996582031\n",
            "395.13885498046875\n",
            "395.1368713378906\n",
            "395.1348571777344\n",
            "395.1329040527344\n",
            "395.13092041015625\n",
            "395.12890625\n",
            "395.1269226074219\n",
            "395.1249084472656\n",
            "395.1229553222656\n",
            "395.12091064453125\n",
            "395.11895751953125\n",
            "395.1169128417969\n",
            "395.11492919921875\n",
            "395.11297607421875\n",
            "395.1109313964844\n",
            "395.10894775390625\n",
            "395.1069641113281\n",
            "395.1049499511719\n",
            "395.1029968261719\n",
            "395.1009826660156\n",
            "395.0989990234375\n",
            "395.09698486328125\n",
            "395.094970703125\n",
            "395.093017578125\n",
            "395.09100341796875\n",
            "395.08905029296875\n",
            "395.08697509765625\n",
            "395.08502197265625\n",
            "395.0830078125\n",
            "395.0810546875\n",
            "395.07904052734375\n",
            "395.0770263671875\n",
            "395.0750732421875\n",
            "395.07305908203125\n",
            "395.07098388671875\n",
            "395.06903076171875\n",
            "395.06707763671875\n",
            "395.0650634765625\n",
            "395.06304931640625\n",
            "395.0610656738281\n",
            "395.0590515136719\n",
            "395.05706787109375\n",
            "395.05511474609375\n",
            "395.05303955078125\n",
            "395.05108642578125\n",
            "395.04913330078125\n",
            "395.0470886230469\n",
            "395.04510498046875\n",
            "395.0430908203125\n",
            "395.04107666015625\n",
            "395.03912353515625\n",
            "395.0371398925781\n",
            "395.0351257324219\n",
            "395.03314208984375\n",
            "395.0311584472656\n",
            "395.02911376953125\n",
            "395.02716064453125\n",
            "395.0251159667969\n",
            "395.02313232421875\n",
            "395.0211486816406\n",
            "395.01922607421875\n",
            "395.01715087890625\n",
            "395.0151672363281\n",
            "395.0131530761719\n",
            "395.0111999511719\n",
            "395.0091552734375\n",
            "395.0071716308594\n",
            "395.00518798828125\n",
            "395.00323486328125\n",
            "395.001220703125\n",
            "394.99920654296875\n",
            "394.99725341796875\n",
            "394.9952087402344\n",
            "394.9931945800781\n",
            "394.9912109375\n",
            "394.9892272949219\n",
            "394.98724365234375\n",
            "394.9852600097656\n",
            "394.98321533203125\n",
            "394.98126220703125\n",
            "394.979248046875\n",
            "394.97723388671875\n",
            "394.97528076171875\n",
            "394.9732666015625\n",
            "394.9713134765625\n",
            "394.9693298339844\n",
            "394.96728515625\n",
            "394.96527099609375\n",
            "394.9632568359375\n",
            "394.9613037109375\n",
            "394.95928955078125\n",
            "394.95733642578125\n",
            "394.955322265625\n",
            "394.953369140625\n",
            "394.95135498046875\n",
            "394.9493408203125\n",
            "394.94732666015625\n",
            "394.9453430175781\n",
            "394.94329833984375\n",
            "394.9413146972656\n",
            "394.9393310546875\n",
            "394.9373779296875\n",
            "394.93536376953125\n",
            "394.9333801269531\n",
            "394.93133544921875\n",
            "394.92938232421875\n",
            "394.9273681640625\n",
            "394.9253845214844\n",
            "394.92340087890625\n",
            "394.9214172363281\n",
            "394.91937255859375\n",
            "394.91741943359375\n",
            "394.9154052734375\n",
            "394.91339111328125\n",
            "394.91143798828125\n",
            "394.9093933105469\n",
            "394.9074401855469\n",
            "394.90545654296875\n",
            "394.9034423828125\n",
            "394.90142822265625\n",
            "394.8994445800781\n",
            "394.89739990234375\n",
            "394.89544677734375\n",
            "394.8934020996094\n",
            "394.8914794921875\n",
            "394.88946533203125\n",
            "394.887451171875\n",
            "394.885498046875\n",
            "394.88348388671875\n",
            "394.88153076171875\n",
            "394.8794860839844\n",
            "394.87750244140625\n",
            "394.8755187988281\n",
            "394.8735046386719\n",
            "394.87152099609375\n",
            "394.8695373535156\n",
            "394.8675537109375\n",
            "394.86553955078125\n",
            "394.863525390625\n",
            "394.8615417480469\n",
            "394.8595886230469\n",
            "394.8575744628906\n",
            "394.85552978515625\n",
            "394.8535461425781\n",
            "394.8515930175781\n",
            "394.8495178222656\n",
            "394.84759521484375\n",
            "394.8455810546875\n",
            "394.8435974121094\n",
            "394.8415832519531\n",
            "394.839599609375\n",
            "394.8375549316406\n",
            "394.8356018066406\n",
            "394.83355712890625\n",
            "394.8316345214844\n",
            "394.8296203613281\n",
            "394.82763671875\n",
            "394.82562255859375\n",
            "394.8236083984375\n",
            "394.8216552734375\n",
            "394.81964111328125\n",
            "394.817626953125\n",
            "394.815673828125\n",
            "394.81365966796875\n",
            "394.8116760253906\n",
            "394.80963134765625\n",
            "394.80767822265625\n",
            "394.8056945800781\n",
            "394.8036804199219\n",
            "394.80169677734375\n",
            "394.7996826171875\n",
            "394.7977294921875\n",
            "394.79571533203125\n",
            "394.7937316894531\n",
            "394.79168701171875\n",
            "394.78973388671875\n",
            "394.7877502441406\n",
            "394.78570556640625\n",
            "394.78375244140625\n",
            "394.78173828125\n",
            "394.77972412109375\n",
            "394.77777099609375\n",
            "394.7757568359375\n",
            "394.77374267578125\n",
            "394.77178955078125\n",
            "394.7697448730469\n",
            "394.76776123046875\n",
            "394.7657775878906\n",
            "394.7637939453125\n",
            "394.76177978515625\n",
            "394.759765625\n",
            "394.7577819824219\n",
            "394.75579833984375\n",
            "394.75384521484375\n",
            "394.7518310546875\n",
            "394.7498474121094\n",
            "394.7478332519531\n",
            "394.745849609375\n",
            "394.74383544921875\n",
            "394.7418518066406\n",
            "394.7398681640625\n",
            "394.73785400390625\n",
            "394.7358703613281\n",
            "394.7338562011719\n",
            "394.7319030761719\n",
            "394.72991943359375\n",
            "394.72784423828125\n",
            "394.72589111328125\n",
            "394.723876953125\n",
            "394.72186279296875\n",
            "394.71990966796875\n",
            "394.7178649902344\n",
            "394.71588134765625\n",
            "394.7139587402344\n",
            "394.7119445800781\n",
            "394.70989990234375\n",
            "394.7079162597656\n",
            "394.7059631347656\n",
            "394.70391845703125\n",
            "394.70196533203125\n",
            "394.699951171875\n",
            "394.6979675292969\n",
            "394.6959533691406\n",
            "394.6939697265625\n",
            "394.6920166015625\n",
            "394.6899719238281\n",
            "394.68798828125\n",
            "394.68597412109375\n",
            "394.68402099609375\n",
            "394.6820068359375\n",
            "394.67999267578125\n",
            "394.67803955078125\n",
            "394.676025390625\n",
            "394.67401123046875\n",
            "394.6720275878906\n",
            "394.6700744628906\n",
            "394.6680908203125\n",
            "394.66607666015625\n",
            "394.6640625\n",
            "394.662109375\n",
            "394.66009521484375\n",
            "394.65802001953125\n",
            "394.65606689453125\n",
            "394.65411376953125\n",
            "394.652099609375\n",
            "394.65008544921875\n",
            "394.6481018066406\n",
            "394.6461486816406\n",
            "394.64410400390625\n",
            "394.6420593261719\n",
            "394.64013671875\n",
            "394.63812255859375\n",
            "394.6361389160156\n",
            "394.6341247558594\n",
            "394.6321105957031\n",
            "394.6301574707031\n",
            "394.6282043457031\n",
            "394.6261291503906\n",
            "394.62420654296875\n",
            "394.6221923828125\n",
            "394.6202087402344\n",
            "394.6181945800781\n",
            "394.6161804199219\n",
            "394.61419677734375\n",
            "394.6121826171875\n",
            "394.6101989746094\n",
            "394.6081848144531\n",
            "394.6062316894531\n",
            "394.6042175292969\n",
            "394.6022644042969\n",
            "394.6002197265625\n",
            "394.5982666015625\n",
            "394.5962219238281\n",
            "394.5942077636719\n",
            "394.5922546386719\n",
            "394.59027099609375\n",
            "394.5882568359375\n",
            "394.5863037109375\n",
            "394.58428955078125\n",
            "394.5823059082031\n",
            "394.58026123046875\n",
            "394.57830810546875\n",
            "394.5763244628906\n",
            "394.5743408203125\n",
            "394.57232666015625\n",
            "394.5703430175781\n",
            "394.56829833984375\n",
            "394.56634521484375\n",
            "394.56439208984375\n",
            "394.5623474121094\n",
            "394.5603332519531\n",
            "394.558349609375\n",
            "394.5563659667969\n",
            "394.55438232421875\n",
            "394.5523681640625\n",
            "394.55035400390625\n",
            "394.54840087890625\n",
            "394.5464172363281\n",
            "394.5444030761719\n",
            "394.5423889160156\n",
            "394.5404052734375\n",
            "394.5384216308594\n",
            "394.53643798828125\n",
            "394.534423828125\n",
            "394.532470703125\n",
            "394.5304260253906\n",
            "394.5284729003906\n",
            "394.5264587402344\n",
            "394.52447509765625\n",
            "394.5224914550781\n",
            "394.52044677734375\n",
            "394.5184631347656\n",
            "394.5164489746094\n",
            "394.51446533203125\n",
            "394.51251220703125\n",
            "394.510498046875\n",
            "394.50848388671875\n",
            "394.5065002441406\n",
            "394.5044860839844\n",
            "394.50250244140625\n",
            "394.50054931640625\n",
            "394.49853515625\n",
            "394.49652099609375\n",
            "394.49456787109375\n",
            "394.4925537109375\n",
            "394.4906005859375\n",
            "394.48858642578125\n",
            "394.4865417480469\n",
            "394.48455810546875\n",
            "394.4825744628906\n",
            "394.4806213378906\n",
            "394.47857666015625\n",
            "394.47662353515625\n",
            "394.4746398925781\n",
            "394.47259521484375\n",
            "394.4706115722656\n",
            "394.4686279296875\n",
            "394.4665832519531\n",
            "394.4646301269531\n",
            "394.462646484375\n",
            "394.46063232421875\n",
            "394.45867919921875\n",
            "394.4566650390625\n",
            "394.4546813964844\n",
            "394.45269775390625\n",
            "394.4506530761719\n",
            "394.4486999511719\n",
            "394.44671630859375\n",
            "394.4447021484375\n",
            "394.44268798828125\n",
            "394.44073486328125\n",
            "394.438720703125\n",
            "394.43670654296875\n",
            "394.43475341796875\n",
            "394.4327392578125\n",
            "394.43072509765625\n",
            "394.4287414550781\n",
            "394.42681884765625\n",
            "394.42474365234375\n",
            "394.4227600097656\n",
            "394.4207763671875\n",
            "394.41876220703125\n",
            "394.4167785644531\n",
            "394.414794921875\n",
            "394.41278076171875\n",
            "394.41082763671875\n",
            "394.40875244140625\n",
            "394.4068603515625\n",
            "394.4048156738281\n",
            "394.4028015136719\n",
            "394.4007568359375\n",
            "394.39886474609375\n",
            "394.3968505859375\n",
            "394.39483642578125\n",
            "394.392822265625\n",
            "394.3908386230469\n",
            "394.38885498046875\n",
            "394.3868408203125\n",
            "394.3848571777344\n",
            "394.38287353515625\n",
            "394.380859375\n",
            "394.3788757324219\n",
            "394.3768615722656\n",
            "394.3749084472656\n",
            "394.3728942871094\n",
            "394.37091064453125\n",
            "394.368896484375\n",
            "394.366943359375\n",
            "394.36492919921875\n",
            "394.36297607421875\n",
            "394.3609924316406\n",
            "394.3589782714844\n",
            "394.3569641113281\n",
            "394.35491943359375\n",
            "394.35296630859375\n",
            "394.35101318359375\n",
            "394.3489685058594\n",
            "394.3470153808594\n",
            "394.344970703125\n",
            "394.343017578125\n",
            "394.34100341796875\n",
            "394.3389892578125\n",
            "394.3370056152344\n",
            "394.33502197265625\n",
            "394.33306884765625\n",
            "394.3310241699219\n",
            "394.3290710449219\n",
            "394.32708740234375\n",
            "394.3250732421875\n",
            "394.32305908203125\n",
            "394.32110595703125\n",
            "394.3191223144531\n",
            "394.31707763671875\n",
            "394.31512451171875\n",
            "394.3131408691406\n",
            "394.3111267089844\n",
            "394.3091125488281\n",
            "394.3070983886719\n",
            "394.30511474609375\n",
            "394.30316162109375\n",
            "394.3011474609375\n",
            "394.2991943359375\n",
            "394.2971496582031\n",
            "394.2951965332031\n",
            "394.2931823730469\n",
            "394.29119873046875\n",
            "394.2891845703125\n",
            "394.2872314453125\n",
            "394.28521728515625\n",
            "394.28326416015625\n",
            "394.28118896484375\n",
            "394.27923583984375\n",
            "394.2772521972656\n",
            "394.2752380371094\n",
            "394.27325439453125\n",
            "394.27130126953125\n",
            "394.26922607421875\n",
            "394.26727294921875\n",
            "394.2652282714844\n",
            "394.2632751464844\n",
            "394.26129150390625\n",
            "394.25927734375\n",
            "394.25726318359375\n",
            "394.2552795410156\n",
            "394.2532958984375\n",
            "394.2513427734375\n",
            "394.24932861328125\n",
            "394.2472839355469\n",
            "394.245361328125\n",
            "394.24334716796875\n",
            "394.2413330078125\n",
            "394.2393798828125\n",
            "394.23736572265625\n",
            "394.2353820800781\n",
            "394.23333740234375\n",
            "394.23138427734375\n",
            "394.22943115234375\n",
            "394.2273864746094\n",
            "394.22540283203125\n",
            "394.2234191894531\n",
            "394.221435546875\n",
            "394.21942138671875\n",
            "394.2174377441406\n",
            "394.2154235839844\n",
            "394.21343994140625\n",
            "394.21142578125\n",
            "394.20941162109375\n",
            "394.20745849609375\n",
            "394.2054748535156\n",
            "394.2034606933594\n",
            "394.20147705078125\n",
            "394.1994934082031\n",
            "394.197509765625\n",
            "394.19549560546875\n",
            "394.19354248046875\n",
            "394.1915283203125\n",
            "394.18951416015625\n",
            "394.18756103515625\n",
            "394.185546875\n",
            "394.18353271484375\n",
            "394.1815490722656\n",
            "394.17950439453125\n",
            "394.17755126953125\n",
            "394.175537109375\n",
            "394.1735534667969\n",
            "394.17156982421875\n",
            "394.1695861816406\n",
            "394.1675720214844\n",
            "394.1656188964844\n",
            "394.16357421875\n",
            "394.16162109375\n",
            "394.15960693359375\n",
            "394.15765380859375\n",
            "394.1556701660156\n",
            "394.15362548828125\n",
            "394.1516418457031\n",
            "394.149658203125\n",
            "394.14764404296875\n",
            "394.14569091796875\n",
            "394.1436767578125\n",
            "394.1416931152344\n",
            "394.1396789550781\n",
            "394.1376647949219\n",
            "394.13568115234375\n",
            "394.1336975097656\n",
            "394.1316833496094\n",
            "394.1297302246094\n",
            "394.1277160644531\n",
            "394.125732421875\n",
            "394.123779296875\n",
            "394.12176513671875\n",
            "394.1197814941406\n",
            "394.1177673339844\n",
            "394.1157531738281\n",
            "394.11376953125\n",
            "394.11175537109375\n",
            "394.10980224609375\n",
            "394.1077880859375\n",
            "394.10577392578125\n",
            "394.10382080078125\n",
            "394.101806640625\n",
            "394.099853515625\n",
            "394.09783935546875\n",
            "394.0958251953125\n",
            "394.0938415527344\n",
            "394.09185791015625\n",
            "394.0898132324219\n",
            "394.08782958984375\n",
            "394.08587646484375\n",
            "394.0838928222656\n",
            "394.0818786621094\n",
            "394.07989501953125\n",
            "394.07794189453125\n",
            "394.07598876953125\n",
            "394.07391357421875\n",
            "394.0719299316406\n",
            "394.0699768066406\n",
            "394.0679016113281\n",
            "394.0659484863281\n",
            "394.06396484375\n",
            "394.0619812011719\n",
            "394.05999755859375\n",
            "394.0579833984375\n",
            "394.05596923828125\n",
            "394.05401611328125\n",
            "394.05194091796875\n",
            "394.0500183105469\n",
            "394.0480041503906\n",
            "394.0460510253906\n",
            "394.0440368652344\n",
            "394.0420227050781\n",
            "394.0400390625\n",
            "394.03802490234375\n",
            "394.0360412597656\n",
            "394.03411865234375\n",
            "394.03204345703125\n",
            "394.03009033203125\n",
            "394.0281066894531\n",
            "394.0260925292969\n",
            "394.02410888671875\n",
            "394.02215576171875\n",
            "394.02008056640625\n",
            "394.01812744140625\n",
            "394.0161437988281\n",
            "394.0141296386719\n",
            "394.01214599609375\n",
            "394.01019287109375\n",
            "394.0081481933594\n",
            "394.0061340332031\n",
            "394.004150390625\n",
            "394.00213623046875\n",
            "394.00018310546875\n",
            "393.9981994628906\n",
            "393.9962463378906\n",
            "393.9942321777344\n",
            "393.99224853515625\n",
            "393.9902648925781\n",
            "393.98822021484375\n",
            "393.98626708984375\n",
            "393.9842529296875\n",
            "393.98223876953125\n",
            "393.98028564453125\n",
            "393.9782409667969\n",
            "393.97625732421875\n",
            "393.97430419921875\n",
            "393.9722900390625\n",
            "393.9703063964844\n",
            "393.96832275390625\n",
            "393.96630859375\n",
            "393.96429443359375\n",
            "393.9623107910156\n",
            "393.96026611328125\n",
            "393.9583740234375\n",
            "393.95635986328125\n",
            "393.954345703125\n",
            "393.95233154296875\n",
            "393.95037841796875\n",
            "393.9483947753906\n",
            "393.94635009765625\n",
            "393.94439697265625\n",
            "393.9424133300781\n",
            "393.94036865234375\n",
            "393.93841552734375\n",
            "393.93646240234375\n",
            "393.9344177246094\n",
            "393.9324645996094\n",
            "393.930419921875\n",
            "393.928466796875\n",
            "393.92645263671875\n",
            "393.9244689941406\n",
            "393.92242431640625\n",
            "393.92047119140625\n",
            "393.9184265136719\n",
            "393.91650390625\n",
            "393.91448974609375\n",
            "393.9124755859375\n",
            "393.9105224609375\n",
            "393.90850830078125\n",
            "393.90655517578125\n",
            "393.90460205078125\n",
            "393.9025573730469\n",
            "393.90057373046875\n",
            "393.8985595703125\n",
            "393.8965759277344\n",
            "393.8945617675781\n",
            "393.8925476074219\n",
            "393.89056396484375\n",
            "393.88861083984375\n",
            "393.8866271972656\n",
            "393.8846130371094\n",
            "393.88262939453125\n",
            "393.880615234375\n",
            "393.8786315917969\n",
            "393.87664794921875\n",
            "393.8746337890625\n",
            "393.8726806640625\n",
            "393.87066650390625\n",
            "393.86871337890625\n",
            "393.8666687011719\n",
            "393.86468505859375\n",
            "393.8626708984375\n",
            "393.8606872558594\n",
            "393.85870361328125\n",
            "393.8567199707031\n",
            "393.85467529296875\n",
            "393.85272216796875\n",
            "393.8507080078125\n",
            "393.8487548828125\n",
            "393.84674072265625\n",
            "393.84478759765625\n",
            "393.8427429199219\n",
            "393.8407897949219\n",
            "393.83880615234375\n",
            "393.83685302734375\n",
            "393.83477783203125\n",
            "393.83282470703125\n",
            "393.8308410644531\n",
            "393.82879638671875\n",
            "393.8268127441406\n",
            "393.8248596191406\n",
            "393.8228759765625\n",
            "393.82086181640625\n",
            "393.8188171386719\n",
            "393.81689453125\n",
            "393.81488037109375\n",
            "393.8128967285156\n",
            "393.81085205078125\n",
            "393.8089294433594\n",
            "393.8069152832031\n",
            "393.8049621582031\n",
            "393.80291748046875\n",
            "393.80096435546875\n",
            "393.7989196777344\n",
            "393.79693603515625\n",
            "393.794921875\n",
            "393.79296875\n",
            "393.79095458984375\n",
            "393.78900146484375\n",
            "393.7869873046875\n",
            "393.7850646972656\n",
            "393.78302001953125\n",
            "393.7810363769531\n",
            "393.7790222167969\n",
            "393.77703857421875\n",
            "393.77508544921875\n",
            "393.7730407714844\n",
            "393.77105712890625\n",
            "393.7690734863281\n",
            "393.76702880859375\n",
            "393.7650146484375\n",
            "393.7630615234375\n",
            "393.7610778808594\n",
            "393.75909423828125\n",
            "393.7571105957031\n",
            "393.7550964355469\n",
            "393.75311279296875\n",
            "393.7510986328125\n",
            "393.74920654296875\n",
            "393.7471618652344\n",
            "393.7451477050781\n",
            "393.7431335449219\n",
            "393.7411804199219\n",
            "393.73919677734375\n",
            "393.7371826171875\n",
            "393.7351989746094\n",
            "393.73321533203125\n",
            "393.731201171875\n",
            "393.7292175292969\n",
            "393.7272033691406\n",
            "393.7252502441406\n",
            "393.72320556640625\n",
            "393.72125244140625\n",
            "393.71923828125\n",
            "393.7172546386719\n",
            "393.7152404785156\n",
            "393.71331787109375\n",
            "393.7113037109375\n",
            "393.7093505859375\n",
            "393.70733642578125\n",
            "393.7053527832031\n",
            "393.70330810546875\n",
            "393.7013244628906\n",
            "393.6993103027344\n",
            "393.69732666015625\n",
            "393.6953430175781\n",
            "393.6933898925781\n",
            "393.6913757324219\n",
            "393.68939208984375\n",
            "393.6874084472656\n",
            "393.6854248046875\n",
            "393.6833801269531\n",
            "393.6813659667969\n",
            "393.67938232421875\n",
            "393.67742919921875\n",
            "393.6754150390625\n",
            "393.6734619140625\n",
            "393.67144775390625\n",
            "393.6694641113281\n",
            "393.6674499511719\n",
            "393.6654968261719\n",
            "393.66351318359375\n",
            "393.6614685058594\n",
            "393.65948486328125\n",
            "393.65753173828125\n",
            "393.655517578125\n",
            "393.65350341796875\n",
            "393.65155029296875\n",
            "393.6495361328125\n",
            "393.6475830078125\n",
            "393.64556884765625\n",
            "393.6435852050781\n",
            "393.6415710449219\n",
            "393.63958740234375\n",
            "393.6375427246094\n",
            "393.6355895996094\n",
            "393.6336364746094\n",
            "393.631591796875\n",
            "393.62957763671875\n",
            "393.62762451171875\n",
            "393.6256103515625\n",
            "393.6236572265625\n",
            "393.62164306640625\n",
            "393.61968994140625\n",
            "393.6176452636719\n",
            "393.61566162109375\n",
            "393.61370849609375\n",
            "393.6116638183594\n",
            "393.60968017578125\n",
            "393.60772705078125\n",
            "393.605712890625\n",
            "393.60369873046875\n",
            "393.60174560546875\n",
            "393.5997619628906\n",
            "393.5977783203125\n",
            "393.5957336425781\n",
            "393.59375\n",
            "393.59173583984375\n",
            "393.58978271484375\n",
            "393.5877685546875\n",
            "393.5858459472656\n",
            "393.58380126953125\n",
            "393.58184814453125\n",
            "393.579833984375\n",
            "393.5778503417969\n",
            "393.57586669921875\n",
            "393.5738525390625\n",
            "393.57183837890625\n",
            "393.5698547363281\n",
            "393.56787109375\n",
            "393.56585693359375\n",
            "393.56390380859375\n",
            "393.5618896484375\n",
            "393.5599060058594\n",
            "393.557861328125\n",
            "393.555908203125\n",
            "393.553955078125\n",
            "393.55194091796875\n",
            "393.5499572753906\n",
            "393.54791259765625\n",
            "393.54595947265625\n",
            "393.54400634765625\n",
            "393.5419616699219\n",
            "393.5400085449219\n",
            "393.53802490234375\n",
            "393.5360107421875\n",
            "393.5340576171875\n",
            "393.53204345703125\n",
            "393.530029296875\n",
            "393.52801513671875\n",
            "393.52606201171875\n",
            "393.5240478515625\n",
            "393.5220642089844\n",
            "393.52008056640625\n",
            "393.51812744140625\n",
            "393.5160827636719\n",
            "393.51409912109375\n",
            "393.5120849609375\n",
            "393.5101013183594\n",
            "393.50811767578125\n",
            "393.50616455078125\n",
            "393.50408935546875\n",
            "393.5021667480469\n",
            "393.5001525878906\n",
            "393.4981994628906\n",
            "393.4961853027344\n",
            "393.49420166015625\n",
            "393.4921875\n",
            "393.4902648925781\n",
            "393.48822021484375\n",
            "393.48626708984375\n",
            "393.48419189453125\n",
            "393.48223876953125\n",
            "393.4801940917969\n",
            "393.478271484375\n",
            "393.47625732421875\n",
            "393.4742431640625\n",
            "393.4722595214844\n",
            "393.4703369140625\n",
            "393.46832275390625\n",
            "393.4662780761719\n",
            "393.46429443359375\n",
            "393.4623107910156\n",
            "393.4603271484375\n",
            "393.45831298828125\n",
            "393.4563903808594\n",
            "393.45440673828125\n",
            "393.4523620605469\n",
            "393.45037841796875\n",
            "393.44842529296875\n",
            "393.44635009765625\n",
            "393.44439697265625\n",
            "393.4424133300781\n",
            "393.4404602050781\n",
            "393.4384460449219\n",
            "393.43634033203125\n",
            "393.4344482421875\n",
            "393.4324645996094\n",
            "393.4304504394531\n",
            "393.428466796875\n",
            "393.4264831542969\n",
            "393.42449951171875\n",
            "393.42254638671875\n",
            "393.42047119140625\n",
            "393.41851806640625\n",
            "393.4165344238281\n",
            "393.4145202636719\n",
            "393.41253662109375\n",
            "393.41058349609375\n",
            "393.4085693359375\n",
            "393.4066162109375\n",
            "393.4045715332031\n",
            "393.4026184082031\n",
            "393.4006042480469\n",
            "393.3985900878906\n",
            "393.3966064453125\n",
            "393.39459228515625\n",
            "393.39263916015625\n",
            "393.390625\n",
            "393.38861083984375\n",
            "393.38665771484375\n",
            "393.3846740722656\n",
            "393.38262939453125\n",
            "393.38067626953125\n",
            "393.37872314453125\n",
            "393.3767395019531\n",
            "393.37469482421875\n",
            "393.37274169921875\n",
            "393.3707580566406\n",
            "393.3687438964844\n",
            "393.36669921875\n",
            "393.3647766113281\n",
            "393.36279296875\n",
            "393.36077880859375\n",
            "393.3587951660156\n",
            "393.3568115234375\n",
            "393.3547668457031\n",
            "393.3528137207031\n",
            "393.35076904296875\n",
            "393.3488464355469\n",
            "393.3468017578125\n",
            "393.3448486328125\n",
            "393.34283447265625\n",
            "393.34088134765625\n",
            "393.3388366699219\n",
            "393.3368835449219\n",
            "393.33489990234375\n",
            "393.3328857421875\n",
            "393.3309020996094\n",
            "393.32891845703125\n",
            "393.32696533203125\n",
            "393.32489013671875\n",
            "393.32293701171875\n",
            "393.32098388671875\n",
            "393.3189392089844\n",
            "393.31695556640625\n",
            "393.3149719238281\n",
            "393.31298828125\n",
            "393.31097412109375\n",
            "393.3089904785156\n",
            "393.3069763183594\n",
            "393.3050537109375\n",
            "393.3030090332031\n",
            "393.3010559082031\n",
            "393.299072265625\n",
            "393.29705810546875\n",
            "393.29510498046875\n",
            "393.2930603027344\n",
            "393.2911071777344\n",
            "393.28912353515625\n",
            "393.28704833984375\n",
            "393.28509521484375\n",
            "393.28314208984375\n",
            "393.2811584472656\n",
            "393.2791442871094\n",
            "393.27716064453125\n",
            "393.275146484375\n",
            "393.2731628417969\n",
            "393.27117919921875\n",
            "393.26922607421875\n",
            "393.2671813964844\n",
            "393.26519775390625\n",
            "393.26324462890625\n",
            "393.26123046875\n",
            "393.25921630859375\n",
            "393.2572937011719\n",
            "393.2552490234375\n",
            "393.2532653808594\n",
            "393.25128173828125\n",
            "393.249267578125\n",
            "393.247314453125\n",
            "393.24530029296875\n",
            "393.2432861328125\n",
            "393.2413330078125\n",
            "393.23931884765625\n",
            "393.23736572265625\n",
            "393.2353515625\n",
            "393.23333740234375\n",
            "393.23138427734375\n",
            "393.2293701171875\n",
            "393.22735595703125\n",
            "393.22540283203125\n",
            "393.22332763671875\n",
            "393.22137451171875\n",
            "393.21942138671875\n",
            "393.2174377441406\n",
            "393.2154846191406\n",
            "393.21343994140625\n",
            "393.2114562988281\n",
            "393.20941162109375\n",
            "393.2074890136719\n",
            "393.20550537109375\n",
            "393.2034606933594\n",
            "393.2015075683594\n",
            "393.19952392578125\n",
            "393.1974792480469\n",
            "393.1955261230469\n",
            "393.19354248046875\n",
            "393.1915283203125\n",
            "393.18951416015625\n",
            "393.18756103515625\n",
            "393.18560791015625\n",
            "393.18359375\n",
            "393.18157958984375\n",
            "393.1795654296875\n",
            "393.1775817871094\n",
            "393.1755676269531\n",
            "393.17364501953125\n",
            "393.171630859375\n",
            "393.169677734375\n",
            "393.16766357421875\n",
            "393.1656799316406\n",
            "393.1636962890625\n",
            "393.16168212890625\n",
            "393.1596984863281\n",
            "393.1576843261719\n",
            "393.15570068359375\n",
            "393.1537170410156\n",
            "393.1517333984375\n",
            "393.1497497558594\n",
            "393.14776611328125\n",
            "393.145751953125\n",
            "393.14373779296875\n",
            "393.1418151855469\n",
            "393.1398010253906\n",
            "393.1377868652344\n",
            "393.1358337402344\n",
            "393.1337890625\n",
            "393.13177490234375\n",
            "393.12982177734375\n",
            "393.1278381347656\n",
            "393.1258544921875\n",
            "393.1238708496094\n",
            "393.12188720703125\n",
            "393.11993408203125\n",
            "393.117919921875\n",
            "393.115966796875\n",
            "393.1138916015625\n",
            "393.1119079589844\n",
            "393.10992431640625\n",
            "393.10797119140625\n",
            "393.1059265136719\n",
            "393.10400390625\n",
            "393.10198974609375\n",
            "393.0999755859375\n",
            "393.0980529785156\n",
            "393.09600830078125\n",
            "393.093994140625\n",
            "393.0920104980469\n",
            "393.09002685546875\n",
            "393.0880432128906\n",
            "393.0860595703125\n",
            "393.0841064453125\n",
            "393.08209228515625\n",
            "393.080078125\n",
            "393.0780944824219\n",
            "393.07611083984375\n",
            "393.0741271972656\n",
            "393.0721130371094\n",
            "393.0700988769531\n",
            "393.06817626953125\n",
            "393.06610107421875\n",
            "393.0641174316406\n",
            "393.0621643066406\n",
            "393.0601806640625\n",
            "393.05816650390625\n",
            "393.0561828613281\n",
            "393.0542297363281\n",
            "393.05224609375\n",
            "393.05023193359375\n",
            "393.0482482910156\n",
            "393.0462646484375\n",
            "393.04425048828125\n",
            "393.04229736328125\n",
            "393.040283203125\n",
            "393.03826904296875\n",
            "393.03631591796875\n",
            "393.0343322753906\n",
            "393.0323181152344\n",
            "393.03033447265625\n",
            "393.0283203125\n",
            "393.0263366699219\n",
            "393.02435302734375\n",
            "393.0223693847656\n",
            "393.0203552246094\n",
            "393.0183410644531\n",
            "393.016357421875\n",
            "393.014404296875\n",
            "393.01239013671875\n",
            "393.0104064941406\n",
            "393.0084533691406\n",
            "393.0064697265625\n",
            "393.0044860839844\n",
            "393.00244140625\n",
            "393.00042724609375\n",
            "392.99847412109375\n",
            "392.99652099609375\n",
            "392.99444580078125\n",
            "392.9925231933594\n",
            "392.99053955078125\n",
            "392.9884948730469\n",
            "392.98651123046875\n",
            "392.98455810546875\n",
            "392.9825744628906\n",
            "392.98052978515625\n",
            "392.97857666015625\n",
            "392.9765930175781\n",
            "392.97454833984375\n",
            "392.97259521484375\n",
            "392.97064208984375\n",
            "392.9686584472656\n",
            "392.96661376953125\n",
            "392.96466064453125\n",
            "392.962646484375\n",
            "392.9606628417969\n",
            "392.95867919921875\n",
            "392.9566955566406\n",
            "392.9547119140625\n",
            "392.95269775390625\n",
            "392.95074462890625\n",
            "392.94873046875\n",
            "392.9467468261719\n",
            "392.94476318359375\n",
            "392.9427185058594\n",
            "392.94073486328125\n",
            "392.93878173828125\n",
            "392.936767578125\n",
            "392.93475341796875\n",
            "392.93280029296875\n",
            "392.93084716796875\n",
            "392.9288635253906\n",
            "392.92681884765625\n",
            "392.92486572265625\n",
            "392.9228515625\n",
            "392.9208679199219\n",
            "392.91888427734375\n",
            "392.9169006347656\n",
            "392.9148864746094\n",
            "392.9129638671875\n",
            "392.9109191894531\n",
            "392.908935546875\n",
            "392.90692138671875\n",
            "392.90496826171875\n",
            "392.9029235839844\n",
            "392.9010009765625\n",
            "392.89898681640625\n",
            "392.89697265625\n",
            "392.8949890136719\n",
            "392.8929748535156\n",
            "392.8910217285156\n",
            "392.88897705078125\n",
            "392.8870544433594\n",
            "392.88507080078125\n",
            "392.883056640625\n",
            "392.881103515625\n",
            "392.87908935546875\n",
            "392.8770751953125\n",
            "392.8750915527344\n",
            "392.873046875\n",
            "392.87109375\n",
            "392.86907958984375\n",
            "392.86712646484375\n",
            "392.86517333984375\n",
            "392.8631591796875\n",
            "392.86114501953125\n",
            "392.85919189453125\n",
            "392.857177734375\n",
            "392.85516357421875\n",
            "392.8531799316406\n",
            "392.8512268066406\n",
            "392.84930419921875\n",
            "392.84722900390625\n",
            "392.8452453613281\n",
            "392.84326171875\n",
            "392.84124755859375\n",
            "392.83929443359375\n",
            "392.8372497558594\n",
            "392.8353271484375\n",
            "392.83331298828125\n",
            "392.8313293457031\n",
            "392.829345703125\n",
            "392.82733154296875\n",
            "392.8253173828125\n",
            "392.8233337402344\n",
            "392.82135009765625\n",
            "392.81939697265625\n",
            "392.81744384765625\n",
            "392.8153991699219\n",
            "392.81341552734375\n",
            "392.8114318847656\n",
            "392.8094177246094\n",
            "392.8074035644531\n",
            "392.80548095703125\n",
            "392.8034973144531\n",
            "392.80145263671875\n",
            "392.79949951171875\n",
            "392.7975158691406\n",
            "392.7955017089844\n",
            "392.79351806640625\n",
            "392.79156494140625\n",
            "392.7895812988281\n",
            "392.78753662109375\n",
            "392.7855529785156\n",
            "392.7835693359375\n",
            "392.78155517578125\n",
            "392.779541015625\n",
            "392.77752685546875\n",
            "392.7756042480469\n",
            "392.77362060546875\n",
            "392.77166748046875\n",
            "392.76971435546875\n",
            "392.7677001953125\n",
            "392.76568603515625\n",
            "392.76361083984375\n",
            "392.76165771484375\n",
            "392.7596740722656\n",
            "392.7576904296875\n",
            "392.7557067871094\n",
            "392.7537536621094\n",
            "392.7517395019531\n",
            "392.749755859375\n",
            "392.7477722167969\n",
            "392.74578857421875\n",
            "392.74371337890625\n",
            "392.74176025390625\n",
            "392.73980712890625\n",
            "392.7378234863281\n",
            "392.73577880859375\n",
            "392.7337951660156\n",
            "392.73187255859375\n",
            "392.7298278808594\n",
            "392.72784423828125\n",
            "392.72589111328125\n",
            "392.7239074707031\n",
            "392.7218933105469\n",
            "392.7198791503906\n",
            "392.7179260253906\n",
            "392.7159423828125\n",
            "392.7138977050781\n",
            "392.71197509765625\n",
            "392.7099609375\n",
            "392.70794677734375\n",
            "392.70599365234375\n",
            "392.7040100097656\n",
            "392.7020263671875\n",
            "392.70001220703125\n",
            "392.6979675292969\n",
            "392.6960144042969\n",
            "392.69403076171875\n",
            "392.69207763671875\n",
            "392.6900939941406\n",
            "392.6880798339844\n",
            "392.68609619140625\n",
            "392.6841125488281\n",
            "392.68206787109375\n",
            "392.68017578125\n",
            "392.6781311035156\n",
            "392.6761169433594\n",
            "392.67413330078125\n",
            "392.67218017578125\n",
            "392.6701354980469\n",
            "392.66815185546875\n",
            "392.6661682128906\n",
            "392.6642150878906\n",
            "392.6622009277344\n",
            "392.6601867675781\n",
            "392.6582336425781\n",
            "392.6562194824219\n",
            "392.65423583984375\n",
            "392.65228271484375\n",
            "392.6502685546875\n",
            "392.64825439453125\n",
            "392.6462707519531\n",
            "392.6443176269531\n",
            "392.642333984375\n",
            "392.64031982421875\n",
            "392.6383361816406\n",
            "392.6363525390625\n",
            "392.63433837890625\n",
            "392.6323547363281\n",
            "392.63037109375\n",
            "392.62835693359375\n",
            "392.62640380859375\n",
            "392.6243896484375\n",
            "392.6224060058594\n",
            "392.6204528808594\n",
            "392.61846923828125\n",
            "392.6164245605469\n",
            "392.61444091796875\n",
            "392.61248779296875\n",
            "392.6104736328125\n",
            "392.60845947265625\n",
            "392.6065673828125\n",
            "392.60455322265625\n",
            "392.6025085449219\n",
            "392.60052490234375\n",
            "392.59857177734375\n",
            "392.59661865234375\n",
            "392.5946044921875\n",
            "392.5925598144531\n",
            "392.590576171875\n",
            "392.5885925292969\n",
            "392.5865783691406\n",
            "392.5846252441406\n",
            "392.5826416015625\n",
            "392.5806579589844\n",
            "392.5786437988281\n",
            "392.5766296386719\n",
            "392.57470703125\n",
            "392.57269287109375\n",
            "392.57073974609375\n",
            "392.5686950683594\n",
            "392.5667419433594\n",
            "392.56475830078125\n",
            "392.56280517578125\n",
            "392.56072998046875\n",
            "392.5588073730469\n",
            "392.5567626953125\n",
            "392.5547790527344\n",
            "392.55279541015625\n",
            "392.55084228515625\n",
            "392.548828125\n",
            "392.5468444824219\n",
            "392.54486083984375\n",
            "392.5428466796875\n",
            "392.54083251953125\n",
            "392.53887939453125\n",
            "392.536865234375\n",
            "392.534912109375\n",
            "392.53289794921875\n",
            "392.53094482421875\n",
            "392.5289611816406\n",
            "392.5269775390625\n",
            "392.52496337890625\n",
            "392.52301025390625\n",
            "392.5209655761719\n",
            "392.51898193359375\n",
            "392.51702880859375\n",
            "392.5150451660156\n",
            "392.5130615234375\n",
            "392.5110168457031\n",
            "392.50909423828125\n",
            "392.50701904296875\n",
            "392.50506591796875\n",
            "392.5030517578125\n",
            "392.5010986328125\n",
            "392.49908447265625\n",
            "392.4970703125\n",
            "392.4951477050781\n",
            "392.49310302734375\n",
            "392.49114990234375\n",
            "392.4891357421875\n",
            "392.4871826171875\n",
            "392.4851989746094\n",
            "392.48321533203125\n",
            "392.48126220703125\n",
            "392.4792175292969\n",
            "392.4772033691406\n",
            "392.47528076171875\n",
            "392.4732971191406\n",
            "392.4712829589844\n",
            "392.4692687988281\n",
            "392.46734619140625\n",
            "392.46533203125\n",
            "392.46331787109375\n",
            "392.4613342285156\n",
            "392.4593200683594\n",
            "392.45733642578125\n",
            "392.4553527832031\n",
            "392.4533386230469\n",
            "392.4514465332031\n",
            "392.4494323730469\n",
            "392.4474182128906\n",
            "392.4454345703125\n",
            "392.44342041015625\n",
            "392.44146728515625\n",
            "392.4394836425781\n",
            "392.43743896484375\n",
            "392.4355163574219\n",
            "392.4335021972656\n",
            "392.4314880371094\n",
            "392.4295349121094\n",
            "392.427490234375\n",
            "392.425537109375\n",
            "392.423583984375\n",
            "392.4216003417969\n",
            "392.41961669921875\n",
            "392.4175720214844\n",
            "392.41558837890625\n",
            "392.4136657714844\n",
            "392.41162109375\n",
            "392.4096374511719\n",
            "392.40765380859375\n",
            "392.4056701660156\n",
            "392.40374755859375\n",
            "392.4017028808594\n",
            "392.3997497558594\n",
            "392.39776611328125\n",
            "392.39581298828125\n",
            "392.39385986328125\n",
            "392.39190673828125\n",
            "392.3899230957031\n",
            "392.3879089355469\n",
            "392.38592529296875\n",
            "392.38397216796875\n",
            "392.3819885253906\n",
            "392.3800048828125\n",
            "392.3780517578125\n",
            "392.37603759765625\n",
            "392.37408447265625\n",
            "392.3721618652344\n",
            "392.3701477050781\n",
            "392.3681640625\n",
            "392.36614990234375\n",
            "392.3642272949219\n",
            "392.3622131347656\n",
            "392.3602600097656\n",
            "392.3583068847656\n",
            "392.3562927246094\n",
            "392.3543701171875\n",
            "392.35235595703125\n",
            "392.35040283203125\n",
            "392.3484191894531\n",
            "392.346435546875\n",
            "392.344482421875\n",
            "392.34246826171875\n",
            "392.34051513671875\n",
            "392.3385314941406\n",
            "392.33660888671875\n",
            "392.3346252441406\n",
            "392.3326416015625\n",
            "392.33062744140625\n",
            "392.32867431640625\n",
            "392.32672119140625\n",
            "392.3247375488281\n",
            "392.32275390625\n",
            "392.3207702636719\n",
            "392.31878662109375\n",
            "392.31683349609375\n",
            "392.31488037109375\n",
            "392.3128662109375\n",
            "392.3108825683594\n",
            "392.3089294433594\n",
            "392.3069763183594\n",
            "392.30499267578125\n",
            "392.3030090332031\n",
            "392.301025390625\n",
            "392.29901123046875\n",
            "392.29705810546875\n",
            "392.29510498046875\n",
            "392.29315185546875\n",
            "392.2911376953125\n",
            "392.2891540527344\n",
            "392.2872314453125\n",
            "392.2852478027344\n",
            "392.28326416015625\n",
            "392.28125\n",
            "392.279296875\n",
            "392.27734375\n",
            "392.2753601074219\n",
            "392.2734069824219\n",
            "392.2713928222656\n",
            "392.26947021484375\n",
            "392.2674560546875\n",
            "392.2655029296875\n",
            "392.2635498046875\n",
            "392.26153564453125\n",
            "392.2595520019531\n",
            "392.25762939453125\n",
            "392.2556457519531\n",
            "392.25360107421875\n",
            "392.25164794921875\n",
            "392.24969482421875\n",
            "392.24774169921875\n",
            "392.2457580566406\n",
            "392.2437744140625\n",
            "392.2417907714844\n",
            "392.23980712890625\n",
            "392.2378845214844\n",
            "392.2358703613281\n",
            "392.23388671875\n",
            "392.2319030761719\n",
            "392.22991943359375\n",
            "392.2279968261719\n",
            "392.22601318359375\n",
            "392.22406005859375\n",
            "392.2220458984375\n",
            "392.2200927734375\n",
            "392.2181091308594\n",
            "392.21612548828125\n",
            "392.2141418457031\n",
            "392.2121276855469\n",
            "392.2102355957031\n",
            "392.2082214355469\n",
            "392.20623779296875\n",
            "392.2042541503906\n",
            "392.20233154296875\n",
            "392.2003479003906\n",
            "392.1983642578125\n",
            "392.1963806152344\n",
            "392.19439697265625\n",
            "392.1924133300781\n",
            "392.1904602050781\n",
            "392.1884765625\n",
            "392.1864929199219\n",
            "392.18450927734375\n",
            "392.18255615234375\n",
            "392.18060302734375\n",
            "392.17864990234375\n",
            "392.1766357421875\n",
            "392.1746826171875\n",
            "392.17266845703125\n",
            "392.17071533203125\n",
            "392.1687316894531\n",
            "392.166748046875\n",
            "392.164794921875\n",
            "392.162841796875\n",
            "392.1609191894531\n",
            "392.1589050292969\n",
            "392.15692138671875\n",
            "392.1549072265625\n",
            "392.1529541015625\n",
            "392.1509704589844\n",
            "392.14898681640625\n",
            "392.14703369140625\n",
            "392.1450500488281\n",
            "392.14312744140625\n",
            "392.14105224609375\n",
            "392.1391296386719\n",
            "392.13714599609375\n",
            "392.1352233886719\n",
            "392.1332092285156\n",
            "392.1312561035156\n",
            "392.1292724609375\n",
            "392.12725830078125\n",
            "392.12530517578125\n",
            "392.12335205078125\n",
            "392.12139892578125\n",
            "392.11944580078125\n",
            "392.117431640625\n",
            "392.1154479980469\n",
            "392.11346435546875\n",
            "392.11151123046875\n",
            "392.1095275878906\n",
            "392.1075134277344\n",
            "392.1055603027344\n",
            "392.1036071777344\n",
            "392.10162353515625\n",
            "392.09967041015625\n",
            "392.09771728515625\n",
            "392.0957336425781\n",
            "392.0937805175781\n",
            "392.0917663574219\n",
            "392.08978271484375\n",
            "392.0877990722656\n",
            "392.0858154296875\n",
            "392.0838623046875\n",
            "392.0818786621094\n",
            "392.07989501953125\n",
            "392.077880859375\n",
            "392.07598876953125\n",
            "392.073974609375\n",
            "392.072021484375\n",
            "392.07000732421875\n",
            "392.06805419921875\n",
            "392.06610107421875\n",
            "392.0641174316406\n",
            "392.0621643066406\n",
            "392.0601806640625\n",
            "392.05816650390625\n",
            "392.05621337890625\n",
            "392.05426025390625\n",
            "392.05230712890625\n",
            "392.05029296875\n",
            "392.04833984375\n",
            "392.04632568359375\n",
            "392.04437255859375\n",
            "392.04241943359375\n",
            "392.0404052734375\n",
            "392.0384216308594\n",
            "392.0364990234375\n",
            "392.0345458984375\n",
            "392.03253173828125\n",
            "392.0305480957031\n",
            "392.02862548828125\n",
            "392.02667236328125\n",
            "392.024658203125\n",
            "392.02264404296875\n",
            "392.02069091796875\n",
            "392.0187072753906\n",
            "392.01678466796875\n",
            "392.0147705078125\n",
            "392.0127868652344\n",
            "392.01080322265625\n",
            "392.0088806152344\n",
            "392.0068664550781\n",
            "392.00494384765625\n",
            "392.0028991699219\n",
            "392.00091552734375\n",
            "391.99896240234375\n",
            "391.99700927734375\n",
            "391.99505615234375\n",
            "391.9930725097656\n",
            "391.9910888671875\n",
            "391.9891357421875\n",
            "391.9871520996094\n",
            "391.9852294921875\n",
            "391.9831848144531\n",
            "391.9811706542969\n",
            "391.97918701171875\n",
            "391.9772644042969\n",
            "391.97528076171875\n",
            "391.97332763671875\n",
            "391.9713439941406\n",
            "391.9693603515625\n",
            "391.9673767089844\n",
            "391.9654541015625\n",
            "391.9634704589844\n",
            "391.9615478515625\n",
            "391.9595031738281\n",
            "391.95758056640625\n",
            "391.9555358886719\n",
            "391.95355224609375\n",
            "391.95159912109375\n",
            "391.94964599609375\n",
            "391.94769287109375\n",
            "391.9457092285156\n",
            "391.9437255859375\n",
            "391.9417724609375\n",
            "391.9397277832031\n",
            "391.93780517578125\n",
            "391.9358215332031\n",
            "391.9338073730469\n",
            "391.9318542480469\n",
            "391.929931640625\n",
            "391.9279479980469\n",
            "391.92596435546875\n",
            "391.9239807128906\n",
            "391.9220275878906\n",
            "391.9200439453125\n",
            "391.9180908203125\n",
            "391.9161071777344\n",
            "391.91412353515625\n",
            "391.9121398925781\n",
            "391.91015625\n",
            "391.9082336425781\n",
            "391.90618896484375\n",
            "391.90423583984375\n",
            "391.9022521972656\n",
            "391.9002990722656\n",
            "391.8983459472656\n",
            "391.89630126953125\n",
            "391.8944091796875\n",
            "391.89239501953125\n",
            "391.89044189453125\n",
            "391.8884582519531\n",
            "391.88653564453125\n",
            "391.884521484375\n",
            "391.8825378417969\n",
            "391.8805847167969\n",
            "391.87860107421875\n",
            "391.8766174316406\n",
            "391.8746337890625\n",
            "391.8726501464844\n",
            "391.87066650390625\n",
            "391.86871337890625\n",
            "391.86676025390625\n",
            "391.86474609375\n",
            "391.8628234863281\n",
            "391.8608093261719\n",
            "391.85882568359375\n",
            "391.85687255859375\n",
            "391.85491943359375\n",
            "391.8529357910156\n",
            "391.85101318359375\n",
            "391.8490295410156\n",
            "391.84698486328125\n",
            "391.8450622558594\n",
            "391.84307861328125\n",
            "391.84112548828125\n",
            "391.8391418457031\n",
            "391.837158203125\n",
            "391.8351745605469\n",
            "391.83319091796875\n",
            "391.83123779296875\n",
            "391.8292236328125\n",
            "391.8272705078125\n",
            "391.8252868652344\n",
            "391.8233947753906\n",
            "391.8214111328125\n",
            "391.81939697265625\n",
            "391.81744384765625\n",
            "391.8154602050781\n",
            "391.8135070800781\n",
            "391.8114929199219\n",
            "391.80950927734375\n",
            "391.80755615234375\n",
            "391.8055419921875\n",
            "391.8036193847656\n",
            "391.8016052246094\n",
            "391.7996826171875\n",
            "391.79766845703125\n",
            "391.79571533203125\n",
            "391.7937927246094\n",
            "391.79180908203125\n",
            "391.789794921875\n",
            "391.78778076171875\n",
            "391.78582763671875\n",
            "391.78387451171875\n",
            "391.78192138671875\n",
            "391.7799072265625\n",
            "391.7779235839844\n",
            "391.7760009765625\n",
            "391.7740478515625\n",
            "391.7720642089844\n",
            "391.7700500488281\n",
            "391.7680969238281\n",
            "391.7661437988281\n",
            "391.76409912109375\n",
            "391.76214599609375\n",
            "391.76019287109375\n",
            "391.7582092285156\n",
            "391.7562255859375\n",
            "391.75433349609375\n",
            "391.7522888183594\n",
            "391.7503356933594\n",
            "391.74835205078125\n",
            "391.74639892578125\n",
            "391.74444580078125\n",
            "391.742431640625\n",
            "391.7404479980469\n",
            "391.738525390625\n",
            "391.73651123046875\n",
            "391.73455810546875\n",
            "391.7325439453125\n",
            "391.7305908203125\n",
            "391.7286376953125\n",
            "391.72662353515625\n",
            "391.72467041015625\n",
            "391.7226867675781\n",
            "391.720703125\n",
            "391.7187805175781\n",
            "391.716796875\n",
            "391.71478271484375\n",
            "391.7128601074219\n",
            "391.71087646484375\n",
            "391.7088928222656\n",
            "391.7069396972656\n",
            "391.7049560546875\n",
            "391.7029724121094\n",
            "391.70098876953125\n",
            "391.69903564453125\n",
            "391.69708251953125\n",
            "391.695068359375\n",
            "391.6930847167969\n",
            "391.6911315917969\n",
            "391.689208984375\n",
            "391.68719482421875\n",
            "391.68524169921875\n",
            "391.6832580566406\n",
            "391.6812744140625\n",
            "391.6793212890625\n",
            "391.6773376464844\n",
            "391.6753845214844\n",
            "391.67340087890625\n",
            "391.67144775390625\n",
            "391.6694641113281\n",
            "391.6674499511719\n",
            "391.66546630859375\n",
            "391.66351318359375\n",
            "391.6615295410156\n",
            "391.6595764160156\n",
            "391.6575927734375\n",
            "391.6556091308594\n",
            "391.6536865234375\n",
            "391.65167236328125\n",
            "391.64971923828125\n",
            "391.64776611328125\n",
            "391.6457824707031\n",
            "391.643798828125\n",
            "391.64178466796875\n",
            "391.6398620605469\n",
            "391.63787841796875\n",
            "391.63592529296875\n",
            "391.6339111328125\n",
            "391.6319274902344\n",
            "391.6299743652344\n",
            "391.62799072265625\n",
            "391.62603759765625\n",
            "391.62408447265625\n",
            "391.6221008300781\n",
            "391.6201477050781\n",
            "391.6181335449219\n",
            "391.61614990234375\n",
            "391.61419677734375\n",
            "391.61224365234375\n",
            "391.6102294921875\n",
            "391.6083068847656\n",
            "391.6063537597656\n",
            "391.60430908203125\n",
            "391.60235595703125\n",
            "391.60040283203125\n",
            "391.59844970703125\n",
            "391.5964050292969\n",
            "391.59442138671875\n",
            "391.5924987792969\n",
            "391.59051513671875\n",
            "391.5885314941406\n",
            "391.58660888671875\n",
            "391.58465576171875\n",
            "391.58270263671875\n",
            "391.5806884765625\n",
            "391.5787048339844\n",
            "391.57672119140625\n",
            "391.57476806640625\n",
            "391.5727844238281\n",
            "391.57080078125\n",
            "391.56878662109375\n",
            "391.5668640136719\n",
            "391.56488037109375\n",
            "391.56292724609375\n",
            "391.5609130859375\n",
            "391.5589904785156\n",
            "391.5570373535156\n",
            "391.55499267578125\n",
            "391.55303955078125\n",
            "391.5510559082031\n",
            "391.5491027832031\n",
            "391.547119140625\n",
            "391.545166015625\n",
            "391.5431823730469\n",
            "391.54119873046875\n",
            "391.53924560546875\n",
            "391.53729248046875\n",
            "391.53533935546875\n",
            "391.53326416015625\n",
            "391.5313415527344\n",
            "391.5293884277344\n",
            "391.52740478515625\n",
            "391.5254211425781\n",
            "391.52349853515625\n",
            "391.5214538574219\n",
            "391.5195007324219\n",
            "391.5175476074219\n",
            "391.5155944824219\n",
            "391.51361083984375\n",
            "391.5116271972656\n",
            "391.5096435546875\n",
            "391.5076599121094\n",
            "391.5057067871094\n",
            "391.50372314453125\n",
            "391.50177001953125\n",
            "391.49981689453125\n",
            "391.497802734375\n",
            "391.4958801269531\n",
            "391.4938659667969\n",
            "391.4918518066406\n",
            "391.48992919921875\n",
            "391.48797607421875\n",
            "391.4859619140625\n",
            "391.4840087890625\n",
            "391.48199462890625\n",
            "391.48004150390625\n",
            "391.4781188964844\n",
            "391.47613525390625\n",
            "391.4741516113281\n",
            "391.47216796875\n",
            "391.4702453613281\n",
            "391.4682312011719\n",
            "391.46624755859375\n",
            "391.46429443359375\n",
            "391.46234130859375\n",
            "391.46038818359375\n",
            "391.4583740234375\n",
            "391.4563903808594\n",
            "391.45440673828125\n",
            "391.45245361328125\n",
            "391.4504699707031\n",
            "391.4485168457031\n",
            "391.446533203125\n",
            "391.4445495605469\n",
            "391.4425964355469\n",
            "391.44061279296875\n",
            "391.43865966796875\n",
            "391.4366760253906\n",
            "391.4346618652344\n",
            "391.4327392578125\n",
            "391.4307556152344\n",
            "391.4288024902344\n",
            "391.4267883300781\n",
            "391.4248352050781\n",
            "391.4228820800781\n",
            "391.4208679199219\n",
            "391.41888427734375\n",
            "391.41693115234375\n",
            "391.4149475097656\n",
            "391.41302490234375\n",
            "391.41107177734375\n",
            "391.4090881347656\n",
            "391.4070739746094\n",
            "391.4051818847656\n",
            "391.4031677246094\n",
            "391.40118408203125\n",
            "391.399169921875\n",
            "391.397216796875\n",
            "391.3952941894531\n",
            "391.39324951171875\n",
            "391.3913269042969\n"
          ],
          "name": "stdout"
        },
        {
          "output_type": "display_data",
          "data": {
            "image/png": "[encoded data removed]",
            "text/plain": [
              "<Figure size 432x288 with 1 Axes>"
            ]
          },
          "metadata": {
            "tags": [],
            "needs_background": "light"
          }
        }
      ]
    },
    {
      "cell_type": "code",
      "metadata": {
        "colab": {
          "base_uri": "https://localhost:8080/",
          "height": 269
        },
        "id": "wpTTSQSAr-p0",
        "outputId": "94a2dfbb-26a5-49d9-8fbb-adf24e770e60"
      },
      "source": [
        "show_preds(preds)"
      ],
      "execution_count": 116,
      "outputs": [
        {
          "output_type": "display_data",
          "data": {
            "image/png": "[encoded data removed]",
            "text/plain": [
              "<Figure size 432x288 with 1 Axes>"
            ]
          },
          "metadata": {
            "tags": [],
            "needs_background": "light"
          }
        }
      ]
    },
    {
      "cell_type": "code",
      "metadata": {
        "id": "JH0W0AfUs4ec"
      },
      "source": [
        "#if you want to feed the original params back into params\n",
        "params = orig_params.detach().requires_grad_()"
      ],
      "execution_count": 117,
      "outputs": []
    },
    {
      "cell_type": "code",
      "metadata": {
        "colab": {
          "base_uri": "https://localhost:8080/"
        },
        "id": "E_kZsnfstIVK",
        "outputId": "64af1f93-9b0d-44d9-cb0d-2f96773a494b"
      },
      "source": [
        "params"
      ],
      "execution_count": 118,
      "outputs": [
        {
          "output_type": "execute_result",
          "data": {
            "text/plain": [
              "tensor([ 0.1867, -0.4747, -0.6685], requires_grad=True)"
            ]
          },
          "metadata": {
            "tags": []
          },
          "execution_count": 118
        }
      ]
    },
    {
      "cell_type": "markdown",
      "metadata": {
        "id": "RObcejOxcDts"
      },
      "source": [
        "MNIST LOSS FUNCTION"
      ]
    },
    {
      "cell_type": "code",
      "metadata": {
        "id": "uJW5AN5atKLB"
      },
      "source": [
        "# creating an MNIST loss function\n",
        "\n",
        "train_x = torch.cat([stacked_threes, stacked_sevens]).view(-1,28*28)\n",
        "# view changes the tesnors shape"
      ],
      "execution_count": 119,
      "outputs": []
    },
    {
      "cell_type": "code",
      "metadata": {
        "colab": {
          "base_uri": "https://localhost:8080/"
        },
        "id": "5uLUM0fWxqhA",
        "outputId": "2d6c51d5-5ba6-4555-f37a-1d0223029643"
      },
      "source": [
        "torch.cat([stacked_threes, stacked_sevens]).shape"
      ],
      "execution_count": 120,
      "outputs": [
        {
          "output_type": "execute_result",
          "data": {
            "text/plain": [
              "torch.Size([12396, 28, 28])"
            ]
          },
          "metadata": {
            "tags": []
          },
          "execution_count": 120
        }
      ]
    },
    {
      "cell_type": "code",
      "metadata": {
        "colab": {
          "base_uri": "https://localhost:8080/"
        },
        "id": "US55UxIqxxSk",
        "outputId": "c6de30ab-43be-4913-9713-06f860839963"
      },
      "source": [
        "len(train_x[0]), train_x.shape"
      ],
      "execution_count": 121,
      "outputs": [
        {
          "output_type": "execute_result",
          "data": {
            "text/plain": [
              "(784, torch.Size([12396, 784]))"
            ]
          },
          "metadata": {
            "tags": []
          },
          "execution_count": 121
        }
      ]
    },
    {
      "cell_type": "code",
      "metadata": {
        "id": "qdpwnpH4yY7N"
      },
      "source": [
        "train_y = tensor([0]* len(threes) + [1] * len(sevens)).unsqueeze(1)"
      ],
      "execution_count": 122,
      "outputs": []
    },
    {
      "cell_type": "code",
      "metadata": {
        "colab": {
          "base_uri": "https://localhost:8080/"
        },
        "id": "u67v_7CezFM_",
        "outputId": "50a7b638-78db-4dcc-de73-64beed1eb014"
      },
      "source": [
        "tensor([0] * len(threes) + [1] * len(sevens))"
      ],
      "execution_count": 123,
      "outputs": [
        {
          "output_type": "execute_result",
          "data": {
            "text/plain": [
              "tensor([0, 0, 0,  ..., 1, 1, 1])"
            ]
          },
          "metadata": {
            "tags": []
          },
          "execution_count": 123
        }
      ]
    },
    {
      "cell_type": "code",
      "metadata": {
        "colab": {
          "base_uri": "https://localhost:8080/"
        },
        "id": "mb7h_BkozioD",
        "outputId": "8e2775a9-0419-465d-b459-c81db21522cd"
      },
      "source": [
        "tensor([0] * len(threes) + [1] * len(sevens)).shape"
      ],
      "execution_count": 124,
      "outputs": [
        {
          "output_type": "execute_result",
          "data": {
            "text/plain": [
              "torch.Size([12396])"
            ]
          },
          "metadata": {
            "tags": []
          },
          "execution_count": 124
        }
      ]
    },
    {
      "cell_type": "code",
      "metadata": {
        "colab": {
          "base_uri": "https://localhost:8080/"
        },
        "id": "v2uoUyBjzTS2",
        "outputId": "b90bbbf9-f1b2-414c-ffcb-507257bc2516"
      },
      "source": [
        "tensor([0] * len(threes) + [1] * len(sevens)).unsqueeze(1)"
      ],
      "execution_count": 125,
      "outputs": [
        {
          "output_type": "execute_result",
          "data": {
            "text/plain": [
              "tensor([[0],\n",
              "        [0],\n",
              "        [0],\n",
              "        ...,\n",
              "        [1],\n",
              "        [1],\n",
              "        [1]])"
            ]
          },
          "metadata": {
            "tags": []
          },
          "execution_count": 125
        }
      ]
    },
    {
      "cell_type": "code",
      "metadata": {
        "colab": {
          "base_uri": "https://localhost:8080/"
        },
        "id": "Y7_xdc6CzfgR",
        "outputId": "26c90dcc-8754-4a01-9e5c-3c5acd6f18e2"
      },
      "source": [
        "tensor([0] * len(threes) + [1] * len(sevens)).unsqueeze(1).shape\n",
        "\n",
        "# unsqueeze gives you an extra dimension"
      ],
      "execution_count": 126,
      "outputs": [
        {
          "output_type": "execute_result",
          "data": {
            "text/plain": [
              "torch.Size([12396, 1])"
            ]
          },
          "metadata": {
            "tags": []
          },
          "execution_count": 126
        }
      ]
    },
    {
      "cell_type": "code",
      "metadata": {
        "colab": {
          "base_uri": "https://localhost:8080/"
        },
        "id": "HO6i1E-_yl3g",
        "outputId": "adc1a856-0c26-4be6-ee5a-118062661162"
      },
      "source": [
        "train_x.shape, train_y.shape"
      ],
      "execution_count": 127,
      "outputs": [
        {
          "output_type": "execute_result",
          "data": {
            "text/plain": [
              "(torch.Size([12396, 784]), torch.Size([12396, 1]))"
            ]
          },
          "metadata": {
            "tags": []
          },
          "execution_count": 127
        }
      ]
    },
    {
      "cell_type": "code",
      "metadata": {
        "id": "e8ARGKO3yXt1"
      },
      "source": [
        "# in pytirch a dataset is required to return a tuple of (x,y) when indexed\n",
        "# python provides a zip function\n",
        "\n",
        "dset = list(zip(train_x, train_y))"
      ],
      "execution_count": 128,
      "outputs": []
    },
    {
      "cell_type": "code",
      "metadata": {
        "colab": {
          "base_uri": "https://localhost:8080/"
        },
        "id": "L005PXn3z_5i",
        "outputId": "4a44ec0f-62ce-4d34-d3e7-da3f395b3018"
      },
      "source": [
        "dset[0][1]\n",
        "\n",
        "# 0 for three and 1 for 7"
      ],
      "execution_count": 129,
      "outputs": [
        {
          "output_type": "execute_result",
          "data": {
            "text/plain": [
              "tensor([0])"
            ]
          },
          "metadata": {
            "tags": []
          },
          "execution_count": 129
        }
      ]
    },
    {
      "cell_type": "code",
      "metadata": {
        "id": "Ucr987M4zEWs"
      },
      "source": [
        "x,y = dset[0]"
      ],
      "execution_count": 130,
      "outputs": []
    },
    {
      "cell_type": "code",
      "metadata": {
        "colab": {
          "base_uri": "https://localhost:8080/"
        },
        "id": "VAcD2ZYUzSc-",
        "outputId": "95b8d1cb-a45c-45bf-d97f-167e25678eb1"
      },
      "source": [
        "x.shape, y"
      ],
      "execution_count": 131,
      "outputs": [
        {
          "output_type": "execute_result",
          "data": {
            "text/plain": [
              "(torch.Size([784]), tensor([0]))"
            ]
          },
          "metadata": {
            "tags": []
          },
          "execution_count": 131
        }
      ]
    },
    {
      "cell_type": "code",
      "metadata": {
        "id": "o9fdv-fl0bg6"
      },
      "source": [
        "valid_x = torch.cat([valid_3_tens, valid_7_tens]).view(-1, 28*28)\n",
        "valid_y = tensor([0] * len(valid_3_tens) + [0] * len(valid_7_tens)).unsqueeze(1)\n",
        "valid_dset = list(zip(valid_x, valid_y))"
      ],
      "execution_count": 132,
      "outputs": []
    },
    {
      "cell_type": "code",
      "metadata": {
        "id": "RmsYRmaL1o-r"
      },
      "source": [
        "def init_params(size, std=1.0):\n",
        "  return (torch.randn(size) * std).requires_grad_()\n",
        "\n",
        "# returns a random tensor of given size with requires grad"
      ],
      "execution_count": 133,
      "outputs": []
    },
    {
      "cell_type": "code",
      "metadata": {
        "colab": {
          "base_uri": "https://localhost:8080/"
        },
        "id": "NKy8p_OUdGq3",
        "outputId": "bc38d521-2264-4442-8906-0d38d8aa7452"
      },
      "source": [
        "(torch.randn((28*28,1)) * 1.0).shape,(torch.randn((28*28,1)) * 1.0).mean() "
      ],
      "execution_count": 134,
      "outputs": [
        {
          "output_type": "execute_result",
          "data": {
            "text/plain": [
              "(torch.Size([784, 1]), tensor(0.0243))"
            ]
          },
          "metadata": {
            "tags": []
          },
          "execution_count": 134
        }
      ]
    },
    {
      "cell_type": "code",
      "metadata": {
        "id": "yIyOZxv410ql"
      },
      "source": [
        "weights = init_params((28*28,1))"
      ],
      "execution_count": 135,
      "outputs": []
    },
    {
      "cell_type": "code",
      "metadata": {
        "id": "5p2gChyR2EHC"
      },
      "source": [
        "bias = init_params(1)"
      ],
      "execution_count": 136,
      "outputs": []
    },
    {
      "cell_type": "code",
      "metadata": {
        "colab": {
          "base_uri": "https://localhost:8080/"
        },
        "id": "6taaUOzXnU2d",
        "outputId": "c48447e4-9612-46b0-b282-ca9015e71dfe"
      },
      "source": [
        "(train_x[0]*weights.T).sum() + bias\n",
        "\n",
        "\n",
        "# this is preds for 1 layer multiplied by weight\n",
        "# and then adding bias"
      ],
      "execution_count": 137,
      "outputs": [
        {
          "output_type": "execute_result",
          "data": {
            "text/plain": [
              "tensor([21.5137], grad_fn=<AddBackward0>)"
            ]
          },
          "metadata": {
            "tags": []
          },
          "execution_count": 137
        }
      ]
    },
    {
      "cell_type": "code",
      "metadata": {
        "colab": {
          "base_uri": "https://localhost:8080/"
        },
        "id": "eTPHlo4Inb6f",
        "outputId": "0d442a54-c540-4a33-b522-4f4d283632ec"
      },
      "source": [
        "def linear1(xb):\n",
        "  return xb@weights + bias\n",
        "\n",
        "  # @ is matrix multiply\n",
        "\n",
        "preds = linear1(train_x)\n",
        "preds"
      ],
      "execution_count": 138,
      "outputs": [
        {
          "output_type": "execute_result",
          "data": {
            "text/plain": [
              "tensor([[21.5137],\n",
              "        [20.1253],\n",
              "        [10.9149],\n",
              "        ...,\n",
              "        [ 2.9848],\n",
              "        [ 4.2277],\n",
              "        [ 8.6181]], grad_fn=<AddBackward0>)"
            ]
          },
          "metadata": {
            "tags": []
          },
          "execution_count": 138
        }
      ]
    },
    {
      "cell_type": "code",
      "metadata": {
        "colab": {
          "base_uri": "https://localhost:8080/"
        },
        "id": "lKAQJbWSowuS",
        "outputId": "65c7020d-d7ec-4f4f-9ca8-d2cbb339e50f"
      },
      "source": [
        "preds[:5] "
      ],
      "execution_count": 139,
      "outputs": [
        {
          "output_type": "execute_result",
          "data": {
            "text/plain": [
              "tensor([[21.5137],\n",
              "        [20.1253],\n",
              "        [10.9149],\n",
              "        [24.5555],\n",
              "        [26.6843]], grad_fn=<SliceBackward>)"
            ]
          },
          "metadata": {
            "tags": []
          },
          "execution_count": 139
        }
      ]
    },
    {
      "cell_type": "code",
      "metadata": {
        "colab": {
          "base_uri": "https://localhost:8080/"
        },
        "id": "P9GTI1iMo1z1",
        "outputId": "4cae2d88-bbd8-4ab2-b986-71e529f1b939"
      },
      "source": [
        "(preds[:5]>0.0).float()"
      ],
      "execution_count": 140,
      "outputs": [
        {
          "output_type": "execute_result",
          "data": {
            "text/plain": [
              "tensor([[1.],\n",
              "        [1.],\n",
              "        [1.],\n",
              "        [1.],\n",
              "        [1.]])"
            ]
          },
          "metadata": {
            "tags": []
          },
          "execution_count": 140
        }
      ]
    },
    {
      "cell_type": "code",
      "metadata": {
        "colab": {
          "base_uri": "https://localhost:8080/"
        },
        "id": "rI-yWNRlo8Fj",
        "outputId": "888eb588-7558-45b0-c83b-e1019f173059"
      },
      "source": [
        "(preds[:5]>0.0).float() == train_y[:5]"
      ],
      "execution_count": 141,
      "outputs": [
        {
          "output_type": "execute_result",
          "data": {
            "text/plain": [
              "tensor([[False],\n",
              "        [False],\n",
              "        [False],\n",
              "        [False],\n",
              "        [False]])"
            ]
          },
          "metadata": {
            "tags": []
          },
          "execution_count": 141
        }
      ]
    },
    {
      "cell_type": "code",
      "metadata": {
        "colab": {
          "base_uri": "https://localhost:8080/"
        },
        "id": "FpekIngroO3Z",
        "outputId": "1f1a258b-dd54-4fd8-92cc-56f98d6f39d2"
      },
      "source": [
        "corrects= (preds>0.0).float() == train_y\n",
        "print(corrects)\n",
        "print(len(corrects))\n"
      ],
      "execution_count": 142,
      "outputs": [
        {
          "output_type": "stream",
          "text": [
            "tensor([[False],\n",
            "        [False],\n",
            "        [False],\n",
            "        ...,\n",
            "        [ True],\n",
            "        [ True],\n",
            "        [ True]])\n",
            "12396\n"
          ],
          "name": "stdout"
        }
      ]
    },
    {
      "cell_type": "code",
      "metadata": {
        "id": "9GcmZhqIohZX"
      },
      "source": [
        "# trying to change the weights inorder to find the accuracy improvements\n",
        "\n",
        "weights[0] *= 1.0001"
      ],
      "execution_count": 143,
      "outputs": []
    },
    {
      "cell_type": "code",
      "metadata": {
        "colab": {
          "base_uri": "https://localhost:8080/"
        },
        "id": "ltVFSB-1owAG",
        "outputId": "59508af6-9df9-45aa-8527-614542c0abd5"
      },
      "source": [
        "preds = linear1(train_x)\n",
        "((preds>0.0).float() == train_y).float().mean().item()\n",
        "\n",
        "# wow there actually was  jump"
      ],
      "execution_count": 144,
      "outputs": [
        {
          "output_type": "execute_result",
          "data": {
            "text/plain": [
              "0.391093909740448"
            ]
          },
          "metadata": {
            "tags": []
          },
          "execution_count": 144
        }
      ]
    },
    {
      "cell_type": "code",
      "metadata": {
        "colab": {
          "base_uri": "https://localhost:8080/"
        },
        "id": "8LVBbL8EpfhL",
        "outputId": "4a1cc003-2c0b-447d-f404-bfcbcb5fba56"
      },
      "source": [
        "weights[2] *= 1.002\n",
        "\n",
        "preds = linear1(train_x)\n",
        "((preds>0.0).float() == train_y).float().mean()"
      ],
      "execution_count": 145,
      "outputs": [
        {
          "output_type": "execute_result",
          "data": {
            "text/plain": [
              "tensor(0.3911)"
            ]
          },
          "metadata": {
            "tags": []
          },
          "execution_count": 145
        }
      ]
    },
    {
      "cell_type": "code",
      "metadata": {
        "id": "aJiMDIe6p1XO"
      },
      "source": [
        " # defining our loss function\n",
        "\n",
        " # we cannot use accuracy in case of images because in images the changes are pretty small\n",
        " # or that gradient is zero almost everywhere\n",
        "\n",
        " trgts = tensor([1,0,1])\n",
        " prds = tensor([0.9, 0.4,0.2])"
      ],
      "execution_count": 146,
      "outputs": []
    },
    {
      "cell_type": "code",
      "metadata": {
        "id": "-ZUzQ4W8tZ9H"
      },
      "source": [
        "def mnist_loss(predictions, targets):\n",
        "  return torch.where(targets==1, 1-predictions, predictions).mean()"
      ],
      "execution_count": 147,
      "outputs": []
    },
    {
      "cell_type": "code",
      "metadata": {
        "colab": {
          "base_uri": "https://localhost:8080/"
        },
        "id": "NZPmcjM_vh54",
        "outputId": "898fdcda-2722-49ab-9527-2cd985a0c06f"
      },
      "source": [
        "torch.where(trgts==1, 1-prds, prds)\n",
        "\n",
        "#torch.where(a,b,c). \n",
        "#This is the same as running the list comprehension [b[i] if a[i] else c[i] for i in range(len(a))]"
      ],
      "execution_count": 148,
      "outputs": [
        {
          "output_type": "execute_result",
          "data": {
            "text/plain": [
              "tensor([0.1000, 0.4000, 0.8000])"
            ]
          },
          "metadata": {
            "tags": []
          },
          "execution_count": 148
        }
      ]
    },
    {
      "cell_type": "code",
      "metadata": {
        "colab": {
          "base_uri": "https://localhost:8080/"
        },
        "id": "8u1mbZbzvqNZ",
        "outputId": "9c9935df-efd0-425d-d9d2-cdd87d2ceec0"
      },
      "source": [
        "mnist_loss(prds, trgts)"
      ],
      "execution_count": 149,
      "outputs": [
        {
          "output_type": "execute_result",
          "data": {
            "text/plain": [
              "tensor(0.4333)"
            ]
          },
          "metadata": {
            "tags": []
          },
          "execution_count": 149
        }
      ]
    },
    {
      "cell_type": "code",
      "metadata": {
        "colab": {
          "base_uri": "https://localhost:8080/"
        },
        "id": "I5x8I1k5v1Ag",
        "outputId": "73d57d6d-a7a3-4e6d-d660-da0e8ea1a40b"
      },
      "source": [
        "mnist_loss(tensor([0.9, 0.4,0.8]), trgts)"
      ],
      "execution_count": 150,
      "outputs": [
        {
          "output_type": "execute_result",
          "data": {
            "text/plain": [
              "tensor(0.2333)"
            ]
          },
          "metadata": {
            "tags": []
          },
          "execution_count": 150
        }
      ]
    },
    {
      "cell_type": "code",
      "metadata": {
        "id": "dpnds8W-wAVU"
      },
      "source": [
        "# here we have assumed that prediction is always 0 and 1\n",
        "#this can be ensured by a sigmoid curve\n",
        "\n",
        "def sigmoid(x):\n",
        "  print(1/(1+torch.exp(-x)))\n",
        "  return 1/(1+torch.exp(-x))"
      ],
      "execution_count": 151,
      "outputs": []
    },
    {
      "cell_type": "code",
      "metadata": {
        "colab": {
          "base_uri": "https://localhost:8080/",
          "height": 281
        },
        "id": "KlnyGT9Gyhew",
        "outputId": "725df28d-d097-4187-c43d-c510e6229d4d"
      },
      "source": [
        "plot_function(torch.sigmoid, title='Sigmoid', min=-16, max=16)"
      ],
      "execution_count": 152,
      "outputs": [
        {
          "output_type": "display_data",
          "data": {
            "image/png": "[encoded data removed]",
            "text/plain": [
              "<Figure size 432x288 with 1 Axes>"
            ]
          },
          "metadata": {
            "tags": [],
            "needs_background": "light"
          }
        }
      ]
    },
    {
      "cell_type": "code",
      "metadata": {
        "id": "l9de3hV6yoYe"
      },
      "source": [
        "def mnist_loss(predictions, targets):\n",
        "  predictions = predictions.sigmoid()\n",
        "  return torch.where(targets==1, 1-predictions,predictions).mean()"
      ],
      "execution_count": 153,
      "outputs": []
    },
    {
      "cell_type": "code",
      "metadata": {
        "colab": {
          "base_uri": "https://localhost:8080/"
        },
        "id": "EqrhKe3S2Elg",
        "outputId": "c3a3969a-9f4e-4888-c297-2e2bb41ee423"
      },
      "source": [
        "sigmoid(tensor([0.9, 0.4,0.8]))"
      ],
      "execution_count": 154,
      "outputs": [
        {
          "output_type": "stream",
          "text": [
            "tensor([0.7109, 0.5987, 0.6900])\n"
          ],
          "name": "stdout"
        },
        {
          "output_type": "execute_result",
          "data": {
            "text/plain": [
              "tensor([0.7109, 0.5987, 0.6900])"
            ]
          },
          "metadata": {
            "tags": []
          },
          "execution_count": 154
        }
      ]
    },
    {
      "cell_type": "code",
      "metadata": {
        "colab": {
          "base_uri": "https://localhost:8080/"
        },
        "id": "ZBnkmxLB2yst",
        "outputId": "f0015f74-98c7-4984-803a-5a5f9b9fb3ca"
      },
      "source": [
        "sigmoid(tensor([4.]))"
      ],
      "execution_count": 155,
      "outputs": [
        {
          "output_type": "stream",
          "text": [
            "tensor([0.9820])\n"
          ],
          "name": "stdout"
        },
        {
          "output_type": "execute_result",
          "data": {
            "text/plain": [
              "tensor([0.9820])"
            ]
          },
          "metadata": {
            "tags": []
          },
          "execution_count": 155
        }
      ]
    },
    {
      "cell_type": "code",
      "metadata": {
        "colab": {
          "base_uri": "https://localhost:8080/"
        },
        "id": "7_RpPCX03dmW",
        "outputId": "53f342a7-da76-4daf-8b81-f6bc6431102c"
      },
      "source": [
        "tensor([4.]).sigmoid()\n",
        "\n",
        "# both the same"
      ],
      "execution_count": 156,
      "outputs": [
        {
          "output_type": "execute_result",
          "data": {
            "text/plain": [
              "tensor([0.9820])"
            ]
          },
          "metadata": {
            "tags": []
          },
          "execution_count": 156
        }
      ]
    },
    {
      "cell_type": "code",
      "metadata": {
        "id": "YlE1MDWq5lV1"
      },
      "source": [
        "from fastai.vision.all import DataLoader"
      ],
      "execution_count": 157,
      "outputs": []
    },
    {
      "cell_type": "code",
      "metadata": {
        "colab": {
          "base_uri": "https://localhost:8080/"
        },
        "id": "kQA4GFCy1zbE",
        "outputId": "8466078d-fd70-455e-f98d-4d82258b9e45"
      },
      "source": [
        "coll = range(15)\n",
        "dl = DataLoader(coll, batch_size=5, shuffle=True)\n",
        "list(dl)"
      ],
      "execution_count": 158,
      "outputs": [
        {
          "output_type": "execute_result",
          "data": {
            "text/plain": [
              "[tensor([ 3, 13,  1,  8,  5]),\n",
              " tensor([ 2, 14,  4,  7,  9]),\n",
              " tensor([11,  6,  0, 10, 12])]"
            ]
          },
          "metadata": {
            "tags": []
          },
          "execution_count": 158
        }
      ]
    },
    {
      "cell_type": "code",
      "metadata": {
        "colab": {
          "base_uri": "https://localhost:8080/"
        },
        "id": "dGeKSym65r6I",
        "outputId": "ae4b251e-9fd9-4653-f81c-69c7dcc61ada"
      },
      "source": [
        "dl"
      ],
      "execution_count": 159,
      "outputs": [
        {
          "output_type": "execute_result",
          "data": {
            "text/plain": [
              "<fastai.data.load.DataLoader at 0x7f0e9ca1e940>"
            ]
          },
          "metadata": {
            "tags": []
          },
          "execution_count": 159
        }
      ]
    },
    {
      "cell_type": "code",
      "metadata": {
        "id": "iMqoKqdy6EGD"
      },
      "source": [
        "from fastai.vision.all import L"
      ],
      "execution_count": 160,
      "outputs": []
    },
    {
      "cell_type": "code",
      "metadata": {
        "id": "eos2ydzg6QU5"
      },
      "source": [
        "from fastai.vision.all import string"
      ],
      "execution_count": 161,
      "outputs": []
    },
    {
      "cell_type": "code",
      "metadata": {
        "colab": {
          "base_uri": "https://localhost:8080/"
        },
        "id": "NC8Bhigh5yE0",
        "outputId": "4768925a-9012-4229-f82a-2e263b69dbda"
      },
      "source": [
        "# we need  dataset which is essentially a collectionof independent and dependent variables\n",
        "\n",
        "ds = L(enumerate(string.ascii_lowercase))\n",
        "ds"
      ],
      "execution_count": 162,
      "outputs": [
        {
          "output_type": "execute_result",
          "data": {
            "text/plain": [
              "(#26) [(0, 'a'),(1, 'b'),(2, 'c'),(3, 'd'),(4, 'e'),(5, 'f'),(6, 'g'),(7, 'h'),(8, 'i'),(9, 'j')...]"
            ]
          },
          "metadata": {
            "tags": []
          },
          "execution_count": 162
        }
      ]
    },
    {
      "cell_type": "code",
      "metadata": {
        "colab": {
          "base_uri": "https://localhost:8080/"
        },
        "id": "unl2RM_D6W6D",
        "outputId": "3568ab7c-aa8d-46f9-dcd9-77b0da5f93c8"
      },
      "source": [
        "# lets pass a dataset(i.e a collection of tuples with input and label) to dataloader \n",
        "# dataloader (i.e a class that makes it easier forus ot getmini batches)\n",
        "\n",
        "dl = DataLoader(ds, batch_size=6, shuffle=True)\n",
        "list(dl)"
      ],
      "execution_count": 163,
      "outputs": [
        {
          "output_type": "execute_result",
          "data": {
            "text/plain": [
              "[(tensor([ 0, 23, 21,  2, 22, 12]), ('a', 'x', 'v', 'c', 'w', 'm')),\n",
              " (tensor([18, 11, 14, 19, 15, 13]), ('s', 'l', 'o', 't', 'p', 'n')),\n",
              " (tensor([20,  1,  9,  3, 24, 17]), ('u', 'b', 'j', 'd', 'y', 'r')),\n",
              " (tensor([ 6,  8, 16, 25,  7, 10]), ('g', 'i', 'q', 'z', 'h', 'k')),\n",
              " (tensor([4, 5]), ('e', 'f'))]"
            ]
          },
          "metadata": {
            "tags": []
          },
          "execution_count": 163
        }
      ]
    },
    {
      "cell_type": "code",
      "metadata": {
        "id": "gjyB3drJ6Ck4"
      },
      "source": [
        "weights = init_params((28*28,1))\n",
        "bias = init_params(1)"
      ],
      "execution_count": 164,
      "outputs": []
    },
    {
      "cell_type": "code",
      "metadata": {
        "id": "K2g7qJmJ8KtM"
      },
      "source": [
        "from fastai.vision.all import first"
      ],
      "execution_count": 165,
      "outputs": []
    },
    {
      "cell_type": "code",
      "metadata": {
        "colab": {
          "base_uri": "https://localhost:8080/"
        },
        "id": "5YAXrUn-8QYz",
        "outputId": "e468a80f-9a28-4dad-ba06-6c47257a3c2d"
      },
      "source": [
        "first(DataLoader(ds, batch_size=6, shuffle=True))"
      ],
      "execution_count": 166,
      "outputs": [
        {
          "output_type": "execute_result",
          "data": {
            "text/plain": [
              "(tensor([25, 10,  1, 16, 13, 19]), ('z', 'k', 'b', 'q', 'n', 't'))"
            ]
          },
          "metadata": {
            "tags": []
          },
          "execution_count": 166
        }
      ]
    },
    {
      "cell_type": "code",
      "metadata": {
        "colab": {
          "base_uri": "https://localhost:8080/"
        },
        "id": "dlRuAqy17nmJ",
        "outputId": "0fdf1cdd-0e44-4964-a5a7-cbb821ac6d00"
      },
      "source": [
        "dl=DataLoader(dset, batch_size=256)\n",
        "xb, yb = first(dl)\n",
        "# gives you the first batch\n",
        "xb.shape, yb.shape"
      ],
      "execution_count": 167,
      "outputs": [
        {
          "output_type": "execute_result",
          "data": {
            "text/plain": [
              "(torch.Size([256, 784]), torch.Size([256, 1]))"
            ]
          },
          "metadata": {
            "tags": []
          },
          "execution_count": 167
        }
      ]
    },
    {
      "cell_type": "code",
      "metadata": {
        "id": "DpkTaBUU7_-0"
      },
      "source": [
        "valid_dl = DataLoader(valid_dset, batch_size=256)"
      ],
      "execution_count": 168,
      "outputs": []
    },
    {
      "cell_type": "code",
      "metadata": {
        "colab": {
          "base_uri": "https://localhost:8080/"
        },
        "id": "gPBJCuUg8rmr",
        "outputId": "59e25554-dba3-4f16-970a-48bf75cde8b2"
      },
      "source": [
        "batch = train_x[:4]\n",
        "batch.shape"
      ],
      "execution_count": 169,
      "outputs": [
        {
          "output_type": "execute_result",
          "data": {
            "text/plain": [
              "torch.Size([4, 784])"
            ]
          },
          "metadata": {
            "tags": []
          },
          "execution_count": 169
        }
      ]
    },
    {
      "cell_type": "code",
      "metadata": {
        "colab": {
          "base_uri": "https://localhost:8080/"
        },
        "id": "_CK75Pma8xlO",
        "outputId": "71c1514e-0ba8-44f0-e3ad-2185e5dd4b71"
      },
      "source": [
        "preds = linear1(batch)\n",
        "preds"
      ],
      "execution_count": 170,
      "outputs": [
        {
          "output_type": "execute_result",
          "data": {
            "text/plain": [
              "tensor([[ 8.6682],\n",
              "        [10.4111],\n",
              "        [-4.9420],\n",
              "        [12.6410]], grad_fn=<AddBackward0>)"
            ]
          },
          "metadata": {
            "tags": []
          },
          "execution_count": 170
        }
      ]
    },
    {
      "cell_type": "code",
      "metadata": {
        "colab": {
          "base_uri": "https://localhost:8080/"
        },
        "id": "KZwe2UP2_1RN",
        "outputId": "d1a046db-10f5-4720-8472-8ea1374d3b97"
      },
      "source": [
        "loss =mnist_loss(preds, train_y[:4])\n",
        "loss"
      ],
      "execution_count": 171,
      "outputs": [
        {
          "output_type": "execute_result",
          "data": {
            "text/plain": [
              "tensor(0.7517, grad_fn=<MeanBackward0>)"
            ]
          },
          "metadata": {
            "tags": []
          },
          "execution_count": 171
        }
      ]
    },
    {
      "cell_type": "code",
      "metadata": {
        "colab": {
          "base_uri": "https://localhost:8080/"
        },
        "id": "H6lxoPgI_7G6",
        "outputId": "2b9e6f83-24e5-4ea1-831a-0a16d5861b9f"
      },
      "source": [
        "loss.backward()\n",
        "weights.grad.shape, weights.grad.mean(),bias.grad"
      ],
      "execution_count": 172,
      "outputs": [
        {
          "output_type": "execute_result",
          "data": {
            "text/plain": [
              "(torch.Size([784, 1]), tensor(0.0003), tensor([0.0018]))"
            ]
          },
          "metadata": {
            "tags": []
          },
          "execution_count": 172
        }
      ]
    },
    {
      "cell_type": "code",
      "metadata": {
        "id": "jiSg1JIxAU-x"
      },
      "source": [
        "def calc_grad(xb, yb, model):\n",
        "  preds = model(xb)\n",
        "  loss = mnist_loss(preds, yb)\n",
        "  loss.backward()"
      ],
      "execution_count": 173,
      "outputs": []
    },
    {
      "cell_type": "code",
      "metadata": {
        "colab": {
          "base_uri": "https://localhost:8080/"
        },
        "id": "W5DIXcqnAmJF",
        "outputId": "e9bc35c6-b9ff-409d-bda4-e096dbdb8c73"
      },
      "source": [
        "calc_grad(batch, train_y[:4], linear1)\n",
        "weights.grad.mean(), bias.grad"
      ],
      "execution_count": 174,
      "outputs": [
        {
          "output_type": "execute_result",
          "data": {
            "text/plain": [
              "(tensor(0.0005), tensor([0.0036]))"
            ]
          },
          "metadata": {
            "tags": []
          },
          "execution_count": 174
        }
      ]
    },
    {
      "cell_type": "code",
      "metadata": {
        "colab": {
          "base_uri": "https://localhost:8080/"
        },
        "id": "GyL_sLo-Ax8J",
        "outputId": "9c14faca-81bb-449d-b8f2-b991f4346dcc"
      },
      "source": [
        "#after every step we need to set the current gradients to 0 first\n",
        "weights.grad.zero_()\n",
        "bias.grad.zero_()"
      ],
      "execution_count": 175,
      "outputs": [
        {
          "output_type": "execute_result",
          "data": {
            "text/plain": [
              "tensor([0.])"
            ]
          },
          "metadata": {
            "tags": []
          },
          "execution_count": 175
        }
      ]
    },
    {
      "cell_type": "code",
      "metadata": {
        "id": "W1cntPTgBMAq"
      },
      "source": [
        "def train_epoch(model, lr, params,dl):\n",
        "  for xb, yb in dl:\n",
        "    calc_grad(xb, yb, model)\n",
        "    # model is a function in this case linear1\n",
        "    for p in params:\n",
        "      p.data -= p.grad*lr\n",
        "      p.grad.zero_()"
      ],
      "execution_count": 176,
      "outputs": []
    },
    {
      "cell_type": "code",
      "metadata": {
        "colab": {
          "base_uri": "https://localhost:8080/"
        },
        "id": "k1iPHYpSBjSc",
        "outputId": "08bc41c6-def4-4e48-afcd-9e2926a6bfe1"
      },
      "source": [
        "(preds>0.0).float() == train_y[:4]"
      ],
      "execution_count": 177,
      "outputs": [
        {
          "output_type": "execute_result",
          "data": {
            "text/plain": [
              "tensor([[False],\n",
              "        [False],\n",
              "        [ True],\n",
              "        [False]])"
            ]
          },
          "metadata": {
            "tags": []
          },
          "execution_count": 177
        }
      ]
    },
    {
      "cell_type": "code",
      "metadata": {
        "id": "w5tAxZxnBpcu"
      },
      "source": [
        "def batch_accuracy(xb, yb):\n",
        "  preds = xb.sigmoid()\n",
        "  correct = (preds>0.5) == yb\n",
        "  return correct.float().mean()"
      ],
      "execution_count": 178,
      "outputs": []
    },
    {
      "cell_type": "code",
      "metadata": {
        "colab": {
          "base_uri": "https://localhost:8080/"
        },
        "id": "u_6uxWoiCl7a",
        "outputId": "567e4bea-9afc-46ab-b467-045ffc7cdee7"
      },
      "source": [
        "batch_accuracy(linear1(batch), train_y[:4])"
      ],
      "execution_count": 179,
      "outputs": [
        {
          "output_type": "execute_result",
          "data": {
            "text/plain": [
              "tensor(0.2500)"
            ]
          },
          "metadata": {
            "tags": []
          },
          "execution_count": 179
        }
      ]
    },
    {
      "cell_type": "code",
      "metadata": {
        "id": "aeL3TWIHCCuV"
      },
      "source": [
        "def validate_epoch(model):\n",
        "  accs = [batch_accuracy(model(xb), yb) for xb, yb in valid_dl]\n",
        "  return round(torch.stack(accs).mean().item(),4)"
      ],
      "execution_count": 180,
      "outputs": []
    },
    {
      "cell_type": "code",
      "metadata": {
        "colab": {
          "base_uri": "https://localhost:8080/"
        },
        "id": "IhBXBmk3Dt02",
        "outputId": "f6b6ef7b-f1fe-4c23-cf4c-ddada1c5a442"
      },
      "source": [
        "validate_epoch(linear1)"
      ],
      "execution_count": 181,
      "outputs": [
        {
          "output_type": "execute_result",
          "data": {
            "text/plain": [
              "0.1284"
            ]
          },
          "metadata": {
            "tags": []
          },
          "execution_count": 181
        }
      ]
    },
    {
      "cell_type": "code",
      "metadata": {
        "colab": {
          "base_uri": "https://localhost:8080/"
        },
        "id": "79_frM-dDwzz",
        "outputId": "13ca384d-c360-4db9-a3aa-3794856b2472"
      },
      "source": [
        "lr = 1.\n",
        "params = weights, bias\n",
        "train_epoch(linear1, lr, params,dl)\n",
        "validate_epoch(linear1)"
      ],
      "execution_count": 182,
      "outputs": [
        {
          "output_type": "execute_result",
          "data": {
            "text/plain": [
              "0.1554"
            ]
          },
          "metadata": {
            "tags": []
          },
          "execution_count": 182
        }
      ]
    },
    {
      "cell_type": "code",
      "metadata": {
        "colab": {
          "base_uri": "https://localhost:8080/"
        },
        "id": "4hymYPfjD7QJ",
        "outputId": "82d8ebf4-fa3a-438b-a8a6-3e7440d503bd"
      },
      "source": [
        "for i in range(20):\n",
        "  train_epoch(linear1, lr, params, dl)\n",
        "  print(validate_epoch(linear1), end=' ')"
      ],
      "execution_count": 183,
      "outputs": [
        {
          "output_type": "stream",
          "text": [
            "0.3609 0.4224 0.4434 0.463 0.4684 0.4737 0.4766 0.4786 0.4796 0.4815 0.4825 0.484 0.4845 0.4849 0.4859 0.4874 0.4879 0.4884 0.4884 0.4884 "
          ],
          "name": "stdout"
        }
      ]
    },
    {
      "cell_type": "markdown",
      "metadata": {
        "id": "P_Tbt8bjwIU9"
      },
      "source": [
        "Trying to create a data loader once again."
      ]
    },
    {
      "cell_type": "code",
      "metadata": {
        "id": "KkT1RWT5wOC0"
      },
      "source": [
        "train_x = torch.cat([stacked_threes, stacked_sevens]).view(-1, 28*28)"
      ],
      "execution_count": 184,
      "outputs": []
    },
    {
      "cell_type": "code",
      "metadata": {
        "id": "0W6yVqU8xgyY"
      },
      "source": [
        "train_y = tensor([0]*len(threes) + [1] * len(sevens)).unsqueeze(1)"
      ],
      "execution_count": 185,
      "outputs": []
    },
    {
      "cell_type": "code",
      "metadata": {
        "colab": {
          "base_uri": "https://localhost:8080/"
        },
        "id": "hSrtI2ACxwgG",
        "outputId": "0247c483-e751-4254-f34f-9a4cdbc8de9e"
      },
      "source": [
        "train_y[:5] # it needs to be 2d tensor"
      ],
      "execution_count": 186,
      "outputs": [
        {
          "output_type": "execute_result",
          "data": {
            "text/plain": [
              "tensor([[0],\n",
              "        [0],\n",
              "        [0],\n",
              "        [0],\n",
              "        [0]])"
            ]
          },
          "metadata": {
            "tags": []
          },
          "execution_count": 186
        }
      ]
    },
    {
      "cell_type": "code",
      "metadata": {
        "id": "76WSnLjRyFUt"
      },
      "source": [
        "dset = list(zip(train_x, train_y))"
      ],
      "execution_count": 187,
      "outputs": []
    },
    {
      "cell_type": "code",
      "metadata": {
        "id": "GFkPMxfYyRW1"
      },
      "source": [
        "valid_x = torch.cat([valid_3_tens, valid_7_tens]).view(-1,28*28)\n",
        "valid_y = tensor([0]*len(valid_3_tens) + [1]*len(valid_7_tens)).unsqueeze(1)\n",
        "valid_dset =list(zip(valid_x, valid_y))"
      ],
      "execution_count": 188,
      "outputs": []
    },
    {
      "cell_type": "code",
      "metadata": {
        "id": "7OckTfelzD0P"
      },
      "source": [
        "def init_params(size, std=1.0):\n",
        "  return (torch.randn(size)*std).requires_grad_()\n",
        "\n",
        "weight = init_params((28*28,1))\n",
        "bias = init_params(1)"
      ],
      "execution_count": 189,
      "outputs": []
    },
    {
      "cell_type": "code",
      "metadata": {
        "colab": {
          "base_uri": "https://localhost:8080/"
        },
        "id": "3pDtUGPUzkG4",
        "outputId": "c64d1380-a89e-45ed-cbda-c88ee30523fe"
      },
      "source": [
        "bias\n",
        "# just one for one image"
      ],
      "execution_count": 190,
      "outputs": [
        {
          "output_type": "execute_result",
          "data": {
            "text/plain": [
              "tensor([-0.8501], requires_grad=True)"
            ]
          },
          "metadata": {
            "tags": []
          },
          "execution_count": 190
        }
      ]
    },
    {
      "cell_type": "code",
      "metadata": {
        "colab": {
          "base_uri": "https://localhost:8080/"
        },
        "id": "6dVCB8QvzzJG",
        "outputId": "177dd832-325a-4bda-9640-74f03afc4a70"
      },
      "source": [
        "(train_x[0] * weight.T).sum() + bias"
      ],
      "execution_count": 191,
      "outputs": [
        {
          "output_type": "execute_result",
          "data": {
            "text/plain": [
              "tensor([3.0388], grad_fn=<AddBackward0>)"
            ]
          },
          "metadata": {
            "tags": []
          },
          "execution_count": 191
        }
      ]
    },
    {
      "cell_type": "code",
      "metadata": {
        "id": "ah4Bbq0RziHN"
      },
      "source": [
        "# our model\n",
        "\n",
        "def linear1(xb):\n",
        "  return xb@weight + bias"
      ],
      "execution_count": 192,
      "outputs": []
    },
    {
      "cell_type": "code",
      "metadata": {
        "id": "zCdC8zMK0PJD"
      },
      "source": [
        "preds = linear1(train_x)"
      ],
      "execution_count": 193,
      "outputs": []
    },
    {
      "cell_type": "code",
      "metadata": {
        "colab": {
          "base_uri": "https://localhost:8080/"
        },
        "id": "IywmDY5E0qZV",
        "outputId": "e09219c2-e813-4dde-cf9d-a8c6bfa217a8"
      },
      "source": [
        "preds[:5]"
      ],
      "execution_count": 194,
      "outputs": [
        {
          "output_type": "execute_result",
          "data": {
            "text/plain": [
              "tensor([[ 3.0388],\n",
              "        [ 6.7326],\n",
              "        [ 1.3033],\n",
              "        [16.8423],\n",
              "        [ 2.0410]], grad_fn=<SliceBackward>)"
            ]
          },
          "metadata": {
            "tags": []
          },
          "execution_count": 194
        }
      ]
    },
    {
      "cell_type": "code",
      "metadata": {
        "colab": {
          "base_uri": "https://localhost:8080/"
        },
        "id": "rSN1Q4jm0XKU",
        "outputId": "18746dcf-7de8-4248-f942-476b0d96a4aa"
      },
      "source": [
        "# checking if the prediction is correct\n",
        "corrects = (preds>0.0).float() == train_y\n",
        "corrects[:5]"
      ],
      "execution_count": 195,
      "outputs": [
        {
          "output_type": "execute_result",
          "data": {
            "text/plain": [
              "tensor([[False],\n",
              "        [False],\n",
              "        [False],\n",
              "        [False],\n",
              "        [False]])"
            ]
          },
          "metadata": {
            "tags": []
          },
          "execution_count": 195
        }
      ]
    },
    {
      "cell_type": "code",
      "metadata": {
        "colab": {
          "base_uri": "https://localhost:8080/"
        },
        "id": "V7E1CDZR0_PY",
        "outputId": "a2338158-10b6-4219-8e2b-5b576b6325c8"
      },
      "source": [
        "corrects\n",
        "\n",
        "# it is already printing everything correctly,how"
      ],
      "execution_count": 196,
      "outputs": [
        {
          "output_type": "execute_result",
          "data": {
            "text/plain": [
              "tensor([[False],\n",
              "        [False],\n",
              "        [False],\n",
              "        ...,\n",
              "        [ True],\n",
              "        [ True],\n",
              "        [ True]])"
            ]
          },
          "metadata": {
            "tags": []
          },
          "execution_count": 196
        }
      ]
    },
    {
      "cell_type": "code",
      "metadata": {
        "colab": {
          "base_uri": "https://localhost:8080/"
        },
        "id": "po3RJYUy0z_N",
        "outputId": "be6c2b78-2af6-418b-cbea-301709690951"
      },
      "source": [
        "# average accuracy\n",
        "\n",
        "corrects.float().mean()"
      ],
      "execution_count": 197,
      "outputs": [
        {
          "output_type": "execute_result",
          "data": {
            "text/plain": [
              "tensor(0.6292)"
            ]
          },
          "metadata": {
            "tags": []
          },
          "execution_count": 197
        }
      ]
    },
    {
      "cell_type": "code",
      "metadata": {
        "id": "uPaMGMND1Y3M"
      },
      "source": [
        "preds_valid = linear1(valid_x)"
      ],
      "execution_count": 198,
      "outputs": []
    },
    {
      "cell_type": "code",
      "metadata": {
        "colab": {
          "base_uri": "https://localhost:8080/"
        },
        "id": "EnMwcD-v146Y",
        "outputId": "7069ef30-4c62-4c2b-9f2d-f03779aee728"
      },
      "source": [
        "correct_valid = (preds_valid>0).float() == valid_y\n",
        "\n",
        "correct_valid.float().mean()\n",
        "\n",
        "# cool shit"
      ],
      "execution_count": 199,
      "outputs": [
        {
          "output_type": "execute_result",
          "data": {
            "text/plain": [
              "tensor(0.6266)"
            ]
          },
          "metadata": {
            "tags": []
          },
          "execution_count": 199
        }
      ]
    },
    {
      "cell_type": "code",
      "metadata": {
        "id": "FtAaLgHB2FWn"
      },
      "source": [
        "# loss function\n",
        "\n",
        "def mnist_loss(predictions, targets):\n",
        "  predictions = predictions.sigmoid() # ensures its always between 0 and 1\n",
        "  return torch.where(targets==1, 1-predictions, predictions).mean()"
      ],
      "execution_count": 200,
      "outputs": []
    },
    {
      "cell_type": "code",
      "metadata": {
        "id": "8-jhsZ8w30dG"
      },
      "source": [
        "trgt = tensor([1,0,1])\n",
        "preds = tensor([0.9,0.4,0.2])"
      ],
      "execution_count": 201,
      "outputs": []
    },
    {
      "cell_type": "code",
      "metadata": {
        "colab": {
          "base_uri": "https://localhost:8080/"
        },
        "id": "607M4Xge3pAg",
        "outputId": "df5e8860-47b7-4238-962c-bd268b674e28"
      },
      "source": [
        "mnist_loss(preds, trgt)"
      ],
      "execution_count": 202,
      "outputs": [
        {
          "output_type": "execute_result",
          "data": {
            "text/plain": [
              "tensor(0.4460)"
            ]
          },
          "metadata": {
            "tags": []
          },
          "execution_count": 202
        }
      ]
    },
    {
      "cell_type": "code",
      "metadata": {
        "colab": {
          "base_uri": "https://localhost:8080/"
        },
        "id": "6qzYtvnF4JqZ",
        "outputId": "595e8486-78ce-4ad6-e1b0-938528720dc8"
      },
      "source": [
        "dl = DataLoader(dset, batch_size=256)\n",
        "# dataloader for mini batches\n",
        "xb, yb = first(dl)\n",
        "xb.shape, yb.shape"
      ],
      "execution_count": 203,
      "outputs": [
        {
          "output_type": "execute_result",
          "data": {
            "text/plain": [
              "(torch.Size([256, 784]), torch.Size([256, 1]))"
            ]
          },
          "metadata": {
            "tags": []
          },
          "execution_count": 203
        }
      ]
    },
    {
      "cell_type": "code",
      "metadata": {
        "colab": {
          "base_uri": "https://localhost:8080/"
        },
        "id": "dazCz4mT4puj",
        "outputId": "d68b51e2-3d20-46ee-c1f0-78f142d3bb15"
      },
      "source": [
        "valid_dl = DataLoader(valid_dset, batch_size=256)\n",
        "batch = train_x[:4]\n",
        "batch.shape"
      ],
      "execution_count": 204,
      "outputs": [
        {
          "output_type": "execute_result",
          "data": {
            "text/plain": [
              "torch.Size([4, 784])"
            ]
          },
          "metadata": {
            "tags": []
          },
          "execution_count": 204
        }
      ]
    },
    {
      "cell_type": "code",
      "metadata": {
        "id": "e0OoVIXy45Oh"
      },
      "source": [
        "def calc_grad(xb, yb, model):\n",
        "  preds =model(xb)\n",
        "  loss = mnist_loss(preds, yb)\n",
        "  loss.backward()"
      ],
      "execution_count": 205,
      "outputs": []
    },
    {
      "cell_type": "code",
      "metadata": {
        "id": "G0FHhur86fYZ"
      },
      "source": [
        "def train_epoch(model, lr, params, dl=dl):\n",
        "  for xb, yb in dl:\n",
        "    calc_grad(xb, yb,model)\n",
        "    for p in params:\n",
        "      #print(p.grad)\n",
        "      p.data -= p.grad*lr\n",
        "      p.grad.zero_()"
      ],
      "execution_count": 206,
      "outputs": []
    },
    {
      "cell_type": "code",
      "metadata": {
        "id": "0QuDe4iJ68KD"
      },
      "source": [
        "def batch_accuracy(xb, yb):\n",
        "  preds = xb.sigmoid()\n",
        "  correct = (preds>0.5) == yb\n",
        "  return correct.float().mean()"
      ],
      "execution_count": 207,
      "outputs": []
    },
    {
      "cell_type": "code",
      "metadata": {
        "colab": {
          "base_uri": "https://localhost:8080/"
        },
        "id": "QPgjOWI47Wyg",
        "outputId": "b49a7ea6-0655-4867-8c4b-85c41f014b6a"
      },
      "source": [
        "batch_accuracy(linear1(train_x), train_y)"
      ],
      "execution_count": 208,
      "outputs": [
        {
          "output_type": "execute_result",
          "data": {
            "text/plain": [
              "tensor(0.6292)"
            ]
          },
          "metadata": {
            "tags": []
          },
          "execution_count": 208
        }
      ]
    },
    {
      "cell_type": "code",
      "metadata": {
        "id": "qEFLKWXn7gce"
      },
      "source": [
        "# total accuracy of model from validation set\n",
        "def validate_epoch(model, valid_dl=valid_dl):\n",
        "  accs = [batch_accuracy(model(xb), yb) for xb, yb in valid_dl]\n",
        "  return round(torch.stack(accs).mean().item(),4)"
      ],
      "execution_count": 209,
      "outputs": []
    },
    {
      "cell_type": "code",
      "metadata": {
        "colab": {
          "base_uri": "https://localhost:8080/"
        },
        "id": "0HaWyvq58Jfs",
        "outputId": "a2d19a1d-1977-4479-9b58-accb65ba1da7"
      },
      "source": [
        "validate_epoch(linear1, valid_dl)\n",
        "\n",
        "# it is same as before"
      ],
      "execution_count": 210,
      "outputs": [
        {
          "output_type": "execute_result",
          "data": {
            "text/plain": [
              "0.6277"
            ]
          },
          "metadata": {
            "tags": []
          },
          "execution_count": 210
        }
      ]
    },
    {
      "cell_type": "code",
      "metadata": {
        "colab": {
          "base_uri": "https://localhost:8080/"
        },
        "id": "1E1SwJ778oPd",
        "outputId": "8e38136d-7bb6-4775-b315-1734bcbd35ee"
      },
      "source": [
        "# lets train for 1 epoc and see if accuracy improves\n",
        "lr =1.\n",
        "params = weight, bias\n",
        "train_epoch(linear1, lr, params)\n",
        "validate_epoch(linear1)"
      ],
      "execution_count": 211,
      "outputs": [
        {
          "output_type": "execute_result",
          "data": {
            "text/plain": [
              "0.7519"
            ]
          },
          "metadata": {
            "tags": []
          },
          "execution_count": 211
        }
      ]
    },
    {
      "cell_type": "code",
      "metadata": {
        "colab": {
          "base_uri": "https://localhost:8080/"
        },
        "id": "xMO0rTr5_JT-",
        "outputId": "88620c88-aaf5-4f86-e8e2-edf9225411f4"
      },
      "source": [
        "for i in range(20):\n",
        "  train_epoch(linear1, lr, params)\n",
        "  print(validate_epoch(linear1), end=' ')\n",
        "\n",
        "# the pattern is strange though"
      ],
      "execution_count": 212,
      "outputs": [
        {
          "output_type": "stream",
          "text": [
            "0.893 0.9286 0.9477 0.9555 0.957 0.9599 0.9618 0.9623 0.9638 0.9657 0.9667 0.9672 0.9692 0.9702 0.9702 0.9702 0.9711 0.9716 0.9716 0.9726 "
          ],
          "name": "stdout"
        }
      ]
    },
    {
      "cell_type": "code",
      "metadata": {
        "id": "oVdMdtv1ALwp"
      },
      "source": [
        "from fastai.vision.all import nn"
      ],
      "execution_count": 213,
      "outputs": []
    },
    {
      "cell_type": "code",
      "metadata": {
        "id": "4nKgjM0VEdeM",
        "colab": {
          "base_uri": "https://localhost:8080/"
        },
        "outputId": "bd204fb6-21e8-4803-c383-edc7324dacf5"
      },
      "source": [
        "# we need to create an optimiser\n",
        "# this will handle the SGD step for us\n",
        "\n",
        "## nn.linear does the same thing as init_params and linear together\n",
        "\n",
        "linear_model = nn.Linear(28*28,1)\n",
        "w,b = linear_model.parameters()\n",
        "w.shape, b.shape"
      ],
      "execution_count": 214,
      "outputs": [
        {
          "output_type": "execute_result",
          "data": {
            "text/plain": [
              "(torch.Size([1, 784]), torch.Size([1]))"
            ]
          },
          "metadata": {
            "tags": []
          },
          "execution_count": 214
        }
      ]
    },
    {
      "cell_type": "code",
      "metadata": {
        "id": "ABut-G8cyQsD"
      },
      "source": [
        "# creating an optimiser class\n",
        "\n",
        "class BasicOptim:\n",
        "  def __init__(self, params, lr):\n",
        "    self.params, self.lr = list(params),lr\n",
        "  \n",
        "  def step(self, *args, **kwargs):\n",
        "    for p in self.params:\n",
        "      p.data -= p.grad.data * self.lr\n",
        "  \n",
        "  def zero_grad(self, *args, **kwargs):\n",
        "    for p in self.params:\n",
        "      p.grad = None"
      ],
      "execution_count": 215,
      "outputs": []
    },
    {
      "cell_type": "code",
      "metadata": {
        "id": "klLj-xgWBVhR"
      },
      "source": [
        "opt = BasicOptim(linear_model.parameters(), lr)"
      ],
      "execution_count": 216,
      "outputs": []
    },
    {
      "cell_type": "code",
      "metadata": {
        "id": "FkFxddQfBbnT"
      },
      "source": [
        "# simplified training loop\n",
        "def train_epoch(model):\n",
        "  for xb, yb in dl:\n",
        "    calc_grad(xb, yb, model)\n",
        "    opt.step()\n",
        "    opt.zero_grad()"
      ],
      "execution_count": 217,
      "outputs": []
    },
    {
      "cell_type": "code",
      "metadata": {
        "colab": {
          "base_uri": "https://localhost:8080/"
        },
        "id": "1TY7qGh_098w",
        "outputId": "67fc94e1-fb32-4def-cabb-42a36b742e4f"
      },
      "source": [
        "validate_epoch(linear_model)"
      ],
      "execution_count": 218,
      "outputs": [
        {
          "output_type": "execute_result",
          "data": {
            "text/plain": [
              "0.351"
            ]
          },
          "metadata": {
            "tags": []
          },
          "execution_count": 218
        }
      ]
    },
    {
      "cell_type": "code",
      "metadata": {
        "id": "fh172Xqd0-lD"
      },
      "source": [
        "def train_model(model, epochs):\n",
        "  for i in range(epochs):\n",
        "    train_epoch(model)\n",
        "    print(validate_epoch(model), end = ' ')"
      ],
      "execution_count": 219,
      "outputs": []
    },
    {
      "cell_type": "code",
      "metadata": {
        "colab": {
          "base_uri": "https://localhost:8080/"
        },
        "id": "-ilkpQ1G4ESG",
        "outputId": "86ffe448-5155-4209-bb95-55dd8a3524e1"
      },
      "source": [
        "train_model(linear_model, 20)"
      ],
      "execution_count": 220,
      "outputs": [
        {
          "output_type": "stream",
          "text": [
            "0.4932 0.812 0.8423 0.9126 0.9346 0.9482 0.9565 0.9624 0.9658 0.9668 0.9692 0.9721 0.9746 0.9746 0.9761 0.977 0.9775 0.978 0.978 0.9785 "
          ],
          "name": "stdout"
        }
      ]
    },
    {
      "cell_type": "code",
      "metadata": {
        "id": "PQ8IGB78CsZX"
      },
      "source": [
        "from fastai.vision.all import SGD"
      ],
      "execution_count": 221,
      "outputs": []
    },
    {
      "cell_type": "code",
      "metadata": {
        "colab": {
          "base_uri": "https://localhost:8080/"
        },
        "id": "26SYeC52CbYg",
        "outputId": "152a302e-042e-44cb-ffe0-ca8205585a5a"
      },
      "source": [
        "# Basic optimisation can be done by SGD\n",
        "\n",
        "linear_model = nn.Linear(28*28, 1)\n",
        "opt = SGD(linear_model.parameters(),lr)\n",
        "train_model(linear_model, 20)"
      ],
      "execution_count": 222,
      "outputs": [
        {
          "output_type": "stream",
          "text": [
            "0.4932 0.8179 0.8467 0.914 0.9331 0.9482 0.9555 0.9638 0.9663 0.9678 0.9702 0.9717 0.9736 0.9746 0.9756 0.977 0.9775 0.9775 0.9785 0.9785 "
          ],
          "name": "stdout"
        }
      ]
    },
    {
      "cell_type": "code",
      "metadata": {
        "id": "0m9AWaUzDE73"
      },
      "source": [
        "from fastai.vision.all import DataLoaders\n",
        "\n",
        "# given by fastai"
      ],
      "execution_count": 223,
      "outputs": []
    },
    {
      "cell_type": "code",
      "metadata": {
        "id": "0rNwWLzKCxdx"
      },
      "source": [
        "# also learner.fit function is there \n",
        "# instead of train_model\n",
        "\n",
        "dls = DataLoaders(dl, valid_dl)"
      ],
      "execution_count": 224,
      "outputs": []
    },
    {
      "cell_type": "code",
      "metadata": {
        "id": "Rc9xZjX3Dv60"
      },
      "source": [
        "from fastai.vision.all import Learner"
      ],
      "execution_count": 225,
      "outputs": []
    },
    {
      "cell_type": "code",
      "metadata": {
        "id": "rYcU83fCDMdB"
      },
      "source": [
        "learn = Learner(dls, nn.Linear(28*28,1), opt_func=SGD, loss_func=mnist_loss, metrics=batch_accuracy)"
      ],
      "execution_count": 226,
      "outputs": []
    },
    {
      "cell_type": "code",
      "metadata": {
        "colab": {
          "base_uri": "https://localhost:8080/",
          "height": 343
        },
        "id": "U0nntqmUD0ZL",
        "outputId": "79b50ce1-a05d-4e83-83af-2c6062492fcb"
      },
      "source": [
        "learn.fit(10, lr=lr)"
      ],
      "execution_count": 227,
      "outputs": [
        {
          "output_type": "display_data",
          "data": {
            "text/html": [
              "<table border=\"1\" class=\"dataframe\">\n",
              "  <thead>\n",
              "    <tr style=\"text-align: left;\">\n",
              "      <th>epoch</th>\n",
              "      <th>train_loss</th>\n",
              "      <th>valid_loss</th>\n",
              "      <th>batch_accuracy</th>\n",
              "      <th>time</th>\n",
              "    </tr>\n",
              "  </thead>\n",
              "  <tbody>\n",
              "    <tr>\n",
              "      <td>0</td>\n",
              "      <td>0.636240</td>\n",
              "      <td>0.503706</td>\n",
              "      <td>0.495584</td>\n",
              "      <td>00:00</td>\n",
              "    </tr>\n",
              "    <tr>\n",
              "      <td>1</td>\n",
              "      <td>0.629645</td>\n",
              "      <td>0.439184</td>\n",
              "      <td>0.495584</td>\n",
              "      <td>00:00</td>\n",
              "    </tr>\n",
              "    <tr>\n",
              "      <td>2</td>\n",
              "      <td>0.237120</td>\n",
              "      <td>0.329302</td>\n",
              "      <td>0.658979</td>\n",
              "      <td>00:00</td>\n",
              "    </tr>\n",
              "    <tr>\n",
              "      <td>3</td>\n",
              "      <td>0.102323</td>\n",
              "      <td>0.146511</td>\n",
              "      <td>0.870952</td>\n",
              "      <td>00:00</td>\n",
              "    </tr>\n",
              "    <tr>\n",
              "      <td>4</td>\n",
              "      <td>0.051870</td>\n",
              "      <td>0.094685</td>\n",
              "      <td>0.919038</td>\n",
              "      <td>00:00</td>\n",
              "    </tr>\n",
              "    <tr>\n",
              "      <td>5</td>\n",
              "      <td>0.032265</td>\n",
              "      <td>0.071752</td>\n",
              "      <td>0.938175</td>\n",
              "      <td>00:00</td>\n",
              "    </tr>\n",
              "    <tr>\n",
              "      <td>6</td>\n",
              "      <td>0.024184</td>\n",
              "      <td>0.058708</td>\n",
              "      <td>0.951423</td>\n",
              "      <td>00:00</td>\n",
              "    </tr>\n",
              "    <tr>\n",
              "      <td>7</td>\n",
              "      <td>0.020624</td>\n",
              "      <td>0.050401</td>\n",
              "      <td>0.956820</td>\n",
              "      <td>00:00</td>\n",
              "    </tr>\n",
              "    <tr>\n",
              "      <td>8</td>\n",
              "      <td>0.018875</td>\n",
              "      <td>0.044761</td>\n",
              "      <td>0.964181</td>\n",
              "      <td>00:00</td>\n",
              "    </tr>\n",
              "    <tr>\n",
              "      <td>9</td>\n",
              "      <td>0.017871</td>\n",
              "      <td>0.040715</td>\n",
              "      <td>0.965653</td>\n",
              "      <td>00:00</td>\n",
              "    </tr>\n",
              "  </tbody>\n",
              "</table>"
            ],
            "text/plain": [
              "<IPython.core.display.HTML object>"
            ]
          },
          "metadata": {
            "tags": []
          }
        }
      ]
    },
    {
      "cell_type": "code",
      "metadata": {
        "id": "BOjk9xTWECNQ"
      },
      "source": [
        "# replacing linear network with a neural network\n",
        "\n",
        "def simple_net(xb):\n",
        "  res = xb@w1 +b1\n",
        "  res = res.max(tensor(0.0))\n",
        "  res = res@w2 + b2\n",
        "  return res"
      ],
      "execution_count": 228,
      "outputs": []
    },
    {
      "cell_type": "code",
      "metadata": {
        "id": "apUnwXWVEiqS"
      },
      "source": [
        "w1 = init_params((28*28,30))\n",
        "b1 = init_params(30)\n",
        "w2 = init_params((30,1))\n",
        "b2 = init_params(1)"
      ],
      "execution_count": 229,
      "outputs": []
    },
    {
      "cell_type": "code",
      "metadata": {
        "id": "TN2H8j_IFHMw"
      },
      "source": [
        "batch = train_x[:4]"
      ],
      "execution_count": 230,
      "outputs": []
    },
    {
      "cell_type": "code",
      "metadata": {
        "colab": {
          "base_uri": "https://localhost:8080/"
        },
        "id": "GM5kk3QZFqsu",
        "outputId": "7bdfbed3-c996-4c59-c439-bac144af05d1"
      },
      "source": [
        "batch@w1 + b1"
      ],
      "execution_count": 231,
      "outputs": [
        {
          "output_type": "execute_result",
          "data": {
            "text/plain": [
              "tensor([[  6.0530,  -3.9959,  -8.3862,   3.0164,  -4.7681,  18.9494, -10.1205,\n",
              "         -12.0606,  21.0993,  -2.4361,   4.9763,   0.4834, -12.6450,   5.6547,\n",
              "          -1.4482,  -6.7761,   6.9677,  11.7690,   9.0448, -22.4082,  -6.2205,\n",
              "           9.8017,  -2.3835,  -6.8834,   0.9278,  -7.7062,   8.5112,  -8.4190,\n",
              "          -5.6111,   5.6001],\n",
              "        [  7.2357,   3.5014, -12.0169,   0.3540,  -9.9059,  18.7359,  -4.1710,\n",
              "          -3.6084,  16.6124,   1.3146,   4.5148,   4.4567,  -9.6998,   5.1056,\n",
              "          10.7122,  -0.8163,   2.1887,   6.0516,   1.2753, -27.6143,  -7.8358,\n",
              "           3.2067,   7.8784,  -7.5244,   2.4783,  -8.2420,   5.4893,  -4.6035,\n",
              "          -6.0203,  17.6173],\n",
              "        [  3.0330,   6.3926,   1.1457,   3.6655,  -7.8650,  13.3932,  -3.1068,\n",
              "           1.7706,  22.2711,   4.7247,   0.7332,   6.4307,  -4.4750,   0.4154,\n",
              "           2.1858, -13.5359,   0.3127,   7.8165,  10.4410, -19.1528,  -8.1200,\n",
              "          11.4715,  -1.9683,  -8.6652,  11.6324,  -1.5499,   3.0173,  -1.3695,\n",
              "          -7.2584,   5.3759],\n",
              "        [  4.2013,   4.7490, -17.9503,   7.3430,  -5.1680,  21.1700,   0.4809,\n",
              "          -0.5703,  23.3473,   9.1163,   2.5310,   2.2046, -10.1227,  -3.0257,\n",
              "           9.8140, -13.0220,  11.0243,  10.7862,   2.7936, -23.1608,  -2.7288,\n",
              "          10.7198,   5.6403, -12.8630,   3.4484, -10.5678,   6.8423,  -1.0626,\n",
              "         -11.9203,  -2.6846]], grad_fn=<AddBackward0>)"
            ]
          },
          "metadata": {
            "tags": []
          },
          "execution_count": 231
        }
      ]
    },
    {
      "cell_type": "code",
      "metadata": {
        "colab": {
          "base_uri": "https://localhost:8080/"
        },
        "id": "tQ1rWWhfFvK4",
        "outputId": "7851fafe-639e-4c4d-e267-86de34061ce3"
      },
      "source": [
        "(batch@w1 + b1).max(tensor(2.0)) # tensor(2.0 seems to clams the min value)"
      ],
      "execution_count": 232,
      "outputs": [
        {
          "output_type": "execute_result",
          "data": {
            "text/plain": [
              "tensor([[ 6.0530,  2.0000,  2.0000,  3.0164,  2.0000, 18.9494,  2.0000,  2.0000,\n",
              "         21.0993,  2.0000,  4.9763,  2.0000,  2.0000,  5.6547,  2.0000,  2.0000,\n",
              "          6.9677, 11.7690,  9.0448,  2.0000,  2.0000,  9.8017,  2.0000,  2.0000,\n",
              "          2.0000,  2.0000,  8.5112,  2.0000,  2.0000,  5.6001],\n",
              "        [ 7.2357,  3.5014,  2.0000,  2.0000,  2.0000, 18.7359,  2.0000,  2.0000,\n",
              "         16.6124,  2.0000,  4.5148,  4.4567,  2.0000,  5.1056, 10.7122,  2.0000,\n",
              "          2.1887,  6.0516,  2.0000,  2.0000,  2.0000,  3.2067,  7.8784,  2.0000,\n",
              "          2.4783,  2.0000,  5.4893,  2.0000,  2.0000, 17.6173],\n",
              "        [ 3.0330,  6.3926,  2.0000,  3.6655,  2.0000, 13.3932,  2.0000,  2.0000,\n",
              "         22.2711,  4.7247,  2.0000,  6.4307,  2.0000,  2.0000,  2.1858,  2.0000,\n",
              "          2.0000,  7.8165, 10.4410,  2.0000,  2.0000, 11.4715,  2.0000,  2.0000,\n",
              "         11.6324,  2.0000,  3.0173,  2.0000,  2.0000,  5.3759],\n",
              "        [ 4.2013,  4.7490,  2.0000,  7.3430,  2.0000, 21.1700,  2.0000,  2.0000,\n",
              "         23.3473,  9.1163,  2.5310,  2.2046,  2.0000,  2.0000,  9.8140,  2.0000,\n",
              "         11.0243, 10.7862,  2.7936,  2.0000,  2.0000, 10.7198,  5.6403,  2.0000,\n",
              "          3.4484,  2.0000,  6.8423,  2.0000,  2.0000,  2.0000]],\n",
              "       grad_fn=<MaximumBackward>)"
            ]
          },
          "metadata": {
            "tags": []
          },
          "execution_count": 232
        }
      ]
    },
    {
      "cell_type": "code",
      "metadata": {
        "colab": {
          "base_uri": "https://localhost:8080/"
        },
        "id": "GkZSugW3GLLO",
        "outputId": "016769a7-9832-4c3c-acfe-cdf7ae537a64"
      },
      "source": [
        "(batch@w1 + b1)@w2 + b2"
      ],
      "execution_count": 233,
      "outputs": [
        {
          "output_type": "execute_result",
          "data": {
            "text/plain": [
              "tensor([[ 9.7324],\n",
              "        [21.6441],\n",
              "        [53.2299],\n",
              "        [ 8.8018]], grad_fn=<AddBackward0>)"
            ]
          },
          "metadata": {
            "tags": []
          },
          "execution_count": 233
        }
      ]
    },
    {
      "cell_type": "code",
      "metadata": {
        "colab": {
          "base_uri": "https://localhost:8080/"
        },
        "id": "-Je5nKLPGU0I",
        "outputId": "9988c7f4-9c4d-4cdb-9590-0693bd376cd6"
      },
      "source": [
        "((batch@w1 + b1).max(tensor(0.0)))@w2 + b2"
      ],
      "execution_count": 234,
      "outputs": [
        {
          "output_type": "execute_result",
          "data": {
            "text/plain": [
              "tensor([[-6.6039],\n",
              "        [ 0.7430],\n",
              "        [25.4589],\n",
              "        [-8.3153]], grad_fn=<AddBackward0>)"
            ]
          },
          "metadata": {
            "tags": []
          },
          "execution_count": 234
        }
      ]
    },
    {
      "cell_type": "code",
      "metadata": {
        "colab": {
          "base_uri": "https://localhost:8080/",
          "height": 265
        },
        "id": "RbFJ4qunGoxQ",
        "outputId": "e0cef9af-a905-405c-9cb2-c0aa53f53398"
      },
      "source": [
        "plot_function(F.relu)"
      ],
      "execution_count": 235,
      "outputs": [
        {
          "output_type": "display_data",
          "data": {
            "image/png": "[encoded data removed]",
            "text/plain": [
              "<Figure size 432x288 with 1 Axes>"
            ]
          },
          "metadata": {
            "tags": [],
            "needs_background": "light"
          }
        }
      ]
    },
    {
      "cell_type": "code",
      "metadata": {
        "id": "bZCPDDCeHKhO"
      },
      "source": [
        "# By \"virtue\" of universal approximation theram neural net can predict anything\n",
        "# in pytorch\n",
        "\n",
        "simple_net = nn.Sequential(\n",
        "    nn.Linear(28*28, 30),\n",
        "    nn.ReLU(),\n",
        "    nn.Linear(30,1)\n",
        ")"
      ],
      "execution_count": 236,
      "outputs": []
    },
    {
      "cell_type": "code",
      "metadata": {
        "id": "zBxYhghzIDUR"
      },
      "source": [
        "learn = Learner(dls,simple_net, opt_func=SGD, loss_func=mnist_loss, metrics=batch_accuracy)"
      ],
      "execution_count": 237,
      "outputs": []
    },
    {
      "cell_type": "code",
      "metadata": {
        "colab": {
          "base_uri": "https://localhost:8080/",
          "height": 1000
        },
        "id": "lyFxT7tuIPLj",
        "outputId": "694697b5-9be3-4c55-b6fd-979b8ce49248"
      },
      "source": [
        "learn.fit(160,0.01)"
      ],
      "execution_count": 238,
      "outputs": [
        {
          "output_type": "display_data",
          "data": {
            "text/html": [
              "<table border=\"1\" class=\"dataframe\">\n",
              "  <thead>\n",
              "    <tr style=\"text-align: left;\">\n",
              "      <th>epoch</th>\n",
              "      <th>train_loss</th>\n",
              "      <th>valid_loss</th>\n",
              "      <th>batch_accuracy</th>\n",
              "      <th>time</th>\n",
              "    </tr>\n",
              "  </thead>\n",
              "  <tbody>\n",
              "    <tr>\n",
              "      <td>0</td>\n",
              "      <td>0.493409</td>\n",
              "      <td>0.477030</td>\n",
              "      <td>0.828754</td>\n",
              "      <td>00:00</td>\n",
              "    </tr>\n",
              "    <tr>\n",
              "      <td>1</td>\n",
              "      <td>0.467019</td>\n",
              "      <td>0.441915</td>\n",
              "      <td>0.847890</td>\n",
              "      <td>00:00</td>\n",
              "    </tr>\n",
              "    <tr>\n",
              "      <td>2</td>\n",
              "      <td>0.426267</td>\n",
              "      <td>0.389679</td>\n",
              "      <td>0.875859</td>\n",
              "      <td>00:00</td>\n",
              "    </tr>\n",
              "    <tr>\n",
              "      <td>3</td>\n",
              "      <td>0.368196</td>\n",
              "      <td>0.321162</td>\n",
              "      <td>0.908243</td>\n",
              "      <td>00:00</td>\n",
              "    </tr>\n",
              "    <tr>\n",
              "      <td>4</td>\n",
              "      <td>0.300754</td>\n",
              "      <td>0.251607</td>\n",
              "      <td>0.930815</td>\n",
              "      <td>00:00</td>\n",
              "    </tr>\n",
              "    <tr>\n",
              "      <td>5</td>\n",
              "      <td>0.238215</td>\n",
              "      <td>0.195206</td>\n",
              "      <td>0.946025</td>\n",
              "      <td>00:00</td>\n",
              "    </tr>\n",
              "    <tr>\n",
              "      <td>6</td>\n",
              "      <td>0.188574</td>\n",
              "      <td>0.155607</td>\n",
              "      <td>0.954858</td>\n",
              "      <td>00:00</td>\n",
              "    </tr>\n",
              "    <tr>\n",
              "      <td>7</td>\n",
              "      <td>0.152374</td>\n",
              "      <td>0.129027</td>\n",
              "      <td>0.959274</td>\n",
              "      <td>00:00</td>\n",
              "    </tr>\n",
              "    <tr>\n",
              "      <td>8</td>\n",
              "      <td>0.126846</td>\n",
              "      <td>0.110887</td>\n",
              "      <td>0.959764</td>\n",
              "      <td>00:00</td>\n",
              "    </tr>\n",
              "    <tr>\n",
              "      <td>9</td>\n",
              "      <td>0.108834</td>\n",
              "      <td>0.098064</td>\n",
              "      <td>0.960255</td>\n",
              "      <td>00:00</td>\n",
              "    </tr>\n",
              "    <tr>\n",
              "      <td>10</td>\n",
              "      <td>0.095881</td>\n",
              "      <td>0.088649</td>\n",
              "      <td>0.962218</td>\n",
              "      <td>00:00</td>\n",
              "    </tr>\n",
              "    <tr>\n",
              "      <td>11</td>\n",
              "      <td>0.086303</td>\n",
              "      <td>0.081486</td>\n",
              "      <td>0.963199</td>\n",
              "      <td>00:00</td>\n",
              "    </tr>\n",
              "    <tr>\n",
              "      <td>12</td>\n",
              "      <td>0.079000</td>\n",
              "      <td>0.075873</td>\n",
              "      <td>0.964181</td>\n",
              "      <td>00:00</td>\n",
              "    </tr>\n",
              "    <tr>\n",
              "      <td>13</td>\n",
              "      <td>0.073268</td>\n",
              "      <td>0.071359</td>\n",
              "      <td>0.964671</td>\n",
              "      <td>00:00</td>\n",
              "    </tr>\n",
              "    <tr>\n",
              "      <td>14</td>\n",
              "      <td>0.068649</td>\n",
              "      <td>0.067650</td>\n",
              "      <td>0.965162</td>\n",
              "      <td>00:00</td>\n",
              "    </tr>\n",
              "    <tr>\n",
              "      <td>15</td>\n",
              "      <td>0.064840</td>\n",
              "      <td>0.064547</td>\n",
              "      <td>0.967125</td>\n",
              "      <td>00:00</td>\n",
              "    </tr>\n",
              "    <tr>\n",
              "      <td>16</td>\n",
              "      <td>0.061640</td>\n",
              "      <td>0.061910</td>\n",
              "      <td>0.967615</td>\n",
              "      <td>00:00</td>\n",
              "    </tr>\n",
              "    <tr>\n",
              "      <td>17</td>\n",
              "      <td>0.058906</td>\n",
              "      <td>0.059638</td>\n",
              "      <td>0.967615</td>\n",
              "      <td>00:00</td>\n",
              "    </tr>\n",
              "    <tr>\n",
              "      <td>18</td>\n",
              "      <td>0.056538</td>\n",
              "      <td>0.057658</td>\n",
              "      <td>0.967615</td>\n",
              "      <td>00:00</td>\n",
              "    </tr>\n",
              "    <tr>\n",
              "      <td>19</td>\n",
              "      <td>0.054462</td>\n",
              "      <td>0.055915</td>\n",
              "      <td>0.968106</td>\n",
              "      <td>00:00</td>\n",
              "    </tr>\n",
              "    <tr>\n",
              "      <td>20</td>\n",
              "      <td>0.052625</td>\n",
              "      <td>0.054368</td>\n",
              "      <td>0.968106</td>\n",
              "      <td>00:00</td>\n",
              "    </tr>\n",
              "    <tr>\n",
              "      <td>21</td>\n",
              "      <td>0.050983</td>\n",
              "      <td>0.052982</td>\n",
              "      <td>0.968597</td>\n",
              "      <td>00:00</td>\n",
              "    </tr>\n",
              "    <tr>\n",
              "      <td>22</td>\n",
              "      <td>0.049504</td>\n",
              "      <td>0.051732</td>\n",
              "      <td>0.969087</td>\n",
              "      <td>00:00</td>\n",
              "    </tr>\n",
              "    <tr>\n",
              "      <td>23</td>\n",
              "      <td>0.048164</td>\n",
              "      <td>0.050599</td>\n",
              "      <td>0.969087</td>\n",
              "      <td>00:00</td>\n",
              "    </tr>\n",
              "    <tr>\n",
              "      <td>24</td>\n",
              "      <td>0.046942</td>\n",
              "      <td>0.049565</td>\n",
              "      <td>0.969087</td>\n",
              "      <td>00:00</td>\n",
              "    </tr>\n",
              "    <tr>\n",
              "      <td>25</td>\n",
              "      <td>0.045822</td>\n",
              "      <td>0.048618</td>\n",
              "      <td>0.969087</td>\n",
              "      <td>00:00</td>\n",
              "    </tr>\n",
              "    <tr>\n",
              "      <td>26</td>\n",
              "      <td>0.044790</td>\n",
              "      <td>0.047746</td>\n",
              "      <td>0.969087</td>\n",
              "      <td>00:00</td>\n",
              "    </tr>\n",
              "    <tr>\n",
              "      <td>27</td>\n",
              "      <td>0.043835</td>\n",
              "      <td>0.046939</td>\n",
              "      <td>0.969578</td>\n",
              "      <td>00:00</td>\n",
              "    </tr>\n",
              "    <tr>\n",
              "      <td>28</td>\n",
              "      <td>0.042948</td>\n",
              "      <td>0.046191</td>\n",
              "      <td>0.969578</td>\n",
              "      <td>00:00</td>\n",
              "    </tr>\n",
              "    <tr>\n",
              "      <td>29</td>\n",
              "      <td>0.042121</td>\n",
              "      <td>0.045493</td>\n",
              "      <td>0.969578</td>\n",
              "      <td>00:00</td>\n",
              "    </tr>\n",
              "    <tr>\n",
              "      <td>30</td>\n",
              "      <td>0.041348</td>\n",
              "      <td>0.044842</td>\n",
              "      <td>0.969578</td>\n",
              "      <td>00:00</td>\n",
              "    </tr>\n",
              "    <tr>\n",
              "      <td>31</td>\n",
              "      <td>0.040622</td>\n",
              "      <td>0.044232</td>\n",
              "      <td>0.969578</td>\n",
              "      <td>00:00</td>\n",
              "    </tr>\n",
              "    <tr>\n",
              "      <td>32</td>\n",
              "      <td>0.039940</td>\n",
              "      <td>0.043659</td>\n",
              "      <td>0.970069</td>\n",
              "      <td>00:00</td>\n",
              "    </tr>\n",
              "    <tr>\n",
              "      <td>33</td>\n",
              "      <td>0.039296</td>\n",
              "      <td>0.043119</td>\n",
              "      <td>0.971541</td>\n",
              "      <td>00:00</td>\n",
              "    </tr>\n",
              "    <tr>\n",
              "      <td>34</td>\n",
              "      <td>0.038688</td>\n",
              "      <td>0.042609</td>\n",
              "      <td>0.972031</td>\n",
              "      <td>00:00</td>\n",
              "    </tr>\n",
              "    <tr>\n",
              "      <td>35</td>\n",
              "      <td>0.038112</td>\n",
              "      <td>0.042126</td>\n",
              "      <td>0.972031</td>\n",
              "      <td>00:00</td>\n",
              "    </tr>\n",
              "    <tr>\n",
              "      <td>36</td>\n",
              "      <td>0.037565</td>\n",
              "      <td>0.041669</td>\n",
              "      <td>0.972031</td>\n",
              "      <td>00:00</td>\n",
              "    </tr>\n",
              "    <tr>\n",
              "      <td>37</td>\n",
              "      <td>0.037045</td>\n",
              "      <td>0.041235</td>\n",
              "      <td>0.972031</td>\n",
              "      <td>00:00</td>\n",
              "    </tr>\n",
              "    <tr>\n",
              "      <td>38</td>\n",
              "      <td>0.036550</td>\n",
              "      <td>0.040821</td>\n",
              "      <td>0.972031</td>\n",
              "      <td>00:00</td>\n",
              "    </tr>\n",
              "    <tr>\n",
              "      <td>39</td>\n",
              "      <td>0.036078</td>\n",
              "      <td>0.040427</td>\n",
              "      <td>0.972522</td>\n",
              "      <td>00:00</td>\n",
              "    </tr>\n",
              "    <tr>\n",
              "      <td>40</td>\n",
              "      <td>0.035626</td>\n",
              "      <td>0.040051</td>\n",
              "      <td>0.972522</td>\n",
              "      <td>00:00</td>\n",
              "    </tr>\n",
              "    <tr>\n",
              "      <td>41</td>\n",
              "      <td>0.035195</td>\n",
              "      <td>0.039691</td>\n",
              "      <td>0.972522</td>\n",
              "      <td>00:00</td>\n",
              "    </tr>\n",
              "    <tr>\n",
              "      <td>42</td>\n",
              "      <td>0.034781</td>\n",
              "      <td>0.039347</td>\n",
              "      <td>0.972031</td>\n",
              "      <td>00:00</td>\n",
              "    </tr>\n",
              "    <tr>\n",
              "      <td>43</td>\n",
              "      <td>0.034384</td>\n",
              "      <td>0.039016</td>\n",
              "      <td>0.972031</td>\n",
              "      <td>00:00</td>\n",
              "    </tr>\n",
              "    <tr>\n",
              "      <td>44</td>\n",
              "      <td>0.034004</td>\n",
              "      <td>0.038699</td>\n",
              "      <td>0.972522</td>\n",
              "      <td>00:00</td>\n",
              "    </tr>\n",
              "    <tr>\n",
              "      <td>45</td>\n",
              "      <td>0.033637</td>\n",
              "      <td>0.038394</td>\n",
              "      <td>0.972522</td>\n",
              "      <td>00:00</td>\n",
              "    </tr>\n",
              "    <tr>\n",
              "      <td>46</td>\n",
              "      <td>0.033285</td>\n",
              "      <td>0.038101</td>\n",
              "      <td>0.972522</td>\n",
              "      <td>00:00</td>\n",
              "    </tr>\n",
              "    <tr>\n",
              "      <td>47</td>\n",
              "      <td>0.032946</td>\n",
              "      <td>0.037818</td>\n",
              "      <td>0.972522</td>\n",
              "      <td>00:00</td>\n",
              "    </tr>\n",
              "    <tr>\n",
              "      <td>48</td>\n",
              "      <td>0.032619</td>\n",
              "      <td>0.037546</td>\n",
              "      <td>0.972522</td>\n",
              "      <td>00:00</td>\n",
              "    </tr>\n",
              "    <tr>\n",
              "      <td>49</td>\n",
              "      <td>0.032303</td>\n",
              "      <td>0.037282</td>\n",
              "      <td>0.972522</td>\n",
              "      <td>00:00</td>\n",
              "    </tr>\n",
              "    <tr>\n",
              "      <td>50</td>\n",
              "      <td>0.031998</td>\n",
              "      <td>0.037028</td>\n",
              "      <td>0.972522</td>\n",
              "      <td>00:00</td>\n",
              "    </tr>\n",
              "    <tr>\n",
              "      <td>51</td>\n",
              "      <td>0.031703</td>\n",
              "      <td>0.036782</td>\n",
              "      <td>0.972522</td>\n",
              "      <td>00:00</td>\n",
              "    </tr>\n",
              "    <tr>\n",
              "      <td>52</td>\n",
              "      <td>0.031418</td>\n",
              "      <td>0.036544</td>\n",
              "      <td>0.972522</td>\n",
              "      <td>00:00</td>\n",
              "    </tr>\n",
              "    <tr>\n",
              "      <td>53</td>\n",
              "      <td>0.031142</td>\n",
              "      <td>0.036313</td>\n",
              "      <td>0.973013</td>\n",
              "      <td>00:00</td>\n",
              "    </tr>\n",
              "    <tr>\n",
              "      <td>54</td>\n",
              "      <td>0.030875</td>\n",
              "      <td>0.036090</td>\n",
              "      <td>0.973013</td>\n",
              "      <td>00:00</td>\n",
              "    </tr>\n",
              "    <tr>\n",
              "      <td>55</td>\n",
              "      <td>0.030616</td>\n",
              "      <td>0.035873</td>\n",
              "      <td>0.973013</td>\n",
              "      <td>00:00</td>\n",
              "    </tr>\n",
              "    <tr>\n",
              "      <td>56</td>\n",
              "      <td>0.030365</td>\n",
              "      <td>0.035662</td>\n",
              "      <td>0.973013</td>\n",
              "      <td>00:00</td>\n",
              "    </tr>\n",
              "    <tr>\n",
              "      <td>57</td>\n",
              "      <td>0.030121</td>\n",
              "      <td>0.035457</td>\n",
              "      <td>0.973013</td>\n",
              "      <td>00:00</td>\n",
              "    </tr>\n",
              "    <tr>\n",
              "      <td>58</td>\n",
              "      <td>0.029884</td>\n",
              "      <td>0.035258</td>\n",
              "      <td>0.973013</td>\n",
              "      <td>00:00</td>\n",
              "    </tr>\n",
              "    <tr>\n",
              "      <td>59</td>\n",
              "      <td>0.029654</td>\n",
              "      <td>0.035064</td>\n",
              "      <td>0.973013</td>\n",
              "      <td>00:00</td>\n",
              "    </tr>\n",
              "    <tr>\n",
              "      <td>60</td>\n",
              "      <td>0.029430</td>\n",
              "      <td>0.034875</td>\n",
              "      <td>0.973013</td>\n",
              "      <td>00:00</td>\n",
              "    </tr>\n",
              "    <tr>\n",
              "      <td>61</td>\n",
              "      <td>0.029213</td>\n",
              "      <td>0.034691</td>\n",
              "      <td>0.973013</td>\n",
              "      <td>00:00</td>\n",
              "    </tr>\n",
              "    <tr>\n",
              "      <td>62</td>\n",
              "      <td>0.029001</td>\n",
              "      <td>0.034512</td>\n",
              "      <td>0.973013</td>\n",
              "      <td>00:00</td>\n",
              "    </tr>\n",
              "    <tr>\n",
              "      <td>63</td>\n",
              "      <td>0.028795</td>\n",
              "      <td>0.034337</td>\n",
              "      <td>0.973013</td>\n",
              "      <td>00:00</td>\n",
              "    </tr>\n",
              "    <tr>\n",
              "      <td>64</td>\n",
              "      <td>0.028595</td>\n",
              "      <td>0.034167</td>\n",
              "      <td>0.973503</td>\n",
              "      <td>00:00</td>\n",
              "    </tr>\n",
              "    <tr>\n",
              "      <td>65</td>\n",
              "      <td>0.028399</td>\n",
              "      <td>0.034000</td>\n",
              "      <td>0.973503</td>\n",
              "      <td>00:00</td>\n",
              "    </tr>\n",
              "    <tr>\n",
              "      <td>66</td>\n",
              "      <td>0.028209</td>\n",
              "      <td>0.033838</td>\n",
              "      <td>0.973503</td>\n",
              "      <td>00:00</td>\n",
              "    </tr>\n",
              "    <tr>\n",
              "      <td>67</td>\n",
              "      <td>0.028023</td>\n",
              "      <td>0.033679</td>\n",
              "      <td>0.973013</td>\n",
              "      <td>00:00</td>\n",
              "    </tr>\n",
              "    <tr>\n",
              "      <td>68</td>\n",
              "      <td>0.027842</td>\n",
              "      <td>0.033524</td>\n",
              "      <td>0.973013</td>\n",
              "      <td>00:00</td>\n",
              "    </tr>\n",
              "    <tr>\n",
              "      <td>69</td>\n",
              "      <td>0.027665</td>\n",
              "      <td>0.033372</td>\n",
              "      <td>0.973013</td>\n",
              "      <td>00:00</td>\n",
              "    </tr>\n",
              "    <tr>\n",
              "      <td>70</td>\n",
              "      <td>0.027493</td>\n",
              "      <td>0.033223</td>\n",
              "      <td>0.973503</td>\n",
              "      <td>00:00</td>\n",
              "    </tr>\n",
              "    <tr>\n",
              "      <td>71</td>\n",
              "      <td>0.027324</td>\n",
              "      <td>0.033078</td>\n",
              "      <td>0.973503</td>\n",
              "      <td>00:00</td>\n",
              "    </tr>\n",
              "    <tr>\n",
              "      <td>72</td>\n",
              "      <td>0.027159</td>\n",
              "      <td>0.032935</td>\n",
              "      <td>0.973503</td>\n",
              "      <td>00:00</td>\n",
              "    </tr>\n",
              "    <tr>\n",
              "      <td>73</td>\n",
              "      <td>0.026998</td>\n",
              "      <td>0.032796</td>\n",
              "      <td>0.973994</td>\n",
              "      <td>00:00</td>\n",
              "    </tr>\n",
              "    <tr>\n",
              "      <td>74</td>\n",
              "      <td>0.026841</td>\n",
              "      <td>0.032659</td>\n",
              "      <td>0.974485</td>\n",
              "      <td>00:00</td>\n",
              "    </tr>\n",
              "    <tr>\n",
              "      <td>75</td>\n",
              "      <td>0.026687</td>\n",
              "      <td>0.032525</td>\n",
              "      <td>0.974485</td>\n",
              "      <td>00:00</td>\n",
              "    </tr>\n",
              "    <tr>\n",
              "      <td>76</td>\n",
              "      <td>0.026537</td>\n",
              "      <td>0.032393</td>\n",
              "      <td>0.974485</td>\n",
              "      <td>00:00</td>\n",
              "    </tr>\n",
              "    <tr>\n",
              "      <td>77</td>\n",
              "      <td>0.026389</td>\n",
              "      <td>0.032265</td>\n",
              "      <td>0.974485</td>\n",
              "      <td>00:00</td>\n",
              "    </tr>\n",
              "    <tr>\n",
              "      <td>78</td>\n",
              "      <td>0.026245</td>\n",
              "      <td>0.032138</td>\n",
              "      <td>0.974485</td>\n",
              "      <td>00:00</td>\n",
              "    </tr>\n",
              "    <tr>\n",
              "      <td>79</td>\n",
              "      <td>0.026104</td>\n",
              "      <td>0.032014</td>\n",
              "      <td>0.974975</td>\n",
              "      <td>00:00</td>\n",
              "    </tr>\n",
              "    <tr>\n",
              "      <td>80</td>\n",
              "      <td>0.025966</td>\n",
              "      <td>0.031892</td>\n",
              "      <td>0.974975</td>\n",
              "      <td>00:00</td>\n",
              "    </tr>\n",
              "    <tr>\n",
              "      <td>81</td>\n",
              "      <td>0.025831</td>\n",
              "      <td>0.031772</td>\n",
              "      <td>0.974975</td>\n",
              "      <td>00:00</td>\n",
              "    </tr>\n",
              "    <tr>\n",
              "      <td>82</td>\n",
              "      <td>0.025698</td>\n",
              "      <td>0.031655</td>\n",
              "      <td>0.974975</td>\n",
              "      <td>00:00</td>\n",
              "    </tr>\n",
              "    <tr>\n",
              "      <td>83</td>\n",
              "      <td>0.025568</td>\n",
              "      <td>0.031539</td>\n",
              "      <td>0.974975</td>\n",
              "      <td>00:00</td>\n",
              "    </tr>\n",
              "    <tr>\n",
              "      <td>84</td>\n",
              "      <td>0.025441</td>\n",
              "      <td>0.031426</td>\n",
              "      <td>0.975466</td>\n",
              "      <td>00:00</td>\n",
              "    </tr>\n",
              "    <tr>\n",
              "      <td>85</td>\n",
              "      <td>0.025316</td>\n",
              "      <td>0.031314</td>\n",
              "      <td>0.975466</td>\n",
              "      <td>00:00</td>\n",
              "    </tr>\n",
              "    <tr>\n",
              "      <td>86</td>\n",
              "      <td>0.025194</td>\n",
              "      <td>0.031205</td>\n",
              "      <td>0.975466</td>\n",
              "      <td>00:00</td>\n",
              "    </tr>\n",
              "    <tr>\n",
              "      <td>87</td>\n",
              "      <td>0.025073</td>\n",
              "      <td>0.031097</td>\n",
              "      <td>0.975466</td>\n",
              "      <td>00:00</td>\n",
              "    </tr>\n",
              "    <tr>\n",
              "      <td>88</td>\n",
              "      <td>0.024956</td>\n",
              "      <td>0.030991</td>\n",
              "      <td>0.975466</td>\n",
              "      <td>00:00</td>\n",
              "    </tr>\n",
              "    <tr>\n",
              "      <td>89</td>\n",
              "      <td>0.024840</td>\n",
              "      <td>0.030887</td>\n",
              "      <td>0.975466</td>\n",
              "      <td>00:00</td>\n",
              "    </tr>\n",
              "    <tr>\n",
              "      <td>90</td>\n",
              "      <td>0.024726</td>\n",
              "      <td>0.030784</td>\n",
              "      <td>0.975466</td>\n",
              "      <td>00:00</td>\n",
              "    </tr>\n",
              "    <tr>\n",
              "      <td>91</td>\n",
              "      <td>0.024615</td>\n",
              "      <td>0.030683</td>\n",
              "      <td>0.975466</td>\n",
              "      <td>00:00</td>\n",
              "    </tr>\n",
              "    <tr>\n",
              "      <td>92</td>\n",
              "      <td>0.024505</td>\n",
              "      <td>0.030584</td>\n",
              "      <td>0.975466</td>\n",
              "      <td>00:00</td>\n",
              "    </tr>\n",
              "    <tr>\n",
              "      <td>93</td>\n",
              "      <td>0.024398</td>\n",
              "      <td>0.030486</td>\n",
              "      <td>0.975466</td>\n",
              "      <td>00:00</td>\n",
              "    </tr>\n",
              "    <tr>\n",
              "      <td>94</td>\n",
              "      <td>0.024292</td>\n",
              "      <td>0.030390</td>\n",
              "      <td>0.975466</td>\n",
              "      <td>00:00</td>\n",
              "    </tr>\n",
              "    <tr>\n",
              "      <td>95</td>\n",
              "      <td>0.024188</td>\n",
              "      <td>0.030295</td>\n",
              "      <td>0.975466</td>\n",
              "      <td>00:00</td>\n",
              "    </tr>\n",
              "    <tr>\n",
              "      <td>96</td>\n",
              "      <td>0.024086</td>\n",
              "      <td>0.030201</td>\n",
              "      <td>0.975466</td>\n",
              "      <td>00:00</td>\n",
              "    </tr>\n",
              "    <tr>\n",
              "      <td>97</td>\n",
              "      <td>0.023986</td>\n",
              "      <td>0.030109</td>\n",
              "      <td>0.975466</td>\n",
              "      <td>00:00</td>\n",
              "    </tr>\n",
              "    <tr>\n",
              "      <td>98</td>\n",
              "      <td>0.023887</td>\n",
              "      <td>0.030018</td>\n",
              "      <td>0.975466</td>\n",
              "      <td>00:00</td>\n",
              "    </tr>\n",
              "    <tr>\n",
              "      <td>99</td>\n",
              "      <td>0.023790</td>\n",
              "      <td>0.029928</td>\n",
              "      <td>0.975466</td>\n",
              "      <td>00:00</td>\n",
              "    </tr>\n",
              "    <tr>\n",
              "      <td>100</td>\n",
              "      <td>0.023695</td>\n",
              "      <td>0.029840</td>\n",
              "      <td>0.974975</td>\n",
              "      <td>00:00</td>\n",
              "    </tr>\n",
              "    <tr>\n",
              "      <td>101</td>\n",
              "      <td>0.023601</td>\n",
              "      <td>0.029753</td>\n",
              "      <td>0.974975</td>\n",
              "      <td>00:00</td>\n",
              "    </tr>\n",
              "    <tr>\n",
              "      <td>102</td>\n",
              "      <td>0.023509</td>\n",
              "      <td>0.029667</td>\n",
              "      <td>0.974975</td>\n",
              "      <td>00:00</td>\n",
              "    </tr>\n",
              "    <tr>\n",
              "      <td>103</td>\n",
              "      <td>0.023418</td>\n",
              "      <td>0.029583</td>\n",
              "      <td>0.974975</td>\n",
              "      <td>00:00</td>\n",
              "    </tr>\n",
              "    <tr>\n",
              "      <td>104</td>\n",
              "      <td>0.023328</td>\n",
              "      <td>0.029499</td>\n",
              "      <td>0.974975</td>\n",
              "      <td>00:00</td>\n",
              "    </tr>\n",
              "    <tr>\n",
              "      <td>105</td>\n",
              "      <td>0.023240</td>\n",
              "      <td>0.029417</td>\n",
              "      <td>0.974975</td>\n",
              "      <td>00:00</td>\n",
              "    </tr>\n",
              "    <tr>\n",
              "      <td>106</td>\n",
              "      <td>0.023154</td>\n",
              "      <td>0.029336</td>\n",
              "      <td>0.974975</td>\n",
              "      <td>00:00</td>\n",
              "    </tr>\n",
              "    <tr>\n",
              "      <td>107</td>\n",
              "      <td>0.023068</td>\n",
              "      <td>0.029256</td>\n",
              "      <td>0.974975</td>\n",
              "      <td>00:00</td>\n",
              "    </tr>\n",
              "    <tr>\n",
              "      <td>108</td>\n",
              "      <td>0.022984</td>\n",
              "      <td>0.029177</td>\n",
              "      <td>0.974975</td>\n",
              "      <td>00:00</td>\n",
              "    </tr>\n",
              "    <tr>\n",
              "      <td>109</td>\n",
              "      <td>0.022901</td>\n",
              "      <td>0.029099</td>\n",
              "      <td>0.974975</td>\n",
              "      <td>00:00</td>\n",
              "    </tr>\n",
              "    <tr>\n",
              "      <td>110</td>\n",
              "      <td>0.022820</td>\n",
              "      <td>0.029022</td>\n",
              "      <td>0.974975</td>\n",
              "      <td>00:00</td>\n",
              "    </tr>\n",
              "    <tr>\n",
              "      <td>111</td>\n",
              "      <td>0.022739</td>\n",
              "      <td>0.028946</td>\n",
              "      <td>0.974975</td>\n",
              "      <td>00:00</td>\n",
              "    </tr>\n",
              "    <tr>\n",
              "      <td>112</td>\n",
              "      <td>0.022660</td>\n",
              "      <td>0.028871</td>\n",
              "      <td>0.974975</td>\n",
              "      <td>00:00</td>\n",
              "    </tr>\n",
              "    <tr>\n",
              "      <td>113</td>\n",
              "      <td>0.022582</td>\n",
              "      <td>0.028797</td>\n",
              "      <td>0.974975</td>\n",
              "      <td>00:00</td>\n",
              "    </tr>\n",
              "    <tr>\n",
              "      <td>114</td>\n",
              "      <td>0.022505</td>\n",
              "      <td>0.028723</td>\n",
              "      <td>0.974975</td>\n",
              "      <td>00:00</td>\n",
              "    </tr>\n",
              "    <tr>\n",
              "      <td>115</td>\n",
              "      <td>0.022429</td>\n",
              "      <td>0.028651</td>\n",
              "      <td>0.974975</td>\n",
              "      <td>00:00</td>\n",
              "    </tr>\n",
              "    <tr>\n",
              "      <td>116</td>\n",
              "      <td>0.022354</td>\n",
              "      <td>0.028580</td>\n",
              "      <td>0.974975</td>\n",
              "      <td>00:00</td>\n",
              "    </tr>\n",
              "    <tr>\n",
              "      <td>117</td>\n",
              "      <td>0.022281</td>\n",
              "      <td>0.028509</td>\n",
              "      <td>0.974975</td>\n",
              "      <td>00:00</td>\n",
              "    </tr>\n",
              "    <tr>\n",
              "      <td>118</td>\n",
              "      <td>0.022208</td>\n",
              "      <td>0.028439</td>\n",
              "      <td>0.974975</td>\n",
              "      <td>00:00</td>\n",
              "    </tr>\n",
              "    <tr>\n",
              "      <td>119</td>\n",
              "      <td>0.022136</td>\n",
              "      <td>0.028371</td>\n",
              "      <td>0.975466</td>\n",
              "      <td>00:00</td>\n",
              "    </tr>\n",
              "    <tr>\n",
              "      <td>120</td>\n",
              "      <td>0.022065</td>\n",
              "      <td>0.028303</td>\n",
              "      <td>0.975466</td>\n",
              "      <td>00:00</td>\n",
              "    </tr>\n",
              "    <tr>\n",
              "      <td>121</td>\n",
              "      <td>0.021995</td>\n",
              "      <td>0.028235</td>\n",
              "      <td>0.975466</td>\n",
              "      <td>00:00</td>\n",
              "    </tr>\n",
              "    <tr>\n",
              "      <td>122</td>\n",
              "      <td>0.021926</td>\n",
              "      <td>0.028169</td>\n",
              "      <td>0.975466</td>\n",
              "      <td>00:00</td>\n",
              "    </tr>\n",
              "    <tr>\n",
              "      <td>123</td>\n",
              "      <td>0.021858</td>\n",
              "      <td>0.028103</td>\n",
              "      <td>0.975466</td>\n",
              "      <td>00:00</td>\n",
              "    </tr>\n",
              "    <tr>\n",
              "      <td>124</td>\n",
              "      <td>0.021791</td>\n",
              "      <td>0.028038</td>\n",
              "      <td>0.975466</td>\n",
              "      <td>00:00</td>\n",
              "    </tr>\n",
              "    <tr>\n",
              "      <td>125</td>\n",
              "      <td>0.021725</td>\n",
              "      <td>0.027974</td>\n",
              "      <td>0.975466</td>\n",
              "      <td>00:00</td>\n",
              "    </tr>\n",
              "    <tr>\n",
              "      <td>126</td>\n",
              "      <td>0.021659</td>\n",
              "      <td>0.027910</td>\n",
              "      <td>0.975466</td>\n",
              "      <td>00:00</td>\n",
              "    </tr>\n",
              "    <tr>\n",
              "      <td>127</td>\n",
              "      <td>0.021595</td>\n",
              "      <td>0.027847</td>\n",
              "      <td>0.975957</td>\n",
              "      <td>00:00</td>\n",
              "    </tr>\n",
              "    <tr>\n",
              "      <td>128</td>\n",
              "      <td>0.021531</td>\n",
              "      <td>0.027785</td>\n",
              "      <td>0.976448</td>\n",
              "      <td>00:00</td>\n",
              "    </tr>\n",
              "    <tr>\n",
              "      <td>129</td>\n",
              "      <td>0.021468</td>\n",
              "      <td>0.027724</td>\n",
              "      <td>0.976448</td>\n",
              "      <td>00:00</td>\n",
              "    </tr>\n",
              "    <tr>\n",
              "      <td>130</td>\n",
              "      <td>0.021406</td>\n",
              "      <td>0.027663</td>\n",
              "      <td>0.976448</td>\n",
              "      <td>00:00</td>\n",
              "    </tr>\n",
              "    <tr>\n",
              "      <td>131</td>\n",
              "      <td>0.021344</td>\n",
              "      <td>0.027603</td>\n",
              "      <td>0.976448</td>\n",
              "      <td>00:00</td>\n",
              "    </tr>\n",
              "    <tr>\n",
              "      <td>132</td>\n",
              "      <td>0.021283</td>\n",
              "      <td>0.027543</td>\n",
              "      <td>0.976938</td>\n",
              "      <td>00:00</td>\n",
              "    </tr>\n",
              "    <tr>\n",
              "      <td>133</td>\n",
              "      <td>0.021223</td>\n",
              "      <td>0.027484</td>\n",
              "      <td>0.976938</td>\n",
              "      <td>00:00</td>\n",
              "    </tr>\n",
              "    <tr>\n",
              "      <td>134</td>\n",
              "      <td>0.021164</td>\n",
              "      <td>0.027426</td>\n",
              "      <td>0.976938</td>\n",
              "      <td>00:00</td>\n",
              "    </tr>\n",
              "    <tr>\n",
              "      <td>135</td>\n",
              "      <td>0.021105</td>\n",
              "      <td>0.027368</td>\n",
              "      <td>0.976938</td>\n",
              "      <td>00:00</td>\n",
              "    </tr>\n",
              "    <tr>\n",
              "      <td>136</td>\n",
              "      <td>0.021047</td>\n",
              "      <td>0.027311</td>\n",
              "      <td>0.977429</td>\n",
              "      <td>00:00</td>\n",
              "    </tr>\n",
              "    <tr>\n",
              "      <td>137</td>\n",
              "      <td>0.020990</td>\n",
              "      <td>0.027254</td>\n",
              "      <td>0.977429</td>\n",
              "      <td>00:00</td>\n",
              "    </tr>\n",
              "    <tr>\n",
              "      <td>138</td>\n",
              "      <td>0.020933</td>\n",
              "      <td>0.027198</td>\n",
              "      <td>0.977429</td>\n",
              "      <td>00:00</td>\n",
              "    </tr>\n",
              "    <tr>\n",
              "      <td>139</td>\n",
              "      <td>0.020877</td>\n",
              "      <td>0.027143</td>\n",
              "      <td>0.977920</td>\n",
              "      <td>00:00</td>\n",
              "    </tr>\n",
              "    <tr>\n",
              "      <td>140</td>\n",
              "      <td>0.020822</td>\n",
              "      <td>0.027088</td>\n",
              "      <td>0.978410</td>\n",
              "      <td>00:00</td>\n",
              "    </tr>\n",
              "    <tr>\n",
              "      <td>141</td>\n",
              "      <td>0.020767</td>\n",
              "      <td>0.027034</td>\n",
              "      <td>0.978410</td>\n",
              "      <td>00:00</td>\n",
              "    </tr>\n",
              "    <tr>\n",
              "      <td>142</td>\n",
              "      <td>0.020713</td>\n",
              "      <td>0.026980</td>\n",
              "      <td>0.978901</td>\n",
              "      <td>00:00</td>\n",
              "    </tr>\n",
              "    <tr>\n",
              "      <td>143</td>\n",
              "      <td>0.020659</td>\n",
              "      <td>0.026926</td>\n",
              "      <td>0.978901</td>\n",
              "      <td>00:00</td>\n",
              "    </tr>\n",
              "    <tr>\n",
              "      <td>144</td>\n",
              "      <td>0.020606</td>\n",
              "      <td>0.026873</td>\n",
              "      <td>0.978901</td>\n",
              "      <td>00:00</td>\n",
              "    </tr>\n",
              "    <tr>\n",
              "      <td>145</td>\n",
              "      <td>0.020554</td>\n",
              "      <td>0.026821</td>\n",
              "      <td>0.978901</td>\n",
              "      <td>00:00</td>\n",
              "    </tr>\n",
              "    <tr>\n",
              "      <td>146</td>\n",
              "      <td>0.020502</td>\n",
              "      <td>0.026769</td>\n",
              "      <td>0.978901</td>\n",
              "      <td>00:00</td>\n",
              "    </tr>\n",
              "    <tr>\n",
              "      <td>147</td>\n",
              "      <td>0.020451</td>\n",
              "      <td>0.026718</td>\n",
              "      <td>0.978901</td>\n",
              "      <td>00:00</td>\n",
              "    </tr>\n",
              "    <tr>\n",
              "      <td>148</td>\n",
              "      <td>0.020400</td>\n",
              "      <td>0.026667</td>\n",
              "      <td>0.978901</td>\n",
              "      <td>00:00</td>\n",
              "    </tr>\n",
              "    <tr>\n",
              "      <td>149</td>\n",
              "      <td>0.020350</td>\n",
              "      <td>0.026616</td>\n",
              "      <td>0.978901</td>\n",
              "      <td>00:00</td>\n",
              "    </tr>\n",
              "    <tr>\n",
              "      <td>150</td>\n",
              "      <td>0.020300</td>\n",
              "      <td>0.026566</td>\n",
              "      <td>0.978901</td>\n",
              "      <td>00:00</td>\n",
              "    </tr>\n",
              "    <tr>\n",
              "      <td>151</td>\n",
              "      <td>0.020251</td>\n",
              "      <td>0.026517</td>\n",
              "      <td>0.978901</td>\n",
              "      <td>00:00</td>\n",
              "    </tr>\n",
              "    <tr>\n",
              "      <td>152</td>\n",
              "      <td>0.020202</td>\n",
              "      <td>0.026468</td>\n",
              "      <td>0.978901</td>\n",
              "      <td>00:00</td>\n",
              "    </tr>\n",
              "    <tr>\n",
              "      <td>153</td>\n",
              "      <td>0.020154</td>\n",
              "      <td>0.026419</td>\n",
              "      <td>0.978901</td>\n",
              "      <td>00:00</td>\n",
              "    </tr>\n",
              "    <tr>\n",
              "      <td>154</td>\n",
              "      <td>0.020106</td>\n",
              "      <td>0.026371</td>\n",
              "      <td>0.978901</td>\n",
              "      <td>00:00</td>\n",
              "    </tr>\n",
              "    <tr>\n",
              "      <td>155</td>\n",
              "      <td>0.020059</td>\n",
              "      <td>0.026323</td>\n",
              "      <td>0.978901</td>\n",
              "      <td>00:00</td>\n",
              "    </tr>\n",
              "    <tr>\n",
              "      <td>156</td>\n",
              "      <td>0.020012</td>\n",
              "      <td>0.026276</td>\n",
              "      <td>0.978901</td>\n",
              "      <td>00:00</td>\n",
              "    </tr>\n",
              "    <tr>\n",
              "      <td>157</td>\n",
              "      <td>0.019966</td>\n",
              "      <td>0.026229</td>\n",
              "      <td>0.978901</td>\n",
              "      <td>00:00</td>\n",
              "    </tr>\n",
              "    <tr>\n",
              "      <td>158</td>\n",
              "      <td>0.019920</td>\n",
              "      <td>0.026182</td>\n",
              "      <td>0.978901</td>\n",
              "      <td>00:00</td>\n",
              "    </tr>\n",
              "    <tr>\n",
              "      <td>159</td>\n",
              "      <td>0.019875</td>\n",
              "      <td>0.026136</td>\n",
              "      <td>0.978901</td>\n",
              "      <td>00:00</td>\n",
              "    </tr>\n",
              "  </tbody>\n",
              "</table>"
            ],
            "text/plain": [
              "<IPython.core.display.HTML object>"
            ]
          },
          "metadata": {
            "tags": []
          }
        }
      ]
    },
    {
      "cell_type": "code",
      "metadata": {
        "colab": {
          "base_uri": "https://localhost:8080/",
          "height": 282
        },
        "id": "g7dILM77IX-r",
        "outputId": "63c9c66b-7b61-4d61-9cbe-e32d8ba1dee7"
      },
      "source": [
        "# learn.recorder is storing the output stored in values attribute\n",
        "\n",
        "plt.plot(L(learn.recorder.values).itemgot(2))\n",
        "\n",
        "# thsi is certainly quite strange !"
      ],
      "execution_count": 239,
      "outputs": [
        {
          "output_type": "execute_result",
          "data": {
            "text/plain": [
              "[<matplotlib.lines.Line2D at 0x7f0e9cbe44a8>]"
            ]
          },
          "metadata": {
            "tags": []
          },
          "execution_count": 239
        },
        {
          "output_type": "display_data",
          "data": {
            "image/png": "[encoded data removed]",
            "text/plain": [
              "<Figure size 432x288 with 1 Axes>"
            ]
          },
          "metadata": {
            "tags": [],
            "needs_background": "light"
          }
        }
      ]
    },
    {
      "cell_type": "code",
      "metadata": {
        "colab": {
          "base_uri": "https://localhost:8080/"
        },
        "id": "y2OacL5AIqbU",
        "outputId": "6b243506-4bad-4a84-ebd9-7d7be4a815c0"
      },
      "source": [
        "learn.recorder.values[-1][2]"
      ],
      "execution_count": 240,
      "outputs": [
        {
          "output_type": "execute_result",
          "data": {
            "text/plain": [
              "0.9789009094238281"
            ]
          },
          "metadata": {
            "tags": []
          },
          "execution_count": 240
        }
      ]
    },
    {
      "cell_type": "code",
      "metadata": {
        "id": "gIPtGf0VJVQA"
      },
      "source": [
        "# lets look at resnet 18 what it is using\n",
        "\n",
        "from fastai.vision.all import resnet18"
      ],
      "execution_count": 241,
      "outputs": []
    },
    {
      "cell_type": "code",
      "metadata": {
        "colab": {
          "base_uri": "https://localhost:8080/"
        },
        "id": "RpTMGG6yJoO8",
        "outputId": "b80c484f-50f8-4790-de4b-e7103b72a46a"
      },
      "source": [
        "resnet18"
      ],
      "execution_count": 242,
      "outputs": [
        {
          "output_type": "execute_result",
          "data": {
            "text/plain": [
              "<function torchvision.models.resnet.resnet18>"
            ]
          },
          "metadata": {
            "tags": []
          },
          "execution_count": 242
        }
      ]
    },
    {
      "cell_type": "code",
      "metadata": {
        "colab": {
          "base_uri": "https://localhost:8080/"
        },
        "id": "dHHCTxFmKl2F",
        "outputId": "66e6c74e-1fbb-46d1-ef1f-05db5b5431fb"
      },
      "source": [
        "import dis\n",
        "\n",
        "dis.dis(resnet18)"
      ],
      "execution_count": 243,
      "outputs": [
        {
          "output_type": "stream",
          "text": [
            "240           0 LOAD_GLOBAL              0 (_resnet)\n",
            "              2 LOAD_CONST               1 ('resnet18')\n",
            "              4 LOAD_GLOBAL              1 (BasicBlock)\n",
            "              6 LOAD_CONST               2 (2)\n",
            "              8 LOAD_CONST               2 (2)\n",
            "             10 LOAD_CONST               2 (2)\n",
            "             12 LOAD_CONST               2 (2)\n",
            "             14 BUILD_LIST               4\n",
            "             16 LOAD_FAST                0 (pretrained)\n",
            "             18 LOAD_FAST                1 (progress)\n",
            "             20 BUILD_TUPLE              5\n",
            "\n",
            "241          22 LOAD_FAST                2 (kwargs)\n",
            "             24 CALL_FUNCTION_EX         1\n",
            "             26 RETURN_VALUE\n"
          ],
          "name": "stdout"
        }
      ]
    },
    {
      "cell_type": "code",
      "metadata": {
        "colab": {
          "base_uri": "https://localhost:8080/",
          "height": 119
        },
        "id": "Cs80oFUVK0VM",
        "outputId": "10113709-2914-4f6e-fdd1-7c2616a316b6"
      },
      "source": [
        "import inspect\n",
        "inspect.getsource(resnet18)"
      ],
      "execution_count": 244,
      "outputs": [
        {
          "output_type": "execute_result",
          "data": {
            "application/vnd.google.colaboratory.intrinsic+json": {
              "type": "string"
            },
            "text/plain": [
              "'def resnet18(pretrained=False, progress=True, **kwargs):\\n    r\"\"\"ResNet-18 model from\\n    `\"Deep Residual Learning for Image Recognition\" <https://arxiv.org/pdf/1512.03385.pdf>`_\\n\\n    Args:\\n        pretrained (bool): If True, returns a model pre-trained on ImageNet\\n        progress (bool): If True, displays a progress bar of the download to stderr\\n    \"\"\"\\n    return _resnet(\\'resnet18\\', BasicBlock, [2, 2, 2, 2], pretrained, progress,\\n                   **kwargs)\\n'"
            ]
          },
          "metadata": {
            "tags": []
          },
          "execution_count": 244
        }
      ]
    },
    {
      "cell_type": "code",
      "metadata": {
        "id": "EmUPhBfAMVY_"
      },
      "source": [
        "from fastai.vision.all import accuracy"
      ],
      "execution_count": 245,
      "outputs": []
    },
    {
      "cell_type": "code",
      "metadata": {
        "id": "i-sbxLIgN1-o"
      },
      "source": [
        "from fastai.vision.all import cnn_learner"
      ],
      "execution_count": 246,
      "outputs": []
    },
    {
      "cell_type": "code",
      "metadata": {
        "id": "J4llTKKxOGRm"
      },
      "source": [
        "from fastai.vision.all import ImageDataLoaders"
      ],
      "execution_count": 247,
      "outputs": []
    },
    {
      "cell_type": "code",
      "metadata": {
        "id": "JzxPokwxOBQ2"
      },
      "source": [
        "dls = ImageDataLoaders.from_folder(path)"
      ],
      "execution_count": 248,
      "outputs": []
    },
    {
      "cell_type": "code",
      "metadata": {
        "colab": {
          "base_uri": "https://localhost:8080/",
          "height": 102,
          "referenced_widgets": [
            "000191eb0f624552b445f19c059cbe9c",
            "faf5a9322d6b4b73b0a90bfe08496ada",
            "32d10157c5654585bf2d4c105c0f7fbd",
            "6baa2822cab34425912b3bcec18ae1d1",
            "4642803258944bae92c72b9c3acb7032",
            "de14af54690d4037a28f56760b4e1b31",
            "e7701faee98542cea86df82d5af29fe4",
            "4afa1aa236484176a73e1b2bfe6e7dbd"
          ]
        },
        "id": "A0M4dN_6LZPw",
        "outputId": "06a59b9b-0598-4d2e-e397-6dae2c7b13ec"
      },
      "source": [
        "learn = cnn_learner(dls, resnet18, opt_func=SGD, loss_func=F.cross_entropy, metrics=accuracy)\n"
      ],
      "execution_count": 249,
      "outputs": [
        {
          "output_type": "stream",
          "text": [
            "Downloading: \"https://download.pytorch.org/models/resnet18-5c106cde.pth\" to /root/.cache/torch/hub/checkpoints/resnet18-5c106cde.pth\n"
          ],
          "name": "stderr"
        },
        {
          "output_type": "display_data",
          "data": {
            "application/vnd.jupyter.widget-view+json": {
              "model_id": "000191eb0f624552b445f19c059cbe9c",
              "version_minor": 0,
              "version_major": 2
            },
            "text/plain": [
              "HBox(children=(FloatProgress(value=0.0, max=46827520.0), HTML(value='')))"
            ]
          },
          "metadata": {
            "tags": []
          }
        },
        {
          "output_type": "stream",
          "text": [
            "\n"
          ],
          "name": "stdout"
        }
      ]
    },
    {
      "cell_type": "code",
      "metadata": {
        "colab": {
          "base_uri": "https://localhost:8080/",
          "height": 77
        },
        "id": "xPPBqmz3OMXz",
        "outputId": "94bab406-f9c9-461f-ff32-1bf663c97af9"
      },
      "source": [
        "learn.fit(1,0.1)\n",
        "\n",
        "# wow"
      ],
      "execution_count": 250,
      "outputs": [
        {
          "output_type": "display_data",
          "data": {
            "text/html": [
              "<table border=\"1\" class=\"dataframe\">\n",
              "  <thead>\n",
              "    <tr style=\"text-align: left;\">\n",
              "      <th>epoch</th>\n",
              "      <th>train_loss</th>\n",
              "      <th>valid_loss</th>\n",
              "      <th>accuracy</th>\n",
              "      <th>time</th>\n",
              "    </tr>\n",
              "  </thead>\n",
              "  <tbody>\n",
              "    <tr>\n",
              "      <td>0</td>\n",
              "      <td>0.063359</td>\n",
              "      <td>0.013708</td>\n",
              "      <td>0.995584</td>\n",
              "      <td>00:15</td>\n",
              "    </tr>\n",
              "  </tbody>\n",
              "</table>"
            ],
            "text/plain": [
              "<IPython.core.display.HTML object>"
            ]
          },
          "metadata": {
            "tags": []
          }
        }
      ]
    },
    {
      "cell_type": "code",
      "metadata": {
        "colab": {
          "base_uri": "https://localhost:8080/",
          "height": 315
        },
        "id": "XKU6F09BOkvn",
        "outputId": "b1341d7e-75c0-42be-e8ab-48fa29caa344"
      },
      "source": [
        "plt.plot(L(learn.recorder.values))\n",
        "\n",
        "# nothing because one epoch ?"
      ],
      "execution_count": 251,
      "outputs": [
        {
          "output_type": "execute_result",
          "data": {
            "text/plain": [
              "[<matplotlib.lines.Line2D at 0x7f0e9df09a58>,\n",
              " <matplotlib.lines.Line2D at 0x7f0e9df099b0>,\n",
              " <matplotlib.lines.Line2D at 0x7f0e9ccdd630>]"
            ]
          },
          "metadata": {
            "tags": []
          },
          "execution_count": 251
        },
        {
          "output_type": "display_data",
          "data": {
            "image/png": "[encoded data removed]",
            "text/plain": [
              "<Figure size 432x288 with 1 Axes>"
            ]
          },
          "metadata": {
            "tags": [],
            "needs_background": "light"
          }
        }
      ]
    },
    {
      "cell_type": "code",
      "metadata": {
        "colab": {
          "base_uri": "https://localhost:8080/",
          "height": 45
        },
        "id": "di7tmFNGP3ZM",
        "outputId": "ed7322d8-7303-46f5-ec53-d7a3e1821808"
      },
      "source": [
        "Image.open(im3_path)"
      ],
      "execution_count": 252,
      "outputs": [
        {
          "output_type": "execute_result",
          "data": {
            "image/png": "[encoded data removed]",
            "text/plain": [
              "<PIL.PngImagePlugin.PngImageFile image mode=L size=28x28 at 0x7F0E9DDFFCC0>"
            ]
          },
          "metadata": {
            "tags": []
          },
          "execution_count": 252
        }
      ]
    },
    {
      "cell_type": "code",
      "metadata": {
        "colab": {
          "base_uri": "https://localhost:8080/"
        },
        "id": "ravwkP-fQur1",
        "outputId": "b996342e-9bfb-446a-d900-c7d3ad328fc3"
      },
      "source": [
        "num = range(20)\n",
        "\n",
        "[2*x if x%2!=0 else x for x in num]\n",
        "\n",
        "# [x+1 if x >= 45 else x+5 for x in l]"
      ],
      "execution_count": 253,
      "outputs": [
        {
          "output_type": "execute_result",
          "data": {
            "text/plain": [
              "[0, 2, 2, 6, 4, 10, 6, 14, 8, 18, 10, 22, 12, 26, 14, 30, 16, 34, 18, 38]"
            ]
          },
          "metadata": {
            "tags": []
          },
          "execution_count": 253
        }
      ]
    },
    {
      "cell_type": "code",
      "metadata": {
        "id": "pNYatmXFTQrh"
      },
      "source": [
        "new_array = tensor((torch.randn(1,1,9)*10))"
      ],
      "execution_count": 254,
      "outputs": []
    },
    {
      "cell_type": "code",
      "metadata": {
        "colab": {
          "base_uri": "https://localhost:8080/"
        },
        "id": "dWgxQNDBWV0h",
        "outputId": "9f563df3-3aa8-4eb9-cb1d-3c43ea512abb"
      },
      "source": [
        "new_array"
      ],
      "execution_count": 255,
      "outputs": [
        {
          "output_type": "execute_result",
          "data": {
            "text/plain": [
              "tensor([[[ -1.7343,   9.3831,   7.2425,  14.3334,  16.5714,   5.8990, -11.4211,\n",
              "          -12.1688,  -1.3206]]])"
            ]
          },
          "metadata": {
            "tags": []
          },
          "execution_count": 255
        }
      ]
    },
    {
      "cell_type": "code",
      "metadata": {
        "colab": {
          "base_uri": "https://localhost:8080/"
        },
        "id": "vC5gqMpDWpiO",
        "outputId": "2b4dc1ad-a668-461d-a405-d5cf0af9ded4"
      },
      "source": [
        "new_array.shape"
      ],
      "execution_count": 256,
      "outputs": [
        {
          "output_type": "execute_result",
          "data": {
            "text/plain": [
              "torch.Size([1, 1, 9])"
            ]
          },
          "metadata": {
            "tags": []
          },
          "execution_count": 256
        }
      ]
    },
    {
      "cell_type": "code",
      "metadata": {
        "colab": {
          "base_uri": "https://localhost:8080/"
        },
        "id": "C_SbBrYRXezQ",
        "outputId": "3ba0128b-ec92-4715-fb5b-48914ebf57fa"
      },
      "source": [
        "(new_array*2)[0][0][-4:]"
      ],
      "execution_count": 257,
      "outputs": [
        {
          "output_type": "execute_result",
          "data": {
            "text/plain": [
              "tensor([ 11.7981, -22.8421, -24.3377,  -2.6412])"
            ]
          },
          "metadata": {
            "tags": []
          },
          "execution_count": 257
        }
      ]
    },
    {
      "cell_type": "code",
      "metadata": {
        "id": "yHcJp3U7XhoG",
        "colab": {
          "base_uri": "https://localhost:8080/"
        },
        "outputId": "3d45f671-f817-4620-ea4f-1c12b339eb99"
      },
      "source": [
        "def a(arg1, arg2):\n",
        "  return list(zip(arg1,arg2))\n",
        "\n",
        "a([1,2,3,4],['a','b','c','d'])"
      ],
      "execution_count": 259,
      "outputs": [
        {
          "output_type": "execute_result",
          "data": {
            "text/plain": [
              "[(1, 'a'), (2, 'b'), (3, 'c'), (4, 'd')]"
            ]
          },
          "metadata": {
            "tags": []
          },
          "execution_count": 259
        }
      ]
    },
    {
      "cell_type": "code",
      "metadata": {
        "id": "O8HBIU6mydY0"
      },
      "source": [
        "def train_model_1(n, xb, yb, model, weight):\n",
        "  for i in range(n):\n",
        "    pred = model(xb)\n",
        "    pred = pred.sigmoid()\n",
        "    loss = (pred - yb).mean()\n",
        "    loss.backward()\n",
        "    lr = 0.1\n",
        "    weight.data -= weight.grad * lr\n",
        "    weight.data.zero_()"
      ],
      "execution_count": 263,
      "outputs": []
    },
    {
      "cell_type": "code",
      "metadata": {
        "id": "RGfYdV6a0Z3Q"
      },
      "source": [
        "train_model_1(4, train_x, train_y, linear1, weight)"
      ],
      "execution_count": 264,
      "outputs": []
    },
    {
      "cell_type": "code",
      "metadata": {
        "colab": {
          "base_uri": "https://localhost:8080/",
          "height": 282
        },
        "id": "-n2NvN260-WC",
        "outputId": "e8b9b712-ffa6-48bf-d7e1-58d0fdb48734"
      },
      "source": [
        "def relu_mine(a):\n",
        "  return a.max(tensor(0.0))\n",
        "\n",
        "print(relu_mine(tensor([1,2,-3,4])))\n",
        "\n",
        "\n",
        "plot_function(relu_mine, min=-2, max=2)"
      ],
      "execution_count": 277,
      "outputs": [
        {
          "output_type": "stream",
          "text": [
            "tensor([1., 2., 0., 4.])\n"
          ],
          "name": "stdout"
        },
        {
          "output_type": "display_data",
          "data": {
            "image/png": "[encoded data removed]",
            "text/plain": [
              "<Figure size 432x288 with 1 Axes>"
            ]
          },
          "metadata": {
            "tags": [],
            "needs_background": "light"
          }
        }
      ]
    },
    {
      "cell_type": "code",
      "metadata": {
        "colab": {
          "base_uri": "https://localhost:8080/",
          "height": 265
        },
        "id": "h3Kzr9eC3vez",
        "outputId": "6954c9bc-0f8a-4dd8-e6f4-c9e2f4716070"
      },
      "source": [
        "plot_function(F.relu)"
      ],
      "execution_count": 278,
      "outputs": [
        {
          "output_type": "display_data",
          "data": {
            "image/png": "[encoded data removed]",
            "text/plain": [
              "<Figure size 432x288 with 1 Axes>"
            ]
          },
          "metadata": {
            "tags": [],
            "needs_background": "light"
          }
        }
      ]
    },
    {
      "cell_type": "code",
      "metadata": {
        "colab": {
          "base_uri": "https://localhost:8080/",
          "height": 286
        },
        "id": "hVEN8oQ23zfr",
        "outputId": "efb139e6-d256-48fd-96c2-b18b457a3ac0"
      },
      "source": [
        "try:\n",
        "  plot_function(nn.ReLU)\n",
        "except Exception as e:\n",
        "  print(e)"
      ],
      "execution_count": 282,
      "outputs": [
        {
          "output_type": "stream",
          "text": [
            "x and y must have same first dimension, but have shapes torch.Size([100]) and (1,)\n"
          ],
          "name": "stdout"
        },
        {
          "output_type": "display_data",
          "data": {
            "image/png": "[encoded data removed]",
            "text/plain": [
              "<Figure size 432x288 with 1 Axes>"
            ]
          },
          "metadata": {
            "tags": [],
            "needs_background": "light"
          }
        }
      ]
    }
  ]
}